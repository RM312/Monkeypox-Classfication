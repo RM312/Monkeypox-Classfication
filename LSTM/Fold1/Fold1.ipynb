{
 "cells": [
  {
   "cell_type": "code",
   "execution_count": 1,
   "id": "cbf72467-0c8b-4c09-a01c-a61093a23922",
   "metadata": {},
   "outputs": [],
   "source": [
    "import tensorflow as tf\n",
    "from tensorflow.keras.preprocessing.image import ImageDataGenerator\n",
    "from tensorflow.compat.v1 import ConfigProto\n",
    "from tensorflow.compat.v1 import InteractiveSession\n",
    "import matplotlib.pyplot as plt"
   ]
  },
  {
   "cell_type": "code",
   "execution_count": 2,
   "id": "89960c0b-254e-4ba7-8509-d4079614fd48",
   "metadata": {},
   "outputs": [],
   "source": [
    "# GPU Configuration\n",
    "config = ConfigProto()\n",
    "config.gpu_options.per_process_gpu_memory_fraction = 0.5\n",
    "config.gpu_options.allow_growth = True\n",
    "session = InteractiveSession(config=config)"
   ]
  },
  {
   "cell_type": "code",
   "execution_count": 3,
   "id": "2d56a8e4-bd62-4224-a838-a52463fdae9d",
   "metadata": {},
   "outputs": [],
   "source": [
    "# Data Augmentation for Training\n",
    "train_datagen = ImageDataGenerator(rescale=1./255,\n",
    "                                   shear_range=0.2,\n",
    "                                   zoom_range=0.2,\n",
    "                                   horizontal_flip=True)"
   ]
  },
  {
   "cell_type": "code",
   "execution_count": 4,
   "id": "d069fc22-5961-44eb-bef3-2d8be567858c",
   "metadata": {},
   "outputs": [
    {
     "name": "stdout",
     "output_type": "stream",
     "text": [
      "Found 7518 images belonging to 6 classes.\n"
     ]
    }
   ],
   "source": [
    "training_set = train_datagen.flow_from_directory(\n",
    "    \"Monkeypox/archive (60)/Augmented Images/Augmented Images/FOLDS_AUG/fold1_AUG/Train/\",\n",
    "    target_size=(64, 64),\n",
    "    batch_size=32,\n",
    "    class_mode='categorical',  # Use 'categorical' for one-hot encoded labels\n",
    ")"
   ]
  },
  {
   "cell_type": "code",
   "execution_count": 5,
   "id": "b50f7489-ac0d-4e80-881c-64946bf846f2",
   "metadata": {},
   "outputs": [
    {
     "name": "stdout",
     "output_type": "stream",
     "text": [
      "Found 7518 images belonging to 6 classes.\n"
     ]
    }
   ],
   "source": [
    "test_datagen = ImageDataGenerator(rescale=1./255)\n",
    "validation_set = test_datagen.flow_from_directory(\n",
    "    \"Monkeypox/archive (60)/Augmented Images/Augmented Images/FOLDS_AUG/fold1_AUG/Train/\",\n",
    "    target_size=(64, 64),\n",
    "    batch_size=32,\n",
    "    class_mode='categorical',  # Use 'categorical' for one-hot encoded labels\n",
    ")"
   ]
  },
  {
   "cell_type": "code",
   "execution_count": 6,
   "id": "df76c314-90cf-457d-9dac-7210958cfda3",
   "metadata": {},
   "outputs": [],
   "source": [
    "# Custom F1 Score Metric\n",
    "class F1Score(tf.keras.metrics.Metric):\n",
    "    def __init__(self, name='f1_score', **kwargs):\n",
    "        super(F1Score, self).__init__(name=name, **kwargs)\n",
    "        self.precision = tf.keras.metrics.Precision()\n",
    "        self.recall = tf.keras.metrics.Recall()\n",
    "\n",
    "    def update_state(self, y_true, y_pred, sample_weight=None):\n",
    "        # Update the precision and recall for each batch\n",
    "        self.precision.update_state(y_true, y_pred, sample_weight)\n",
    "        self.recall.update_state(y_true, y_pred, sample_weight)\n",
    "\n",
    "    def result(self):\n",
    "        # Calculate F1 score as the harmonic mean of precision and recall\n",
    "        precision = self.precision.result()\n",
    "        recall = self.recall.result()\n",
    "        return 2 * (precision * recall) / (precision + recall + tf.keras.backend.epsilon())\n",
    "\n",
    "    def reset_states(self):\n",
    "        self.precision.reset_states()\n",
    "        self.recall.reset_states()"
   ]
  },
  {
   "cell_type": "code",
   "execution_count": 7,
   "id": "27ad49c6-6193-4258-9933-2236206efbe8",
   "metadata": {},
   "outputs": [],
   "source": [
    "# Build the CNN-LSTM Model\n",
    "cnn_lstm = tf.keras.models.Sequential()"
   ]
  },
  {
   "cell_type": "code",
   "execution_count": 8,
   "id": "e9e43025-7e1c-4861-b742-e0fb75a5a73b",
   "metadata": {},
   "outputs": [
    {
     "name": "stderr",
     "output_type": "stream",
     "text": [
      "C:\\Users\\KIIT\\AppData\\Local\\Programs\\Python\\Python312\\Lib\\site-packages\\keras\\src\\layers\\convolutional\\base_conv.py:107: UserWarning: Do not pass an `input_shape`/`input_dim` argument to a layer. When using Sequential models, prefer using an `Input(shape)` object as the first layer in the model instead.\n",
      "  super().__init__(activity_regularizer=activity_regularizer, **kwargs)\n"
     ]
    }
   ],
   "source": [
    "# CNN Layers for Feature Extraction\n",
    "cnn_lstm.add(tf.keras.layers.Conv2D(filters=32, kernel_size=3, activation='relu', strides=2, padding=\"same\", input_shape=[64, 64, 3]))\n",
    "cnn_lstm.add(tf.keras.layers.MaxPool2D(pool_size=2, strides=2))\n",
    "cnn_lstm.add(tf.keras.layers.Conv2D(filters=64, kernel_size=3, activation='relu', padding='same'))\n",
    "cnn_lstm.add(tf.keras.layers.MaxPool2D(pool_size=2, strides=2))"
   ]
  },
  {
   "cell_type": "code",
   "execution_count": 9,
   "id": "78b5286d-3361-4c98-ad74-b00cc46ee64e",
   "metadata": {},
   "outputs": [],
   "source": [
    "# Flatten and Reshape for LSTM\n",
    "cnn_lstm.add(tf.keras.layers.Flatten())\n",
    "cnn_lstm.add(tf.keras.layers.Reshape((16, -1)))  # Reshape to (time_steps, features)"
   ]
  },
  {
   "cell_type": "code",
   "execution_count": 10,
   "id": "48c477fc-6e30-429b-a183-75d44b4472ac",
   "metadata": {},
   "outputs": [],
   "source": [
    "# LSTM Layer\n",
    "cnn_lstm.add(tf.keras.layers.LSTM(units=64, activation='tanh', return_sequences=False))"
   ]
  },
  {
   "cell_type": "code",
   "execution_count": 11,
   "id": "4757e6f7-1b7a-4b8a-983e-c083e794e6eb",
   "metadata": {},
   "outputs": [],
   "source": [
    "# Fully Connected Layers\n",
    "cnn_lstm.add(tf.keras.layers.Dense(units=128, activation='relu'))\n",
    "cnn_lstm.add(tf.keras.layers.Dense(6, activation='softmax'))  # 6 classes"
   ]
  },
  {
   "cell_type": "code",
   "execution_count": 12,
   "id": "e5ad5d32-4bc6-4b0d-a84e-e3fa0cfd35f5",
   "metadata": {},
   "outputs": [],
   "source": [
    "# Compile the model with Precision, Recall, and F1 Score\n",
    "cnn_lstm.compile(\n",
    "    optimizer='adam',\n",
    "    loss='categorical_crossentropy',  # Use categorical_crossentropy for one-hot encoded labels\n",
    "    metrics=[\n",
    "        'accuracy',\n",
    "        tf.keras.metrics.Precision(name='precision'),\n",
    "        tf.keras.metrics.Recall(name='recall'),\n",
    "        F1Score(name='f1_score')  # Add custom F1 score metric\n",
    "    ]\n",
    ")"
   ]
  },
  {
   "cell_type": "code",
   "execution_count": 13,
   "id": "36d8c7cd-2140-476a-9286-d3fe0f132350",
   "metadata": {},
   "outputs": [
    {
     "name": "stderr",
     "output_type": "stream",
     "text": [
      "C:\\Users\\KIIT\\AppData\\Local\\Programs\\Python\\Python312\\Lib\\site-packages\\keras\\src\\trainers\\data_adapters\\py_dataset_adapter.py:121: UserWarning: Your `PyDataset` class should call `super().__init__(**kwargs)` in its constructor. `**kwargs` can include `workers`, `use_multiprocessing`, `max_queue_size`. Do not pass these arguments to `fit()`, as they will be ignored.\n",
      "  self._warn_if_super_not_called()\n"
     ]
    },
    {
     "name": "stdout",
     "output_type": "stream",
     "text": [
      "Epoch 1/100\n",
      "\u001b[1m235/235\u001b[0m \u001b[32m━━━━━━━━━━━━━━━━━━━━\u001b[0m\u001b[37m\u001b[0m \u001b[1m0s\u001b[0m 203ms/step - accuracy: 0.3591 - f1_score: 0.0280 - loss: 1.6298 - precision: 0.2834 - recall: 0.0149"
     ]
    },
    {
     "name": "stderr",
     "output_type": "stream",
     "text": [
      "C:\\Users\\KIIT\\AppData\\Local\\Programs\\Python\\Python312\\Lib\\site-packages\\keras\\src\\trainers\\data_adapters\\py_dataset_adapter.py:121: UserWarning: Your `PyDataset` class should call `super().__init__(**kwargs)` in its constructor. `**kwargs` can include `workers`, `use_multiprocessing`, `max_queue_size`. Do not pass these arguments to `fit()`, as they will be ignored.\n",
      "  self._warn_if_super_not_called()\n"
     ]
    },
    {
     "name": "stdout",
     "output_type": "stream",
     "text": [
      "\u001b[1m235/235\u001b[0m \u001b[32m━━━━━━━━━━━━━━━━━━━━\u001b[0m\u001b[37m\u001b[0m \u001b[1m71s\u001b[0m 288ms/step - accuracy: 0.3592 - f1_score: 0.0282 - loss: 1.6297 - precision: 0.2844 - recall: 0.0150 - val_accuracy: 0.4166 - val_f1_score: 0.1999 - val_loss: 1.5092 - val_precision: 0.5730 - val_recall: 0.1210\n",
      "Epoch 2/100\n",
      "\u001b[1m235/235\u001b[0m \u001b[32m━━━━━━━━━━━━━━━━━━━━\u001b[0m\u001b[37m\u001b[0m \u001b[1m54s\u001b[0m 229ms/step - accuracy: 0.4312 - f1_score: 0.2443 - loss: 1.4933 - precision: 0.5663 - recall: 0.1560 - val_accuracy: 0.4477 - val_f1_score: 0.3179 - val_loss: 1.4414 - val_precision: 0.5725 - val_recall: 0.2200\n",
      "Epoch 3/100\n",
      "\u001b[1m235/235\u001b[0m \u001b[32m━━━━━━━━━━━━━━━━━━━━\u001b[0m\u001b[37m\u001b[0m \u001b[1m38s\u001b[0m 162ms/step - accuracy: 0.4687 - f1_score: 0.3422 - loss: 1.4051 - precision: 0.5953 - recall: 0.2402 - val_accuracy: 0.4816 - val_f1_score: 0.3711 - val_loss: 1.3620 - val_precision: 0.6192 - val_recall: 0.2650\n",
      "Epoch 4/100\n",
      "\u001b[1m235/235\u001b[0m \u001b[32m━━━━━━━━━━━━━━━━━━━━\u001b[0m\u001b[37m\u001b[0m \u001b[1m23s\u001b[0m 99ms/step - accuracy: 0.5060 - f1_score: 0.4066 - loss: 1.3015 - precision: 0.6457 - recall: 0.2968 - val_accuracy: 0.5607 - val_f1_score: 0.4809 - val_loss: 1.1875 - val_precision: 0.6738 - val_recall: 0.3739\n",
      "Epoch 5/100\n",
      "\u001b[1m235/235\u001b[0m \u001b[32m━━━━━━━━━━━━━━━━━━━━\u001b[0m\u001b[37m\u001b[0m \u001b[1m21s\u001b[0m 88ms/step - accuracy: 0.5405 - f1_score: 0.4567 - loss: 1.2174 - precision: 0.6672 - recall: 0.3473 - val_accuracy: 0.5827 - val_f1_score: 0.5271 - val_loss: 1.1085 - val_precision: 0.7123 - val_recall: 0.4183\n",
      "Epoch 6/100\n",
      "\u001b[1m235/235\u001b[0m \u001b[32m━━━━━━━━━━━━━━━━━━━━\u001b[0m\u001b[37m\u001b[0m \u001b[1m21s\u001b[0m 91ms/step - accuracy: 0.5724 - f1_score: 0.5174 - loss: 1.1260 - precision: 0.7091 - recall: 0.4074 - val_accuracy: 0.6298 - val_f1_score: 0.5799 - val_loss: 0.9988 - val_precision: 0.7506 - val_recall: 0.4725\n",
      "Epoch 7/100\n",
      "\u001b[1m235/235\u001b[0m \u001b[32m━━━━━━━━━━━━━━━━━━━━\u001b[0m\u001b[37m\u001b[0m \u001b[1m23s\u001b[0m 97ms/step - accuracy: 0.6231 - f1_score: 0.5756 - loss: 1.0129 - precision: 0.7232 - recall: 0.4782 - val_accuracy: 0.6350 - val_f1_score: 0.6004 - val_loss: 0.9931 - val_precision: 0.7534 - val_recall: 0.4991\n",
      "Epoch 8/100\n",
      "\u001b[1m235/235\u001b[0m \u001b[32m━━━━━━━━━━━━━━━━━━━━\u001b[0m\u001b[37m\u001b[0m \u001b[1m23s\u001b[0m 100ms/step - accuracy: 0.6508 - f1_score: 0.6093 - loss: 0.9490 - precision: 0.7493 - recall: 0.5136 - val_accuracy: 0.6849 - val_f1_score: 0.6614 - val_loss: 0.8558 - val_precision: 0.7728 - val_recall: 0.5781\n",
      "Epoch 9/100\n",
      "\u001b[1m235/235\u001b[0m \u001b[32m━━━━━━━━━━━━━━━━━━━━\u001b[0m\u001b[37m\u001b[0m \u001b[1m23s\u001b[0m 98ms/step - accuracy: 0.6619 - f1_score: 0.6415 - loss: 0.8861 - precision: 0.7597 - recall: 0.5552 - val_accuracy: 0.7124 - val_f1_score: 0.6893 - val_loss: 0.7839 - val_precision: 0.8092 - val_recall: 0.6003\n",
      "Epoch 10/100\n",
      "\u001b[1m235/235\u001b[0m \u001b[32m━━━━━━━━━━━━━━━━━━━━\u001b[0m\u001b[37m\u001b[0m \u001b[1m23s\u001b[0m 99ms/step - accuracy: 0.6994 - f1_score: 0.6748 - loss: 0.8030 - precision: 0.8063 - recall: 0.5804 - val_accuracy: 0.7189 - val_f1_score: 0.7079 - val_loss: 0.7330 - val_precision: 0.8244 - val_recall: 0.6202\n",
      "Epoch 11/100\n",
      "\u001b[1m235/235\u001b[0m \u001b[32m━━━━━━━━━━━━━━━━━━━━\u001b[0m\u001b[37m\u001b[0m \u001b[1m24s\u001b[0m 103ms/step - accuracy: 0.7036 - f1_score: 0.6828 - loss: 0.7847 - precision: 0.7889 - recall: 0.6018 - val_accuracy: 0.7390 - val_f1_score: 0.7319 - val_loss: 0.7004 - val_precision: 0.8020 - val_recall: 0.6731\n",
      "Epoch 12/100\n",
      "\u001b[1m235/235\u001b[0m \u001b[32m━━━━━━━━━━━━━━━━━━━━\u001b[0m\u001b[37m\u001b[0m \u001b[1m23s\u001b[0m 97ms/step - accuracy: 0.7334 - f1_score: 0.7185 - loss: 0.7130 - precision: 0.8151 - recall: 0.6425 - val_accuracy: 0.7486 - val_f1_score: 0.7391 - val_loss: 0.6724 - val_precision: 0.8256 - val_recall: 0.6689\n",
      "Epoch 13/100\n",
      "\u001b[1m235/235\u001b[0m \u001b[32m━━━━━━━━━━━━━━━━━━━━\u001b[0m\u001b[37m\u001b[0m \u001b[1m24s\u001b[0m 102ms/step - accuracy: 0.7407 - f1_score: 0.7349 - loss: 0.6605 - precision: 0.8274 - recall: 0.6610 - val_accuracy: 0.7747 - val_f1_score: 0.7700 - val_loss: 0.5833 - val_precision: 0.8329 - val_recall: 0.7159\n",
      "Epoch 14/100\n",
      "\u001b[1m235/235\u001b[0m \u001b[32m━━━━━━━━━━━━━━━━━━━━\u001b[0m\u001b[37m\u001b[0m \u001b[1m22s\u001b[0m 94ms/step - accuracy: 0.7697 - f1_score: 0.7619 - loss: 0.6228 - precision: 0.8454 - recall: 0.6936 - val_accuracy: 0.7553 - val_f1_score: 0.7488 - val_loss: 0.6178 - val_precision: 0.8127 - val_recall: 0.6942\n",
      "Epoch 15/100\n",
      "\u001b[1m235/235\u001b[0m \u001b[32m━━━━━━━━━━━━━━━━━━━━\u001b[0m\u001b[37m\u001b[0m \u001b[1m21s\u001b[0m 89ms/step - accuracy: 0.7881 - f1_score: 0.7858 - loss: 0.5664 - precision: 0.8531 - recall: 0.7284 - val_accuracy: 0.8357 - val_f1_score: 0.8315 - val_loss: 0.4607 - val_precision: 0.8906 - val_recall: 0.7797\n",
      "Epoch 16/100\n",
      "\u001b[1m235/235\u001b[0m \u001b[32m━━━━━━━━━━━━━━━━━━━━\u001b[0m\u001b[37m\u001b[0m \u001b[1m21s\u001b[0m 89ms/step - accuracy: 0.8074 - f1_score: 0.8007 - loss: 0.5252 - precision: 0.8567 - recall: 0.7517 - val_accuracy: 0.8356 - val_f1_score: 0.8338 - val_loss: 0.4498 - val_precision: 0.8849 - val_recall: 0.7882\n",
      "Epoch 17/100\n",
      "\u001b[1m235/235\u001b[0m \u001b[32m━━━━━━━━━━━━━━━━━━━━\u001b[0m\u001b[37m\u001b[0m \u001b[1m22s\u001b[0m 92ms/step - accuracy: 0.8192 - f1_score: 0.8214 - loss: 0.4889 - precision: 0.8746 - recall: 0.7742 - val_accuracy: 0.8658 - val_f1_score: 0.8627 - val_loss: 0.3803 - val_precision: 0.9020 - val_recall: 0.8267\n",
      "Epoch 18/100\n",
      "\u001b[1m235/235\u001b[0m \u001b[32m━━━━━━━━━━━━━━━━━━━━\u001b[0m\u001b[37m\u001b[0m \u001b[1m21s\u001b[0m 90ms/step - accuracy: 0.8267 - f1_score: 0.8300 - loss: 0.4694 - precision: 0.8794 - recall: 0.7859 - val_accuracy: 0.8393 - val_f1_score: 0.8354 - val_loss: 0.4332 - val_precision: 0.8835 - val_recall: 0.7922\n",
      "Epoch 19/100\n",
      "\u001b[1m235/235\u001b[0m \u001b[32m━━━━━━━━━━━━━━━━━━━━\u001b[0m\u001b[37m\u001b[0m \u001b[1m21s\u001b[0m 90ms/step - accuracy: 0.8442 - f1_score: 0.8422 - loss: 0.4433 - precision: 0.8879 - recall: 0.8011 - val_accuracy: 0.8171 - val_f1_score: 0.8180 - val_loss: 0.4842 - val_precision: 0.8628 - val_recall: 0.7777\n",
      "Epoch 20/100\n",
      "\u001b[1m235/235\u001b[0m \u001b[32m━━━━━━━━━━━━━━━━━━━━\u001b[0m\u001b[37m\u001b[0m \u001b[1m21s\u001b[0m 89ms/step - accuracy: 0.8462 - f1_score: 0.8432 - loss: 0.4284 - precision: 0.8861 - recall: 0.8043 - val_accuracy: 0.8562 - val_f1_score: 0.8514 - val_loss: 0.3941 - val_precision: 0.8942 - val_recall: 0.8126\n",
      "Epoch 21/100\n",
      "\u001b[1m235/235\u001b[0m \u001b[32m━━━━━━━━━━━━━━━━━━━━\u001b[0m\u001b[37m\u001b[0m \u001b[1m21s\u001b[0m 90ms/step - accuracy: 0.8439 - f1_score: 0.8479 - loss: 0.4089 - precision: 0.8872 - recall: 0.8120 - val_accuracy: 0.8873 - val_f1_score: 0.8871 - val_loss: 0.3175 - val_precision: 0.9143 - val_recall: 0.8615\n",
      "Epoch 22/100\n",
      "\u001b[1m235/235\u001b[0m \u001b[32m━━━━━━━━━━━━━━━━━━━━\u001b[0m\u001b[37m\u001b[0m \u001b[1m21s\u001b[0m 89ms/step - accuracy: 0.8773 - f1_score: 0.8762 - loss: 0.3546 - precision: 0.9066 - recall: 0.8478 - val_accuracy: 0.8980 - val_f1_score: 0.8971 - val_loss: 0.3000 - val_precision: 0.9307 - val_recall: 0.8658\n",
      "Epoch 23/100\n",
      "\u001b[1m235/235\u001b[0m \u001b[32m━━━━━━━━━━━━━━━━━━━━\u001b[0m\u001b[37m\u001b[0m \u001b[1m21s\u001b[0m 90ms/step - accuracy: 0.8727 - f1_score: 0.8728 - loss: 0.3609 - precision: 0.9058 - recall: 0.8421 - val_accuracy: 0.8406 - val_f1_score: 0.8434 - val_loss: 0.4408 - val_precision: 0.8780 - val_recall: 0.8114\n",
      "Epoch 24/100\n",
      "\u001b[1m235/235\u001b[0m \u001b[32m━━━━━━━━━━━━━━━━━━━━\u001b[0m\u001b[37m\u001b[0m \u001b[1m21s\u001b[0m 90ms/step - accuracy: 0.8775 - f1_score: 0.8762 - loss: 0.3401 - precision: 0.9057 - recall: 0.8487 - val_accuracy: 0.9159 - val_f1_score: 0.9194 - val_loss: 0.2446 - val_precision: 0.9462 - val_recall: 0.8941\n",
      "Epoch 25/100\n",
      "\u001b[1m235/235\u001b[0m \u001b[32m━━━━━━━━━━━━━━━━━━━━\u001b[0m\u001b[37m\u001b[0m \u001b[1m21s\u001b[0m 90ms/step - accuracy: 0.8934 - f1_score: 0.8940 - loss: 0.3267 - precision: 0.9182 - recall: 0.8711 - val_accuracy: 0.8929 - val_f1_score: 0.8929 - val_loss: 0.3060 - val_precision: 0.9254 - val_recall: 0.8626\n",
      "Epoch 26/100\n",
      "\u001b[1m235/235\u001b[0m \u001b[32m━━━━━━━━━━━━━━━━━━━━\u001b[0m\u001b[37m\u001b[0m \u001b[1m21s\u001b[0m 90ms/step - accuracy: 0.8882 - f1_score: 0.8894 - loss: 0.3179 - precision: 0.9184 - recall: 0.8623 - val_accuracy: 0.9226 - val_f1_score: 0.9245 - val_loss: 0.2254 - val_precision: 0.9452 - val_recall: 0.9046\n",
      "Epoch 27/100\n",
      "\u001b[1m235/235\u001b[0m \u001b[32m━━━━━━━━━━━━━━━━━━━━\u001b[0m\u001b[37m\u001b[0m \u001b[1m21s\u001b[0m 90ms/step - accuracy: 0.8915 - f1_score: 0.8912 - loss: 0.3010 - precision: 0.9170 - recall: 0.8669 - val_accuracy: 0.8698 - val_f1_score: 0.8672 - val_loss: 0.3710 - val_precision: 0.8902 - val_recall: 0.8453\n",
      "Epoch 28/100\n",
      "\u001b[1m235/235\u001b[0m \u001b[32m━━━━━━━━━━━━━━━━━━━━\u001b[0m\u001b[37m\u001b[0m \u001b[1m21s\u001b[0m 90ms/step - accuracy: 0.9046 - f1_score: 0.9051 - loss: 0.2683 - precision: 0.9269 - recall: 0.8843 - val_accuracy: 0.9105 - val_f1_score: 0.9106 - val_loss: 0.2475 - val_precision: 0.9274 - val_recall: 0.8944\n",
      "Epoch 29/100\n",
      "\u001b[1m235/235\u001b[0m \u001b[32m━━━━━━━━━━━━━━━━━━━━\u001b[0m\u001b[37m\u001b[0m \u001b[1m23s\u001b[0m 98ms/step - accuracy: 0.9084 - f1_score: 0.9067 - loss: 0.2678 - precision: 0.9289 - recall: 0.8855 - val_accuracy: 0.9193 - val_f1_score: 0.9193 - val_loss: 0.2301 - val_precision: 0.9349 - val_recall: 0.9042\n",
      "Epoch 30/100\n",
      "\u001b[1m235/235\u001b[0m \u001b[32m━━━━━━━━━━━━━━━━━━━━\u001b[0m\u001b[37m\u001b[0m \u001b[1m21s\u001b[0m 90ms/step - accuracy: 0.9089 - f1_score: 0.9109 - loss: 0.2563 - precision: 0.9298 - recall: 0.8928 - val_accuracy: 0.8978 - val_f1_score: 0.8984 - val_loss: 0.2790 - val_precision: 0.9171 - val_recall: 0.8804\n",
      "Epoch 31/100\n",
      "\u001b[1m235/235\u001b[0m \u001b[32m━━━━━━━━━━━━━━━━━━━━\u001b[0m\u001b[37m\u001b[0m \u001b[1m22s\u001b[0m 92ms/step - accuracy: 0.9126 - f1_score: 0.9128 - loss: 0.2414 - precision: 0.9321 - recall: 0.8944 - val_accuracy: 0.9379 - val_f1_score: 0.9368 - val_loss: 0.1901 - val_precision: 0.9507 - val_recall: 0.9233\n",
      "Epoch 32/100\n",
      "\u001b[1m235/235\u001b[0m \u001b[32m━━━━━━━━━━━━━━━━━━━━\u001b[0m\u001b[37m\u001b[0m \u001b[1m23s\u001b[0m 99ms/step - accuracy: 0.9091 - f1_score: 0.9082 - loss: 0.2568 - precision: 0.9251 - recall: 0.8920 - val_accuracy: 0.9443 - val_f1_score: 0.9452 - val_loss: 0.1618 - val_precision: 0.9588 - val_recall: 0.9319\n",
      "Epoch 33/100\n",
      "\u001b[1m235/235\u001b[0m \u001b[32m━━━━━━━━━━━━━━━━━━━━\u001b[0m\u001b[37m\u001b[0m \u001b[1m22s\u001b[0m 95ms/step - accuracy: 0.9259 - f1_score: 0.9241 - loss: 0.2079 - precision: 0.9388 - recall: 0.9098 - val_accuracy: 0.9286 - val_f1_score: 0.9306 - val_loss: 0.1949 - val_precision: 0.9457 - val_recall: 0.9159\n",
      "Epoch 34/100\n",
      "\u001b[1m235/235\u001b[0m \u001b[32m━━━━━━━━━━━━━━━━━━━━\u001b[0m\u001b[37m\u001b[0m \u001b[1m23s\u001b[0m 96ms/step - accuracy: 0.9179 - f1_score: 0.9199 - loss: 0.2291 - precision: 0.9366 - recall: 0.9039 - val_accuracy: 0.9145 - val_f1_score: 0.9161 - val_loss: 0.2436 - val_precision: 0.9356 - val_recall: 0.8973\n",
      "Epoch 35/100\n",
      "\u001b[1m235/235\u001b[0m \u001b[32m━━━━━━━━━━━━━━━━━━━━\u001b[0m\u001b[37m\u001b[0m \u001b[1m23s\u001b[0m 96ms/step - accuracy: 0.9113 - f1_score: 0.9097 - loss: 0.2483 - precision: 0.9279 - recall: 0.8922 - val_accuracy: 0.9363 - val_f1_score: 0.9355 - val_loss: 0.1884 - val_precision: 0.9487 - val_recall: 0.9227\n",
      "Epoch 36/100\n",
      "\u001b[1m235/235\u001b[0m \u001b[32m━━━━━━━━━━━━━━━━━━━━\u001b[0m\u001b[37m\u001b[0m \u001b[1m23s\u001b[0m 96ms/step - accuracy: 0.9227 - f1_score: 0.9245 - loss: 0.2128 - precision: 0.9389 - recall: 0.9105 - val_accuracy: 0.9537 - val_f1_score: 0.9541 - val_loss: 0.1393 - val_precision: 0.9659 - val_recall: 0.9425\n",
      "Epoch 37/100\n",
      "\u001b[1m235/235\u001b[0m \u001b[32m━━━━━━━━━━━━━━━━━━━━\u001b[0m\u001b[37m\u001b[0m \u001b[1m23s\u001b[0m 98ms/step - accuracy: 0.9327 - f1_score: 0.9320 - loss: 0.1933 - precision: 0.9452 - recall: 0.9193 - val_accuracy: 0.9564 - val_f1_score: 0.9554 - val_loss: 0.1356 - val_precision: 0.9687 - val_recall: 0.9424\n",
      "Epoch 38/100\n",
      "\u001b[1m235/235\u001b[0m \u001b[32m━━━━━━━━━━━━━━━━━━━━\u001b[0m\u001b[37m\u001b[0m \u001b[1m25s\u001b[0m 106ms/step - accuracy: 0.9295 - f1_score: 0.9280 - loss: 0.1984 - precision: 0.9411 - recall: 0.9152 - val_accuracy: 0.9589 - val_f1_score: 0.9589 - val_loss: 0.1243 - val_precision: 0.9670 - val_recall: 0.9509\n",
      "Epoch 39/100\n",
      "\u001b[1m235/235\u001b[0m \u001b[32m━━━━━━━━━━━━━━━━━━━━\u001b[0m\u001b[37m\u001b[0m \u001b[1m32s\u001b[0m 136ms/step - accuracy: 0.9415 - f1_score: 0.9419 - loss: 0.1638 - precision: 0.9534 - recall: 0.9308 - val_accuracy: 0.9376 - val_f1_score: 0.9383 - val_loss: 0.1776 - val_precision: 0.9526 - val_recall: 0.9244\n",
      "Epoch 40/100\n",
      "\u001b[1m235/235\u001b[0m \u001b[32m━━━━━━━━━━━━━━━━━━━━\u001b[0m\u001b[37m\u001b[0m \u001b[1m32s\u001b[0m 136ms/step - accuracy: 0.9411 - f1_score: 0.9387 - loss: 0.1842 - precision: 0.9497 - recall: 0.9280 - val_accuracy: 0.9437 - val_f1_score: 0.9444 - val_loss: 0.1654 - val_precision: 0.9552 - val_recall: 0.9339\n",
      "Epoch 41/100\n",
      "\u001b[1m235/235\u001b[0m \u001b[32m━━━━━━━━━━━━━━━━━━━━\u001b[0m\u001b[37m\u001b[0m \u001b[1m31s\u001b[0m 134ms/step - accuracy: 0.9349 - f1_score: 0.9377 - loss: 0.1758 - precision: 0.9494 - recall: 0.9262 - val_accuracy: 0.9572 - val_f1_score: 0.9572 - val_loss: 0.1186 - val_precision: 0.9640 - val_recall: 0.9505\n",
      "Epoch 42/100\n",
      "\u001b[1m235/235\u001b[0m \u001b[32m━━━━━━━━━━━━━━━━━━━━\u001b[0m\u001b[37m\u001b[0m \u001b[1m32s\u001b[0m 137ms/step - accuracy: 0.9440 - f1_score: 0.9448 - loss: 0.1680 - precision: 0.9534 - recall: 0.9362 - val_accuracy: 0.9504 - val_f1_score: 0.9516 - val_loss: 0.1400 - val_precision: 0.9603 - val_recall: 0.9431\n",
      "Epoch 43/100\n",
      "\u001b[1m235/235\u001b[0m \u001b[32m━━━━━━━━━━━━━━━━━━━━\u001b[0m\u001b[37m\u001b[0m \u001b[1m33s\u001b[0m 139ms/step - accuracy: 0.9440 - f1_score: 0.9445 - loss: 0.1662 - precision: 0.9546 - recall: 0.9346 - val_accuracy: 0.9493 - val_f1_score: 0.9494 - val_loss: 0.1468 - val_precision: 0.9586 - val_recall: 0.9404\n",
      "Epoch 44/100\n",
      "\u001b[1m235/235\u001b[0m \u001b[32m━━━━━━━━━━━━━━━━━━━━\u001b[0m\u001b[37m\u001b[0m \u001b[1m32s\u001b[0m 135ms/step - accuracy: 0.9357 - f1_score: 0.9386 - loss: 0.1844 - precision: 0.9481 - recall: 0.9294 - val_accuracy: 0.9548 - val_f1_score: 0.9540 - val_loss: 0.1354 - val_precision: 0.9624 - val_recall: 0.9459\n",
      "Epoch 45/100\n",
      "\u001b[1m235/235\u001b[0m \u001b[32m━━━━━━━━━━━━━━━━━━━━\u001b[0m\u001b[37m\u001b[0m \u001b[1m32s\u001b[0m 136ms/step - accuracy: 0.9480 - f1_score: 0.9465 - loss: 0.1563 - precision: 0.9553 - recall: 0.9378 - val_accuracy: 0.9489 - val_f1_score: 0.9484 - val_loss: 0.1524 - val_precision: 0.9587 - val_recall: 0.9384\n",
      "Epoch 46/100\n",
      "\u001b[1m235/235\u001b[0m \u001b[32m━━━━━━━━━━━━━━━━━━━━\u001b[0m\u001b[37m\u001b[0m \u001b[1m33s\u001b[0m 142ms/step - accuracy: 0.9348 - f1_score: 0.9362 - loss: 0.1829 - precision: 0.9492 - recall: 0.9236 - val_accuracy: 0.9610 - val_f1_score: 0.9606 - val_loss: 0.1163 - val_precision: 0.9695 - val_recall: 0.9518\n",
      "Epoch 47/100\n",
      "\u001b[1m235/235\u001b[0m \u001b[32m━━━━━━━━━━━━━━━━━━━━\u001b[0m\u001b[37m\u001b[0m \u001b[1m32s\u001b[0m 137ms/step - accuracy: 0.9453 - f1_score: 0.9463 - loss: 0.1464 - precision: 0.9562 - recall: 0.9366 - val_accuracy: 0.9195 - val_f1_score: 0.9207 - val_loss: 0.2303 - val_precision: 0.9316 - val_recall: 0.9099\n",
      "Epoch 48/100\n",
      "\u001b[1m235/235\u001b[0m \u001b[32m━━━━━━━━━━━━━━━━━━━━\u001b[0m\u001b[37m\u001b[0m \u001b[1m32s\u001b[0m 135ms/step - accuracy: 0.9339 - f1_score: 0.9355 - loss: 0.1698 - precision: 0.9459 - recall: 0.9253 - val_accuracy: 0.9729 - val_f1_score: 0.9727 - val_loss: 0.0808 - val_precision: 0.9774 - val_recall: 0.9679\n",
      "Epoch 49/100\n",
      "\u001b[1m235/235\u001b[0m \u001b[32m━━━━━━━━━━━━━━━━━━━━\u001b[0m\u001b[37m\u001b[0m \u001b[1m32s\u001b[0m 136ms/step - accuracy: 0.9542 - f1_score: 0.9569 - loss: 0.1279 - precision: 0.9636 - recall: 0.9503 - val_accuracy: 0.9225 - val_f1_score: 0.9233 - val_loss: 0.2188 - val_precision: 0.9345 - val_recall: 0.9123\n",
      "Epoch 50/100\n",
      "\u001b[1m235/235\u001b[0m \u001b[32m━━━━━━━━━━━━━━━━━━━━\u001b[0m\u001b[37m\u001b[0m \u001b[1m32s\u001b[0m 136ms/step - accuracy: 0.9474 - f1_score: 0.9480 - loss: 0.1528 - precision: 0.9571 - recall: 0.9391 - val_accuracy: 0.9675 - val_f1_score: 0.9685 - val_loss: 0.0950 - val_precision: 0.9769 - val_recall: 0.9602\n",
      "Epoch 51/100\n",
      "\u001b[1m235/235\u001b[0m \u001b[32m━━━━━━━━━━━━━━━━━━━━\u001b[0m\u001b[37m\u001b[0m \u001b[1m32s\u001b[0m 137ms/step - accuracy: 0.9469 - f1_score: 0.9472 - loss: 0.1501 - precision: 0.9539 - recall: 0.9405 - val_accuracy: 0.9614 - val_f1_score: 0.9624 - val_loss: 0.1116 - val_precision: 0.9687 - val_recall: 0.9562\n",
      "Epoch 52/100\n",
      "\u001b[1m235/235\u001b[0m \u001b[32m━━━━━━━━━━━━━━━━━━━━\u001b[0m\u001b[37m\u001b[0m \u001b[1m32s\u001b[0m 138ms/step - accuracy: 0.9506 - f1_score: 0.9534 - loss: 0.1377 - precision: 0.9612 - recall: 0.9456 - val_accuracy: 0.9487 - val_f1_score: 0.9482 - val_loss: 0.1528 - val_precision: 0.9574 - val_recall: 0.9391\n",
      "Epoch 53/100\n",
      "\u001b[1m235/235\u001b[0m \u001b[32m━━━━━━━━━━━━━━━━━━━━\u001b[0m\u001b[37m\u001b[0m \u001b[1m32s\u001b[0m 137ms/step - accuracy: 0.9585 - f1_score: 0.9582 - loss: 0.1202 - precision: 0.9640 - recall: 0.9524 - val_accuracy: 0.9765 - val_f1_score: 0.9767 - val_loss: 0.0699 - val_precision: 0.9812 - val_recall: 0.9722\n",
      "Epoch 54/100\n",
      "\u001b[1m235/235\u001b[0m \u001b[32m━━━━━━━━━━━━━━━━━━━━\u001b[0m\u001b[37m\u001b[0m \u001b[1m33s\u001b[0m 141ms/step - accuracy: 0.9609 - f1_score: 0.9607 - loss: 0.1167 - precision: 0.9652 - recall: 0.9562 - val_accuracy: 0.9838 - val_f1_score: 0.9832 - val_loss: 0.0568 - val_precision: 0.9878 - val_recall: 0.9786\n",
      "Epoch 55/100\n",
      "\u001b[1m235/235\u001b[0m \u001b[32m━━━━━━━━━━━━━━━━━━━━\u001b[0m\u001b[37m\u001b[0m \u001b[1m34s\u001b[0m 143ms/step - accuracy: 0.9632 - f1_score: 0.9633 - loss: 0.1069 - precision: 0.9690 - recall: 0.9577 - val_accuracy: 0.9673 - val_f1_score: 0.9669 - val_loss: 0.0981 - val_precision: 0.9729 - val_recall: 0.9609\n",
      "Epoch 56/100\n",
      "\u001b[1m235/235\u001b[0m \u001b[32m━━━━━━━━━━━━━━━━━━━━\u001b[0m\u001b[37m\u001b[0m \u001b[1m33s\u001b[0m 138ms/step - accuracy: 0.9568 - f1_score: 0.9588 - loss: 0.1254 - precision: 0.9642 - recall: 0.9536 - val_accuracy: 0.9820 - val_f1_score: 0.9804 - val_loss: 0.0579 - val_precision: 0.9850 - val_recall: 0.9759\n",
      "Epoch 57/100\n",
      "\u001b[1m235/235\u001b[0m \u001b[32m━━━━━━━━━━━━━━━━━━━━\u001b[0m\u001b[37m\u001b[0m \u001b[1m34s\u001b[0m 143ms/step - accuracy: 0.9566 - f1_score: 0.9569 - loss: 0.1194 - precision: 0.9629 - recall: 0.9510 - val_accuracy: 0.9790 - val_f1_score: 0.9786 - val_loss: 0.0668 - val_precision: 0.9845 - val_recall: 0.9727\n",
      "Epoch 58/100\n",
      "\u001b[1m235/235\u001b[0m \u001b[32m━━━━━━━━━━━━━━━━━━━━\u001b[0m\u001b[37m\u001b[0m \u001b[1m33s\u001b[0m 139ms/step - accuracy: 0.9624 - f1_score: 0.9631 - loss: 0.1099 - precision: 0.9694 - recall: 0.9568 - val_accuracy: 0.9681 - val_f1_score: 0.9692 - val_loss: 0.0928 - val_precision: 0.9729 - val_recall: 0.9655\n",
      "Epoch 59/100\n",
      "\u001b[1m235/235\u001b[0m \u001b[32m━━━━━━━━━━━━━━━━━━━━\u001b[0m\u001b[37m\u001b[0m \u001b[1m33s\u001b[0m 140ms/step - accuracy: 0.9546 - f1_score: 0.9555 - loss: 0.1291 - precision: 0.9613 - recall: 0.9497 - val_accuracy: 0.9689 - val_f1_score: 0.9699 - val_loss: 0.0885 - val_precision: 0.9745 - val_recall: 0.9654\n",
      "Epoch 60/100\n",
      "\u001b[1m235/235\u001b[0m \u001b[32m━━━━━━━━━━━━━━━━━━━━\u001b[0m\u001b[37m\u001b[0m \u001b[1m33s\u001b[0m 141ms/step - accuracy: 0.9631 - f1_score: 0.9645 - loss: 0.0979 - precision: 0.9694 - recall: 0.9595 - val_accuracy: 0.9750 - val_f1_score: 0.9750 - val_loss: 0.0756 - val_precision: 0.9796 - val_recall: 0.9705\n",
      "Epoch 61/100\n",
      "\u001b[1m235/235\u001b[0m \u001b[32m━━━━━━━━━━━━━━━━━━━━\u001b[0m\u001b[37m\u001b[0m \u001b[1m34s\u001b[0m 146ms/step - accuracy: 0.9685 - f1_score: 0.9688 - loss: 0.0998 - precision: 0.9729 - recall: 0.9648 - val_accuracy: 0.9581 - val_f1_score: 0.9584 - val_loss: 0.1201 - val_precision: 0.9633 - val_recall: 0.9534\n",
      "Epoch 62/100\n",
      "\u001b[1m235/235\u001b[0m \u001b[32m━━━━━━━━━━━━━━━━━━━━\u001b[0m\u001b[37m\u001b[0m \u001b[1m33s\u001b[0m 141ms/step - accuracy: 0.9568 - f1_score: 0.9567 - loss: 0.1186 - precision: 0.9632 - recall: 0.9502 - val_accuracy: 0.9786 - val_f1_score: 0.9784 - val_loss: 0.0690 - val_precision: 0.9820 - val_recall: 0.9747\n",
      "Epoch 63/100\n",
      "\u001b[1m235/235\u001b[0m \u001b[32m━━━━━━━━━━━━━━━━━━━━\u001b[0m\u001b[37m\u001b[0m \u001b[1m33s\u001b[0m 141ms/step - accuracy: 0.9650 - f1_score: 0.9651 - loss: 0.0924 - precision: 0.9702 - recall: 0.9600 - val_accuracy: 0.9739 - val_f1_score: 0.9728 - val_loss: 0.0846 - val_precision: 0.9790 - val_recall: 0.9666\n",
      "Epoch 64/100\n",
      "\u001b[1m235/235\u001b[0m \u001b[32m━━━━━━━━━━━━━━━━━━━━\u001b[0m\u001b[37m\u001b[0m \u001b[1m33s\u001b[0m 140ms/step - accuracy: 0.9563 - f1_score: 0.9581 - loss: 0.1136 - precision: 0.9638 - recall: 0.9525 - val_accuracy: 0.9790 - val_f1_score: 0.9791 - val_loss: 0.0636 - val_precision: 0.9818 - val_recall: 0.9763\n",
      "Epoch 65/100\n",
      "\u001b[1m235/235\u001b[0m \u001b[32m━━━━━━━━━━━━━━━━━━━━\u001b[0m\u001b[37m\u001b[0m \u001b[1m33s\u001b[0m 141ms/step - accuracy: 0.9693 - f1_score: 0.9699 - loss: 0.0921 - precision: 0.9747 - recall: 0.9652 - val_accuracy: 0.9810 - val_f1_score: 0.9810 - val_loss: 0.0594 - val_precision: 0.9846 - val_recall: 0.9775\n",
      "Epoch 66/100\n",
      "\u001b[1m235/235\u001b[0m \u001b[32m━━━━━━━━━━━━━━━━━━━━\u001b[0m\u001b[37m\u001b[0m \u001b[1m36s\u001b[0m 154ms/step - accuracy: 0.9700 - f1_score: 0.9696 - loss: 0.0951 - precision: 0.9737 - recall: 0.9656 - val_accuracy: 0.9834 - val_f1_score: 0.9835 - val_loss: 0.0556 - val_precision: 0.9865 - val_recall: 0.9804\n",
      "Epoch 67/100\n",
      "\u001b[1m235/235\u001b[0m \u001b[32m━━━━━━━━━━━━━━━━━━━━\u001b[0m\u001b[37m\u001b[0m \u001b[1m33s\u001b[0m 142ms/step - accuracy: 0.9682 - f1_score: 0.9681 - loss: 0.0933 - precision: 0.9712 - recall: 0.9651 - val_accuracy: 0.9685 - val_f1_score: 0.9681 - val_loss: 0.0945 - val_precision: 0.9738 - val_recall: 0.9625\n",
      "Epoch 68/100\n",
      "\u001b[1m235/235\u001b[0m \u001b[32m━━━━━━━━━━━━━━━━━━━━\u001b[0m\u001b[37m\u001b[0m \u001b[1m36s\u001b[0m 151ms/step - accuracy: 0.9477 - f1_score: 0.9499 - loss: 0.1319 - precision: 0.9559 - recall: 0.9441 - val_accuracy: 0.9775 - val_f1_score: 0.9766 - val_loss: 0.0665 - val_precision: 0.9800 - val_recall: 0.9733\n",
      "Epoch 69/100\n",
      "\u001b[1m235/235\u001b[0m \u001b[32m━━━━━━━━━━━━━━━━━━━━\u001b[0m\u001b[37m\u001b[0m \u001b[1m33s\u001b[0m 139ms/step - accuracy: 0.9635 - f1_score: 0.9639 - loss: 0.1014 - precision: 0.9681 - recall: 0.9599 - val_accuracy: 0.9846 - val_f1_score: 0.9841 - val_loss: 0.0526 - val_precision: 0.9862 - val_recall: 0.9819\n",
      "Epoch 70/100\n",
      "\u001b[1m235/235\u001b[0m \u001b[32m━━━━━━━━━━━━━━━━━━━━\u001b[0m\u001b[37m\u001b[0m \u001b[1m34s\u001b[0m 144ms/step - accuracy: 0.9701 - f1_score: 0.9704 - loss: 0.0871 - precision: 0.9743 - recall: 0.9665 - val_accuracy: 0.9816 - val_f1_score: 0.9816 - val_loss: 0.0566 - val_precision: 0.9850 - val_recall: 0.9783\n",
      "Epoch 71/100\n",
      "\u001b[1m235/235\u001b[0m \u001b[32m━━━━━━━━━━━━━━━━━━━━\u001b[0m\u001b[37m\u001b[0m \u001b[1m34s\u001b[0m 145ms/step - accuracy: 0.9729 - f1_score: 0.9735 - loss: 0.0738 - precision: 0.9780 - recall: 0.9690 - val_accuracy: 0.9665 - val_f1_score: 0.9664 - val_loss: 0.0886 - val_precision: 0.9706 - val_recall: 0.9622\n",
      "Epoch 72/100\n",
      "\u001b[1m235/235\u001b[0m \u001b[32m━━━━━━━━━━━━━━━━━━━━\u001b[0m\u001b[37m\u001b[0m \u001b[1m33s\u001b[0m 142ms/step - accuracy: 0.9686 - f1_score: 0.9686 - loss: 0.0943 - precision: 0.9727 - recall: 0.9646 - val_accuracy: 0.9750 - val_f1_score: 0.9745 - val_loss: 0.0755 - val_precision: 0.9771 - val_recall: 0.9719\n",
      "Epoch 73/100\n",
      "\u001b[1m235/235\u001b[0m \u001b[32m━━━━━━━━━━━━━━━━━━━━\u001b[0m\u001b[37m\u001b[0m \u001b[1m34s\u001b[0m 143ms/step - accuracy: 0.9701 - f1_score: 0.9707 - loss: 0.0876 - precision: 0.9739 - recall: 0.9675 - val_accuracy: 0.9769 - val_f1_score: 0.9770 - val_loss: 0.0639 - val_precision: 0.9788 - val_recall: 0.9753\n",
      "Epoch 74/100\n",
      "\u001b[1m235/235\u001b[0m \u001b[32m━━━━━━━━━━━━━━━━━━━━\u001b[0m\u001b[37m\u001b[0m \u001b[1m34s\u001b[0m 143ms/step - accuracy: 0.9684 - f1_score: 0.9680 - loss: 0.0940 - precision: 0.9719 - recall: 0.9640 - val_accuracy: 0.9640 - val_f1_score: 0.9644 - val_loss: 0.0994 - val_precision: 0.9685 - val_recall: 0.9604\n",
      "Epoch 75/100\n",
      "\u001b[1m235/235\u001b[0m \u001b[32m━━━━━━━━━━━━━━━━━━━━\u001b[0m\u001b[37m\u001b[0m \u001b[1m34s\u001b[0m 146ms/step - accuracy: 0.9699 - f1_score: 0.9700 - loss: 0.0894 - precision: 0.9728 - recall: 0.9673 - val_accuracy: 0.9811 - val_f1_score: 0.9817 - val_loss: 0.0574 - val_precision: 0.9854 - val_recall: 0.9781\n",
      "Epoch 76/100\n",
      "\u001b[1m235/235\u001b[0m \u001b[32m━━━━━━━━━━━━━━━━━━━━\u001b[0m\u001b[37m\u001b[0m \u001b[1m34s\u001b[0m 144ms/step - accuracy: 0.9759 - f1_score: 0.9764 - loss: 0.0688 - precision: 0.9800 - recall: 0.9728 - val_accuracy: 0.9900 - val_f1_score: 0.9905 - val_loss: 0.0345 - val_precision: 0.9921 - val_recall: 0.9888\n",
      "Epoch 77/100\n",
      "\u001b[1m235/235\u001b[0m \u001b[32m━━━━━━━━━━━━━━━━━━━━\u001b[0m\u001b[37m\u001b[0m \u001b[1m34s\u001b[0m 145ms/step - accuracy: 0.9802 - f1_score: 0.9810 - loss: 0.0581 - precision: 0.9839 - recall: 0.9781 - val_accuracy: 0.9812 - val_f1_score: 0.9816 - val_loss: 0.0566 - val_precision: 0.9842 - val_recall: 0.9790\n",
      "Epoch 78/100\n",
      "\u001b[1m235/235\u001b[0m \u001b[32m━━━━━━━━━━━━━━━━━━━━\u001b[0m\u001b[37m\u001b[0m \u001b[1m34s\u001b[0m 144ms/step - accuracy: 0.9754 - f1_score: 0.9756 - loss: 0.0714 - precision: 0.9788 - recall: 0.9724 - val_accuracy: 0.9605 - val_f1_score: 0.9612 - val_loss: 0.1124 - val_precision: 0.9673 - val_recall: 0.9552\n",
      "Epoch 79/100\n",
      "\u001b[1m235/235\u001b[0m \u001b[32m━━━━━━━━━━━━━━━━━━━━\u001b[0m\u001b[37m\u001b[0m \u001b[1m35s\u001b[0m 149ms/step - accuracy: 0.9695 - f1_score: 0.9695 - loss: 0.0881 - precision: 0.9730 - recall: 0.9661 - val_accuracy: 0.9596 - val_f1_score: 0.9596 - val_loss: 0.1270 - val_precision: 0.9625 - val_recall: 0.9568\n",
      "Epoch 80/100\n",
      "\u001b[1m235/235\u001b[0m \u001b[32m━━━━━━━━━━━━━━━━━━━━\u001b[0m\u001b[37m\u001b[0m \u001b[1m35s\u001b[0m 150ms/step - accuracy: 0.9653 - f1_score: 0.9651 - loss: 0.1009 - precision: 0.9689 - recall: 0.9614 - val_accuracy: 0.9898 - val_f1_score: 0.9895 - val_loss: 0.0355 - val_precision: 0.9916 - val_recall: 0.9874\n",
      "Epoch 81/100\n",
      "\u001b[1m235/235\u001b[0m \u001b[32m━━━━━━━━━━━━━━━━━━━━\u001b[0m\u001b[37m\u001b[0m \u001b[1m35s\u001b[0m 147ms/step - accuracy: 0.9740 - f1_score: 0.9750 - loss: 0.0728 - precision: 0.9786 - recall: 0.9715 - val_accuracy: 0.9890 - val_f1_score: 0.9893 - val_loss: 0.0353 - val_precision: 0.9905 - val_recall: 0.9880\n",
      "Epoch 82/100\n",
      "\u001b[1m235/235\u001b[0m \u001b[32m━━━━━━━━━━━━━━━━━━━━\u001b[0m\u001b[37m\u001b[0m \u001b[1m35s\u001b[0m 150ms/step - accuracy: 0.9719 - f1_score: 0.9725 - loss: 0.0879 - precision: 0.9758 - recall: 0.9692 - val_accuracy: 0.9737 - val_f1_score: 0.9744 - val_loss: 0.0736 - val_precision: 0.9782 - val_recall: 0.9706\n",
      "Epoch 83/100\n",
      "\u001b[1m235/235\u001b[0m \u001b[32m━━━━━━━━━━━━━━━━━━━━\u001b[0m\u001b[37m\u001b[0m \u001b[1m34s\u001b[0m 146ms/step - accuracy: 0.9684 - f1_score: 0.9695 - loss: 0.0841 - precision: 0.9737 - recall: 0.9654 - val_accuracy: 0.9879 - val_f1_score: 0.9875 - val_loss: 0.0420 - val_precision: 0.9893 - val_recall: 0.9858\n",
      "Epoch 84/100\n",
      "\u001b[1m235/235\u001b[0m \u001b[32m━━━━━━━━━━━━━━━━━━━━\u001b[0m\u001b[37m\u001b[0m \u001b[1m35s\u001b[0m 147ms/step - accuracy: 0.9720 - f1_score: 0.9724 - loss: 0.0793 - precision: 0.9754 - recall: 0.9694 - val_accuracy: 0.9832 - val_f1_score: 0.9838 - val_loss: 0.0537 - val_precision: 0.9858 - val_recall: 0.9818\n",
      "Epoch 85/100\n",
      "\u001b[1m235/235\u001b[0m \u001b[32m━━━━━━━━━━━━━━━━━━━━\u001b[0m\u001b[37m\u001b[0m \u001b[1m34s\u001b[0m 146ms/step - accuracy: 0.9710 - f1_score: 0.9712 - loss: 0.0846 - precision: 0.9735 - recall: 0.9689 - val_accuracy: 0.9830 - val_f1_score: 0.9827 - val_loss: 0.0504 - val_precision: 0.9848 - val_recall: 0.9806\n",
      "Epoch 86/100\n",
      "\u001b[1m235/235\u001b[0m \u001b[32m━━━━━━━━━━━━━━━━━━━━\u001b[0m\u001b[37m\u001b[0m \u001b[1m35s\u001b[0m 149ms/step - accuracy: 0.9737 - f1_score: 0.9738 - loss: 0.0671 - precision: 0.9761 - recall: 0.9716 - val_accuracy: 0.9840 - val_f1_score: 0.9847 - val_loss: 0.0497 - val_precision: 0.9874 - val_recall: 0.9820\n",
      "Epoch 87/100\n",
      "\u001b[1m235/235\u001b[0m \u001b[32m━━━━━━━━━━━━━━━━━━━━\u001b[0m\u001b[37m\u001b[0m \u001b[1m35s\u001b[0m 149ms/step - accuracy: 0.9742 - f1_score: 0.9745 - loss: 0.0770 - precision: 0.9768 - recall: 0.9722 - val_accuracy: 0.9820 - val_f1_score: 0.9822 - val_loss: 0.0489 - val_precision: 0.9851 - val_recall: 0.9792\n",
      "Epoch 88/100\n",
      "\u001b[1m235/235\u001b[0m \u001b[32m━━━━━━━━━━━━━━━━━━━━\u001b[0m\u001b[37m\u001b[0m \u001b[1m35s\u001b[0m 148ms/step - accuracy: 0.9787 - f1_score: 0.9791 - loss: 0.0635 - precision: 0.9822 - recall: 0.9760 - val_accuracy: 0.9879 - val_f1_score: 0.9882 - val_loss: 0.0336 - val_precision: 0.9900 - val_recall: 0.9864\n",
      "Epoch 89/100\n",
      "\u001b[1m235/235\u001b[0m \u001b[32m━━━━━━━━━━━━━━━━━━━━\u001b[0m\u001b[37m\u001b[0m \u001b[1m41s\u001b[0m 173ms/step - accuracy: 0.9792 - f1_score: 0.9800 - loss: 0.0581 - precision: 0.9826 - recall: 0.9774 - val_accuracy: 0.9852 - val_f1_score: 0.9852 - val_loss: 0.0455 - val_precision: 0.9864 - val_recall: 0.9840\n",
      "Epoch 90/100\n",
      "\u001b[1m235/235\u001b[0m \u001b[32m━━━━━━━━━━━━━━━━━━━━\u001b[0m\u001b[37m\u001b[0m \u001b[1m31s\u001b[0m 134ms/step - accuracy: 0.9705 - f1_score: 0.9715 - loss: 0.0841 - precision: 0.9746 - recall: 0.9684 - val_accuracy: 0.9778 - val_f1_score: 0.9774 - val_loss: 0.0658 - val_precision: 0.9799 - val_recall: 0.9749\n",
      "Epoch 91/100\n",
      "\u001b[1m235/235\u001b[0m \u001b[32m━━━━━━━━━━━━━━━━━━━━\u001b[0m\u001b[37m\u001b[0m \u001b[1m21s\u001b[0m 88ms/step - accuracy: 0.9747 - f1_score: 0.9750 - loss: 0.0747 - precision: 0.9779 - recall: 0.9721 - val_accuracy: 0.9866 - val_f1_score: 0.9865 - val_loss: 0.0417 - val_precision: 0.9885 - val_recall: 0.9844\n",
      "Epoch 92/100\n",
      "\u001b[1m235/235\u001b[0m \u001b[32m━━━━━━━━━━━━━━━━━━━━\u001b[0m\u001b[37m\u001b[0m \u001b[1m21s\u001b[0m 89ms/step - accuracy: 0.9787 - f1_score: 0.9787 - loss: 0.0665 - precision: 0.9811 - recall: 0.9763 - val_accuracy: 0.9876 - val_f1_score: 0.9877 - val_loss: 0.0361 - val_precision: 0.9898 - val_recall: 0.9855\n",
      "Epoch 93/100\n",
      "\u001b[1m235/235\u001b[0m \u001b[32m━━━━━━━━━━━━━━━━━━━━\u001b[0m\u001b[37m\u001b[0m \u001b[1m22s\u001b[0m 93ms/step - accuracy: 0.9770 - f1_score: 0.9775 - loss: 0.0664 - precision: 0.9806 - recall: 0.9743 - val_accuracy: 0.9824 - val_f1_score: 0.9819 - val_loss: 0.0510 - val_precision: 0.9835 - val_recall: 0.9803\n",
      "Epoch 94/100\n",
      "\u001b[1m235/235\u001b[0m \u001b[32m━━━━━━━━━━━━━━━━━━━━\u001b[0m\u001b[37m\u001b[0m \u001b[1m22s\u001b[0m 95ms/step - accuracy: 0.9684 - f1_score: 0.9673 - loss: 0.0966 - precision: 0.9718 - recall: 0.9628 - val_accuracy: 0.9803 - val_f1_score: 0.9801 - val_loss: 0.0553 - val_precision: 0.9820 - val_recall: 0.9783\n",
      "Epoch 95/100\n",
      "\u001b[1m235/235\u001b[0m \u001b[32m━━━━━━━━━━━━━━━━━━━━\u001b[0m\u001b[37m\u001b[0m \u001b[1m24s\u001b[0m 101ms/step - accuracy: 0.9742 - f1_score: 0.9745 - loss: 0.0699 - precision: 0.9782 - recall: 0.9707 - val_accuracy: 0.9854 - val_f1_score: 0.9859 - val_loss: 0.0390 - val_precision: 0.9880 - val_recall: 0.9838\n",
      "Epoch 96/100\n",
      "\u001b[1m235/235\u001b[0m \u001b[32m━━━━━━━━━━━━━━━━━━━━\u001b[0m\u001b[37m\u001b[0m \u001b[1m23s\u001b[0m 99ms/step - accuracy: 0.9801 - f1_score: 0.9809 - loss: 0.0533 - precision: 0.9829 - recall: 0.9788 - val_accuracy: 0.9868 - val_f1_score: 0.9865 - val_loss: 0.0411 - val_precision: 0.9881 - val_recall: 0.9848\n",
      "Epoch 97/100\n",
      "\u001b[1m235/235\u001b[0m \u001b[32m━━━━━━━━━━━━━━━━━━━━\u001b[0m\u001b[37m\u001b[0m \u001b[1m24s\u001b[0m 102ms/step - accuracy: 0.9817 - f1_score: 0.9816 - loss: 0.0554 - precision: 0.9835 - recall: 0.9798 - val_accuracy: 0.9859 - val_f1_score: 0.9862 - val_loss: 0.0391 - val_precision: 0.9880 - val_recall: 0.9844\n",
      "Epoch 98/100\n",
      "\u001b[1m235/235\u001b[0m \u001b[32m━━━━━━━━━━━━━━━━━━━━\u001b[0m\u001b[37m\u001b[0m \u001b[1m25s\u001b[0m 104ms/step - accuracy: 0.9750 - f1_score: 0.9748 - loss: 0.0720 - precision: 0.9776 - recall: 0.9719 - val_accuracy: 0.9819 - val_f1_score: 0.9819 - val_loss: 0.0526 - val_precision: 0.9842 - val_recall: 0.9796\n",
      "Epoch 99/100\n",
      "\u001b[1m235/235\u001b[0m \u001b[32m━━━━━━━━━━━━━━━━━━━━\u001b[0m\u001b[37m\u001b[0m \u001b[1m25s\u001b[0m 105ms/step - accuracy: 0.9712 - f1_score: 0.9705 - loss: 0.0804 - precision: 0.9733 - recall: 0.9676 - val_accuracy: 0.9882 - val_f1_score: 0.9881 - val_loss: 0.0338 - val_precision: 0.9899 - val_recall: 0.9863\n",
      "Epoch 100/100\n",
      "\u001b[1m235/235\u001b[0m \u001b[32m━━━━━━━━━━━━━━━━━━━━\u001b[0m\u001b[37m\u001b[0m \u001b[1m25s\u001b[0m 105ms/step - accuracy: 0.9852 - f1_score: 0.9846 - loss: 0.0515 - precision: 0.9863 - recall: 0.9829 - val_accuracy: 0.9904 - val_f1_score: 0.9907 - val_loss: 0.0290 - val_precision: 0.9920 - val_recall: 0.9895\n"
     ]
    }
   ],
   "source": [
    "# Train the model\n",
    "history = cnn_lstm.fit(\n",
    "    x=training_set,\n",
    "    validation_data=validation_set,\n",
    "    epochs=100\n",
    ")"
   ]
  },
  {
   "cell_type": "code",
   "execution_count": 14,
   "id": "dd7cae81-b380-4c4e-a29c-998ce5336484",
   "metadata": {},
   "outputs": [],
   "source": [
    "# Save Loss plot\n",
    "plt.figure()\n",
    "plt.plot(history.history['loss'], label='Train Loss')\n",
    "plt.plot(history.history['val_loss'], label='Validation Loss')\n",
    "plt.legend()\n",
    "plt.title(\"Loss\")\n",
    "plt.xlabel('Epochs')\n",
    "plt.ylabel('Loss')\n",
    "plt.savefig('loss_plot.png')  # Save the plot as a PNG file\n",
    "plt.close()  # Close the figure to avoid memory issues\n",
    "\n",
    "# Save Accuracy plot\n",
    "plt.figure()\n",
    "plt.plot(history.history['accuracy'], label='Train Accuracy')\n",
    "plt.plot(history.history['val_accuracy'], label='Validation Accuracy')\n",
    "plt.legend()\n",
    "plt.title(\"Accuracy\")\n",
    "plt.xlabel('Epochs')\n",
    "plt.ylabel('Accuracy')\n",
    "plt.savefig('accuracy_plot.png')  # Save the plot as a PNG file\n",
    "plt.close()  # Close the figure\n",
    "\n",
    "# Save Precision plot\n",
    "plt.figure()\n",
    "plt.plot(history.history['precision'], label='Train Precision')\n",
    "plt.plot(history.history['val_precision'], label='Validation Precision')\n",
    "plt.legend()\n",
    "plt.title(\"Precision\")\n",
    "plt.xlabel('Epochs')\n",
    "plt.ylabel('Precision')\n",
    "plt.savefig('precision_plot.png')  # Save the plot as a PNG file\n",
    "plt.close()  # Close the figure\n",
    "\n",
    "# Save Recall plot\n",
    "plt.figure()\n",
    "plt.plot(history.history['recall'], label='Train Recall')\n",
    "plt.plot(history.history['val_recall'], label='Validation Recall')\n",
    "plt.legend()\n",
    "plt.title(\"Recall\")\n",
    "plt.xlabel('Epochs')\n",
    "plt.ylabel('Recall')\n",
    "plt.savefig('recall_plot.png')  # Save the plot as a PNG file\n",
    "plt.close()  # Close the figure\n",
    "\n",
    "# Save F1 Score plot\n",
    "plt.figure()\n",
    "plt.plot(history.history['f1_score'], label='Train F1 Score')\n",
    "plt.plot(history.history['val_f1_score'], label='Validation F1 Score')\n",
    "plt.legend()\n",
    "plt.title(\"F1 Score\")\n",
    "plt.xlabel('Epochs')\n",
    "plt.ylabel('F1 Score')\n",
    "plt.savefig('f1_score_plot.png')  # Save the plot as a PNG file\n",
    "plt.close()  # Close the figure"
   ]
  },
  {
   "cell_type": "code",
   "execution_count": 15,
   "id": "c715691d-c247-4601-a4db-853d885f2d4f",
   "metadata": {},
   "outputs": [
    {
     "data": {
      "text/html": [
       "<pre style=\"white-space:pre;overflow-x:auto;line-height:normal;font-family:Menlo,'DejaVu Sans Mono',consolas,'Courier New',monospace\"><span style=\"font-weight: bold\">Model: \"sequential\"</span>\n",
       "</pre>\n"
      ],
      "text/plain": [
       "\u001b[1mModel: \"sequential\"\u001b[0m\n"
      ]
     },
     "metadata": {},
     "output_type": "display_data"
    },
    {
     "data": {
      "text/html": [
       "<pre style=\"white-space:pre;overflow-x:auto;line-height:normal;font-family:Menlo,'DejaVu Sans Mono',consolas,'Courier New',monospace\">┏━━━━━━━━━━━━━━━━━━━━━━━━━━━━━━━━━━━━━━┳━━━━━━━━━━━━━━━━━━━━━━━━━━━━━┳━━━━━━━━━━━━━━━━━┓\n",
       "┃<span style=\"font-weight: bold\"> Layer (type)                         </span>┃<span style=\"font-weight: bold\"> Output Shape                </span>┃<span style=\"font-weight: bold\">         Param # </span>┃\n",
       "┡━━━━━━━━━━━━━━━━━━━━━━━━━━━━━━━━━━━━━━╇━━━━━━━━━━━━━━━━━━━━━━━━━━━━━╇━━━━━━━━━━━━━━━━━┩\n",
       "│ conv2d (<span style=\"color: #0087ff; text-decoration-color: #0087ff\">Conv2D</span>)                      │ (<span style=\"color: #00d7ff; text-decoration-color: #00d7ff\">None</span>, <span style=\"color: #00af00; text-decoration-color: #00af00\">32</span>, <span style=\"color: #00af00; text-decoration-color: #00af00\">32</span>, <span style=\"color: #00af00; text-decoration-color: #00af00\">32</span>)          │             <span style=\"color: #00af00; text-decoration-color: #00af00\">896</span> │\n",
       "├──────────────────────────────────────┼─────────────────────────────┼─────────────────┤\n",
       "│ max_pooling2d (<span style=\"color: #0087ff; text-decoration-color: #0087ff\">MaxPooling2D</span>)         │ (<span style=\"color: #00d7ff; text-decoration-color: #00d7ff\">None</span>, <span style=\"color: #00af00; text-decoration-color: #00af00\">16</span>, <span style=\"color: #00af00; text-decoration-color: #00af00\">16</span>, <span style=\"color: #00af00; text-decoration-color: #00af00\">32</span>)          │               <span style=\"color: #00af00; text-decoration-color: #00af00\">0</span> │\n",
       "├──────────────────────────────────────┼─────────────────────────────┼─────────────────┤\n",
       "│ conv2d_1 (<span style=\"color: #0087ff; text-decoration-color: #0087ff\">Conv2D</span>)                    │ (<span style=\"color: #00d7ff; text-decoration-color: #00d7ff\">None</span>, <span style=\"color: #00af00; text-decoration-color: #00af00\">16</span>, <span style=\"color: #00af00; text-decoration-color: #00af00\">16</span>, <span style=\"color: #00af00; text-decoration-color: #00af00\">64</span>)          │          <span style=\"color: #00af00; text-decoration-color: #00af00\">18,496</span> │\n",
       "├──────────────────────────────────────┼─────────────────────────────┼─────────────────┤\n",
       "│ max_pooling2d_1 (<span style=\"color: #0087ff; text-decoration-color: #0087ff\">MaxPooling2D</span>)       │ (<span style=\"color: #00d7ff; text-decoration-color: #00d7ff\">None</span>, <span style=\"color: #00af00; text-decoration-color: #00af00\">8</span>, <span style=\"color: #00af00; text-decoration-color: #00af00\">8</span>, <span style=\"color: #00af00; text-decoration-color: #00af00\">64</span>)            │               <span style=\"color: #00af00; text-decoration-color: #00af00\">0</span> │\n",
       "├──────────────────────────────────────┼─────────────────────────────┼─────────────────┤\n",
       "│ flatten (<span style=\"color: #0087ff; text-decoration-color: #0087ff\">Flatten</span>)                    │ (<span style=\"color: #00d7ff; text-decoration-color: #00d7ff\">None</span>, <span style=\"color: #00af00; text-decoration-color: #00af00\">4096</span>)                │               <span style=\"color: #00af00; text-decoration-color: #00af00\">0</span> │\n",
       "├──────────────────────────────────────┼─────────────────────────────┼─────────────────┤\n",
       "│ reshape (<span style=\"color: #0087ff; text-decoration-color: #0087ff\">Reshape</span>)                    │ (<span style=\"color: #00d7ff; text-decoration-color: #00d7ff\">None</span>, <span style=\"color: #00af00; text-decoration-color: #00af00\">16</span>, <span style=\"color: #00af00; text-decoration-color: #00af00\">256</span>)             │               <span style=\"color: #00af00; text-decoration-color: #00af00\">0</span> │\n",
       "├──────────────────────────────────────┼─────────────────────────────┼─────────────────┤\n",
       "│ lstm (<span style=\"color: #0087ff; text-decoration-color: #0087ff\">LSTM</span>)                          │ (<span style=\"color: #00d7ff; text-decoration-color: #00d7ff\">None</span>, <span style=\"color: #00af00; text-decoration-color: #00af00\">64</span>)                  │          <span style=\"color: #00af00; text-decoration-color: #00af00\">82,176</span> │\n",
       "├──────────────────────────────────────┼─────────────────────────────┼─────────────────┤\n",
       "│ dense (<span style=\"color: #0087ff; text-decoration-color: #0087ff\">Dense</span>)                        │ (<span style=\"color: #00d7ff; text-decoration-color: #00d7ff\">None</span>, <span style=\"color: #00af00; text-decoration-color: #00af00\">128</span>)                 │           <span style=\"color: #00af00; text-decoration-color: #00af00\">8,320</span> │\n",
       "├──────────────────────────────────────┼─────────────────────────────┼─────────────────┤\n",
       "│ dense_1 (<span style=\"color: #0087ff; text-decoration-color: #0087ff\">Dense</span>)                      │ (<span style=\"color: #00d7ff; text-decoration-color: #00d7ff\">None</span>, <span style=\"color: #00af00; text-decoration-color: #00af00\">6</span>)                   │             <span style=\"color: #00af00; text-decoration-color: #00af00\">774</span> │\n",
       "└──────────────────────────────────────┴─────────────────────────────┴─────────────────┘\n",
       "</pre>\n"
      ],
      "text/plain": [
       "┏━━━━━━━━━━━━━━━━━━━━━━━━━━━━━━━━━━━━━━┳━━━━━━━━━━━━━━━━━━━━━━━━━━━━━┳━━━━━━━━━━━━━━━━━┓\n",
       "┃\u001b[1m \u001b[0m\u001b[1mLayer (type)                        \u001b[0m\u001b[1m \u001b[0m┃\u001b[1m \u001b[0m\u001b[1mOutput Shape               \u001b[0m\u001b[1m \u001b[0m┃\u001b[1m \u001b[0m\u001b[1m        Param #\u001b[0m\u001b[1m \u001b[0m┃\n",
       "┡━━━━━━━━━━━━━━━━━━━━━━━━━━━━━━━━━━━━━━╇━━━━━━━━━━━━━━━━━━━━━━━━━━━━━╇━━━━━━━━━━━━━━━━━┩\n",
       "│ conv2d (\u001b[38;5;33mConv2D\u001b[0m)                      │ (\u001b[38;5;45mNone\u001b[0m, \u001b[38;5;34m32\u001b[0m, \u001b[38;5;34m32\u001b[0m, \u001b[38;5;34m32\u001b[0m)          │             \u001b[38;5;34m896\u001b[0m │\n",
       "├──────────────────────────────────────┼─────────────────────────────┼─────────────────┤\n",
       "│ max_pooling2d (\u001b[38;5;33mMaxPooling2D\u001b[0m)         │ (\u001b[38;5;45mNone\u001b[0m, \u001b[38;5;34m16\u001b[0m, \u001b[38;5;34m16\u001b[0m, \u001b[38;5;34m32\u001b[0m)          │               \u001b[38;5;34m0\u001b[0m │\n",
       "├──────────────────────────────────────┼─────────────────────────────┼─────────────────┤\n",
       "│ conv2d_1 (\u001b[38;5;33mConv2D\u001b[0m)                    │ (\u001b[38;5;45mNone\u001b[0m, \u001b[38;5;34m16\u001b[0m, \u001b[38;5;34m16\u001b[0m, \u001b[38;5;34m64\u001b[0m)          │          \u001b[38;5;34m18,496\u001b[0m │\n",
       "├──────────────────────────────────────┼─────────────────────────────┼─────────────────┤\n",
       "│ max_pooling2d_1 (\u001b[38;5;33mMaxPooling2D\u001b[0m)       │ (\u001b[38;5;45mNone\u001b[0m, \u001b[38;5;34m8\u001b[0m, \u001b[38;5;34m8\u001b[0m, \u001b[38;5;34m64\u001b[0m)            │               \u001b[38;5;34m0\u001b[0m │\n",
       "├──────────────────────────────────────┼─────────────────────────────┼─────────────────┤\n",
       "│ flatten (\u001b[38;5;33mFlatten\u001b[0m)                    │ (\u001b[38;5;45mNone\u001b[0m, \u001b[38;5;34m4096\u001b[0m)                │               \u001b[38;5;34m0\u001b[0m │\n",
       "├──────────────────────────────────────┼─────────────────────────────┼─────────────────┤\n",
       "│ reshape (\u001b[38;5;33mReshape\u001b[0m)                    │ (\u001b[38;5;45mNone\u001b[0m, \u001b[38;5;34m16\u001b[0m, \u001b[38;5;34m256\u001b[0m)             │               \u001b[38;5;34m0\u001b[0m │\n",
       "├──────────────────────────────────────┼─────────────────────────────┼─────────────────┤\n",
       "│ lstm (\u001b[38;5;33mLSTM\u001b[0m)                          │ (\u001b[38;5;45mNone\u001b[0m, \u001b[38;5;34m64\u001b[0m)                  │          \u001b[38;5;34m82,176\u001b[0m │\n",
       "├──────────────────────────────────────┼─────────────────────────────┼─────────────────┤\n",
       "│ dense (\u001b[38;5;33mDense\u001b[0m)                        │ (\u001b[38;5;45mNone\u001b[0m, \u001b[38;5;34m128\u001b[0m)                 │           \u001b[38;5;34m8,320\u001b[0m │\n",
       "├──────────────────────────────────────┼─────────────────────────────┼─────────────────┤\n",
       "│ dense_1 (\u001b[38;5;33mDense\u001b[0m)                      │ (\u001b[38;5;45mNone\u001b[0m, \u001b[38;5;34m6\u001b[0m)                   │             \u001b[38;5;34m774\u001b[0m │\n",
       "└──────────────────────────────────────┴─────────────────────────────┴─────────────────┘\n"
      ]
     },
     "metadata": {},
     "output_type": "display_data"
    },
    {
     "data": {
      "text/html": [
       "<pre style=\"white-space:pre;overflow-x:auto;line-height:normal;font-family:Menlo,'DejaVu Sans Mono',consolas,'Courier New',monospace\"><span style=\"font-weight: bold\"> Total params: </span><span style=\"color: #00af00; text-decoration-color: #00af00\">331,988</span> (1.27 MB)\n",
       "</pre>\n"
      ],
      "text/plain": [
       "\u001b[1m Total params: \u001b[0m\u001b[38;5;34m331,988\u001b[0m (1.27 MB)\n"
      ]
     },
     "metadata": {},
     "output_type": "display_data"
    },
    {
     "data": {
      "text/html": [
       "<pre style=\"white-space:pre;overflow-x:auto;line-height:normal;font-family:Menlo,'DejaVu Sans Mono',consolas,'Courier New',monospace\"><span style=\"font-weight: bold\"> Trainable params: </span><span style=\"color: #00af00; text-decoration-color: #00af00\">110,662</span> (432.27 KB)\n",
       "</pre>\n"
      ],
      "text/plain": [
       "\u001b[1m Trainable params: \u001b[0m\u001b[38;5;34m110,662\u001b[0m (432.27 KB)\n"
      ]
     },
     "metadata": {},
     "output_type": "display_data"
    },
    {
     "data": {
      "text/html": [
       "<pre style=\"white-space:pre;overflow-x:auto;line-height:normal;font-family:Menlo,'DejaVu Sans Mono',consolas,'Courier New',monospace\"><span style=\"font-weight: bold\"> Non-trainable params: </span><span style=\"color: #00af00; text-decoration-color: #00af00\">0</span> (0.00 B)\n",
       "</pre>\n"
      ],
      "text/plain": [
       "\u001b[1m Non-trainable params: \u001b[0m\u001b[38;5;34m0\u001b[0m (0.00 B)\n"
      ]
     },
     "metadata": {},
     "output_type": "display_data"
    },
    {
     "data": {
      "text/html": [
       "<pre style=\"white-space:pre;overflow-x:auto;line-height:normal;font-family:Menlo,'DejaVu Sans Mono',consolas,'Courier New',monospace\"><span style=\"font-weight: bold\"> Optimizer params: </span><span style=\"color: #00af00; text-decoration-color: #00af00\">221,326</span> (864.56 KB)\n",
       "</pre>\n"
      ],
      "text/plain": [
       "\u001b[1m Optimizer params: \u001b[0m\u001b[38;5;34m221,326\u001b[0m (864.56 KB)\n"
      ]
     },
     "metadata": {},
     "output_type": "display_data"
    }
   ],
   "source": [
    "cnn_lstm.summary()"
   ]
  },
  {
   "cell_type": "code",
   "execution_count": null,
   "id": "943a070e-bf5a-48fc-8075-66523364bc91",
   "metadata": {},
   "outputs": [],
   "source": []
  }
 ],
 "metadata": {
  "kernelspec": {
   "display_name": "Python 3 (ipykernel)",
   "language": "python",
   "name": "python3"
  },
  "language_info": {
   "codemirror_mode": {
    "name": "ipython",
    "version": 3
   },
   "file_extension": ".py",
   "mimetype": "text/x-python",
   "name": "python",
   "nbconvert_exporter": "python",
   "pygments_lexer": "ipython3",
   "version": "3.12.2"
  }
 },
 "nbformat": 4,
 "nbformat_minor": 5
}
