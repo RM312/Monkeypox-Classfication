{
 "cells": [
  {
   "cell_type": "code",
   "execution_count": 1,
   "id": "9613c93e-a0b2-4a85-8649-1ea2eaefa7cd",
   "metadata": {},
   "outputs": [],
   "source": [
    "import tensorflow as tf\n",
    "from tensorflow.keras.preprocessing.image import ImageDataGenerator\n",
    "from tensorflow.compat.v1 import ConfigProto\n",
    "from tensorflow.compat.v1 import InteractiveSession\n",
    "import matplotlib.pyplot as plt"
   ]
  },
  {
   "cell_type": "code",
   "execution_count": 2,
   "id": "616b4e3d-250a-4e15-8479-3c959fb2f88b",
   "metadata": {},
   "outputs": [],
   "source": [
    "# GPU Configuration\n",
    "config = ConfigProto()\n",
    "config.gpu_options.per_process_gpu_memory_fraction = 0.5\n",
    "config.gpu_options.allow_growth = True\n",
    "session = InteractiveSession(config=config)"
   ]
  },
  {
   "cell_type": "code",
   "execution_count": 3,
   "id": "b7dd05a3-8be2-40c8-a857-83390a015dfb",
   "metadata": {},
   "outputs": [],
   "source": [
    "# Data Augmentation for Training\n",
    "train_datagen = ImageDataGenerator(rescale=1./255,\n",
    "                                   shear_range=0.2,\n",
    "                                   zoom_range=0.2,\n",
    "                                   horizontal_flip=True)"
   ]
  },
  {
   "cell_type": "code",
   "execution_count": 4,
   "id": "9f05fbf9-5727-45cd-a1fa-21313728602f",
   "metadata": {},
   "outputs": [
    {
     "name": "stdout",
     "output_type": "stream",
     "text": [
      "Found 7126 images belonging to 6 classes.\n"
     ]
    }
   ],
   "source": [
    "training_set = train_datagen.flow_from_directory(\n",
    "    \"Monkeypox/archive (60)/Augmented Images/Augmented Images/FOLDS_AUG/fold2_AUG/Train/\",\n",
    "    target_size=(64, 64),\n",
    "    batch_size=32,\n",
    "    class_mode='categorical',  # Use 'categorical' for one-hot encoded labels\n",
    ")"
   ]
  },
  {
   "cell_type": "code",
   "execution_count": 5,
   "id": "9a2e8aad-ad5e-4042-a149-018401580b28",
   "metadata": {},
   "outputs": [
    {
     "name": "stdout",
     "output_type": "stream",
     "text": [
      "Found 7126 images belonging to 6 classes.\n"
     ]
    }
   ],
   "source": [
    "test_datagen = ImageDataGenerator(rescale=1./255)\n",
    "validation_set = test_datagen.flow_from_directory(\n",
    "    \"Monkeypox/archive (60)/Augmented Images/Augmented Images/FOLDS_AUG/fold2_AUG/Train/\",\n",
    "    target_size=(64, 64),\n",
    "    batch_size=32,\n",
    "    class_mode='categorical',  # Use 'categorical' for one-hot encoded labels\n",
    ")"
   ]
  },
  {
   "cell_type": "code",
   "execution_count": 6,
   "id": "3ac4f288-f45d-43a6-9a55-6cb9a870456a",
   "metadata": {},
   "outputs": [],
   "source": [
    "# Custom F1 Score Metric\n",
    "class F1Score(tf.keras.metrics.Metric):\n",
    "    def __init__(self, name='f1_score', **kwargs):\n",
    "        super(F1Score, self).__init__(name=name, **kwargs)\n",
    "        self.precision = tf.keras.metrics.Precision()\n",
    "        self.recall = tf.keras.metrics.Recall()\n",
    "\n",
    "    def update_state(self, y_true, y_pred, sample_weight=None):\n",
    "        # Update the precision and recall for each batch\n",
    "        self.precision.update_state(y_true, y_pred, sample_weight)\n",
    "        self.recall.update_state(y_true, y_pred, sample_weight)\n",
    "\n",
    "    def result(self):\n",
    "        # Calculate F1 score as the harmonic mean of precision and recall\n",
    "        precision = self.precision.result()\n",
    "        recall = self.recall.result()\n",
    "        return 2 * (precision * recall) / (precision + recall + tf.keras.backend.epsilon())\n",
    "\n",
    "    def reset_states(self):\n",
    "        self.precision.reset_states()\n",
    "        self.recall.reset_states()"
   ]
  },
  {
   "cell_type": "code",
   "execution_count": 7,
   "id": "2545f848-b8bf-4c34-a530-18d6979686c6",
   "metadata": {},
   "outputs": [],
   "source": [
    "# Build the CNN-LSTM Model\n",
    "cnn_lstm = tf.keras.models.Sequential()"
   ]
  },
  {
   "cell_type": "code",
   "execution_count": 8,
   "id": "beacf392-0fc8-4187-9013-9f7f7f0528e1",
   "metadata": {},
   "outputs": [],
   "source": [
    "# Flatten and Reshape for LSTM\n",
    "cnn_lstm.add(tf.keras.layers.Flatten())\n",
    "cnn_lstm.add(tf.keras.layers.Reshape((16, -1)))  # Reshape to (time_steps, features)"
   ]
  },
  {
   "cell_type": "code",
   "execution_count": 9,
   "id": "094d3f4f-29a3-4588-9c84-29030a2fd98f",
   "metadata": {},
   "outputs": [],
   "source": [
    "# LSTM Layer\n",
    "cnn_lstm.add(tf.keras.layers.LSTM(units=64, activation='tanh', return_sequences=False))"
   ]
  },
  {
   "cell_type": "code",
   "execution_count": 10,
   "id": "1fdd21fa-d4af-40a4-8486-a17e6f845983",
   "metadata": {},
   "outputs": [],
   "source": [
    "# Fully Connected Layers\n",
    "cnn_lstm.add(tf.keras.layers.Dense(units=128, activation='relu'))\n",
    "cnn_lstm.add(tf.keras.layers.Dense(6, activation='softmax'))  # 6 classes"
   ]
  },
  {
   "cell_type": "code",
   "execution_count": 11,
   "id": "cf23128e-c2ad-4ec9-9bdb-a44a641808bf",
   "metadata": {},
   "outputs": [],
   "source": [
    "# Compile the model with Precision, Recall, and F1 Score\n",
    "cnn_lstm.compile(\n",
    "    optimizer='adam',\n",
    "    loss='categorical_crossentropy',  # Use categorical_crossentropy for one-hot encoded labels\n",
    "    metrics=[\n",
    "        'accuracy',\n",
    "        tf.keras.metrics.Precision(name='precision'),\n",
    "        tf.keras.metrics.Recall(name='recall'),\n",
    "        F1Score(name='f1_score')  # Add custom F1 score metric\n",
    "    ]\n",
    ")"
   ]
  },
  {
   "cell_type": "code",
   "execution_count": 12,
   "id": "bc523458-5d6d-4428-afb1-16df57e57405",
   "metadata": {},
   "outputs": [
    {
     "name": "stderr",
     "output_type": "stream",
     "text": [
      "C:\\Users\\KIIT\\AppData\\Local\\Programs\\Python\\Python312\\Lib\\site-packages\\keras\\src\\trainers\\data_adapters\\py_dataset_adapter.py:121: UserWarning: Your `PyDataset` class should call `super().__init__(**kwargs)` in its constructor. `**kwargs` can include `workers`, `use_multiprocessing`, `max_queue_size`. Do not pass these arguments to `fit()`, as they will be ignored.\n",
      "  self._warn_if_super_not_called()\n"
     ]
    },
    {
     "name": "stdout",
     "output_type": "stream",
     "text": [
      "Epoch 1/100\n",
      "\u001b[1m223/223\u001b[0m \u001b[32m━━━━━━━━━━━━━━━━━━━━\u001b[0m\u001b[37m\u001b[0m \u001b[1m0s\u001b[0m 84ms/step - accuracy: 0.3490 - f1_score: 0.0398 - loss: 1.6343 - precision: 0.4833 - recall: 0.0209"
     ]
    },
    {
     "name": "stderr",
     "output_type": "stream",
     "text": [
      "C:\\Users\\KIIT\\AppData\\Local\\Programs\\Python\\Python312\\Lib\\site-packages\\keras\\src\\trainers\\data_adapters\\py_dataset_adapter.py:121: UserWarning: Your `PyDataset` class should call `super().__init__(**kwargs)` in its constructor. `**kwargs` can include `workers`, `use_multiprocessing`, `max_queue_size`. Do not pass these arguments to `fit()`, as they will be ignored.\n",
      "  self._warn_if_super_not_called()\n"
     ]
    },
    {
     "name": "stdout",
     "output_type": "stream",
     "text": [
      "\u001b[1m223/223\u001b[0m \u001b[32m━━━━━━━━━━━━━━━━━━━━\u001b[0m\u001b[37m\u001b[0m \u001b[1m31s\u001b[0m 124ms/step - accuracy: 0.3490 - f1_score: 0.0400 - loss: 1.6342 - precision: 0.4840 - recall: 0.0210 - val_accuracy: 0.3580 - val_f1_score: 0.1273 - val_loss: 1.6113 - val_precision: 0.6348 - val_recall: 0.0707\n",
      "Epoch 2/100\n",
      "\u001b[1m223/223\u001b[0m \u001b[32m━━━━━━━━━━━━━━━━━━━━\u001b[0m\u001b[37m\u001b[0m \u001b[1m26s\u001b[0m 119ms/step - accuracy: 0.3540 - f1_score: 0.1172 - loss: 1.5945 - precision: 0.6059 - recall: 0.0650 - val_accuracy: 0.3674 - val_f1_score: 0.2003 - val_loss: 1.5512 - val_precision: 0.6028 - val_recall: 0.1201\n",
      "Epoch 3/100\n",
      "\u001b[1m223/223\u001b[0m \u001b[32m━━━━━━━━━━━━━━━━━━━━\u001b[0m\u001b[37m\u001b[0m \u001b[1m28s\u001b[0m 127ms/step - accuracy: 0.3683 - f1_score: 0.1602 - loss: 1.5472 - precision: 0.6505 - recall: 0.0915 - val_accuracy: 0.4192 - val_f1_score: 0.0962 - val_loss: 1.5173 - val_precision: 0.7625 - val_recall: 0.0514\n",
      "Epoch 4/100\n",
      "\u001b[1m223/223\u001b[0m \u001b[32m━━━━━━━━━━━━━━━━━━━━\u001b[0m\u001b[37m\u001b[0m \u001b[1m27s\u001b[0m 122ms/step - accuracy: 0.3930 - f1_score: 0.1600 - loss: 1.5202 - precision: 0.6201 - recall: 0.0919 - val_accuracy: 0.4267 - val_f1_score: 0.1853 - val_loss: 1.4719 - val_precision: 0.7063 - val_recall: 0.1067\n",
      "Epoch 5/100\n",
      "\u001b[1m223/223\u001b[0m \u001b[32m━━━━━━━━━━━━━━━━━━━━\u001b[0m\u001b[37m\u001b[0m \u001b[1m27s\u001b[0m 122ms/step - accuracy: 0.4044 - f1_score: 0.1997 - loss: 1.4805 - precision: 0.6369 - recall: 0.1186 - val_accuracy: 0.4354 - val_f1_score: 0.2478 - val_loss: 1.4264 - val_precision: 0.6252 - val_recall: 0.1545\n",
      "Epoch 6/100\n",
      "\u001b[1m223/223\u001b[0m \u001b[32m━━━━━━━━━━━━━━━━━━━━\u001b[0m\u001b[37m\u001b[0m \u001b[1m28s\u001b[0m 125ms/step - accuracy: 0.4243 - f1_score: 0.2283 - loss: 1.4546 - precision: 0.6214 - recall: 0.1401 - val_accuracy: 0.4409 - val_f1_score: 0.2193 - val_loss: 1.4015 - val_precision: 0.6853 - val_recall: 0.1305\n",
      "Epoch 7/100\n",
      "\u001b[1m223/223\u001b[0m \u001b[32m━━━━━━━━━━━━━━━━━━━━\u001b[0m\u001b[37m\u001b[0m \u001b[1m28s\u001b[0m 127ms/step - accuracy: 0.4451 - f1_score: 0.2749 - loss: 1.3985 - precision: 0.6496 - recall: 0.1745 - val_accuracy: 0.4604 - val_f1_score: 0.2518 - val_loss: 1.3721 - val_precision: 0.7177 - val_recall: 0.1527\n",
      "Epoch 8/100\n",
      "\u001b[1m223/223\u001b[0m \u001b[32m━━━━━━━━━━━━━━━━━━━━\u001b[0m\u001b[37m\u001b[0m \u001b[1m28s\u001b[0m 124ms/step - accuracy: 0.4405 - f1_score: 0.2738 - loss: 1.3979 - precision: 0.6435 - recall: 0.1740 - val_accuracy: 0.4534 - val_f1_score: 0.1989 - val_loss: 1.3800 - val_precision: 0.7624 - val_recall: 0.1144\n",
      "Epoch 9/100\n",
      "\u001b[1m223/223\u001b[0m \u001b[32m━━━━━━━━━━━━━━━━━━━━\u001b[0m\u001b[37m\u001b[0m \u001b[1m28s\u001b[0m 125ms/step - accuracy: 0.4507 - f1_score: 0.2623 - loss: 1.3670 - precision: 0.6384 - recall: 0.1661 - val_accuracy: 0.4847 - val_f1_score: 0.3018 - val_loss: 1.3149 - val_precision: 0.6979 - val_recall: 0.1925\n",
      "Epoch 10/100\n",
      "\u001b[1m223/223\u001b[0m \u001b[32m━━━━━━━━━━━━━━━━━━━━\u001b[0m\u001b[37m\u001b[0m \u001b[1m29s\u001b[0m 128ms/step - accuracy: 0.4697 - f1_score: 0.3017 - loss: 1.3365 - precision: 0.6523 - recall: 0.1963 - val_accuracy: 0.4770 - val_f1_score: 0.3470 - val_loss: 1.3189 - val_precision: 0.6568 - val_recall: 0.2358\n",
      "Epoch 11/100\n",
      "\u001b[1m223/223\u001b[0m \u001b[32m━━━━━━━━━━━━━━━━━━━━\u001b[0m\u001b[37m\u001b[0m \u001b[1m29s\u001b[0m 131ms/step - accuracy: 0.4671 - f1_score: 0.3241 - loss: 1.3405 - precision: 0.6609 - recall: 0.2148 - val_accuracy: 0.4757 - val_f1_score: 0.3429 - val_loss: 1.3147 - val_precision: 0.7054 - val_recall: 0.2265\n",
      "Epoch 12/100\n",
      "\u001b[1m223/223\u001b[0m \u001b[32m━━━━━━━━━━━━━━━━━━━━\u001b[0m\u001b[37m\u001b[0m \u001b[1m28s\u001b[0m 127ms/step - accuracy: 0.4716 - f1_score: 0.3240 - loss: 1.3290 - precision: 0.6691 - recall: 0.2141 - val_accuracy: 0.4767 - val_f1_score: 0.3220 - val_loss: 1.3083 - val_precision: 0.6801 - val_recall: 0.2109\n",
      "Epoch 13/100\n",
      "\u001b[1m223/223\u001b[0m \u001b[32m━━━━━━━━━━━━━━━━━━━━\u001b[0m\u001b[37m\u001b[0m \u001b[1m28s\u001b[0m 127ms/step - accuracy: 0.4830 - f1_score: 0.3687 - loss: 1.2882 - precision: 0.6519 - recall: 0.2575 - val_accuracy: 0.4987 - val_f1_score: 0.3431 - val_loss: 1.2578 - val_precision: 0.7212 - val_recall: 0.2251\n",
      "Epoch 14/100\n",
      "\u001b[1m223/223\u001b[0m \u001b[32m━━━━━━━━━━━━━━━━━━━━\u001b[0m\u001b[37m\u001b[0m \u001b[1m41s\u001b[0m 128ms/step - accuracy: 0.5011 - f1_score: 0.3607 - loss: 1.2803 - precision: 0.6677 - recall: 0.2472 - val_accuracy: 0.5240 - val_f1_score: 0.4040 - val_loss: 1.2191 - val_precision: 0.7182 - val_recall: 0.2811\n",
      "Epoch 15/100\n",
      "\u001b[1m223/223\u001b[0m \u001b[32m━━━━━━━━━━━━━━━━━━━━\u001b[0m\u001b[37m\u001b[0m \u001b[1m29s\u001b[0m 130ms/step - accuracy: 0.5172 - f1_score: 0.4079 - loss: 1.2289 - precision: 0.6791 - recall: 0.2916 - val_accuracy: 0.5108 - val_f1_score: 0.4248 - val_loss: 1.2332 - val_precision: 0.6609 - val_recall: 0.3129\n",
      "Epoch 16/100\n",
      "\u001b[1m223/223\u001b[0m \u001b[32m━━━━━━━━━━━━━━━━━━━━\u001b[0m\u001b[37m\u001b[0m \u001b[1m28s\u001b[0m 127ms/step - accuracy: 0.4979 - f1_score: 0.3988 - loss: 1.2483 - precision: 0.6800 - recall: 0.2824 - val_accuracy: 0.5167 - val_f1_score: 0.4416 - val_loss: 1.2012 - val_precision: 0.6721 - val_recall: 0.3288\n",
      "Epoch 17/100\n",
      "\u001b[1m223/223\u001b[0m \u001b[32m━━━━━━━━━━━━━━━━━━━━\u001b[0m\u001b[37m\u001b[0m \u001b[1m30s\u001b[0m 134ms/step - accuracy: 0.5198 - f1_score: 0.4259 - loss: 1.2100 - precision: 0.6930 - recall: 0.3075 - val_accuracy: 0.5505 - val_f1_score: 0.4506 - val_loss: 1.1717 - val_precision: 0.7267 - val_recall: 0.3266\n",
      "Epoch 18/100\n",
      "\u001b[1m223/223\u001b[0m \u001b[32m━━━━━━━━━━━━━━━━━━━━\u001b[0m\u001b[37m\u001b[0m \u001b[1m30s\u001b[0m 133ms/step - accuracy: 0.5301 - f1_score: 0.4437 - loss: 1.2061 - precision: 0.7075 - recall: 0.3233 - val_accuracy: 0.5504 - val_f1_score: 0.4718 - val_loss: 1.1348 - val_precision: 0.7259 - val_recall: 0.3494\n",
      "Epoch 19/100\n",
      "\u001b[1m223/223\u001b[0m \u001b[32m━━━━━━━━━━━━━━━━━━━━\u001b[0m\u001b[37m\u001b[0m \u001b[1m29s\u001b[0m 129ms/step - accuracy: 0.5426 - f1_score: 0.4485 - loss: 1.1581 - precision: 0.7016 - recall: 0.3298 - val_accuracy: 0.5761 - val_f1_score: 0.4803 - val_loss: 1.1074 - val_precision: 0.7360 - val_recall: 0.3564\n",
      "Epoch 20/100\n",
      "\u001b[1m223/223\u001b[0m \u001b[32m━━━━━━━━━━━━━━━━━━━━\u001b[0m\u001b[37m\u001b[0m \u001b[1m30s\u001b[0m 133ms/step - accuracy: 0.5576 - f1_score: 0.4754 - loss: 1.1458 - precision: 0.7173 - recall: 0.3555 - val_accuracy: 0.5640 - val_f1_score: 0.4695 - val_loss: 1.1246 - val_precision: 0.7633 - val_recall: 0.3390\n",
      "Epoch 21/100\n",
      "\u001b[1m223/223\u001b[0m \u001b[32m━━━━━━━━━━━━━━━━━━━━\u001b[0m\u001b[37m\u001b[0m \u001b[1m29s\u001b[0m 131ms/step - accuracy: 0.5451 - f1_score: 0.4731 - loss: 1.1549 - precision: 0.7223 - recall: 0.3521 - val_accuracy: 0.5842 - val_f1_score: 0.4872 - val_loss: 1.0860 - val_precision: 0.7844 - val_recall: 0.3534\n",
      "Epoch 22/100\n",
      "\u001b[1m223/223\u001b[0m \u001b[32m━━━━━━━━━━━━━━━━━━━━\u001b[0m\u001b[37m\u001b[0m \u001b[1m29s\u001b[0m 130ms/step - accuracy: 0.5534 - f1_score: 0.4757 - loss: 1.1390 - precision: 0.7118 - recall: 0.3573 - val_accuracy: 0.5755 - val_f1_score: 0.5214 - val_loss: 1.0835 - val_precision: 0.7474 - val_recall: 0.4004\n",
      "Epoch 23/100\n",
      "\u001b[1m223/223\u001b[0m \u001b[32m━━━━━━━━━━━━━━━━━━━━\u001b[0m\u001b[37m\u001b[0m \u001b[1m29s\u001b[0m 132ms/step - accuracy: 0.5664 - f1_score: 0.4996 - loss: 1.1249 - precision: 0.7259 - recall: 0.3810 - val_accuracy: 0.5978 - val_f1_score: 0.5188 - val_loss: 1.0426 - val_precision: 0.7757 - val_recall: 0.3897\n",
      "Epoch 24/100\n",
      "\u001b[1m223/223\u001b[0m \u001b[32m━━━━━━━━━━━━━━━━━━━━\u001b[0m\u001b[37m\u001b[0m \u001b[1m29s\u001b[0m 132ms/step - accuracy: 0.5745 - f1_score: 0.5065 - loss: 1.1062 - precision: 0.7225 - recall: 0.3900 - val_accuracy: 0.6128 - val_f1_score: 0.5469 - val_loss: 1.0056 - val_precision: 0.7720 - val_recall: 0.4234\n",
      "Epoch 25/100\n",
      "\u001b[1m223/223\u001b[0m \u001b[32m━━━━━━━━━━━━━━━━━━━━\u001b[0m\u001b[37m\u001b[0m \u001b[1m29s\u001b[0m 130ms/step - accuracy: 0.5844 - f1_score: 0.5309 - loss: 1.0672 - precision: 0.7324 - recall: 0.4164 - val_accuracy: 0.6127 - val_f1_score: 0.5608 - val_loss: 1.0071 - val_precision: 0.7643 - val_recall: 0.4429\n",
      "Epoch 26/100\n",
      "\u001b[1m223/223\u001b[0m \u001b[32m━━━━━━━━━━━━━━━━━━━━\u001b[0m\u001b[37m\u001b[0m \u001b[1m29s\u001b[0m 129ms/step - accuracy: 0.5765 - f1_score: 0.5108 - loss: 1.0762 - precision: 0.7122 - recall: 0.3982 - val_accuracy: 0.6212 - val_f1_score: 0.5703 - val_loss: 0.9885 - val_precision: 0.7727 - val_recall: 0.4519\n",
      "Epoch 27/100\n",
      "\u001b[1m223/223\u001b[0m \u001b[32m━━━━━━━━━━━━━━━━━━━━\u001b[0m\u001b[37m\u001b[0m \u001b[1m30s\u001b[0m 133ms/step - accuracy: 0.6005 - f1_score: 0.5518 - loss: 1.0339 - precision: 0.7481 - recall: 0.4372 - val_accuracy: 0.6337 - val_f1_score: 0.5842 - val_loss: 0.9648 - val_precision: 0.7898 - val_recall: 0.4635\n",
      "Epoch 28/100\n",
      "\u001b[1m223/223\u001b[0m \u001b[32m━━━━━━━━━━━━━━━━━━━━\u001b[0m\u001b[37m\u001b[0m \u001b[1m29s\u001b[0m 132ms/step - accuracy: 0.5788 - f1_score: 0.5355 - loss: 1.0524 - precision: 0.7405 - recall: 0.4196 - val_accuracy: 0.6113 - val_f1_score: 0.5408 - val_loss: 1.0201 - val_precision: 0.7811 - val_recall: 0.4136\n",
      "Epoch 29/100\n",
      "\u001b[1m223/223\u001b[0m \u001b[32m━━━━━━━━━━━━━━━━━━━━\u001b[0m\u001b[37m\u001b[0m \u001b[1m30s\u001b[0m 133ms/step - accuracy: 0.6018 - f1_score: 0.5438 - loss: 1.0322 - precision: 0.7337 - recall: 0.4324 - val_accuracy: 0.6270 - val_f1_score: 0.5873 - val_loss: 0.9612 - val_precision: 0.7774 - val_recall: 0.4719\n",
      "Epoch 30/100\n",
      "\u001b[1m223/223\u001b[0m \u001b[32m━━━━━━━━━━━━━━━━━━━━\u001b[0m\u001b[37m\u001b[0m \u001b[1m29s\u001b[0m 131ms/step - accuracy: 0.6047 - f1_score: 0.5571 - loss: 1.0291 - precision: 0.7467 - recall: 0.4444 - val_accuracy: 0.6443 - val_f1_score: 0.6096 - val_loss: 0.9322 - val_precision: 0.7677 - val_recall: 0.5055\n",
      "Epoch 31/100\n",
      "\u001b[1m223/223\u001b[0m \u001b[32m━━━━━━━━━━━━━━━━━━━━\u001b[0m\u001b[37m\u001b[0m \u001b[1m31s\u001b[0m 139ms/step - accuracy: 0.6190 - f1_score: 0.5641 - loss: 0.9873 - precision: 0.7441 - recall: 0.4543 - val_accuracy: 0.6549 - val_f1_score: 0.6066 - val_loss: 0.9172 - val_precision: 0.8177 - val_recall: 0.4822\n",
      "Epoch 32/100\n",
      "\u001b[1m223/223\u001b[0m \u001b[32m━━━━━━━━━━━━━━━━━━━━\u001b[0m\u001b[37m\u001b[0m \u001b[1m30s\u001b[0m 136ms/step - accuracy: 0.6026 - f1_score: 0.5586 - loss: 1.0173 - precision: 0.7449 - recall: 0.4469 - val_accuracy: 0.6746 - val_f1_score: 0.6328 - val_loss: 0.8793 - val_precision: 0.8100 - val_recall: 0.5192\n",
      "Epoch 33/100\n",
      "\u001b[1m223/223\u001b[0m \u001b[32m━━━━━━━━━━━━━━━━━━━━\u001b[0m\u001b[37m\u001b[0m \u001b[1m30s\u001b[0m 135ms/step - accuracy: 0.6196 - f1_score: 0.5818 - loss: 0.9985 - precision: 0.7559 - recall: 0.4729 - val_accuracy: 0.6558 - val_f1_score: 0.6206 - val_loss: 0.9053 - val_precision: 0.7740 - val_recall: 0.5180\n",
      "Epoch 34/100\n",
      "\u001b[1m223/223\u001b[0m \u001b[32m━━━━━━━━━━━━━━━━━━━━\u001b[0m\u001b[37m\u001b[0m \u001b[1m31s\u001b[0m 139ms/step - accuracy: 0.6309 - f1_score: 0.5929 - loss: 0.9483 - precision: 0.7570 - recall: 0.4874 - val_accuracy: 0.6584 - val_f1_score: 0.6328 - val_loss: 0.8928 - val_precision: 0.7772 - val_recall: 0.5337\n",
      "Epoch 35/100\n",
      "\u001b[1m223/223\u001b[0m \u001b[32m━━━━━━━━━━━━━━━━━━━━\u001b[0m\u001b[37m\u001b[0m \u001b[1m32s\u001b[0m 145ms/step - accuracy: 0.6305 - f1_score: 0.5866 - loss: 0.9661 - precision: 0.7539 - recall: 0.4804 - val_accuracy: 0.6476 - val_f1_score: 0.6260 - val_loss: 0.9037 - val_precision: 0.7542 - val_recall: 0.5351\n",
      "Epoch 36/100\n",
      "\u001b[1m223/223\u001b[0m \u001b[32m━━━━━━━━━━━━━━━━━━━━\u001b[0m\u001b[37m\u001b[0m \u001b[1m30s\u001b[0m 133ms/step - accuracy: 0.6233 - f1_score: 0.5892 - loss: 0.9779 - precision: 0.7448 - recall: 0.4876 - val_accuracy: 0.6918 - val_f1_score: 0.6321 - val_loss: 0.8588 - val_precision: 0.8364 - val_recall: 0.5080\n",
      "Epoch 37/100\n",
      "\u001b[1m223/223\u001b[0m \u001b[32m━━━━━━━━━━━━━━━━━━━━\u001b[0m\u001b[37m\u001b[0m \u001b[1m30s\u001b[0m 136ms/step - accuracy: 0.6434 - f1_score: 0.6000 - loss: 0.9333 - precision: 0.7673 - recall: 0.4927 - val_accuracy: 0.6761 - val_f1_score: 0.6428 - val_loss: 0.8656 - val_precision: 0.7939 - val_recall: 0.5400\n",
      "Epoch 38/100\n",
      "\u001b[1m223/223\u001b[0m \u001b[32m━━━━━━━━━━━━━━━━━━━━\u001b[0m\u001b[37m\u001b[0m \u001b[1m30s\u001b[0m 133ms/step - accuracy: 0.6319 - f1_score: 0.6005 - loss: 0.9453 - precision: 0.7549 - recall: 0.4986 - val_accuracy: 0.6597 - val_f1_score: 0.6382 - val_loss: 0.8745 - val_precision: 0.7948 - val_recall: 0.5331\n",
      "Epoch 39/100\n",
      "\u001b[1m223/223\u001b[0m \u001b[32m━━━━━━━━━━━━━━━━━━━━\u001b[0m\u001b[37m\u001b[0m \u001b[1m30s\u001b[0m 133ms/step - accuracy: 0.6341 - f1_score: 0.6019 - loss: 0.9542 - precision: 0.7646 - recall: 0.4964 - val_accuracy: 0.6970 - val_f1_score: 0.6649 - val_loss: 0.8132 - val_precision: 0.8313 - val_recall: 0.5540\n",
      "Epoch 40/100\n",
      "\u001b[1m223/223\u001b[0m \u001b[32m━━━━━━━━━━━━━━━━━━━━\u001b[0m\u001b[37m\u001b[0m \u001b[1m30s\u001b[0m 136ms/step - accuracy: 0.6653 - f1_score: 0.6353 - loss: 0.9005 - precision: 0.7829 - recall: 0.5345 - val_accuracy: 0.6653 - val_f1_score: 0.6386 - val_loss: 0.8673 - val_precision: 0.7861 - val_recall: 0.5377\n",
      "Epoch 41/100\n",
      "\u001b[1m223/223\u001b[0m \u001b[32m━━━━━━━━━━━━━━━━━━━━\u001b[0m\u001b[37m\u001b[0m \u001b[1m30s\u001b[0m 134ms/step - accuracy: 0.6491 - f1_score: 0.6216 - loss: 0.9067 - precision: 0.7667 - recall: 0.5227 - val_accuracy: 0.6692 - val_f1_score: 0.6439 - val_loss: 0.8510 - val_precision: 0.7874 - val_recall: 0.5446\n",
      "Epoch 42/100\n",
      "\u001b[1m223/223\u001b[0m \u001b[32m━━━━━━━━━━━━━━━━━━━━\u001b[0m\u001b[37m\u001b[0m \u001b[1m30s\u001b[0m 133ms/step - accuracy: 0.6472 - f1_score: 0.6067 - loss: 0.9290 - precision: 0.7579 - recall: 0.5058 - val_accuracy: 0.7115 - val_f1_score: 0.6731 - val_loss: 0.7947 - val_precision: 0.8407 - val_recall: 0.5612\n",
      "Epoch 43/100\n",
      "\u001b[1m223/223\u001b[0m \u001b[32m━━━━━━━━━━━━━━━━━━━━\u001b[0m\u001b[37m\u001b[0m \u001b[1m30s\u001b[0m 135ms/step - accuracy: 0.6670 - f1_score: 0.6306 - loss: 0.8949 - precision: 0.7772 - recall: 0.5305 - val_accuracy: 0.6635 - val_f1_score: 0.6464 - val_loss: 0.8613 - val_precision: 0.7868 - val_recall: 0.5486\n",
      "Epoch 44/100\n",
      "\u001b[1m223/223\u001b[0m \u001b[32m━━━━━━━━━━━━━━━━━━━━\u001b[0m\u001b[37m\u001b[0m \u001b[1m30s\u001b[0m 137ms/step - accuracy: 0.6635 - f1_score: 0.6394 - loss: 0.8804 - precision: 0.7855 - recall: 0.5391 - val_accuracy: 0.7154 - val_f1_score: 0.6838 - val_loss: 0.7657 - val_precision: 0.8370 - val_recall: 0.5780\n",
      "Epoch 45/100\n",
      "\u001b[1m223/223\u001b[0m \u001b[32m━━━━━━━━━━━━━━━━━━━━\u001b[0m\u001b[37m\u001b[0m \u001b[1m30s\u001b[0m 136ms/step - accuracy: 0.6754 - f1_score: 0.6471 - loss: 0.8626 - precision: 0.7848 - recall: 0.5507 - val_accuracy: 0.7184 - val_f1_score: 0.6951 - val_loss: 0.7532 - val_precision: 0.8416 - val_recall: 0.5921\n",
      "Epoch 46/100\n",
      "\u001b[1m223/223\u001b[0m \u001b[32m━━━━━━━━━━━━━━━━━━━━\u001b[0m\u001b[37m\u001b[0m \u001b[1m30s\u001b[0m 135ms/step - accuracy: 0.6810 - f1_score: 0.6569 - loss: 0.8536 - precision: 0.8015 - recall: 0.5567 - val_accuracy: 0.7021 - val_f1_score: 0.6728 - val_loss: 0.7925 - val_precision: 0.8248 - val_recall: 0.5681\n",
      "Epoch 47/100\n",
      "\u001b[1m223/223\u001b[0m \u001b[32m━━━━━━━━━━━━━━━━━━━━\u001b[0m\u001b[37m\u001b[0m \u001b[1m31s\u001b[0m 138ms/step - accuracy: 0.6843 - f1_score: 0.6647 - loss: 0.8214 - precision: 0.7894 - recall: 0.5741 - val_accuracy: 0.7167 - val_f1_score: 0.6909 - val_loss: 0.7696 - val_precision: 0.8192 - val_recall: 0.5972\n",
      "Epoch 48/100\n",
      "\u001b[1m223/223\u001b[0m \u001b[32m━━━━━━━━━━━━━━━━━━━━\u001b[0m\u001b[37m\u001b[0m \u001b[1m31s\u001b[0m 140ms/step - accuracy: 0.6813 - f1_score: 0.6601 - loss: 0.8556 - precision: 0.7853 - recall: 0.5694 - val_accuracy: 0.7075 - val_f1_score: 0.6811 - val_loss: 0.7855 - val_precision: 0.8292 - val_recall: 0.5779\n",
      "Epoch 49/100\n",
      "\u001b[1m223/223\u001b[0m \u001b[32m━━━━━━━━━━━━━━━━━━━━\u001b[0m\u001b[37m\u001b[0m \u001b[1m30s\u001b[0m 136ms/step - accuracy: 0.6909 - f1_score: 0.6670 - loss: 0.8208 - precision: 0.8024 - recall: 0.5708 - val_accuracy: 0.7358 - val_f1_score: 0.7129 - val_loss: 0.7194 - val_precision: 0.8491 - val_recall: 0.6144\n",
      "Epoch 50/100\n",
      "\u001b[1m223/223\u001b[0m \u001b[32m━━━━━━━━━━━━━━━━━━━━\u001b[0m\u001b[37m\u001b[0m \u001b[1m31s\u001b[0m 139ms/step - accuracy: 0.6716 - f1_score: 0.6501 - loss: 0.8556 - precision: 0.7838 - recall: 0.5554 - val_accuracy: 0.7165 - val_f1_score: 0.7038 - val_loss: 0.7493 - val_precision: 0.8261 - val_recall: 0.6131\n",
      "Epoch 51/100\n",
      "\u001b[1m223/223\u001b[0m \u001b[32m━━━━━━━━━━━━━━━━━━━━\u001b[0m\u001b[37m\u001b[0m \u001b[1m30s\u001b[0m 136ms/step - accuracy: 0.6913 - f1_score: 0.6717 - loss: 0.8082 - precision: 0.7928 - recall: 0.5828 - val_accuracy: 0.7214 - val_f1_score: 0.7149 - val_loss: 0.7271 - val_precision: 0.8377 - val_recall: 0.6235\n",
      "Epoch 52/100\n",
      "\u001b[1m223/223\u001b[0m \u001b[32m━━━━━━━━━━━━━━━━━━━━\u001b[0m\u001b[37m\u001b[0m \u001b[1m30s\u001b[0m 135ms/step - accuracy: 0.7114 - f1_score: 0.6907 - loss: 0.7884 - precision: 0.8061 - recall: 0.6044 - val_accuracy: 0.7133 - val_f1_score: 0.6987 - val_loss: 0.7533 - val_precision: 0.8262 - val_recall: 0.6052\n",
      "Epoch 53/100\n",
      "\u001b[1m223/223\u001b[0m \u001b[32m━━━━━━━━━━━━━━━━━━━━\u001b[0m\u001b[37m\u001b[0m \u001b[1m35s\u001b[0m 159ms/step - accuracy: 0.6880 - f1_score: 0.6599 - loss: 0.8362 - precision: 0.7919 - recall: 0.5659 - val_accuracy: 0.7383 - val_f1_score: 0.7188 - val_loss: 0.7120 - val_precision: 0.8445 - val_recall: 0.6257\n",
      "Epoch 54/100\n",
      "\u001b[1m223/223\u001b[0m \u001b[32m━━━━━━━━━━━━━━━━━━━━\u001b[0m\u001b[37m\u001b[0m \u001b[1m32s\u001b[0m 142ms/step - accuracy: 0.6878 - f1_score: 0.6576 - loss: 0.8199 - precision: 0.7869 - recall: 0.5648 - val_accuracy: 0.7443 - val_f1_score: 0.7207 - val_loss: 0.7103 - val_precision: 0.8550 - val_recall: 0.6229\n",
      "Epoch 55/100\n",
      "\u001b[1m223/223\u001b[0m \u001b[32m━━━━━━━━━━━━━━━━━━━━\u001b[0m\u001b[37m\u001b[0m \u001b[1m31s\u001b[0m 138ms/step - accuracy: 0.6905 - f1_score: 0.6728 - loss: 0.8144 - precision: 0.7968 - recall: 0.5821 - val_accuracy: 0.7456 - val_f1_score: 0.7330 - val_loss: 0.6856 - val_precision: 0.8536 - val_recall: 0.6423\n",
      "Epoch 56/100\n",
      "\u001b[1m223/223\u001b[0m \u001b[32m━━━━━━━━━━━━━━━━━━━━\u001b[0m\u001b[37m\u001b[0m \u001b[1m30s\u001b[0m 137ms/step - accuracy: 0.7034 - f1_score: 0.6877 - loss: 0.7824 - precision: 0.8063 - recall: 0.5995 - val_accuracy: 0.7502 - val_f1_score: 0.7319 - val_loss: 0.6880 - val_precision: 0.8415 - val_recall: 0.6475\n",
      "Epoch 57/100\n",
      "\u001b[1m223/223\u001b[0m \u001b[32m━━━━━━━━━━━━━━━━━━━━\u001b[0m\u001b[37m\u001b[0m \u001b[1m32s\u001b[0m 141ms/step - accuracy: 0.7052 - f1_score: 0.6916 - loss: 0.7724 - precision: 0.8101 - recall: 0.6034 - val_accuracy: 0.7355 - val_f1_score: 0.7277 - val_loss: 0.7015 - val_precision: 0.8359 - val_recall: 0.6443\n",
      "Epoch 58/100\n",
      "\u001b[1m223/223\u001b[0m \u001b[32m━━━━━━━━━━━━━━━━━━━━\u001b[0m\u001b[37m\u001b[0m \u001b[1m31s\u001b[0m 139ms/step - accuracy: 0.7114 - f1_score: 0.6937 - loss: 0.7747 - precision: 0.8210 - recall: 0.6009 - val_accuracy: 0.7338 - val_f1_score: 0.7144 - val_loss: 0.7096 - val_precision: 0.8397 - val_recall: 0.6217\n",
      "Epoch 59/100\n",
      "\u001b[1m223/223\u001b[0m \u001b[32m━━━━━━━━━━━━━━━━━━━━\u001b[0m\u001b[37m\u001b[0m \u001b[1m31s\u001b[0m 140ms/step - accuracy: 0.7087 - f1_score: 0.6905 - loss: 0.7683 - precision: 0.8058 - recall: 0.6042 - val_accuracy: 0.7495 - val_f1_score: 0.7397 - val_loss: 0.6666 - val_precision: 0.8487 - val_recall: 0.6555\n",
      "Epoch 60/100\n",
      "\u001b[1m223/223\u001b[0m \u001b[32m━━━━━━━━━━━━━━━━━━━━\u001b[0m\u001b[37m\u001b[0m \u001b[1m31s\u001b[0m 141ms/step - accuracy: 0.7218 - f1_score: 0.7018 - loss: 0.7414 - precision: 0.8117 - recall: 0.6181 - val_accuracy: 0.7438 - val_f1_score: 0.7352 - val_loss: 0.6957 - val_precision: 0.8448 - val_recall: 0.6507\n",
      "Epoch 61/100\n",
      "\u001b[1m223/223\u001b[0m \u001b[32m━━━━━━━━━━━━━━━━━━━━\u001b[0m\u001b[37m\u001b[0m \u001b[1m31s\u001b[0m 137ms/step - accuracy: 0.7268 - f1_score: 0.7159 - loss: 0.7300 - precision: 0.8249 - recall: 0.6323 - val_accuracy: 0.7485 - val_f1_score: 0.7341 - val_loss: 0.6820 - val_precision: 0.8506 - val_recall: 0.6457\n",
      "Epoch 62/100\n",
      "\u001b[1m223/223\u001b[0m \u001b[32m━━━━━━━━━━━━━━━━━━━━\u001b[0m\u001b[37m\u001b[0m \u001b[1m31s\u001b[0m 140ms/step - accuracy: 0.7268 - f1_score: 0.7143 - loss: 0.7276 - precision: 0.8216 - recall: 0.6319 - val_accuracy: 0.7529 - val_f1_score: 0.7464 - val_loss: 0.6553 - val_precision: 0.8427 - val_recall: 0.6698\n",
      "Epoch 63/100\n",
      "\u001b[1m223/223\u001b[0m \u001b[32m━━━━━━━━━━━━━━━━━━━━\u001b[0m\u001b[37m\u001b[0m \u001b[1m32s\u001b[0m 143ms/step - accuracy: 0.7224 - f1_score: 0.7064 - loss: 0.7443 - precision: 0.8184 - recall: 0.6214 - val_accuracy: 0.7523 - val_f1_score: 0.7365 - val_loss: 0.6703 - val_precision: 0.8494 - val_recall: 0.6500\n",
      "Epoch 64/100\n",
      "\u001b[1m223/223\u001b[0m \u001b[32m━━━━━━━━━━━━━━━━━━━━\u001b[0m\u001b[37m\u001b[0m \u001b[1m31s\u001b[0m 140ms/step - accuracy: 0.7086 - f1_score: 0.6903 - loss: 0.7632 - precision: 0.8031 - recall: 0.6054 - val_accuracy: 0.7704 - val_f1_score: 0.7461 - val_loss: 0.6401 - val_precision: 0.8627 - val_recall: 0.6572\n",
      "Epoch 65/100\n",
      "\u001b[1m223/223\u001b[0m \u001b[32m━━━━━━━━━━━━━━━━━━━━\u001b[0m\u001b[37m\u001b[0m \u001b[1m31s\u001b[0m 140ms/step - accuracy: 0.7228 - f1_score: 0.7074 - loss: 0.7521 - precision: 0.8178 - recall: 0.6234 - val_accuracy: 0.7676 - val_f1_score: 0.7646 - val_loss: 0.6238 - val_precision: 0.8578 - val_recall: 0.6897\n",
      "Epoch 66/100\n",
      "\u001b[1m223/223\u001b[0m \u001b[32m━━━━━━━━━━━━━━━━━━━━\u001b[0m\u001b[37m\u001b[0m \u001b[1m32s\u001b[0m 145ms/step - accuracy: 0.7246 - f1_score: 0.7104 - loss: 0.7260 - precision: 0.8088 - recall: 0.6334 - val_accuracy: 0.7786 - val_f1_score: 0.7610 - val_loss: 0.6218 - val_precision: 0.8669 - val_recall: 0.6782\n",
      "Epoch 67/100\n",
      "\u001b[1m223/223\u001b[0m \u001b[32m━━━━━━━━━━━━━━━━━━━━\u001b[0m\u001b[37m\u001b[0m \u001b[1m33s\u001b[0m 146ms/step - accuracy: 0.7313 - f1_score: 0.7128 - loss: 0.7289 - precision: 0.8189 - recall: 0.6311 - val_accuracy: 0.7715 - val_f1_score: 0.7552 - val_loss: 0.6326 - val_precision: 0.8588 - val_recall: 0.6740\n",
      "Epoch 68/100\n",
      "\u001b[1m223/223\u001b[0m \u001b[32m━━━━━━━━━━━━━━━━━━━━\u001b[0m\u001b[37m\u001b[0m \u001b[1m31s\u001b[0m 141ms/step - accuracy: 0.7269 - f1_score: 0.7190 - loss: 0.7238 - precision: 0.8207 - recall: 0.6398 - val_accuracy: 0.7909 - val_f1_score: 0.7777 - val_loss: 0.5908 - val_precision: 0.8686 - val_recall: 0.7040\n",
      "Epoch 69/100\n",
      "\u001b[1m223/223\u001b[0m \u001b[32m━━━━━━━━━━━━━━━━━━━━\u001b[0m\u001b[37m\u001b[0m \u001b[1m33s\u001b[0m 146ms/step - accuracy: 0.7377 - f1_score: 0.7208 - loss: 0.7121 - precision: 0.8150 - recall: 0.6462 - val_accuracy: 0.7595 - val_f1_score: 0.7498 - val_loss: 0.6540 - val_precision: 0.8557 - val_recall: 0.6673\n",
      "Epoch 70/100\n",
      "\u001b[1m223/223\u001b[0m \u001b[32m━━━━━━━━━━━━━━━━━━━━\u001b[0m\u001b[37m\u001b[0m \u001b[1m31s\u001b[0m 141ms/step - accuracy: 0.7187 - f1_score: 0.7141 - loss: 0.7315 - precision: 0.8089 - recall: 0.6392 - val_accuracy: 0.7833 - val_f1_score: 0.7653 - val_loss: 0.6100 - val_precision: 0.8703 - val_recall: 0.6829\n",
      "Epoch 71/100\n",
      "\u001b[1m223/223\u001b[0m \u001b[32m━━━━━━━━━━━━━━━━━━━━\u001b[0m\u001b[37m\u001b[0m \u001b[1m32s\u001b[0m 142ms/step - accuracy: 0.7413 - f1_score: 0.7287 - loss: 0.6949 - precision: 0.8232 - recall: 0.6536 - val_accuracy: 0.7877 - val_f1_score: 0.7769 - val_loss: 0.5982 - val_precision: 0.8584 - val_recall: 0.7095\n",
      "Epoch 72/100\n",
      "\u001b[1m223/223\u001b[0m \u001b[32m━━━━━━━━━━━━━━━━━━━━\u001b[0m\u001b[37m\u001b[0m \u001b[1m32s\u001b[0m 144ms/step - accuracy: 0.7336 - f1_score: 0.7188 - loss: 0.7124 - precision: 0.8150 - recall: 0.6431 - val_accuracy: 0.7965 - val_f1_score: 0.7808 - val_loss: 0.5832 - val_precision: 0.8752 - val_recall: 0.7047\n",
      "Epoch 73/100\n",
      "\u001b[1m223/223\u001b[0m \u001b[32m━━━━━━━━━━━━━━━━━━━━\u001b[0m\u001b[37m\u001b[0m \u001b[1m32s\u001b[0m 145ms/step - accuracy: 0.7416 - f1_score: 0.7349 - loss: 0.6835 - precision: 0.8269 - recall: 0.6614 - val_accuracy: 0.7426 - val_f1_score: 0.7403 - val_loss: 0.6931 - val_precision: 0.8204 - val_recall: 0.6744\n",
      "Epoch 74/100\n",
      "\u001b[1m223/223\u001b[0m \u001b[32m━━━━━━━━━━━━━━━━━━━━\u001b[0m\u001b[37m\u001b[0m \u001b[1m32s\u001b[0m 142ms/step - accuracy: 0.7446 - f1_score: 0.7365 - loss: 0.6773 - precision: 0.8355 - recall: 0.6585 - val_accuracy: 0.7696 - val_f1_score: 0.7630 - val_loss: 0.6113 - val_precision: 0.8429 - val_recall: 0.6970\n",
      "Epoch 75/100\n",
      "\u001b[1m223/223\u001b[0m \u001b[32m━━━━━━━━━━━━━━━━━━━━\u001b[0m\u001b[37m\u001b[0m \u001b[1m33s\u001b[0m 146ms/step - accuracy: 0.7489 - f1_score: 0.7318 - loss: 0.6963 - precision: 0.8325 - recall: 0.6529 - val_accuracy: 0.7873 - val_f1_score: 0.7837 - val_loss: 0.5766 - val_precision: 0.8651 - val_recall: 0.7163\n",
      "Epoch 76/100\n",
      "\u001b[1m223/223\u001b[0m \u001b[32m━━━━━━━━━━━━━━━━━━━━\u001b[0m\u001b[37m\u001b[0m \u001b[1m32s\u001b[0m 146ms/step - accuracy: 0.7504 - f1_score: 0.7399 - loss: 0.6753 - precision: 0.8339 - recall: 0.6649 - val_accuracy: 0.7720 - val_f1_score: 0.7690 - val_loss: 0.6223 - val_precision: 0.8450 - val_recall: 0.7056\n",
      "Epoch 77/100\n",
      "\u001b[1m223/223\u001b[0m \u001b[32m━━━━━━━━━━━━━━━━━━━━\u001b[0m\u001b[37m\u001b[0m \u001b[1m32s\u001b[0m 143ms/step - accuracy: 0.7566 - f1_score: 0.7394 - loss: 0.6709 - precision: 0.8301 - recall: 0.6667 - val_accuracy: 0.7958 - val_f1_score: 0.7821 - val_loss: 0.5858 - val_precision: 0.8697 - val_recall: 0.7106\n",
      "Epoch 78/100\n",
      "\u001b[1m223/223\u001b[0m \u001b[32m━━━━━━━━━━━━━━━━━━━━\u001b[0m\u001b[37m\u001b[0m \u001b[1m35s\u001b[0m 159ms/step - accuracy: 0.7461 - f1_score: 0.7396 - loss: 0.6763 - precision: 0.8308 - recall: 0.6664 - val_accuracy: 0.7819 - val_f1_score: 0.7769 - val_loss: 0.6012 - val_precision: 0.8585 - val_recall: 0.7094\n",
      "Epoch 79/100\n",
      "\u001b[1m223/223\u001b[0m \u001b[32m━━━━━━━━━━━━━━━━━━━━\u001b[0m\u001b[37m\u001b[0m \u001b[1m33s\u001b[0m 148ms/step - accuracy: 0.7489 - f1_score: 0.7346 - loss: 0.6738 - precision: 0.8236 - recall: 0.6630 - val_accuracy: 0.7864 - val_f1_score: 0.7746 - val_loss: 0.5835 - val_precision: 0.8658 - val_recall: 0.7008\n",
      "Epoch 80/100\n",
      "\u001b[1m223/223\u001b[0m \u001b[32m━━━━━━━━━━━━━━━━━━━━\u001b[0m\u001b[37m\u001b[0m \u001b[1m32s\u001b[0m 145ms/step - accuracy: 0.7479 - f1_score: 0.7419 - loss: 0.6811 - precision: 0.8288 - recall: 0.6715 - val_accuracy: 0.8049 - val_f1_score: 0.7915 - val_loss: 0.5507 - val_precision: 0.8749 - val_recall: 0.7226\n",
      "Epoch 81/100\n",
      "\u001b[1m223/223\u001b[0m \u001b[32m━━━━━━━━━━━━━━━━━━━━\u001b[0m\u001b[37m\u001b[0m \u001b[1m32s\u001b[0m 146ms/step - accuracy: 0.7550 - f1_score: 0.7500 - loss: 0.6528 - precision: 0.8370 - recall: 0.6794 - val_accuracy: 0.7961 - val_f1_score: 0.7959 - val_loss: 0.5515 - val_precision: 0.8780 - val_recall: 0.7279\n",
      "Epoch 82/100\n",
      "\u001b[1m223/223\u001b[0m \u001b[32m━━━━━━━━━━━━━━━━━━━━\u001b[0m\u001b[37m\u001b[0m \u001b[1m33s\u001b[0m 147ms/step - accuracy: 0.7547 - f1_score: 0.7519 - loss: 0.6390 - precision: 0.8442 - recall: 0.6778 - val_accuracy: 0.7797 - val_f1_score: 0.7707 - val_loss: 0.5970 - val_precision: 0.8686 - val_recall: 0.6927\n",
      "Epoch 83/100\n",
      "\u001b[1m223/223\u001b[0m \u001b[32m━━━━━━━━━━━━━━━━━━━━\u001b[0m\u001b[37m\u001b[0m \u001b[1m33s\u001b[0m 146ms/step - accuracy: 0.7573 - f1_score: 0.7469 - loss: 0.6602 - precision: 0.8373 - recall: 0.6743 - val_accuracy: 0.8027 - val_f1_score: 0.7964 - val_loss: 0.5495 - val_precision: 0.8850 - val_recall: 0.7238\n",
      "Epoch 84/100\n",
      "\u001b[1m223/223\u001b[0m \u001b[32m━━━━━━━━━━━━━━━━━━━━\u001b[0m\u001b[37m\u001b[0m \u001b[1m33s\u001b[0m 146ms/step - accuracy: 0.7578 - f1_score: 0.7469 - loss: 0.6547 - precision: 0.8357 - recall: 0.6753 - val_accuracy: 0.8033 - val_f1_score: 0.7999 - val_loss: 0.5426 - val_precision: 0.8743 - val_recall: 0.7372\n",
      "Epoch 85/100\n",
      "\u001b[1m223/223\u001b[0m \u001b[32m━━━━━━━━━━━━━━━━━━━━\u001b[0m\u001b[37m\u001b[0m \u001b[1m34s\u001b[0m 153ms/step - accuracy: 0.7632 - f1_score: 0.7536 - loss: 0.6563 - precision: 0.8399 - recall: 0.6833 - val_accuracy: 0.8007 - val_f1_score: 0.7948 - val_loss: 0.5530 - val_precision: 0.8799 - val_recall: 0.7247\n",
      "Epoch 86/100\n",
      "\u001b[1m223/223\u001b[0m \u001b[32m━━━━━━━━━━━━━━━━━━━━\u001b[0m\u001b[37m\u001b[0m \u001b[1m33s\u001b[0m 147ms/step - accuracy: 0.7645 - f1_score: 0.7596 - loss: 0.6317 - precision: 0.8416 - recall: 0.6922 - val_accuracy: 0.8157 - val_f1_score: 0.8072 - val_loss: 0.5350 - val_precision: 0.8951 - val_recall: 0.7351\n",
      "Epoch 87/100\n",
      "\u001b[1m223/223\u001b[0m \u001b[32m━━━━━━━━━━━━━━━━━━━━\u001b[0m\u001b[37m\u001b[0m \u001b[1m32s\u001b[0m 146ms/step - accuracy: 0.7611 - f1_score: 0.7581 - loss: 0.6297 - precision: 0.8492 - recall: 0.6848 - val_accuracy: 0.8070 - val_f1_score: 0.7959 - val_loss: 0.5315 - val_precision: 0.8721 - val_recall: 0.7320\n",
      "Epoch 88/100\n",
      "\u001b[1m223/223\u001b[0m \u001b[32m━━━━━━━━━━━━━━━━━━━━\u001b[0m\u001b[37m\u001b[0m \u001b[1m33s\u001b[0m 150ms/step - accuracy: 0.7694 - f1_score: 0.7672 - loss: 0.6237 - precision: 0.8460 - recall: 0.7018 - val_accuracy: 0.8084 - val_f1_score: 0.7998 - val_loss: 0.5386 - val_precision: 0.8892 - val_recall: 0.7266\n",
      "Epoch 89/100\n",
      "\u001b[1m223/223\u001b[0m \u001b[32m━━━━━━━━━━━━━━━━━━━━\u001b[0m\u001b[37m\u001b[0m \u001b[1m32s\u001b[0m 145ms/step - accuracy: 0.7602 - f1_score: 0.7559 - loss: 0.6238 - precision: 0.8422 - recall: 0.6857 - val_accuracy: 0.7958 - val_f1_score: 0.7913 - val_loss: 0.5417 - val_precision: 0.8713 - val_recall: 0.7248\n",
      "Epoch 90/100\n",
      "\u001b[1m223/223\u001b[0m \u001b[32m━━━━━━━━━━━━━━━━━━━━\u001b[0m\u001b[37m\u001b[0m \u001b[1m33s\u001b[0m 146ms/step - accuracy: 0.7696 - f1_score: 0.7644 - loss: 0.6298 - precision: 0.8468 - recall: 0.6967 - val_accuracy: 0.8209 - val_f1_score: 0.8149 - val_loss: 0.5040 - val_precision: 0.8926 - val_recall: 0.7496\n",
      "Epoch 91/100\n",
      "\u001b[1m223/223\u001b[0m \u001b[32m━━━━━━━━━━━━━━━━━━━━\u001b[0m\u001b[37m\u001b[0m \u001b[1m34s\u001b[0m 152ms/step - accuracy: 0.7817 - f1_score: 0.7751 - loss: 0.5973 - precision: 0.8523 - recall: 0.7107 - val_accuracy: 0.8201 - val_f1_score: 0.8191 - val_loss: 0.4944 - val_precision: 0.8892 - val_recall: 0.7592\n",
      "Epoch 92/100\n",
      "\u001b[1m223/223\u001b[0m \u001b[32m━━━━━━━━━━━━━━━━━━━━\u001b[0m\u001b[37m\u001b[0m \u001b[1m33s\u001b[0m 149ms/step - accuracy: 0.7730 - f1_score: 0.7650 - loss: 0.6095 - precision: 0.8413 - recall: 0.7014 - val_accuracy: 0.8160 - val_f1_score: 0.8125 - val_loss: 0.5059 - val_precision: 0.8848 - val_recall: 0.7512\n",
      "Epoch 93/100\n",
      "\u001b[1m223/223\u001b[0m \u001b[32m━━━━━━━━━━━━━━━━━━━━\u001b[0m\u001b[37m\u001b[0m \u001b[1m33s\u001b[0m 148ms/step - accuracy: 0.7718 - f1_score: 0.7586 - loss: 0.6223 - precision: 0.8357 - recall: 0.6945 - val_accuracy: 0.8104 - val_f1_score: 0.8021 - val_loss: 0.5414 - val_precision: 0.8801 - val_recall: 0.7367\n",
      "Epoch 94/100\n",
      "\u001b[1m223/223\u001b[0m \u001b[32m━━━━━━━━━━━━━━━━━━━━\u001b[0m\u001b[37m\u001b[0m \u001b[1m35s\u001b[0m 157ms/step - accuracy: 0.7708 - f1_score: 0.7655 - loss: 0.6106 - precision: 0.8419 - recall: 0.7019 - val_accuracy: 0.8228 - val_f1_score: 0.8162 - val_loss: 0.5042 - val_precision: 0.8856 - val_recall: 0.7569\n",
      "Epoch 95/100\n",
      "\u001b[1m223/223\u001b[0m \u001b[32m━━━━━━━━━━━━━━━━━━━━\u001b[0m\u001b[37m\u001b[0m \u001b[1m33s\u001b[0m 148ms/step - accuracy: 0.7876 - f1_score: 0.7825 - loss: 0.5949 - precision: 0.8552 - recall: 0.7212 - val_accuracy: 0.8104 - val_f1_score: 0.8074 - val_loss: 0.5184 - val_precision: 0.8834 - val_recall: 0.7435\n",
      "Epoch 96/100\n",
      "\u001b[1m223/223\u001b[0m \u001b[32m━━━━━━━━━━━━━━━━━━━━\u001b[0m\u001b[37m\u001b[0m \u001b[1m33s\u001b[0m 149ms/step - accuracy: 0.7782 - f1_score: 0.7720 - loss: 0.6126 - precision: 0.8466 - recall: 0.7095 - val_accuracy: 0.8207 - val_f1_score: 0.8153 - val_loss: 0.4995 - val_precision: 0.8871 - val_recall: 0.7543\n",
      "Epoch 97/100\n",
      "\u001b[1m223/223\u001b[0m \u001b[32m━━━━━━━━━━━━━━━━━━━━\u001b[0m\u001b[37m\u001b[0m \u001b[1m34s\u001b[0m 151ms/step - accuracy: 0.7703 - f1_score: 0.7650 - loss: 0.6166 - precision: 0.8442 - recall: 0.6993 - val_accuracy: 0.8101 - val_f1_score: 0.8100 - val_loss: 0.5201 - val_precision: 0.8869 - val_recall: 0.7453\n",
      "Epoch 98/100\n",
      "\u001b[1m223/223\u001b[0m \u001b[32m━━━━━━━━━━━━━━━━━━━━\u001b[0m\u001b[37m\u001b[0m \u001b[1m33s\u001b[0m 149ms/step - accuracy: 0.7882 - f1_score: 0.7837 - loss: 0.5898 - precision: 0.8557 - recall: 0.7229 - val_accuracy: 0.8273 - val_f1_score: 0.8256 - val_loss: 0.4856 - val_precision: 0.8895 - val_recall: 0.7703\n",
      "Epoch 99/100\n",
      "\u001b[1m223/223\u001b[0m \u001b[32m━━━━━━━━━━━━━━━━━━━━\u001b[0m\u001b[37m\u001b[0m \u001b[1m34s\u001b[0m 152ms/step - accuracy: 0.7920 - f1_score: 0.7885 - loss: 0.5682 - precision: 0.8559 - recall: 0.7311 - val_accuracy: 0.8381 - val_f1_score: 0.8317 - val_loss: 0.4715 - val_precision: 0.9037 - val_recall: 0.7703\n",
      "Epoch 100/100\n",
      "\u001b[1m223/223\u001b[0m \u001b[32m━━━━━━━━━━━━━━━━━━━━\u001b[0m\u001b[37m\u001b[0m \u001b[1m34s\u001b[0m 154ms/step - accuracy: 0.7795 - f1_score: 0.7768 - loss: 0.5814 - precision: 0.8527 - recall: 0.7134 - val_accuracy: 0.8271 - val_f1_score: 0.8232 - val_loss: 0.4845 - val_precision: 0.8860 - val_recall: 0.7687\n"
     ]
    }
   ],
   "source": [
    "# Train the model\n",
    "history = cnn_lstm.fit(\n",
    "    x=training_set,\n",
    "    validation_data=validation_set,\n",
    "    epochs=100\n",
    ")"
   ]
  },
  {
   "cell_type": "code",
   "execution_count": 13,
   "id": "25c927f1-6993-48fd-a271-4732ff2fa260",
   "metadata": {},
   "outputs": [],
   "source": [
    "# Save Loss plot\n",
    "plt.figure()\n",
    "plt.plot(history.history['loss'], label='Train Loss')\n",
    "plt.plot(history.history['val_loss'], label='Validation Loss')\n",
    "plt.legend()\n",
    "plt.title(\"Loss\")\n",
    "plt.xlabel('Epochs')\n",
    "plt.ylabel('Loss')\n",
    "plt.savefig('loss_plot.png')  # Save the plot as a PNG file\n",
    "plt.close()  # Close the figure to avoid memory issues\n",
    "\n",
    "# Save Accuracy plot\n",
    "plt.figure()\n",
    "plt.plot(history.history['accuracy'], label='Train Accuracy')\n",
    "plt.plot(history.history['val_accuracy'], label='Validation Accuracy')\n",
    "plt.legend()\n",
    "plt.title(\"Accuracy\")\n",
    "plt.xlabel('Epochs')\n",
    "plt.ylabel('Accuracy')\n",
    "plt.savefig('accuracy_plot.png')  # Save the plot as a PNG file\n",
    "plt.close()  # Close the figure\n",
    "\n",
    "# Save Precision plot\n",
    "plt.figure()\n",
    "plt.plot(history.history['precision'], label='Train Precision')\n",
    "plt.plot(history.history['val_precision'], label='Validation Precision')\n",
    "plt.legend()\n",
    "plt.title(\"Precision\")\n",
    "plt.xlabel('Epochs')\n",
    "plt.ylabel('Precision')\n",
    "plt.savefig('precision_plot.png')  # Save the plot as a PNG file\n",
    "plt.close()  # Close the figure\n",
    "\n",
    "# Save Recall plot\n",
    "plt.figure()\n",
    "plt.plot(history.history['recall'], label='Train Recall')\n",
    "plt.plot(history.history['val_recall'], label='Validation Recall')\n",
    "plt.legend()\n",
    "plt.title(\"Recall\")\n",
    "plt.xlabel('Epochs')\n",
    "plt.ylabel('Recall')\n",
    "plt.savefig('recall_plot.png')  # Save the plot as a PNG file\n",
    "plt.close()  # Close the figure\n",
    "\n",
    "# Save F1 Score plot\n",
    "plt.figure()\n",
    "plt.plot(history.history['f1_score'], label='Train F1 Score')\n",
    "plt.plot(history.history['val_f1_score'], label='Validation F1 Score')\n",
    "plt.legend()\n",
    "plt.title(\"F1 Score\")\n",
    "plt.xlabel('Epochs')\n",
    "plt.ylabel('F1 Score')\n",
    "plt.savefig('f1_score_plot.png')  # Save the plot as a PNG file\n",
    "plt.close()  # Close the figure"
   ]
  },
  {
   "cell_type": "code",
   "execution_count": 14,
   "id": "91f0ef14-694e-4292-b069-378c5753d812",
   "metadata": {},
   "outputs": [
    {
     "data": {
      "text/html": [
       "<pre style=\"white-space:pre;overflow-x:auto;line-height:normal;font-family:Menlo,'DejaVu Sans Mono',consolas,'Courier New',monospace\"><span style=\"font-weight: bold\">Model: \"sequential\"</span>\n",
       "</pre>\n"
      ],
      "text/plain": [
       "\u001b[1mModel: \"sequential\"\u001b[0m\n"
      ]
     },
     "metadata": {},
     "output_type": "display_data"
    },
    {
     "data": {
      "text/html": [
       "<pre style=\"white-space:pre;overflow-x:auto;line-height:normal;font-family:Menlo,'DejaVu Sans Mono',consolas,'Courier New',monospace\">┏━━━━━━━━━━━━━━━━━━━━━━━━━━━━━━━━━━━━━━┳━━━━━━━━━━━━━━━━━━━━━━━━━━━━━┳━━━━━━━━━━━━━━━━━┓\n",
       "┃<span style=\"font-weight: bold\"> Layer (type)                         </span>┃<span style=\"font-weight: bold\"> Output Shape                </span>┃<span style=\"font-weight: bold\">         Param # </span>┃\n",
       "┡━━━━━━━━━━━━━━━━━━━━━━━━━━━━━━━━━━━━━━╇━━━━━━━━━━━━━━━━━━━━━━━━━━━━━╇━━━━━━━━━━━━━━━━━┩\n",
       "│ flatten (<span style=\"color: #0087ff; text-decoration-color: #0087ff\">Flatten</span>)                    │ (<span style=\"color: #00d7ff; text-decoration-color: #00d7ff\">None</span>, <span style=\"color: #00af00; text-decoration-color: #00af00\">12288</span>)               │               <span style=\"color: #00af00; text-decoration-color: #00af00\">0</span> │\n",
       "├──────────────────────────────────────┼─────────────────────────────┼─────────────────┤\n",
       "│ reshape (<span style=\"color: #0087ff; text-decoration-color: #0087ff\">Reshape</span>)                    │ (<span style=\"color: #00d7ff; text-decoration-color: #00d7ff\">None</span>, <span style=\"color: #00af00; text-decoration-color: #00af00\">16</span>, <span style=\"color: #00af00; text-decoration-color: #00af00\">768</span>)             │               <span style=\"color: #00af00; text-decoration-color: #00af00\">0</span> │\n",
       "├──────────────────────────────────────┼─────────────────────────────┼─────────────────┤\n",
       "│ lstm (<span style=\"color: #0087ff; text-decoration-color: #0087ff\">LSTM</span>)                          │ (<span style=\"color: #00d7ff; text-decoration-color: #00d7ff\">None</span>, <span style=\"color: #00af00; text-decoration-color: #00af00\">64</span>)                  │         <span style=\"color: #00af00; text-decoration-color: #00af00\">213,248</span> │\n",
       "├──────────────────────────────────────┼─────────────────────────────┼─────────────────┤\n",
       "│ dense (<span style=\"color: #0087ff; text-decoration-color: #0087ff\">Dense</span>)                        │ (<span style=\"color: #00d7ff; text-decoration-color: #00d7ff\">None</span>, <span style=\"color: #00af00; text-decoration-color: #00af00\">128</span>)                 │           <span style=\"color: #00af00; text-decoration-color: #00af00\">8,320</span> │\n",
       "├──────────────────────────────────────┼─────────────────────────────┼─────────────────┤\n",
       "│ dense_1 (<span style=\"color: #0087ff; text-decoration-color: #0087ff\">Dense</span>)                      │ (<span style=\"color: #00d7ff; text-decoration-color: #00d7ff\">None</span>, <span style=\"color: #00af00; text-decoration-color: #00af00\">6</span>)                   │             <span style=\"color: #00af00; text-decoration-color: #00af00\">774</span> │\n",
       "└──────────────────────────────────────┴─────────────────────────────┴─────────────────┘\n",
       "</pre>\n"
      ],
      "text/plain": [
       "┏━━━━━━━━━━━━━━━━━━━━━━━━━━━━━━━━━━━━━━┳━━━━━━━━━━━━━━━━━━━━━━━━━━━━━┳━━━━━━━━━━━━━━━━━┓\n",
       "┃\u001b[1m \u001b[0m\u001b[1mLayer (type)                        \u001b[0m\u001b[1m \u001b[0m┃\u001b[1m \u001b[0m\u001b[1mOutput Shape               \u001b[0m\u001b[1m \u001b[0m┃\u001b[1m \u001b[0m\u001b[1m        Param #\u001b[0m\u001b[1m \u001b[0m┃\n",
       "┡━━━━━━━━━━━━━━━━━━━━━━━━━━━━━━━━━━━━━━╇━━━━━━━━━━━━━━━━━━━━━━━━━━━━━╇━━━━━━━━━━━━━━━━━┩\n",
       "│ flatten (\u001b[38;5;33mFlatten\u001b[0m)                    │ (\u001b[38;5;45mNone\u001b[0m, \u001b[38;5;34m12288\u001b[0m)               │               \u001b[38;5;34m0\u001b[0m │\n",
       "├──────────────────────────────────────┼─────────────────────────────┼─────────────────┤\n",
       "│ reshape (\u001b[38;5;33mReshape\u001b[0m)                    │ (\u001b[38;5;45mNone\u001b[0m, \u001b[38;5;34m16\u001b[0m, \u001b[38;5;34m768\u001b[0m)             │               \u001b[38;5;34m0\u001b[0m │\n",
       "├──────────────────────────────────────┼─────────────────────────────┼─────────────────┤\n",
       "│ lstm (\u001b[38;5;33mLSTM\u001b[0m)                          │ (\u001b[38;5;45mNone\u001b[0m, \u001b[38;5;34m64\u001b[0m)                  │         \u001b[38;5;34m213,248\u001b[0m │\n",
       "├──────────────────────────────────────┼─────────────────────────────┼─────────────────┤\n",
       "│ dense (\u001b[38;5;33mDense\u001b[0m)                        │ (\u001b[38;5;45mNone\u001b[0m, \u001b[38;5;34m128\u001b[0m)                 │           \u001b[38;5;34m8,320\u001b[0m │\n",
       "├──────────────────────────────────────┼─────────────────────────────┼─────────────────┤\n",
       "│ dense_1 (\u001b[38;5;33mDense\u001b[0m)                      │ (\u001b[38;5;45mNone\u001b[0m, \u001b[38;5;34m6\u001b[0m)                   │             \u001b[38;5;34m774\u001b[0m │\n",
       "└──────────────────────────────────────┴─────────────────────────────┴─────────────────┘\n"
      ]
     },
     "metadata": {},
     "output_type": "display_data"
    },
    {
     "data": {
      "text/html": [
       "<pre style=\"white-space:pre;overflow-x:auto;line-height:normal;font-family:Menlo,'DejaVu Sans Mono',consolas,'Courier New',monospace\"><span style=\"font-weight: bold\"> Total params: </span><span style=\"color: #00af00; text-decoration-color: #00af00\">667,028</span> (2.54 MB)\n",
       "</pre>\n"
      ],
      "text/plain": [
       "\u001b[1m Total params: \u001b[0m\u001b[38;5;34m667,028\u001b[0m (2.54 MB)\n"
      ]
     },
     "metadata": {},
     "output_type": "display_data"
    },
    {
     "data": {
      "text/html": [
       "<pre style=\"white-space:pre;overflow-x:auto;line-height:normal;font-family:Menlo,'DejaVu Sans Mono',consolas,'Courier New',monospace\"><span style=\"font-weight: bold\"> Trainable params: </span><span style=\"color: #00af00; text-decoration-color: #00af00\">222,342</span> (868.52 KB)\n",
       "</pre>\n"
      ],
      "text/plain": [
       "\u001b[1m Trainable params: \u001b[0m\u001b[38;5;34m222,342\u001b[0m (868.52 KB)\n"
      ]
     },
     "metadata": {},
     "output_type": "display_data"
    },
    {
     "data": {
      "text/html": [
       "<pre style=\"white-space:pre;overflow-x:auto;line-height:normal;font-family:Menlo,'DejaVu Sans Mono',consolas,'Courier New',monospace\"><span style=\"font-weight: bold\"> Non-trainable params: </span><span style=\"color: #00af00; text-decoration-color: #00af00\">0</span> (0.00 B)\n",
       "</pre>\n"
      ],
      "text/plain": [
       "\u001b[1m Non-trainable params: \u001b[0m\u001b[38;5;34m0\u001b[0m (0.00 B)\n"
      ]
     },
     "metadata": {},
     "output_type": "display_data"
    },
    {
     "data": {
      "text/html": [
       "<pre style=\"white-space:pre;overflow-x:auto;line-height:normal;font-family:Menlo,'DejaVu Sans Mono',consolas,'Courier New',monospace\"><span style=\"font-weight: bold\"> Optimizer params: </span><span style=\"color: #00af00; text-decoration-color: #00af00\">444,686</span> (1.70 MB)\n",
       "</pre>\n"
      ],
      "text/plain": [
       "\u001b[1m Optimizer params: \u001b[0m\u001b[38;5;34m444,686\u001b[0m (1.70 MB)\n"
      ]
     },
     "metadata": {},
     "output_type": "display_data"
    }
   ],
   "source": [
    "cnn_lstm.summary()"
   ]
  },
  {
   "cell_type": "code",
   "execution_count": null,
   "id": "f910dcdf-ebc0-4cae-a42c-66212961b96e",
   "metadata": {},
   "outputs": [],
   "source": []
  }
 ],
 "metadata": {
  "kernelspec": {
   "display_name": "Python 3 (ipykernel)",
   "language": "python",
   "name": "python3"
  },
  "language_info": {
   "codemirror_mode": {
    "name": "ipython",
    "version": 3
   },
   "file_extension": ".py",
   "mimetype": "text/x-python",
   "name": "python",
   "nbconvert_exporter": "python",
   "pygments_lexer": "ipython3",
   "version": "3.12.2"
  }
 },
 "nbformat": 4,
 "nbformat_minor": 5
}
