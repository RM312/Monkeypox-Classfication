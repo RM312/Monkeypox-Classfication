{
 "cells": [
  {
   "cell_type": "code",
   "execution_count": 1,
   "id": "3cd02480-d775-4d89-8315-21e137fd49d9",
   "metadata": {},
   "outputs": [],
   "source": [
    "import tensorflow as tf\n",
    "from tensorflow.keras.preprocessing.image import ImageDataGenerator\n",
    "from tensorflow.compat.v1 import ConfigProto\n",
    "from tensorflow.compat.v1 import InteractiveSession\n",
    "import matplotlib.pyplot as plt"
   ]
  },
  {
   "cell_type": "code",
   "execution_count": 2,
   "id": "a7f42a4a-6dc1-4aaf-9cc5-1068f982e4ae",
   "metadata": {},
   "outputs": [],
   "source": [
    "# GPU Configuration\n",
    "config = ConfigProto()\n",
    "config.gpu_options.per_process_gpu_memory_fraction = 0.5\n",
    "config.gpu_options.allow_growth = True\n",
    "session = InteractiveSession(config=config)"
   ]
  },
  {
   "cell_type": "code",
   "execution_count": 3,
   "id": "2d514a9f-d327-416b-970f-81063cf92631",
   "metadata": {},
   "outputs": [],
   "source": [
    "# Data Augmentation for Training\n",
    "train_datagen = ImageDataGenerator(rescale=1./255,\n",
    "                                   shear_range=0.2,\n",
    "                                   zoom_range=0.2,\n",
    "                                   horizontal_flip=True)"
   ]
  },
  {
   "cell_type": "code",
   "execution_count": 4,
   "id": "47eab79c-f4e8-44c4-8161-94489ce5f05e",
   "metadata": {},
   "outputs": [
    {
     "name": "stdout",
     "output_type": "stream",
     "text": [
      "Found 7532 images belonging to 6 classes.\n"
     ]
    }
   ],
   "source": [
    "training_set = train_datagen.flow_from_directory(\n",
    "    \"Monkeypox/archive (60)/Augmented Images/Augmented Images/FOLDS_AUG/fold3_AUG/Train/\",\n",
    "    target_size=(64, 64),\n",
    "    batch_size=32,\n",
    "    class_mode='categorical',  # Use 'categorical' for one-hot encoded labels\n",
    ")"
   ]
  },
  {
   "cell_type": "code",
   "execution_count": 5,
   "id": "fb847414-879d-44ef-9265-3694e6b15132",
   "metadata": {},
   "outputs": [
    {
     "name": "stdout",
     "output_type": "stream",
     "text": [
      "Found 7532 images belonging to 6 classes.\n"
     ]
    }
   ],
   "source": [
    "test_datagen = ImageDataGenerator(rescale=1./255)\n",
    "validation_set = test_datagen.flow_from_directory(\n",
    "    \"Monkeypox/archive (60)/Augmented Images/Augmented Images/FOLDS_AUG/fold3_AUG/Train/\",\n",
    "    target_size=(64, 64),\n",
    "    batch_size=32,\n",
    "    class_mode='categorical',  # Use 'categorical' for one-hot encoded labels\n",
    ")"
   ]
  },
  {
   "cell_type": "code",
   "execution_count": 6,
   "id": "c5369b57-9039-43d7-8cb3-99fb600fb257",
   "metadata": {},
   "outputs": [],
   "source": [
    "# Custom F1 Score Metric\n",
    "class F1Score(tf.keras.metrics.Metric):\n",
    "    def __init__(self, name='f1_score', **kwargs):\n",
    "        super(F1Score, self).__init__(name=name, **kwargs)\n",
    "        self.precision = tf.keras.metrics.Precision()\n",
    "        self.recall = tf.keras.metrics.Recall()\n",
    "\n",
    "    def update_state(self, y_true, y_pred, sample_weight=None):\n",
    "        # Update the precision and recall for each batch\n",
    "        self.precision.update_state(y_true, y_pred, sample_weight)\n",
    "        self.recall.update_state(y_true, y_pred, sample_weight)\n",
    "\n",
    "    def result(self):\n",
    "        # Calculate F1 score as the harmonic mean of precision and recall\n",
    "        precision = self.precision.result()\n",
    "        recall = self.recall.result()\n",
    "        return 2 * (precision * recall) / (precision + recall + tf.keras.backend.epsilon())\n",
    "\n",
    "    def reset_states(self):\n",
    "        self.precision.reset_states()\n",
    "        self.recall.reset_states()"
   ]
  },
  {
   "cell_type": "code",
   "execution_count": 7,
   "id": "de31b155-2af3-41bb-99e0-c3d18d809b9c",
   "metadata": {},
   "outputs": [],
   "source": [
    "# Build the CNN-LSTM Model\n",
    "cnn_lstm = tf.keras.models.Sequential()"
   ]
  },
  {
   "cell_type": "code",
   "execution_count": 8,
   "id": "4171882a-a6ba-47fb-b31f-c313e410605c",
   "metadata": {},
   "outputs": [],
   "source": [
    "# Flatten and Reshape for LSTM\n",
    "cnn_lstm.add(tf.keras.layers.Flatten())\n",
    "cnn_lstm.add(tf.keras.layers.Reshape((16, -1)))  # Reshape to (time_steps, features)"
   ]
  },
  {
   "cell_type": "code",
   "execution_count": 9,
   "id": "0216b094-45d0-411b-838a-6631dc7d7faf",
   "metadata": {},
   "outputs": [],
   "source": [
    "# LSTM Layer\n",
    "cnn_lstm.add(tf.keras.layers.LSTM(units=64, activation='tanh', return_sequences=False))"
   ]
  },
  {
   "cell_type": "code",
   "execution_count": 10,
   "id": "bfca0d7a-5875-4fe7-8b6c-df6bba900183",
   "metadata": {},
   "outputs": [],
   "source": [
    "# Fully Connected Layers\n",
    "cnn_lstm.add(tf.keras.layers.Dense(units=128, activation='relu'))\n",
    "cnn_lstm.add(tf.keras.layers.Dense(6, activation='softmax'))  # 6 classes"
   ]
  },
  {
   "cell_type": "code",
   "execution_count": 11,
   "id": "a104018e-f471-4a92-9b22-a7805df809ff",
   "metadata": {},
   "outputs": [],
   "source": [
    "# Compile the model with Precision, Recall, and F1 Score\n",
    "cnn_lstm.compile(\n",
    "    optimizer='adam',\n",
    "    loss='categorical_crossentropy',  # Use categorical_crossentropy for one-hot encoded labels\n",
    "    metrics=[\n",
    "        'accuracy',\n",
    "        tf.keras.metrics.Precision(name='precision'),\n",
    "        tf.keras.metrics.Recall(name='recall'),\n",
    "        F1Score(name='f1_score')  # Add custom F1 score metric\n",
    "    ]\n",
    ")"
   ]
  },
  {
   "cell_type": "code",
   "execution_count": 12,
   "id": "c896b5de-f052-4f59-8cc6-b75bf9b6debf",
   "metadata": {},
   "outputs": [
    {
     "name": "stderr",
     "output_type": "stream",
     "text": [
      "C:\\Users\\KIIT\\AppData\\Local\\Programs\\Python\\Python312\\Lib\\site-packages\\keras\\src\\trainers\\data_adapters\\py_dataset_adapter.py:121: UserWarning: Your `PyDataset` class should call `super().__init__(**kwargs)` in its constructor. `**kwargs` can include `workers`, `use_multiprocessing`, `max_queue_size`. Do not pass these arguments to `fit()`, as they will be ignored.\n",
      "  self._warn_if_super_not_called()\n"
     ]
    },
    {
     "name": "stdout",
     "output_type": "stream",
     "text": [
      "Epoch 1/100\n",
      "\u001b[1m236/236\u001b[0m \u001b[32m━━━━━━━━━━━━━━━━━━━━\u001b[0m\u001b[37m\u001b[0m \u001b[1m0s\u001b[0m 193ms/step - accuracy: 0.3967 - f1_score: 0.0604 - loss: 1.5940 - precision: 0.4156 - recall: 0.0329"
     ]
    },
    {
     "name": "stderr",
     "output_type": "stream",
     "text": [
      "C:\\Users\\KIIT\\AppData\\Local\\Programs\\Python\\Python312\\Lib\\site-packages\\keras\\src\\trainers\\data_adapters\\py_dataset_adapter.py:121: UserWarning: Your `PyDataset` class should call `super().__init__(**kwargs)` in its constructor. `**kwargs` can include `workers`, `use_multiprocessing`, `max_queue_size`. Do not pass these arguments to `fit()`, as they will be ignored.\n",
      "  self._warn_if_super_not_called()\n"
     ]
    },
    {
     "name": "stdout",
     "output_type": "stream",
     "text": [
      "\u001b[1m236/236\u001b[0m \u001b[32m━━━━━━━━━━━━━━━━━━━━\u001b[0m\u001b[37m\u001b[0m \u001b[1m72s\u001b[0m 275ms/step - accuracy: 0.3968 - f1_score: 0.0606 - loss: 1.5939 - precision: 0.4161 - recall: 0.0330 - val_accuracy: 0.4144 - val_f1_score: 0.1081 - val_loss: 1.5191 - val_precision: 0.6529 - val_recall: 0.0589\n",
      "Epoch 2/100\n",
      "\u001b[1m236/236\u001b[0m \u001b[32m━━━━━━━━━━━━━━━━━━━━\u001b[0m\u001b[37m\u001b[0m \u001b[1m61s\u001b[0m 260ms/step - accuracy: 0.4033 - f1_score: 0.1329 - loss: 1.5391 - precision: 0.5273 - recall: 0.0763 - val_accuracy: 0.4142 - val_f1_score: 0.3178 - val_loss: 1.5147 - val_precision: 0.5065 - val_recall: 0.2315\n",
      "Epoch 3/100\n",
      "\u001b[1m236/236\u001b[0m \u001b[32m━━━━━━━━━━━━━━━━━━━━\u001b[0m\u001b[37m\u001b[0m \u001b[1m61s\u001b[0m 257ms/step - accuracy: 0.4278 - f1_score: 0.1756 - loss: 1.4960 - precision: 0.5749 - recall: 0.1041 - val_accuracy: 0.4274 - val_f1_score: 0.2955 - val_loss: 1.4617 - val_precision: 0.5564 - val_recall: 0.2011\n",
      "Epoch 4/100\n",
      "\u001b[1m236/236\u001b[0m \u001b[32m━━━━━━━━━━━━━━━━━━━━\u001b[0m\u001b[37m\u001b[0m \u001b[1m56s\u001b[0m 238ms/step - accuracy: 0.4354 - f1_score: 0.2093 - loss: 1.4557 - precision: 0.5894 - recall: 0.1277 - val_accuracy: 0.4497 - val_f1_score: 0.1936 - val_loss: 1.4177 - val_precision: 0.6669 - val_recall: 0.1133\n",
      "Epoch 5/100\n",
      "\u001b[1m236/236\u001b[0m \u001b[32m━━━━━━━━━━━━━━━━━━━━\u001b[0m\u001b[37m\u001b[0m \u001b[1m55s\u001b[0m 233ms/step - accuracy: 0.4488 - f1_score: 0.2389 - loss: 1.4324 - precision: 0.6328 - recall: 0.1477 - val_accuracy: 0.4707 - val_f1_score: 0.1858 - val_loss: 1.3960 - val_precision: 0.6993 - val_recall: 0.1071\n",
      "Epoch 6/100\n",
      "\u001b[1m236/236\u001b[0m \u001b[32m━━━━━━━━━━━━━━━━━━━━\u001b[0m\u001b[37m\u001b[0m \u001b[1m55s\u001b[0m 233ms/step - accuracy: 0.4717 - f1_score: 0.2859 - loss: 1.3814 - precision: 0.6375 - recall: 0.1852 - val_accuracy: 0.4729 - val_f1_score: 0.2873 - val_loss: 1.3617 - val_precision: 0.6630 - val_recall: 0.1834\n",
      "Epoch 7/100\n",
      "\u001b[1m236/236\u001b[0m \u001b[32m━━━━━━━━━━━━━━━━━━━━\u001b[0m\u001b[37m\u001b[0m \u001b[1m56s\u001b[0m 239ms/step - accuracy: 0.4803 - f1_score: 0.3120 - loss: 1.3601 - precision: 0.6247 - recall: 0.2081 - val_accuracy: 0.4904 - val_f1_score: 0.3599 - val_loss: 1.3313 - val_precision: 0.6376 - val_recall: 0.2507\n",
      "Epoch 8/100\n",
      "\u001b[1m236/236\u001b[0m \u001b[32m━━━━━━━━━━━━━━━━━━━━\u001b[0m\u001b[37m\u001b[0m \u001b[1m55s\u001b[0m 233ms/step - accuracy: 0.5009 - f1_score: 0.3633 - loss: 1.3267 - precision: 0.6541 - recall: 0.2518 - val_accuracy: 0.4940 - val_f1_score: 0.3568 - val_loss: 1.3030 - val_precision: 0.6810 - val_recall: 0.2418\n",
      "Epoch 9/100\n",
      "\u001b[1m236/236\u001b[0m \u001b[32m━━━━━━━━━━━━━━━━━━━━\u001b[0m\u001b[37m\u001b[0m \u001b[1m55s\u001b[0m 232ms/step - accuracy: 0.4911 - f1_score: 0.3573 - loss: 1.3166 - precision: 0.6479 - recall: 0.2471 - val_accuracy: 0.5085 - val_f1_score: 0.4058 - val_loss: 1.2843 - val_precision: 0.6815 - val_recall: 0.2889\n",
      "Epoch 10/100\n",
      "\u001b[1m236/236\u001b[0m \u001b[32m━━━━━━━━━━━━━━━━━━━━\u001b[0m\u001b[37m\u001b[0m \u001b[1m54s\u001b[0m 229ms/step - accuracy: 0.4930 - f1_score: 0.3769 - loss: 1.3042 - precision: 0.6362 - recall: 0.2679 - val_accuracy: 0.4973 - val_f1_score: 0.4253 - val_loss: 1.2937 - val_precision: 0.6411 - val_recall: 0.3182\n",
      "Epoch 11/100\n",
      "\u001b[1m236/236\u001b[0m \u001b[32m━━━━━━━━━━━━━━━━━━━━\u001b[0m\u001b[37m\u001b[0m \u001b[1m54s\u001b[0m 228ms/step - accuracy: 0.5153 - f1_score: 0.4004 - loss: 1.2954 - precision: 0.6465 - recall: 0.2904 - val_accuracy: 0.5231 - val_f1_score: 0.4262 - val_loss: 1.2407 - val_precision: 0.6632 - val_recall: 0.3140\n",
      "Epoch 12/100\n",
      "\u001b[1m236/236\u001b[0m \u001b[32m━━━━━━━━━━━━━━━━━━━━\u001b[0m\u001b[37m\u001b[0m \u001b[1m55s\u001b[0m 233ms/step - accuracy: 0.5139 - f1_score: 0.4205 - loss: 1.2572 - precision: 0.6485 - recall: 0.3112 - val_accuracy: 0.5428 - val_f1_score: 0.4519 - val_loss: 1.2041 - val_precision: 0.6901 - val_recall: 0.3359\n",
      "Epoch 13/100\n",
      "\u001b[1m236/236\u001b[0m \u001b[32m━━━━━━━━━━━━━━━━━━━━\u001b[0m\u001b[37m\u001b[0m \u001b[1m54s\u001b[0m 229ms/step - accuracy: 0.5317 - f1_score: 0.4461 - loss: 1.2118 - precision: 0.6765 - recall: 0.3328 - val_accuracy: 0.5446 - val_f1_score: 0.4679 - val_loss: 1.1895 - val_precision: 0.6997 - val_recall: 0.3514\n",
      "Epoch 14/100\n",
      "\u001b[1m236/236\u001b[0m \u001b[32m━━━━━━━━━━━━━━━━━━━━\u001b[0m\u001b[37m\u001b[0m \u001b[1m54s\u001b[0m 229ms/step - accuracy: 0.5247 - f1_score: 0.4317 - loss: 1.2366 - precision: 0.6599 - recall: 0.3208 - val_accuracy: 0.5510 - val_f1_score: 0.4860 - val_loss: 1.1688 - val_precision: 0.6799 - val_recall: 0.3781\n",
      "Epoch 15/100\n",
      "\u001b[1m236/236\u001b[0m \u001b[32m━━━━━━━━━━━━━━━━━━━━\u001b[0m\u001b[37m\u001b[0m \u001b[1m54s\u001b[0m 229ms/step - accuracy: 0.5362 - f1_score: 0.4587 - loss: 1.1935 - precision: 0.6764 - recall: 0.3470 - val_accuracy: 0.5595 - val_f1_score: 0.4280 - val_loss: 1.1693 - val_precision: 0.7380 - val_recall: 0.3014\n",
      "Epoch 16/100\n",
      "\u001b[1m236/236\u001b[0m \u001b[32m━━━━━━━━━━━━━━━━━━━━\u001b[0m\u001b[37m\u001b[0m \u001b[1m82s\u001b[0m 228ms/step - accuracy: 0.5440 - f1_score: 0.4716 - loss: 1.1781 - precision: 0.6872 - recall: 0.3591 - val_accuracy: 0.5620 - val_f1_score: 0.4709 - val_loss: 1.1459 - val_precision: 0.7091 - val_recall: 0.3525\n",
      "Epoch 17/100\n",
      "\u001b[1m236/236\u001b[0m \u001b[32m━━━━━━━━━━━━━━━━━━━━\u001b[0m\u001b[37m\u001b[0m \u001b[1m54s\u001b[0m 230ms/step - accuracy: 0.5494 - f1_score: 0.4635 - loss: 1.1792 - precision: 0.6826 - recall: 0.3510 - val_accuracy: 0.5629 - val_f1_score: 0.4652 - val_loss: 1.1452 - val_precision: 0.6994 - val_recall: 0.3485\n",
      "Epoch 18/100\n",
      "\u001b[1m236/236\u001b[0m \u001b[32m━━━━━━━━━━━━━━━━━━━━\u001b[0m\u001b[37m\u001b[0m \u001b[1m55s\u001b[0m 234ms/step - accuracy: 0.5659 - f1_score: 0.4948 - loss: 1.1285 - precision: 0.6975 - recall: 0.3835 - val_accuracy: 0.5741 - val_f1_score: 0.5032 - val_loss: 1.0990 - val_precision: 0.7084 - val_recall: 0.3902\n",
      "Epoch 19/100\n",
      "\u001b[1m236/236\u001b[0m \u001b[32m━━━━━━━━━━━━━━━━━━━━\u001b[0m\u001b[37m\u001b[0m \u001b[1m55s\u001b[0m 234ms/step - accuracy: 0.5680 - f1_score: 0.4894 - loss: 1.1334 - precision: 0.6881 - recall: 0.3797 - val_accuracy: 0.5957 - val_f1_score: 0.5199 - val_loss: 1.0807 - val_precision: 0.7447 - val_recall: 0.3994\n",
      "Epoch 20/100\n",
      "\u001b[1m236/236\u001b[0m \u001b[32m━━━━━━━━━━━━━━━━━━━━\u001b[0m\u001b[37m\u001b[0m \u001b[1m54s\u001b[0m 230ms/step - accuracy: 0.5795 - f1_score: 0.5167 - loss: 1.1049 - precision: 0.6976 - recall: 0.4103 - val_accuracy: 0.5969 - val_f1_score: 0.5288 - val_loss: 1.0561 - val_precision: 0.7306 - val_recall: 0.4144\n",
      "Epoch 21/100\n",
      "\u001b[1m236/236\u001b[0m \u001b[32m━━━━━━━━━━━━━━━━━━━━\u001b[0m\u001b[37m\u001b[0m \u001b[1m54s\u001b[0m 228ms/step - accuracy: 0.5779 - f1_score: 0.5088 - loss: 1.1014 - precision: 0.7082 - recall: 0.3971 - val_accuracy: 0.6087 - val_f1_score: 0.5414 - val_loss: 1.0332 - val_precision: 0.7535 - val_recall: 0.4225\n",
      "Epoch 22/100\n",
      "\u001b[1m236/236\u001b[0m \u001b[32m━━━━━━━━━━━━━━━━━━━━\u001b[0m\u001b[37m\u001b[0m \u001b[1m54s\u001b[0m 230ms/step - accuracy: 0.5789 - f1_score: 0.5149 - loss: 1.0880 - precision: 0.7137 - recall: 0.4028 - val_accuracy: 0.5993 - val_f1_score: 0.5145 - val_loss: 1.0487 - val_precision: 0.7563 - val_recall: 0.3898\n",
      "Epoch 23/100\n",
      "\u001b[1m236/236\u001b[0m \u001b[32m━━━━━━━━━━━━━━━━━━━━\u001b[0m\u001b[37m\u001b[0m \u001b[1m54s\u001b[0m 231ms/step - accuracy: 0.5863 - f1_score: 0.5194 - loss: 1.0775 - precision: 0.7037 - recall: 0.4116 - val_accuracy: 0.6229 - val_f1_score: 0.5594 - val_loss: 1.0118 - val_precision: 0.7522 - val_recall: 0.4453\n",
      "Epoch 24/100\n",
      "\u001b[1m236/236\u001b[0m \u001b[32m━━━━━━━━━━━━━━━━━━━━\u001b[0m\u001b[37m\u001b[0m \u001b[1m54s\u001b[0m 230ms/step - accuracy: 0.5905 - f1_score: 0.5440 - loss: 1.0550 - precision: 0.7341 - recall: 0.4322 - val_accuracy: 0.6118 - val_f1_score: 0.5708 - val_loss: 1.0149 - val_precision: 0.7169 - val_recall: 0.4741\n",
      "Epoch 25/100\n",
      "\u001b[1m236/236\u001b[0m \u001b[32m━━━━━━━━━━━━━━━━━━━━\u001b[0m\u001b[37m\u001b[0m \u001b[1m51s\u001b[0m 218ms/step - accuracy: 0.6055 - f1_score: 0.5585 - loss: 1.0366 - precision: 0.7302 - recall: 0.4525 - val_accuracy: 0.6364 - val_f1_score: 0.5567 - val_loss: 0.9822 - val_precision: 0.7906 - val_recall: 0.4296\n",
      "Epoch 26/100\n",
      "\u001b[1m236/236\u001b[0m \u001b[32m━━━━━━━━━━━━━━━━━━━━\u001b[0m\u001b[37m\u001b[0m \u001b[1m230s\u001b[0m 976ms/step - accuracy: 0.6118 - f1_score: 0.5581 - loss: 1.0266 - precision: 0.7355 - recall: 0.4502 - val_accuracy: 0.6167 - val_f1_score: 0.5724 - val_loss: 0.9931 - val_precision: 0.7409 - val_recall: 0.4663\n",
      "Epoch 27/100\n",
      "\u001b[1m236/236\u001b[0m \u001b[32m━━━━━━━━━━━━━━━━━━━━\u001b[0m\u001b[37m\u001b[0m \u001b[1m53s\u001b[0m 223ms/step - accuracy: 0.5987 - f1_score: 0.5523 - loss: 1.0260 - precision: 0.7151 - recall: 0.4499 - val_accuracy: 0.6365 - val_f1_score: 0.5882 - val_loss: 0.9739 - val_precision: 0.7483 - val_recall: 0.4846\n",
      "Epoch 28/100\n",
      "\u001b[1m236/236\u001b[0m \u001b[32m━━━━━━━━━━━━━━━━━━━━\u001b[0m\u001b[37m\u001b[0m \u001b[1m56s\u001b[0m 237ms/step - accuracy: 0.6177 - f1_score: 0.5741 - loss: 1.0094 - precision: 0.7276 - recall: 0.4742 - val_accuracy: 0.6298 - val_f1_score: 0.5655 - val_loss: 0.9797 - val_precision: 0.7956 - val_recall: 0.4387\n",
      "Epoch 29/100\n",
      "\u001b[1m236/236\u001b[0m \u001b[32m━━━━━━━━━━━━━━━━━━━━\u001b[0m\u001b[37m\u001b[0m \u001b[1m56s\u001b[0m 235ms/step - accuracy: 0.6091 - f1_score: 0.5602 - loss: 1.0186 - precision: 0.7416 - recall: 0.4503 - val_accuracy: 0.6413 - val_f1_score: 0.5962 - val_loss: 0.9551 - val_precision: 0.7486 - val_recall: 0.4954\n",
      "Epoch 30/100\n",
      "\u001b[1m236/236\u001b[0m \u001b[32m━━━━━━━━━━━━━━━━━━━━\u001b[0m\u001b[37m\u001b[0m \u001b[1m58s\u001b[0m 244ms/step - accuracy: 0.6223 - f1_score: 0.5748 - loss: 1.0011 - precision: 0.7426 - recall: 0.4690 - val_accuracy: 0.6378 - val_f1_score: 0.6036 - val_loss: 0.9533 - val_precision: 0.7260 - val_recall: 0.5165\n",
      "Epoch 31/100\n",
      "\u001b[1m236/236\u001b[0m \u001b[32m━━━━━━━━━━━━━━━━━━━━\u001b[0m\u001b[37m\u001b[0m \u001b[1m56s\u001b[0m 238ms/step - accuracy: 0.6321 - f1_score: 0.5920 - loss: 0.9804 - precision: 0.7338 - recall: 0.4964 - val_accuracy: 0.6540 - val_f1_score: 0.6052 - val_loss: 0.9171 - val_precision: 0.7754 - val_recall: 0.4963\n",
      "Epoch 32/100\n",
      "\u001b[1m236/236\u001b[0m \u001b[32m━━━━━━━━━━━━━━━━━━━━\u001b[0m\u001b[37m\u001b[0m \u001b[1m55s\u001b[0m 235ms/step - accuracy: 0.6408 - f1_score: 0.5919 - loss: 0.9609 - precision: 0.7425 - recall: 0.4922 - val_accuracy: 0.6474 - val_f1_score: 0.6095 - val_loss: 0.9415 - val_precision: 0.7780 - val_recall: 0.5011\n",
      "Epoch 33/100\n",
      "\u001b[1m236/236\u001b[0m \u001b[32m━━━━━━━━━━━━━━━━━━━━\u001b[0m\u001b[37m\u001b[0m \u001b[1m55s\u001b[0m 233ms/step - accuracy: 0.6376 - f1_score: 0.5901 - loss: 0.9555 - precision: 0.7391 - recall: 0.4912 - val_accuracy: 0.6626 - val_f1_score: 0.6106 - val_loss: 0.9078 - val_precision: 0.8006 - val_recall: 0.4935\n",
      "Epoch 34/100\n",
      "\u001b[1m236/236\u001b[0m \u001b[32m━━━━━━━━━━━━━━━━━━━━\u001b[0m\u001b[37m\u001b[0m \u001b[1m54s\u001b[0m 230ms/step - accuracy: 0.6556 - f1_score: 0.6174 - loss: 0.9374 - precision: 0.7576 - recall: 0.5210 - val_accuracy: 0.6726 - val_f1_score: 0.6435 - val_loss: 0.8629 - val_precision: 0.7608 - val_recall: 0.5575\n",
      "Epoch 35/100\n",
      "\u001b[1m236/236\u001b[0m \u001b[32m━━━━━━━━━━━━━━━━━━━━\u001b[0m\u001b[37m\u001b[0m \u001b[1m55s\u001b[0m 234ms/step - accuracy: 0.6336 - f1_score: 0.5984 - loss: 0.9617 - precision: 0.7492 - recall: 0.4982 - val_accuracy: 0.6875 - val_f1_score: 0.6559 - val_loss: 0.8440 - val_precision: 0.7846 - val_recall: 0.5635\n",
      "Epoch 36/100\n",
      "\u001b[1m236/236\u001b[0m \u001b[32m━━━━━━━━━━━━━━━━━━━━\u001b[0m\u001b[37m\u001b[0m \u001b[1m54s\u001b[0m 230ms/step - accuracy: 0.6616 - f1_score: 0.6255 - loss: 0.8957 - precision: 0.7745 - recall: 0.5246 - val_accuracy: 0.6721 - val_f1_score: 0.6424 - val_loss: 0.8845 - val_precision: 0.7647 - val_recall: 0.5539\n",
      "Epoch 37/100\n",
      "\u001b[1m236/236\u001b[0m \u001b[32m━━━━━━━━━━━━━━━━━━━━\u001b[0m\u001b[37m\u001b[0m \u001b[1m55s\u001b[0m 232ms/step - accuracy: 0.6587 - f1_score: 0.6234 - loss: 0.9180 - precision: 0.7640 - recall: 0.5265 - val_accuracy: 0.6827 - val_f1_score: 0.6544 - val_loss: 0.8618 - val_precision: 0.7777 - val_recall: 0.5648\n",
      "Epoch 38/100\n",
      "\u001b[1m236/236\u001b[0m \u001b[32m━━━━━━━━━━━━━━━━━━━━\u001b[0m\u001b[37m\u001b[0m \u001b[1m54s\u001b[0m 229ms/step - accuracy: 0.6651 - f1_score: 0.6309 - loss: 0.8972 - precision: 0.7693 - recall: 0.5348 - val_accuracy: 0.6770 - val_f1_score: 0.6393 - val_loss: 0.8679 - val_precision: 0.8059 - val_recall: 0.5297\n",
      "Epoch 39/100\n",
      "\u001b[1m236/236\u001b[0m \u001b[32m━━━━━━━━━━━━━━━━━━━━\u001b[0m\u001b[37m\u001b[0m \u001b[1m55s\u001b[0m 234ms/step - accuracy: 0.6603 - f1_score: 0.6215 - loss: 0.9073 - precision: 0.7714 - recall: 0.5205 - val_accuracy: 0.6749 - val_f1_score: 0.6254 - val_loss: 0.8625 - val_precision: 0.8092 - val_recall: 0.5097\n",
      "Epoch 40/100\n",
      "\u001b[1m236/236\u001b[0m \u001b[32m━━━━━━━━━━━━━━━━━━━━\u001b[0m\u001b[37m\u001b[0m \u001b[1m55s\u001b[0m 232ms/step - accuracy: 0.6588 - f1_score: 0.6249 - loss: 0.9011 - precision: 0.7757 - recall: 0.5234 - val_accuracy: 0.6989 - val_f1_score: 0.6706 - val_loss: 0.8117 - val_precision: 0.8072 - val_recall: 0.5736\n",
      "Epoch 41/100\n",
      "\u001b[1m236/236\u001b[0m \u001b[32m━━━━━━━━━━━━━━━━━━━━\u001b[0m\u001b[37m\u001b[0m \u001b[1m54s\u001b[0m 230ms/step - accuracy: 0.6746 - f1_score: 0.6432 - loss: 0.8921 - precision: 0.7858 - recall: 0.5444 - val_accuracy: 0.6909 - val_f1_score: 0.6609 - val_loss: 0.8334 - val_precision: 0.7911 - val_recall: 0.5676\n",
      "Epoch 42/100\n",
      "\u001b[1m236/236\u001b[0m \u001b[32m━━━━━━━━━━━━━━━━━━━━\u001b[0m\u001b[37m\u001b[0m \u001b[1m54s\u001b[0m 228ms/step - accuracy: 0.6673 - f1_score: 0.6314 - loss: 0.8851 - precision: 0.7715 - recall: 0.5345 - val_accuracy: 0.7049 - val_f1_score: 0.6762 - val_loss: 0.8094 - val_precision: 0.8114 - val_recall: 0.5797\n",
      "Epoch 43/100\n",
      "\u001b[1m236/236\u001b[0m \u001b[32m━━━━━━━━━━━━━━━━━━━━\u001b[0m\u001b[37m\u001b[0m \u001b[1m55s\u001b[0m 234ms/step - accuracy: 0.6824 - f1_score: 0.6596 - loss: 0.8421 - precision: 0.7935 - recall: 0.5644 - val_accuracy: 0.7033 - val_f1_score: 0.6815 - val_loss: 0.7964 - val_precision: 0.8092 - val_recall: 0.5886\n",
      "Epoch 44/100\n",
      "\u001b[1m236/236\u001b[0m \u001b[32m━━━━━━━━━━━━━━━━━━━━\u001b[0m\u001b[37m\u001b[0m \u001b[1m59s\u001b[0m 250ms/step - accuracy: 0.6754 - f1_score: 0.6495 - loss: 0.8511 - precision: 0.7846 - recall: 0.5542 - val_accuracy: 0.6965 - val_f1_score: 0.6695 - val_loss: 0.8124 - val_precision: 0.7983 - val_recall: 0.5765\n",
      "Epoch 45/100\n",
      "\u001b[1m236/236\u001b[0m \u001b[32m━━━━━━━━━━━━━━━━━━━━\u001b[0m\u001b[37m\u001b[0m \u001b[1m55s\u001b[0m 231ms/step - accuracy: 0.6756 - f1_score: 0.6529 - loss: 0.8511 - precision: 0.7793 - recall: 0.5618 - val_accuracy: 0.7075 - val_f1_score: 0.6825 - val_loss: 0.7927 - val_precision: 0.8139 - val_recall: 0.5876\n",
      "Epoch 46/100\n",
      "\u001b[1m236/236\u001b[0m \u001b[32m━━━━━━━━━━━━━━━━━━━━\u001b[0m\u001b[37m\u001b[0m \u001b[1m56s\u001b[0m 238ms/step - accuracy: 0.6867 - f1_score: 0.6635 - loss: 0.8235 - precision: 0.7926 - recall: 0.5706 - val_accuracy: 0.7057 - val_f1_score: 0.6872 - val_loss: 0.7676 - val_precision: 0.8037 - val_recall: 0.6002\n",
      "Epoch 47/100\n",
      "\u001b[1m236/236\u001b[0m \u001b[32m━━━━━━━━━━━━━━━━━━━━\u001b[0m\u001b[37m\u001b[0m \u001b[1m55s\u001b[0m 232ms/step - accuracy: 0.6788 - f1_score: 0.6564 - loss: 0.8398 - precision: 0.7818 - recall: 0.5660 - val_accuracy: 0.7215 - val_f1_score: 0.6943 - val_loss: 0.7456 - val_precision: 0.8239 - val_recall: 0.6000\n",
      "Epoch 48/100\n",
      "\u001b[1m236/236\u001b[0m \u001b[32m━━━━━━━━━━━━━━━━━━━━\u001b[0m\u001b[37m\u001b[0m \u001b[1m59s\u001b[0m 251ms/step - accuracy: 0.6834 - f1_score: 0.6560 - loss: 0.8204 - precision: 0.7787 - recall: 0.5668 - val_accuracy: 0.7167 - val_f1_score: 0.7002 - val_loss: 0.7468 - val_precision: 0.8014 - val_recall: 0.6216\n",
      "Epoch 49/100\n",
      "\u001b[1m236/236\u001b[0m \u001b[32m━━━━━━━━━━━━━━━━━━━━\u001b[0m\u001b[37m\u001b[0m \u001b[1m56s\u001b[0m 237ms/step - accuracy: 0.6763 - f1_score: 0.6572 - loss: 0.8385 - precision: 0.7775 - recall: 0.5693 - val_accuracy: 0.7268 - val_f1_score: 0.6928 - val_loss: 0.7556 - val_precision: 0.8446 - val_recall: 0.5872\n",
      "Epoch 50/100\n",
      "\u001b[1m236/236\u001b[0m \u001b[32m━━━━━━━━━━━━━━━━━━━━\u001b[0m\u001b[37m\u001b[0m \u001b[1m55s\u001b[0m 233ms/step - accuracy: 0.6994 - f1_score: 0.6790 - loss: 0.8099 - precision: 0.7976 - recall: 0.5912 - val_accuracy: 0.7314 - val_f1_score: 0.7147 - val_loss: 0.7238 - val_precision: 0.8166 - val_recall: 0.6354\n",
      "Epoch 51/100\n",
      "\u001b[1m236/236\u001b[0m \u001b[32m━━━━━━━━━━━━━━━━━━━━\u001b[0m\u001b[37m\u001b[0m \u001b[1m56s\u001b[0m 238ms/step - accuracy: 0.7033 - f1_score: 0.6787 - loss: 0.8051 - precision: 0.7891 - recall: 0.5956 - val_accuracy: 0.7362 - val_f1_score: 0.7179 - val_loss: 0.7170 - val_precision: 0.8171 - val_recall: 0.6402\n",
      "Epoch 52/100\n",
      "\u001b[1m236/236\u001b[0m \u001b[32m━━━━━━━━━━━━━━━━━━━━\u001b[0m\u001b[37m\u001b[0m \u001b[1m57s\u001b[0m 242ms/step - accuracy: 0.7096 - f1_score: 0.6817 - loss: 0.7776 - precision: 0.8000 - recall: 0.5939 - val_accuracy: 0.7286 - val_f1_score: 0.7086 - val_loss: 0.7277 - val_precision: 0.8216 - val_recall: 0.6229\n",
      "Epoch 53/100\n",
      "\u001b[1m236/236\u001b[0m \u001b[32m━━━━━━━━━━━━━━━━━━━━\u001b[0m\u001b[37m\u001b[0m \u001b[1m56s\u001b[0m 239ms/step - accuracy: 0.7078 - f1_score: 0.6896 - loss: 0.7772 - precision: 0.8021 - recall: 0.6049 - val_accuracy: 0.7265 - val_f1_score: 0.7088 - val_loss: 0.7245 - val_precision: 0.8099 - val_recall: 0.6301\n",
      "Epoch 54/100\n",
      "\u001b[1m236/236\u001b[0m \u001b[32m━━━━━━━━━━━━━━━━━━━━\u001b[0m\u001b[37m\u001b[0m \u001b[1m56s\u001b[0m 239ms/step - accuracy: 0.7041 - f1_score: 0.6848 - loss: 0.7703 - precision: 0.8026 - recall: 0.5971 - val_accuracy: 0.7439 - val_f1_score: 0.7225 - val_loss: 0.7020 - val_precision: 0.8350 - val_recall: 0.6367\n",
      "Epoch 55/100\n",
      "\u001b[1m236/236\u001b[0m \u001b[32m━━━━━━━━━━━━━━━━━━━━\u001b[0m\u001b[37m\u001b[0m \u001b[1m56s\u001b[0m 238ms/step - accuracy: 0.7127 - f1_score: 0.6965 - loss: 0.7625 - precision: 0.8047 - recall: 0.6140 - val_accuracy: 0.7552 - val_f1_score: 0.7270 - val_loss: 0.6868 - val_precision: 0.8510 - val_recall: 0.6345\n",
      "Epoch 56/100\n",
      "\u001b[1m236/236\u001b[0m \u001b[32m━━━━━━━━━━━━━━━━━━━━\u001b[0m\u001b[37m\u001b[0m \u001b[1m56s\u001b[0m 239ms/step - accuracy: 0.7178 - f1_score: 0.7005 - loss: 0.7617 - precision: 0.8174 - recall: 0.6130 - val_accuracy: 0.7440 - val_f1_score: 0.7188 - val_loss: 0.7036 - val_precision: 0.8442 - val_recall: 0.6259\n",
      "Epoch 57/100\n",
      "\u001b[1m236/236\u001b[0m \u001b[32m━━━━━━━━━━━━━━━━━━━━\u001b[0m\u001b[37m\u001b[0m \u001b[1m56s\u001b[0m 237ms/step - accuracy: 0.7213 - f1_score: 0.7069 - loss: 0.7376 - precision: 0.8134 - recall: 0.6252 - val_accuracy: 0.7452 - val_f1_score: 0.7303 - val_loss: 0.6858 - val_precision: 0.8405 - val_recall: 0.6456\n",
      "Epoch 58/100\n",
      "\u001b[1m236/236\u001b[0m \u001b[32m━━━━━━━━━━━━━━━━━━━━\u001b[0m\u001b[37m\u001b[0m \u001b[1m57s\u001b[0m 242ms/step - accuracy: 0.7049 - f1_score: 0.6925 - loss: 0.7627 - precision: 0.7979 - recall: 0.6117 - val_accuracy: 0.7582 - val_f1_score: 0.7422 - val_loss: 0.6765 - val_precision: 0.8488 - val_recall: 0.6595\n",
      "Epoch 59/100\n",
      "\u001b[1m236/236\u001b[0m \u001b[32m━━━━━━━━━━━━━━━━━━━━\u001b[0m\u001b[37m\u001b[0m \u001b[1m56s\u001b[0m 236ms/step - accuracy: 0.7150 - f1_score: 0.6967 - loss: 0.7490 - precision: 0.8040 - recall: 0.6147 - val_accuracy: 0.7515 - val_f1_score: 0.7431 - val_loss: 0.6639 - val_precision: 0.8282 - val_recall: 0.6739\n",
      "Epoch 60/100\n",
      "\u001b[1m236/236\u001b[0m \u001b[32m━━━━━━━━━━━━━━━━━━━━\u001b[0m\u001b[37m\u001b[0m \u001b[1m56s\u001b[0m 239ms/step - accuracy: 0.7139 - f1_score: 0.6945 - loss: 0.7637 - precision: 0.8019 - recall: 0.6124 - val_accuracy: 0.7637 - val_f1_score: 0.7457 - val_loss: 0.6590 - val_precision: 0.8561 - val_recall: 0.6605\n",
      "Epoch 61/100\n",
      "\u001b[1m236/236\u001b[0m \u001b[32m━━━━━━━━━━━━━━━━━━━━\u001b[0m\u001b[37m\u001b[0m \u001b[1m81s\u001b[0m 233ms/step - accuracy: 0.7083 - f1_score: 0.6879 - loss: 0.7696 - precision: 0.8008 - recall: 0.6029 - val_accuracy: 0.7527 - val_f1_score: 0.7380 - val_loss: 0.6797 - val_precision: 0.8417 - val_recall: 0.6571\n",
      "Epoch 62/100\n",
      "\u001b[1m236/236\u001b[0m \u001b[32m━━━━━━━━━━━━━━━━━━━━\u001b[0m\u001b[37m\u001b[0m \u001b[1m54s\u001b[0m 231ms/step - accuracy: 0.7152 - f1_score: 0.7022 - loss: 0.7581 - precision: 0.8046 - recall: 0.6229 - val_accuracy: 0.7523 - val_f1_score: 0.7438 - val_loss: 0.6680 - val_precision: 0.8044 - val_recall: 0.6917\n",
      "Epoch 63/100\n",
      "\u001b[1m236/236\u001b[0m \u001b[32m━━━━━━━━━━━━━━━━━━━━\u001b[0m\u001b[37m\u001b[0m \u001b[1m54s\u001b[0m 230ms/step - accuracy: 0.7306 - f1_score: 0.7172 - loss: 0.7274 - precision: 0.8080 - recall: 0.6448 - val_accuracy: 0.7690 - val_f1_score: 0.7552 - val_loss: 0.6503 - val_precision: 0.8550 - val_recall: 0.6763\n",
      "Epoch 64/100\n",
      "\u001b[1m236/236\u001b[0m \u001b[32m━━━━━━━━━━━━━━━━━━━━\u001b[0m\u001b[37m\u001b[0m \u001b[1m55s\u001b[0m 232ms/step - accuracy: 0.7265 - f1_score: 0.7042 - loss: 0.7358 - precision: 0.7976 - recall: 0.6305 - val_accuracy: 0.7523 - val_f1_score: 0.7422 - val_loss: 0.6614 - val_precision: 0.8267 - val_recall: 0.6734\n",
      "Epoch 65/100\n",
      "\u001b[1m236/236\u001b[0m \u001b[32m━━━━━━━━━━━━━━━━━━━━\u001b[0m\u001b[37m\u001b[0m \u001b[1m55s\u001b[0m 232ms/step - accuracy: 0.7293 - f1_score: 0.7190 - loss: 0.7376 - precision: 0.8106 - recall: 0.6461 - val_accuracy: 0.7606 - val_f1_score: 0.7435 - val_loss: 0.6584 - val_precision: 0.8439 - val_recall: 0.6645\n",
      "Epoch 66/100\n",
      "\u001b[1m236/236\u001b[0m \u001b[32m━━━━━━━━━━━━━━━━━━━━\u001b[0m\u001b[37m\u001b[0m \u001b[1m55s\u001b[0m 234ms/step - accuracy: 0.7273 - f1_score: 0.7054 - loss: 0.7305 - precision: 0.8062 - recall: 0.6272 - val_accuracy: 0.7315 - val_f1_score: 0.7222 - val_loss: 0.7166 - val_precision: 0.8096 - val_recall: 0.6519\n",
      "Epoch 67/100\n",
      "\u001b[1m236/236\u001b[0m \u001b[32m━━━━━━━━━━━━━━━━━━━━\u001b[0m\u001b[37m\u001b[0m \u001b[1m53s\u001b[0m 224ms/step - accuracy: 0.7341 - f1_score: 0.7217 - loss: 0.7287 - precision: 0.8149 - recall: 0.6478 - val_accuracy: 0.7770 - val_f1_score: 0.7588 - val_loss: 0.6242 - val_precision: 0.8668 - val_recall: 0.6747\n",
      "Epoch 68/100\n",
      "\u001b[1m236/236\u001b[0m \u001b[32m━━━━━━━━━━━━━━━━━━━━\u001b[0m\u001b[37m\u001b[0m \u001b[1m54s\u001b[0m 229ms/step - accuracy: 0.7335 - f1_score: 0.7193 - loss: 0.6987 - precision: 0.8225 - recall: 0.6391 - val_accuracy: 0.7825 - val_f1_score: 0.7589 - val_loss: 0.6197 - val_precision: 0.8709 - val_recall: 0.6725\n",
      "Epoch 69/100\n",
      "\u001b[1m236/236\u001b[0m \u001b[32m━━━━━━━━━━━━━━━━━━━━\u001b[0m\u001b[37m\u001b[0m \u001b[1m84s\u001b[0m 237ms/step - accuracy: 0.7446 - f1_score: 0.7274 - loss: 0.6951 - precision: 0.8276 - recall: 0.6489 - val_accuracy: 0.7772 - val_f1_score: 0.7607 - val_loss: 0.6181 - val_precision: 0.8637 - val_recall: 0.6796\n",
      "Epoch 70/100\n",
      "\u001b[1m236/236\u001b[0m \u001b[32m━━━━━━━━━━━━━━━━━━━━\u001b[0m\u001b[37m\u001b[0m \u001b[1m54s\u001b[0m 231ms/step - accuracy: 0.7455 - f1_score: 0.7322 - loss: 0.6789 - precision: 0.8268 - recall: 0.6571 - val_accuracy: 0.7630 - val_f1_score: 0.7539 - val_loss: 0.6425 - val_precision: 0.8286 - val_recall: 0.6914\n",
      "Epoch 71/100\n",
      "\u001b[1m236/236\u001b[0m \u001b[32m━━━━━━━━━━━━━━━━━━━━\u001b[0m\u001b[37m\u001b[0m \u001b[1m139s\u001b[0m 589ms/step - accuracy: 0.7386 - f1_score: 0.7281 - loss: 0.6959 - precision: 0.8201 - recall: 0.6547 - val_accuracy: 0.7698 - val_f1_score: 0.7535 - val_loss: 0.6288 - val_precision: 0.8580 - val_recall: 0.6717\n",
      "Epoch 72/100\n",
      "\u001b[1m236/236\u001b[0m \u001b[32m━━━━━━━━━━━━━━━━━━━━\u001b[0m\u001b[37m\u001b[0m \u001b[1m55s\u001b[0m 234ms/step - accuracy: 0.7453 - f1_score: 0.7290 - loss: 0.6976 - precision: 0.8228 - recall: 0.6544 - val_accuracy: 0.7696 - val_f1_score: 0.7532 - val_loss: 0.6291 - val_precision: 0.8420 - val_recall: 0.6814\n",
      "Epoch 73/100\n",
      "\u001b[1m236/236\u001b[0m \u001b[32m━━━━━━━━━━━━━━━━━━━━\u001b[0m\u001b[37m\u001b[0m \u001b[1m54s\u001b[0m 231ms/step - accuracy: 0.7515 - f1_score: 0.7396 - loss: 0.6930 - precision: 0.8291 - recall: 0.6675 - val_accuracy: 0.7527 - val_f1_score: 0.7494 - val_loss: 0.6564 - val_precision: 0.8423 - val_recall: 0.6750\n",
      "Epoch 74/100\n",
      "\u001b[1m236/236\u001b[0m \u001b[32m━━━━━━━━━━━━━━━━━━━━\u001b[0m\u001b[37m\u001b[0m \u001b[1m54s\u001b[0m 230ms/step - accuracy: 0.7505 - f1_score: 0.7342 - loss: 0.6740 - precision: 0.8211 - recall: 0.6640 - val_accuracy: 0.7699 - val_f1_score: 0.7591 - val_loss: 0.6247 - val_precision: 0.8303 - val_recall: 0.6992\n",
      "Epoch 75/100\n",
      "\u001b[1m236/236\u001b[0m \u001b[32m━━━━━━━━━━━━━━━━━━━━\u001b[0m\u001b[37m\u001b[0m \u001b[1m55s\u001b[0m 232ms/step - accuracy: 0.7400 - f1_score: 0.7278 - loss: 0.6864 - precision: 0.8160 - recall: 0.6569 - val_accuracy: 0.7799 - val_f1_score: 0.7631 - val_loss: 0.6021 - val_precision: 0.8562 - val_recall: 0.6883\n",
      "Epoch 76/100\n",
      "\u001b[1m236/236\u001b[0m \u001b[32m━━━━━━━━━━━━━━━━━━━━\u001b[0m\u001b[37m\u001b[0m \u001b[1m55s\u001b[0m 234ms/step - accuracy: 0.7539 - f1_score: 0.7447 - loss: 0.6576 - precision: 0.8349 - recall: 0.6721 - val_accuracy: 0.7787 - val_f1_score: 0.7634 - val_loss: 0.6056 - val_precision: 0.8535 - val_recall: 0.6905\n",
      "Epoch 77/100\n",
      "\u001b[1m236/236\u001b[0m \u001b[32m━━━━━━━━━━━━━━━━━━━━\u001b[0m\u001b[37m\u001b[0m \u001b[1m55s\u001b[0m 233ms/step - accuracy: 0.7493 - f1_score: 0.7365 - loss: 0.6742 - precision: 0.8220 - recall: 0.6672 - val_accuracy: 0.7847 - val_f1_score: 0.7720 - val_loss: 0.6013 - val_precision: 0.8549 - val_recall: 0.7038\n",
      "Epoch 78/100\n",
      "\u001b[1m236/236\u001b[0m \u001b[32m━━━━━━━━━━━━━━━━━━━━\u001b[0m\u001b[37m\u001b[0m \u001b[1m55s\u001b[0m 232ms/step - accuracy: 0.7518 - f1_score: 0.7392 - loss: 0.6716 - precision: 0.8235 - recall: 0.6705 - val_accuracy: 0.7926 - val_f1_score: 0.7785 - val_loss: 0.5833 - val_precision: 0.8858 - val_recall: 0.6944\n",
      "Epoch 79/100\n",
      "\u001b[1m236/236\u001b[0m \u001b[32m━━━━━━━━━━━━━━━━━━━━\u001b[0m\u001b[37m\u001b[0m \u001b[1m54s\u001b[0m 230ms/step - accuracy: 0.7579 - f1_score: 0.7455 - loss: 0.6516 - precision: 0.8360 - recall: 0.6727 - val_accuracy: 0.7773 - val_f1_score: 0.7724 - val_loss: 0.5941 - val_precision: 0.8543 - val_recall: 0.7047\n",
      "Epoch 80/100\n",
      "\u001b[1m236/236\u001b[0m \u001b[32m━━━━━━━━━━━━━━━━━━━━\u001b[0m\u001b[37m\u001b[0m \u001b[1m54s\u001b[0m 231ms/step - accuracy: 0.7421 - f1_score: 0.7374 - loss: 0.6904 - precision: 0.8242 - recall: 0.6672 - val_accuracy: 0.7868 - val_f1_score: 0.7813 - val_loss: 0.5855 - val_precision: 0.8522 - val_recall: 0.7213\n",
      "Epoch 81/100\n",
      "\u001b[1m236/236\u001b[0m \u001b[32m━━━━━━━━━━━━━━━━━━━━\u001b[0m\u001b[37m\u001b[0m \u001b[1m54s\u001b[0m 231ms/step - accuracy: 0.7511 - f1_score: 0.7415 - loss: 0.6689 - precision: 0.8259 - recall: 0.6728 - val_accuracy: 0.7983 - val_f1_score: 0.7875 - val_loss: 0.5618 - val_precision: 0.8608 - val_recall: 0.7257\n",
      "Epoch 82/100\n",
      "\u001b[1m236/236\u001b[0m \u001b[32m━━━━━━━━━━━━━━━━━━━━\u001b[0m\u001b[37m\u001b[0m \u001b[1m55s\u001b[0m 234ms/step - accuracy: 0.7601 - f1_score: 0.7461 - loss: 0.6466 - precision: 0.8292 - recall: 0.6782 - val_accuracy: 0.7719 - val_f1_score: 0.7648 - val_loss: 0.6095 - val_precision: 0.8248 - val_recall: 0.7130\n",
      "Epoch 83/100\n",
      "\u001b[1m236/236\u001b[0m \u001b[32m━━━━━━━━━━━━━━━━━━━━\u001b[0m\u001b[37m\u001b[0m \u001b[1m2209s\u001b[0m 9s/step - accuracy: 0.7554 - f1_score: 0.7493 - loss: 0.6606 - precision: 0.8328 - recall: 0.6811 - val_accuracy: 0.7775 - val_f1_score: 0.7681 - val_loss: 0.5965 - val_precision: 0.8311 - val_recall: 0.7140\n",
      "Epoch 84/100\n",
      "\u001b[1m236/236\u001b[0m \u001b[32m━━━━━━━━━━━━━━━━━━━━\u001b[0m\u001b[37m\u001b[0m \u001b[1m60s\u001b[0m 254ms/step - accuracy: 0.7665 - f1_score: 0.7539 - loss: 0.6287 - precision: 0.8323 - recall: 0.6890 - val_accuracy: 0.8104 - val_f1_score: 0.7987 - val_loss: 0.5437 - val_precision: 0.8848 - val_recall: 0.7280\n",
      "Epoch 85/100\n",
      "\u001b[1m236/236\u001b[0m \u001b[32m━━━━━━━━━━━━━━━━━━━━\u001b[0m\u001b[37m\u001b[0m \u001b[1m55s\u001b[0m 233ms/step - accuracy: 0.7633 - f1_score: 0.7583 - loss: 0.6278 - precision: 0.8392 - recall: 0.6916 - val_accuracy: 0.8038 - val_f1_score: 0.7966 - val_loss: 0.5346 - val_precision: 0.8661 - val_recall: 0.7375\n",
      "Epoch 86/100\n",
      "\u001b[1m236/236\u001b[0m \u001b[32m━━━━━━━━━━━━━━━━━━━━\u001b[0m\u001b[37m\u001b[0m \u001b[1m54s\u001b[0m 229ms/step - accuracy: 0.7649 - f1_score: 0.7565 - loss: 0.6322 - precision: 0.8377 - recall: 0.6897 - val_accuracy: 0.7974 - val_f1_score: 0.7849 - val_loss: 0.5606 - val_precision: 0.8609 - val_recall: 0.7213\n",
      "Epoch 87/100\n",
      "\u001b[1m236/236\u001b[0m \u001b[32m━━━━━━━━━━━━━━━━━━━━\u001b[0m\u001b[37m\u001b[0m \u001b[1m54s\u001b[0m 230ms/step - accuracy: 0.7741 - f1_score: 0.7632 - loss: 0.6211 - precision: 0.8394 - recall: 0.6996 - val_accuracy: 0.7860 - val_f1_score: 0.7803 - val_loss: 0.5796 - val_precision: 0.8283 - val_recall: 0.7377\n",
      "Epoch 88/100\n",
      "\u001b[1m236/236\u001b[0m \u001b[32m━━━━━━━━━━━━━━━━━━━━\u001b[0m\u001b[37m\u001b[0m \u001b[1m55s\u001b[0m 231ms/step - accuracy: 0.7706 - f1_score: 0.7614 - loss: 0.6221 - precision: 0.8386 - recall: 0.6973 - val_accuracy: 0.7965 - val_f1_score: 0.7919 - val_loss: 0.5568 - val_precision: 0.8599 - val_recall: 0.7339\n",
      "Epoch 89/100\n",
      "\u001b[1m236/236\u001b[0m \u001b[32m━━━━━━━━━━━━━━━━━━━━\u001b[0m\u001b[37m\u001b[0m \u001b[1m54s\u001b[0m 230ms/step - accuracy: 0.7699 - f1_score: 0.7600 - loss: 0.6354 - precision: 0.8357 - recall: 0.6969 - val_accuracy: 0.8135 - val_f1_score: 0.8051 - val_loss: 0.5329 - val_precision: 0.8861 - val_recall: 0.7377\n",
      "Epoch 90/100\n",
      "\u001b[1m236/236\u001b[0m \u001b[32m━━━━━━━━━━━━━━━━━━━━\u001b[0m\u001b[37m\u001b[0m \u001b[1m55s\u001b[0m 234ms/step - accuracy: 0.7708 - f1_score: 0.7588 - loss: 0.6299 - precision: 0.8416 - recall: 0.6909 - val_accuracy: 0.8117 - val_f1_score: 0.8055 - val_loss: 0.5265 - val_precision: 0.8664 - val_recall: 0.7525\n",
      "Epoch 91/100\n",
      "\u001b[1m236/236\u001b[0m \u001b[32m━━━━━━━━━━━━━━━━━━━━\u001b[0m\u001b[37m\u001b[0m \u001b[1m55s\u001b[0m 233ms/step - accuracy: 0.7794 - f1_score: 0.7730 - loss: 0.5951 - precision: 0.8457 - recall: 0.7119 - val_accuracy: 0.8042 - val_f1_score: 0.7961 - val_loss: 0.5411 - val_precision: 0.8788 - val_recall: 0.7277\n",
      "Epoch 92/100\n",
      "\u001b[1m236/236\u001b[0m \u001b[32m━━━━━━━━━━━━━━━━━━━━\u001b[0m\u001b[37m\u001b[0m \u001b[1m55s\u001b[0m 232ms/step - accuracy: 0.7700 - f1_score: 0.7665 - loss: 0.6169 - precision: 0.8425 - recall: 0.7031 - val_accuracy: 0.8012 - val_f1_score: 0.7961 - val_loss: 0.5517 - val_precision: 0.8622 - val_recall: 0.7394\n",
      "Epoch 93/100\n",
      "\u001b[1m236/236\u001b[0m \u001b[32m━━━━━━━━━━━━━━━━━━━━\u001b[0m\u001b[37m\u001b[0m \u001b[1m54s\u001b[0m 228ms/step - accuracy: 0.7598 - f1_score: 0.7573 - loss: 0.6273 - precision: 0.8374 - recall: 0.6912 - val_accuracy: 0.7961 - val_f1_score: 0.7860 - val_loss: 0.5533 - val_precision: 0.8678 - val_recall: 0.7183\n",
      "Epoch 94/100\n",
      "\u001b[1m236/236\u001b[0m \u001b[32m━━━━━━━━━━━━━━━━━━━━\u001b[0m\u001b[37m\u001b[0m \u001b[1m149s\u001b[0m 633ms/step - accuracy: 0.7722 - f1_score: 0.7611 - loss: 0.6245 - precision: 0.8359 - recall: 0.6986 - val_accuracy: 0.8002 - val_f1_score: 0.7959 - val_loss: 0.5470 - val_precision: 0.8688 - val_recall: 0.7342\n",
      "Epoch 95/100\n",
      "\u001b[1m236/236\u001b[0m \u001b[32m━━━━━━━━━━━━━━━━━━━━\u001b[0m\u001b[37m\u001b[0m \u001b[1m54s\u001b[0m 230ms/step - accuracy: 0.7732 - f1_score: 0.7638 - loss: 0.6218 - precision: 0.8381 - recall: 0.7016 - val_accuracy: 0.8174 - val_f1_score: 0.8089 - val_loss: 0.5200 - val_precision: 0.8890 - val_recall: 0.7420\n",
      "Epoch 96/100\n",
      "\u001b[1m236/236\u001b[0m \u001b[32m━━━━━━━━━━━━━━━━━━━━\u001b[0m\u001b[37m\u001b[0m \u001b[1m54s\u001b[0m 230ms/step - accuracy: 0.7818 - f1_score: 0.7783 - loss: 0.6035 - precision: 0.8545 - recall: 0.7146 - val_accuracy: 0.7942 - val_f1_score: 0.7861 - val_loss: 0.5621 - val_precision: 0.8531 - val_recall: 0.7288\n",
      "Epoch 97/100\n",
      "\u001b[1m236/236\u001b[0m \u001b[32m━━━━━━━━━━━━━━━━━━━━\u001b[0m\u001b[37m\u001b[0m \u001b[1m54s\u001b[0m 229ms/step - accuracy: 0.7802 - f1_score: 0.7694 - loss: 0.6079 - precision: 0.8465 - recall: 0.7053 - val_accuracy: 0.8193 - val_f1_score: 0.8140 - val_loss: 0.5021 - val_precision: 0.8857 - val_recall: 0.7531\n",
      "Epoch 98/100\n",
      "\u001b[1m236/236\u001b[0m \u001b[32m━━━━━━━━━━━━━━━━━━━━\u001b[0m\u001b[37m\u001b[0m \u001b[1m55s\u001b[0m 232ms/step - accuracy: 0.7864 - f1_score: 0.7811 - loss: 0.5825 - precision: 0.8569 - recall: 0.7177 - val_accuracy: 0.8095 - val_f1_score: 0.8043 - val_loss: 0.5301 - val_precision: 0.8790 - val_recall: 0.7414\n",
      "Epoch 99/100\n",
      "\u001b[1m236/236\u001b[0m \u001b[32m━━━━━━━━━━━━━━━━━━━━\u001b[0m\u001b[37m\u001b[0m \u001b[1m55s\u001b[0m 233ms/step - accuracy: 0.7681 - f1_score: 0.7625 - loss: 0.6176 - precision: 0.8356 - recall: 0.7013 - val_accuracy: 0.8170 - val_f1_score: 0.8113 - val_loss: 0.5151 - val_precision: 0.8741 - val_recall: 0.7569\n",
      "Epoch 100/100\n",
      "\u001b[1m236/236\u001b[0m \u001b[32m━━━━━━━━━━━━━━━━━━━━\u001b[0m\u001b[37m\u001b[0m \u001b[1m55s\u001b[0m 234ms/step - accuracy: 0.7779 - f1_score: 0.7737 - loss: 0.5961 - precision: 0.8427 - recall: 0.7152 - val_accuracy: 0.8172 - val_f1_score: 0.8143 - val_loss: 0.5085 - val_precision: 0.8830 - val_recall: 0.7554\n"
     ]
    }
   ],
   "source": [
    "# Train the model\n",
    "history = cnn_lstm.fit(\n",
    "    x=training_set,\n",
    "    validation_data=validation_set,\n",
    "    epochs=100\n",
    ")"
   ]
  },
  {
   "cell_type": "code",
   "execution_count": 13,
   "id": "3476005a-0cd2-4a5e-812c-dd4ed535d9c8",
   "metadata": {},
   "outputs": [],
   "source": [
    "# Save Loss plot\n",
    "plt.figure()\n",
    "plt.plot(history.history['loss'], label='Train Loss')\n",
    "plt.plot(history.history['val_loss'], label='Validation Loss')\n",
    "plt.legend()\n",
    "plt.title(\"Loss\")\n",
    "plt.xlabel('Epochs')\n",
    "plt.ylabel('Loss')\n",
    "plt.savefig('loss_plot.png')  # Save the plot as a PNG file\n",
    "plt.close()  # Close the figure to avoid memory issues\n",
    "\n",
    "# Save Accuracy plot\n",
    "plt.figure()\n",
    "plt.plot(history.history['accuracy'], label='Train Accuracy')\n",
    "plt.plot(history.history['val_accuracy'], label='Validation Accuracy')\n",
    "plt.legend()\n",
    "plt.title(\"Accuracy\")\n",
    "plt.xlabel('Epochs')\n",
    "plt.ylabel('Accuracy')\n",
    "plt.savefig('accuracy_plot.png')  # Save the plot as a PNG file\n",
    "plt.close()  # Close the figure\n",
    "\n",
    "# Save Precision plot\n",
    "plt.figure()\n",
    "plt.plot(history.history['precision'], label='Train Precision')\n",
    "plt.plot(history.history['val_precision'], label='Validation Precision')\n",
    "plt.legend()\n",
    "plt.title(\"Precision\")\n",
    "plt.xlabel('Epochs')\n",
    "plt.ylabel('Precision')\n",
    "plt.savefig('precision_plot.png')  # Save the plot as a PNG file\n",
    "plt.close()  # Close the figure\n",
    "\n",
    "# Save Recall plot\n",
    "plt.figure()\n",
    "plt.plot(history.history['recall'], label='Train Recall')\n",
    "plt.plot(history.history['val_recall'], label='Validation Recall')\n",
    "plt.legend()\n",
    "plt.title(\"Recall\")\n",
    "plt.xlabel('Epochs')\n",
    "plt.ylabel('Recall')\n",
    "plt.savefig('recall_plot.png')  # Save the plot as a PNG file\n",
    "plt.close()  # Close the figure\n",
    "\n",
    "# Save F1 Score plot\n",
    "plt.figure()\n",
    "plt.plot(history.history['f1_score'], label='Train F1 Score')\n",
    "plt.plot(history.history['val_f1_score'], label='Validation F1 Score')\n",
    "plt.legend()\n",
    "plt.title(\"F1 Score\")\n",
    "plt.xlabel('Epochs')\n",
    "plt.ylabel('F1 Score')\n",
    "plt.savefig('f1_score_plot.png')  # Save the plot as a PNG file\n",
    "plt.close()  # Close the figure"
   ]
  },
  {
   "cell_type": "code",
   "execution_count": 14,
   "id": "888073e3-6d04-4f67-aa3e-f63a247412fd",
   "metadata": {},
   "outputs": [
    {
     "data": {
      "text/html": [
       "<pre style=\"white-space:pre;overflow-x:auto;line-height:normal;font-family:Menlo,'DejaVu Sans Mono',consolas,'Courier New',monospace\"><span style=\"font-weight: bold\">Model: \"sequential\"</span>\n",
       "</pre>\n"
      ],
      "text/plain": [
       "\u001b[1mModel: \"sequential\"\u001b[0m\n"
      ]
     },
     "metadata": {},
     "output_type": "display_data"
    },
    {
     "data": {
      "text/html": [
       "<pre style=\"white-space:pre;overflow-x:auto;line-height:normal;font-family:Menlo,'DejaVu Sans Mono',consolas,'Courier New',monospace\">┏━━━━━━━━━━━━━━━━━━━━━━━━━━━━━━━━━━━━━━┳━━━━━━━━━━━━━━━━━━━━━━━━━━━━━┳━━━━━━━━━━━━━━━━━┓\n",
       "┃<span style=\"font-weight: bold\"> Layer (type)                         </span>┃<span style=\"font-weight: bold\"> Output Shape                </span>┃<span style=\"font-weight: bold\">         Param # </span>┃\n",
       "┡━━━━━━━━━━━━━━━━━━━━━━━━━━━━━━━━━━━━━━╇━━━━━━━━━━━━━━━━━━━━━━━━━━━━━╇━━━━━━━━━━━━━━━━━┩\n",
       "│ flatten (<span style=\"color: #0087ff; text-decoration-color: #0087ff\">Flatten</span>)                    │ (<span style=\"color: #00d7ff; text-decoration-color: #00d7ff\">None</span>, <span style=\"color: #00af00; text-decoration-color: #00af00\">12288</span>)               │               <span style=\"color: #00af00; text-decoration-color: #00af00\">0</span> │\n",
       "├──────────────────────────────────────┼─────────────────────────────┼─────────────────┤\n",
       "│ reshape (<span style=\"color: #0087ff; text-decoration-color: #0087ff\">Reshape</span>)                    │ (<span style=\"color: #00d7ff; text-decoration-color: #00d7ff\">None</span>, <span style=\"color: #00af00; text-decoration-color: #00af00\">16</span>, <span style=\"color: #00af00; text-decoration-color: #00af00\">768</span>)             │               <span style=\"color: #00af00; text-decoration-color: #00af00\">0</span> │\n",
       "├──────────────────────────────────────┼─────────────────────────────┼─────────────────┤\n",
       "│ lstm (<span style=\"color: #0087ff; text-decoration-color: #0087ff\">LSTM</span>)                          │ (<span style=\"color: #00d7ff; text-decoration-color: #00d7ff\">None</span>, <span style=\"color: #00af00; text-decoration-color: #00af00\">64</span>)                  │         <span style=\"color: #00af00; text-decoration-color: #00af00\">213,248</span> │\n",
       "├──────────────────────────────────────┼─────────────────────────────┼─────────────────┤\n",
       "│ dense (<span style=\"color: #0087ff; text-decoration-color: #0087ff\">Dense</span>)                        │ (<span style=\"color: #00d7ff; text-decoration-color: #00d7ff\">None</span>, <span style=\"color: #00af00; text-decoration-color: #00af00\">128</span>)                 │           <span style=\"color: #00af00; text-decoration-color: #00af00\">8,320</span> │\n",
       "├──────────────────────────────────────┼─────────────────────────────┼─────────────────┤\n",
       "│ dense_1 (<span style=\"color: #0087ff; text-decoration-color: #0087ff\">Dense</span>)                      │ (<span style=\"color: #00d7ff; text-decoration-color: #00d7ff\">None</span>, <span style=\"color: #00af00; text-decoration-color: #00af00\">6</span>)                   │             <span style=\"color: #00af00; text-decoration-color: #00af00\">774</span> │\n",
       "└──────────────────────────────────────┴─────────────────────────────┴─────────────────┘\n",
       "</pre>\n"
      ],
      "text/plain": [
       "┏━━━━━━━━━━━━━━━━━━━━━━━━━━━━━━━━━━━━━━┳━━━━━━━━━━━━━━━━━━━━━━━━━━━━━┳━━━━━━━━━━━━━━━━━┓\n",
       "┃\u001b[1m \u001b[0m\u001b[1mLayer (type)                        \u001b[0m\u001b[1m \u001b[0m┃\u001b[1m \u001b[0m\u001b[1mOutput Shape               \u001b[0m\u001b[1m \u001b[0m┃\u001b[1m \u001b[0m\u001b[1m        Param #\u001b[0m\u001b[1m \u001b[0m┃\n",
       "┡━━━━━━━━━━━━━━━━━━━━━━━━━━━━━━━━━━━━━━╇━━━━━━━━━━━━━━━━━━━━━━━━━━━━━╇━━━━━━━━━━━━━━━━━┩\n",
       "│ flatten (\u001b[38;5;33mFlatten\u001b[0m)                    │ (\u001b[38;5;45mNone\u001b[0m, \u001b[38;5;34m12288\u001b[0m)               │               \u001b[38;5;34m0\u001b[0m │\n",
       "├──────────────────────────────────────┼─────────────────────────────┼─────────────────┤\n",
       "│ reshape (\u001b[38;5;33mReshape\u001b[0m)                    │ (\u001b[38;5;45mNone\u001b[0m, \u001b[38;5;34m16\u001b[0m, \u001b[38;5;34m768\u001b[0m)             │               \u001b[38;5;34m0\u001b[0m │\n",
       "├──────────────────────────────────────┼─────────────────────────────┼─────────────────┤\n",
       "│ lstm (\u001b[38;5;33mLSTM\u001b[0m)                          │ (\u001b[38;5;45mNone\u001b[0m, \u001b[38;5;34m64\u001b[0m)                  │         \u001b[38;5;34m213,248\u001b[0m │\n",
       "├──────────────────────────────────────┼─────────────────────────────┼─────────────────┤\n",
       "│ dense (\u001b[38;5;33mDense\u001b[0m)                        │ (\u001b[38;5;45mNone\u001b[0m, \u001b[38;5;34m128\u001b[0m)                 │           \u001b[38;5;34m8,320\u001b[0m │\n",
       "├──────────────────────────────────────┼─────────────────────────────┼─────────────────┤\n",
       "│ dense_1 (\u001b[38;5;33mDense\u001b[0m)                      │ (\u001b[38;5;45mNone\u001b[0m, \u001b[38;5;34m6\u001b[0m)                   │             \u001b[38;5;34m774\u001b[0m │\n",
       "└──────────────────────────────────────┴─────────────────────────────┴─────────────────┘\n"
      ]
     },
     "metadata": {},
     "output_type": "display_data"
    },
    {
     "data": {
      "text/html": [
       "<pre style=\"white-space:pre;overflow-x:auto;line-height:normal;font-family:Menlo,'DejaVu Sans Mono',consolas,'Courier New',monospace\"><span style=\"font-weight: bold\"> Total params: </span><span style=\"color: #00af00; text-decoration-color: #00af00\">667,028</span> (2.54 MB)\n",
       "</pre>\n"
      ],
      "text/plain": [
       "\u001b[1m Total params: \u001b[0m\u001b[38;5;34m667,028\u001b[0m (2.54 MB)\n"
      ]
     },
     "metadata": {},
     "output_type": "display_data"
    },
    {
     "data": {
      "text/html": [
       "<pre style=\"white-space:pre;overflow-x:auto;line-height:normal;font-family:Menlo,'DejaVu Sans Mono',consolas,'Courier New',monospace\"><span style=\"font-weight: bold\"> Trainable params: </span><span style=\"color: #00af00; text-decoration-color: #00af00\">222,342</span> (868.52 KB)\n",
       "</pre>\n"
      ],
      "text/plain": [
       "\u001b[1m Trainable params: \u001b[0m\u001b[38;5;34m222,342\u001b[0m (868.52 KB)\n"
      ]
     },
     "metadata": {},
     "output_type": "display_data"
    },
    {
     "data": {
      "text/html": [
       "<pre style=\"white-space:pre;overflow-x:auto;line-height:normal;font-family:Menlo,'DejaVu Sans Mono',consolas,'Courier New',monospace\"><span style=\"font-weight: bold\"> Non-trainable params: </span><span style=\"color: #00af00; text-decoration-color: #00af00\">0</span> (0.00 B)\n",
       "</pre>\n"
      ],
      "text/plain": [
       "\u001b[1m Non-trainable params: \u001b[0m\u001b[38;5;34m0\u001b[0m (0.00 B)\n"
      ]
     },
     "metadata": {},
     "output_type": "display_data"
    },
    {
     "data": {
      "text/html": [
       "<pre style=\"white-space:pre;overflow-x:auto;line-height:normal;font-family:Menlo,'DejaVu Sans Mono',consolas,'Courier New',monospace\"><span style=\"font-weight: bold\"> Optimizer params: </span><span style=\"color: #00af00; text-decoration-color: #00af00\">444,686</span> (1.70 MB)\n",
       "</pre>\n"
      ],
      "text/plain": [
       "\u001b[1m Optimizer params: \u001b[0m\u001b[38;5;34m444,686\u001b[0m (1.70 MB)\n"
      ]
     },
     "metadata": {},
     "output_type": "display_data"
    }
   ],
   "source": [
    "cnn_lstm.summary()"
   ]
  },
  {
   "cell_type": "code",
   "execution_count": null,
   "id": "97c8e37f-c5dd-42d3-a8eb-f94f276d1b56",
   "metadata": {},
   "outputs": [],
   "source": []
  }
 ],
 "metadata": {
  "kernelspec": {
   "display_name": "Python 3 (ipykernel)",
   "language": "python",
   "name": "python3"
  },
  "language_info": {
   "codemirror_mode": {
    "name": "ipython",
    "version": 3
   },
   "file_extension": ".py",
   "mimetype": "text/x-python",
   "name": "python",
   "nbconvert_exporter": "python",
   "pygments_lexer": "ipython3",
   "version": "3.12.2"
  }
 },
 "nbformat": 4,
 "nbformat_minor": 5
}
