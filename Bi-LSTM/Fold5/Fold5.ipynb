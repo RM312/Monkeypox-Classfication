{
 "cells": [
  {
   "cell_type": "code",
   "execution_count": 1,
   "id": "67646a6c-9c0d-4f8d-a771-fe27c443b63e",
   "metadata": {},
   "outputs": [],
   "source": [
    "import tensorflow as tf\n",
    "from tensorflow.keras.preprocessing.image import ImageDataGenerator\n",
    "import matplotlib.pyplot as plt"
   ]
  },
  {
   "cell_type": "code",
   "execution_count": 3,
   "id": "522da467-b34b-4b7a-a0d1-0f9e263d24f1",
   "metadata": {},
   "outputs": [
    {
     "name": "stdout",
     "output_type": "stream",
     "text": [
      "Found 7532 images belonging to 6 classes.\n"
     ]
    }
   ],
   "source": [
    "# Data Augmentation for Training\n",
    "train_datagen = ImageDataGenerator(rescale=1./255,\n",
    "                                   shear_range=0.2,\n",
    "                                   zoom_range=0.2,\n",
    "                                   horizontal_flip=True)\n",
    "training_set = train_datagen.flow_from_directory(\n",
    "    \"Monkeypox/archive (60)/Augmented Images/Augmented Images/FOLDS_AUG/fold5_AUG/Train/\",\n",
    "    target_size=(64, 64),\n",
    "    batch_size=32,\n",
    "    class_mode='categorical',  # Use 'categorical' for one-hot encoded labels\n",
    ")"
   ]
  },
  {
   "cell_type": "code",
   "execution_count": 4,
   "id": "140d2a47-9b44-4002-b4a8-fa852a7b8778",
   "metadata": {},
   "outputs": [
    {
     "name": "stdout",
     "output_type": "stream",
     "text": [
      "Found 7532 images belonging to 6 classes.\n"
     ]
    }
   ],
   "source": [
    "test_datagen = ImageDataGenerator(rescale=1./255)\n",
    "validation_set = test_datagen.flow_from_directory(\n",
    "    \"Monkeypox/archive (60)/Augmented Images/Augmented Images/FOLDS_AUG/fold5_AUG/Train/\",\n",
    "    target_size=(64, 64),\n",
    "    batch_size=32,\n",
    "    class_mode='categorical',  # Use 'categorical' for one-hot encoded labels\n",
    ")"
   ]
  },
  {
   "cell_type": "code",
   "execution_count": 5,
   "id": "10ee8643-ed39-4746-850c-23fa41d5b63f",
   "metadata": {},
   "outputs": [],
   "source": [
    "# Custom F1 Score Metric\n",
    "class F1Score(tf.keras.metrics.Metric):\n",
    "    def __init__(self, name='f1_score', **kwargs):\n",
    "        super(F1Score, self).__init__(name=name, **kwargs)\n",
    "        self.precision = tf.keras.metrics.Precision()\n",
    "        self.recall = tf.keras.metrics.Recall()\n",
    "\n",
    "    def update_state(self, y_true, y_pred, sample_weight=None):\n",
    "        # Update the precision and recall for each batch\n",
    "        self.precision.update_state(y_true, y_pred, sample_weight)\n",
    "        self.recall.update_state(y_true, y_pred, sample_weight)\n",
    "\n",
    "    def result(self):\n",
    "        # Calculate F1 score as the harmonic mean of precision and recall\n",
    "        precision = self.precision.result()\n",
    "        recall = self.recall.result()\n",
    "        return 2 * (precision * recall) / (precision + recall + tf.keras.backend.epsilon())\n",
    "\n",
    "    def reset_states(self):\n",
    "        self.precision.reset_states()\n",
    "        self.recall.reset_states()\n"
   ]
  },
  {
   "cell_type": "code",
   "execution_count": 6,
   "id": "b21d3c81-636c-409b-88a6-d3805ffebc07",
   "metadata": {},
   "outputs": [],
   "source": [
    "# Build the Bi-LSTM Model\n",
    "bi_lstm_model = tf.keras.models.Sequential()"
   ]
  },
  {
   "cell_type": "code",
   "execution_count": 7,
   "id": "0f52f75f-d126-46c8-8b5e-fc33cbc13b1d",
   "metadata": {},
   "outputs": [
    {
     "name": "stderr",
     "output_type": "stream",
     "text": [
      "C:\\Users\\KIIT\\AppData\\Local\\Programs\\Python\\Python312\\Lib\\site-packages\\keras\\src\\layers\\reshaping\\flatten.py:37: UserWarning: Do not pass an `input_shape`/`input_dim` argument to a layer. When using Sequential models, prefer using an `Input(shape)` object as the first layer in the model instead.\n",
      "  super().__init__(**kwargs)\n"
     ]
    }
   ],
   "source": [
    "# Flatten and Reshape for Bi-LSTM\n",
    "bi_lstm_model.add(tf.keras.layers.Flatten(input_shape=(64, 64, 3)))\n",
    "bi_lstm_model.add(tf.keras.layers.Reshape((16, -1)))  # Reshape to (time_steps, features)"
   ]
  },
  {
   "cell_type": "code",
   "execution_count": 8,
   "id": "faeae924-e63f-4d52-bd11-57af37d3f46d",
   "metadata": {},
   "outputs": [],
   "source": [
    "# Bidirectional LSTM Layer\n",
    "bi_lstm_model.add(tf.keras.layers.Bidirectional(tf.keras.layers.LSTM(units=64, activation='tanh', return_sequences=False)))"
   ]
  },
  {
   "cell_type": "code",
   "execution_count": 9,
   "id": "b1f54d01-0e4f-4e92-819b-1398b7cb466a",
   "metadata": {},
   "outputs": [],
   "source": [
    "# Fully Connected Layers\n",
    "bi_lstm_model.add(tf.keras.layers.Dense(units=128, activation='relu'))\n",
    "bi_lstm_model.add(tf.keras.layers.Dense(6, activation='softmax'))  # 6 classes"
   ]
  },
  {
   "cell_type": "code",
   "execution_count": 10,
   "id": "436b1c8e-210f-41fa-a797-88af826324b2",
   "metadata": {},
   "outputs": [],
   "source": [
    "# Compile the model with Precision, Recall, and F1 Score\n",
    "bi_lstm_model.compile(\n",
    "    optimizer='adam',\n",
    "    loss='categorical_crossentropy',  # Use categorical_crossentropy for one-hot encoded labels\n",
    "    metrics=[\n",
    "        'accuracy',\n",
    "        tf.keras.metrics.Precision(name='precision'),\n",
    "        tf.keras.metrics.Recall(name='recall'),\n",
    "        F1Score(name='f1_score')  # Add custom F1 score metric\n",
    "    ]\n",
    ")"
   ]
  },
  {
   "cell_type": "code",
   "execution_count": 11,
   "id": "8f781c83-e953-4c6d-b112-bd0cbf81775e",
   "metadata": {},
   "outputs": [
    {
     "name": "stderr",
     "output_type": "stream",
     "text": [
      "C:\\Users\\KIIT\\AppData\\Local\\Programs\\Python\\Python312\\Lib\\site-packages\\keras\\src\\trainers\\data_adapters\\py_dataset_adapter.py:121: UserWarning: Your `PyDataset` class should call `super().__init__(**kwargs)` in its constructor. `**kwargs` can include `workers`, `use_multiprocessing`, `max_queue_size`. Do not pass these arguments to `fit()`, as they will be ignored.\n",
      "  self._warn_if_super_not_called()\n"
     ]
    },
    {
     "name": "stdout",
     "output_type": "stream",
     "text": [
      "Epoch 1/100\n",
      "\u001b[1m236/236\u001b[0m \u001b[32m━━━━━━━━━━━━━━━━━━━━\u001b[0m\u001b[37m\u001b[0m \u001b[1m0s\u001b[0m 495ms/step - accuracy: 0.3882 - f1_score: 0.0733 - loss: 1.6022 - precision: 0.4600 - recall: 0.0400"
     ]
    },
    {
     "name": "stderr",
     "output_type": "stream",
     "text": [
      "C:\\Users\\KIIT\\AppData\\Local\\Programs\\Python\\Python312\\Lib\\site-packages\\keras\\src\\trainers\\data_adapters\\py_dataset_adapter.py:121: UserWarning: Your `PyDataset` class should call `super().__init__(**kwargs)` in its constructor. `**kwargs` can include `workers`, `use_multiprocessing`, `max_queue_size`. Do not pass these arguments to `fit()`, as they will be ignored.\n",
      "  self._warn_if_super_not_called()\n"
     ]
    },
    {
     "name": "stdout",
     "output_type": "stream",
     "text": [
      "\u001b[1m236/236\u001b[0m \u001b[32m━━━━━━━━━━━━━━━━━━━━\u001b[0m\u001b[37m\u001b[0m \u001b[1m186s\u001b[0m 696ms/step - accuracy: 0.3882 - f1_score: 0.0734 - loss: 1.6022 - precision: 0.4602 - recall: 0.0401 - val_accuracy: 0.4067 - val_f1_score: 0.0210 - val_loss: 1.5580 - val_precision: 0.8163 - val_recall: 0.0106\n",
      "Epoch 2/100\n",
      "\u001b[1m236/236\u001b[0m \u001b[32m━━━━━━━━━━━━━━━━━━━━\u001b[0m\u001b[37m\u001b[0m \u001b[1m132s\u001b[0m 561ms/step - accuracy: 0.4008 - f1_score: 0.1592 - loss: 1.5434 - precision: 0.6117 - recall: 0.0928 - val_accuracy: 0.4227 - val_f1_score: 0.1484 - val_loss: 1.5045 - val_precision: 0.6670 - val_recall: 0.0835\n",
      "Epoch 3/100\n",
      "\u001b[1m236/236\u001b[0m \u001b[32m━━━━━━━━━━━━━━━━━━━━\u001b[0m\u001b[37m\u001b[0m \u001b[1m80s\u001b[0m 340ms/step - accuracy: 0.4095 - f1_score: 0.2137 - loss: 1.5029 - precision: 0.6325 - recall: 0.1288 - val_accuracy: 0.4414 - val_f1_score: 0.1894 - val_loss: 1.4609 - val_precision: 0.7282 - val_recall: 0.1089\n",
      "Epoch 4/100\n",
      "\u001b[1m236/236\u001b[0m \u001b[32m━━━━━━━━━━━━━━━━━━━━\u001b[0m\u001b[37m\u001b[0m \u001b[1m45s\u001b[0m 192ms/step - accuracy: 0.4400 - f1_score: 0.2391 - loss: 1.4616 - precision: 0.6358 - recall: 0.1477 - val_accuracy: 0.4676 - val_f1_score: 0.2402 - val_loss: 1.4200 - val_precision: 0.7426 - val_recall: 0.1433\n",
      "Epoch 5/100\n",
      "\u001b[1m236/236\u001b[0m \u001b[32m━━━━━━━━━━━━━━━━━━━━\u001b[0m\u001b[37m\u001b[0m \u001b[1m125s\u001b[0m 533ms/step - accuracy: 0.4608 - f1_score: 0.2782 - loss: 1.4197 - precision: 0.6531 - recall: 0.1768 - val_accuracy: 0.4935 - val_f1_score: 0.2685 - val_loss: 1.3619 - val_precision: 0.7350 - val_recall: 0.1642\n",
      "Epoch 6/100\n",
      "\u001b[1m236/236\u001b[0m \u001b[32m━━━━━━━━━━━━━━━━━━━━\u001b[0m\u001b[37m\u001b[0m \u001b[1m131s\u001b[0m 557ms/step - accuracy: 0.4620 - f1_score: 0.3026 - loss: 1.3826 - precision: 0.6553 - recall: 0.1972 - val_accuracy: 0.4287 - val_f1_score: 0.2996 - val_loss: 1.4039 - val_precision: 0.6736 - val_recall: 0.1926\n",
      "Epoch 7/100\n",
      "\u001b[1m236/236\u001b[0m \u001b[32m━━━━━━━━━━━━━━━━━━━━\u001b[0m\u001b[37m\u001b[0m \u001b[1m145s\u001b[0m 614ms/step - accuracy: 0.4774 - f1_score: 0.3291 - loss: 1.3633 - precision: 0.6385 - recall: 0.2220 - val_accuracy: 0.4976 - val_f1_score: 0.3850 - val_loss: 1.2780 - val_precision: 0.6863 - val_recall: 0.2675\n",
      "Epoch 8/100\n",
      "\u001b[1m236/236\u001b[0m \u001b[32m━━━━━━━━━━━━━━━━━━━━\u001b[0m\u001b[37m\u001b[0m \u001b[1m153s\u001b[0m 649ms/step - accuracy: 0.4895 - f1_score: 0.3775 - loss: 1.2882 - precision: 0.6618 - recall: 0.2642 - val_accuracy: 0.5277 - val_f1_score: 0.3651 - val_loss: 1.2455 - val_precision: 0.7454 - val_recall: 0.2418\n",
      "Epoch 9/100\n",
      "\u001b[1m236/236\u001b[0m \u001b[32m━━━━━━━━━━━━━━━━━━━━\u001b[0m\u001b[37m\u001b[0m \u001b[1m170s\u001b[0m 721ms/step - accuracy: 0.5121 - f1_score: 0.3951 - loss: 1.2767 - precision: 0.6771 - recall: 0.2793 - val_accuracy: 0.5479 - val_f1_score: 0.4024 - val_loss: 1.2047 - val_precision: 0.7429 - val_recall: 0.2759\n",
      "Epoch 10/100\n",
      "\u001b[1m236/236\u001b[0m \u001b[32m━━━━━━━━━━━━━━━━━━━━\u001b[0m\u001b[37m\u001b[0m \u001b[1m223s\u001b[0m 943ms/step - accuracy: 0.5111 - f1_score: 0.4138 - loss: 1.2612 - precision: 0.6895 - recall: 0.2961 - val_accuracy: 0.5362 - val_f1_score: 0.4290 - val_loss: 1.1919 - val_precision: 0.7134 - val_recall: 0.3067\n",
      "Epoch 11/100\n",
      "\u001b[1m236/236\u001b[0m \u001b[32m━━━━━━━━━━━━━━━━━━━━\u001b[0m\u001b[37m\u001b[0m \u001b[1m223s\u001b[0m 946ms/step - accuracy: 0.5402 - f1_score: 0.4367 - loss: 1.2171 - precision: 0.6936 - recall: 0.3189 - val_accuracy: 0.5555 - val_f1_score: 0.4750 - val_loss: 1.1561 - val_precision: 0.6982 - val_recall: 0.3599\n",
      "Epoch 12/100\n",
      "\u001b[1m236/236\u001b[0m \u001b[32m━━━━━━━━━━━━━━━━━━━━\u001b[0m\u001b[37m\u001b[0m \u001b[1m257s\u001b[0m 926ms/step - accuracy: 0.5486 - f1_score: 0.4602 - loss: 1.1828 - precision: 0.6919 - recall: 0.3449 - val_accuracy: 0.5625 - val_f1_score: 0.4967 - val_loss: 1.1262 - val_precision: 0.7055 - val_recall: 0.3833\n",
      "Epoch 13/100\n",
      "\u001b[1m236/236\u001b[0m \u001b[32m━━━━━━━━━━━━━━━━━━━━\u001b[0m\u001b[37m\u001b[0m \u001b[1m223s\u001b[0m 947ms/step - accuracy: 0.5417 - f1_score: 0.4642 - loss: 1.1831 - precision: 0.6879 - recall: 0.3505 - val_accuracy: 0.5663 - val_f1_score: 0.5054 - val_loss: 1.1147 - val_precision: 0.7261 - val_recall: 0.3875\n",
      "Epoch 14/100\n",
      "\u001b[1m236/236\u001b[0m \u001b[32m━━━━━━━━━━━━━━━━━━━━\u001b[0m\u001b[37m\u001b[0m \u001b[1m216s\u001b[0m 916ms/step - accuracy: 0.5630 - f1_score: 0.4725 - loss: 1.1460 - precision: 0.6956 - recall: 0.3578 - val_accuracy: 0.5923 - val_f1_score: 0.5397 - val_loss: 1.0751 - val_precision: 0.7051 - val_recall: 0.4372\n",
      "Epoch 15/100\n",
      "\u001b[1m236/236\u001b[0m \u001b[32m━━━━━━━━━━━━━━━━━━━━\u001b[0m\u001b[37m\u001b[0m \u001b[1m222s\u001b[0m 936ms/step - accuracy: 0.5665 - f1_score: 0.4949 - loss: 1.1271 - precision: 0.7034 - recall: 0.3820 - val_accuracy: 0.5228 - val_f1_score: 0.4808 - val_loss: 1.2294 - val_precision: 0.6503 - val_recall: 0.3814\n",
      "Epoch 16/100\n",
      "\u001b[1m236/236\u001b[0m \u001b[32m━━━━━━━━━━━━━━━━━━━━\u001b[0m\u001b[37m\u001b[0m \u001b[1m217s\u001b[0m 919ms/step - accuracy: 0.5737 - f1_score: 0.4986 - loss: 1.0999 - precision: 0.7116 - recall: 0.3838 - val_accuracy: 0.5939 - val_f1_score: 0.5615 - val_loss: 1.0484 - val_precision: 0.7076 - val_recall: 0.4655\n",
      "Epoch 17/100\n",
      "\u001b[1m236/236\u001b[0m \u001b[32m━━━━━━━━━━━━━━━━━━━━\u001b[0m\u001b[37m\u001b[0m \u001b[1m207s\u001b[0m 876ms/step - accuracy: 0.5787 - f1_score: 0.5071 - loss: 1.0990 - precision: 0.7053 - recall: 0.3960 - val_accuracy: 0.6042 - val_f1_score: 0.5652 - val_loss: 1.0150 - val_precision: 0.7472 - val_recall: 0.4545\n",
      "Epoch 18/100\n",
      "\u001b[1m236/236\u001b[0m \u001b[32m━━━━━━━━━━━━━━━━━━━━\u001b[0m\u001b[37m\u001b[0m \u001b[1m226s\u001b[0m 958ms/step - accuracy: 0.5901 - f1_score: 0.5303 - loss: 1.0549 - precision: 0.7212 - recall: 0.4195 - val_accuracy: 0.6123 - val_f1_score: 0.5485 - val_loss: 0.9987 - val_precision: 0.7571 - val_recall: 0.4300\n",
      "Epoch 19/100\n",
      "\u001b[1m236/236\u001b[0m \u001b[32m━━━━━━━━━━━━━━━━━━━━\u001b[0m\u001b[37m\u001b[0m \u001b[1m224s\u001b[0m 951ms/step - accuracy: 0.5940 - f1_score: 0.5323 - loss: 1.0593 - precision: 0.7256 - recall: 0.4204 - val_accuracy: 0.6260 - val_f1_score: 0.5611 - val_loss: 0.9970 - val_precision: 0.7796 - val_recall: 0.4383\n",
      "Epoch 20/100\n",
      "\u001b[1m236/236\u001b[0m \u001b[32m━━━━━━━━━━━━━━━━━━━━\u001b[0m\u001b[37m\u001b[0m \u001b[1m278s\u001b[0m 1s/step - accuracy: 0.6065 - f1_score: 0.5541 - loss: 1.0256 - precision: 0.7379 - recall: 0.4436 - val_accuracy: 0.6184 - val_f1_score: 0.5683 - val_loss: 0.9829 - val_precision: 0.7570 - val_recall: 0.4549\n",
      "Epoch 21/100\n",
      "\u001b[1m236/236\u001b[0m \u001b[32m━━━━━━━━━━━━━━━━━━━━\u001b[0m\u001b[37m\u001b[0m \u001b[1m181s\u001b[0m 768ms/step - accuracy: 0.6204 - f1_score: 0.5700 - loss: 1.0056 - precision: 0.7548 - recall: 0.4580 - val_accuracy: 0.6178 - val_f1_score: 0.5717 - val_loss: 0.9947 - val_precision: 0.7631 - val_recall: 0.4571\n",
      "Epoch 22/100\n",
      "\u001b[1m236/236\u001b[0m \u001b[32m━━━━━━━━━━━━━━━━━━━━\u001b[0m\u001b[37m\u001b[0m \u001b[1m104s\u001b[0m 442ms/step - accuracy: 0.6216 - f1_score: 0.5647 - loss: 1.0107 - precision: 0.7453 - recall: 0.4547 - val_accuracy: 0.6624 - val_f1_score: 0.6007 - val_loss: 0.9230 - val_precision: 0.7960 - val_recall: 0.4823\n",
      "Epoch 23/100\n",
      "\u001b[1m236/236\u001b[0m \u001b[32m━━━━━━━━━━━━━━━━━━━━\u001b[0m\u001b[37m\u001b[0m \u001b[1m110s\u001b[0m 466ms/step - accuracy: 0.6265 - f1_score: 0.5815 - loss: 0.9878 - precision: 0.7573 - recall: 0.4719 - val_accuracy: 0.6540 - val_f1_score: 0.6066 - val_loss: 0.9237 - val_precision: 0.7867 - val_recall: 0.4936\n",
      "Epoch 24/100\n",
      "\u001b[1m236/236\u001b[0m \u001b[32m━━━━━━━━━━━━━━━━━━━━\u001b[0m\u001b[37m\u001b[0m \u001b[1m120s\u001b[0m 509ms/step - accuracy: 0.6340 - f1_score: 0.5885 - loss: 0.9792 - precision: 0.7583 - recall: 0.4810 - val_accuracy: 0.6337 - val_f1_score: 0.5870 - val_loss: 0.9451 - val_precision: 0.7694 - val_recall: 0.4745\n",
      "Epoch 25/100\n",
      "\u001b[1m236/236\u001b[0m \u001b[32m━━━━━━━━━━━━━━━━━━━━\u001b[0m\u001b[37m\u001b[0m \u001b[1m128s\u001b[0m 541ms/step - accuracy: 0.6335 - f1_score: 0.5861 - loss: 0.9656 - precision: 0.7517 - recall: 0.4804 - val_accuracy: 0.6568 - val_f1_score: 0.6125 - val_loss: 0.9052 - val_precision: 0.7976 - val_recall: 0.4971\n",
      "Epoch 26/100\n",
      "\u001b[1m236/236\u001b[0m \u001b[32m━━━━━━━━━━━━━━━━━━━━\u001b[0m\u001b[37m\u001b[0m \u001b[1m144s\u001b[0m 548ms/step - accuracy: 0.6453 - f1_score: 0.5850 - loss: 0.9703 - precision: 0.7577 - recall: 0.4767 - val_accuracy: 0.6719 - val_f1_score: 0.6403 - val_loss: 0.8828 - val_precision: 0.7810 - val_recall: 0.5426\n",
      "Epoch 27/100\n",
      "\u001b[1m236/236\u001b[0m \u001b[32m━━━━━━━━━━━━━━━━━━━━\u001b[0m\u001b[37m\u001b[0m \u001b[1m129s\u001b[0m 545ms/step - accuracy: 0.6476 - f1_score: 0.6091 - loss: 0.9331 - precision: 0.7638 - recall: 0.5067 - val_accuracy: 0.6545 - val_f1_score: 0.6422 - val_loss: 0.9005 - val_precision: 0.7343 - val_recall: 0.5706\n",
      "Epoch 28/100\n",
      "\u001b[1m236/236\u001b[0m \u001b[32m━━━━━━━━━━━━━━━━━━━━\u001b[0m\u001b[37m\u001b[0m \u001b[1m132s\u001b[0m 560ms/step - accuracy: 0.6438 - f1_score: 0.6067 - loss: 0.9596 - precision: 0.7557 - recall: 0.5071 - val_accuracy: 0.6827 - val_f1_score: 0.6422 - val_loss: 0.8738 - val_precision: 0.8221 - val_recall: 0.5270\n",
      "Epoch 29/100\n",
      "\u001b[1m236/236\u001b[0m \u001b[32m━━━━━━━━━━━━━━━━━━━━\u001b[0m\u001b[37m\u001b[0m \u001b[1m131s\u001b[0m 553ms/step - accuracy: 0.6554 - f1_score: 0.6203 - loss: 0.9251 - precision: 0.7785 - recall: 0.5155 - val_accuracy: 0.6965 - val_f1_score: 0.6719 - val_loss: 0.8217 - val_precision: 0.8204 - val_recall: 0.5689\n",
      "Epoch 30/100\n",
      "\u001b[1m236/236\u001b[0m \u001b[32m━━━━━━━━━━━━━━━━━━━━\u001b[0m\u001b[37m\u001b[0m \u001b[1m132s\u001b[0m 558ms/step - accuracy: 0.6449 - f1_score: 0.6185 - loss: 0.9269 - precision: 0.7749 - recall: 0.5148 - val_accuracy: 0.6609 - val_f1_score: 0.6468 - val_loss: 0.9060 - val_precision: 0.7833 - val_recall: 0.5508\n",
      "Epoch 31/100\n",
      "\u001b[1m236/236\u001b[0m \u001b[32m━━━━━━━━━━━━━━━━━━━━\u001b[0m\u001b[37m\u001b[0m \u001b[1m130s\u001b[0m 550ms/step - accuracy: 0.6495 - f1_score: 0.6243 - loss: 0.9185 - precision: 0.7737 - recall: 0.5234 - val_accuracy: 0.7029 - val_f1_score: 0.6745 - val_loss: 0.8240 - val_precision: 0.8316 - val_recall: 0.5673\n",
      "Epoch 32/100\n",
      "\u001b[1m236/236\u001b[0m \u001b[32m━━━━━━━━━━━━━━━━━━━━\u001b[0m\u001b[37m\u001b[0m \u001b[1m131s\u001b[0m 556ms/step - accuracy: 0.6687 - f1_score: 0.6409 - loss: 0.8880 - precision: 0.7779 - recall: 0.5450 - val_accuracy: 0.6936 - val_f1_score: 0.6764 - val_loss: 0.8273 - val_precision: 0.8030 - val_recall: 0.5843\n",
      "Epoch 33/100\n",
      "\u001b[1m236/236\u001b[0m \u001b[32m━━━━━━━━━━━━━━━━━━━━\u001b[0m\u001b[37m\u001b[0m \u001b[1m131s\u001b[0m 557ms/step - accuracy: 0.6669 - f1_score: 0.6415 - loss: 0.8846 - precision: 0.7783 - recall: 0.5457 - val_accuracy: 0.7216 - val_f1_score: 0.6906 - val_loss: 0.7762 - val_precision: 0.8475 - val_recall: 0.5827\n",
      "Epoch 34/100\n",
      "\u001b[1m236/236\u001b[0m \u001b[32m━━━━━━━━━━━━━━━━━━━━\u001b[0m\u001b[37m\u001b[0m \u001b[1m123s\u001b[0m 522ms/step - accuracy: 0.6843 - f1_score: 0.6615 - loss: 0.8520 - precision: 0.7976 - recall: 0.5653 - val_accuracy: 0.7078 - val_f1_score: 0.6791 - val_loss: 0.7901 - val_precision: 0.8239 - val_recall: 0.5775\n",
      "Epoch 35/100\n",
      "\u001b[1m236/236\u001b[0m \u001b[32m━━━━━━━━━━━━━━━━━━━━\u001b[0m\u001b[37m\u001b[0m \u001b[1m113s\u001b[0m 476ms/step - accuracy: 0.6711 - f1_score: 0.6425 - loss: 0.8668 - precision: 0.7817 - recall: 0.5455 - val_accuracy: 0.7013 - val_f1_score: 0.6738 - val_loss: 0.8252 - val_precision: 0.8352 - val_recall: 0.5647\n",
      "Epoch 36/100\n",
      "\u001b[1m236/236\u001b[0m \u001b[32m━━━━━━━━━━━━━━━━━━━━\u001b[0m\u001b[37m\u001b[0m \u001b[1m132s\u001b[0m 557ms/step - accuracy: 0.6937 - f1_score: 0.6642 - loss: 0.8330 - precision: 0.8006 - recall: 0.5676 - val_accuracy: 0.7269 - val_f1_score: 0.7034 - val_loss: 0.7445 - val_precision: 0.8418 - val_recall: 0.6041\n",
      "Epoch 37/100\n",
      "\u001b[1m236/236\u001b[0m \u001b[32m━━━━━━━━━━━━━━━━━━━━\u001b[0m\u001b[37m\u001b[0m \u001b[1m132s\u001b[0m 558ms/step - accuracy: 0.6917 - f1_score: 0.6659 - loss: 0.8383 - precision: 0.7934 - recall: 0.5737 - val_accuracy: 0.7289 - val_f1_score: 0.6942 - val_loss: 0.7525 - val_precision: 0.8387 - val_recall: 0.5921\n",
      "Epoch 38/100\n",
      "\u001b[1m236/236\u001b[0m \u001b[32m━━━━━━━━━━━━━━━━━━━━\u001b[0m\u001b[37m\u001b[0m \u001b[1m128s\u001b[0m 542ms/step - accuracy: 0.6957 - f1_score: 0.6762 - loss: 0.8154 - precision: 0.8109 - recall: 0.5801 - val_accuracy: 0.7175 - val_f1_score: 0.7018 - val_loss: 0.7603 - val_precision: 0.8281 - val_recall: 0.6089\n",
      "Epoch 39/100\n",
      "\u001b[1m236/236\u001b[0m \u001b[32m━━━━━━━━━━━━━━━━━━━━\u001b[0m\u001b[37m\u001b[0m \u001b[1m133s\u001b[0m 565ms/step - accuracy: 0.6902 - f1_score: 0.6760 - loss: 0.8130 - precision: 0.8024 - recall: 0.5840 - val_accuracy: 0.7110 - val_f1_score: 0.7028 - val_loss: 0.7570 - val_precision: 0.8123 - val_recall: 0.6194\n",
      "Epoch 40/100\n",
      "\u001b[1m236/236\u001b[0m \u001b[32m━━━━━━━━━━━━━━━━━━━━\u001b[0m\u001b[37m\u001b[0m \u001b[1m133s\u001b[0m 563ms/step - accuracy: 0.6963 - f1_score: 0.6784 - loss: 0.8097 - precision: 0.7975 - recall: 0.5903 - val_accuracy: 0.7353 - val_f1_score: 0.7268 - val_loss: 0.7180 - val_precision: 0.8219 - val_recall: 0.6514\n",
      "Epoch 41/100\n",
      "\u001b[1m236/236\u001b[0m \u001b[32m━━━━━━━━━━━━━━━━━━━━\u001b[0m\u001b[37m\u001b[0m \u001b[1m130s\u001b[0m 552ms/step - accuracy: 0.6949 - f1_score: 0.6776 - loss: 0.8131 - precision: 0.7951 - recall: 0.5905 - val_accuracy: 0.7454 - val_f1_score: 0.7321 - val_loss: 0.7115 - val_precision: 0.8473 - val_recall: 0.6445\n",
      "Epoch 42/100\n",
      "\u001b[1m236/236\u001b[0m \u001b[32m━━━━━━━━━━━━━━━━━━━━\u001b[0m\u001b[37m\u001b[0m \u001b[1m163s\u001b[0m 689ms/step - accuracy: 0.7130 - f1_score: 0.6920 - loss: 0.7745 - precision: 0.8068 - recall: 0.6058 - val_accuracy: 0.7402 - val_f1_score: 0.7166 - val_loss: 0.7052 - val_precision: 0.8445 - val_recall: 0.6223\n",
      "Epoch 44/100\n",
      "\u001b[1m236/236\u001b[0m \u001b[32m━━━━━━━━━━━━━━━━━━━━\u001b[0m\u001b[37m\u001b[0m \u001b[1m124s\u001b[0m 527ms/step - accuracy: 0.7175 - f1_score: 0.7057 - loss: 0.7539 - precision: 0.8253 - recall: 0.6165 - val_accuracy: 0.7568 - val_f1_score: 0.7395 - val_loss: 0.6855 - val_precision: 0.8558 - val_recall: 0.6510\n",
      "Epoch 45/100\n",
      "\u001b[1m236/236\u001b[0m \u001b[32m━━━━━━━━━━━━━━━━━━━━\u001b[0m\u001b[37m\u001b[0m \u001b[1m153s\u001b[0m 649ms/step - accuracy: 0.7051 - f1_score: 0.6928 - loss: 0.7674 - precision: 0.8001 - recall: 0.6110 - val_accuracy: 0.7601 - val_f1_score: 0.7323 - val_loss: 0.6826 - val_precision: 0.8583 - val_recall: 0.6386\n",
      "Epoch 46/100\n",
      "\u001b[1m236/236\u001b[0m \u001b[32m━━━━━━━━━━━━━━━━━━━━\u001b[0m\u001b[37m\u001b[0m \u001b[1m141s\u001b[0m 597ms/step - accuracy: 0.7268 - f1_score: 0.7077 - loss: 0.7492 - precision: 0.8208 - recall: 0.6223 - val_accuracy: 0.7666 - val_f1_score: 0.7374 - val_loss: 0.6663 - val_precision: 0.8639 - val_recall: 0.6433\n",
      "Epoch 47/100\n",
      "\u001b[1m236/236\u001b[0m \u001b[32m━━━━━━━━━━━━━━━━━━━━\u001b[0m\u001b[37m\u001b[0m \u001b[1m203s\u001b[0m 863ms/step - accuracy: 0.7375 - f1_score: 0.7164 - loss: 0.7185 - precision: 0.8217 - recall: 0.6351 - val_accuracy: 0.7383 - val_f1_score: 0.7174 - val_loss: 0.7108 - val_precision: 0.8461 - val_recall: 0.6227\n",
      "Epoch 48/100\n",
      "\u001b[1m236/236\u001b[0m \u001b[32m━━━━━━━━━━━━━━━━━━━━\u001b[0m\u001b[37m\u001b[0m \u001b[1m223s\u001b[0m 947ms/step - accuracy: 0.7135 - f1_score: 0.7014 - loss: 0.7734 - precision: 0.8185 - recall: 0.6140 - val_accuracy: 0.7544 - val_f1_score: 0.7367 - val_loss: 0.6737 - val_precision: 0.8384 - val_recall: 0.6571\n",
      "Epoch 49/100\n",
      "\u001b[1m236/236\u001b[0m \u001b[32m━━━━━━━━━━━━━━━━━━━━\u001b[0m\u001b[37m\u001b[0m \u001b[1m227s\u001b[0m 962ms/step - accuracy: 0.7170 - f1_score: 0.7034 - loss: 0.7580 - precision: 0.8105 - recall: 0.6215 - val_accuracy: 0.7452 - val_f1_score: 0.7428 - val_loss: 0.6820 - val_precision: 0.8229 - val_recall: 0.6768\n",
      "Epoch 50/100\n",
      "\u001b[1m236/236\u001b[0m \u001b[32m━━━━━━━━━━━━━━━━━━━━\u001b[0m\u001b[37m\u001b[0m \u001b[1m170s\u001b[0m 720ms/step - accuracy: 0.7164 - f1_score: 0.7027 - loss: 0.7503 - precision: 0.8071 - recall: 0.6223 - val_accuracy: 0.7464 - val_f1_score: 0.7270 - val_loss: 0.6851 - val_precision: 0.8452 - val_recall: 0.6378\n",
      "Epoch 51/100\n",
      "\u001b[1m236/236\u001b[0m \u001b[32m━━━━━━━━━━━━━━━━━━━━\u001b[0m\u001b[37m\u001b[0m \u001b[1m241s\u001b[0m 1s/step - accuracy: 0.7309 - f1_score: 0.7138 - loss: 0.7352 - precision: 0.8191 - recall: 0.6325 - val_accuracy: 0.7653 - val_f1_score: 0.7496 - val_loss: 0.6558 - val_precision: 0.8412 - val_recall: 0.6759\n",
      "Epoch 52/100\n",
      "\u001b[1m236/236\u001b[0m \u001b[32m━━━━━━━━━━━━━━━━━━━━\u001b[0m\u001b[37m\u001b[0m \u001b[1m229s\u001b[0m 970ms/step - accuracy: 0.7269 - f1_score: 0.7163 - loss: 0.7320 - precision: 0.8118 - recall: 0.6410 - val_accuracy: 0.7548 - val_f1_score: 0.7386 - val_loss: 0.6753 - val_precision: 0.8641 - val_recall: 0.6450\n",
      "Epoch 53/100\n",
      "\u001b[1m236/236\u001b[0m \u001b[32m━━━━━━━━━━━━━━━━━━━━\u001b[0m\u001b[37m\u001b[0m \u001b[1m228s\u001b[0m 967ms/step - accuracy: 0.7301 - f1_score: 0.7209 - loss: 0.7147 - precision: 0.8224 - recall: 0.6418 - val_accuracy: 0.7519 - val_f1_score: 0.7452 - val_loss: 0.6764 - val_precision: 0.8226 - val_recall: 0.6811\n",
      "Epoch 54/100\n",
      "\u001b[1m236/236\u001b[0m \u001b[32m━━━━━━━━━━━━━━━━━━━━\u001b[0m\u001b[37m\u001b[0m \u001b[1m224s\u001b[0m 950ms/step - accuracy: 0.7456 - f1_score: 0.7282 - loss: 0.7009 - precision: 0.8349 - recall: 0.6458 - val_accuracy: 0.7824 - val_f1_score: 0.7803 - val_loss: 0.6126 - val_precision: 0.8557 - val_recall: 0.7171\n",
      "Epoch 55/100\n",
      "\u001b[1m236/236\u001b[0m \u001b[32m━━━━━━━━━━━━━━━━━━━━\u001b[0m\u001b[37m\u001b[0m \u001b[1m197s\u001b[0m 836ms/step - accuracy: 0.7534 - f1_score: 0.7401 - loss: 0.6798 - precision: 0.8405 - recall: 0.6612 - val_accuracy: 0.7926 - val_f1_score: 0.7782 - val_loss: 0.5944 - val_precision: 0.8760 - val_recall: 0.6999\n",
      "Epoch 56/100\n",
      "\u001b[1m236/236\u001b[0m \u001b[32m━━━━━━━━━━━━━━━━━━━━\u001b[0m\u001b[37m\u001b[0m \u001b[1m231s\u001b[0m 978ms/step - accuracy: 0.7309 - f1_score: 0.7171 - loss: 0.7141 - precision: 0.8153 - recall: 0.6400 - val_accuracy: 0.7888 - val_f1_score: 0.7823 - val_loss: 0.5810 - val_precision: 0.8678 - val_recall: 0.7122\n",
      "Epoch 57/100\n",
      "\u001b[1m236/236\u001b[0m \u001b[32m━━━━━━━━━━━━━━━━━━━━\u001b[0m\u001b[37m\u001b[0m \u001b[1m234s\u001b[0m 993ms/step - accuracy: 0.7624 - f1_score: 0.7398 - loss: 0.6800 - precision: 0.8379 - recall: 0.6624 - val_accuracy: 0.7872 - val_f1_score: 0.7874 - val_loss: 0.5789 - val_precision: 0.8576 - val_recall: 0.7278\n",
      "Epoch 58/100\n",
      "\u001b[1m236/236\u001b[0m \u001b[32m━━━━━━━━━━━━━━━━━━━━\u001b[0m\u001b[37m\u001b[0m \u001b[1m197s\u001b[0m 835ms/step - accuracy: 0.7485 - f1_score: 0.7375 - loss: 0.6665 - precision: 0.8265 - recall: 0.6658 - val_accuracy: 0.7941 - val_f1_score: 0.7845 - val_loss: 0.5874 - val_precision: 0.8779 - val_recall: 0.7091\n",
      "Epoch 60/100\n",
      "\u001b[1m236/236\u001b[0m \u001b[32m━━━━━━━━━━━━━━━━━━━━\u001b[0m\u001b[37m\u001b[0m \u001b[1m213s\u001b[0m 904ms/step - accuracy: 0.7577 - f1_score: 0.7447 - loss: 0.6768 - precision: 0.8304 - recall: 0.6750 - val_accuracy: 0.8007 - val_f1_score: 0.7951 - val_loss: 0.5660 - val_precision: 0.8751 - val_recall: 0.7285\n",
      "Epoch 61/100\n",
      "\u001b[1m236/236\u001b[0m \u001b[32m━━━━━━━━━━━━━━━━━━━━\u001b[0m\u001b[37m\u001b[0m \u001b[1m214s\u001b[0m 908ms/step - accuracy: 0.7586 - f1_score: 0.7493 - loss: 0.6504 - precision: 0.8285 - recall: 0.6839 - val_accuracy: 0.7852 - val_f1_score: 0.7766 - val_loss: 0.5969 - val_precision: 0.8638 - val_recall: 0.7054\n",
      "Epoch 62/100\n",
      "\u001b[1m236/236\u001b[0m \u001b[32m━━━━━━━━━━━━━━━━━━━━\u001b[0m\u001b[37m\u001b[0m \u001b[1m230s\u001b[0m 975ms/step - accuracy: 0.7657 - f1_score: 0.7511 - loss: 0.6535 - precision: 0.8351 - recall: 0.6825 - val_accuracy: 0.7880 - val_f1_score: 0.7849 - val_loss: 0.5794 - val_precision: 0.8530 - val_recall: 0.7268\n",
      "Epoch 63/100\n",
      "\u001b[1m236/236\u001b[0m \u001b[32m━━━━━━━━━━━━━━━━━━━━\u001b[0m\u001b[37m\u001b[0m \u001b[1m182s\u001b[0m 771ms/step - accuracy: 0.7651 - f1_score: 0.7457 - loss: 0.6583 - precision: 0.8228 - recall: 0.6820 - val_accuracy: 0.8092 - val_f1_score: 0.8003 - val_loss: 0.5456 - val_precision: 0.8797 - val_recall: 0.7341\n",
      "Epoch 67/100\n",
      "\u001b[1m236/236\u001b[0m \u001b[32m━━━━━━━━━━━━━━━━━━━━\u001b[0m\u001b[37m\u001b[0m \u001b[1m237s\u001b[0m 1s/step - accuracy: 0.7934 - f1_score: 0.7852 - loss: 0.5720 - precision: 0.8555 - recall: 0.7255 - val_accuracy: 0.8042 - val_f1_score: 0.8013 - val_loss: 0.5425 - val_precision: 0.8794 - val_recall: 0.7359\n",
      "Epoch 75/100\n",
      "\u001b[1m236/236\u001b[0m \u001b[32m━━━━━━━━━━━━━━━━━━━━\u001b[0m\u001b[37m\u001b[0m \u001b[1m263s\u001b[0m 1s/step - accuracy: 0.7883 - f1_score: 0.7833 - loss: 0.5871 - precision: 0.8554 - recall: 0.7225 - val_accuracy: 0.8111 - val_f1_score: 0.8043 - val_loss: 0.5408 - val_precision: 0.8795 - val_recall: 0.7410\n",
      "Epoch 76/100\n",
      "\u001b[1m236/236\u001b[0m \u001b[32m━━━━━━━━━━━━━━━━━━━━\u001b[0m\u001b[37m\u001b[0m \u001b[1m157s\u001b[0m 662ms/step - accuracy: 0.7926 - f1_score: 0.7851 - loss: 0.5805 - precision: 0.8593 - recall: 0.7229 - val_accuracy: 0.8320 - val_f1_score: 0.8275 - val_loss: 0.4801 - val_precision: 0.8924 - val_recall: 0.7715\n",
      "Epoch 78/100\n",
      "\u001b[1m236/236\u001b[0m \u001b[32m━━━━━━━━━━━━━━━━━━━━\u001b[0m\u001b[37m\u001b[0m \u001b[1m244s\u001b[0m 1s/step - accuracy: 0.7979 - f1_score: 0.7882 - loss: 0.5626 - precision: 0.8539 - recall: 0.7319 - val_accuracy: 0.8169 - val_f1_score: 0.8126 - val_loss: 0.4975 - val_precision: 0.8597 - val_recall: 0.7704\n",
      "Epoch 79/100\n",
      "\u001b[1m236/236\u001b[0m \u001b[32m━━━━━━━━━━━━━━━━━━━━\u001b[0m\u001b[37m\u001b[0m \u001b[1m244s\u001b[0m 1s/step - accuracy: 0.7973 - f1_score: 0.7919 - loss: 0.5734 - precision: 0.8620 - recall: 0.7325 - val_accuracy: 0.8229 - val_f1_score: 0.8201 - val_loss: 0.4977 - val_precision: 0.8791 - val_recall: 0.7685\n",
      "Epoch 80/100\n",
      "\u001b[1m236/236\u001b[0m \u001b[32m━━━━━━━━━━━━━━━━━━━━\u001b[0m\u001b[37m\u001b[0m \u001b[1m243s\u001b[0m 1s/step - accuracy: 0.7997 - f1_score: 0.7937 - loss: 0.5522 - precision: 0.8569 - recall: 0.7393 - val_accuracy: 0.8271 - val_f1_score: 0.8171 - val_loss: 0.5090 - val_precision: 0.8822 - val_recall: 0.7609\n",
      "Epoch 81/100\n",
      "\u001b[1m236/236\u001b[0m \u001b[32m━━━━━━━━━━━━━━━━━━━━\u001b[0m\u001b[37m\u001b[0m \u001b[1m252s\u001b[0m 1s/step - accuracy: 0.7916 - f1_score: 0.7852 - loss: 0.5809 - precision: 0.8548 - recall: 0.7262 - val_accuracy: 0.8537 - val_f1_score: 0.8480 - val_loss: 0.4419 - val_precision: 0.9050 - val_recall: 0.7978\n",
      "Epoch 82/100\n",
      "\u001b[1m236/236\u001b[0m \u001b[32m━━━━━━━━━━━━━━━━━━━━\u001b[0m\u001b[37m\u001b[0m \u001b[1m244s\u001b[0m 1s/step - accuracy: 0.8124 - f1_score: 0.8102 - loss: 0.5210 - precision: 0.8723 - recall: 0.7563 - val_accuracy: 0.8492 - val_f1_score: 0.8490 - val_loss: 0.4354 - val_precision: 0.9026 - val_recall: 0.8014\n",
      "Epoch 83/100\n",
      "\u001b[1m236/236\u001b[0m \u001b[32m━━━━━━━━━━━━━━━━━━━━\u001b[0m\u001b[37m\u001b[0m \u001b[1m211s\u001b[0m 893ms/step - accuracy: 0.7962 - f1_score: 0.7903 - loss: 0.5626 - precision: 0.8533 - recall: 0.7361 - val_accuracy: 0.8506 - val_f1_score: 0.8471 - val_loss: 0.4391 - val_precision: 0.9036 - val_recall: 0.7973\n",
      "Epoch 84/100\n",
      "\u001b[1m236/236\u001b[0m \u001b[32m━━━━━━━━━━━━━━━━━━━━\u001b[0m\u001b[37m\u001b[0m \u001b[1m253s\u001b[0m 1s/step - accuracy: 0.8058 - f1_score: 0.7978 - loss: 0.5482 - precision: 0.8570 - recall: 0.7463 - val_accuracy: 0.8360 - val_f1_score: 0.8271 - val_loss: 0.4768 - val_precision: 0.9010 - val_recall: 0.7645\n",
      "Epoch 85/100\n",
      "\u001b[1m236/236\u001b[0m \u001b[32m━━━━━━━━━━━━━━━━━━━━\u001b[0m\u001b[37m\u001b[0m \u001b[1m244s\u001b[0m 1s/step - accuracy: 0.8099 - f1_score: 0.8027 - loss: 0.5339 - precision: 0.8651 - recall: 0.7488 - val_accuracy: 0.8356 - val_f1_score: 0.8330 - val_loss: 0.4670 - val_precision: 0.8743 - val_recall: 0.7954\n",
      "Epoch 86/100\n",
      "\u001b[1m236/236\u001b[0m \u001b[32m━━━━━━━━━━━━━━━━━━━━\u001b[0m\u001b[37m\u001b[0m \u001b[1m243s\u001b[0m 1s/step - accuracy: 0.8074 - f1_score: 0.8070 - loss: 0.5287 - precision: 0.8610 - recall: 0.7594 - val_accuracy: 0.8468 - val_f1_score: 0.8413 - val_loss: 0.4338 - val_precision: 0.9042 - val_recall: 0.7866\n",
      "Epoch 87/100\n",
      "\u001b[1m236/236\u001b[0m \u001b[32m━━━━━━━━━━━━━━━━━━━━\u001b[0m\u001b[37m\u001b[0m \u001b[1m239s\u001b[0m 1s/step - accuracy: 0.8094 - f1_score: 0.8090 - loss: 0.5231 - precision: 0.8709 - recall: 0.7554 - val_accuracy: 0.8514 - val_f1_score: 0.8490 - val_loss: 0.4211 - val_precision: 0.9064 - val_recall: 0.7985\n",
      "Epoch 88/100\n",
      "\u001b[1m236/236\u001b[0m \u001b[32m━━━━━━━━━━━━━━━━━━━━\u001b[0m\u001b[37m\u001b[0m \u001b[1m222s\u001b[0m 937ms/step - accuracy: 0.8120 - f1_score: 0.8098 - loss: 0.5101 - precision: 0.8644 - recall: 0.7618 - val_accuracy: 0.8386 - val_f1_score: 0.8341 - val_loss: 0.4635 - val_precision: 0.8861 - val_recall: 0.7878\n",
      "Epoch 89/100\n",
      "\u001b[1m236/236\u001b[0m \u001b[32m━━━━━━━━━━━━━━━━━━━━\u001b[0m\u001b[37m\u001b[0m \u001b[1m214s\u001b[0m 906ms/step - accuracy: 0.8094 - f1_score: 0.8036 - loss: 0.5351 - precision: 0.8630 - recall: 0.7520 - val_accuracy: 0.8508 - val_f1_score: 0.8388 - val_loss: 0.4411 - val_precision: 0.8993 - val_recall: 0.7860\n",
      "Epoch 90/100\n",
      "\u001b[1m236/236\u001b[0m \u001b[32m━━━━━━━━━━━━━━━━━━━━\u001b[0m\u001b[37m\u001b[0m \u001b[1m205s\u001b[0m 867ms/step - accuracy: 0.8132 - f1_score: 0.8069 - loss: 0.5277 - precision: 0.8665 - recall: 0.7550 - val_accuracy: 0.8423 - val_f1_score: 0.8328 - val_loss: 0.4533 - val_precision: 0.8977 - val_recall: 0.7767\n",
      "Epoch 91/100\n",
      "\u001b[1m236/236\u001b[0m \u001b[32m━━━━━━━━━━━━━━━━━━━━\u001b[0m\u001b[37m\u001b[0m \u001b[1m220s\u001b[0m 932ms/step - accuracy: 0.8249 - f1_score: 0.8234 - loss: 0.4927 - precision: 0.8802 - recall: 0.7734 - val_accuracy: 0.8299 - val_f1_score: 0.8252 - val_loss: 0.4789 - val_precision: 0.8853 - val_recall: 0.7727\n",
      "Epoch 92/100\n",
      "\u001b[1m236/236\u001b[0m \u001b[32m━━━━━━━━━━━━━━━━━━━━\u001b[0m\u001b[37m\u001b[0m \u001b[1m221s\u001b[0m 937ms/step - accuracy: 0.8066 - f1_score: 0.7995 - loss: 0.5307 - precision: 0.8601 - recall: 0.7468 - val_accuracy: 0.8522 - val_f1_score: 0.8462 - val_loss: 0.4302 - val_precision: 0.8971 - val_recall: 0.8008\n",
      "Epoch 93/100\n",
      "\u001b[1m236/236\u001b[0m \u001b[32m━━━━━━━━━━━━━━━━━━━━\u001b[0m\u001b[37m\u001b[0m \u001b[1m224s\u001b[0m 948ms/step - accuracy: 0.7991 - f1_score: 0.7999 - loss: 0.5466 - precision: 0.8529 - recall: 0.7532 - val_accuracy: 0.8405 - val_f1_score: 0.8333 - val_loss: 0.4569 - val_precision: 0.8914 - val_recall: 0.7824\n",
      "Epoch 94/100\n",
      "\u001b[1m236/236\u001b[0m \u001b[32m━━━━━━━━━━━━━━━━━━━━\u001b[0m\u001b[37m\u001b[0m \u001b[1m235s\u001b[0m 995ms/step - accuracy: 0.8145 - f1_score: 0.8128 - loss: 0.5089 - precision: 0.8737 - recall: 0.7599 - val_accuracy: 0.8431 - val_f1_score: 0.8365 - val_loss: 0.4490 - val_precision: 0.8934 - val_recall: 0.7864\n",
      "Epoch 95/100\n",
      "\u001b[1m236/236\u001b[0m \u001b[32m━━━━━━━━━━━━━━━━━━━━\u001b[0m\u001b[37m\u001b[0m \u001b[1m215s\u001b[0m 911ms/step - accuracy: 0.8128 - f1_score: 0.8083 - loss: 0.5126 - precision: 0.8629 - recall: 0.7601 - val_accuracy: 0.8558 - val_f1_score: 0.8473 - val_loss: 0.4206 - val_precision: 0.9101 - val_recall: 0.7926\n",
      "Epoch 96/100\n",
      "\u001b[1m236/236\u001b[0m \u001b[32m━━━━━━━━━━━━━━━━━━━━\u001b[0m\u001b[37m\u001b[0m \u001b[1m237s\u001b[0m 1s/step - accuracy: 0.8204 - f1_score: 0.8165 - loss: 0.4983 - precision: 0.8687 - recall: 0.7703 - val_accuracy: 0.8579 - val_f1_score: 0.8500 - val_loss: 0.4140 - val_precision: 0.8972 - val_recall: 0.8075\n",
      "Epoch 97/100\n",
      "\u001b[1m236/236\u001b[0m \u001b[32m━━━━━━━━━━━━━━━━━━━━\u001b[0m\u001b[37m\u001b[0m \u001b[1m212s\u001b[0m 897ms/step - accuracy: 0.8074 - f1_score: 0.8080 - loss: 0.5298 - precision: 0.8648 - recall: 0.7582 - val_accuracy: 0.8593 - val_f1_score: 0.8594 - val_loss: 0.3944 - val_precision: 0.9045 - val_recall: 0.8185\n",
      "Epoch 98/100\n",
      "\u001b[1m236/236\u001b[0m \u001b[32m━━━━━━━━━━━━━━━━━━━━\u001b[0m\u001b[37m\u001b[0m \u001b[1m206s\u001b[0m 872ms/step - accuracy: 0.8166 - f1_score: 0.8141 - loss: 0.5080 - precision: 0.8667 - recall: 0.7675 - val_accuracy: 0.8506 - val_f1_score: 0.8497 - val_loss: 0.4291 - val_precision: 0.8985 - val_recall: 0.8060\n",
      "Epoch 99/100\n",
      "\u001b[1m236/236\u001b[0m \u001b[32m━━━━━━━━━━━━━━━━━━━━\u001b[0m\u001b[37m\u001b[0m \u001b[1m195s\u001b[0m 827ms/step - accuracy: 0.8224 - f1_score: 0.8208 - loss: 0.4887 - precision: 0.8666 - recall: 0.7797 - val_accuracy: 0.8562 - val_f1_score: 0.8511 - val_loss: 0.4176 - val_precision: 0.8954 - val_recall: 0.8111\n",
      "Epoch 100/100\n",
      "\u001b[1m236/236\u001b[0m \u001b[32m━━━━━━━━━━━━━━━━━━━━\u001b[0m\u001b[37m\u001b[0m \u001b[1m191s\u001b[0m 808ms/step - accuracy: 0.8279 - f1_score: 0.8229 - loss: 0.4854 - precision: 0.8765 - recall: 0.7755 - val_accuracy: 0.8563 - val_f1_score: 0.8573 - val_loss: 0.4101 - val_precision: 0.9092 - val_recall: 0.8111\n"
     ]
    }
   ],
   "source": [
    "# Train the model\n",
    "history = bi_lstm_model.fit(\n",
    "    x=training_set,\n",
    "    validation_data=validation_set,\n",
    "    epochs=100\n",
    ")"
   ]
  },
  {
   "cell_type": "code",
   "execution_count": 14,
   "id": "ae12a57c-53ea-4597-94d6-3b656c835d44",
   "metadata": {},
   "outputs": [],
   "source": [
    "# Save Loss plot\n",
    "plt.figure()\n",
    "plt.plot(history.history['loss'], label='Train Loss')\n",
    "plt.plot(history.history['val_loss'], label='Validation Loss')\n",
    "plt.legend()\n",
    "plt.title(\"Loss\")\n",
    "plt.xlabel('Epochs')\n",
    "plt.ylabel('Loss')\n",
    "plt.savefig('loss_plot_bilstm.png')  # Save the plot as a PNG file\n",
    "plt.close()\n",
    "\n",
    "# Save Accuracy plot\n",
    "plt.figure()\n",
    "plt.plot(history.history['accuracy'], label='Train Accuracy')\n",
    "plt.plot(history.history['val_accuracy'], label='Validation Accuracy')\n",
    "plt.legend()\n",
    "plt.title(\"Accuracy\")\n",
    "plt.xlabel('Epochs')\n",
    "plt.ylabel('Accuracy')\n",
    "plt.savefig('accuracy_plot_bilstm.png')  # Save the plot as a PNG file\n",
    "plt.close()\n",
    "\n",
    "# Save Precision plot\n",
    "plt.figure()\n",
    "plt.plot(history.history['precision'], label='Train Precision')\n",
    "plt.plot(history.history['val_precision'], label='Validation Precision')\n",
    "plt.legend()\n",
    "plt.title(\"Precision\")\n",
    "plt.xlabel('Epochs')\n",
    "plt.ylabel('Precision')\n",
    "plt.savefig('precision_plot_bilstm.png')  # Save the plot as a PNG file\n",
    "plt.close()\n",
    "\n",
    "# Save Recall plot\n",
    "plt.figure()\n",
    "plt.plot(history.history['recall'], label='Train Recall')\n",
    "plt.plot(history.history['val_recall'], label='Validation Recall')\n",
    "plt.legend()\n",
    "plt.title(\"Recall\")\n",
    "plt.xlabel('Epochs')\n",
    "plt.ylabel('Recall')\n",
    "plt.savefig('recall_plot_bilstm.png')  # Save the plot as a PNG file\n",
    "plt.close()\n",
    "\n",
    "# Save F1 Score plot\n",
    "plt.figure()\n",
    "plt.plot(history.history['f1_score'], label='Train F1 Score')\n",
    "plt.plot(history.history['val_f1_score'], label='Validation F1 Score')\n",
    "plt.legend()\n",
    "plt.title(\"F1 Score\")\n",
    "plt.xlabel('Epochs')\n",
    "plt.ylabel('F1 Score')\n",
    "plt.savefig('f1_score_plot_bilstm.png')  # Save the plot as a PNG file\n",
    "plt.close()\n"
   ]
  },
  {
   "cell_type": "code",
   "execution_count": 15,
   "id": "1af10176-ae86-4830-b061-3974bfe19131",
   "metadata": {},
   "outputs": [
    {
     "data": {
      "text/html": [
       "<pre style=\"white-space:pre;overflow-x:auto;line-height:normal;font-family:Menlo,'DejaVu Sans Mono',consolas,'Courier New',monospace\"><span style=\"font-weight: bold\">Model: \"sequential\"</span>\n",
       "</pre>\n"
      ],
      "text/plain": [
       "\u001b[1mModel: \"sequential\"\u001b[0m\n"
      ]
     },
     "metadata": {},
     "output_type": "display_data"
    },
    {
     "data": {
      "text/html": [
       "<pre style=\"white-space:pre;overflow-x:auto;line-height:normal;font-family:Menlo,'DejaVu Sans Mono',consolas,'Courier New',monospace\">┏━━━━━━━━━━━━━━━━━━━━━━━━━━━━━━━━━━━━━━┳━━━━━━━━━━━━━━━━━━━━━━━━━━━━━┳━━━━━━━━━━━━━━━━━┓\n",
       "┃<span style=\"font-weight: bold\"> Layer (type)                         </span>┃<span style=\"font-weight: bold\"> Output Shape                </span>┃<span style=\"font-weight: bold\">         Param # </span>┃\n",
       "┡━━━━━━━━━━━━━━━━━━━━━━━━━━━━━━━━━━━━━━╇━━━━━━━━━━━━━━━━━━━━━━━━━━━━━╇━━━━━━━━━━━━━━━━━┩\n",
       "│ flatten (<span style=\"color: #0087ff; text-decoration-color: #0087ff\">Flatten</span>)                    │ (<span style=\"color: #00d7ff; text-decoration-color: #00d7ff\">None</span>, <span style=\"color: #00af00; text-decoration-color: #00af00\">12288</span>)               │               <span style=\"color: #00af00; text-decoration-color: #00af00\">0</span> │\n",
       "├──────────────────────────────────────┼─────────────────────────────┼─────────────────┤\n",
       "│ reshape (<span style=\"color: #0087ff; text-decoration-color: #0087ff\">Reshape</span>)                    │ (<span style=\"color: #00d7ff; text-decoration-color: #00d7ff\">None</span>, <span style=\"color: #00af00; text-decoration-color: #00af00\">16</span>, <span style=\"color: #00af00; text-decoration-color: #00af00\">768</span>)             │               <span style=\"color: #00af00; text-decoration-color: #00af00\">0</span> │\n",
       "├──────────────────────────────────────┼─────────────────────────────┼─────────────────┤\n",
       "│ bidirectional (<span style=\"color: #0087ff; text-decoration-color: #0087ff\">Bidirectional</span>)        │ (<span style=\"color: #00d7ff; text-decoration-color: #00d7ff\">None</span>, <span style=\"color: #00af00; text-decoration-color: #00af00\">128</span>)                 │         <span style=\"color: #00af00; text-decoration-color: #00af00\">426,496</span> │\n",
       "├──────────────────────────────────────┼─────────────────────────────┼─────────────────┤\n",
       "│ dense (<span style=\"color: #0087ff; text-decoration-color: #0087ff\">Dense</span>)                        │ (<span style=\"color: #00d7ff; text-decoration-color: #00d7ff\">None</span>, <span style=\"color: #00af00; text-decoration-color: #00af00\">128</span>)                 │          <span style=\"color: #00af00; text-decoration-color: #00af00\">16,512</span> │\n",
       "├──────────────────────────────────────┼─────────────────────────────┼─────────────────┤\n",
       "│ dense_1 (<span style=\"color: #0087ff; text-decoration-color: #0087ff\">Dense</span>)                      │ (<span style=\"color: #00d7ff; text-decoration-color: #00d7ff\">None</span>, <span style=\"color: #00af00; text-decoration-color: #00af00\">6</span>)                   │             <span style=\"color: #00af00; text-decoration-color: #00af00\">774</span> │\n",
       "└──────────────────────────────────────┴─────────────────────────────┴─────────────────┘\n",
       "</pre>\n"
      ],
      "text/plain": [
       "┏━━━━━━━━━━━━━━━━━━━━━━━━━━━━━━━━━━━━━━┳━━━━━━━━━━━━━━━━━━━━━━━━━━━━━┳━━━━━━━━━━━━━━━━━┓\n",
       "┃\u001b[1m \u001b[0m\u001b[1mLayer (type)                        \u001b[0m\u001b[1m \u001b[0m┃\u001b[1m \u001b[0m\u001b[1mOutput Shape               \u001b[0m\u001b[1m \u001b[0m┃\u001b[1m \u001b[0m\u001b[1m        Param #\u001b[0m\u001b[1m \u001b[0m┃\n",
       "┡━━━━━━━━━━━━━━━━━━━━━━━━━━━━━━━━━━━━━━╇━━━━━━━━━━━━━━━━━━━━━━━━━━━━━╇━━━━━━━━━━━━━━━━━┩\n",
       "│ flatten (\u001b[38;5;33mFlatten\u001b[0m)                    │ (\u001b[38;5;45mNone\u001b[0m, \u001b[38;5;34m12288\u001b[0m)               │               \u001b[38;5;34m0\u001b[0m │\n",
       "├──────────────────────────────────────┼─────────────────────────────┼─────────────────┤\n",
       "│ reshape (\u001b[38;5;33mReshape\u001b[0m)                    │ (\u001b[38;5;45mNone\u001b[0m, \u001b[38;5;34m16\u001b[0m, \u001b[38;5;34m768\u001b[0m)             │               \u001b[38;5;34m0\u001b[0m │\n",
       "├──────────────────────────────────────┼─────────────────────────────┼─────────────────┤\n",
       "│ bidirectional (\u001b[38;5;33mBidirectional\u001b[0m)        │ (\u001b[38;5;45mNone\u001b[0m, \u001b[38;5;34m128\u001b[0m)                 │         \u001b[38;5;34m426,496\u001b[0m │\n",
       "├──────────────────────────────────────┼─────────────────────────────┼─────────────────┤\n",
       "│ dense (\u001b[38;5;33mDense\u001b[0m)                        │ (\u001b[38;5;45mNone\u001b[0m, \u001b[38;5;34m128\u001b[0m)                 │          \u001b[38;5;34m16,512\u001b[0m │\n",
       "├──────────────────────────────────────┼─────────────────────────────┼─────────────────┤\n",
       "│ dense_1 (\u001b[38;5;33mDense\u001b[0m)                      │ (\u001b[38;5;45mNone\u001b[0m, \u001b[38;5;34m6\u001b[0m)                   │             \u001b[38;5;34m774\u001b[0m │\n",
       "└──────────────────────────────────────┴─────────────────────────────┴─────────────────┘\n"
      ]
     },
     "metadata": {},
     "output_type": "display_data"
    },
    {
     "data": {
      "text/html": [
       "<pre style=\"white-space:pre;overflow-x:auto;line-height:normal;font-family:Menlo,'DejaVu Sans Mono',consolas,'Courier New',monospace\"><span style=\"font-weight: bold\"> Total params: </span><span style=\"color: #00af00; text-decoration-color: #00af00\">1,331,348</span> (5.08 MB)\n",
       "</pre>\n"
      ],
      "text/plain": [
       "\u001b[1m Total params: \u001b[0m\u001b[38;5;34m1,331,348\u001b[0m (5.08 MB)\n"
      ]
     },
     "metadata": {},
     "output_type": "display_data"
    },
    {
     "data": {
      "text/html": [
       "<pre style=\"white-space:pre;overflow-x:auto;line-height:normal;font-family:Menlo,'DejaVu Sans Mono',consolas,'Courier New',monospace\"><span style=\"font-weight: bold\"> Trainable params: </span><span style=\"color: #00af00; text-decoration-color: #00af00\">443,782</span> (1.69 MB)\n",
       "</pre>\n"
      ],
      "text/plain": [
       "\u001b[1m Trainable params: \u001b[0m\u001b[38;5;34m443,782\u001b[0m (1.69 MB)\n"
      ]
     },
     "metadata": {},
     "output_type": "display_data"
    },
    {
     "data": {
      "text/html": [
       "<pre style=\"white-space:pre;overflow-x:auto;line-height:normal;font-family:Menlo,'DejaVu Sans Mono',consolas,'Courier New',monospace\"><span style=\"font-weight: bold\"> Non-trainable params: </span><span style=\"color: #00af00; text-decoration-color: #00af00\">0</span> (0.00 B)\n",
       "</pre>\n"
      ],
      "text/plain": [
       "\u001b[1m Non-trainable params: \u001b[0m\u001b[38;5;34m0\u001b[0m (0.00 B)\n"
      ]
     },
     "metadata": {},
     "output_type": "display_data"
    },
    {
     "data": {
      "text/html": [
       "<pre style=\"white-space:pre;overflow-x:auto;line-height:normal;font-family:Menlo,'DejaVu Sans Mono',consolas,'Courier New',monospace\"><span style=\"font-weight: bold\"> Optimizer params: </span><span style=\"color: #00af00; text-decoration-color: #00af00\">887,566</span> (3.39 MB)\n",
       "</pre>\n"
      ],
      "text/plain": [
       "\u001b[1m Optimizer params: \u001b[0m\u001b[38;5;34m887,566\u001b[0m (3.39 MB)\n"
      ]
     },
     "metadata": {},
     "output_type": "display_data"
    }
   ],
   "source": [
    "bi_lstm_model.summary()"
   ]
  },
  {
   "cell_type": "code",
   "execution_count": null,
   "id": "7aa40748-488d-4f37-9ccd-72fe0d4a0366",
   "metadata": {},
   "outputs": [],
   "source": []
  }
 ],
 "metadata": {
  "kernelspec": {
   "display_name": "Python 3 (ipykernel)",
   "language": "python",
   "name": "python3"
  },
  "language_info": {
   "codemirror_mode": {
    "name": "ipython",
    "version": 3
   },
   "file_extension": ".py",
   "mimetype": "text/x-python",
   "name": "python",
   "nbconvert_exporter": "python",
   "pygments_lexer": "ipython3",
   "version": "3.12.2"
  }
 },
 "nbformat": 4,
 "nbformat_minor": 5
}
