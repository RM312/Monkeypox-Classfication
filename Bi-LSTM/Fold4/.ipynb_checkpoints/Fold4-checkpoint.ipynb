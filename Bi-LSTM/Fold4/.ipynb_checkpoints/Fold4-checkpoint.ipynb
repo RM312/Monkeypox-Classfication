{
 "cells": [
  {
   "cell_type": "code",
   "execution_count": 1,
   "id": "420f22ee-fd74-4698-a704-aec80aa7a580",
   "metadata": {},
   "outputs": [],
   "source": [
    "import tensorflow as tf\n",
    "from tensorflow.keras.preprocessing.image import ImageDataGenerator\n",
    "import matplotlib.pyplot as plt"
   ]
  },
  {
   "cell_type": "code",
   "execution_count": 2,
   "id": "928c86df-6ff8-43e6-938f-5ead4d0c49cf",
   "metadata": {},
   "outputs": [
    {
     "name": "stdout",
     "output_type": "stream",
     "text": [
      "Found 7336 images belonging to 6 classes.\n"
     ]
    }
   ],
   "source": [
    "# Data Augmentation for Training\n",
    "train_datagen = ImageDataGenerator(rescale=1./255,\n",
    "                                   shear_range=0.2,\n",
    "                                   zoom_range=0.2,\n",
    "                                   horizontal_flip=True)\n",
    "training_set = train_datagen.flow_from_directory(\n",
    "    \"Monkeypox/archive (60)/Augmented Images/Augmented Images/FOLDS_AUG/fold4_AUG/Train/\",\n",
    "    target_size=(64, 64),\n",
    "    batch_size=32,\n",
    "    class_mode='categorical',  # Use 'categorical' for one-hot encoded labels\n",
    ")"
   ]
  },
  {
   "cell_type": "code",
   "execution_count": 3,
   "id": "028d6eaa-eba6-46c7-9180-e79ded2cdc94",
   "metadata": {},
   "outputs": [
    {
     "name": "stdout",
     "output_type": "stream",
     "text": [
      "Found 7336 images belonging to 6 classes.\n"
     ]
    }
   ],
   "source": [
    "test_datagen = ImageDataGenerator(rescale=1./255)\n",
    "validation_set = test_datagen.flow_from_directory(\n",
    "    \"Monkeypox/archive (60)/Augmented Images/Augmented Images/FOLDS_AUG/fold4_AUG/Train/\",\n",
    "    target_size=(64, 64),\n",
    "    batch_size=32,\n",
    "    class_mode='categorical',  # Use 'categorical' for one-hot encoded labels\n",
    ")"
   ]
  },
  {
   "cell_type": "code",
   "execution_count": 4,
   "id": "7fdb6cc9-c8ae-45be-aac1-e02b55e422a6",
   "metadata": {},
   "outputs": [],
   "source": [
    "# Custom F1 Score Metric\n",
    "class F1Score(tf.keras.metrics.Metric):\n",
    "    def __init__(self, name='f1_score', **kwargs):\n",
    "        super(F1Score, self).__init__(name=name, **kwargs)\n",
    "        self.precision = tf.keras.metrics.Precision()\n",
    "        self.recall = tf.keras.metrics.Recall()\n",
    "\n",
    "    def update_state(self, y_true, y_pred, sample_weight=None):\n",
    "        # Update the precision and recall for each batch\n",
    "        self.precision.update_state(y_true, y_pred, sample_weight)\n",
    "        self.recall.update_state(y_true, y_pred, sample_weight)\n",
    "\n",
    "    def result(self):\n",
    "        # Calculate F1 score as the harmonic mean of precision and recall\n",
    "        precision = self.precision.result()\n",
    "        recall = self.recall.result()\n",
    "        return 2 * (precision * recall) / (precision + recall + tf.keras.backend.epsilon())\n",
    "\n",
    "    def reset_states(self):\n",
    "        self.precision.reset_states()\n",
    "        self.recall.reset_states()\n"
   ]
  },
  {
   "cell_type": "code",
   "execution_count": 5,
   "id": "801adc2c-9176-4d23-9d0b-cebb57de7502",
   "metadata": {},
   "outputs": [],
   "source": [
    "# Build the Bi-LSTM Model\n",
    "bi_lstm_model = tf.keras.models.Sequential()"
   ]
  },
  {
   "cell_type": "code",
   "execution_count": 6,
   "id": "00165785-a7bb-466b-b951-00cd9ca24589",
   "metadata": {},
   "outputs": [
    {
     "name": "stderr",
     "output_type": "stream",
     "text": [
      "C:\\Users\\KIIT\\AppData\\Local\\Programs\\Python\\Python312\\Lib\\site-packages\\keras\\src\\layers\\reshaping\\flatten.py:37: UserWarning: Do not pass an `input_shape`/`input_dim` argument to a layer. When using Sequential models, prefer using an `Input(shape)` object as the first layer in the model instead.\n",
      "  super().__init__(**kwargs)\n"
     ]
    }
   ],
   "source": [
    "# Flatten and Reshape for Bi-LSTM\n",
    "bi_lstm_model.add(tf.keras.layers.Flatten(input_shape=(64, 64, 3)))\n",
    "bi_lstm_model.add(tf.keras.layers.Reshape((16, -1)))  # Reshape to (time_steps, features)"
   ]
  },
  {
   "cell_type": "code",
   "execution_count": 7,
   "id": "48410700-a856-4952-865d-5848f665e0c3",
   "metadata": {},
   "outputs": [],
   "source": [
    "# Bidirectional LSTM Layer\n",
    "bi_lstm_model.add(tf.keras.layers.Bidirectional(tf.keras.layers.LSTM(units=64, activation='tanh', return_sequences=False)))"
   ]
  },
  {
   "cell_type": "code",
   "execution_count": 8,
   "id": "0e491c54-82ba-43e1-89da-c7003a819084",
   "metadata": {},
   "outputs": [],
   "source": [
    "# Fully Connected Layers\n",
    "bi_lstm_model.add(tf.keras.layers.Dense(units=128, activation='relu'))\n",
    "bi_lstm_model.add(tf.keras.layers.Dense(6, activation='softmax'))  # 6 classes"
   ]
  },
  {
   "cell_type": "code",
   "execution_count": 9,
   "id": "0905c526-4f1d-4727-92d2-562077d6593f",
   "metadata": {},
   "outputs": [],
   "source": [
    "# Compile the model with Precision, Recall, and F1 Score\n",
    "bi_lstm_model.compile(\n",
    "    optimizer='adam',\n",
    "    loss='categorical_crossentropy',  # Use categorical_crossentropy for one-hot encoded labels\n",
    "    metrics=[\n",
    "        'accuracy',\n",
    "        tf.keras.metrics.Precision(name='precision'),\n",
    "        tf.keras.metrics.Recall(name='recall'),\n",
    "        F1Score(name='f1_score')  # Add custom F1 score metric\n",
    "    ]\n",
    ")"
   ]
  },
  {
   "cell_type": "code",
   "execution_count": 10,
   "id": "1152d032-855e-4d57-b982-4339b5dada51",
   "metadata": {},
   "outputs": [
    {
     "name": "stderr",
     "output_type": "stream",
     "text": [
      "C:\\Users\\KIIT\\AppData\\Local\\Programs\\Python\\Python312\\Lib\\site-packages\\keras\\src\\trainers\\data_adapters\\py_dataset_adapter.py:121: UserWarning: Your `PyDataset` class should call `super().__init__(**kwargs)` in its constructor. `**kwargs` can include `workers`, `use_multiprocessing`, `max_queue_size`. Do not pass these arguments to `fit()`, as they will be ignored.\n",
      "  self._warn_if_super_not_called()\n"
     ]
    },
    {
     "name": "stdout",
     "output_type": "stream",
     "text": [
      "Epoch 1/100\n",
      "\u001b[1m230/230\u001b[0m \u001b[32m━━━━━━━━━━━━━━━━━━━━\u001b[0m\u001b[37m\u001b[0m \u001b[1m0s\u001b[0m 343ms/step - accuracy: 0.3629 - f1_score: 0.0227 - loss: 1.6262 - precision: 0.4140 - recall: 0.0118"
     ]
    },
    {
     "name": "stderr",
     "output_type": "stream",
     "text": [
      "C:\\Users\\KIIT\\AppData\\Local\\Programs\\Python\\Python312\\Lib\\site-packages\\keras\\src\\trainers\\data_adapters\\py_dataset_adapter.py:121: UserWarning: Your `PyDataset` class should call `super().__init__(**kwargs)` in its constructor. `**kwargs` can include `workers`, `use_multiprocessing`, `max_queue_size`. Do not pass these arguments to `fit()`, as they will be ignored.\n",
      "  self._warn_if_super_not_called()\n"
     ]
    },
    {
     "name": "stdout",
     "output_type": "stream",
     "text": [
      "\u001b[1m230/230\u001b[0m \u001b[32m━━━━━━━━━━━━━━━━━━━━\u001b[0m\u001b[37m\u001b[0m \u001b[1m145s\u001b[0m 552ms/step - accuracy: 0.3629 - f1_score: 0.0228 - loss: 1.6261 - precision: 0.4143 - recall: 0.0118 - val_accuracy: 0.3915 - val_f1_score: 0.0483 - val_loss: 1.5655 - val_precision: 0.6389 - val_recall: 0.0251\n",
      "Epoch 2/100\n",
      "\u001b[1m230/230\u001b[0m \u001b[32m━━━━━━━━━━━━━━━━━━━━\u001b[0m\u001b[37m\u001b[0m \u001b[1m120s\u001b[0m 520ms/step - accuracy: 0.3815 - f1_score: 0.0739 - loss: 1.5608 - precision: 0.5737 - recall: 0.0396 - val_accuracy: 0.4072 - val_f1_score: 0.0498 - val_loss: 1.5248 - val_precision: 0.7590 - val_recall: 0.0258\n",
      "Epoch 3/100\n",
      "\u001b[1m230/230\u001b[0m \u001b[32m━━━━━━━━━━━━━━━━━━━━\u001b[0m\u001b[37m\u001b[0m \u001b[1m149s\u001b[0m 648ms/step - accuracy: 0.3940 - f1_score: 0.1028 - loss: 1.5363 - precision: 0.5773 - recall: 0.0566 - val_accuracy: 0.4400 - val_f1_score: 0.1753 - val_loss: 1.4784 - val_precision: 0.6349 - val_recall: 0.1017\n",
      "Epoch 4/100\n",
      "\u001b[1m230/230\u001b[0m \u001b[32m━━━━━━━━━━━━━━━━━━━━\u001b[0m\u001b[37m\u001b[0m \u001b[1m148s\u001b[0m 643ms/step - accuracy: 0.4305 - f1_score: 0.1990 - loss: 1.4578 - precision: 0.5841 - recall: 0.1200 - val_accuracy: 0.4354 - val_f1_score: 0.2530 - val_loss: 1.4259 - val_precision: 0.6181 - val_recall: 0.1591\n",
      "Epoch 5/100\n",
      "\u001b[1m230/230\u001b[0m \u001b[32m━━━━━━━━━━━━━━━━━━━━\u001b[0m\u001b[37m\u001b[0m \u001b[1m68s\u001b[0m 295ms/step - accuracy: 0.4554 - f1_score: 0.2441 - loss: 1.4371 - precision: 0.6350 - recall: 0.1512 - val_accuracy: 0.4782 - val_f1_score: 0.2207 - val_loss: 1.3811 - val_precision: 0.6933 - val_recall: 0.1313\n",
      "Epoch 6/100\n",
      "\u001b[1m230/230\u001b[0m \u001b[32m━━━━━━━━━━━━━━━━━━━━\u001b[0m\u001b[37m\u001b[0m \u001b[1m68s\u001b[0m 296ms/step - accuracy: 0.4703 - f1_score: 0.2480 - loss: 1.3927 - precision: 0.6128 - recall: 0.1561 - val_accuracy: 0.4659 - val_f1_score: 0.2303 - val_loss: 1.3918 - val_precision: 0.6457 - val_recall: 0.1401\n",
      "Epoch 7/100\n",
      "\u001b[1m230/230\u001b[0m \u001b[32m━━━━━━━━━━━━━━━━━━━━\u001b[0m\u001b[37m\u001b[0m \u001b[1m128s\u001b[0m 555ms/step - accuracy: 0.4647 - f1_score: 0.2680 - loss: 1.3932 - precision: 0.6417 - recall: 0.1704 - val_accuracy: 0.4838 - val_f1_score: 0.3503 - val_loss: 1.3351 - val_precision: 0.6477 - val_recall: 0.2400\n",
      "Epoch 8/100\n",
      "\u001b[1m230/230\u001b[0m \u001b[32m━━━━━━━━━━━━━━━━━━━━\u001b[0m\u001b[37m\u001b[0m \u001b[1m151s\u001b[0m 658ms/step - accuracy: 0.4701 - f1_score: 0.3226 - loss: 1.3613 - precision: 0.6528 - recall: 0.2144 - val_accuracy: 0.4978 - val_f1_score: 0.4098 - val_loss: 1.2866 - val_precision: 0.6287 - val_recall: 0.3040\n",
      "Epoch 9/100\n",
      "\u001b[1m230/230\u001b[0m \u001b[32m━━━━━━━━━━━━━━━━━━━━\u001b[0m\u001b[37m\u001b[0m \u001b[1m178s\u001b[0m 776ms/step - accuracy: 0.4892 - f1_score: 0.3520 - loss: 1.3243 - precision: 0.6412 - recall: 0.2428 - val_accuracy: 0.5038 - val_f1_score: 0.3562 - val_loss: 1.2891 - val_precision: 0.7054 - val_recall: 0.2383\n",
      "Epoch 10/100\n",
      "\u001b[1m230/230\u001b[0m \u001b[32m━━━━━━━━━━━━━━━━━━━━\u001b[0m\u001b[37m\u001b[0m \u001b[1m149s\u001b[0m 648ms/step - accuracy: 0.5033 - f1_score: 0.3720 - loss: 1.3210 - precision: 0.6452 - recall: 0.2615 - val_accuracy: 0.5315 - val_f1_score: 0.3500 - val_loss: 1.2528 - val_precision: 0.7645 - val_recall: 0.2270\n",
      "Epoch 11/100\n",
      "\u001b[1m230/230\u001b[0m \u001b[32m━━━━━━━━━━━━━━━━━━━━\u001b[0m\u001b[37m\u001b[0m \u001b[1m234s\u001b[0m 1s/step - accuracy: 0.5147 - f1_score: 0.3957 - loss: 1.2635 - precision: 0.6666 - recall: 0.2820 - val_accuracy: 0.5429 - val_f1_score: 0.4646 - val_loss: 1.2025 - val_precision: 0.6753 - val_recall: 0.3541\n",
      "Epoch 12/100\n",
      "\u001b[1m230/230\u001b[0m \u001b[32m━━━━━━━━━━━━━━━━━━━━\u001b[0m\u001b[37m\u001b[0m \u001b[1m226s\u001b[0m 984ms/step - accuracy: 0.5332 - f1_score: 0.4396 - loss: 1.2202 - precision: 0.6773 - recall: 0.3258 - val_accuracy: 0.5330 - val_f1_score: 0.4719 - val_loss: 1.2089 - val_precision: 0.6641 - val_recall: 0.3660\n",
      "Epoch 13/100\n",
      "\u001b[1m230/230\u001b[0m \u001b[32m━━━━━━━━━━━━━━━━━━━━\u001b[0m\u001b[37m\u001b[0m \u001b[1m236s\u001b[0m 1s/step - accuracy: 0.5372 - f1_score: 0.4506 - loss: 1.2148 - precision: 0.6923 - recall: 0.3343 - val_accuracy: 0.5488 - val_f1_score: 0.4826 - val_loss: 1.1650 - val_precision: 0.6680 - val_recall: 0.3777\n",
      "Epoch 14/100\n",
      "\u001b[1m230/230\u001b[0m \u001b[32m━━━━━━━━━━━━━━━━━━━━\u001b[0m\u001b[37m\u001b[0m \u001b[1m231s\u001b[0m 1s/step - accuracy: 0.5615 - f1_score: 0.4751 - loss: 1.1654 - precision: 0.6987 - recall: 0.3601 - val_accuracy: 0.5547 - val_f1_score: 0.4784 - val_loss: 1.1444 - val_precision: 0.7143 - val_recall: 0.3596\n",
      "Epoch 15/100\n",
      "\u001b[1m230/230\u001b[0m \u001b[32m━━━━━━━━━━━━━━━━━━━━\u001b[0m\u001b[37m\u001b[0m \u001b[1m238s\u001b[0m 1s/step - accuracy: 0.5546 - f1_score: 0.4704 - loss: 1.1686 - precision: 0.6916 - recall: 0.3565 - val_accuracy: 0.5823 - val_f1_score: 0.5039 - val_loss: 1.1000 - val_precision: 0.7445 - val_recall: 0.3809\n",
      "Epoch 16/100\n",
      "\u001b[1m230/230\u001b[0m \u001b[32m━━━━━━━━━━━━━━━━━━━━\u001b[0m\u001b[37m\u001b[0m \u001b[1m234s\u001b[0m 1s/step - accuracy: 0.5830 - f1_score: 0.5105 - loss: 1.1103 - precision: 0.7201 - recall: 0.3957 - val_accuracy: 0.5690 - val_f1_score: 0.5291 - val_loss: 1.1178 - val_precision: 0.6805 - val_recall: 0.4328\n",
      "Epoch 17/100\n",
      "\u001b[1m230/230\u001b[0m \u001b[32m━━━━━━━━━━━━━━━━━━━━\u001b[0m\u001b[37m\u001b[0m \u001b[1m237s\u001b[0m 1s/step - accuracy: 0.5667 - f1_score: 0.4970 - loss: 1.1385 - precision: 0.7069 - recall: 0.3833 - val_accuracy: 0.6048 - val_f1_score: 0.5052 - val_loss: 1.0630 - val_precision: 0.7682 - val_recall: 0.3764\n",
      "Epoch 18/100\n",
      "\u001b[1m230/230\u001b[0m \u001b[32m━━━━━━━━━━━━━━━━━━━━\u001b[0m\u001b[37m\u001b[0m \u001b[1m240s\u001b[0m 1s/step - accuracy: 0.5770 - f1_score: 0.4954 - loss: 1.1172 - precision: 0.7142 - recall: 0.3793 - val_accuracy: 0.5995 - val_f1_score: 0.5509 - val_loss: 1.0427 - val_precision: 0.7215 - val_recall: 0.4456\n",
      "Epoch 19/100\n",
      "\u001b[1m230/230\u001b[0m \u001b[32m━━━━━━━━━━━━━━━━━━━━\u001b[0m\u001b[37m\u001b[0m \u001b[1m239s\u001b[0m 1s/step - accuracy: 0.5866 - f1_score: 0.5297 - loss: 1.0847 - precision: 0.7323 - recall: 0.4150 - val_accuracy: 0.6106 - val_f1_score: 0.5303 - val_loss: 1.0196 - val_precision: 0.7949 - val_recall: 0.3979\n",
      "Epoch 20/100\n",
      "\u001b[1m230/230\u001b[0m \u001b[32m━━━━━━━━━━━━━━━━━━━━\u001b[0m\u001b[37m\u001b[0m \u001b[1m280s\u001b[0m 1s/step - accuracy: 0.6002 - f1_score: 0.5358 - loss: 1.0628 - precision: 0.7314 - recall: 0.4230 - val_accuracy: 0.6239 - val_f1_score: 0.5435 - val_loss: 0.9989 - val_precision: 0.7859 - val_recall: 0.4153\n",
      "Epoch 21/100\n",
      "\u001b[1m230/230\u001b[0m \u001b[32m━━━━━━━━━━━━━━━━━━━━\u001b[0m\u001b[37m\u001b[0m \u001b[1m279s\u001b[0m 1s/step - accuracy: 0.5934 - f1_score: 0.5350 - loss: 1.0677 - precision: 0.7525 - recall: 0.4152 - val_accuracy: 0.6165 - val_f1_score: 0.5448 - val_loss: 1.0027 - val_precision: 0.7821 - val_recall: 0.4179\n",
      "Epoch 22/100\n",
      "\u001b[1m230/230\u001b[0m \u001b[32m━━━━━━━━━━━━━━━━━━━━\u001b[0m\u001b[37m\u001b[0m \u001b[1m146s\u001b[0m 635ms/step - accuracy: 0.6005 - f1_score: 0.5531 - loss: 1.0334 - precision: 0.7465 - recall: 0.4393 - val_accuracy: 0.6291 - val_f1_score: 0.5907 - val_loss: 0.9723 - val_precision: 0.7593 - val_recall: 0.4834\n",
      "Epoch 23/100\n",
      "\u001b[1m230/230\u001b[0m \u001b[32m━━━━━━━━━━━━━━━━━━━━\u001b[0m\u001b[37m\u001b[0m \u001b[1m118s\u001b[0m 512ms/step - accuracy: 0.5968 - f1_score: 0.5466 - loss: 1.0310 - precision: 0.7336 - recall: 0.4357 - val_accuracy: 0.6499 - val_f1_score: 0.5877 - val_loss: 0.9310 - val_precision: 0.8092 - val_recall: 0.4614\n",
      "Epoch 24/100\n",
      "\u001b[1m230/230\u001b[0m \u001b[32m━━━━━━━━━━━━━━━━━━━━\u001b[0m\u001b[37m\u001b[0m \u001b[1m121s\u001b[0m 528ms/step - accuracy: 0.6125 - f1_score: 0.5677 - loss: 0.9903 - precision: 0.7542 - recall: 0.4551 - val_accuracy: 0.6325 - val_f1_score: 0.5940 - val_loss: 0.9743 - val_precision: 0.7383 - val_recall: 0.4969\n",
      "Epoch 25/100\n",
      "\u001b[1m230/230\u001b[0m \u001b[32m━━━━━━━━━━━━━━━━━━━━\u001b[0m\u001b[37m\u001b[0m \u001b[1m142s\u001b[0m 618ms/step - accuracy: 0.6209 - f1_score: 0.5652 - loss: 0.9961 - precision: 0.7441 - recall: 0.4557 - val_accuracy: 0.6381 - val_f1_score: 0.6016 - val_loss: 0.9432 - val_precision: 0.7603 - val_recall: 0.4977\n",
      "Epoch 26/100\n",
      "\u001b[1m230/230\u001b[0m \u001b[32m━━━━━━━━━━━━━━━━━━━━\u001b[0m\u001b[37m\u001b[0m \u001b[1m141s\u001b[0m 613ms/step - accuracy: 0.6153 - f1_score: 0.5712 - loss: 0.9970 - precision: 0.7521 - recall: 0.4607 - val_accuracy: 0.6388 - val_f1_score: 0.5944 - val_loss: 0.9297 - val_precision: 0.7625 - val_recall: 0.4871\n",
      "Epoch 27/100\n",
      "\u001b[1m230/230\u001b[0m \u001b[32m━━━━━━━━━━━━━━━━━━━━\u001b[0m\u001b[37m\u001b[0m \u001b[1m137s\u001b[0m 594ms/step - accuracy: 0.6210 - f1_score: 0.5870 - loss: 0.9551 - precision: 0.7526 - recall: 0.4813 - val_accuracy: 0.6493 - val_f1_score: 0.6052 - val_loss: 0.9249 - val_precision: 0.7905 - val_recall: 0.4903\n",
      "Epoch 28/100\n",
      "\u001b[1m230/230\u001b[0m \u001b[32m━━━━━━━━━━━━━━━━━━━━\u001b[0m\u001b[37m\u001b[0m \u001b[1m138s\u001b[0m 600ms/step - accuracy: 0.6286 - f1_score: 0.5831 - loss: 0.9634 - precision: 0.7456 - recall: 0.4788 - val_accuracy: 0.6480 - val_f1_score: 0.6261 - val_loss: 0.9164 - val_precision: 0.7245 - val_recall: 0.5513\n",
      "Epoch 29/100\n",
      "\u001b[1m230/230\u001b[0m \u001b[32m━━━━━━━━━━━━━━━━━━━━\u001b[0m\u001b[37m\u001b[0m \u001b[1m137s\u001b[0m 595ms/step - accuracy: 0.6370 - f1_score: 0.5899 - loss: 0.9420 - precision: 0.7572 - recall: 0.4834 - val_accuracy: 0.6433 - val_f1_score: 0.5936 - val_loss: 0.9090 - val_precision: 0.7825 - val_recall: 0.4782\n",
      "Epoch 30/100\n",
      "\u001b[1m230/230\u001b[0m \u001b[32m━━━━━━━━━━━━━━━━━━━━\u001b[0m\u001b[37m\u001b[0m \u001b[1m139s\u001b[0m 605ms/step - accuracy: 0.6333 - f1_score: 0.5907 - loss: 0.9589 - precision: 0.7629 - recall: 0.4821 - val_accuracy: 0.6558 - val_f1_score: 0.6093 - val_loss: 0.9229 - val_precision: 0.8139 - val_recall: 0.4869\n",
      "Epoch 31/100\n",
      "\u001b[1m230/230\u001b[0m \u001b[32m━━━━━━━━━━━━━━━━━━━━\u001b[0m\u001b[37m\u001b[0m \u001b[1m140s\u001b[0m 610ms/step - accuracy: 0.6476 - f1_score: 0.6139 - loss: 0.9323 - precision: 0.7843 - recall: 0.5046 - val_accuracy: 0.6670 - val_f1_score: 0.6287 - val_loss: 0.8645 - val_precision: 0.8139 - val_recall: 0.5121\n",
      "Epoch 32/100\n",
      "\u001b[1m230/230\u001b[0m \u001b[32m━━━━━━━━━━━━━━━━━━━━\u001b[0m\u001b[37m\u001b[0m \u001b[1m141s\u001b[0m 613ms/step - accuracy: 0.6348 - f1_score: 0.5986 - loss: 0.9314 - precision: 0.7672 - recall: 0.4909 - val_accuracy: 0.6885 - val_f1_score: 0.6385 - val_loss: 0.8400 - val_precision: 0.8475 - val_recall: 0.5121\n",
      "Epoch 33/100\n",
      "\u001b[1m230/230\u001b[0m \u001b[32m━━━━━━━━━━━━━━━━━━━━\u001b[0m\u001b[37m\u001b[0m \u001b[1m130s\u001b[0m 567ms/step - accuracy: 0.6504 - f1_score: 0.6118 - loss: 0.9088 - precision: 0.7706 - recall: 0.5073 - val_accuracy: 0.6786 - val_f1_score: 0.6454 - val_loss: 0.8399 - val_precision: 0.8119 - val_recall: 0.5356\n",
      "Epoch 34/100\n",
      "\u001b[1m230/230\u001b[0m \u001b[32m━━━━━━━━━━━━━━━━━━━━\u001b[0m\u001b[37m\u001b[0m \u001b[1m131s\u001b[0m 569ms/step - accuracy: 0.6481 - f1_score: 0.6141 - loss: 0.8972 - precision: 0.7766 - recall: 0.5079 - val_accuracy: 0.6992 - val_f1_score: 0.6669 - val_loss: 0.8031 - val_precision: 0.8105 - val_recall: 0.5665\n",
      "Epoch 35/100\n",
      "\u001b[1m230/230\u001b[0m \u001b[32m━━━━━━━━━━━━━━━━━━━━\u001b[0m\u001b[37m\u001b[0m \u001b[1m133s\u001b[0m 577ms/step - accuracy: 0.6552 - f1_score: 0.6243 - loss: 0.9066 - precision: 0.7847 - recall: 0.5184 - val_accuracy: 0.6855 - val_f1_score: 0.6450 - val_loss: 0.8168 - val_precision: 0.8288 - val_recall: 0.5279\n",
      "Epoch 36/100\n",
      "\u001b[1m230/230\u001b[0m \u001b[32m━━━━━━━━━━━━━━━━━━━━\u001b[0m\u001b[37m\u001b[0m \u001b[1m132s\u001b[0m 572ms/step - accuracy: 0.6674 - f1_score: 0.6308 - loss: 0.8552 - precision: 0.7875 - recall: 0.5265 - val_accuracy: 0.6893 - val_f1_score: 0.6677 - val_loss: 0.7872 - val_precision: 0.8029 - val_recall: 0.5714\n",
      "Epoch 37/100\n",
      "\u001b[1m230/230\u001b[0m \u001b[32m━━━━━━━━━━━━━━━━━━━━\u001b[0m\u001b[37m\u001b[0m \u001b[1m139s\u001b[0m 603ms/step - accuracy: 0.6656 - f1_score: 0.6463 - loss: 0.8612 - precision: 0.7885 - recall: 0.5479 - val_accuracy: 0.6942 - val_f1_score: 0.6614 - val_loss: 0.7984 - val_precision: 0.8187 - val_recall: 0.5548\n",
      "Epoch 38/100\n",
      "\u001b[1m230/230\u001b[0m \u001b[32m━━━━━━━━━━━━━━━━━━━━\u001b[0m\u001b[37m\u001b[0m \u001b[1m140s\u001b[0m 608ms/step - accuracy: 0.6725 - f1_score: 0.6379 - loss: 0.8594 - precision: 0.7799 - recall: 0.5399 - val_accuracy: 0.6930 - val_f1_score: 0.6685 - val_loss: 0.8117 - val_precision: 0.7972 - val_recall: 0.5755\n",
      "Epoch 39/100\n",
      "\u001b[1m230/230\u001b[0m \u001b[32m━━━━━━━━━━━━━━━━━━━━\u001b[0m\u001b[37m\u001b[0m \u001b[1m142s\u001b[0m 614ms/step - accuracy: 0.6791 - f1_score: 0.6481 - loss: 0.8492 - precision: 0.7804 - recall: 0.5545 - val_accuracy: 0.7189 - val_f1_score: 0.6735 - val_loss: 0.7659 - val_precision: 0.8385 - val_recall: 0.5627\n",
      "Epoch 40/100\n",
      "\u001b[1m230/230\u001b[0m \u001b[32m━━━━━━━━━━━━━━━━━━━━\u001b[0m\u001b[37m\u001b[0m \u001b[1m144s\u001b[0m 625ms/step - accuracy: 0.6770 - f1_score: 0.6463 - loss: 0.8453 - precision: 0.7973 - recall: 0.5435 - val_accuracy: 0.7126 - val_f1_score: 0.6914 - val_loss: 0.7535 - val_precision: 0.8168 - val_recall: 0.5994\n",
      "Epoch 41/100\n",
      "\u001b[1m230/230\u001b[0m \u001b[32m━━━━━━━━━━━━━━━━━━━━\u001b[0m\u001b[37m\u001b[0m \u001b[1m188s\u001b[0m 818ms/step - accuracy: 0.6802 - f1_score: 0.6579 - loss: 0.8331 - precision: 0.7890 - recall: 0.5643 - val_accuracy: 0.6782 - val_f1_score: 0.6572 - val_loss: 0.8394 - val_precision: 0.7940 - val_recall: 0.5607\n",
      "Epoch 43/100\n",
      "\u001b[1m230/230\u001b[0m \u001b[32m━━━━━━━━━━━━━━━━━━━━\u001b[0m\u001b[37m\u001b[0m \u001b[1m129s\u001b[0m 560ms/step - accuracy: 0.6985 - f1_score: 0.6671 - loss: 0.8012 - precision: 0.8032 - recall: 0.5705 - val_accuracy: 0.7261 - val_f1_score: 0.6835 - val_loss: 0.7422 - val_precision: 0.8462 - val_recall: 0.5732\n",
      "Epoch 44/100\n",
      "\u001b[1m230/230\u001b[0m \u001b[32m━━━━━━━━━━━━━━━━━━━━\u001b[0m\u001b[37m\u001b[0m \u001b[1m163s\u001b[0m 708ms/step - accuracy: 0.6909 - f1_score: 0.6644 - loss: 0.7970 - precision: 0.8024 - recall: 0.5670 - val_accuracy: 0.7274 - val_f1_score: 0.7009 - val_loss: 0.7283 - val_precision: 0.8522 - val_recall: 0.5951\n",
      "Epoch 45/100\n",
      "\u001b[1m230/230\u001b[0m \u001b[32m━━━━━━━━━━━━━━━━━━━━\u001b[0m\u001b[37m\u001b[0m \u001b[1m170s\u001b[0m 739ms/step - accuracy: 0.6967 - f1_score: 0.6744 - loss: 0.7812 - precision: 0.8046 - recall: 0.5806 - val_accuracy: 0.7167 - val_f1_score: 0.7054 - val_loss: 0.7285 - val_precision: 0.8054 - val_recall: 0.6275\n",
      "Epoch 46/100\n",
      "\u001b[1m230/230\u001b[0m \u001b[32m━━━━━━━━━━━━━━━━━━━━\u001b[0m\u001b[37m\u001b[0m \u001b[1m223s\u001b[0m 973ms/step - accuracy: 0.6968 - f1_score: 0.6723 - loss: 0.7835 - precision: 0.7986 - recall: 0.5805 - val_accuracy: 0.7129 - val_f1_score: 0.6701 - val_loss: 0.7573 - val_precision: 0.8356 - val_recall: 0.5593\n",
      "Epoch 47/100\n",
      "\u001b[1m230/230\u001b[0m \u001b[32m━━━━━━━━━━━━━━━━━━━━\u001b[0m\u001b[37m\u001b[0m \u001b[1m241s\u001b[0m 1s/step - accuracy: 0.6976 - f1_score: 0.6763 - loss: 0.7897 - precision: 0.8093 - recall: 0.5810 - val_accuracy: 0.7392 - val_f1_score: 0.7111 - val_loss: 0.7138 - val_precision: 0.8418 - val_recall: 0.6156\n",
      "Epoch 48/100\n",
      "\u001b[1m230/230\u001b[0m \u001b[32m━━━━━━━━━━━━━━━━━━━━\u001b[0m\u001b[37m\u001b[0m \u001b[1m209s\u001b[0m 907ms/step - accuracy: 0.6966 - f1_score: 0.6723 - loss: 0.7801 - precision: 0.7952 - recall: 0.5823 - val_accuracy: 0.7548 - val_f1_score: 0.7270 - val_loss: 0.6753 - val_precision: 0.8567 - val_recall: 0.6314\n",
      "Epoch 49/100\n",
      "\u001b[1m230/230\u001b[0m \u001b[32m━━━━━━━━━━━━━━━━━━━━\u001b[0m\u001b[37m\u001b[0m \u001b[1m225s\u001b[0m 981ms/step - accuracy: 0.7157 - f1_score: 0.6928 - loss: 0.7540 - precision: 0.8104 - recall: 0.6052 - val_accuracy: 0.7640 - val_f1_score: 0.7394 - val_loss: 0.6644 - val_precision: 0.8708 - val_recall: 0.6424\n",
      "Epoch 50/100\n",
      "\u001b[1m230/230\u001b[0m \u001b[32m━━━━━━━━━━━━━━━━━━━━\u001b[0m\u001b[37m\u001b[0m \u001b[1m249s\u001b[0m 1s/step - accuracy: 0.7149 - f1_score: 0.6911 - loss: 0.7711 - precision: 0.8089 - recall: 0.6033 - val_accuracy: 0.7448 - val_f1_score: 0.7331 - val_loss: 0.6760 - val_precision: 0.8258 - val_recall: 0.6591\n",
      "Epoch 51/100\n",
      "\u001b[1m230/230\u001b[0m \u001b[32m━━━━━━━━━━━━━━━━━━━━\u001b[0m\u001b[37m\u001b[0m \u001b[1m211s\u001b[0m 919ms/step - accuracy: 0.7226 - f1_score: 0.7053 - loss: 0.7403 - precision: 0.8182 - recall: 0.6198 - val_accuracy: 0.7542 - val_f1_score: 0.7428 - val_loss: 0.6715 - val_precision: 0.8503 - val_recall: 0.6595\n",
      "Epoch 52/100\n",
      "\u001b[1m230/230\u001b[0m \u001b[32m━━━━━━━━━━━━━━━━━━━━\u001b[0m\u001b[37m\u001b[0m \u001b[1m236s\u001b[0m 1s/step - accuracy: 0.7323 - f1_score: 0.7095 - loss: 0.7296 - precision: 0.8341 - recall: 0.6174 - val_accuracy: 0.7490 - val_f1_score: 0.7308 - val_loss: 0.6697 - val_precision: 0.8544 - val_recall: 0.6385\n",
      "Epoch 53/100\n",
      "\u001b[1m230/230\u001b[0m \u001b[32m━━━━━━━━━━━━━━━━━━━━\u001b[0m\u001b[37m\u001b[0m \u001b[1m245s\u001b[0m 1s/step - accuracy: 0.7308 - f1_score: 0.7049 - loss: 0.7317 - precision: 0.8165 - recall: 0.6203 - val_accuracy: 0.7661 - val_f1_score: 0.7540 - val_loss: 0.6326 - val_precision: 0.8477 - val_recall: 0.6790\n",
      "Epoch 54/100\n",
      "\u001b[1m230/230\u001b[0m \u001b[32m━━━━━━━━━━━━━━━━━━━━\u001b[0m\u001b[37m\u001b[0m \u001b[1m243s\u001b[0m 1s/step - accuracy: 0.7226 - f1_score: 0.7026 - loss: 0.7294 - precision: 0.8026 - recall: 0.6248 - val_accuracy: 0.7763 - val_f1_score: 0.7490 - val_loss: 0.6209 - val_precision: 0.8585 - val_recall: 0.6643\n",
      "Epoch 55/100\n",
      "\u001b[1m230/230\u001b[0m \u001b[32m━━━━━━━━━━━━━━━━━━━━\u001b[0m\u001b[37m\u001b[0m \u001b[1m245s\u001b[0m 1s/step - accuracy: 0.7333 - f1_score: 0.7183 - loss: 0.7110 - precision: 0.8311 - recall: 0.6326 - val_accuracy: 0.7440 - val_f1_score: 0.7224 - val_loss: 0.6869 - val_precision: 0.8311 - val_recall: 0.6388\n",
      "Epoch 56/100\n",
      "\u001b[1m230/230\u001b[0m \u001b[32m━━━━━━━━━━━━━━━━━━━━\u001b[0m\u001b[37m\u001b[0m \u001b[1m211s\u001b[0m 916ms/step - accuracy: 0.7275 - f1_score: 0.7181 - loss: 0.7020 - precision: 0.8242 - recall: 0.6362 - val_accuracy: 0.7842 - val_f1_score: 0.7654 - val_loss: 0.6094 - val_precision: 0.8723 - val_recall: 0.6818\n",
      "Epoch 57/100\n",
      "\u001b[1m230/230\u001b[0m \u001b[32m━━━━━━━━━━━━━━━━━━━━\u001b[0m\u001b[37m\u001b[0m \u001b[1m212s\u001b[0m 921ms/step - accuracy: 0.7393 - f1_score: 0.7244 - loss: 0.6886 - precision: 0.8241 - recall: 0.6463 - val_accuracy: 0.7627 - val_f1_score: 0.7474 - val_loss: 0.6429 - val_precision: 0.8477 - val_recall: 0.6683\n",
      "Epoch 59/100\n",
      "\u001b[1m230/230\u001b[0m \u001b[32m━━━━━━━━━━━━━━━━━━━━\u001b[0m\u001b[37m\u001b[0m \u001b[1m233s\u001b[0m 1s/step - accuracy: 0.7490 - f1_score: 0.7261 - loss: 0.6810 - precision: 0.8204 - recall: 0.6514 - val_accuracy: 0.7737 - val_f1_score: 0.7553 - val_loss: 0.6261 - val_precision: 0.8682 - val_recall: 0.6683\n",
      "Epoch 60/100\n",
      "\u001b[1m230/230\u001b[0m \u001b[32m━━━━━━━━━━━━━━━━━━━━\u001b[0m\u001b[37m\u001b[0m \u001b[1m233s\u001b[0m 1s/step - accuracy: 0.7511 - f1_score: 0.7326 - loss: 0.6777 - precision: 0.8317 - recall: 0.6546 - val_accuracy: 0.7563 - val_f1_score: 0.7408 - val_loss: 0.6710 - val_precision: 0.8221 - val_recall: 0.6741\n",
      "Epoch 61/100\n",
      "\u001b[1m230/230\u001b[0m \u001b[32m━━━━━━━━━━━━━━━━━━━━\u001b[0m\u001b[37m\u001b[0m \u001b[1m280s\u001b[0m 1s/step - accuracy: 0.7736 - f1_score: 0.7665 - loss: 0.6049 - precision: 0.8429 - recall: 0.7029 - val_accuracy: 0.8059 - val_f1_score: 0.8025 - val_loss: 0.5251 - val_precision: 0.8597 - val_recall: 0.7525\n",
      "Epoch 73/100\n",
      "\u001b[1m230/230\u001b[0m \u001b[32m━━━━━━━━━━━━━━━━━━━━\u001b[0m\u001b[37m\u001b[0m \u001b[1m214s\u001b[0m 931ms/step - accuracy: 0.7774 - f1_score: 0.7668 - loss: 0.6015 - precision: 0.8537 - recall: 0.6961 - val_accuracy: 0.8257 - val_f1_score: 0.8122 - val_loss: 0.5057 - val_precision: 0.8914 - val_recall: 0.7459\n",
      "Epoch 75/100\n",
      "\u001b[1m230/230\u001b[0m \u001b[32m━━━━━━━━━━━━━━━━━━━━\u001b[0m\u001b[37m\u001b[0m \u001b[1m288s\u001b[0m 1s/step - accuracy: 0.7725 - f1_score: 0.7590 - loss: 0.6109 - precision: 0.8333 - recall: 0.6971 - val_accuracy: 0.8079 - val_f1_score: 0.7904 - val_loss: 0.5376 - val_precision: 0.8837 - val_recall: 0.7150\n",
      "Epoch 76/100\n",
      "\u001b[1m230/230\u001b[0m \u001b[32m━━━━━━━━━━━━━━━━━━━━\u001b[0m\u001b[37m\u001b[0m \u001b[1m257s\u001b[0m 1s/step - accuracy: 0.7678 - f1_score: 0.7606 - loss: 0.6081 - precision: 0.8428 - recall: 0.6933 - val_accuracy: 0.8244 - val_f1_score: 0.8162 - val_loss: 0.4981 - val_precision: 0.8865 - val_recall: 0.7563\n",
      "Epoch 77/100\n",
      "\u001b[1m230/230\u001b[0m \u001b[32m━━━━━━━━━━━━━━━━━━━━\u001b[0m\u001b[37m\u001b[0m \u001b[1m262s\u001b[0m 1s/step - accuracy: 0.7832 - f1_score: 0.7758 - loss: 0.5878 - precision: 0.8514 - recall: 0.7127 - val_accuracy: 0.8259 - val_f1_score: 0.8194 - val_loss: 0.4942 - val_precision: 0.8858 - val_recall: 0.7623\n",
      "Epoch 78/100\n",
      "\u001b[1m230/230\u001b[0m \u001b[32m━━━━━━━━━━━━━━━━━━━━\u001b[0m\u001b[37m\u001b[0m \u001b[1m254s\u001b[0m 1s/step - accuracy: 0.7897 - f1_score: 0.7789 - loss: 0.5819 - precision: 0.8545 - recall: 0.7156 - val_accuracy: 0.8034 - val_f1_score: 0.7817 - val_loss: 0.5553 - val_precision: 0.8648 - val_recall: 0.7132\n",
      "Epoch 79/100\n",
      "\u001b[1m230/230\u001b[0m \u001b[32m━━━━━━━━━━━━━━━━━━━━\u001b[0m\u001b[37m\u001b[0m \u001b[1m252s\u001b[0m 1s/step - accuracy: 0.7774 - f1_score: 0.7701 - loss: 0.6026 - precision: 0.8472 - recall: 0.7060 - val_accuracy: 0.8327 - val_f1_score: 0.8273 - val_loss: 0.4711 - val_precision: 0.8876 - val_recall: 0.7747\n",
      "Epoch 80/100\n",
      "\u001b[1m230/230\u001b[0m \u001b[32m━━━━━━━━━━━━━━━━━━━━\u001b[0m\u001b[37m\u001b[0m \u001b[1m264s\u001b[0m 1s/step - accuracy: 0.7889 - f1_score: 0.7800 - loss: 0.5755 - precision: 0.8475 - recall: 0.7225 - val_accuracy: 0.8251 - val_f1_score: 0.8172 - val_loss: 0.5001 - val_precision: 0.8803 - val_recall: 0.7625\n",
      "Epoch 81/100\n",
      "\u001b[1m230/230\u001b[0m \u001b[32m━━━━━━━━━━━━━━━━━━━━\u001b[0m\u001b[37m\u001b[0m \u001b[1m260s\u001b[0m 1s/step - accuracy: 0.7877 - f1_score: 0.7726 - loss: 0.5959 - precision: 0.8390 - recall: 0.7160 - val_accuracy: 0.8314 - val_f1_score: 0.8253 - val_loss: 0.4841 - val_precision: 0.8865 - val_recall: 0.7719\n",
      "Epoch 82/100\n",
      "\u001b[1m230/230\u001b[0m \u001b[32m━━━━━━━━━━━━━━━━━━━━\u001b[0m\u001b[37m\u001b[0m \u001b[1m255s\u001b[0m 1s/step - accuracy: 0.7961 - f1_score: 0.7862 - loss: 0.5525 - precision: 0.8545 - recall: 0.7280 - val_accuracy: 0.8235 - val_f1_score: 0.8158 - val_loss: 0.4907 - val_precision: 0.8844 - val_recall: 0.7571\n",
      "Epoch 83/100\n",
      "\u001b[1m230/230\u001b[0m \u001b[32m━━━━━━━━━━━━━━━━━━━━\u001b[0m\u001b[37m\u001b[0m \u001b[1m253s\u001b[0m 1s/step - accuracy: 0.7993 - f1_score: 0.7922 - loss: 0.5511 - precision: 0.8610 - recall: 0.7337 - val_accuracy: 0.8254 - val_f1_score: 0.8143 - val_loss: 0.4893 - val_precision: 0.8918 - val_recall: 0.7492\n",
      "Epoch 84/100\n",
      "\u001b[1m230/230\u001b[0m \u001b[32m━━━━━━━━━━━━━━━━━━━━\u001b[0m\u001b[37m\u001b[0m \u001b[1m232s\u001b[0m 1s/step - accuracy: 0.7979 - f1_score: 0.7917 - loss: 0.5446 - precision: 0.8606 - recall: 0.7330 - val_accuracy: 0.8272 - val_f1_score: 0.8163 - val_loss: 0.4956 - val_precision: 0.8899 - val_recall: 0.7540\n",
      "Epoch 85/100\n",
      "\u001b[1m230/230\u001b[0m \u001b[32m━━━━━━━━━━━━━━━━━━━━\u001b[0m\u001b[37m\u001b[0m \u001b[1m235s\u001b[0m 1s/step - accuracy: 0.7972 - f1_score: 0.7928 - loss: 0.5419 - precision: 0.8578 - recall: 0.7370 - val_accuracy: 0.8269 - val_f1_score: 0.8243 - val_loss: 0.4730 - val_precision: 0.8829 - val_recall: 0.7730\n",
      "Epoch 86/100\n",
      "\u001b[1m230/230\u001b[0m \u001b[32m━━━━━━━━━━━━━━━━━━━━\u001b[0m\u001b[37m\u001b[0m \u001b[1m223s\u001b[0m 970ms/step - accuracy: 0.8153 - f1_score: 0.8049 - loss: 0.5338 - precision: 0.8649 - recall: 0.7527 - val_accuracy: 0.8372 - val_f1_score: 0.8400 - val_loss: 0.4442 - val_precision: 0.8939 - val_recall: 0.7923\n",
      "Epoch 87/100\n",
      "\u001b[1m230/230\u001b[0m \u001b[32m━━━━━━━━━━━━━━━━━━━━\u001b[0m\u001b[37m\u001b[0m \u001b[1m228s\u001b[0m 992ms/step - accuracy: 0.7991 - f1_score: 0.7987 - loss: 0.5325 - precision: 0.8572 - recall: 0.7477 - val_accuracy: 0.8337 - val_f1_score: 0.8304 - val_loss: 0.4634 - val_precision: 0.8949 - val_recall: 0.7745\n",
      "Epoch 88/100\n",
      "\u001b[1m230/230\u001b[0m \u001b[32m━━━━━━━━━━━━━━━━━━━━\u001b[0m\u001b[37m\u001b[0m \u001b[1m243s\u001b[0m 1s/step - accuracy: 0.8066 - f1_score: 0.8018 - loss: 0.5355 - precision: 0.8633 - recall: 0.7485 - val_accuracy: 0.8457 - val_f1_score: 0.8426 - val_loss: 0.4411 - val_precision: 0.9020 - val_recall: 0.7905\n",
      "Epoch 89/100\n",
      "\u001b[1m230/230\u001b[0m \u001b[32m━━━━━━━━━━━━━━━━━━━━\u001b[0m\u001b[37m\u001b[0m \u001b[1m240s\u001b[0m 1s/step - accuracy: 0.8003 - f1_score: 0.8021 - loss: 0.5310 - precision: 0.8640 - recall: 0.7484 - val_accuracy: 0.8332 - val_f1_score: 0.8253 - val_loss: 0.4697 - val_precision: 0.8778 - val_recall: 0.7788\n",
      "Epoch 90/100\n",
      "\u001b[1m230/230\u001b[0m \u001b[32m━━━━━━━━━━━━━━━━━━━━\u001b[0m\u001b[37m\u001b[0m \u001b[1m255s\u001b[0m 1s/step - accuracy: 0.7969 - f1_score: 0.7948 - loss: 0.5440 - precision: 0.8504 - recall: 0.7460 - val_accuracy: 0.8351 - val_f1_score: 0.8317 - val_loss: 0.4606 - val_precision: 0.8815 - val_recall: 0.7872\n",
      "Epoch 91/100\n",
      "\u001b[1m230/230\u001b[0m \u001b[32m━━━━━━━━━━━━━━━━━━━━\u001b[0m\u001b[37m\u001b[0m \u001b[1m227s\u001b[0m 985ms/step - accuracy: 0.8168 - f1_score: 0.8071 - loss: 0.5127 - precision: 0.8658 - recall: 0.7559 - val_accuracy: 0.8231 - val_f1_score: 0.8228 - val_loss: 0.4763 - val_precision: 0.8878 - val_recall: 0.7666\n",
      "Epoch 92/100\n",
      "\u001b[1m230/230\u001b[0m \u001b[32m━━━━━━━━━━━━━━━━━━━━\u001b[0m\u001b[37m\u001b[0m \u001b[1m225s\u001b[0m 976ms/step - accuracy: 0.8052 - f1_score: 0.7973 - loss: 0.5365 - precision: 0.8594 - recall: 0.7436 - val_accuracy: 0.8168 - val_f1_score: 0.8149 - val_loss: 0.4987 - val_precision: 0.8586 - val_recall: 0.7755\n",
      "Epoch 93/100\n",
      "\u001b[1m230/230\u001b[0m \u001b[32m━━━━━━━━━━━━━━━━━━━━\u001b[0m\u001b[37m\u001b[0m \u001b[1m229s\u001b[0m 996ms/step - accuracy: 0.7988 - f1_score: 0.7936 - loss: 0.5328 - precision: 0.8507 - recall: 0.7437 - val_accuracy: 0.8610 - val_f1_score: 0.8568 - val_loss: 0.4042 - val_precision: 0.9056 - val_recall: 0.8130\n",
      "Epoch 94/100\n",
      "\u001b[1m230/230\u001b[0m \u001b[32m━━━━━━━━━━━━━━━━━━━━\u001b[0m\u001b[37m\u001b[0m \u001b[1m210s\u001b[0m 913ms/step - accuracy: 0.8156 - f1_score: 0.8107 - loss: 0.5141 - precision: 0.8709 - recall: 0.7584 - val_accuracy: 0.8483 - val_f1_score: 0.8438 - val_loss: 0.4392 - val_precision: 0.9017 - val_recall: 0.7928\n",
      "Epoch 95/100\n",
      "\u001b[1m230/230\u001b[0m \u001b[32m━━━━━━━━━━━━━━━━━━━━\u001b[0m\u001b[37m\u001b[0m \u001b[1m215s\u001b[0m 932ms/step - accuracy: 0.8128 - f1_score: 0.8111 - loss: 0.5144 - precision: 0.8707 - recall: 0.7592 - val_accuracy: 0.8518 - val_f1_score: 0.8469 - val_loss: 0.4211 - val_precision: 0.8924 - val_recall: 0.8059\n",
      "Epoch 96/100\n",
      "\u001b[1m230/230\u001b[0m \u001b[32m━━━━━━━━━━━━━━━━━━━━\u001b[0m\u001b[37m\u001b[0m \u001b[1m216s\u001b[0m 941ms/step - accuracy: 0.8159 - f1_score: 0.8136 - loss: 0.4987 - precision: 0.8725 - recall: 0.7622 - val_accuracy: 0.8468 - val_f1_score: 0.8435 - val_loss: 0.4278 - val_precision: 0.8907 - val_recall: 0.8010\n",
      "Epoch 97/100\n",
      "\u001b[1m230/230\u001b[0m \u001b[32m━━━━━━━━━━━━━━━━━━━━\u001b[0m\u001b[37m\u001b[0m \u001b[1m181s\u001b[0m 790ms/step - accuracy: 0.8214 - f1_score: 0.8159 - loss: 0.4996 - precision: 0.8725 - recall: 0.7661 - val_accuracy: 0.8635 - val_f1_score: 0.8584 - val_loss: 0.3941 - val_precision: 0.9091 - val_recall: 0.8130\n",
      "Epoch 98/100\n",
      "\u001b[1m230/230\u001b[0m \u001b[32m━━━━━━━━━━━━━━━━━━━━\u001b[0m\u001b[37m\u001b[0m \u001b[1m189s\u001b[0m 822ms/step - accuracy: 0.8185 - f1_score: 0.8145 - loss: 0.4984 - precision: 0.8745 - recall: 0.7623 - val_accuracy: 0.8614 - val_f1_score: 0.8556 - val_loss: 0.3987 - val_precision: 0.9017 - val_recall: 0.8141\n",
      "Epoch 99/100\n",
      "\u001b[1m230/230\u001b[0m \u001b[32m━━━━━━━━━━━━━━━━━━━━\u001b[0m\u001b[37m\u001b[0m \u001b[1m175s\u001b[0m 758ms/step - accuracy: 0.8247 - f1_score: 0.8177 - loss: 0.4999 - precision: 0.8695 - recall: 0.7718 - val_accuracy: 0.8611 - val_f1_score: 0.8538 - val_loss: 0.4102 - val_precision: 0.9041 - val_recall: 0.8088\n",
      "Epoch 100/100\n",
      "\u001b[1m230/230\u001b[0m \u001b[32m━━━━━━━━━━━━━━━━━━━━\u001b[0m\u001b[37m\u001b[0m \u001b[1m153s\u001b[0m 667ms/step - accuracy: 0.8226 - f1_score: 0.8207 - loss: 0.5007 - precision: 0.8791 - recall: 0.7697 - val_accuracy: 0.8603 - val_f1_score: 0.8587 - val_loss: 0.3980 - val_precision: 0.9067 - val_recall: 0.8156\n"
     ]
    }
   ],
   "source": [
    "# Train the model\n",
    "history = bi_lstm_model.fit(\n",
    "    x=training_set,\n",
    "    validation_data=validation_set,\n",
    "    epochs=100\n",
    ")"
   ]
  },
  {
   "cell_type": "code",
   "execution_count": 15,
   "id": "449373cc-d9d7-49b6-8516-f17fc705398d",
   "metadata": {},
   "outputs": [],
   "source": [
    "# Save Loss plot\n",
    "plt.figure()\n",
    "plt.plot(history.history['loss'], label='Train Loss')\n",
    "plt.plot(history.history['val_loss'], label='Validation Loss')\n",
    "plt.legend()\n",
    "plt.title(\"Loss\")\n",
    "plt.xlabel('Epochs')\n",
    "plt.ylabel('Loss')\n",
    "plt.savefig('loss_plot_bilstm.png')  # Save the plot as a PNG file\n",
    "plt.close()\n",
    "\n",
    "# Save Accuracy plot\n",
    "plt.figure()\n",
    "plt.plot(history.history['accuracy'], label='Train Accuracy')\n",
    "plt.plot(history.history['val_accuracy'], label='Validation Accuracy')\n",
    "plt.legend()\n",
    "plt.title(\"Accuracy\")\n",
    "plt.xlabel('Epochs')\n",
    "plt.ylabel('Accuracy')\n",
    "plt.savefig('accuracy_plot_bilstm.png')  # Save the plot as a PNG file\n",
    "plt.close()\n",
    "\n",
    "# Save Precision plot\n",
    "plt.figure()\n",
    "plt.plot(history.history['precision'], label='Train Precision')\n",
    "plt.plot(history.history['val_precision'], label='Validation Precision')\n",
    "plt.legend()\n",
    "plt.title(\"Precision\")\n",
    "plt.xlabel('Epochs')\n",
    "plt.ylabel('Precision')\n",
    "plt.savefig('precision_plot_bilstm.png')  # Save the plot as a PNG file\n",
    "plt.close()\n",
    "\n",
    "# Save Recall plot\n",
    "plt.figure()\n",
    "plt.plot(history.history['recall'], label='Train Recall')\n",
    "plt.plot(history.history['val_recall'], label='Validation Recall')\n",
    "plt.legend()\n",
    "plt.title(\"Recall\")\n",
    "plt.xlabel('Epochs')\n",
    "plt.ylabel('Recall')\n",
    "plt.savefig('recall_plot_bilstm.png')  # Save the plot as a PNG file\n",
    "plt.close()\n",
    "\n",
    "# Save F1 Score plot\n",
    "plt.figure()\n",
    "plt.plot(history.history['f1_score'], label='Train F1 Score')\n",
    "plt.plot(history.history['val_f1_score'], label='Validation F1 Score')\n",
    "plt.legend()\n",
    "plt.title(\"F1 Score\")\n",
    "plt.xlabel('Epochs')\n",
    "plt.ylabel('F1 Score')\n",
    "plt.savefig('f1_score_plot_bilstm.png')  # Save the plot as a PNG file\n",
    "plt.close()\n"
   ]
  },
  {
   "cell_type": "code",
   "execution_count": 16,
   "id": "6884dddc-3313-4257-b0fa-814881b18185",
   "metadata": {},
   "outputs": [
    {
     "data": {
      "text/html": [
       "<pre style=\"white-space:pre;overflow-x:auto;line-height:normal;font-family:Menlo,'DejaVu Sans Mono',consolas,'Courier New',monospace\"><span style=\"font-weight: bold\">Model: \"sequential\"</span>\n",
       "</pre>\n"
      ],
      "text/plain": [
       "\u001b[1mModel: \"sequential\"\u001b[0m\n"
      ]
     },
     "metadata": {},
     "output_type": "display_data"
    },
    {
     "data": {
      "text/html": [
       "<pre style=\"white-space:pre;overflow-x:auto;line-height:normal;font-family:Menlo,'DejaVu Sans Mono',consolas,'Courier New',monospace\">┏━━━━━━━━━━━━━━━━━━━━━━━━━━━━━━━━━━━━━━┳━━━━━━━━━━━━━━━━━━━━━━━━━━━━━┳━━━━━━━━━━━━━━━━━┓\n",
       "┃<span style=\"font-weight: bold\"> Layer (type)                         </span>┃<span style=\"font-weight: bold\"> Output Shape                </span>┃<span style=\"font-weight: bold\">         Param # </span>┃\n",
       "┡━━━━━━━━━━━━━━━━━━━━━━━━━━━━━━━━━━━━━━╇━━━━━━━━━━━━━━━━━━━━━━━━━━━━━╇━━━━━━━━━━━━━━━━━┩\n",
       "│ flatten (<span style=\"color: #0087ff; text-decoration-color: #0087ff\">Flatten</span>)                    │ (<span style=\"color: #00d7ff; text-decoration-color: #00d7ff\">None</span>, <span style=\"color: #00af00; text-decoration-color: #00af00\">12288</span>)               │               <span style=\"color: #00af00; text-decoration-color: #00af00\">0</span> │\n",
       "├──────────────────────────────────────┼─────────────────────────────┼─────────────────┤\n",
       "│ reshape (<span style=\"color: #0087ff; text-decoration-color: #0087ff\">Reshape</span>)                    │ (<span style=\"color: #00d7ff; text-decoration-color: #00d7ff\">None</span>, <span style=\"color: #00af00; text-decoration-color: #00af00\">16</span>, <span style=\"color: #00af00; text-decoration-color: #00af00\">768</span>)             │               <span style=\"color: #00af00; text-decoration-color: #00af00\">0</span> │\n",
       "├──────────────────────────────────────┼─────────────────────────────┼─────────────────┤\n",
       "│ bidirectional (<span style=\"color: #0087ff; text-decoration-color: #0087ff\">Bidirectional</span>)        │ (<span style=\"color: #00d7ff; text-decoration-color: #00d7ff\">None</span>, <span style=\"color: #00af00; text-decoration-color: #00af00\">128</span>)                 │         <span style=\"color: #00af00; text-decoration-color: #00af00\">426,496</span> │\n",
       "├──────────────────────────────────────┼─────────────────────────────┼─────────────────┤\n",
       "│ dense (<span style=\"color: #0087ff; text-decoration-color: #0087ff\">Dense</span>)                        │ (<span style=\"color: #00d7ff; text-decoration-color: #00d7ff\">None</span>, <span style=\"color: #00af00; text-decoration-color: #00af00\">128</span>)                 │          <span style=\"color: #00af00; text-decoration-color: #00af00\">16,512</span> │\n",
       "├──────────────────────────────────────┼─────────────────────────────┼─────────────────┤\n",
       "│ dense_1 (<span style=\"color: #0087ff; text-decoration-color: #0087ff\">Dense</span>)                      │ (<span style=\"color: #00d7ff; text-decoration-color: #00d7ff\">None</span>, <span style=\"color: #00af00; text-decoration-color: #00af00\">6</span>)                   │             <span style=\"color: #00af00; text-decoration-color: #00af00\">774</span> │\n",
       "└──────────────────────────────────────┴─────────────────────────────┴─────────────────┘\n",
       "</pre>\n"
      ],
      "text/plain": [
       "┏━━━━━━━━━━━━━━━━━━━━━━━━━━━━━━━━━━━━━━┳━━━━━━━━━━━━━━━━━━━━━━━━━━━━━┳━━━━━━━━━━━━━━━━━┓\n",
       "┃\u001b[1m \u001b[0m\u001b[1mLayer (type)                        \u001b[0m\u001b[1m \u001b[0m┃\u001b[1m \u001b[0m\u001b[1mOutput Shape               \u001b[0m\u001b[1m \u001b[0m┃\u001b[1m \u001b[0m\u001b[1m        Param #\u001b[0m\u001b[1m \u001b[0m┃\n",
       "┡━━━━━━━━━━━━━━━━━━━━━━━━━━━━━━━━━━━━━━╇━━━━━━━━━━━━━━━━━━━━━━━━━━━━━╇━━━━━━━━━━━━━━━━━┩\n",
       "│ flatten (\u001b[38;5;33mFlatten\u001b[0m)                    │ (\u001b[38;5;45mNone\u001b[0m, \u001b[38;5;34m12288\u001b[0m)               │               \u001b[38;5;34m0\u001b[0m │\n",
       "├──────────────────────────────────────┼─────────────────────────────┼─────────────────┤\n",
       "│ reshape (\u001b[38;5;33mReshape\u001b[0m)                    │ (\u001b[38;5;45mNone\u001b[0m, \u001b[38;5;34m16\u001b[0m, \u001b[38;5;34m768\u001b[0m)             │               \u001b[38;5;34m0\u001b[0m │\n",
       "├──────────────────────────────────────┼─────────────────────────────┼─────────────────┤\n",
       "│ bidirectional (\u001b[38;5;33mBidirectional\u001b[0m)        │ (\u001b[38;5;45mNone\u001b[0m, \u001b[38;5;34m128\u001b[0m)                 │         \u001b[38;5;34m426,496\u001b[0m │\n",
       "├──────────────────────────────────────┼─────────────────────────────┼─────────────────┤\n",
       "│ dense (\u001b[38;5;33mDense\u001b[0m)                        │ (\u001b[38;5;45mNone\u001b[0m, \u001b[38;5;34m128\u001b[0m)                 │          \u001b[38;5;34m16,512\u001b[0m │\n",
       "├──────────────────────────────────────┼─────────────────────────────┼─────────────────┤\n",
       "│ dense_1 (\u001b[38;5;33mDense\u001b[0m)                      │ (\u001b[38;5;45mNone\u001b[0m, \u001b[38;5;34m6\u001b[0m)                   │             \u001b[38;5;34m774\u001b[0m │\n",
       "└──────────────────────────────────────┴─────────────────────────────┴─────────────────┘\n"
      ]
     },
     "metadata": {},
     "output_type": "display_data"
    },
    {
     "data": {
      "text/html": [
       "<pre style=\"white-space:pre;overflow-x:auto;line-height:normal;font-family:Menlo,'DejaVu Sans Mono',consolas,'Courier New',monospace\"><span style=\"font-weight: bold\"> Total params: </span><span style=\"color: #00af00; text-decoration-color: #00af00\">1,331,348</span> (5.08 MB)\n",
       "</pre>\n"
      ],
      "text/plain": [
       "\u001b[1m Total params: \u001b[0m\u001b[38;5;34m1,331,348\u001b[0m (5.08 MB)\n"
      ]
     },
     "metadata": {},
     "output_type": "display_data"
    },
    {
     "data": {
      "text/html": [
       "<pre style=\"white-space:pre;overflow-x:auto;line-height:normal;font-family:Menlo,'DejaVu Sans Mono',consolas,'Courier New',monospace\"><span style=\"font-weight: bold\"> Trainable params: </span><span style=\"color: #00af00; text-decoration-color: #00af00\">443,782</span> (1.69 MB)\n",
       "</pre>\n"
      ],
      "text/plain": [
       "\u001b[1m Trainable params: \u001b[0m\u001b[38;5;34m443,782\u001b[0m (1.69 MB)\n"
      ]
     },
     "metadata": {},
     "output_type": "display_data"
    },
    {
     "data": {
      "text/html": [
       "<pre style=\"white-space:pre;overflow-x:auto;line-height:normal;font-family:Menlo,'DejaVu Sans Mono',consolas,'Courier New',monospace\"><span style=\"font-weight: bold\"> Non-trainable params: </span><span style=\"color: #00af00; text-decoration-color: #00af00\">0</span> (0.00 B)\n",
       "</pre>\n"
      ],
      "text/plain": [
       "\u001b[1m Non-trainable params: \u001b[0m\u001b[38;5;34m0\u001b[0m (0.00 B)\n"
      ]
     },
     "metadata": {},
     "output_type": "display_data"
    },
    {
     "data": {
      "text/html": [
       "<pre style=\"white-space:pre;overflow-x:auto;line-height:normal;font-family:Menlo,'DejaVu Sans Mono',consolas,'Courier New',monospace\"><span style=\"font-weight: bold\"> Optimizer params: </span><span style=\"color: #00af00; text-decoration-color: #00af00\">887,566</span> (3.39 MB)\n",
       "</pre>\n"
      ],
      "text/plain": [
       "\u001b[1m Optimizer params: \u001b[0m\u001b[38;5;34m887,566\u001b[0m (3.39 MB)\n"
      ]
     },
     "metadata": {},
     "output_type": "display_data"
    }
   ],
   "source": [
    "bi_lstm_model.summary()"
   ]
  },
  {
   "cell_type": "code",
   "execution_count": null,
   "id": "c81b7bc1-bfa5-471d-a83d-04f9d4a30e95",
   "metadata": {},
   "outputs": [],
   "source": []
  }
 ],
 "metadata": {
  "kernelspec": {
   "display_name": "Python 3 (ipykernel)",
   "language": "python",
   "name": "python3"
  },
  "language_info": {
   "codemirror_mode": {
    "name": "ipython",
    "version": 3
   },
   "file_extension": ".py",
   "mimetype": "text/x-python",
   "name": "python",
   "nbconvert_exporter": "python",
   "pygments_lexer": "ipython3",
   "version": "3.12.2"
  }
 },
 "nbformat": 4,
 "nbformat_minor": 5
}
