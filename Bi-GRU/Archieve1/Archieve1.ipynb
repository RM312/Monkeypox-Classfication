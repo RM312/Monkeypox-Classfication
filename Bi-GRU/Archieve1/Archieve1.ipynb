{
 "cells": [
  {
   "cell_type": "code",
   "execution_count": 1,
   "id": "e10d4ace-400e-4915-9939-99006ffbbd7e",
   "metadata": {},
   "outputs": [],
   "source": [
    "import tensorflow as tf\n",
    "from tensorflow.keras.preprocessing.image import ImageDataGenerator\n",
    "from tensorflow.keras.models import Sequential\n",
    "from tensorflow.keras.layers import Conv2D, MaxPooling2D, Flatten, Dense, Dropout, GRU, Bidirectional, GlobalAveragePooling2D, Reshape\n",
    "from tensorflow.keras.metrics import Precision, Recall\n",
    "import matplotlib.pyplot as plt"
   ]
  },
  {
   "cell_type": "code",
   "execution_count": 2,
   "id": "6bef6ce7-0f1f-424c-bc29-fe15466e35c3",
   "metadata": {},
   "outputs": [],
   "source": [
    "# Custom F1Score Metric\n",
    "class F1Score(tf.keras.metrics.Metric):\n",
    "    def __init__(self, name='f1_score', **kwargs):\n",
    "        super(F1Score, self).__init__(name=name, **kwargs)\n",
    "        self.precision = tf.keras.metrics.Precision()\n",
    "        self.recall = tf.keras.metrics.Recall()\n",
    "\n",
    "    def update_state(self, y_true, y_pred, sample_weight=None):\n",
    "        # Convert probabilities to binary labels (threshold at 0.5)\n",
    "        y_pred = tf.cast(y_pred >= 0.5, tf.float32)\n",
    "        self.precision.update_state(y_true, y_pred, sample_weight)\n",
    "        self.recall.update_state(y_true, y_pred, sample_weight)\n",
    "\n",
    "    def result(self):\n",
    "        precision = self.precision.result()\n",
    "        recall = self.recall.result()\n",
    "        return 2 * (precision * recall) / (precision + recall + tf.keras.backend.epsilon())\n",
    "\n",
    "    def reset_states(self):\n",
    "        self.precision.reset_states()\n",
    "        self.recall.reset_states()"
   ]
  },
  {
   "cell_type": "code",
   "execution_count": 3,
   "id": "c1cb4587-12c4-4a86-9546-95855a0cc7d4",
   "metadata": {},
   "outputs": [],
   "source": [
    "# Set up data generators\n",
    "train_datagen = ImageDataGenerator(rescale=1./255)\n",
    "test_datagen = ImageDataGenerator(rescale=1./255)"
   ]
  },
  {
   "cell_type": "code",
   "execution_count": 4,
   "id": "61a639c9-54f7-4eb2-a0b1-f6e2dfbe0815",
   "metadata": {},
   "outputs": [],
   "source": [
    "# Set paths for your dataset\n",
    "train_directory = r'/Music/Monkeypox/Kaggle MP images/archive (2)/Augmented Images/Augmented Images/'  # Update with the correct path for training images\n",
    "test_directory = r'Music/Monkeypox/Kaggle MP images/archive (2)/Augmented Images/Augmented Images/'  # Update with the correct path for testing images"
   ]
  },
  {
   "cell_type": "code",
   "execution_count": 5,
   "id": "44df7851-a08f-4a24-acc8-4d1c25c15166",
   "metadata": {},
   "outputs": [
    {
     "name": "stdout",
     "output_type": "stream",
     "text": [
      "Found 3192 images belonging to 2 classes.\n",
      "Found 3192 images belonging to 2 classes.\n"
     ]
    }
   ],
   "source": [
    "# Image data generators for training and testing\n",
    "training_set = train_datagen.flow_from_directory(\n",
    "    train_directory,\n",
    "    target_size=(64, 64),\n",
    "    batch_size=32,\n",
    "    class_mode='binary'\n",
    ")\n",
    "\n",
    "test_set = test_datagen.flow_from_directory(\n",
    "    test_directory,\n",
    "    target_size=(64, 64),\n",
    "    batch_size=32,\n",
    "    class_mode='binary'\n",
    ")"
   ]
  },
  {
   "cell_type": "code",
   "execution_count": 6,
   "id": "948c8605-2189-408a-9600-3247637131ff",
   "metadata": {},
   "outputs": [],
   "source": [
    "# Model Definition with CNN + Bi-GRU\n",
    "model = Sequential()"
   ]
  },
  {
   "cell_type": "code",
   "execution_count": 7,
   "id": "932d9f33-aa55-4938-b98b-7445e2e7bcca",
   "metadata": {},
   "outputs": [
    {
     "name": "stderr",
     "output_type": "stream",
     "text": [
      "C:\\Users\\KIIT\\AppData\\Local\\Programs\\Python\\Python312\\Lib\\site-packages\\keras\\src\\layers\\convolutional\\base_conv.py:107: UserWarning: Do not pass an `input_shape`/`input_dim` argument to a layer. When using Sequential models, prefer using an `Input(shape)` object as the first layer in the model instead.\n",
      "  super().__init__(activity_regularizer=activity_regularizer, **kwargs)\n"
     ]
    }
   ],
   "source": [
    "# Add Conv2D layers\n",
    "model.add(Conv2D(32, (3, 3), activation='relu', input_shape=(64, 64, 3)))\n",
    "model.add(MaxPooling2D(pool_size=(2, 2)))\n",
    "model.add(Conv2D(64, (3, 3), activation='relu'))\n",
    "model.add(MaxPooling2D(pool_size=(2, 2)))\n",
    "model.add(Conv2D(128, (3, 3), activation='relu'))\n",
    "model.add(MaxPooling2D(pool_size=(2, 2)))"
   ]
  },
  {
   "cell_type": "code",
   "execution_count": 8,
   "id": "c2c5d624-9022-4675-8f19-73d2ce1ecabe",
   "metadata": {},
   "outputs": [],
   "source": [
    "# Add Global Average Pooling\n",
    "model.add(GlobalAveragePooling2D())"
   ]
  },
  {
   "cell_type": "code",
   "execution_count": 9,
   "id": "10746cb9-1c4b-4b2c-87a0-204df42b7429",
   "metadata": {},
   "outputs": [],
   "source": [
    "# Reshape the output of the Conv2D layers to make it suitable for GRU\n",
    "model.add(Reshape((1, 128)))  # Reshape to (batch_size, time_steps, features)"
   ]
  },
  {
   "cell_type": "code",
   "execution_count": 10,
   "id": "9ca86339-ca42-4d59-ba08-325f5ce5d9a4",
   "metadata": {},
   "outputs": [],
   "source": [
    "# Add Bi-GRU (Bidirectional GRU) layer\n",
    "model.add(Bidirectional(GRU(64, return_sequences=False, activation='relu')))"
   ]
  },
  {
   "cell_type": "code",
   "execution_count": 11,
   "id": "1872a6cb-e8fe-4069-a2c8-9e1e968eaa43",
   "metadata": {},
   "outputs": [],
   "source": [
    "# Add Dropout and Dense layers for classification\n",
    "model.add(Dropout(0.5))\n",
    "model.add(Dense(1, activation='sigmoid'))  # Binary classification"
   ]
  },
  {
   "cell_type": "code",
   "execution_count": 12,
   "id": "74250c6a-b6ad-4f57-b3ee-7aee0e0200de",
   "metadata": {},
   "outputs": [
    {
     "data": {
      "text/html": [
       "<pre style=\"white-space:pre;overflow-x:auto;line-height:normal;font-family:Menlo,'DejaVu Sans Mono',consolas,'Courier New',monospace\"><span style=\"font-weight: bold\">Model: \"sequential\"</span>\n",
       "</pre>\n"
      ],
      "text/plain": [
       "\u001b[1mModel: \"sequential\"\u001b[0m\n"
      ]
     },
     "metadata": {},
     "output_type": "display_data"
    },
    {
     "data": {
      "text/html": [
       "<pre style=\"white-space:pre;overflow-x:auto;line-height:normal;font-family:Menlo,'DejaVu Sans Mono',consolas,'Courier New',monospace\">┏━━━━━━━━━━━━━━━━━━━━━━━━━━━━━━━━━━━━━━┳━━━━━━━━━━━━━━━━━━━━━━━━━━━━━┳━━━━━━━━━━━━━━━━━┓\n",
       "┃<span style=\"font-weight: bold\"> Layer (type)                         </span>┃<span style=\"font-weight: bold\"> Output Shape                </span>┃<span style=\"font-weight: bold\">         Param # </span>┃\n",
       "┡━━━━━━━━━━━━━━━━━━━━━━━━━━━━━━━━━━━━━━╇━━━━━━━━━━━━━━━━━━━━━━━━━━━━━╇━━━━━━━━━━━━━━━━━┩\n",
       "│ conv2d (<span style=\"color: #0087ff; text-decoration-color: #0087ff\">Conv2D</span>)                      │ (<span style=\"color: #00d7ff; text-decoration-color: #00d7ff\">None</span>, <span style=\"color: #00af00; text-decoration-color: #00af00\">62</span>, <span style=\"color: #00af00; text-decoration-color: #00af00\">62</span>, <span style=\"color: #00af00; text-decoration-color: #00af00\">32</span>)          │             <span style=\"color: #00af00; text-decoration-color: #00af00\">896</span> │\n",
       "├──────────────────────────────────────┼─────────────────────────────┼─────────────────┤\n",
       "│ max_pooling2d (<span style=\"color: #0087ff; text-decoration-color: #0087ff\">MaxPooling2D</span>)         │ (<span style=\"color: #00d7ff; text-decoration-color: #00d7ff\">None</span>, <span style=\"color: #00af00; text-decoration-color: #00af00\">31</span>, <span style=\"color: #00af00; text-decoration-color: #00af00\">31</span>, <span style=\"color: #00af00; text-decoration-color: #00af00\">32</span>)          │               <span style=\"color: #00af00; text-decoration-color: #00af00\">0</span> │\n",
       "├──────────────────────────────────────┼─────────────────────────────┼─────────────────┤\n",
       "│ conv2d_1 (<span style=\"color: #0087ff; text-decoration-color: #0087ff\">Conv2D</span>)                    │ (<span style=\"color: #00d7ff; text-decoration-color: #00d7ff\">None</span>, <span style=\"color: #00af00; text-decoration-color: #00af00\">29</span>, <span style=\"color: #00af00; text-decoration-color: #00af00\">29</span>, <span style=\"color: #00af00; text-decoration-color: #00af00\">64</span>)          │          <span style=\"color: #00af00; text-decoration-color: #00af00\">18,496</span> │\n",
       "├──────────────────────────────────────┼─────────────────────────────┼─────────────────┤\n",
       "│ max_pooling2d_1 (<span style=\"color: #0087ff; text-decoration-color: #0087ff\">MaxPooling2D</span>)       │ (<span style=\"color: #00d7ff; text-decoration-color: #00d7ff\">None</span>, <span style=\"color: #00af00; text-decoration-color: #00af00\">14</span>, <span style=\"color: #00af00; text-decoration-color: #00af00\">14</span>, <span style=\"color: #00af00; text-decoration-color: #00af00\">64</span>)          │               <span style=\"color: #00af00; text-decoration-color: #00af00\">0</span> │\n",
       "├──────────────────────────────────────┼─────────────────────────────┼─────────────────┤\n",
       "│ conv2d_2 (<span style=\"color: #0087ff; text-decoration-color: #0087ff\">Conv2D</span>)                    │ (<span style=\"color: #00d7ff; text-decoration-color: #00d7ff\">None</span>, <span style=\"color: #00af00; text-decoration-color: #00af00\">12</span>, <span style=\"color: #00af00; text-decoration-color: #00af00\">12</span>, <span style=\"color: #00af00; text-decoration-color: #00af00\">128</span>)         │          <span style=\"color: #00af00; text-decoration-color: #00af00\">73,856</span> │\n",
       "├──────────────────────────────────────┼─────────────────────────────┼─────────────────┤\n",
       "│ max_pooling2d_2 (<span style=\"color: #0087ff; text-decoration-color: #0087ff\">MaxPooling2D</span>)       │ (<span style=\"color: #00d7ff; text-decoration-color: #00d7ff\">None</span>, <span style=\"color: #00af00; text-decoration-color: #00af00\">6</span>, <span style=\"color: #00af00; text-decoration-color: #00af00\">6</span>, <span style=\"color: #00af00; text-decoration-color: #00af00\">128</span>)           │               <span style=\"color: #00af00; text-decoration-color: #00af00\">0</span> │\n",
       "├──────────────────────────────────────┼─────────────────────────────┼─────────────────┤\n",
       "│ global_average_pooling2d             │ (<span style=\"color: #00d7ff; text-decoration-color: #00d7ff\">None</span>, <span style=\"color: #00af00; text-decoration-color: #00af00\">128</span>)                 │               <span style=\"color: #00af00; text-decoration-color: #00af00\">0</span> │\n",
       "│ (<span style=\"color: #0087ff; text-decoration-color: #0087ff\">GlobalAveragePooling2D</span>)             │                             │                 │\n",
       "├──────────────────────────────────────┼─────────────────────────────┼─────────────────┤\n",
       "│ reshape (<span style=\"color: #0087ff; text-decoration-color: #0087ff\">Reshape</span>)                    │ (<span style=\"color: #00d7ff; text-decoration-color: #00d7ff\">None</span>, <span style=\"color: #00af00; text-decoration-color: #00af00\">1</span>, <span style=\"color: #00af00; text-decoration-color: #00af00\">128</span>)              │               <span style=\"color: #00af00; text-decoration-color: #00af00\">0</span> │\n",
       "├──────────────────────────────────────┼─────────────────────────────┼─────────────────┤\n",
       "│ bidirectional (<span style=\"color: #0087ff; text-decoration-color: #0087ff\">Bidirectional</span>)        │ (<span style=\"color: #00d7ff; text-decoration-color: #00d7ff\">None</span>, <span style=\"color: #00af00; text-decoration-color: #00af00\">128</span>)                 │          <span style=\"color: #00af00; text-decoration-color: #00af00\">74,496</span> │\n",
       "├──────────────────────────────────────┼─────────────────────────────┼─────────────────┤\n",
       "│ dropout (<span style=\"color: #0087ff; text-decoration-color: #0087ff\">Dropout</span>)                    │ (<span style=\"color: #00d7ff; text-decoration-color: #00d7ff\">None</span>, <span style=\"color: #00af00; text-decoration-color: #00af00\">128</span>)                 │               <span style=\"color: #00af00; text-decoration-color: #00af00\">0</span> │\n",
       "├──────────────────────────────────────┼─────────────────────────────┼─────────────────┤\n",
       "│ dense (<span style=\"color: #0087ff; text-decoration-color: #0087ff\">Dense</span>)                        │ (<span style=\"color: #00d7ff; text-decoration-color: #00d7ff\">None</span>, <span style=\"color: #00af00; text-decoration-color: #00af00\">1</span>)                   │             <span style=\"color: #00af00; text-decoration-color: #00af00\">129</span> │\n",
       "└──────────────────────────────────────┴─────────────────────────────┴─────────────────┘\n",
       "</pre>\n"
      ],
      "text/plain": [
       "┏━━━━━━━━━━━━━━━━━━━━━━━━━━━━━━━━━━━━━━┳━━━━━━━━━━━━━━━━━━━━━━━━━━━━━┳━━━━━━━━━━━━━━━━━┓\n",
       "┃\u001b[1m \u001b[0m\u001b[1mLayer (type)                        \u001b[0m\u001b[1m \u001b[0m┃\u001b[1m \u001b[0m\u001b[1mOutput Shape               \u001b[0m\u001b[1m \u001b[0m┃\u001b[1m \u001b[0m\u001b[1m        Param #\u001b[0m\u001b[1m \u001b[0m┃\n",
       "┡━━━━━━━━━━━━━━━━━━━━━━━━━━━━━━━━━━━━━━╇━━━━━━━━━━━━━━━━━━━━━━━━━━━━━╇━━━━━━━━━━━━━━━━━┩\n",
       "│ conv2d (\u001b[38;5;33mConv2D\u001b[0m)                      │ (\u001b[38;5;45mNone\u001b[0m, \u001b[38;5;34m62\u001b[0m, \u001b[38;5;34m62\u001b[0m, \u001b[38;5;34m32\u001b[0m)          │             \u001b[38;5;34m896\u001b[0m │\n",
       "├──────────────────────────────────────┼─────────────────────────────┼─────────────────┤\n",
       "│ max_pooling2d (\u001b[38;5;33mMaxPooling2D\u001b[0m)         │ (\u001b[38;5;45mNone\u001b[0m, \u001b[38;5;34m31\u001b[0m, \u001b[38;5;34m31\u001b[0m, \u001b[38;5;34m32\u001b[0m)          │               \u001b[38;5;34m0\u001b[0m │\n",
       "├──────────────────────────────────────┼─────────────────────────────┼─────────────────┤\n",
       "│ conv2d_1 (\u001b[38;5;33mConv2D\u001b[0m)                    │ (\u001b[38;5;45mNone\u001b[0m, \u001b[38;5;34m29\u001b[0m, \u001b[38;5;34m29\u001b[0m, \u001b[38;5;34m64\u001b[0m)          │          \u001b[38;5;34m18,496\u001b[0m │\n",
       "├──────────────────────────────────────┼─────────────────────────────┼─────────────────┤\n",
       "│ max_pooling2d_1 (\u001b[38;5;33mMaxPooling2D\u001b[0m)       │ (\u001b[38;5;45mNone\u001b[0m, \u001b[38;5;34m14\u001b[0m, \u001b[38;5;34m14\u001b[0m, \u001b[38;5;34m64\u001b[0m)          │               \u001b[38;5;34m0\u001b[0m │\n",
       "├──────────────────────────────────────┼─────────────────────────────┼─────────────────┤\n",
       "│ conv2d_2 (\u001b[38;5;33mConv2D\u001b[0m)                    │ (\u001b[38;5;45mNone\u001b[0m, \u001b[38;5;34m12\u001b[0m, \u001b[38;5;34m12\u001b[0m, \u001b[38;5;34m128\u001b[0m)         │          \u001b[38;5;34m73,856\u001b[0m │\n",
       "├──────────────────────────────────────┼─────────────────────────────┼─────────────────┤\n",
       "│ max_pooling2d_2 (\u001b[38;5;33mMaxPooling2D\u001b[0m)       │ (\u001b[38;5;45mNone\u001b[0m, \u001b[38;5;34m6\u001b[0m, \u001b[38;5;34m6\u001b[0m, \u001b[38;5;34m128\u001b[0m)           │               \u001b[38;5;34m0\u001b[0m │\n",
       "├──────────────────────────────────────┼─────────────────────────────┼─────────────────┤\n",
       "│ global_average_pooling2d             │ (\u001b[38;5;45mNone\u001b[0m, \u001b[38;5;34m128\u001b[0m)                 │               \u001b[38;5;34m0\u001b[0m │\n",
       "│ (\u001b[38;5;33mGlobalAveragePooling2D\u001b[0m)             │                             │                 │\n",
       "├──────────────────────────────────────┼─────────────────────────────┼─────────────────┤\n",
       "│ reshape (\u001b[38;5;33mReshape\u001b[0m)                    │ (\u001b[38;5;45mNone\u001b[0m, \u001b[38;5;34m1\u001b[0m, \u001b[38;5;34m128\u001b[0m)              │               \u001b[38;5;34m0\u001b[0m │\n",
       "├──────────────────────────────────────┼─────────────────────────────┼─────────────────┤\n",
       "│ bidirectional (\u001b[38;5;33mBidirectional\u001b[0m)        │ (\u001b[38;5;45mNone\u001b[0m, \u001b[38;5;34m128\u001b[0m)                 │          \u001b[38;5;34m74,496\u001b[0m │\n",
       "├──────────────────────────────────────┼─────────────────────────────┼─────────────────┤\n",
       "│ dropout (\u001b[38;5;33mDropout\u001b[0m)                    │ (\u001b[38;5;45mNone\u001b[0m, \u001b[38;5;34m128\u001b[0m)                 │               \u001b[38;5;34m0\u001b[0m │\n",
       "├──────────────────────────────────────┼─────────────────────────────┼─────────────────┤\n",
       "│ dense (\u001b[38;5;33mDense\u001b[0m)                        │ (\u001b[38;5;45mNone\u001b[0m, \u001b[38;5;34m1\u001b[0m)                   │             \u001b[38;5;34m129\u001b[0m │\n",
       "└──────────────────────────────────────┴─────────────────────────────┴─────────────────┘\n"
      ]
     },
     "metadata": {},
     "output_type": "display_data"
    },
    {
     "data": {
      "text/html": [
       "<pre style=\"white-space:pre;overflow-x:auto;line-height:normal;font-family:Menlo,'DejaVu Sans Mono',consolas,'Courier New',monospace\"><span style=\"font-weight: bold\"> Total params: </span><span style=\"color: #00af00; text-decoration-color: #00af00\">167,873</span> (655.75 KB)\n",
       "</pre>\n"
      ],
      "text/plain": [
       "\u001b[1m Total params: \u001b[0m\u001b[38;5;34m167,873\u001b[0m (655.75 KB)\n"
      ]
     },
     "metadata": {},
     "output_type": "display_data"
    },
    {
     "data": {
      "text/html": [
       "<pre style=\"white-space:pre;overflow-x:auto;line-height:normal;font-family:Menlo,'DejaVu Sans Mono',consolas,'Courier New',monospace\"><span style=\"font-weight: bold\"> Trainable params: </span><span style=\"color: #00af00; text-decoration-color: #00af00\">167,873</span> (655.75 KB)\n",
       "</pre>\n"
      ],
      "text/plain": [
       "\u001b[1m Trainable params: \u001b[0m\u001b[38;5;34m167,873\u001b[0m (655.75 KB)\n"
      ]
     },
     "metadata": {},
     "output_type": "display_data"
    },
    {
     "data": {
      "text/html": [
       "<pre style=\"white-space:pre;overflow-x:auto;line-height:normal;font-family:Menlo,'DejaVu Sans Mono',consolas,'Courier New',monospace\"><span style=\"font-weight: bold\"> Non-trainable params: </span><span style=\"color: #00af00; text-decoration-color: #00af00\">0</span> (0.00 B)\n",
       "</pre>\n"
      ],
      "text/plain": [
       "\u001b[1m Non-trainable params: \u001b[0m\u001b[38;5;34m0\u001b[0m (0.00 B)\n"
      ]
     },
     "metadata": {},
     "output_type": "display_data"
    }
   ],
   "source": [
    "# Compile the model with custom F1 score and other metrics\n",
    "model.compile(\n",
    "    optimizer='adam',\n",
    "    loss='binary_crossentropy',\n",
    "    metrics=['accuracy', Precision(), Recall(), F1Score()]\n",
    ")\n",
    "\n",
    "model.summary()"
   ]
  },
  {
   "cell_type": "code",
   "execution_count": 13,
   "id": "746068b4-48d8-4c12-ad1c-eaf1151933d8",
   "metadata": {},
   "outputs": [
    {
     "name": "stderr",
     "output_type": "stream",
     "text": [
      "C:\\Users\\KIIT\\AppData\\Local\\Programs\\Python\\Python312\\Lib\\site-packages\\keras\\src\\trainers\\data_adapters\\py_dataset_adapter.py:121: UserWarning: Your `PyDataset` class should call `super().__init__(**kwargs)` in its constructor. `**kwargs` can include `workers`, `use_multiprocessing`, `max_queue_size`. Do not pass these arguments to `fit()`, as they will be ignored.\n",
      "  self._warn_if_super_not_called()\n"
     ]
    },
    {
     "name": "stdout",
     "output_type": "stream",
     "text": [
      "Epoch 1/100\n",
      "\u001b[1m100/100\u001b[0m \u001b[32m━━━━━━━━━━━━━━━━━━━━\u001b[0m\u001b[37m\u001b[0m \u001b[1m127s\u001b[0m 712ms/step - accuracy: 0.5782 - f1_score: 0.7042 - loss: 0.6745 - precision: 0.5842 - recall: 0.8880 - val_accuracy: 0.6623 - val_f1_score: 0.7444 - val_loss: 0.6255 - val_precision: 0.6398 - val_recall: 0.8900\n",
      "Epoch 2/100\n",
      "\u001b[1m100/100\u001b[0m \u001b[32m━━━━━━━━━━━━━━━━━━━━\u001b[0m\u001b[37m\u001b[0m \u001b[1m60s\u001b[0m 603ms/step - accuracy: 0.6474 - f1_score: 0.7283 - loss: 0.6362 - precision: 0.6397 - recall: 0.8458 - val_accuracy: 0.6726 - val_f1_score: 0.7293 - val_loss: 0.6150 - val_precision: 0.6714 - val_recall: 0.7982\n",
      "Epoch 3/100\n",
      "\u001b[1m100/100\u001b[0m \u001b[32m━━━━━━━━━━━━━━━━━━━━\u001b[0m\u001b[37m\u001b[0m \u001b[1m71s\u001b[0m 712ms/step - accuracy: 0.6535 - f1_score: 0.7230 - loss: 0.6350 - precision: 0.6445 - recall: 0.8236 - val_accuracy: 0.6717 - val_f1_score: 0.7217 - val_loss: 0.6119 - val_precision: 0.6788 - val_recall: 0.7704\n",
      "Epoch 4/100\n",
      "\u001b[1m100/100\u001b[0m \u001b[32m━━━━━━━━━━━━━━━━━━━━\u001b[0m\u001b[37m\u001b[0m \u001b[1m82s\u001b[0m 664ms/step - accuracy: 0.6778 - f1_score: 0.7388 - loss: 0.6097 - precision: 0.6689 - recall: 0.8255 - val_accuracy: 0.6942 - val_f1_score: 0.7583 - val_loss: 0.5935 - val_precision: 0.6733 - val_recall: 0.8679\n",
      "Epoch 6/100\n",
      "\u001b[1m100/100\u001b[0m \u001b[32m━━━━━━━━━━━━━━━━━━━━\u001b[0m\u001b[37m\u001b[0m \u001b[1m52s\u001b[0m 518ms/step - accuracy: 0.6941 - f1_score: 0.7528 - loss: 0.5948 - precision: 0.6775 - recall: 0.8470 - val_accuracy: 0.6924 - val_f1_score: 0.7569 - val_loss: 0.5880 - val_precision: 0.6718 - val_recall: 0.8668\n",
      "Epoch 7/100\n",
      "\u001b[1m100/100\u001b[0m \u001b[32m━━━━━━━━━━━━━━━━━━━━\u001b[0m\u001b[37m\u001b[0m \u001b[1m65s\u001b[0m 646ms/step - accuracy: 0.6951 - f1_score: 0.7645 - loss: 0.5951 - precision: 0.6784 - recall: 0.8765 - val_accuracy: 0.7036 - val_f1_score: 0.7614 - val_loss: 0.5788 - val_precision: 0.6859 - val_recall: 0.8554\n",
      "Epoch 8/100\n",
      "\u001b[1m100/100\u001b[0m \u001b[32m━━━━━━━━━━━━━━━━━━━━\u001b[0m\u001b[37m\u001b[0m \u001b[1m75s\u001b[0m 753ms/step - accuracy: 0.6971 - f1_score: 0.7608 - loss: 0.5896 - precision: 0.6745 - recall: 0.8735 - val_accuracy: 0.7108 - val_f1_score: 0.7686 - val_loss: 0.5658 - val_precision: 0.6890 - val_recall: 0.8690\n",
      "Epoch 9/100\n",
      "\u001b[1m100/100\u001b[0m \u001b[32m━━━━━━━━━━━━━━━━━━━━\u001b[0m\u001b[37m\u001b[0m \u001b[1m75s\u001b[0m 746ms/step - accuracy: 0.6868 - f1_score: 0.7586 - loss: 0.5959 - precision: 0.6638 - recall: 0.8852 - val_accuracy: 0.7014 - val_f1_score: 0.7784 - val_loss: 0.5787 - val_precision: 0.6598 - val_recall: 0.9490\n",
      "Epoch 10/100\n",
      "\u001b[1m100/100\u001b[0m \u001b[32m━━━━━━━━━━━━━━━━━━━━\u001b[0m\u001b[37m\u001b[0m \u001b[1m80s\u001b[0m 713ms/step - accuracy: 0.7187 - f1_score: 0.7746 - loss: 0.5596 - precision: 0.6896 - recall: 0.8837 - val_accuracy: 0.7171 - val_f1_score: 0.7593 - val_loss: 0.5509 - val_precision: 0.7167 - val_recall: 0.8073\n",
      "Epoch 12/100\n",
      "\u001b[1m100/100\u001b[0m \u001b[32m━━━━━━━━━━━━━━━━━━━━\u001b[0m\u001b[37m\u001b[0m \u001b[1m75s\u001b[0m 749ms/step - accuracy: 0.6937 - f1_score: 0.7558 - loss: 0.5792 - precision: 0.6676 - recall: 0.8726 - val_accuracy: 0.7293 - val_f1_score: 0.7971 - val_loss: 0.5419 - val_precision: 0.6804 - val_recall: 0.9620\n",
      "Epoch 13/100\n",
      "\u001b[1m100/100\u001b[0m \u001b[32m━━━━━━━━━━━━━━━━━━━━\u001b[0m\u001b[37m\u001b[0m \u001b[1m76s\u001b[0m 757ms/step - accuracy: 0.7248 - f1_score: 0.7850 - loss: 0.5450 - precision: 0.6898 - recall: 0.9110 - val_accuracy: 0.7456 - val_f1_score: 0.7892 - val_loss: 0.5213 - val_precision: 0.7280 - val_recall: 0.8617\n",
      "Epoch 14/100\n",
      "\u001b[1m100/100\u001b[0m \u001b[32m━━━━━━━━━━━━━━━━━━━━\u001b[0m\u001b[37m\u001b[0m \u001b[1m66s\u001b[0m 602ms/step - accuracy: 0.7401 - f1_score: 0.7905 - loss: 0.5187 - precision: 0.7054 - recall: 0.8993 - val_accuracy: 0.7287 - val_f1_score: 0.8004 - val_loss: 0.5304 - val_precision: 0.6744 - val_recall: 0.9841\n",
      "Epoch 15/100\n",
      "\u001b[1m100/100\u001b[0m \u001b[32m━━━━━━━━━━━━━━━━━━━━\u001b[0m\u001b[37m\u001b[0m \u001b[1m67s\u001b[0m 672ms/step - accuracy: 0.7402 - f1_score: 0.7938 - loss: 0.5209 - precision: 0.7078 - recall: 0.9041 - val_accuracy: 0.7368 - val_f1_score: 0.8036 - val_loss: 0.5193 - val_precision: 0.6839 - val_recall: 0.9739\n",
      "Epoch 16/100\n",
      "\u001b[1m100/100\u001b[0m \u001b[32m━━━━━━━━━━━━━━━━━━━━\u001b[0m\u001b[37m\u001b[0m \u001b[1m63s\u001b[0m 631ms/step - accuracy: 0.7521 - f1_score: 0.8039 - loss: 0.5062 - precision: 0.7157 - recall: 0.9182 - val_accuracy: 0.7644 - val_f1_score: 0.8054 - val_loss: 0.4944 - val_precision: 0.7410 - val_recall: 0.8821\n",
      "Epoch 17/100\n",
      "\u001b[1m100/100\u001b[0m \u001b[32m━━━━━━━━━━━━━━━━━━━━\u001b[0m\u001b[37m\u001b[0m \u001b[1m72s\u001b[0m 717ms/step - accuracy: 0.8590 - f1_score: 0.8815 - loss: 0.3339 - precision: 0.8373 - recall: 0.9308 - val_accuracy: 0.8593 - val_f1_score: 0.8689 - val_loss: 0.3161 - val_precision: 0.8958 - val_recall: 0.8435\n",
      "Epoch 28/100\n",
      "\u001b[1m100/100\u001b[0m \u001b[32m━━━━━━━━━━━━━━━━━━━━\u001b[0m\u001b[37m\u001b[0m \u001b[1m62s\u001b[0m 618ms/step - accuracy: 0.8690 - f1_score: 0.8869 - loss: 0.3027 - precision: 0.8514 - recall: 0.9260 - val_accuracy: 0.8690 - val_f1_score: 0.8806 - val_loss: 0.2915 - val_precision: 0.8872 - val_recall: 0.8741\n",
      "Epoch 29/100\n",
      "\u001b[1m100/100\u001b[0m \u001b[32m━━━━━━━━━━━━━━━━━━━━\u001b[0m\u001b[37m\u001b[0m \u001b[1m58s\u001b[0m 574ms/step - accuracy: 0.8748 - f1_score: 0.8891 - loss: 0.3057 - precision: 0.8537 - recall: 0.9279 - val_accuracy: 0.8712 - val_f1_score: 0.8937 - val_loss: 0.2990 - val_precision: 0.8220 - val_recall: 0.9790\n",
      "Epoch 30/100\n",
      "\u001b[1m100/100\u001b[0m \u001b[32m━━━━━━━━━━━━━━━━━━━━\u001b[0m\u001b[37m\u001b[0m \u001b[1m46s\u001b[0m 458ms/step - accuracy: 0.8698 - f1_score: 0.8870 - loss: 0.2956 - precision: 0.8482 - recall: 0.9297 - val_accuracy: 0.8756 - val_f1_score: 0.8966 - val_loss: 0.2907 - val_precision: 0.8291 - val_recall: 0.9762\n",
      "Epoch 31/100\n",
      "\u001b[1m100/100\u001b[0m \u001b[32m━━━━━━━━━━━━━━━━━━━━\u001b[0m\u001b[37m\u001b[0m \u001b[1m49s\u001b[0m 490ms/step - accuracy: 0.8927 - f1_score: 0.9104 - loss: 0.2719 - precision: 0.8702 - recall: 0.9545 - val_accuracy: 0.8919 - val_f1_score: 0.9090 - val_loss: 0.2564 - val_precision: 0.8500 - val_recall: 0.9768\n",
      "Epoch 32/100\n",
      "\u001b[1m100/100\u001b[0m \u001b[32m━━━━━━━━━━━━━━━━━━━━\u001b[0m\u001b[37m\u001b[0m \u001b[1m33s\u001b[0m 326ms/step - accuracy: 0.8799 - f1_score: 0.8917 - loss: 0.2823 - precision: 0.8635 - recall: 0.9218 - val_accuracy: 0.9185 - val_f1_score: 0.9296 - val_loss: 0.2057 - val_precision: 0.8900 - val_recall: 0.9728\n",
      "Epoch 33/100\n",
      "\u001b[1m100/100\u001b[0m \u001b[32m━━━━━━━━━━━━━━━━━━━━\u001b[0m\u001b[37m\u001b[0m \u001b[1m62s\u001b[0m 618ms/step - accuracy: 0.9060 - f1_score: 0.9161 - loss: 0.2346 - precision: 0.8905 - recall: 0.9435 - val_accuracy: 0.9198 - val_f1_score: 0.9299 - val_loss: 0.2119 - val_precision: 0.8998 - val_recall: 0.9620\n",
      "Epoch 34/100\n",
      "\u001b[1m100/100\u001b[0m \u001b[32m━━━━━━━━━━━━━━━━━━━━\u001b[0m\u001b[37m\u001b[0m \u001b[1m56s\u001b[0m 559ms/step - accuracy: 0.9055 - f1_score: 0.9157 - loss: 0.2152 - precision: 0.8882 - recall: 0.9450 - val_accuracy: 0.9070 - val_f1_score: 0.9182 - val_loss: 0.2192 - val_precision: 0.8925 - val_recall: 0.9456\n",
      "Epoch 35/100\n",
      "\u001b[1m100/100\u001b[0m \u001b[32m━━━━━━━━━━━━━━━━━━━━\u001b[0m\u001b[37m\u001b[0m \u001b[1m61s\u001b[0m 608ms/step - accuracy: 0.9045 - f1_score: 0.9143 - loss: 0.2244 - precision: 0.8852 - recall: 0.9455 - val_accuracy: 0.9173 - val_f1_score: 0.9272 - val_loss: 0.1994 - val_precision: 0.9024 - val_recall: 0.9535\n",
      "Epoch 36/100\n",
      "\u001b[1m100/100\u001b[0m \u001b[32m━━━━━━━━━━━━━━━━━━━━\u001b[0m\u001b[37m\u001b[0m \u001b[1m57s\u001b[0m 574ms/step - accuracy: 0.9120 - f1_score: 0.9233 - loss: 0.2118 - precision: 0.8983 - recall: 0.9498 - val_accuracy: 0.9386 - val_f1_score: 0.9462 - val_loss: 0.1732 - val_precision: 0.9170 - val_recall: 0.9773\n",
      "Epoch 37/100\n",
      "\u001b[1m100/100\u001b[0m \u001b[32m━━━━━━━━━━━━━━━━━━━━\u001b[0m\u001b[37m\u001b[0m \u001b[1m51s\u001b[0m 510ms/step - accuracy: 0.9199 - f1_score: 0.9290 - loss: 0.2036 - precision: 0.9056 - recall: 0.9542 - val_accuracy: 0.9433 - val_f1_score: 0.9504 - val_loss: 0.1483 - val_precision: 0.9199 - val_recall: 0.9830\n",
      "Epoch 39/100\n",
      "\u001b[1m100/100\u001b[0m \u001b[32m━━━━━━━━━━━━━━━━━━━━\u001b[0m\u001b[37m\u001b[0m \u001b[1m57s\u001b[0m 573ms/step - accuracy: 0.9141 - f1_score: 0.9268 - loss: 0.1987 - precision: 0.8996 - recall: 0.9557 - val_accuracy: 0.9301 - val_f1_score: 0.9367 - val_loss: 0.1753 - val_precision: 0.9385 - val_recall: 0.9348\n",
      "Epoch 40/100\n",
      "\u001b[1m100/100\u001b[0m \u001b[32m━━━━━━━━━━━━━━━━━━━━\u001b[0m\u001b[37m\u001b[0m \u001b[1m57s\u001b[0m 575ms/step - accuracy: 0.9308 - f1_score: 0.9383 - loss: 0.1799 - precision: 0.9235 - recall: 0.9538 - val_accuracy: 0.9289 - val_f1_score: 0.9360 - val_loss: 0.1807 - val_precision: 0.9310 - val_recall: 0.9410\n",
      "Epoch 41/100\n",
      "\u001b[1m100/100\u001b[0m \u001b[32m━━━━━━━━━━━━━━━━━━━━\u001b[0m\u001b[37m\u001b[0m \u001b[1m58s\u001b[0m 581ms/step - accuracy: 0.9226 - f1_score: 0.9328 - loss: 0.1811 - precision: 0.9125 - recall: 0.9541 - val_accuracy: 0.9392 - val_f1_score: 0.9461 - val_loss: 0.1595 - val_precision: 0.9271 - val_recall: 0.9660\n",
      "Epoch 42/100\n",
      "\u001b[1m100/100\u001b[0m \u001b[32m━━━━━━━━━━━━━━━━━━━━\u001b[0m\u001b[37m\u001b[0m \u001b[1m54s\u001b[0m 540ms/step - accuracy: 0.9419 - f1_score: 0.9465 - loss: 0.1526 - precision: 0.9263 - recall: 0.9675 - val_accuracy: 0.9308 - val_f1_score: 0.9406 - val_loss: 0.1588 - val_precision: 0.8946 - val_recall: 0.9915\n",
      "Epoch 43/100\n",
      "\u001b[1m100/100\u001b[0m \u001b[32m━━━━━━━━━━━━━━━━━━━━\u001b[0m\u001b[37m\u001b[0m \u001b[1m32s\u001b[0m 318ms/step - accuracy: 0.9742 - f1_score: 0.9771 - loss: 0.0717 - precision: 0.9667 - recall: 0.9878 - val_accuracy: 0.9787 - val_f1_score: 0.9809 - val_loss: 0.0559 - val_precision: 0.9716 - val_recall: 0.9904\n",
      "Epoch 59/100\n",
      "\u001b[1m100/100\u001b[0m \u001b[32m━━━━━━━━━━━━━━━━━━━━\u001b[0m\u001b[37m\u001b[0m \u001b[1m31s\u001b[0m 311ms/step - accuracy: 0.9760 - f1_score: 0.9779 - loss: 0.0596 - precision: 0.9735 - recall: 0.9823 - val_accuracy: 0.9762 - val_f1_score: 0.9786 - val_loss: 0.0638 - val_precision: 0.9731 - val_recall: 0.9841\n",
      "Epoch 60/100\n",
      "\u001b[1m100/100\u001b[0m \u001b[32m━━━━━━━━━━━━━━━━━━━━\u001b[0m\u001b[37m\u001b[0m \u001b[1m28s\u001b[0m 277ms/step - accuracy: 0.9595 - f1_score: 0.9631 - loss: 0.1185 - precision: 0.9520 - recall: 0.9746 - val_accuracy: 0.9834 - val_f1_score: 0.9849 - val_loss: 0.0562 - val_precision: 0.9891 - val_recall: 0.9807\n",
      "Epoch 61/100\n",
      "\u001b[1m100/100\u001b[0m \u001b[32m━━━━━━━━━━━━━━━━━━━━\u001b[0m\u001b[37m\u001b[0m \u001b[1m33s\u001b[0m 333ms/step - accuracy: 0.9826 - f1_score: 0.9844 - loss: 0.0559 - precision: 0.9812 - recall: 0.9876 - val_accuracy: 0.9633 - val_f1_score: 0.9664 - val_loss: 0.1098 - val_precision: 0.9807 - val_recall: 0.9524\n",
      "Epoch 62/100\n",
      "\u001b[1m100/100\u001b[0m \u001b[32m━━━━━━━━━━━━━━━━━━━━\u001b[0m\u001b[37m\u001b[0m \u001b[1m32s\u001b[0m 321ms/step - accuracy: 0.9805 - f1_score: 0.9823 - loss: 0.0697 - precision: 0.9805 - recall: 0.9843 - val_accuracy: 0.9859 - val_f1_score: 0.9874 - val_loss: 0.0371 - val_precision: 0.9788 - val_recall: 0.9960\n",
      "Epoch 63/100\n",
      "\u001b[1m100/100\u001b[0m \u001b[32m━━━━━━━━━━━━━━━━━━━━\u001b[0m\u001b[37m\u001b[0m \u001b[1m31s\u001b[0m 309ms/step - accuracy: 0.9813 - f1_score: 0.9835 - loss: 0.0523 - precision: 0.9772 - recall: 0.9899 - val_accuracy: 0.9887 - val_f1_score: 0.9898 - val_loss: 0.0344 - val_precision: 0.9865 - val_recall: 0.9932\n",
      "Epoch 64/100\n",
      "\u001b[1m100/100\u001b[0m \u001b[32m━━━━━━━━━━━━━━━━━━━━\u001b[0m\u001b[37m\u001b[0m \u001b[1m31s\u001b[0m 313ms/step - accuracy: 0.9852 - f1_score: 0.9869 - loss: 0.0463 - precision: 0.9830 - recall: 0.9907 - val_accuracy: 0.9818 - val_f1_score: 0.9835 - val_loss: 0.0519 - val_precision: 0.9852 - val_recall: 0.9819\n",
      "Epoch 65/100\n",
      "\u001b[1m100/100\u001b[0m \u001b[32m━━━━━━━━━━━━━━━━━━━━\u001b[0m\u001b[37m\u001b[0m \u001b[1m30s\u001b[0m 295ms/step - accuracy: 0.9844 - f1_score: 0.9861 - loss: 0.0495 - precision: 0.9838 - recall: 0.9885 - val_accuracy: 0.9753 - val_f1_score: 0.9781 - val_loss: 0.0555 - val_precision: 0.9581 - val_recall: 0.9989\n",
      "Epoch 66/100\n",
      "\u001b[1m100/100\u001b[0m \u001b[32m━━━━━━━━━━━━━━━━━━━━\u001b[0m\u001b[37m\u001b[0m \u001b[1m50s\u001b[0m 501ms/step - accuracy: 0.9879 - f1_score: 0.9892 - loss: 0.0328 - precision: 0.9838 - recall: 0.9947 - val_accuracy: 0.9947 - val_f1_score: 0.9952 - val_loss: 0.0184 - val_precision: 0.9916 - val_recall: 0.9989\n",
      "Epoch 79/100\n",
      "\u001b[1m100/100\u001b[0m \u001b[32m━━━━━━━━━━━━━━━━━━━━\u001b[0m\u001b[37m\u001b[0m \u001b[1m48s\u001b[0m 482ms/step - accuracy: 0.9872 - f1_score: 0.9885 - loss: 0.0438 - precision: 0.9849 - recall: 0.9922 - val_accuracy: 0.9969 - val_f1_score: 0.9972 - val_loss: 0.0126 - val_precision: 0.9949 - val_recall: 0.9994\n",
      "Epoch 80/100\n",
      "\u001b[1m100/100\u001b[0m \u001b[32m━━━━━━━━━━━━━━━━━━━━\u001b[0m\u001b[37m\u001b[0m \u001b[1m37s\u001b[0m 374ms/step - accuracy: 0.9962 - f1_score: 0.9965 - loss: 0.0149 - precision: 0.9950 - recall: 0.9980 - val_accuracy: 0.9994 - val_f1_score: 0.9994 - val_loss: 0.0040 - val_precision: 0.9989 - val_recall: 1.0000\n",
      "Epoch 92/100\n",
      "\u001b[1m100/100\u001b[0m \u001b[32m━━━━━━━━━━━━━━━━━━━━\u001b[0m\u001b[37m\u001b[0m \u001b[1m32s\u001b[0m 322ms/step - accuracy: 0.9977 - f1_score: 0.9979 - loss: 0.0083 - precision: 0.9972 - recall: 0.9986 - val_accuracy: 0.9984 - val_f1_score: 0.9986 - val_loss: 0.0079 - val_precision: 0.9983 - val_recall: 0.9989\n",
      "Epoch 93/100\n",
      "\u001b[1m100/100\u001b[0m \u001b[32m━━━━━━━━━━━━━━━━━━━━\u001b[0m\u001b[37m\u001b[0m \u001b[1m25s\u001b[0m 252ms/step - accuracy: 0.9979 - f1_score: 0.9980 - loss: 0.0059 - precision: 0.9979 - recall: 0.9982 - val_accuracy: 1.0000 - val_f1_score: 1.0000 - val_loss: 0.0029 - val_precision: 1.0000 - val_recall: 1.0000\n",
      "Epoch 94/100\n",
      "\u001b[1m100/100\u001b[0m \u001b[32m━━━━━━━━━━━━━━━━━━━━\u001b[0m\u001b[37m\u001b[0m \u001b[1m25s\u001b[0m 250ms/step - accuracy: 0.9990 - f1_score: 0.9991 - loss: 0.0055 - precision: 0.9982 - recall: 1.0000 - val_accuracy: 0.9997 - val_f1_score: 0.9997 - val_loss: 0.0031 - val_precision: 0.9994 - val_recall: 1.0000\n",
      "Epoch 95/100\n",
      "\u001b[1m100/100\u001b[0m \u001b[32m━━━━━━━━━━━━━━━━━━━━\u001b[0m\u001b[37m\u001b[0m \u001b[1m24s\u001b[0m 243ms/step - accuracy: 0.9973 - f1_score: 0.9976 - loss: 0.0086 - precision: 0.9972 - recall: 0.9980 - val_accuracy: 0.9665 - val_f1_score: 0.9700 - val_loss: 0.0861 - val_precision: 0.9600 - val_recall: 0.9802\n",
      "Epoch 96/100\n",
      "\u001b[1m100/100\u001b[0m \u001b[32m━━━━━━━━━━━━━━━━━━━━\u001b[0m\u001b[37m\u001b[0m \u001b[1m25s\u001b[0m 255ms/step - accuracy: 0.9600 - f1_score: 0.9640 - loss: 0.1173 - precision: 0.9587 - recall: 0.9695 - val_accuracy: 0.9934 - val_f1_score: 0.9940 - val_loss: 0.0235 - val_precision: 0.9949 - val_recall: 0.9932\n",
      "Epoch 97/100\n",
      "\u001b[1m100/100\u001b[0m \u001b[32m━━━━━━━━━━━━━━━━━━━━\u001b[0m\u001b[37m\u001b[0m \u001b[1m27s\u001b[0m 268ms/step - accuracy: 0.9903 - f1_score: 0.9914 - loss: 0.0282 - precision: 0.9874 - recall: 0.9955 - val_accuracy: 0.9962 - val_f1_score: 0.9966 - val_loss: 0.0161 - val_precision: 0.9972 - val_recall: 0.9960\n",
      "Epoch 98/100\n",
      "\u001b[1m100/100\u001b[0m \u001b[32m━━━━━━━━━━━━━━━━━━━━\u001b[0m\u001b[37m\u001b[0m \u001b[1m18s\u001b[0m 179ms/step - accuracy: 0.9933 - f1_score: 0.9940 - loss: 0.0195 - precision: 0.9919 - recall: 0.9961 - val_accuracy: 0.9893 - val_f1_score: 0.9903 - val_loss: 0.0266 - val_precision: 0.9971 - val_recall: 0.9836\n",
      "Epoch 99/100\n",
      "\u001b[1m100/100\u001b[0m \u001b[32m━━━━━━━━━━━━━━━━━━━━\u001b[0m\u001b[37m\u001b[0m \u001b[1m15s\u001b[0m 151ms/step - accuracy: 0.9943 - f1_score: 0.9948 - loss: 0.0201 - precision: 0.9941 - recall: 0.9956 - val_accuracy: 0.9962 - val_f1_score: 0.9966 - val_loss: 0.0111 - val_precision: 0.9944 - val_recall: 0.9989\n",
      "Epoch 100/100\n",
      "\u001b[1m100/100\u001b[0m \u001b[32m━━━━━━━━━━━━━━━━━━━━\u001b[0m\u001b[37m\u001b[0m \u001b[1m14s\u001b[0m 140ms/step - accuracy: 0.9969 - f1_score: 0.9971 - loss: 0.0121 - precision: 0.9959 - recall: 0.9984 - val_accuracy: 0.9984 - val_f1_score: 0.9986 - val_loss: 0.0087 - val_precision: 0.9972 - val_recall: 1.0000\n"
     ]
    }
   ],
   "source": [
    "# Train the model\n",
    "history = model.fit(\n",
    "    training_set,\n",
    "    validation_data=test_set,\n",
    "    epochs=100\n",
    ")"
   ]
  },
  {
   "cell_type": "code",
   "execution_count": 14,
   "id": "28cb82f9-7df8-455e-85ed-6bcdf5615e55",
   "metadata": {},
   "outputs": [],
   "source": [
    "# Save Loss plot\n",
    "plt.figure()\n",
    "plt.plot(history.history['loss'], label='Train Loss')\n",
    "plt.plot(history.history['val_loss'], label='Validation Loss')\n",
    "plt.legend()\n",
    "plt.title(\"Loss\")\n",
    "plt.xlabel('Epochs')\n",
    "plt.ylabel('Loss')\n",
    "plt.savefig('loss_plot_cnn_bgru.png')  # Save the plot as a PNG file\n",
    "plt.close()\n",
    "\n",
    "# Save Accuracy plot\n",
    "plt.figure()\n",
    "plt.plot(history.history['accuracy'], label='Train Accuracy')\n",
    "plt.plot(history.history['val_accuracy'], label='Validation Accuracy')\n",
    "plt.legend()\n",
    "plt.title(\"Accuracy\")\n",
    "plt.xlabel('Epochs')\n",
    "plt.ylabel('Accuracy')\n",
    "plt.savefig('accuracy_plot_cnn_bgru.png')  # Save the plot as a PNG file\n",
    "plt.close()\n",
    "\n",
    "# Save Precision plot\n",
    "plt.figure()\n",
    "plt.plot(history.history['precision'], label='Train Precision')\n",
    "plt.plot(history.history['val_precision'], label='Validation Precision')\n",
    "plt.legend()\n",
    "plt.title(\"Precision\")\n",
    "plt.xlabel('Epochs')\n",
    "plt.ylabel('Precision')\n",
    "plt.savefig('precision_plot_cnn_bgru.png')  # Save the plot as a PNG file\n",
    "plt.close()\n",
    "\n",
    "# Save Recall plot\n",
    "plt.figure()\n",
    "plt.plot(history.history['recall'], label='Train Recall')\n",
    "plt.plot(history.history['val_recall'], label='Validation Recall')\n",
    "plt.legend()\n",
    "plt.title(\"Recall\")\n",
    "plt.xlabel('Epochs')\n",
    "plt.ylabel('Recall')\n",
    "plt.savefig('recall_plot_cnn_bgru.png')  # Save the plot as a PNG file\n",
    "plt.close()\n",
    "\n",
    "# Save F1-Score plot\n",
    "plt.figure()\n",
    "plt.plot(history.history['f1_score'], label='Train F1 Score')\n",
    "plt.plot(history.history['val_f1_score'], label='Validation F1 Score')\n",
    "plt.legend()\n",
    "plt.title(\"F1 Score\")\n",
    "plt.xlabel('Epochs')\n",
    "plt.ylabel('F1 Score')\n",
    "plt.savefig('f1_score_plot_cnn_bgru.png')  # Save the plot as a PNG file\n",
    "plt.close()"
   ]
  },
  {
   "cell_type": "code",
   "execution_count": null,
   "id": "8b488d25-1862-4a6f-8b1e-5c3340fb3f47",
   "metadata": {},
   "outputs": [],
   "source": []
  }
 ],
 "metadata": {
  "kernelspec": {
   "display_name": "Python 3 (ipykernel)",
   "language": "python",
   "name": "python3"
  },
  "language_info": {
   "codemirror_mode": {
    "name": "ipython",
    "version": 3
   },
   "file_extension": ".py",
   "mimetype": "text/x-python",
   "name": "python",
   "nbconvert_exporter": "python",
   "pygments_lexer": "ipython3",
   "version": "3.12.2"
  }
 },
 "nbformat": 4,
 "nbformat_minor": 5
}
