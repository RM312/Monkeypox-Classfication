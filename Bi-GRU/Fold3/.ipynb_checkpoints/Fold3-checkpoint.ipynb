{
 "cells": [
  {
   "cell_type": "code",
   "execution_count": 1,
   "id": "d7491dfe-86bc-452c-b700-eea43d9ea8cb",
   "metadata": {},
   "outputs": [],
   "source": [
    "import tensorflow as tf\n",
    "from tensorflow.keras.preprocessing.image import ImageDataGenerator\n",
    "import matplotlib.pyplot as plt"
   ]
  },
  {
   "cell_type": "code",
   "execution_count": 4,
   "id": "ee7765a5-abea-434c-ab23-acfec1748e07",
   "metadata": {},
   "outputs": [
    {
     "name": "stdout",
     "output_type": "stream",
     "text": [
      "Found 7532 images belonging to 6 classes.\n"
     ]
    }
   ],
   "source": [
    "# Data Augmentation for Training\n",
    "train_datagen = ImageDataGenerator(rescale=1./255,\n",
    "                                   shear_range=0.2,\n",
    "                                   zoom_range=0.2,\n",
    "                                   horizontal_flip=True)\n",
    "training_set = train_datagen.flow_from_directory(\n",
    "    \"Monkeypox/archive (60)/Augmented Images/Augmented Images/FOLDS_AUG/fold3_AUG/Train/\",\n",
    "    target_size=(64, 64),\n",
    "    batch_size=32,\n",
    "    class_mode='categorical',  # Use 'categorical' for one-hot encoded labels\n",
    ")"
   ]
  },
  {
   "cell_type": "code",
   "execution_count": 5,
   "id": "b03f52e6-51dd-48cb-a9fd-fbcfdbf9a399",
   "metadata": {},
   "outputs": [
    {
     "name": "stdout",
     "output_type": "stream",
     "text": [
      "Found 7532 images belonging to 6 classes.\n"
     ]
    }
   ],
   "source": [
    "test_datagen = ImageDataGenerator(rescale=1./255)\n",
    "validation_set = test_datagen.flow_from_directory(\n",
    "    \"Monkeypox/archive (60)/Augmented Images/Augmented Images/FOLDS_AUG/fold3_AUG/Train/\",\n",
    "    target_size=(64, 64),\n",
    "    batch_size=32,\n",
    "    class_mode='categorical',  # Use 'categorical' for one-hot encoded labels\n",
    ")"
   ]
  },
  {
   "cell_type": "code",
   "execution_count": 6,
   "id": "1a3f4420-9c60-4b40-8a2f-3905f5da56c1",
   "metadata": {},
   "outputs": [],
   "source": [
    "# Custom F1 Score Metric\n",
    "class F1Score(tf.keras.metrics.Metric):\n",
    "    def __init__(self, name='f1_score', **kwargs):\n",
    "        super(F1Score, self).__init__(name=name, **kwargs)\n",
    "        self.precision = tf.keras.metrics.Precision()\n",
    "        self.recall = tf.keras.metrics.Recall()\n",
    "\n",
    "    def update_state(self, y_true, y_pred, sample_weight=None):\n",
    "        # Update the precision and recall for each batch\n",
    "        self.precision.update_state(y_true, y_pred, sample_weight)\n",
    "        self.recall.update_state(y_true, y_pred, sample_weight)\n",
    "\n",
    "    def result(self):\n",
    "        # Calculate F1 score as the harmonic mean of precision and recall\n",
    "        precision = self.precision.result()\n",
    "        recall = self.recall.result()\n",
    "        return 2 * (precision * recall) / (precision + recall + tf.keras.backend.epsilon())\n",
    "\n",
    "    def reset_states(self):\n",
    "        self.precision.reset_states()\n",
    "        self.recall.reset_states()"
   ]
  },
  {
   "cell_type": "code",
   "execution_count": 7,
   "id": "235a38f7-9df1-4e95-ab1e-183262be0fa0",
   "metadata": {},
   "outputs": [],
   "source": [
    "# Build the Bi-GRU Model\n",
    "bi_gru_model = tf.keras.models.Sequential()"
   ]
  },
  {
   "cell_type": "code",
   "execution_count": 8,
   "id": "f4900393-4617-4553-b1ad-ebadbc68a847",
   "metadata": {},
   "outputs": [
    {
     "name": "stderr",
     "output_type": "stream",
     "text": [
      "C:\\Users\\KIIT\\AppData\\Local\\Programs\\Python\\Python312\\Lib\\site-packages\\keras\\src\\layers\\reshaping\\flatten.py:37: UserWarning: Do not pass an `input_shape`/`input_dim` argument to a layer. When using Sequential models, prefer using an `Input(shape)` object as the first layer in the model instead.\n",
      "  super().__init__(**kwargs)\n"
     ]
    }
   ],
   "source": [
    "# Flatten and Reshape for Bi-GRU\n",
    "bi_gru_model.add(tf.keras.layers.Flatten(input_shape=(64, 64, 3)))\n",
    "bi_gru_model.add(tf.keras.layers.Reshape((16, -1)))  # Reshape to (time_steps, features)"
   ]
  },
  {
   "cell_type": "code",
   "execution_count": 9,
   "id": "2ceb7a34-d5e1-470c-ad7a-5e4e7b649bce",
   "metadata": {},
   "outputs": [],
   "source": [
    "# Bidirectional GRU Layer\n",
    "bi_gru_model.add(tf.keras.layers.Bidirectional(tf.keras.layers.GRU(units=64, activation='tanh', return_sequences=False)))"
   ]
  },
  {
   "cell_type": "code",
   "execution_count": 10,
   "id": "6e159ff8-ccc5-4bc0-834b-9d1863edc3fe",
   "metadata": {},
   "outputs": [],
   "source": [
    "# Fully Connected Layers\n",
    "bi_gru_model.add(tf.keras.layers.Dense(units=128, activation='relu'))\n",
    "bi_gru_model.add(tf.keras.layers.Dense(6, activation='softmax'))  # 6 classes"
   ]
  },
  {
   "cell_type": "code",
   "execution_count": 11,
   "id": "9a490501-ce2a-49e3-9deb-307d7dcb433b",
   "metadata": {},
   "outputs": [],
   "source": [
    "# Compile the model with Precision, Recall, and F1 Score\n",
    "bi_gru_model.compile(\n",
    "    optimizer='adam',\n",
    "    loss='categorical_crossentropy',  # Use categorical_crossentropy for one-hot encoded labels\n",
    "    metrics=[\n",
    "        'accuracy',\n",
    "        tf.keras.metrics.Precision(name='precision'),\n",
    "        tf.keras.metrics.Recall(name='recall'),\n",
    "        F1Score(name='f1_score')  # Add custom F1 score metric\n",
    "    ]\n",
    ")"
   ]
  },
  {
   "cell_type": "code",
   "execution_count": 12,
   "id": "52b9010c-8923-411c-949c-d54254f76fee",
   "metadata": {},
   "outputs": [
    {
     "name": "stderr",
     "output_type": "stream",
     "text": [
      "C:\\Users\\KIIT\\AppData\\Local\\Programs\\Python\\Python312\\Lib\\site-packages\\keras\\src\\trainers\\data_adapters\\py_dataset_adapter.py:121: UserWarning: Your `PyDataset` class should call `super().__init__(**kwargs)` in its constructor. `**kwargs` can include `workers`, `use_multiprocessing`, `max_queue_size`. Do not pass these arguments to `fit()`, as they will be ignored.\n",
      "  self._warn_if_super_not_called()\n"
     ]
    },
    {
     "name": "stdout",
     "output_type": "stream",
     "text": [
      "Epoch 1/100\n",
      "\u001b[1m236/236\u001b[0m \u001b[32m━━━━━━━━━━━━━━━━━━━━\u001b[0m\u001b[37m\u001b[0m \u001b[1m0s\u001b[0m 662ms/step - accuracy: 0.3695 - f1_score: 0.1319 - loss: 1.6026 - precision: 0.4414 - recall: 0.0783"
     ]
    },
    {
     "name": "stderr",
     "output_type": "stream",
     "text": [
      "C:\\Users\\KIIT\\AppData\\Local\\Programs\\Python\\Python312\\Lib\\site-packages\\keras\\src\\trainers\\data_adapters\\py_dataset_adapter.py:121: UserWarning: Your `PyDataset` class should call `super().__init__(**kwargs)` in its constructor. `**kwargs` can include `workers`, `use_multiprocessing`, `max_queue_size`. Do not pass these arguments to `fit()`, as they will be ignored.\n",
      "  self._warn_if_super_not_called()\n"
     ]
    },
    {
     "name": "stdout",
     "output_type": "stream",
     "text": [
      "\u001b[1m236/236\u001b[0m \u001b[32m━━━━━━━━━━━━━━━━━━━━\u001b[0m\u001b[37m\u001b[0m \u001b[1m264s\u001b[0m 1s/step - accuracy: 0.3696 - f1_score: 0.1320 - loss: 1.6024 - precision: 0.4416 - recall: 0.0784 - val_accuracy: 0.4182 - val_f1_score: 0.1135 - val_loss: 1.4952 - val_precision: 0.6267 - val_recall: 0.0624\n",
      "Epoch 2/100\n",
      "\u001b[1m236/236\u001b[0m \u001b[32m━━━━━━━━━━━━━━━━━━━━\u001b[0m\u001b[37m\u001b[0m \u001b[1m227s\u001b[0m 960ms/step - accuracy: 0.4122 - f1_score: 0.1694 - loss: 1.5037 - precision: 0.5315 - recall: 0.1012 - val_accuracy: 0.4335 - val_f1_score: 0.1992 - val_loss: 1.4421 - val_precision: 0.6377 - val_recall: 0.1180\n",
      "Epoch 3/100\n",
      "\u001b[1m236/236\u001b[0m \u001b[32m━━━━━━━━━━━━━━━━━━━━\u001b[0m\u001b[37m\u001b[0m \u001b[1m223s\u001b[0m 946ms/step - accuracy: 0.4343 - f1_score: 0.2389 - loss: 1.4512 - precision: 0.5832 - recall: 0.1504 - val_accuracy: 0.4813 - val_f1_score: 0.3054 - val_loss: 1.3679 - val_precision: 0.6946 - val_recall: 0.1957\n",
      "Epoch 4/100\n",
      "\u001b[1m236/236\u001b[0m \u001b[32m━━━━━━━━━━━━━━━━━━━━\u001b[0m\u001b[37m\u001b[0m \u001b[1m226s\u001b[0m 957ms/step - accuracy: 0.4660 - f1_score: 0.2815 - loss: 1.4101 - precision: 0.6089 - recall: 0.1833 - val_accuracy: 0.4838 - val_f1_score: 0.3296 - val_loss: 1.3573 - val_precision: 0.6675 - val_recall: 0.2188\n",
      "Epoch 5/100\n",
      "\u001b[1m236/236\u001b[0m \u001b[32m━━━━━━━━━━━━━━━━━━━━\u001b[0m\u001b[37m\u001b[0m \u001b[1m228s\u001b[0m 967ms/step - accuracy: 0.4684 - f1_score: 0.3239 - loss: 1.3611 - precision: 0.6344 - recall: 0.2175 - val_accuracy: 0.4890 - val_f1_score: 0.4193 - val_loss: 1.3135 - val_precision: 0.5911 - val_recall: 0.3249\n",
      "Epoch 6/100\n",
      "\u001b[1m236/236\u001b[0m \u001b[32m━━━━━━━━━━━━━━━━━━━━\u001b[0m\u001b[37m\u001b[0m \u001b[1m259s\u001b[0m 951ms/step - accuracy: 0.4988 - f1_score: 0.3777 - loss: 1.3112 - precision: 0.6480 - recall: 0.2671 - val_accuracy: 0.5293 - val_f1_score: 0.4427 - val_loss: 1.2623 - val_precision: 0.6697 - val_recall: 0.3306\n",
      "Epoch 7/100\n",
      "\u001b[1m236/236\u001b[0m \u001b[32m━━━━━━━━━━━━━━━━━━━━\u001b[0m\u001b[37m\u001b[0m \u001b[1m231s\u001b[0m 981ms/step - accuracy: 0.5138 - f1_score: 0.4026 - loss: 1.2796 - precision: 0.6602 - recall: 0.2900 - val_accuracy: 0.5170 - val_f1_score: 0.4361 - val_loss: 1.2596 - val_precision: 0.6443 - val_recall: 0.3295\n",
      "Epoch 8/100\n",
      "\u001b[1m236/236\u001b[0m \u001b[32m━━━━━━━━━━━━━━━━━━━━\u001b[0m\u001b[37m\u001b[0m \u001b[1m235s\u001b[0m 996ms/step - accuracy: 0.5267 - f1_score: 0.4221 - loss: 1.2541 - precision: 0.6601 - recall: 0.3104 - val_accuracy: 0.5351 - val_f1_score: 0.4525 - val_loss: 1.2095 - val_precision: 0.6860 - val_recall: 0.3376\n",
      "Epoch 9/100\n",
      "\u001b[1m236/236\u001b[0m \u001b[32m━━━━━━━━━━━━━━━━━━━━\u001b[0m\u001b[37m\u001b[0m \u001b[1m233s\u001b[0m 985ms/step - accuracy: 0.5216 - f1_score: 0.4279 - loss: 1.2325 - precision: 0.6781 - recall: 0.3127 - val_accuracy: 0.5591 - val_f1_score: 0.4145 - val_loss: 1.1793 - val_precision: 0.7582 - val_recall: 0.2852\n",
      "Epoch 10/100\n",
      "\u001b[1m236/236\u001b[0m \u001b[32m━━━━━━━━━━━━━━━━━━━━\u001b[0m\u001b[37m\u001b[0m \u001b[1m251s\u001b[0m 1s/step - accuracy: 0.5366 - f1_score: 0.4339 - loss: 1.2270 - precision: 0.6837 - recall: 0.3179 - val_accuracy: 0.5737 - val_f1_score: 0.4744 - val_loss: 1.1467 - val_precision: 0.7214 - val_recall: 0.3534\n",
      "Epoch 11/100\n",
      "\u001b[1m236/236\u001b[0m \u001b[32m━━━━━━━━━━━━━━━━━━━━\u001b[0m\u001b[37m\u001b[0m \u001b[1m199s\u001b[0m 845ms/step - accuracy: 0.5513 - f1_score: 0.4682 - loss: 1.1980 - precision: 0.6957 - recall: 0.3529 - val_accuracy: 0.5859 - val_f1_score: 0.4828 - val_loss: 1.1167 - val_precision: 0.7352 - val_recall: 0.3594\n",
      "Epoch 12/100\n",
      "\u001b[1m236/236\u001b[0m \u001b[32m━━━━━━━━━━━━━━━━━━━━\u001b[0m\u001b[37m\u001b[0m \u001b[1m184s\u001b[0m 779ms/step - accuracy: 0.5726 - f1_score: 0.4948 - loss: 1.1437 - precision: 0.6998 - recall: 0.3828 - val_accuracy: 0.5895 - val_f1_score: 0.5514 - val_loss: 1.0802 - val_precision: 0.6951 - val_recall: 0.4570\n",
      "Epoch 13/100\n",
      "\u001b[1m236/236\u001b[0m \u001b[32m━━━━━━━━━━━━━━━━━━━━\u001b[0m\u001b[37m\u001b[0m \u001b[1m109s\u001b[0m 460ms/step - accuracy: 0.5701 - f1_score: 0.4966 - loss: 1.1348 - precision: 0.6897 - recall: 0.3881 - val_accuracy: 0.5653 - val_f1_score: 0.5380 - val_loss: 1.1490 - val_precision: 0.6517 - val_recall: 0.4580\n",
      "Epoch 14/100\n",
      "\u001b[1m236/236\u001b[0m \u001b[32m━━━━━━━━━━━━━━━━━━━━\u001b[0m\u001b[37m\u001b[0m \u001b[1m117s\u001b[0m 494ms/step - accuracy: 0.5791 - f1_score: 0.5106 - loss: 1.1058 - precision: 0.7004 - recall: 0.4019 - val_accuracy: 0.5757 - val_f1_score: 0.5451 - val_loss: 1.0899 - val_precision: 0.6663 - val_recall: 0.4612\n",
      "Epoch 15/100\n",
      "\u001b[1m236/236\u001b[0m \u001b[32m━━━━━━━━━━━━━━━━━━━━\u001b[0m\u001b[37m\u001b[0m \u001b[1m158s\u001b[0m 561ms/step - accuracy: 0.5817 - f1_score: 0.5299 - loss: 1.0911 - precision: 0.7012 - recall: 0.4260 - val_accuracy: 0.5835 - val_f1_score: 0.5219 - val_loss: 1.0775 - val_precision: 0.7191 - val_recall: 0.4096\n",
      "Epoch 16/100\n",
      "\u001b[1m236/236\u001b[0m \u001b[32m━━━━━━━━━━━━━━━━━━━━\u001b[0m\u001b[37m\u001b[0m \u001b[1m135s\u001b[0m 573ms/step - accuracy: 0.5943 - f1_score: 0.5275 - loss: 1.0749 - precision: 0.7002 - recall: 0.4231 - val_accuracy: 0.6200 - val_f1_score: 0.5872 - val_loss: 1.0331 - val_precision: 0.7214 - val_recall: 0.4951\n",
      "Epoch 17/100\n",
      "\u001b[1m236/236\u001b[0m \u001b[32m━━━━━━━━━━━━━━━━━━━━\u001b[0m\u001b[37m\u001b[0m \u001b[1m137s\u001b[0m 579ms/step - accuracy: 0.6061 - f1_score: 0.5643 - loss: 1.0196 - precision: 0.7318 - recall: 0.4592 - val_accuracy: 0.6190 - val_f1_score: 0.5612 - val_loss: 0.9991 - val_precision: 0.7774 - val_recall: 0.4391\n",
      "Epoch 18/100\n",
      "\u001b[1m236/236\u001b[0m \u001b[32m━━━━━━━━━━━━━━━━━━━━\u001b[0m\u001b[37m\u001b[0m \u001b[1m133s\u001b[0m 564ms/step - accuracy: 0.5976 - f1_score: 0.5502 - loss: 1.0433 - precision: 0.7133 - recall: 0.4478 - val_accuracy: 0.6203 - val_f1_score: 0.5774 - val_loss: 0.9875 - val_precision: 0.7530 - val_recall: 0.4683\n",
      "Epoch 19/100\n",
      "\u001b[1m236/236\u001b[0m \u001b[32m━━━━━━━━━━━━━━━━━━━━\u001b[0m\u001b[37m\u001b[0m \u001b[1m133s\u001b[0m 563ms/step - accuracy: 0.6015 - f1_score: 0.5526 - loss: 1.0277 - precision: 0.7204 - recall: 0.4484 - val_accuracy: 0.6357 - val_f1_score: 0.5721 - val_loss: 0.9815 - val_precision: 0.7779 - val_recall: 0.4525\n",
      "Epoch 20/100\n",
      "\u001b[1m236/236\u001b[0m \u001b[32m━━━━━━━━━━━━━━━━━━━━\u001b[0m\u001b[37m\u001b[0m \u001b[1m133s\u001b[0m 565ms/step - accuracy: 0.6135 - f1_score: 0.5626 - loss: 1.0139 - precision: 0.7296 - recall: 0.4579 - val_accuracy: 0.6422 - val_f1_score: 0.6197 - val_loss: 0.9638 - val_precision: 0.7286 - val_recall: 0.5390\n",
      "Epoch 21/100\n",
      "\u001b[1m236/236\u001b[0m \u001b[32m━━━━━━━━━━━━━━━━━━━━\u001b[0m\u001b[37m\u001b[0m \u001b[1m135s\u001b[0m 573ms/step - accuracy: 0.6234 - f1_score: 0.5815 - loss: 0.9877 - precision: 0.7327 - recall: 0.4822 - val_accuracy: 0.6476 - val_f1_score: 0.6168 - val_loss: 0.9296 - val_precision: 0.7563 - val_recall: 0.5207\n",
      "Epoch 22/100\n",
      "\u001b[1m236/236\u001b[0m \u001b[32m━━━━━━━━━━━━━━━━━━━━\u001b[0m\u001b[37m\u001b[0m \u001b[1m143s\u001b[0m 579ms/step - accuracy: 0.6241 - f1_score: 0.5761 - loss: 0.9931 - precision: 0.7356 - recall: 0.4735 - val_accuracy: 0.6588 - val_f1_score: 0.6259 - val_loss: 0.9043 - val_precision: 0.7679 - val_recall: 0.5283\n",
      "Epoch 23/100\n",
      "\u001b[1m236/236\u001b[0m \u001b[32m━━━━━━━━━━━━━━━━━━━━\u001b[0m\u001b[37m\u001b[0m \u001b[1m140s\u001b[0m 594ms/step - accuracy: 0.6449 - f1_score: 0.6115 - loss: 0.9450 - precision: 0.7453 - recall: 0.5185 - val_accuracy: 0.6410 - val_f1_score: 0.6210 - val_loss: 0.9362 - val_precision: 0.7288 - val_recall: 0.5410\n",
      "Epoch 24/100\n",
      "\u001b[1m236/236\u001b[0m \u001b[32m━━━━━━━━━━━━━━━━━━━━\u001b[0m\u001b[37m\u001b[0m \u001b[1m129s\u001b[0m 546ms/step - accuracy: 0.6394 - f1_score: 0.6041 - loss: 0.9478 - precision: 0.7604 - recall: 0.5012 - val_accuracy: 0.6577 - val_f1_score: 0.6421 - val_loss: 0.8975 - val_precision: 0.7540 - val_recall: 0.5591\n",
      "Epoch 25/100\n",
      "\u001b[1m236/236\u001b[0m \u001b[32m━━━━━━━━━━━━━━━━━━━━\u001b[0m\u001b[37m\u001b[0m \u001b[1m131s\u001b[0m 555ms/step - accuracy: 0.6400 - f1_score: 0.6031 - loss: 0.9525 - precision: 0.7468 - recall: 0.5059 - val_accuracy: 0.6549 - val_f1_score: 0.6234 - val_loss: 0.9216 - val_precision: 0.7575 - val_recall: 0.5296\n",
      "Epoch 26/100\n",
      "\u001b[1m236/236\u001b[0m \u001b[32m━━━━━━━━━━━━━━━━━━━━\u001b[0m\u001b[37m\u001b[0m \u001b[1m137s\u001b[0m 583ms/step - accuracy: 0.6556 - f1_score: 0.6190 - loss: 0.9113 - precision: 0.7638 - recall: 0.5205 - val_accuracy: 0.6726 - val_f1_score: 0.6321 - val_loss: 0.8680 - val_precision: 0.7859 - val_recall: 0.5287\n",
      "Epoch 27/100\n",
      "\u001b[1m236/236\u001b[0m \u001b[32m━━━━━━━━━━━━━━━━━━━━\u001b[0m\u001b[37m\u001b[0m \u001b[1m143s\u001b[0m 587ms/step - accuracy: 0.6429 - f1_score: 0.6206 - loss: 0.9235 - precision: 0.7615 - recall: 0.5237 - val_accuracy: 0.6848 - val_f1_score: 0.6384 - val_loss: 0.8433 - val_precision: 0.8081 - val_recall: 0.5276\n",
      "Epoch 28/100\n",
      "\u001b[1m236/236\u001b[0m \u001b[32m━━━━━━━━━━━━━━━━━━━━\u001b[0m\u001b[37m\u001b[0m \u001b[1m134s\u001b[0m 567ms/step - accuracy: 0.6657 - f1_score: 0.6280 - loss: 0.8768 - precision: 0.7640 - recall: 0.5333 - val_accuracy: 0.6864 - val_f1_score: 0.6599 - val_loss: 0.8240 - val_precision: 0.7880 - val_recall: 0.5676\n",
      "Epoch 29/100\n",
      "\u001b[1m236/236\u001b[0m \u001b[32m━━━━━━━━━━━━━━━━━━━━\u001b[0m\u001b[37m\u001b[0m \u001b[1m138s\u001b[0m 586ms/step - accuracy: 0.6585 - f1_score: 0.6375 - loss: 0.8756 - precision: 0.7710 - recall: 0.5433 - val_accuracy: 0.6993 - val_f1_score: 0.6719 - val_loss: 0.8111 - val_precision: 0.7973 - val_recall: 0.5806\n",
      "Epoch 30/100\n",
      "\u001b[1m236/236\u001b[0m \u001b[32m━━━━━━━━━━━━━━━━━━━━\u001b[0m\u001b[37m\u001b[0m \u001b[1m139s\u001b[0m 587ms/step - accuracy: 0.6717 - f1_score: 0.6454 - loss: 0.8396 - precision: 0.7725 - recall: 0.5543 - val_accuracy: 0.6661 - val_f1_score: 0.6532 - val_loss: 0.8541 - val_precision: 0.7555 - val_recall: 0.5753\n",
      "Epoch 31/100\n",
      "\u001b[1m236/236\u001b[0m \u001b[32m━━━━━━━━━━━━━━━━━━━━\u001b[0m\u001b[37m\u001b[0m \u001b[1m142s\u001b[0m 602ms/step - accuracy: 0.6727 - f1_score: 0.6416 - loss: 0.8622 - precision: 0.7642 - recall: 0.5529 - val_accuracy: 0.6881 - val_f1_score: 0.6605 - val_loss: 0.8120 - val_precision: 0.7987 - val_recall: 0.5631\n",
      "Epoch 32/100\n",
      "\u001b[1m236/236\u001b[0m \u001b[32m━━━━━━━━━━━━━━━━━━━━\u001b[0m\u001b[37m\u001b[0m \u001b[1m161s\u001b[0m 682ms/step - accuracy: 0.6893 - f1_score: 0.6592 - loss: 0.8468 - precision: 0.7846 - recall: 0.5685 - val_accuracy: 0.7037 - val_f1_score: 0.6884 - val_loss: 0.7898 - val_precision: 0.7918 - val_recall: 0.6089\n",
      "Epoch 33/100\n",
      "\u001b[1m236/236\u001b[0m \u001b[32m━━━━━━━━━━━━━━━━━━━━\u001b[0m\u001b[37m\u001b[0m \u001b[1m160s\u001b[0m 675ms/step - accuracy: 0.6783 - f1_score: 0.6528 - loss: 0.8438 - precision: 0.7794 - recall: 0.5617 - val_accuracy: 0.7152 - val_f1_score: 0.6867 - val_loss: 0.7406 - val_precision: 0.8131 - val_recall: 0.5943\n",
      "Epoch 34/100\n",
      "\u001b[1m236/236\u001b[0m \u001b[32m━━━━━━━━━━━━━━━━━━━━\u001b[0m\u001b[37m\u001b[0m \u001b[1m147s\u001b[0m 624ms/step - accuracy: 0.6750 - f1_score: 0.6519 - loss: 0.8407 - precision: 0.7747 - recall: 0.5627 - val_accuracy: 0.7035 - val_f1_score: 0.6930 - val_loss: 0.7784 - val_precision: 0.7896 - val_recall: 0.6175\n",
      "Epoch 35/100\n",
      "\u001b[1m236/236\u001b[0m \u001b[32m━━━━━━━━━━━━━━━━━━━━\u001b[0m\u001b[37m\u001b[0m \u001b[1m167s\u001b[0m 708ms/step - accuracy: 0.6909 - f1_score: 0.6676 - loss: 0.8168 - precision: 0.7855 - recall: 0.5806 - val_accuracy: 0.7127 - val_f1_score: 0.6963 - val_loss: 0.7401 - val_precision: 0.8076 - val_recall: 0.6119\n",
      "Epoch 36/100\n",
      "\u001b[1m236/236\u001b[0m \u001b[32m━━━━━━━━━━━━━━━━━━━━\u001b[0m\u001b[37m\u001b[0m \u001b[1m174s\u001b[0m 735ms/step - accuracy: 0.6882 - f1_score: 0.6767 - loss: 0.8075 - precision: 0.7901 - recall: 0.5918 - val_accuracy: 0.7062 - val_f1_score: 0.6795 - val_loss: 0.7715 - val_precision: 0.8010 - val_recall: 0.5900\n",
      "Epoch 37/100\n",
      "\u001b[1m236/236\u001b[0m \u001b[32m━━━━━━━━━━━━━━━━━━━━\u001b[0m\u001b[37m\u001b[0m \u001b[1m229s\u001b[0m 971ms/step - accuracy: 0.7015 - f1_score: 0.6813 - loss: 0.7794 - precision: 0.7972 - recall: 0.5948 - val_accuracy: 0.7240 - val_f1_score: 0.7090 - val_loss: 0.7167 - val_precision: 0.8214 - val_recall: 0.6236\n",
      "Epoch 38/100\n",
      "\u001b[1m236/236\u001b[0m \u001b[32m━━━━━━━━━━━━━━━━━━━━\u001b[0m\u001b[37m\u001b[0m \u001b[1m222s\u001b[0m 939ms/step - accuracy: 0.7013 - f1_score: 0.6854 - loss: 0.7793 - precision: 0.8066 - recall: 0.5960 - val_accuracy: 0.7138 - val_f1_score: 0.7017 - val_loss: 0.7517 - val_precision: 0.8161 - val_recall: 0.6155\n",
      "Epoch 39/100\n",
      "\u001b[1m236/236\u001b[0m \u001b[32m━━━━━━━━━━━━━━━━━━━━\u001b[0m\u001b[37m\u001b[0m \u001b[1m145s\u001b[0m 613ms/step - accuracy: 0.6993 - f1_score: 0.6821 - loss: 0.7866 - precision: 0.7910 - recall: 0.5996 - val_accuracy: 0.6628 - val_f1_score: 0.6463 - val_loss: 0.8570 - val_precision: 0.7476 - val_recall: 0.5692\n",
      "Epoch 40/100\n",
      "\u001b[1m236/236\u001b[0m \u001b[32m━━━━━━━━━━━━━━━━━━━━\u001b[0m\u001b[37m\u001b[0m \u001b[1m244s\u001b[0m 1s/step - accuracy: 0.6891 - f1_score: 0.6659 - loss: 0.8024 - precision: 0.7775 - recall: 0.5823 - val_accuracy: 0.7329 - val_f1_score: 0.7200 - val_loss: 0.6983 - val_precision: 0.8211 - val_recall: 0.6410\n",
      "Epoch 41/100\n",
      "\u001b[1m236/236\u001b[0m \u001b[32m━━━━━━━━━━━━━━━━━━━━\u001b[0m\u001b[37m\u001b[0m \u001b[1m181s\u001b[0m 769ms/step - accuracy: 0.7104 - f1_score: 0.6953 - loss: 0.7713 - precision: 0.7949 - recall: 0.6180 - val_accuracy: 0.7371 - val_f1_score: 0.7173 - val_loss: 0.7017 - val_precision: 0.8348 - val_recall: 0.6288\n",
      "Epoch 42/100\n",
      "\u001b[1m236/236\u001b[0m \u001b[32m━━━━━━━━━━━━━━━━━━━━\u001b[0m\u001b[37m\u001b[0m \u001b[1m236s\u001b[0m 998ms/step - accuracy: 0.7152 - f1_score: 0.6997 - loss: 0.7377 - precision: 0.8058 - recall: 0.6184 - val_accuracy: 0.7207 - val_f1_score: 0.6971 - val_loss: 0.7266 - val_precision: 0.8214 - val_recall: 0.6055\n",
      "Epoch 43/100\n",
      "\u001b[1m236/236\u001b[0m \u001b[32m━━━━━━━━━━━━━━━━━━━━\u001b[0m\u001b[37m\u001b[0m \u001b[1m238s\u001b[0m 1s/step - accuracy: 0.7079 - f1_score: 0.6943 - loss: 0.7479 - precision: 0.7959 - recall: 0.6158 - val_accuracy: 0.7450 - val_f1_score: 0.7328 - val_loss: 0.6767 - val_precision: 0.8121 - val_recall: 0.6676\n",
      "Epoch 44/100\n",
      "\u001b[1m236/236\u001b[0m \u001b[32m━━━━━━━━━━━━━━━━━━━━\u001b[0m\u001b[37m\u001b[0m \u001b[1m238s\u001b[0m 1s/step - accuracy: 0.7320 - f1_score: 0.7152 - loss: 0.7158 - precision: 0.8147 - recall: 0.6373 - val_accuracy: 0.7465 - val_f1_score: 0.7346 - val_loss: 0.6638 - val_precision: 0.8319 - val_recall: 0.6577\n",
      "Epoch 45/100\n",
      "\u001b[1m236/236\u001b[0m \u001b[32m━━━━━━━━━━━━━━━━━━━━\u001b[0m\u001b[37m\u001b[0m \u001b[1m231s\u001b[0m 981ms/step - accuracy: 0.7240 - f1_score: 0.7108 - loss: 0.7291 - precision: 0.8050 - recall: 0.6364 - val_accuracy: 0.7511 - val_f1_score: 0.7415 - val_loss: 0.6523 - val_precision: 0.8208 - val_recall: 0.6762\n",
      "Epoch 46/100\n",
      "\u001b[1m236/236\u001b[0m \u001b[32m━━━━━━━━━━━━━━━━━━━━\u001b[0m\u001b[37m\u001b[0m \u001b[1m173s\u001b[0m 734ms/step - accuracy: 0.7215 - f1_score: 0.7019 - loss: 0.7415 - precision: 0.8021 - recall: 0.6240 - val_accuracy: 0.7497 - val_f1_score: 0.7362 - val_loss: 0.6669 - val_precision: 0.8254 - val_recall: 0.6645\n",
      "Epoch 47/100\n",
      "\u001b[1m236/236\u001b[0m \u001b[32m━━━━━━━━━━━━━━━━━━━━\u001b[0m\u001b[37m\u001b[0m \u001b[1m241s\u001b[0m 1s/step - accuracy: 0.7301 - f1_score: 0.7134 - loss: 0.7194 - precision: 0.8032 - recall: 0.6417 - val_accuracy: 0.7649 - val_f1_score: 0.7545 - val_loss: 0.6300 - val_precision: 0.8487 - val_recall: 0.6791\n",
      "Epoch 48/100\n",
      "\u001b[1m236/236\u001b[0m \u001b[32m━━━━━━━━━━━━━━━━━━━━\u001b[0m\u001b[37m\u001b[0m \u001b[1m220s\u001b[0m 932ms/step - accuracy: 0.7392 - f1_score: 0.7204 - loss: 0.6800 - precision: 0.8066 - recall: 0.6508 - val_accuracy: 0.7645 - val_f1_score: 0.7438 - val_loss: 0.6537 - val_precision: 0.8484 - val_recall: 0.6621\n",
      "Epoch 49/100\n",
      "\u001b[1m236/236\u001b[0m \u001b[32m━━━━━━━━━━━━━━━━━━━━\u001b[0m\u001b[37m\u001b[0m \u001b[1m209s\u001b[0m 887ms/step - accuracy: 0.7380 - f1_score: 0.7285 - loss: 0.6848 - precision: 0.8215 - recall: 0.6544 - val_accuracy: 0.7728 - val_f1_score: 0.7645 - val_loss: 0.6099 - val_precision: 0.8582 - val_recall: 0.6892\n",
      "Epoch 50/100\n",
      "\u001b[1m236/236\u001b[0m \u001b[32m━━━━━━━━━━━━━━━━━━━━\u001b[0m\u001b[37m\u001b[0m \u001b[1m250s\u001b[0m 838ms/step - accuracy: 0.7410 - f1_score: 0.7298 - loss: 0.6691 - precision: 0.8157 - recall: 0.6602 - val_accuracy: 0.7771 - val_f1_score: 0.7633 - val_loss: 0.6051 - val_precision: 0.8551 - val_recall: 0.6893\n",
      "Epoch 51/100\n",
      "\u001b[1m236/236\u001b[0m \u001b[32m━━━━━━━━━━━━━━━━━━━━\u001b[0m\u001b[37m\u001b[0m \u001b[1m194s\u001b[0m 824ms/step - accuracy: 0.7453 - f1_score: 0.7340 - loss: 0.6884 - precision: 0.8201 - recall: 0.6644 - val_accuracy: 0.7772 - val_f1_score: 0.7659 - val_loss: 0.5980 - val_precision: 0.8597 - val_recall: 0.6905\n",
      "Epoch 52/100\n",
      "\u001b[1m236/236\u001b[0m \u001b[32m━━━━━━━━━━━━━━━━━━━━\u001b[0m\u001b[37m\u001b[0m \u001b[1m213s\u001b[0m 902ms/step - accuracy: 0.7483 - f1_score: 0.7398 - loss: 0.6686 - precision: 0.8257 - recall: 0.6701 - val_accuracy: 0.7787 - val_f1_score: 0.7510 - val_loss: 0.6078 - val_precision: 0.8681 - val_recall: 0.6617\n",
      "Epoch 53/100\n",
      "\u001b[1m236/236\u001b[0m \u001b[32m━━━━━━━━━━━━━━━━━━━━\u001b[0m\u001b[37m\u001b[0m \u001b[1m252s\u001b[0m 1s/step - accuracy: 0.7596 - f1_score: 0.7492 - loss: 0.6418 - precision: 0.8298 - recall: 0.6829 - val_accuracy: 0.7777 - val_f1_score: 0.7775 - val_loss: 0.5816 - val_precision: 0.8320 - val_recall: 0.7297\n",
      "Epoch 57/100\n",
      "\u001b[1m236/236\u001b[0m \u001b[32m━━━━━━━━━━━━━━━━━━━━\u001b[0m\u001b[37m\u001b[0m \u001b[1m178s\u001b[0m 755ms/step - accuracy: 0.7456 - f1_score: 0.7422 - loss: 0.6535 - precision: 0.8243 - recall: 0.6751 - val_accuracy: 0.7959 - val_f1_score: 0.7875 - val_loss: 0.5601 - val_precision: 0.8554 - val_recall: 0.7296\n",
      "Epoch 58/100\n",
      "\u001b[1m236/236\u001b[0m \u001b[32m━━━━━━━━━━━━━━━━━━━━\u001b[0m\u001b[37m\u001b[0m \u001b[1m249s\u001b[0m 1s/step - accuracy: 0.7605 - f1_score: 0.7504 - loss: 0.6589 - precision: 0.8272 - recall: 0.6867 - val_accuracy: 0.8063 - val_f1_score: 0.8078 - val_loss: 0.5234 - val_precision: 0.8611 - val_recall: 0.7608\n",
      "Epoch 64/100\n",
      "\u001b[1m236/236\u001b[0m \u001b[32m━━━━━━━━━━━━━━━━━━━━\u001b[0m\u001b[37m\u001b[0m \u001b[1m293s\u001b[0m 1s/step - accuracy: 0.7714 - f1_score: 0.7688 - loss: 0.6026 - precision: 0.8347 - recall: 0.7125 - val_accuracy: 0.7982 - val_f1_score: 0.7936 - val_loss: 0.5354 - val_precision: 0.8624 - val_recall: 0.7350\n",
      "Epoch 65/100\n",
      "\u001b[1m236/236\u001b[0m \u001b[32m━━━━━━━━━━━━━━━━━━━━\u001b[0m\u001b[37m\u001b[0m \u001b[1m196s\u001b[0m 832ms/step - accuracy: 0.7795 - f1_score: 0.7746 - loss: 0.6032 - precision: 0.8422 - recall: 0.7171 - val_accuracy: 0.7851 - val_f1_score: 0.7734 - val_loss: 0.5669 - val_precision: 0.8645 - val_recall: 0.6997\n",
      "Epoch 66/100\n",
      "\u001b[1m236/236\u001b[0m \u001b[32m━━━━━━━━━━━━━━━━━━━━\u001b[0m\u001b[37m\u001b[0m \u001b[1m215s\u001b[0m 886ms/step - accuracy: 0.7857 - f1_score: 0.7786 - loss: 0.5762 - precision: 0.8458 - recall: 0.7212 - val_accuracy: 0.7792 - val_f1_score: 0.7752 - val_loss: 0.6029 - val_precision: 0.8462 - val_recall: 0.7152\n",
      "Epoch 67/100\n",
      "\u001b[1m236/236\u001b[0m \u001b[32m━━━━━━━━━━━━━━━━━━━━\u001b[0m\u001b[37m\u001b[0m \u001b[1m244s\u001b[0m 1s/step - accuracy: 0.7772 - f1_score: 0.7695 - loss: 0.5925 - precision: 0.8354 - recall: 0.7133 - val_accuracy: 0.8240 - val_f1_score: 0.8104 - val_loss: 0.4976 - val_precision: 0.8946 - val_recall: 0.7407\n",
      "Epoch 68/100\n",
      "\u001b[1m236/236\u001b[0m \u001b[32m━━━━━━━━━━━━━━━━━━━━\u001b[0m\u001b[37m\u001b[0m \u001b[1m253s\u001b[0m 1s/step - accuracy: 0.7883 - f1_score: 0.7780 - loss: 0.5682 - precision: 0.8508 - recall: 0.7167 - val_accuracy: 0.7942 - val_f1_score: 0.7860 - val_loss: 0.5459 - val_precision: 0.8563 - val_recall: 0.7264\n",
      "Epoch 69/100\n",
      "\u001b[1m236/236\u001b[0m \u001b[32m━━━━━━━━━━━━━━━━━━━━\u001b[0m\u001b[37m\u001b[0m \u001b[1m184s\u001b[0m 779ms/step - accuracy: 0.7820 - f1_score: 0.7725 - loss: 0.5909 - precision: 0.8435 - recall: 0.7127 - val_accuracy: 0.8236 - val_f1_score: 0.8158 - val_loss: 0.4822 - val_precision: 0.8866 - val_recall: 0.7554\n",
      "Epoch 70/100\n",
      "\u001b[1m236/236\u001b[0m \u001b[32m━━━━━━━━━━━━━━━━━━━━\u001b[0m\u001b[37m\u001b[0m \u001b[1m247s\u001b[0m 1s/step - accuracy: 0.7967 - f1_score: 0.7931 - loss: 0.5446 - precision: 0.8511 - recall: 0.7425 - val_accuracy: 0.8206 - val_f1_score: 0.8149 - val_loss: 0.4930 - val_precision: 0.8780 - val_recall: 0.7602\n",
      "Epoch 71/100\n",
      "\u001b[1m236/236\u001b[0m \u001b[32m━━━━━━━━━━━━━━━━━━━━\u001b[0m\u001b[37m\u001b[0m \u001b[1m245s\u001b[0m 1s/step - accuracy: 0.7807 - f1_score: 0.7819 - loss: 0.5875 - precision: 0.8457 - recall: 0.7271 - val_accuracy: 0.8263 - val_f1_score: 0.8146 - val_loss: 0.4919 - val_precision: 0.8927 - val_recall: 0.7491\n",
      "Epoch 72/100\n",
      "\u001b[1m236/236\u001b[0m \u001b[32m━━━━━━━━━━━━━━━━━━━━\u001b[0m\u001b[37m\u001b[0m \u001b[1m258s\u001b[0m 1s/step - accuracy: 0.7939 - f1_score: 0.7835 - loss: 0.5610 - precision: 0.8517 - recall: 0.7255 - val_accuracy: 0.8274 - val_f1_score: 0.8247 - val_loss: 0.4626 - val_precision: 0.8825 - val_recall: 0.7740\n",
      "Epoch 73/100\n",
      "\u001b[1m236/236\u001b[0m \u001b[32m━━━━━━━━━━━━━━━━━━━━\u001b[0m\u001b[37m\u001b[0m \u001b[1m245s\u001b[0m 1s/step - accuracy: 0.7941 - f1_score: 0.7904 - loss: 0.5501 - precision: 0.8546 - recall: 0.7352 - val_accuracy: 0.8145 - val_f1_score: 0.8041 - val_loss: 0.4994 - val_precision: 0.8687 - val_recall: 0.7484\n",
      "Epoch 74/100\n",
      "\u001b[1m236/236\u001b[0m \u001b[32m━━━━━━━━━━━━━━━━━━━━\u001b[0m\u001b[37m\u001b[0m \u001b[1m248s\u001b[0m 1s/step - accuracy: 0.7908 - f1_score: 0.7872 - loss: 0.5553 - precision: 0.8479 - recall: 0.7347 - val_accuracy: 0.8174 - val_f1_score: 0.8107 - val_loss: 0.4945 - val_precision: 0.8746 - val_recall: 0.7556\n",
      "Epoch 75/100\n",
      "\u001b[1m236/236\u001b[0m \u001b[32m━━━━━━━━━━━━━━━━━━━━\u001b[0m\u001b[37m\u001b[0m \u001b[1m252s\u001b[0m 1s/step - accuracy: 0.8113 - f1_score: 0.8015 - loss: 0.5340 - precision: 0.8620 - recall: 0.7490 - val_accuracy: 0.8131 - val_f1_score: 0.8113 - val_loss: 0.4955 - val_precision: 0.8648 - val_recall: 0.7641\n",
      "Epoch 76/100\n",
      "\u001b[1m236/236\u001b[0m \u001b[32m━━━━━━━━━━━━━━━━━━━━\u001b[0m\u001b[37m\u001b[0m \u001b[1m222s\u001b[0m 941ms/step - accuracy: 0.7826 - f1_score: 0.7813 - loss: 0.5686 - precision: 0.8473 - recall: 0.7248 - val_accuracy: 0.8322 - val_f1_score: 0.8308 - val_loss: 0.4525 - val_precision: 0.8801 - val_recall: 0.7868\n",
      "Epoch 77/100\n",
      "\u001b[1m236/236\u001b[0m \u001b[32m━━━━━━━━━━━━━━━━━━━━\u001b[0m\u001b[37m\u001b[0m \u001b[1m226s\u001b[0m 957ms/step - accuracy: 0.7929 - f1_score: 0.7897 - loss: 0.5660 - precision: 0.8497 - recall: 0.7377 - val_accuracy: 0.8137 - val_f1_score: 0.8154 - val_loss: 0.4961 - val_precision: 0.8743 - val_recall: 0.7639\n",
      "Epoch 78/100\n",
      "\u001b[1m236/236\u001b[0m \u001b[32m━━━━━━━━━━━━━━━━━━━━\u001b[0m\u001b[37m\u001b[0m \u001b[1m226s\u001b[0m 960ms/step - accuracy: 0.8020 - f1_score: 0.7939 - loss: 0.5273 - precision: 0.8560 - recall: 0.7401 - val_accuracy: 0.7983 - val_f1_score: 0.7944 - val_loss: 0.5414 - val_precision: 0.8574 - val_recall: 0.7400\n",
      "Epoch 79/100\n",
      "\u001b[1m236/236\u001b[0m \u001b[32m━━━━━━━━━━━━━━━━━━━━\u001b[0m\u001b[37m\u001b[0m \u001b[1m225s\u001b[0m 954ms/step - accuracy: 0.8031 - f1_score: 0.7987 - loss: 0.5225 - precision: 0.8567 - recall: 0.7480 - val_accuracy: 0.8266 - val_f1_score: 0.8262 - val_loss: 0.4605 - val_precision: 0.8800 - val_recall: 0.7787\n",
      "Epoch 80/100\n",
      "\u001b[1m236/236\u001b[0m \u001b[32m━━━━━━━━━━━━━━━━━━━━\u001b[0m\u001b[37m\u001b[0m \u001b[1m228s\u001b[0m 967ms/step - accuracy: 0.8062 - f1_score: 0.7967 - loss: 0.5310 - precision: 0.8527 - recall: 0.7476 - val_accuracy: 0.8204 - val_f1_score: 0.8142 - val_loss: 0.4950 - val_precision: 0.8706 - val_recall: 0.7647\n",
      "Epoch 81/100\n",
      "\u001b[1m236/236\u001b[0m \u001b[32m━━━━━━━━━━━━━━━━━━━━\u001b[0m\u001b[37m\u001b[0m \u001b[1m209s\u001b[0m 883ms/step - accuracy: 0.7795 - f1_score: 0.7822 - loss: 0.5685 - precision: 0.8434 - recall: 0.7293 - val_accuracy: 0.8173 - val_f1_score: 0.8130 - val_loss: 0.4969 - val_precision: 0.8713 - val_recall: 0.7621\n",
      "Epoch 82/100\n",
      "\u001b[1m236/236\u001b[0m \u001b[32m━━━━━━━━━━━━━━━━━━━━\u001b[0m\u001b[37m\u001b[0m \u001b[1m255s\u001b[0m 1s/step - accuracy: 0.7961 - f1_score: 0.7962 - loss: 0.5446 - precision: 0.8591 - recall: 0.7419 - val_accuracy: 0.8200 - val_f1_score: 0.8199 - val_loss: 0.4730 - val_precision: 0.8665 - val_recall: 0.7780\n",
      "Epoch 83/100\n",
      "\u001b[1m236/236\u001b[0m \u001b[32m━━━━━━━━━━━━━━━━━━━━\u001b[0m\u001b[37m\u001b[0m \u001b[1m202s\u001b[0m 857ms/step - accuracy: 0.7996 - f1_score: 0.7961 - loss: 0.5328 - precision: 0.8507 - recall: 0.7482 - val_accuracy: 0.8335 - val_f1_score: 0.8305 - val_loss: 0.4444 - val_precision: 0.8870 - val_recall: 0.7808\n",
      "Epoch 84/100\n",
      "\u001b[1m236/236\u001b[0m \u001b[32m━━━━━━━━━━━━━━━━━━━━\u001b[0m\u001b[37m\u001b[0m \u001b[1m237s\u001b[0m 1s/step - accuracy: 0.8016 - f1_score: 0.7982 - loss: 0.5261 - precision: 0.8535 - recall: 0.7497 - val_accuracy: 0.8401 - val_f1_score: 0.8335 - val_loss: 0.4469 - val_precision: 0.8992 - val_recall: 0.7768\n",
      "Epoch 85/100\n",
      "\u001b[1m236/236\u001b[0m \u001b[32m━━━━━━━━━━━━━━━━━━━━\u001b[0m\u001b[37m\u001b[0m \u001b[1m204s\u001b[0m 866ms/step - accuracy: 0.8066 - f1_score: 0.8024 - loss: 0.5160 - precision: 0.8564 - recall: 0.7548 - val_accuracy: 0.8305 - val_f1_score: 0.8294 - val_loss: 0.4561 - val_precision: 0.8855 - val_recall: 0.7800\n",
      "Epoch 86/100\n",
      "\u001b[1m236/236\u001b[0m \u001b[32m━━━━━━━━━━━━━━━━━━━━\u001b[0m\u001b[37m\u001b[0m \u001b[1m214s\u001b[0m 908ms/step - accuracy: 0.8088 - f1_score: 0.8078 - loss: 0.5182 - precision: 0.8617 - recall: 0.7602 - val_accuracy: 0.8379 - val_f1_score: 0.8277 - val_loss: 0.4407 - val_precision: 0.8935 - val_recall: 0.7710\n",
      "Epoch 87/100\n",
      "\u001b[1m236/236\u001b[0m \u001b[32m━━━━━━━━━━━━━━━━━━━━\u001b[0m\u001b[37m\u001b[0m \u001b[1m196s\u001b[0m 831ms/step - accuracy: 0.8156 - f1_score: 0.8131 - loss: 0.5120 - precision: 0.8682 - recall: 0.7645 - val_accuracy: 0.8185 - val_f1_score: 0.8091 - val_loss: 0.4996 - val_precision: 0.8662 - val_recall: 0.7590\n",
      "Epoch 88/100\n",
      "\u001b[1m236/236\u001b[0m \u001b[32m━━━━━━━━━━━━━━━━━━━━\u001b[0m\u001b[37m\u001b[0m \u001b[1m206s\u001b[0m 876ms/step - accuracy: 0.7975 - f1_score: 0.7919 - loss: 0.5359 - precision: 0.8520 - recall: 0.7397 - val_accuracy: 0.8352 - val_f1_score: 0.8326 - val_loss: 0.4344 - val_precision: 0.8794 - val_recall: 0.7906\n",
      "Epoch 89/100\n",
      "\u001b[1m236/236\u001b[0m \u001b[32m━━━━━━━━━━━━━━━━━━━━\u001b[0m\u001b[37m\u001b[0m \u001b[1m173s\u001b[0m 734ms/step - accuracy: 0.8033 - f1_score: 0.7979 - loss: 0.5315 - precision: 0.8481 - recall: 0.7533 - val_accuracy: 0.8388 - val_f1_score: 0.8347 - val_loss: 0.4366 - val_precision: 0.8806 - val_recall: 0.7933\n",
      "Epoch 90/100\n",
      "\u001b[1m236/236\u001b[0m \u001b[32m━━━━━━━━━━━━━━━━━━━━\u001b[0m\u001b[37m\u001b[0m \u001b[1m177s\u001b[0m 751ms/step - accuracy: 0.7967 - f1_score: 0.7983 - loss: 0.5304 - precision: 0.8512 - recall: 0.7517 - val_accuracy: 0.8461 - val_f1_score: 0.8462 - val_loss: 0.4222 - val_precision: 0.8939 - val_recall: 0.8032\n",
      "Epoch 91/100\n",
      "\u001b[1m236/236\u001b[0m \u001b[32m━━━━━━━━━━━━━━━━━━━━\u001b[0m\u001b[37m\u001b[0m \u001b[1m185s\u001b[0m 786ms/step - accuracy: 0.8062 - f1_score: 0.8032 - loss: 0.5212 - precision: 0.8576 - recall: 0.7554 - val_accuracy: 0.8023 - val_f1_score: 0.8004 - val_loss: 0.5447 - val_precision: 0.8409 - val_recall: 0.7635\n",
      "Epoch 92/100\n",
      "\u001b[1m236/236\u001b[0m \u001b[32m━━━━━━━━━━━━━━━━━━━━\u001b[0m\u001b[37m\u001b[0m \u001b[1m187s\u001b[0m 724ms/step - accuracy: 0.8086 - f1_score: 0.8070 - loss: 0.5165 - precision: 0.8628 - recall: 0.7579 - val_accuracy: 0.8517 - val_f1_score: 0.8475 - val_loss: 0.3999 - val_precision: 0.8879 - val_recall: 0.8107\n",
      "Epoch 93/100\n",
      "\u001b[1m236/236\u001b[0m \u001b[32m━━━━━━━━━━━━━━━━━━━━\u001b[0m\u001b[37m\u001b[0m \u001b[1m145s\u001b[0m 612ms/step - accuracy: 0.8143 - f1_score: 0.8109 - loss: 0.5035 - precision: 0.8604 - recall: 0.7667 - val_accuracy: 0.8563 - val_f1_score: 0.8539 - val_loss: 0.3983 - val_precision: 0.8968 - val_recall: 0.8149\n",
      "Epoch 94/100\n",
      "\u001b[1m236/236\u001b[0m \u001b[32m━━━━━━━━━━━━━━━━━━━━\u001b[0m\u001b[37m\u001b[0m \u001b[1m122s\u001b[0m 517ms/step - accuracy: 0.8232 - f1_score: 0.8191 - loss: 0.4922 - precision: 0.8696 - recall: 0.7741 - val_accuracy: 0.8356 - val_f1_score: 0.8296 - val_loss: 0.4511 - val_precision: 0.8789 - val_recall: 0.7856\n",
      "Epoch 95/100\n",
      "\u001b[1m236/236\u001b[0m \u001b[32m━━━━━━━━━━━━━━━━━━━━\u001b[0m\u001b[37m\u001b[0m \u001b[1m120s\u001b[0m 508ms/step - accuracy: 0.8120 - f1_score: 0.8074 - loss: 0.5067 - precision: 0.8535 - recall: 0.7660 - val_accuracy: 0.8504 - val_f1_score: 0.8393 - val_loss: 0.4260 - val_precision: 0.9052 - val_recall: 0.7823\n",
      "Epoch 96/100\n",
      "\u001b[1m236/236\u001b[0m \u001b[32m━━━━━━━━━━━━━━━━━━━━\u001b[0m\u001b[37m\u001b[0m \u001b[1m109s\u001b[0m 463ms/step - accuracy: 0.8105 - f1_score: 0.8082 - loss: 0.5123 - precision: 0.8590 - recall: 0.7631 - val_accuracy: 0.8541 - val_f1_score: 0.8507 - val_loss: 0.4110 - val_precision: 0.9053 - val_recall: 0.8023\n",
      "Epoch 97/100\n",
      "\u001b[1m236/236\u001b[0m \u001b[32m━━━━━━━━━━━━━━━━━━━━\u001b[0m\u001b[37m\u001b[0m \u001b[1m105s\u001b[0m 443ms/step - accuracy: 0.8234 - f1_score: 0.8179 - loss: 0.4876 - precision: 0.8625 - recall: 0.7777 - val_accuracy: 0.8609 - val_f1_score: 0.8609 - val_loss: 0.3992 - val_precision: 0.9113 - val_recall: 0.8157\n",
      "Epoch 98/100\n",
      "\u001b[1m236/236\u001b[0m \u001b[32m━━━━━━━━━━━━━━━━━━━━\u001b[0m\u001b[37m\u001b[0m \u001b[1m98s\u001b[0m 417ms/step - accuracy: 0.8266 - f1_score: 0.8297 - loss: 0.4649 - precision: 0.8772 - recall: 0.7871 - val_accuracy: 0.8558 - val_f1_score: 0.8494 - val_loss: 0.3972 - val_precision: 0.8996 - val_recall: 0.8044\n",
      "Epoch 99/100\n",
      "\u001b[1m236/236\u001b[0m \u001b[32m━━━━━━━━━━━━━━━━━━━━\u001b[0m\u001b[37m\u001b[0m \u001b[1m82s\u001b[0m 348ms/step - accuracy: 0.8154 - f1_score: 0.8152 - loss: 0.5039 - precision: 0.8622 - recall: 0.7730 - val_accuracy: 0.8525 - val_f1_score: 0.8526 - val_loss: 0.4008 - val_precision: 0.8879 - val_recall: 0.8200\n",
      "Epoch 100/100\n",
      "\u001b[1m236/236\u001b[0m \u001b[32m━━━━━━━━━━━━━━━━━━━━\u001b[0m\u001b[37m\u001b[0m \u001b[1m90s\u001b[0m 380ms/step - accuracy: 0.8271 - f1_score: 0.8208 - loss: 0.4686 - precision: 0.8659 - recall: 0.7802 - val_accuracy: 0.8510 - val_f1_score: 0.8440 - val_loss: 0.4208 - val_precision: 0.8946 - val_recall: 0.7989\n"
     ]
    }
   ],
   "source": [
    "# Train the model\n",
    "history = bi_gru_model.fit(\n",
    "    x=training_set,\n",
    "    validation_data=validation_set,\n",
    "    epochs=100\n",
    ")"
   ]
  },
  {
   "cell_type": "code",
   "execution_count": 13,
   "id": "4b6aefde-5d15-489f-831e-7a2dbabd6763",
   "metadata": {},
   "outputs": [],
   "source": [
    "# Save Loss plot\n",
    "plt.figure()\n",
    "plt.plot(history.history['loss'], label='Train Loss')\n",
    "plt.plot(history.history['val_loss'], label='Validation Loss')\n",
    "plt.legend()\n",
    "plt.title(\"Loss\")\n",
    "plt.xlabel('Epochs')\n",
    "plt.ylabel('Loss')\n",
    "plt.savefig('loss_plot_bigru.png')  # Save the plot as a PNG file\n",
    "plt.close()\n",
    "\n",
    "# Save Accuracy plot\n",
    "plt.figure()\n",
    "plt.plot(history.history['accuracy'], label='Train Accuracy')\n",
    "plt.plot(history.history['val_accuracy'], label='Validation Accuracy')\n",
    "plt.legend()\n",
    "plt.title(\"Accuracy\")\n",
    "plt.xlabel('Epochs')\n",
    "plt.ylabel('Accuracy')\n",
    "plt.savefig('accuracy_plot_bigru.png')  # Save the plot as a PNG file\n",
    "plt.close()\n",
    "\n",
    "# Save Precision plot\n",
    "plt.figure()\n",
    "plt.plot(history.history['precision'], label='Train Precision')\n",
    "plt.plot(history.history['val_precision'], label='Validation Precision')\n",
    "plt.legend()\n",
    "plt.title(\"Precision\")\n",
    "plt.xlabel('Epochs')\n",
    "plt.ylabel('Precision')\n",
    "plt.savefig('precision_plot_bigru.png')  # Save the plot as a PNG file\n",
    "plt.close()\n",
    "\n",
    "# Save Recall plot\n",
    "plt.figure()\n",
    "plt.plot(history.history['recall'], label='Train Recall')\n",
    "plt.plot(history.history['val_recall'], label='Validation Recall')\n",
    "plt.legend()\n",
    "plt.title(\"Recall\")\n",
    "plt.xlabel('Epochs')\n",
    "plt.ylabel('Recall')\n",
    "plt.savefig('recall_plot_bigru.png')  # Save the plot as a PNG file\n",
    "plt.close()\n",
    "\n",
    "# Save F1 Score plot\n",
    "plt.figure()\n",
    "plt.plot(history.history['f1_score'], label='Train F1 Score')\n",
    "plt.plot(history.history['val_f1_score'], label='Validation F1 Score')\n",
    "plt.legend()\n",
    "plt.title(\"F1 Score\")\n",
    "plt.xlabel('Epochs')\n",
    "plt.ylabel('F1 Score')\n",
    "plt.savefig('f1_score_plot_bigru.png')  # Save the plot as a PNG file\n",
    "plt.close()"
   ]
  },
  {
   "cell_type": "code",
   "execution_count": 14,
   "id": "feee2168-7b5d-4402-a55c-082b8296523a",
   "metadata": {},
   "outputs": [
    {
     "data": {
      "text/html": [
       "<pre style=\"white-space:pre;overflow-x:auto;line-height:normal;font-family:Menlo,'DejaVu Sans Mono',consolas,'Courier New',monospace\"><span style=\"font-weight: bold\">Model: \"sequential\"</span>\n",
       "</pre>\n"
      ],
      "text/plain": [
       "\u001b[1mModel: \"sequential\"\u001b[0m\n"
      ]
     },
     "metadata": {},
     "output_type": "display_data"
    },
    {
     "data": {
      "text/html": [
       "<pre style=\"white-space:pre;overflow-x:auto;line-height:normal;font-family:Menlo,'DejaVu Sans Mono',consolas,'Courier New',monospace\">┏━━━━━━━━━━━━━━━━━━━━━━━━━━━━━━━━━━━━━━┳━━━━━━━━━━━━━━━━━━━━━━━━━━━━━┳━━━━━━━━━━━━━━━━━┓\n",
       "┃<span style=\"font-weight: bold\"> Layer (type)                         </span>┃<span style=\"font-weight: bold\"> Output Shape                </span>┃<span style=\"font-weight: bold\">         Param # </span>┃\n",
       "┡━━━━━━━━━━━━━━━━━━━━━━━━━━━━━━━━━━━━━━╇━━━━━━━━━━━━━━━━━━━━━━━━━━━━━╇━━━━━━━━━━━━━━━━━┩\n",
       "│ flatten (<span style=\"color: #0087ff; text-decoration-color: #0087ff\">Flatten</span>)                    │ (<span style=\"color: #00d7ff; text-decoration-color: #00d7ff\">None</span>, <span style=\"color: #00af00; text-decoration-color: #00af00\">12288</span>)               │               <span style=\"color: #00af00; text-decoration-color: #00af00\">0</span> │\n",
       "├──────────────────────────────────────┼─────────────────────────────┼─────────────────┤\n",
       "│ reshape (<span style=\"color: #0087ff; text-decoration-color: #0087ff\">Reshape</span>)                    │ (<span style=\"color: #00d7ff; text-decoration-color: #00d7ff\">None</span>, <span style=\"color: #00af00; text-decoration-color: #00af00\">16</span>, <span style=\"color: #00af00; text-decoration-color: #00af00\">768</span>)             │               <span style=\"color: #00af00; text-decoration-color: #00af00\">0</span> │\n",
       "├──────────────────────────────────────┼─────────────────────────────┼─────────────────┤\n",
       "│ bidirectional (<span style=\"color: #0087ff; text-decoration-color: #0087ff\">Bidirectional</span>)        │ (<span style=\"color: #00d7ff; text-decoration-color: #00d7ff\">None</span>, <span style=\"color: #00af00; text-decoration-color: #00af00\">128</span>)                 │         <span style=\"color: #00af00; text-decoration-color: #00af00\">320,256</span> │\n",
       "├──────────────────────────────────────┼─────────────────────────────┼─────────────────┤\n",
       "│ dense (<span style=\"color: #0087ff; text-decoration-color: #0087ff\">Dense</span>)                        │ (<span style=\"color: #00d7ff; text-decoration-color: #00d7ff\">None</span>, <span style=\"color: #00af00; text-decoration-color: #00af00\">128</span>)                 │          <span style=\"color: #00af00; text-decoration-color: #00af00\">16,512</span> │\n",
       "├──────────────────────────────────────┼─────────────────────────────┼─────────────────┤\n",
       "│ dense_1 (<span style=\"color: #0087ff; text-decoration-color: #0087ff\">Dense</span>)                      │ (<span style=\"color: #00d7ff; text-decoration-color: #00d7ff\">None</span>, <span style=\"color: #00af00; text-decoration-color: #00af00\">6</span>)                   │             <span style=\"color: #00af00; text-decoration-color: #00af00\">774</span> │\n",
       "└──────────────────────────────────────┴─────────────────────────────┴─────────────────┘\n",
       "</pre>\n"
      ],
      "text/plain": [
       "┏━━━━━━━━━━━━━━━━━━━━━━━━━━━━━━━━━━━━━━┳━━━━━━━━━━━━━━━━━━━━━━━━━━━━━┳━━━━━━━━━━━━━━━━━┓\n",
       "┃\u001b[1m \u001b[0m\u001b[1mLayer (type)                        \u001b[0m\u001b[1m \u001b[0m┃\u001b[1m \u001b[0m\u001b[1mOutput Shape               \u001b[0m\u001b[1m \u001b[0m┃\u001b[1m \u001b[0m\u001b[1m        Param #\u001b[0m\u001b[1m \u001b[0m┃\n",
       "┡━━━━━━━━━━━━━━━━━━━━━━━━━━━━━━━━━━━━━━╇━━━━━━━━━━━━━━━━━━━━━━━━━━━━━╇━━━━━━━━━━━━━━━━━┩\n",
       "│ flatten (\u001b[38;5;33mFlatten\u001b[0m)                    │ (\u001b[38;5;45mNone\u001b[0m, \u001b[38;5;34m12288\u001b[0m)               │               \u001b[38;5;34m0\u001b[0m │\n",
       "├──────────────────────────────────────┼─────────────────────────────┼─────────────────┤\n",
       "│ reshape (\u001b[38;5;33mReshape\u001b[0m)                    │ (\u001b[38;5;45mNone\u001b[0m, \u001b[38;5;34m16\u001b[0m, \u001b[38;5;34m768\u001b[0m)             │               \u001b[38;5;34m0\u001b[0m │\n",
       "├──────────────────────────────────────┼─────────────────────────────┼─────────────────┤\n",
       "│ bidirectional (\u001b[38;5;33mBidirectional\u001b[0m)        │ (\u001b[38;5;45mNone\u001b[0m, \u001b[38;5;34m128\u001b[0m)                 │         \u001b[38;5;34m320,256\u001b[0m │\n",
       "├──────────────────────────────────────┼─────────────────────────────┼─────────────────┤\n",
       "│ dense (\u001b[38;5;33mDense\u001b[0m)                        │ (\u001b[38;5;45mNone\u001b[0m, \u001b[38;5;34m128\u001b[0m)                 │          \u001b[38;5;34m16,512\u001b[0m │\n",
       "├──────────────────────────────────────┼─────────────────────────────┼─────────────────┤\n",
       "│ dense_1 (\u001b[38;5;33mDense\u001b[0m)                      │ (\u001b[38;5;45mNone\u001b[0m, \u001b[38;5;34m6\u001b[0m)                   │             \u001b[38;5;34m774\u001b[0m │\n",
       "└──────────────────────────────────────┴─────────────────────────────┴─────────────────┘\n"
      ]
     },
     "metadata": {},
     "output_type": "display_data"
    },
    {
     "data": {
      "text/html": [
       "<pre style=\"white-space:pre;overflow-x:auto;line-height:normal;font-family:Menlo,'DejaVu Sans Mono',consolas,'Courier New',monospace\"><span style=\"font-weight: bold\"> Total params: </span><span style=\"color: #00af00; text-decoration-color: #00af00\">1,012,628</span> (3.86 MB)\n",
       "</pre>\n"
      ],
      "text/plain": [
       "\u001b[1m Total params: \u001b[0m\u001b[38;5;34m1,012,628\u001b[0m (3.86 MB)\n"
      ]
     },
     "metadata": {},
     "output_type": "display_data"
    },
    {
     "data": {
      "text/html": [
       "<pre style=\"white-space:pre;overflow-x:auto;line-height:normal;font-family:Menlo,'DejaVu Sans Mono',consolas,'Courier New',monospace\"><span style=\"font-weight: bold\"> Trainable params: </span><span style=\"color: #00af00; text-decoration-color: #00af00\">337,542</span> (1.29 MB)\n",
       "</pre>\n"
      ],
      "text/plain": [
       "\u001b[1m Trainable params: \u001b[0m\u001b[38;5;34m337,542\u001b[0m (1.29 MB)\n"
      ]
     },
     "metadata": {},
     "output_type": "display_data"
    },
    {
     "data": {
      "text/html": [
       "<pre style=\"white-space:pre;overflow-x:auto;line-height:normal;font-family:Menlo,'DejaVu Sans Mono',consolas,'Courier New',monospace\"><span style=\"font-weight: bold\"> Non-trainable params: </span><span style=\"color: #00af00; text-decoration-color: #00af00\">0</span> (0.00 B)\n",
       "</pre>\n"
      ],
      "text/plain": [
       "\u001b[1m Non-trainable params: \u001b[0m\u001b[38;5;34m0\u001b[0m (0.00 B)\n"
      ]
     },
     "metadata": {},
     "output_type": "display_data"
    },
    {
     "data": {
      "text/html": [
       "<pre style=\"white-space:pre;overflow-x:auto;line-height:normal;font-family:Menlo,'DejaVu Sans Mono',consolas,'Courier New',monospace\"><span style=\"font-weight: bold\"> Optimizer params: </span><span style=\"color: #00af00; text-decoration-color: #00af00\">675,086</span> (2.58 MB)\n",
       "</pre>\n"
      ],
      "text/plain": [
       "\u001b[1m Optimizer params: \u001b[0m\u001b[38;5;34m675,086\u001b[0m (2.58 MB)\n"
      ]
     },
     "metadata": {},
     "output_type": "display_data"
    }
   ],
   "source": [
    "bi_gru_model.summary()"
   ]
  },
  {
   "cell_type": "code",
   "execution_count": null,
   "id": "6041a412-211f-4bcf-8fb0-f6af6351120a",
   "metadata": {},
   "outputs": [],
   "source": []
  }
 ],
 "metadata": {
  "kernelspec": {
   "display_name": "Python 3 (ipykernel)",
   "language": "python",
   "name": "python3"
  },
  "language_info": {
   "codemirror_mode": {
    "name": "ipython",
    "version": 3
   },
   "file_extension": ".py",
   "mimetype": "text/x-python",
   "name": "python",
   "nbconvert_exporter": "python",
   "pygments_lexer": "ipython3",
   "version": "3.12.2"
  }
 },
 "nbformat": 4,
 "nbformat_minor": 5
}
