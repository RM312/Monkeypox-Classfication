{
 "cells": [
  {
   "cell_type": "code",
   "execution_count": 1,
   "id": "e086160e-4b08-42ff-90f2-7b3385e30890",
   "metadata": {},
   "outputs": [],
   "source": [
    "import tensorflow as tf\n",
    "from tensorflow.keras.preprocessing.image import ImageDataGenerator\n",
    "import matplotlib.pyplot as plt"
   ]
  },
  {
   "cell_type": "code",
   "execution_count": 2,
   "id": "e2400e01-2573-4e32-b760-f54d54e9e419",
   "metadata": {},
   "outputs": [
    {
     "name": "stdout",
     "output_type": "stream",
     "text": [
      "Found 7336 images belonging to 6 classes.\n"
     ]
    }
   ],
   "source": [
    "# Data Augmentation for Training\n",
    "train_datagen = ImageDataGenerator(rescale=1./255,\n",
    "                                   shear_range=0.2,\n",
    "                                   zoom_range=0.2,\n",
    "                                   horizontal_flip=True)\n",
    "training_set = train_datagen.flow_from_directory(\n",
    "    \"Monkeypox/archive (60)/Augmented Images/Augmented Images/FOLDS_AUG/fold4_AUG/Train/\",\n",
    "    target_size=(64, 64),\n",
    "    batch_size=32,\n",
    "    class_mode='categorical',  # Use 'categorical' for one-hot encoded labels\n",
    ")"
   ]
  },
  {
   "cell_type": "code",
   "execution_count": 3,
   "id": "b1f632eb-8c9c-4c55-be98-47c65e25d604",
   "metadata": {},
   "outputs": [
    {
     "name": "stdout",
     "output_type": "stream",
     "text": [
      "Found 7336 images belonging to 6 classes.\n"
     ]
    }
   ],
   "source": [
    "test_datagen = ImageDataGenerator(rescale=1./255)\n",
    "validation_set = test_datagen.flow_from_directory(\n",
    "    \"Monkeypox/archive (60)/Augmented Images/Augmented Images/FOLDS_AUG/fold4_AUG/Train/\",\n",
    "    target_size=(64, 64),\n",
    "    batch_size=32,\n",
    "    class_mode='categorical',  # Use 'categorical' for one-hot encoded labels\n",
    ")"
   ]
  },
  {
   "cell_type": "code",
   "execution_count": 4,
   "id": "c13a8c2c-2dd4-4125-af4a-4b51c15dad78",
   "metadata": {},
   "outputs": [],
   "source": [
    "# Custom F1 Score Metric\n",
    "class F1Score(tf.keras.metrics.Metric):\n",
    "    def __init__(self, name='f1_score', **kwargs):\n",
    "        super(F1Score, self).__init__(name=name, **kwargs)\n",
    "        self.precision = tf.keras.metrics.Precision()\n",
    "        self.recall = tf.keras.metrics.Recall()\n",
    "\n",
    "    def update_state(self, y_true, y_pred, sample_weight=None):\n",
    "        # Update the precision and recall for each batch\n",
    "        self.precision.update_state(y_true, y_pred, sample_weight)\n",
    "        self.recall.update_state(y_true, y_pred, sample_weight)\n",
    "\n",
    "    def result(self):\n",
    "        # Calculate F1 score as the harmonic mean of precision and recall\n",
    "        precision = self.precision.result()\n",
    "        recall = self.recall.result()\n",
    "        return 2 * (precision * recall) / (precision + recall + tf.keras.backend.epsilon())\n",
    "\n",
    "    def reset_states(self):\n",
    "        self.precision.reset_states()\n",
    "        self.recall.reset_states()"
   ]
  },
  {
   "cell_type": "code",
   "execution_count": 5,
   "id": "3eece15b-bdd7-4a82-844a-414ecb3103f5",
   "metadata": {},
   "outputs": [],
   "source": [
    "# Build the Bi-GRU Model\n",
    "bi_gru_model = tf.keras.models.Sequential()"
   ]
  },
  {
   "cell_type": "code",
   "execution_count": 6,
   "id": "2e880d1c-3aaf-4078-b2c5-cc499b514ef6",
   "metadata": {},
   "outputs": [
    {
     "name": "stderr",
     "output_type": "stream",
     "text": [
      "C:\\Users\\KIIT\\AppData\\Local\\Programs\\Python\\Python312\\Lib\\site-packages\\keras\\src\\layers\\reshaping\\flatten.py:37: UserWarning: Do not pass an `input_shape`/`input_dim` argument to a layer. When using Sequential models, prefer using an `Input(shape)` object as the first layer in the model instead.\n",
      "  super().__init__(**kwargs)\n"
     ]
    }
   ],
   "source": [
    "# Flatten and Reshape for Bi-GRU\n",
    "bi_gru_model.add(tf.keras.layers.Flatten(input_shape=(64, 64, 3)))\n",
    "bi_gru_model.add(tf.keras.layers.Reshape((16, -1)))  # Reshape to (time_steps, features)"
   ]
  },
  {
   "cell_type": "code",
   "execution_count": 7,
   "id": "0971352d-d59f-40a5-80d4-538ff7e13221",
   "metadata": {},
   "outputs": [],
   "source": [
    "# Bidirectional GRU Layer\n",
    "bi_gru_model.add(tf.keras.layers.Bidirectional(tf.keras.layers.GRU(units=64, activation='tanh', return_sequences=False)))"
   ]
  },
  {
   "cell_type": "code",
   "execution_count": 8,
   "id": "0c9163ad-6460-4cf1-8d56-9b1d54dd2005",
   "metadata": {},
   "outputs": [],
   "source": [
    "# Fully Connected Layers\n",
    "bi_gru_model.add(tf.keras.layers.Dense(units=128, activation='relu'))\n",
    "bi_gru_model.add(tf.keras.layers.Dense(6, activation='softmax'))  # 6 classes"
   ]
  },
  {
   "cell_type": "code",
   "execution_count": 9,
   "id": "2d7a3722-17b5-48f3-b595-c310aa65802d",
   "metadata": {},
   "outputs": [],
   "source": [
    "# Compile the model with Precision, Recall, and F1 Score\n",
    "bi_gru_model.compile(\n",
    "    optimizer='adam',\n",
    "    loss='categorical_crossentropy',  # Use categorical_crossentropy for one-hot encoded labels\n",
    "    metrics=[\n",
    "        'accuracy',\n",
    "        tf.keras.metrics.Precision(name='precision'),\n",
    "        tf.keras.metrics.Recall(name='recall'),\n",
    "        F1Score(name='f1_score')  # Add custom F1 score metric\n",
    "    ]\n",
    ")"
   ]
  },
  {
   "cell_type": "code",
   "execution_count": 10,
   "id": "99a53e0a-aa06-446e-8c04-da36349fc9e4",
   "metadata": {},
   "outputs": [
    {
     "name": "stderr",
     "output_type": "stream",
     "text": [
      "C:\\Users\\KIIT\\AppData\\Local\\Programs\\Python\\Python312\\Lib\\site-packages\\keras\\src\\trainers\\data_adapters\\py_dataset_adapter.py:121: UserWarning: Your `PyDataset` class should call `super().__init__(**kwargs)` in its constructor. `**kwargs` can include `workers`, `use_multiprocessing`, `max_queue_size`. Do not pass these arguments to `fit()`, as they will be ignored.\n",
      "  self._warn_if_super_not_called()\n"
     ]
    },
    {
     "name": "stdout",
     "output_type": "stream",
     "text": [
      "Epoch 1/100\n",
      "\u001b[1m230/230\u001b[0m \u001b[32m━━━━━━━━━━━━━━━━━━━━\u001b[0m\u001b[37m\u001b[0m \u001b[1m0s\u001b[0m 701ms/step - accuracy: 0.3476 - f1_score: 0.0768 - loss: 1.6295 - precision: 0.4563 - recall: 0.0430"
     ]
    },
    {
     "name": "stderr",
     "output_type": "stream",
     "text": [
      "C:\\Users\\KIIT\\AppData\\Local\\Programs\\Python\\Python312\\Lib\\site-packages\\keras\\src\\trainers\\data_adapters\\py_dataset_adapter.py:121: UserWarning: Your `PyDataset` class should call `super().__init__(**kwargs)` in its constructor. `**kwargs` can include `workers`, `use_multiprocessing`, `max_queue_size`. Do not pass these arguments to `fit()`, as they will be ignored.\n",
      "  self._warn_if_super_not_called()\n"
     ]
    },
    {
     "name": "stdout",
     "output_type": "stream",
     "text": [
      "\u001b[1m230/230\u001b[0m \u001b[32m━━━━━━━━━━━━━━━━━━━━\u001b[0m\u001b[37m\u001b[0m \u001b[1m268s\u001b[0m 1s/step - accuracy: 0.3477 - f1_score: 0.0768 - loss: 1.6293 - precision: 0.4567 - recall: 0.0430 - val_accuracy: 0.3875 - val_f1_score: 0.0191 - val_loss: 1.5561 - val_precision: 0.7634 - val_recall: 0.0097\n",
      "Epoch 2/100\n",
      "\u001b[1m230/230\u001b[0m \u001b[32m━━━━━━━━━━━━━━━━━━━━\u001b[0m\u001b[37m\u001b[0m \u001b[1m237s\u001b[0m 1s/step - accuracy: 0.3886 - f1_score: 0.1070 - loss: 1.5526 - precision: 0.6171 - recall: 0.0591 - val_accuracy: 0.4095 - val_f1_score: 0.2583 - val_loss: 1.5033 - val_precision: 0.5590 - val_recall: 0.1679\n",
      "Epoch 3/100\n",
      "\u001b[1m230/230\u001b[0m \u001b[32m━━━━━━━━━━━━━━━━━━━━\u001b[0m\u001b[37m\u001b[0m \u001b[1m223s\u001b[0m 972ms/step - accuracy: 0.4280 - f1_score: 0.1821 - loss: 1.4943 - precision: 0.6063 - recall: 0.1074 - val_accuracy: 0.4655 - val_f1_score: 0.1494 - val_loss: 1.4557 - val_precision: 0.6777 - val_recall: 0.0840\n",
      "Epoch 4/100\n",
      "\u001b[1m230/230\u001b[0m \u001b[32m━━━━━━━━━━━━━━━━━━━━\u001b[0m\u001b[37m\u001b[0m \u001b[1m203s\u001b[0m 883ms/step - accuracy: 0.4577 - f1_score: 0.2482 - loss: 1.4353 - precision: 0.6313 - recall: 0.1552 - val_accuracy: 0.4990 - val_f1_score: 0.2697 - val_loss: 1.3513 - val_precision: 0.7413 - val_recall: 0.1648\n",
      "Epoch 5/100\n",
      "\u001b[1m230/230\u001b[0m \u001b[32m━━━━━━━━━━━━━━━━━━━━\u001b[0m\u001b[37m\u001b[0m \u001b[1m229s\u001b[0m 999ms/step - accuracy: 0.4646 - f1_score: 0.2896 - loss: 1.4128 - precision: 0.6363 - recall: 0.1875 - val_accuracy: 0.5074 - val_f1_score: 0.3367 - val_loss: 1.3114 - val_precision: 0.6540 - val_recall: 0.2267\n",
      "Epoch 6/100\n",
      "\u001b[1m230/230\u001b[0m \u001b[32m━━━━━━━━━━━━━━━━━━━━\u001b[0m\u001b[37m\u001b[0m \u001b[1m227s\u001b[0m 988ms/step - accuracy: 0.4872 - f1_score: 0.3426 - loss: 1.3520 - precision: 0.6436 - recall: 0.2337 - val_accuracy: 0.5108 - val_f1_score: 0.3777 - val_loss: 1.3021 - val_precision: 0.6984 - val_recall: 0.2589\n",
      "Epoch 7/100\n",
      "\u001b[1m230/230\u001b[0m \u001b[32m━━━━━━━━━━━━━━━━━━━━\u001b[0m\u001b[37m\u001b[0m \u001b[1m223s\u001b[0m 969ms/step - accuracy: 0.4841 - f1_score: 0.3447 - loss: 1.3615 - precision: 0.6241 - recall: 0.2384 - val_accuracy: 0.5169 - val_f1_score: 0.3966 - val_loss: 1.2557 - val_precision: 0.6944 - val_recall: 0.2775\n",
      "Epoch 8/100\n",
      "\u001b[1m230/230\u001b[0m \u001b[32m━━━━━━━━━━━━━━━━━━━━\u001b[0m\u001b[37m\u001b[0m \u001b[1m232s\u001b[0m 1s/step - accuracy: 0.5249 - f1_score: 0.4187 - loss: 1.2718 - precision: 0.6700 - recall: 0.3046 - val_accuracy: 0.4839 - val_f1_score: 0.4069 - val_loss: 1.3081 - val_precision: 0.6602 - val_recall: 0.2940\n",
      "Epoch 9/100\n",
      "\u001b[1m230/230\u001b[0m \u001b[32m━━━━━━━━━━━━━━━━━━━━\u001b[0m\u001b[37m\u001b[0m \u001b[1m209s\u001b[0m 907ms/step - accuracy: 0.5155 - f1_score: 0.4252 - loss: 1.2640 - precision: 0.6685 - recall: 0.3119 - val_accuracy: 0.5559 - val_f1_score: 0.4445 - val_loss: 1.1929 - val_precision: 0.7331 - val_recall: 0.3190\n",
      "Epoch 10/100\n",
      "\u001b[1m230/230\u001b[0m \u001b[32m━━━━━━━━━━━━━━━━━━━━\u001b[0m\u001b[37m\u001b[0m \u001b[1m247s\u001b[0m 1s/step - accuracy: 0.5330 - f1_score: 0.4543 - loss: 1.2162 - precision: 0.6761 - recall: 0.3421 - val_accuracy: 0.5360 - val_f1_score: 0.4662 - val_loss: 1.2148 - val_precision: 0.6793 - val_recall: 0.3548\n",
      "Epoch 11/100\n",
      "\u001b[1m230/230\u001b[0m \u001b[32m━━━━━━━━━━━━━━━━━━━━\u001b[0m\u001b[37m\u001b[0m \u001b[1m352s\u001b[0m 2s/step - accuracy: 0.5477 - f1_score: 0.4768 - loss: 1.1820 - precision: 0.6909 - recall: 0.3641 - val_accuracy: 0.5688 - val_f1_score: 0.4796 - val_loss: 1.1202 - val_precision: 0.7632 - val_recall: 0.3496\n",
      "Epoch 12/100\n",
      "\u001b[1m230/230\u001b[0m \u001b[32m━━━━━━━━━━━━━━━━━━━━\u001b[0m\u001b[37m\u001b[0m \u001b[1m141s\u001b[0m 610ms/step - accuracy: 0.5580 - f1_score: 0.4809 - loss: 1.1778 - precision: 0.6994 - recall: 0.3666 - val_accuracy: 0.5536 - val_f1_score: 0.4997 - val_loss: 1.1718 - val_precision: 0.6679 - val_recall: 0.3991\n",
      "Epoch 13/100\n",
      "\u001b[1m230/230\u001b[0m \u001b[32m━━━━━━━━━━━━━━━━━━━━\u001b[0m\u001b[37m\u001b[0m \u001b[1m88s\u001b[0m 382ms/step - accuracy: 0.5414 - f1_score: 0.4692 - loss: 1.1694 - precision: 0.6912 - recall: 0.3554 - val_accuracy: 0.5891 - val_f1_score: 0.5169 - val_loss: 1.0963 - val_precision: 0.7333 - val_recall: 0.3991\n",
      "Epoch 14/100\n",
      "\u001b[1m230/230\u001b[0m \u001b[32m━━━━━━━━━━━━━━━━━━━━\u001b[0m\u001b[37m\u001b[0m \u001b[1m117s\u001b[0m 510ms/step - accuracy: 0.5670 - f1_score: 0.5034 - loss: 1.1237 - precision: 0.6931 - recall: 0.3954 - val_accuracy: 0.5902 - val_f1_score: 0.5169 - val_loss: 1.0539 - val_precision: 0.7579 - val_recall: 0.3922\n",
      "Epoch 15/100\n",
      "\u001b[1m230/230\u001b[0m \u001b[32m━━━━━━━━━━━━━━━━━━━━\u001b[0m\u001b[37m\u001b[0m \u001b[1m133s\u001b[0m 578ms/step - accuracy: 0.5773 - f1_score: 0.5147 - loss: 1.0960 - precision: 0.7249 - recall: 0.3991 - val_accuracy: 0.5987 - val_f1_score: 0.5264 - val_loss: 1.0641 - val_precision: 0.7603 - val_recall: 0.4025\n",
      "Epoch 16/100\n",
      "\u001b[1m230/230\u001b[0m \u001b[32m━━━━━━━━━━━━━━━━━━━━\u001b[0m\u001b[37m\u001b[0m \u001b[1m138s\u001b[0m 602ms/step - accuracy: 0.5909 - f1_score: 0.5324 - loss: 1.0720 - precision: 0.7150 - recall: 0.4242 - val_accuracy: 0.6097 - val_f1_score: 0.5353 - val_loss: 1.0114 - val_precision: 0.7751 - val_recall: 0.4088\n",
      "Epoch 17/100\n",
      "\u001b[1m230/230\u001b[0m \u001b[32m━━━━━━━━━━━━━━━━━━━━\u001b[0m\u001b[37m\u001b[0m \u001b[1m139s\u001b[0m 607ms/step - accuracy: 0.6097 - f1_score: 0.5489 - loss: 1.0301 - precision: 0.7357 - recall: 0.4378 - val_accuracy: 0.6234 - val_f1_score: 0.5895 - val_loss: 0.9798 - val_precision: 0.7270 - val_recall: 0.4958\n",
      "Epoch 18/100\n",
      "\u001b[1m230/230\u001b[0m \u001b[32m━━━━━━━━━━━━━━━━━━━━\u001b[0m\u001b[37m\u001b[0m \u001b[1m142s\u001b[0m 608ms/step - accuracy: 0.5910 - f1_score: 0.5404 - loss: 1.0468 - precision: 0.7191 - recall: 0.4330 - val_accuracy: 0.6290 - val_f1_score: 0.5491 - val_loss: 0.9914 - val_precision: 0.7863 - val_recall: 0.4219\n",
      "Epoch 19/100\n",
      "\u001b[1m230/230\u001b[0m \u001b[32m━━━━━━━━━━━━━━━━━━━━\u001b[0m\u001b[37m\u001b[0m \u001b[1m136s\u001b[0m 592ms/step - accuracy: 0.6183 - f1_score: 0.5645 - loss: 1.0118 - precision: 0.7315 - recall: 0.4598 - val_accuracy: 0.6111 - val_f1_score: 0.5321 - val_loss: 1.0131 - val_precision: 0.7604 - val_recall: 0.4092\n",
      "Epoch 20/100\n",
      "\u001b[1m230/230\u001b[0m \u001b[32m━━━━━━━━━━━━━━━━━━━━\u001b[0m\u001b[37m\u001b[0m \u001b[1m136s\u001b[0m 594ms/step - accuracy: 0.5975 - f1_score: 0.5319 - loss: 1.0290 - precision: 0.7171 - recall: 0.4232 - val_accuracy: 0.6257 - val_f1_score: 0.6025 - val_loss: 0.9446 - val_precision: 0.7499 - val_recall: 0.5035\n",
      "Epoch 21/100\n",
      "\u001b[1m230/230\u001b[0m \u001b[32m━━━━━━━━━━━━━━━━━━━━\u001b[0m\u001b[37m\u001b[0m \u001b[1m131s\u001b[0m 571ms/step - accuracy: 0.6244 - f1_score: 0.5775 - loss: 0.9738 - precision: 0.7446 - recall: 0.4718 - val_accuracy: 0.6576 - val_f1_score: 0.6185 - val_loss: 0.8941 - val_precision: 0.7798 - val_recall: 0.5125\n",
      "Epoch 22/100\n",
      "\u001b[1m230/230\u001b[0m \u001b[32m━━━━━━━━━━━━━━━━━━━━\u001b[0m\u001b[37m\u001b[0m \u001b[1m134s\u001b[0m 584ms/step - accuracy: 0.6155 - f1_score: 0.5705 - loss: 0.9786 - precision: 0.7422 - recall: 0.4635 - val_accuracy: 0.6678 - val_f1_score: 0.6401 - val_loss: 0.8615 - val_precision: 0.7820 - val_recall: 0.5418\n",
      "Epoch 23/100\n",
      "\u001b[1m230/230\u001b[0m \u001b[32m━━━━━━━━━━━━━━━━━━━━\u001b[0m\u001b[37m\u001b[0m \u001b[1m141s\u001b[0m 613ms/step - accuracy: 0.6409 - f1_score: 0.5969 - loss: 0.9407 - precision: 0.7517 - recall: 0.4950 - val_accuracy: 0.6350 - val_f1_score: 0.5832 - val_loss: 0.9219 - val_precision: 0.7896 - val_recall: 0.4624\n",
      "Epoch 24/100\n",
      "\u001b[1m230/230\u001b[0m \u001b[32m━━━━━━━━━━━━━━━━━━━━\u001b[0m\u001b[37m\u001b[0m \u001b[1m132s\u001b[0m 573ms/step - accuracy: 0.6378 - f1_score: 0.6030 - loss: 0.9261 - precision: 0.7582 - recall: 0.5007 - val_accuracy: 0.6790 - val_f1_score: 0.6364 - val_loss: 0.8490 - val_precision: 0.8038 - val_recall: 0.5267\n",
      "Epoch 25/100\n",
      "\u001b[1m230/230\u001b[0m \u001b[32m━━━━━━━━━━━━━━━━━━━━\u001b[0m\u001b[37m\u001b[0m \u001b[1m129s\u001b[0m 563ms/step - accuracy: 0.6537 - f1_score: 0.6203 - loss: 0.9106 - precision: 0.7639 - recall: 0.5223 - val_accuracy: 0.6715 - val_f1_score: 0.6493 - val_loss: 0.8342 - val_precision: 0.7840 - val_recall: 0.5541\n",
      "Epoch 26/100\n",
      "\u001b[1m230/230\u001b[0m \u001b[32m━━━━━━━━━━━━━━━━━━━━\u001b[0m\u001b[37m\u001b[0m \u001b[1m133s\u001b[0m 580ms/step - accuracy: 0.6630 - f1_score: 0.6317 - loss: 0.8734 - precision: 0.7700 - recall: 0.5356 - val_accuracy: 0.6618 - val_f1_score: 0.6358 - val_loss: 0.8606 - val_precision: 0.8073 - val_recall: 0.5244\n",
      "Epoch 27/100\n",
      "\u001b[1m230/230\u001b[0m \u001b[32m━━━━━━━━━━━━━━━━━━━━\u001b[0m\u001b[37m\u001b[0m \u001b[1m141s\u001b[0m 614ms/step - accuracy: 0.6622 - f1_score: 0.6226 - loss: 0.8947 - precision: 0.7748 - recall: 0.5204 - val_accuracy: 0.6767 - val_f1_score: 0.6516 - val_loss: 0.8616 - val_precision: 0.7791 - val_recall: 0.5600\n",
      "Epoch 28/100\n",
      "\u001b[1m230/230\u001b[0m \u001b[32m━━━━━━━━━━━━━━━━━━━━\u001b[0m\u001b[37m\u001b[0m \u001b[1m135s\u001b[0m 588ms/step - accuracy: 0.6784 - f1_score: 0.6396 - loss: 0.8496 - precision: 0.7723 - recall: 0.5458 - val_accuracy: 0.6872 - val_f1_score: 0.6442 - val_loss: 0.8208 - val_precision: 0.8158 - val_recall: 0.5323\n",
      "Epoch 29/100\n",
      "\u001b[1m230/230\u001b[0m \u001b[32m━━━━━━━━━━━━━━━━━━━━\u001b[0m\u001b[37m\u001b[0m \u001b[1m135s\u001b[0m 589ms/step - accuracy: 0.6663 - f1_score: 0.6452 - loss: 0.8581 - precision: 0.7854 - recall: 0.5475 - val_accuracy: 0.6795 - val_f1_score: 0.6416 - val_loss: 0.8350 - val_precision: 0.8198 - val_recall: 0.5270\n",
      "Epoch 30/100\n",
      "\u001b[1m230/230\u001b[0m \u001b[32m━━━━━━━━━━━━━━━━━━━━\u001b[0m\u001b[37m\u001b[0m \u001b[1m140s\u001b[0m 610ms/step - accuracy: 0.6735 - f1_score: 0.6460 - loss: 0.8421 - precision: 0.7874 - recall: 0.5478 - val_accuracy: 0.6539 - val_f1_score: 0.6485 - val_loss: 0.8930 - val_precision: 0.7354 - val_recall: 0.5800\n",
      "Epoch 31/100\n",
      "\u001b[1m230/230\u001b[0m \u001b[32m━━━━━━━━━━━━━━━━━━━━\u001b[0m\u001b[37m\u001b[0m \u001b[1m144s\u001b[0m 626ms/step - accuracy: 0.6824 - f1_score: 0.6510 - loss: 0.8342 - precision: 0.7754 - recall: 0.5611 - val_accuracy: 0.7173 - val_f1_score: 0.7029 - val_loss: 0.7503 - val_precision: 0.8122 - val_recall: 0.6195\n",
      "Epoch 32/100\n",
      "\u001b[1m230/230\u001b[0m \u001b[32m━━━━━━━━━━━━━━━━━━━━\u001b[0m\u001b[37m\u001b[0m \u001b[1m173s\u001b[0m 750ms/step - accuracy: 0.6978 - f1_score: 0.6757 - loss: 0.7873 - precision: 0.7994 - recall: 0.5853 - val_accuracy: 0.6972 - val_f1_score: 0.6471 - val_loss: 0.8015 - val_precision: 0.8358 - val_recall: 0.5279\n",
      "Epoch 33/100\n",
      "\u001b[1m230/230\u001b[0m \u001b[32m━━━━━━━━━━━━━━━━━━━━\u001b[0m\u001b[37m\u001b[0m \u001b[1m156s\u001b[0m 675ms/step - accuracy: 0.6839 - f1_score: 0.6572 - loss: 0.8176 - precision: 0.7883 - recall: 0.5637 - val_accuracy: 0.7230 - val_f1_score: 0.7048 - val_loss: 0.7341 - val_precision: 0.8287 - val_recall: 0.6131\n",
      "Epoch 34/100\n",
      "\u001b[1m230/230\u001b[0m \u001b[32m━━━━━━━━━━━━━━━━━━━━\u001b[0m\u001b[37m\u001b[0m \u001b[1m145s\u001b[0m 633ms/step - accuracy: 0.6928 - f1_score: 0.6732 - loss: 0.7863 - precision: 0.8019 - recall: 0.5802 - val_accuracy: 0.6878 - val_f1_score: 0.6886 - val_loss: 0.7934 - val_precision: 0.7319 - val_recall: 0.6501\n",
      "Epoch 35/100\n",
      "\u001b[1m230/230\u001b[0m \u001b[32m━━━━━━━━━━━━━━━━━━━━\u001b[0m\u001b[37m\u001b[0m \u001b[1m162s\u001b[0m 705ms/step - accuracy: 0.7014 - f1_score: 0.6761 - loss: 0.7943 - precision: 0.7823 - recall: 0.5957 - val_accuracy: 0.7380 - val_f1_score: 0.7191 - val_loss: 0.6940 - val_precision: 0.8272 - val_recall: 0.6360\n",
      "Epoch 36/100\n",
      "\u001b[1m230/230\u001b[0m \u001b[32m━━━━━━━━━━━━━━━━━━━━\u001b[0m\u001b[37m\u001b[0m \u001b[1m189s\u001b[0m 825ms/step - accuracy: 0.7085 - f1_score: 0.6944 - loss: 0.7567 - precision: 0.8048 - recall: 0.6106 - val_accuracy: 0.7261 - val_f1_score: 0.7189 - val_loss: 0.7210 - val_precision: 0.7858 - val_recall: 0.6625\n",
      "Epoch 37/100\n",
      "\u001b[1m230/230\u001b[0m \u001b[32m━━━━━━━━━━━━━━━━━━━━\u001b[0m\u001b[37m\u001b[0m \u001b[1m230s\u001b[0m 1s/step - accuracy: 0.7259 - f1_score: 0.7142 - loss: 0.7166 - precision: 0.8096 - recall: 0.6392 - val_accuracy: 0.7253 - val_f1_score: 0.7070 - val_loss: 0.7240 - val_precision: 0.8143 - val_recall: 0.6247\n",
      "Epoch 38/100\n",
      "\u001b[1m230/230\u001b[0m \u001b[32m━━━━━━━━━━━━━━━━━━━━\u001b[0m\u001b[37m\u001b[0m \u001b[1m238s\u001b[0m 1s/step - accuracy: 0.7015 - f1_score: 0.6803 - loss: 0.7724 - precision: 0.7941 - recall: 0.5952 - val_accuracy: 0.7406 - val_f1_score: 0.7198 - val_loss: 0.6864 - val_precision: 0.8464 - val_recall: 0.6262\n",
      "Epoch 39/100\n",
      "\u001b[1m230/230\u001b[0m \u001b[32m━━━━━━━━━━━━━━━━━━━━\u001b[0m\u001b[37m\u001b[0m \u001b[1m166s\u001b[0m 718ms/step - accuracy: 0.7171 - f1_score: 0.7013 - loss: 0.7420 - precision: 0.8084 - recall: 0.6192 - val_accuracy: 0.7522 - val_f1_score: 0.7395 - val_loss: 0.6575 - val_precision: 0.8350 - val_recall: 0.6636\n",
      "Epoch 40/100\n",
      "\u001b[1m230/230\u001b[0m \u001b[32m━━━━━━━━━━━━━━━━━━━━\u001b[0m\u001b[37m\u001b[0m \u001b[1m248s\u001b[0m 1s/step - accuracy: 0.7244 - f1_score: 0.7128 - loss: 0.7150 - precision: 0.8213 - recall: 0.6297 - val_accuracy: 0.7321 - val_f1_score: 0.7179 - val_loss: 0.6803 - val_precision: 0.8261 - val_recall: 0.6347\n",
      "Epoch 41/100\n",
      "\u001b[1m230/230\u001b[0m \u001b[32m━━━━━━━━━━━━━━━━━━━━\u001b[0m\u001b[37m\u001b[0m \u001b[1m244s\u001b[0m 1s/step - accuracy: 0.7278 - f1_score: 0.7122 - loss: 0.7080 - precision: 0.8146 - recall: 0.6327 - val_accuracy: 0.7495 - val_f1_score: 0.7432 - val_loss: 0.6559 - val_precision: 0.8306 - val_recall: 0.6724\n",
      "Epoch 42/100\n",
      "\u001b[1m230/230\u001b[0m \u001b[32m━━━━━━━━━━━━━━━━━━━━\u001b[0m\u001b[37m\u001b[0m \u001b[1m242s\u001b[0m 1s/step - accuracy: 0.7293 - f1_score: 0.7146 - loss: 0.6950 - precision: 0.8091 - recall: 0.6400 - val_accuracy: 0.7634 - val_f1_score: 0.7531 - val_loss: 0.6404 - val_precision: 0.8278 - val_recall: 0.6907\n",
      "Epoch 43/100\n",
      "\u001b[1m230/230\u001b[0m \u001b[32m━━━━━━━━━━━━━━━━━━━━\u001b[0m\u001b[37m\u001b[0m \u001b[1m234s\u001b[0m 1s/step - accuracy: 0.7358 - f1_score: 0.7180 - loss: 0.6960 - precision: 0.8131 - recall: 0.6431 - val_accuracy: 0.7703 - val_f1_score: 0.7535 - val_loss: 0.6184 - val_precision: 0.8650 - val_recall: 0.6674\n",
      "Epoch 44/100\n",
      "\u001b[1m230/230\u001b[0m \u001b[32m━━━━━━━━━━━━━━━━━━━━\u001b[0m\u001b[37m\u001b[0m \u001b[1m242s\u001b[0m 1s/step - accuracy: 0.7342 - f1_score: 0.7181 - loss: 0.7112 - precision: 0.8141 - recall: 0.6425 - val_accuracy: 0.7559 - val_f1_score: 0.7448 - val_loss: 0.6605 - val_precision: 0.8356 - val_recall: 0.6719\n",
      "Epoch 45/100\n",
      "\u001b[1m230/230\u001b[0m \u001b[32m━━━━━━━━━━━━━━━━━━━━\u001b[0m\u001b[37m\u001b[0m \u001b[1m247s\u001b[0m 1s/step - accuracy: 0.7167 - f1_score: 0.7084 - loss: 0.7305 - precision: 0.8076 - recall: 0.6310 - val_accuracy: 0.7613 - val_f1_score: 0.7574 - val_loss: 0.6297 - val_precision: 0.8264 - val_recall: 0.6990\n",
      "Epoch 46/100\n",
      "\u001b[1m230/230\u001b[0m \u001b[32m━━━━━━━━━━━━━━━━━━━━\u001b[0m\u001b[37m\u001b[0m \u001b[1m241s\u001b[0m 1s/step - accuracy: 0.7401 - f1_score: 0.7218 - loss: 0.6944 - precision: 0.8136 - recall: 0.6487 - val_accuracy: 0.7920 - val_f1_score: 0.7824 - val_loss: 0.5711 - val_precision: 0.8794 - val_recall: 0.7047\n",
      "Epoch 47/100\n",
      "\u001b[1m230/230\u001b[0m \u001b[32m━━━━━━━━━━━━━━━━━━━━\u001b[0m\u001b[37m\u001b[0m \u001b[1m216s\u001b[0m 940ms/step - accuracy: 0.7487 - f1_score: 0.7388 - loss: 0.6552 - precision: 0.8300 - recall: 0.6657 - val_accuracy: 0.7639 - val_f1_score: 0.7472 - val_loss: 0.6325 - val_precision: 0.8688 - val_recall: 0.6554\n",
      "Epoch 48/100\n",
      "\u001b[1m230/230\u001b[0m \u001b[32m━━━━━━━━━━━━━━━━━━━━\u001b[0m\u001b[37m\u001b[0m \u001b[1m204s\u001b[0m 886ms/step - accuracy: 0.7440 - f1_score: 0.7320 - loss: 0.6906 - precision: 0.8277 - recall: 0.6562 - val_accuracy: 0.7589 - val_f1_score: 0.7528 - val_loss: 0.6294 - val_precision: 0.8289 - val_recall: 0.6895\n",
      "Epoch 49/100\n",
      "\u001b[1m230/230\u001b[0m \u001b[32m━━━━━━━━━━━━━━━━━━━━\u001b[0m\u001b[37m\u001b[0m \u001b[1m203s\u001b[0m 882ms/step - accuracy: 0.7523 - f1_score: 0.7434 - loss: 0.6575 - precision: 0.8285 - recall: 0.6742 - val_accuracy: 0.7654 - val_f1_score: 0.7569 - val_loss: 0.6123 - val_precision: 0.8340 - val_recall: 0.6929\n",
      "Epoch 50/100\n",
      "\u001b[1m230/230\u001b[0m \u001b[32m━━━━━━━━━━━━━━━━━━━━\u001b[0m\u001b[37m\u001b[0m \u001b[1m223s\u001b[0m 971ms/step - accuracy: 0.7427 - f1_score: 0.7350 - loss: 0.6665 - precision: 0.8248 - recall: 0.6629 - val_accuracy: 0.7683 - val_f1_score: 0.7574 - val_loss: 0.6100 - val_precision: 0.8467 - val_recall: 0.6851\n",
      "Epoch 51/100\n",
      "\u001b[1m230/230\u001b[0m \u001b[32m━━━━━━━━━━━━━━━━━━━━\u001b[0m\u001b[37m\u001b[0m \u001b[1m239s\u001b[0m 1s/step - accuracy: 0.7567 - f1_score: 0.7496 - loss: 0.6469 - precision: 0.8385 - recall: 0.6777 - val_accuracy: 0.8062 - val_f1_score: 0.7909 - val_loss: 0.5495 - val_precision: 0.8815 - val_recall: 0.7171\n",
      "Epoch 52/100\n",
      "\u001b[1m230/230\u001b[0m \u001b[32m━━━━━━━━━━━━━━━━━━━━\u001b[0m\u001b[37m\u001b[0m \u001b[1m267s\u001b[0m 1s/step - accuracy: 0.7678 - f1_score: 0.7544 - loss: 0.6349 - precision: 0.8350 - recall: 0.6879 - val_accuracy: 0.8021 - val_f1_score: 0.7975 - val_loss: 0.5298 - val_precision: 0.8702 - val_recall: 0.7360\n",
      "Epoch 56/100\n",
      "\u001b[1m230/230\u001b[0m \u001b[32m━━━━━━━━━━━━━━━━━━━━\u001b[0m\u001b[37m\u001b[0m \u001b[1m195s\u001b[0m 846ms/step - accuracy: 0.7715 - f1_score: 0.7596 - loss: 0.6081 - precision: 0.8468 - recall: 0.6887 - val_accuracy: 0.7880 - val_f1_score: 0.7786 - val_loss: 0.5689 - val_precision: 0.8621 - val_recall: 0.7099\n",
      "Epoch 57/100\n",
      "\u001b[1m230/230\u001b[0m \u001b[32m━━━━━━━━━━━━━━━━━━━━\u001b[0m\u001b[37m\u001b[0m \u001b[1m260s\u001b[0m 1s/step - accuracy: 0.7819 - f1_score: 0.7720 - loss: 0.5937 - precision: 0.8459 - recall: 0.7100 - val_accuracy: 0.8285 - val_f1_score: 0.8228 - val_loss: 0.4692 - val_precision: 0.8929 - val_recall: 0.7628\n",
      "Epoch 64/100\n",
      "\u001b[1m230/230\u001b[0m \u001b[32m━━━━━━━━━━━━━━━━━━━━\u001b[0m\u001b[37m\u001b[0m \u001b[1m230s\u001b[0m 998ms/step - accuracy: 0.7933 - f1_score: 0.7892 - loss: 0.5530 - precision: 0.8625 - recall: 0.7274 - val_accuracy: 0.8018 - val_f1_score: 0.7967 - val_loss: 0.5233 - val_precision: 0.8741 - val_recall: 0.7319\n",
      "Epoch 65/100\n",
      "\u001b[1m230/230\u001b[0m \u001b[32m━━━━━━━━━━━━━━━━━━━━\u001b[0m\u001b[37m\u001b[0m \u001b[1m226s\u001b[0m 982ms/step - accuracy: 0.7806 - f1_score: 0.7788 - loss: 0.5816 - precision: 0.8471 - recall: 0.7208 - val_accuracy: 0.8292 - val_f1_score: 0.8238 - val_loss: 0.4816 - val_precision: 0.8920 - val_recall: 0.7653\n",
      "Epoch 66/100\n",
      "\u001b[1m230/230\u001b[0m \u001b[32m━━━━━━━━━━━━━━━━━━━━\u001b[0m\u001b[37m\u001b[0m \u001b[1m266s\u001b[0m 1s/step - accuracy: 0.7883 - f1_score: 0.7843 - loss: 0.5713 - precision: 0.8507 - recall: 0.7276 - val_accuracy: 0.8047 - val_f1_score: 0.8011 - val_loss: 0.5203 - val_precision: 0.8731 - val_recall: 0.7400\n",
      "Epoch 67/100\n",
      "\u001b[1m230/230\u001b[0m \u001b[32m━━━━━━━━━━━━━━━━━━━━\u001b[0m\u001b[37m\u001b[0m \u001b[1m250s\u001b[0m 1s/step - accuracy: 0.7845 - f1_score: 0.7729 - loss: 0.5903 - precision: 0.8481 - recall: 0.7100 - val_accuracy: 0.8177 - val_f1_score: 0.8151 - val_loss: 0.4888 - val_precision: 0.8693 - val_recall: 0.7673\n",
      "Epoch 68/100\n",
      "\u001b[1m230/230\u001b[0m \u001b[32m━━━━━━━━━━━━━━━━━━━━\u001b[0m\u001b[37m\u001b[0m \u001b[1m263s\u001b[0m 1s/step - accuracy: 0.7933 - f1_score: 0.7828 - loss: 0.5458 - precision: 0.8535 - recall: 0.7230 - val_accuracy: 0.8370 - val_f1_score: 0.8264 - val_loss: 0.4662 - val_precision: 0.9041 - val_recall: 0.7609\n",
      "Epoch 69/100\n",
      "\u001b[1m230/230\u001b[0m \u001b[32m━━━━━━━━━━━━━━━━━━━━\u001b[0m\u001b[37m\u001b[0m \u001b[1m250s\u001b[0m 1s/step - accuracy: 0.7961 - f1_score: 0.7941 - loss: 0.5372 - precision: 0.8651 - recall: 0.7339 - val_accuracy: 0.8216 - val_f1_score: 0.8198 - val_loss: 0.4801 - val_precision: 0.8953 - val_recall: 0.7561\n",
      "Epoch 70/100\n",
      "\u001b[1m230/230\u001b[0m \u001b[32m━━━━━━━━━━━━━━━━━━━━\u001b[0m\u001b[37m\u001b[0m \u001b[1m257s\u001b[0m 1s/step - accuracy: 0.7975 - f1_score: 0.7928 - loss: 0.5610 - precision: 0.8658 - recall: 0.7313 - val_accuracy: 0.8371 - val_f1_score: 0.8307 - val_loss: 0.4506 - val_precision: 0.8954 - val_recall: 0.7747\n",
      "Epoch 71/100\n",
      "\u001b[1m230/230\u001b[0m \u001b[32m━━━━━━━━━━━━━━━━━━━━\u001b[0m\u001b[37m\u001b[0m \u001b[1m263s\u001b[0m 1s/step - accuracy: 0.7892 - f1_score: 0.7823 - loss: 0.5555 - precision: 0.8419 - recall: 0.7306 - val_accuracy: 0.8177 - val_f1_score: 0.8168 - val_loss: 0.4867 - val_precision: 0.8803 - val_recall: 0.7619\n",
      "Epoch 72/100\n",
      "\u001b[1m230/230\u001b[0m \u001b[32m━━━━━━━━━━━━━━━━━━━━\u001b[0m\u001b[37m\u001b[0m \u001b[1m251s\u001b[0m 1s/step - accuracy: 0.8045 - f1_score: 0.8031 - loss: 0.5198 - precision: 0.8687 - recall: 0.7467 - val_accuracy: 0.8312 - val_f1_score: 0.8237 - val_loss: 0.4688 - val_precision: 0.8921 - val_recall: 0.7650\n",
      "Epoch 73/100\n",
      "\u001b[1m230/230\u001b[0m \u001b[32m━━━━━━━━━━━━━━━━━━━━\u001b[0m\u001b[37m\u001b[0m \u001b[1m249s\u001b[0m 1s/step - accuracy: 0.7973 - f1_score: 0.7874 - loss: 0.5542 - precision: 0.8564 - recall: 0.7287 - val_accuracy: 0.8141 - val_f1_score: 0.8066 - val_loss: 0.5028 - val_precision: 0.8853 - val_recall: 0.7407\n",
      "Epoch 74/100\n",
      "\u001b[1m230/230\u001b[0m \u001b[32m━━━━━━━━━━━━━━━━━━━━\u001b[0m\u001b[37m\u001b[0m \u001b[1m258s\u001b[0m 1s/step - accuracy: 0.8024 - f1_score: 0.7951 - loss: 0.5259 - precision: 0.8578 - recall: 0.7411 - val_accuracy: 0.8154 - val_f1_score: 0.8120 - val_loss: 0.5015 - val_precision: 0.8844 - val_recall: 0.7505\n",
      "Epoch 75/100\n",
      "\u001b[1m230/230\u001b[0m \u001b[32m━━━━━━━━━━━━━━━━━━━━\u001b[0m\u001b[37m\u001b[0m \u001b[1m202s\u001b[0m 878ms/step - accuracy: 0.7947 - f1_score: 0.7903 - loss: 0.5235 - precision: 0.8551 - recall: 0.7348 - val_accuracy: 0.8315 - val_f1_score: 0.8318 - val_loss: 0.4576 - val_precision: 0.8828 - val_recall: 0.7864\n",
      "Epoch 76/100\n",
      "\u001b[1m230/230\u001b[0m \u001b[32m━━━━━━━━━━━━━━━━━━━━\u001b[0m\u001b[37m\u001b[0m \u001b[1m222s\u001b[0m 966ms/step - accuracy: 0.7961 - f1_score: 0.7885 - loss: 0.5578 - precision: 0.8555 - recall: 0.7313 - val_accuracy: 0.8415 - val_f1_score: 0.8406 - val_loss: 0.4343 - val_precision: 0.8959 - val_recall: 0.7917\n",
      "Epoch 77/100\n",
      "\u001b[1m230/230\u001b[0m \u001b[32m━━━━━━━━━━━━━━━━━━━━\u001b[0m\u001b[37m\u001b[0m \u001b[1m226s\u001b[0m 981ms/step - accuracy: 0.8014 - f1_score: 0.7952 - loss: 0.5482 - precision: 0.8600 - recall: 0.7396 - val_accuracy: 0.8477 - val_f1_score: 0.8417 - val_loss: 0.4220 - val_precision: 0.9050 - val_recall: 0.7867\n",
      "Epoch 78/100\n",
      "\u001b[1m230/230\u001b[0m \u001b[32m━━━━━━━━━━━━━━━━━━━━\u001b[0m\u001b[37m\u001b[0m \u001b[1m230s\u001b[0m 1s/step - accuracy: 0.8157 - f1_score: 0.8060 - loss: 0.5116 - precision: 0.8702 - recall: 0.7507 - val_accuracy: 0.8122 - val_f1_score: 0.8111 - val_loss: 0.4948 - val_precision: 0.8669 - val_recall: 0.7620\n",
      "Epoch 79/100\n",
      "\u001b[1m230/230\u001b[0m \u001b[32m━━━━━━━━━━━━━━━━━━━━\u001b[0m\u001b[37m\u001b[0m \u001b[1m238s\u001b[0m 1s/step - accuracy: 0.7921 - f1_score: 0.7874 - loss: 0.5459 - precision: 0.8484 - recall: 0.7346 - val_accuracy: 0.8461 - val_f1_score: 0.8404 - val_loss: 0.4387 - val_precision: 0.9027 - val_recall: 0.7863\n",
      "Epoch 80/100\n",
      "\u001b[1m230/230\u001b[0m \u001b[32m━━━━━━━━━━━━━━━━━━━━\u001b[0m\u001b[37m\u001b[0m \u001b[1m231s\u001b[0m 1s/step - accuracy: 0.8075 - f1_score: 0.8051 - loss: 0.5243 - precision: 0.8651 - recall: 0.7530 - val_accuracy: 0.8475 - val_f1_score: 0.8410 - val_loss: 0.4321 - val_precision: 0.9004 - val_recall: 0.7890\n",
      "Epoch 81/100\n",
      "\u001b[1m230/230\u001b[0m \u001b[32m━━━━━━━━━━━━━━━━━━━━\u001b[0m\u001b[37m\u001b[0m \u001b[1m249s\u001b[0m 1s/step - accuracy: 0.8087 - f1_score: 0.8059 - loss: 0.5125 - precision: 0.8675 - recall: 0.7525 - val_accuracy: 0.8330 - val_f1_score: 0.8255 - val_loss: 0.4594 - val_precision: 0.8949 - val_recall: 0.7661\n",
      "Epoch 82/100\n",
      "\u001b[1m230/230\u001b[0m \u001b[32m━━━━━━━━━━━━━━━━━━━━\u001b[0m\u001b[37m\u001b[0m \u001b[1m224s\u001b[0m 973ms/step - accuracy: 0.8061 - f1_score: 0.8048 - loss: 0.5190 - precision: 0.8627 - recall: 0.7543 - val_accuracy: 0.8458 - val_f1_score: 0.8480 - val_loss: 0.4089 - val_precision: 0.8832 - val_recall: 0.8154\n",
      "Epoch 83/100\n",
      "\u001b[1m230/230\u001b[0m \u001b[32m━━━━━━━━━━━━━━━━━━━━\u001b[0m\u001b[37m\u001b[0m \u001b[1m307s\u001b[0m 1s/step - accuracy: 0.8210 - f1_score: 0.8152 - loss: 0.4967 - precision: 0.8709 - recall: 0.7662 - val_accuracy: 0.8327 - val_f1_score: 0.8281 - val_loss: 0.4618 - val_precision: 0.8858 - val_recall: 0.7774\n",
      "Epoch 84/100\n",
      "\u001b[1m230/230\u001b[0m \u001b[32m━━━━━━━━━━━━━━━━━━━━\u001b[0m\u001b[37m\u001b[0m \u001b[1m224s\u001b[0m 977ms/step - accuracy: 0.8007 - f1_score: 0.8034 - loss: 0.5184 - precision: 0.8653 - recall: 0.7498 - val_accuracy: 0.8277 - val_f1_score: 0.8272 - val_loss: 0.4639 - val_precision: 0.8712 - val_recall: 0.7875\n",
      "Epoch 85/100\n",
      "\u001b[1m230/230\u001b[0m \u001b[32m━━━━━━━━━━━━━━━━━━━━\u001b[0m\u001b[37m\u001b[0m \u001b[1m207s\u001b[0m 902ms/step - accuracy: 0.8001 - f1_score: 0.7949 - loss: 0.5368 - precision: 0.8538 - recall: 0.7436 - val_accuracy: 0.8233 - val_f1_score: 0.8225 - val_loss: 0.4694 - val_precision: 0.8685 - val_recall: 0.7812\n",
      "Epoch 86/100\n",
      "\u001b[1m230/230\u001b[0m \u001b[32m━━━━━━━━━━━━━━━━━━━━\u001b[0m\u001b[37m\u001b[0m \u001b[1m208s\u001b[0m 907ms/step - accuracy: 0.8114 - f1_score: 0.8069 - loss: 0.4971 - precision: 0.8585 - recall: 0.7613 - val_accuracy: 0.8537 - val_f1_score: 0.8503 - val_loss: 0.4029 - val_precision: 0.9038 - val_recall: 0.8028\n",
      "Epoch 87/100\n",
      "\u001b[1m230/230\u001b[0m \u001b[32m━━━━━━━━━━━━━━━━━━━━\u001b[0m\u001b[37m\u001b[0m \u001b[1m188s\u001b[0m 820ms/step - accuracy: 0.8206 - f1_score: 0.8223 - loss: 0.4995 - precision: 0.8792 - recall: 0.7723 - val_accuracy: 0.8454 - val_f1_score: 0.8416 - val_loss: 0.4216 - val_precision: 0.8881 - val_recall: 0.7998\n",
      "Epoch 88/100\n",
      "\u001b[1m230/230\u001b[0m \u001b[32m━━━━━━━━━━━━━━━━━━━━\u001b[0m\u001b[37m\u001b[0m \u001b[1m179s\u001b[0m 777ms/step - accuracy: 0.8158 - f1_score: 0.8107 - loss: 0.4970 - precision: 0.8638 - recall: 0.7638 - val_accuracy: 0.8391 - val_f1_score: 0.8416 - val_loss: 0.4272 - val_precision: 0.8867 - val_recall: 0.8008\n",
      "Epoch 89/100\n",
      "\u001b[1m230/230\u001b[0m \u001b[32m━━━━━━━━━━━━━━━━━━━━\u001b[0m\u001b[37m\u001b[0m \u001b[1m174s\u001b[0m 756ms/step - accuracy: 0.8072 - f1_score: 0.8019 - loss: 0.5221 - precision: 0.8612 - recall: 0.7503 - val_accuracy: 0.8577 - val_f1_score: 0.8573 - val_loss: 0.3883 - val_precision: 0.9051 - val_recall: 0.8142\n",
      "Epoch 90/100\n",
      "\u001b[1m230/230\u001b[0m \u001b[32m━━━━━━━━━━━━━━━━━━━━\u001b[0m\u001b[37m\u001b[0m \u001b[1m177s\u001b[0m 770ms/step - accuracy: 0.8259 - f1_score: 0.8194 - loss: 0.4653 - precision: 0.8707 - recall: 0.7737 - val_accuracy: 0.8396 - val_f1_score: 0.8322 - val_loss: 0.4372 - val_precision: 0.8958 - val_recall: 0.7770\n",
      "Epoch 91/100\n",
      "\u001b[1m230/230\u001b[0m \u001b[32m━━━━━━━━━━━━━━━━━━━━\u001b[0m\u001b[37m\u001b[0m \u001b[1m146s\u001b[0m 635ms/step - accuracy: 0.8151 - f1_score: 0.8137 - loss: 0.4954 - precision: 0.8754 - recall: 0.7603 - val_accuracy: 0.8589 - val_f1_score: 0.8599 - val_loss: 0.3931 - val_precision: 0.8974 - val_recall: 0.8254\n",
      "Epoch 92/100\n",
      "\u001b[1m230/230\u001b[0m \u001b[32m━━━━━━━━━━━━━━━━━━━━\u001b[0m\u001b[37m\u001b[0m \u001b[1m123s\u001b[0m 535ms/step - accuracy: 0.8232 - f1_score: 0.8200 - loss: 0.4675 - precision: 0.8664 - recall: 0.7783 - val_accuracy: 0.8441 - val_f1_score: 0.8427 - val_loss: 0.4184 - val_precision: 0.8859 - val_recall: 0.8034\n",
      "Epoch 93/100\n",
      "\u001b[1m230/230\u001b[0m \u001b[32m━━━━━━━━━━━━━━━━━━━━\u001b[0m\u001b[37m\u001b[0m \u001b[1m120s\u001b[0m 522ms/step - accuracy: 0.8161 - f1_score: 0.8122 - loss: 0.4966 - precision: 0.8686 - recall: 0.7628 - val_accuracy: 0.8764 - val_f1_score: 0.8734 - val_loss: 0.3604 - val_precision: 0.9217 - val_recall: 0.8299\n",
      "Epoch 94/100\n",
      "\u001b[1m230/230\u001b[0m \u001b[32m━━━━━━━━━━━━━━━━━━━━\u001b[0m\u001b[37m\u001b[0m \u001b[1m117s\u001b[0m 508ms/step - accuracy: 0.8312 - f1_score: 0.8277 - loss: 0.4617 - precision: 0.8794 - recall: 0.7818 - val_accuracy: 0.8336 - val_f1_score: 0.8306 - val_loss: 0.4626 - val_precision: 0.8760 - val_recall: 0.7897\n",
      "Epoch 95/100\n",
      "\u001b[1m230/230\u001b[0m \u001b[32m━━━━━━━━━━━━━━━━━━━━\u001b[0m\u001b[37m\u001b[0m \u001b[1m109s\u001b[0m 473ms/step - accuracy: 0.8285 - f1_score: 0.8256 - loss: 0.4694 - precision: 0.8774 - recall: 0.7797 - val_accuracy: 0.8533 - val_f1_score: 0.8521 - val_loss: 0.3895 - val_precision: 0.8925 - val_recall: 0.8152\n",
      "Epoch 96/100\n",
      "\u001b[1m230/230\u001b[0m \u001b[32m━━━━━━━━━━━━━━━━━━━━\u001b[0m\u001b[37m\u001b[0m \u001b[1m103s\u001b[0m 449ms/step - accuracy: 0.8382 - f1_score: 0.8351 - loss: 0.4384 - precision: 0.8811 - recall: 0.7937 - val_accuracy: 0.8616 - val_f1_score: 0.8585 - val_loss: 0.3955 - val_precision: 0.9088 - val_recall: 0.8135\n",
      "Epoch 97/100\n",
      "\u001b[1m230/230\u001b[0m \u001b[32m━━━━━━━━━━━━━━━━━━━━\u001b[0m\u001b[37m\u001b[0m \u001b[1m96s\u001b[0m 416ms/step - accuracy: 0.8281 - f1_score: 0.8226 - loss: 0.4734 - precision: 0.8723 - recall: 0.7783 - val_accuracy: 0.8614 - val_f1_score: 0.8619 - val_loss: 0.3730 - val_precision: 0.9042 - val_recall: 0.8233\n",
      "Epoch 98/100\n",
      "\u001b[1m230/230\u001b[0m \u001b[32m━━━━━━━━━━━━━━━━━━━━\u001b[0m\u001b[37m\u001b[0m \u001b[1m88s\u001b[0m 382ms/step - accuracy: 0.8275 - f1_score: 0.8241 - loss: 0.4620 - precision: 0.8722 - recall: 0.7811 - val_accuracy: 0.8664 - val_f1_score: 0.8709 - val_loss: 0.3680 - val_precision: 0.9216 - val_recall: 0.8255\n",
      "Epoch 99/100\n",
      "\u001b[1m230/230\u001b[0m \u001b[32m━━━━━━━━━━━━━━━━━━━━\u001b[0m\u001b[37m\u001b[0m \u001b[1m64s\u001b[0m 280ms/step - accuracy: 0.8211 - f1_score: 0.8181 - loss: 0.4716 - precision: 0.8737 - recall: 0.7693 - val_accuracy: 0.8300 - val_f1_score: 0.8264 - val_loss: 0.4515 - val_precision: 0.8715 - val_recall: 0.7857\n",
      "Epoch 100/100\n",
      "\u001b[1m230/230\u001b[0m \u001b[32m━━━━━━━━━━━━━━━━━━━━\u001b[0m\u001b[37m\u001b[0m \u001b[1m54s\u001b[0m 236ms/step - accuracy: 0.8338 - f1_score: 0.8295 - loss: 0.4583 - precision: 0.8805 - recall: 0.7842 - val_accuracy: 0.8558 - val_f1_score: 0.8569 - val_loss: 0.3886 - val_precision: 0.8974 - val_recall: 0.8199\n"
     ]
    }
   ],
   "source": [
    "# Train the model\n",
    "history = bi_gru_model.fit(\n",
    "    x=training_set,\n",
    "    validation_data=validation_set,\n",
    "    epochs=100\n",
    ")"
   ]
  },
  {
   "cell_type": "code",
   "execution_count": 11,
   "id": "c7ef386e-a346-470e-8b3e-38f9709f56bf",
   "metadata": {},
   "outputs": [],
   "source": [
    "# Save Loss plot\n",
    "plt.figure()\n",
    "plt.plot(history.history['loss'], label='Train Loss')\n",
    "plt.plot(history.history['val_loss'], label='Validation Loss')\n",
    "plt.legend()\n",
    "plt.title(\"Loss\")\n",
    "plt.xlabel('Epochs')\n",
    "plt.ylabel('Loss')\n",
    "plt.savefig('loss_plot_bigru.png')  # Save the plot as a PNG file\n",
    "plt.close()\n",
    "\n",
    "# Save Accuracy plot\n",
    "plt.figure()\n",
    "plt.plot(history.history['accuracy'], label='Train Accuracy')\n",
    "plt.plot(history.history['val_accuracy'], label='Validation Accuracy')\n",
    "plt.legend()\n",
    "plt.title(\"Accuracy\")\n",
    "plt.xlabel('Epochs')\n",
    "plt.ylabel('Accuracy')\n",
    "plt.savefig('accuracy_plot_bigru.png')  # Save the plot as a PNG file\n",
    "plt.close()\n",
    "\n",
    "# Save Precision plot\n",
    "plt.figure()\n",
    "plt.plot(history.history['precision'], label='Train Precision')\n",
    "plt.plot(history.history['val_precision'], label='Validation Precision')\n",
    "plt.legend()\n",
    "plt.title(\"Precision\")\n",
    "plt.xlabel('Epochs')\n",
    "plt.ylabel('Precision')\n",
    "plt.savefig('precision_plot_bigru.png')  # Save the plot as a PNG file\n",
    "plt.close()\n",
    "\n",
    "# Save Recall plot\n",
    "plt.figure()\n",
    "plt.plot(history.history['recall'], label='Train Recall')\n",
    "plt.plot(history.history['val_recall'], label='Validation Recall')\n",
    "plt.legend()\n",
    "plt.title(\"Recall\")\n",
    "plt.xlabel('Epochs')\n",
    "plt.ylabel('Recall')\n",
    "plt.savefig('recall_plot_bigru.png')  # Save the plot as a PNG file\n",
    "plt.close()\n",
    "\n",
    "# Save F1 Score plot\n",
    "plt.figure()\n",
    "plt.plot(history.history['f1_score'], label='Train F1 Score')\n",
    "plt.plot(history.history['val_f1_score'], label='Validation F1 Score')\n",
    "plt.legend()\n",
    "plt.title(\"F1 Score\")\n",
    "plt.xlabel('Epochs')\n",
    "plt.ylabel('F1 Score')\n",
    "plt.savefig('f1_score_plot_bigru.png')  # Save the plot as a PNG file\n",
    "plt.close()"
   ]
  },
  {
   "cell_type": "code",
   "execution_count": 12,
   "id": "64b0b7a2-4843-4b4f-b856-8fa782dc783a",
   "metadata": {},
   "outputs": [
    {
     "data": {
      "text/html": [
       "<pre style=\"white-space:pre;overflow-x:auto;line-height:normal;font-family:Menlo,'DejaVu Sans Mono',consolas,'Courier New',monospace\"><span style=\"font-weight: bold\">Model: \"sequential\"</span>\n",
       "</pre>\n"
      ],
      "text/plain": [
       "\u001b[1mModel: \"sequential\"\u001b[0m\n"
      ]
     },
     "metadata": {},
     "output_type": "display_data"
    },
    {
     "data": {
      "text/html": [
       "<pre style=\"white-space:pre;overflow-x:auto;line-height:normal;font-family:Menlo,'DejaVu Sans Mono',consolas,'Courier New',monospace\">┏━━━━━━━━━━━━━━━━━━━━━━━━━━━━━━━━━━━━━━┳━━━━━━━━━━━━━━━━━━━━━━━━━━━━━┳━━━━━━━━━━━━━━━━━┓\n",
       "┃<span style=\"font-weight: bold\"> Layer (type)                         </span>┃<span style=\"font-weight: bold\"> Output Shape                </span>┃<span style=\"font-weight: bold\">         Param # </span>┃\n",
       "┡━━━━━━━━━━━━━━━━━━━━━━━━━━━━━━━━━━━━━━╇━━━━━━━━━━━━━━━━━━━━━━━━━━━━━╇━━━━━━━━━━━━━━━━━┩\n",
       "│ flatten (<span style=\"color: #0087ff; text-decoration-color: #0087ff\">Flatten</span>)                    │ (<span style=\"color: #00d7ff; text-decoration-color: #00d7ff\">None</span>, <span style=\"color: #00af00; text-decoration-color: #00af00\">12288</span>)               │               <span style=\"color: #00af00; text-decoration-color: #00af00\">0</span> │\n",
       "├──────────────────────────────────────┼─────────────────────────────┼─────────────────┤\n",
       "│ reshape (<span style=\"color: #0087ff; text-decoration-color: #0087ff\">Reshape</span>)                    │ (<span style=\"color: #00d7ff; text-decoration-color: #00d7ff\">None</span>, <span style=\"color: #00af00; text-decoration-color: #00af00\">16</span>, <span style=\"color: #00af00; text-decoration-color: #00af00\">768</span>)             │               <span style=\"color: #00af00; text-decoration-color: #00af00\">0</span> │\n",
       "├──────────────────────────────────────┼─────────────────────────────┼─────────────────┤\n",
       "│ bidirectional (<span style=\"color: #0087ff; text-decoration-color: #0087ff\">Bidirectional</span>)        │ (<span style=\"color: #00d7ff; text-decoration-color: #00d7ff\">None</span>, <span style=\"color: #00af00; text-decoration-color: #00af00\">128</span>)                 │         <span style=\"color: #00af00; text-decoration-color: #00af00\">320,256</span> │\n",
       "├──────────────────────────────────────┼─────────────────────────────┼─────────────────┤\n",
       "│ dense (<span style=\"color: #0087ff; text-decoration-color: #0087ff\">Dense</span>)                        │ (<span style=\"color: #00d7ff; text-decoration-color: #00d7ff\">None</span>, <span style=\"color: #00af00; text-decoration-color: #00af00\">128</span>)                 │          <span style=\"color: #00af00; text-decoration-color: #00af00\">16,512</span> │\n",
       "├──────────────────────────────────────┼─────────────────────────────┼─────────────────┤\n",
       "│ dense_1 (<span style=\"color: #0087ff; text-decoration-color: #0087ff\">Dense</span>)                      │ (<span style=\"color: #00d7ff; text-decoration-color: #00d7ff\">None</span>, <span style=\"color: #00af00; text-decoration-color: #00af00\">6</span>)                   │             <span style=\"color: #00af00; text-decoration-color: #00af00\">774</span> │\n",
       "└──────────────────────────────────────┴─────────────────────────────┴─────────────────┘\n",
       "</pre>\n"
      ],
      "text/plain": [
       "┏━━━━━━━━━━━━━━━━━━━━━━━━━━━━━━━━━━━━━━┳━━━━━━━━━━━━━━━━━━━━━━━━━━━━━┳━━━━━━━━━━━━━━━━━┓\n",
       "┃\u001b[1m \u001b[0m\u001b[1mLayer (type)                        \u001b[0m\u001b[1m \u001b[0m┃\u001b[1m \u001b[0m\u001b[1mOutput Shape               \u001b[0m\u001b[1m \u001b[0m┃\u001b[1m \u001b[0m\u001b[1m        Param #\u001b[0m\u001b[1m \u001b[0m┃\n",
       "┡━━━━━━━━━━━━━━━━━━━━━━━━━━━━━━━━━━━━━━╇━━━━━━━━━━━━━━━━━━━━━━━━━━━━━╇━━━━━━━━━━━━━━━━━┩\n",
       "│ flatten (\u001b[38;5;33mFlatten\u001b[0m)                    │ (\u001b[38;5;45mNone\u001b[0m, \u001b[38;5;34m12288\u001b[0m)               │               \u001b[38;5;34m0\u001b[0m │\n",
       "├──────────────────────────────────────┼─────────────────────────────┼─────────────────┤\n",
       "│ reshape (\u001b[38;5;33mReshape\u001b[0m)                    │ (\u001b[38;5;45mNone\u001b[0m, \u001b[38;5;34m16\u001b[0m, \u001b[38;5;34m768\u001b[0m)             │               \u001b[38;5;34m0\u001b[0m │\n",
       "├──────────────────────────────────────┼─────────────────────────────┼─────────────────┤\n",
       "│ bidirectional (\u001b[38;5;33mBidirectional\u001b[0m)        │ (\u001b[38;5;45mNone\u001b[0m, \u001b[38;5;34m128\u001b[0m)                 │         \u001b[38;5;34m320,256\u001b[0m │\n",
       "├──────────────────────────────────────┼─────────────────────────────┼─────────────────┤\n",
       "│ dense (\u001b[38;5;33mDense\u001b[0m)                        │ (\u001b[38;5;45mNone\u001b[0m, \u001b[38;5;34m128\u001b[0m)                 │          \u001b[38;5;34m16,512\u001b[0m │\n",
       "├──────────────────────────────────────┼─────────────────────────────┼─────────────────┤\n",
       "│ dense_1 (\u001b[38;5;33mDense\u001b[0m)                      │ (\u001b[38;5;45mNone\u001b[0m, \u001b[38;5;34m6\u001b[0m)                   │             \u001b[38;5;34m774\u001b[0m │\n",
       "└──────────────────────────────────────┴─────────────────────────────┴─────────────────┘\n"
      ]
     },
     "metadata": {},
     "output_type": "display_data"
    },
    {
     "data": {
      "text/html": [
       "<pre style=\"white-space:pre;overflow-x:auto;line-height:normal;font-family:Menlo,'DejaVu Sans Mono',consolas,'Courier New',monospace\"><span style=\"font-weight: bold\"> Total params: </span><span style=\"color: #00af00; text-decoration-color: #00af00\">1,012,628</span> (3.86 MB)\n",
       "</pre>\n"
      ],
      "text/plain": [
       "\u001b[1m Total params: \u001b[0m\u001b[38;5;34m1,012,628\u001b[0m (3.86 MB)\n"
      ]
     },
     "metadata": {},
     "output_type": "display_data"
    },
    {
     "data": {
      "text/html": [
       "<pre style=\"white-space:pre;overflow-x:auto;line-height:normal;font-family:Menlo,'DejaVu Sans Mono',consolas,'Courier New',monospace\"><span style=\"font-weight: bold\"> Trainable params: </span><span style=\"color: #00af00; text-decoration-color: #00af00\">337,542</span> (1.29 MB)\n",
       "</pre>\n"
      ],
      "text/plain": [
       "\u001b[1m Trainable params: \u001b[0m\u001b[38;5;34m337,542\u001b[0m (1.29 MB)\n"
      ]
     },
     "metadata": {},
     "output_type": "display_data"
    },
    {
     "data": {
      "text/html": [
       "<pre style=\"white-space:pre;overflow-x:auto;line-height:normal;font-family:Menlo,'DejaVu Sans Mono',consolas,'Courier New',monospace\"><span style=\"font-weight: bold\"> Non-trainable params: </span><span style=\"color: #00af00; text-decoration-color: #00af00\">0</span> (0.00 B)\n",
       "</pre>\n"
      ],
      "text/plain": [
       "\u001b[1m Non-trainable params: \u001b[0m\u001b[38;5;34m0\u001b[0m (0.00 B)\n"
      ]
     },
     "metadata": {},
     "output_type": "display_data"
    },
    {
     "data": {
      "text/html": [
       "<pre style=\"white-space:pre;overflow-x:auto;line-height:normal;font-family:Menlo,'DejaVu Sans Mono',consolas,'Courier New',monospace\"><span style=\"font-weight: bold\"> Optimizer params: </span><span style=\"color: #00af00; text-decoration-color: #00af00\">675,086</span> (2.58 MB)\n",
       "</pre>\n"
      ],
      "text/plain": [
       "\u001b[1m Optimizer params: \u001b[0m\u001b[38;5;34m675,086\u001b[0m (2.58 MB)\n"
      ]
     },
     "metadata": {},
     "output_type": "display_data"
    }
   ],
   "source": [
    "bi_gru_model.summary()"
   ]
  },
  {
   "cell_type": "code",
   "execution_count": null,
   "id": "d281ad32-e4ed-4056-9ecc-75ad23c5fc31",
   "metadata": {},
   "outputs": [],
   "source": []
  }
 ],
 "metadata": {
  "kernelspec": {
   "display_name": "Python 3 (ipykernel)",
   "language": "python",
   "name": "python3"
  },
  "language_info": {
   "codemirror_mode": {
    "name": "ipython",
    "version": 3
   },
   "file_extension": ".py",
   "mimetype": "text/x-python",
   "name": "python",
   "nbconvert_exporter": "python",
   "pygments_lexer": "ipython3",
   "version": "3.12.2"
  }
 },
 "nbformat": 4,
 "nbformat_minor": 5
}
