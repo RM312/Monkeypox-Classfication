{
 "cells": [
  {
   "cell_type": "code",
   "execution_count": 1,
   "id": "9b8ef8a9-ab6e-47c5-9e36-6a1f1a6e8d85",
   "metadata": {},
   "outputs": [],
   "source": [
    "import tensorflow as tf\n",
    "from tensorflow.keras.preprocessing.image import ImageDataGenerator\n",
    "import matplotlib.pyplot as plt"
   ]
  },
  {
   "cell_type": "code",
   "execution_count": 2,
   "id": "fc0ee2e3-7978-40c3-8504-7f971b641051",
   "metadata": {},
   "outputs": [
    {
     "name": "stdout",
     "output_type": "stream",
     "text": [
      "Found 7532 images belonging to 6 classes.\n"
     ]
    }
   ],
   "source": [
    "# Data Augmentation for Training\n",
    "train_datagen = ImageDataGenerator(rescale=1./255,\n",
    "                                   shear_range=0.2,\n",
    "                                   zoom_range=0.2,\n",
    "                                   horizontal_flip=True)\n",
    "training_set = train_datagen.flow_from_directory(\n",
    "    \"Monkeypox/archive (60)/Augmented Images/Augmented Images/FOLDS_AUG/fold5_AUG/Train/\",\n",
    "    target_size=(64, 64),\n",
    "    batch_size=32,\n",
    "    class_mode='categorical',  # Use 'categorical' for one-hot encoded labels\n",
    ")"
   ]
  },
  {
   "cell_type": "code",
   "execution_count": 3,
   "id": "933d528d-73c4-480c-90ff-927bd274fe33",
   "metadata": {},
   "outputs": [
    {
     "name": "stdout",
     "output_type": "stream",
     "text": [
      "Found 7532 images belonging to 6 classes.\n"
     ]
    }
   ],
   "source": [
    "test_datagen = ImageDataGenerator(rescale=1./255)\n",
    "validation_set = test_datagen.flow_from_directory(\n",
    "    \"Monkeypox/archive (60)/Augmented Images/Augmented Images/FOLDS_AUG/fold5_AUG/Train/\",\n",
    "    target_size=(64, 64),\n",
    "    batch_size=32,\n",
    "    class_mode='categorical',  # Use 'categorical' for one-hot encoded labels\n",
    ")"
   ]
  },
  {
   "cell_type": "code",
   "execution_count": 4,
   "id": "16603fd4-be73-46af-b375-ab1a154a9161",
   "metadata": {},
   "outputs": [],
   "source": [
    "# Custom F1 Score Metric\n",
    "class F1Score(tf.keras.metrics.Metric):\n",
    "    def __init__(self, name='f1_score', **kwargs):\n",
    "        super(F1Score, self).__init__(name=name, **kwargs)\n",
    "        self.precision = tf.keras.metrics.Precision()\n",
    "        self.recall = tf.keras.metrics.Recall()\n",
    "\n",
    "    def update_state(self, y_true, y_pred, sample_weight=None):\n",
    "        # Update the precision and recall for each batch\n",
    "        self.precision.update_state(y_true, y_pred, sample_weight)\n",
    "        self.recall.update_state(y_true, y_pred, sample_weight)\n",
    "\n",
    "    def result(self):\n",
    "        # Calculate F1 score as the harmonic mean of precision and recall\n",
    "        precision = self.precision.result()\n",
    "        recall = self.recall.result()\n",
    "        return 2 * (precision * recall) / (precision + recall + tf.keras.backend.epsilon())\n",
    "\n",
    "    def reset_states(self):\n",
    "        self.precision.reset_states()\n",
    "        self.recall.reset_states()"
   ]
  },
  {
   "cell_type": "code",
   "execution_count": 5,
   "id": "0291e12c-6645-486f-a1b7-983d1becf007",
   "metadata": {},
   "outputs": [],
   "source": [
    "# Build the Bi-GRU Model\n",
    "bi_gru_model = tf.keras.models.Sequential()"
   ]
  },
  {
   "cell_type": "code",
   "execution_count": 6,
   "id": "516f117a-a760-49bf-be49-f380de81a0c3",
   "metadata": {},
   "outputs": [
    {
     "name": "stderr",
     "output_type": "stream",
     "text": [
      "C:\\Users\\KIIT\\AppData\\Local\\Programs\\Python\\Python312\\Lib\\site-packages\\keras\\src\\layers\\reshaping\\flatten.py:37: UserWarning: Do not pass an `input_shape`/`input_dim` argument to a layer. When using Sequential models, prefer using an `Input(shape)` object as the first layer in the model instead.\n",
      "  super().__init__(**kwargs)\n"
     ]
    }
   ],
   "source": [
    "# Flatten and Reshape for Bi-GRU\n",
    "bi_gru_model.add(tf.keras.layers.Flatten(input_shape=(64, 64, 3)))\n",
    "bi_gru_model.add(tf.keras.layers.Reshape((16, -1)))  # Reshape to (time_steps, features)"
   ]
  },
  {
   "cell_type": "code",
   "execution_count": 7,
   "id": "72ff348d-22f6-465e-82b1-ed77153c46d6",
   "metadata": {},
   "outputs": [],
   "source": [
    "# Bidirectional GRU Layer\n",
    "bi_gru_model.add(tf.keras.layers.Bidirectional(tf.keras.layers.GRU(units=64, activation='tanh', return_sequences=False)))"
   ]
  },
  {
   "cell_type": "code",
   "execution_count": 8,
   "id": "0477d882-bf59-4e2c-80d3-f29c39e7a19f",
   "metadata": {},
   "outputs": [],
   "source": [
    "# Fully Connected Layers\n",
    "bi_gru_model.add(tf.keras.layers.Dense(units=128, activation='relu'))\n",
    "bi_gru_model.add(tf.keras.layers.Dense(6, activation='softmax'))  # 6 classes"
   ]
  },
  {
   "cell_type": "code",
   "execution_count": 9,
   "id": "87a1139b-c9eb-44c3-917e-f9dc3986f650",
   "metadata": {},
   "outputs": [],
   "source": [
    "# Compile the model with Precision, Recall, and F1 Score\n",
    "bi_gru_model.compile(\n",
    "    optimizer='adam',\n",
    "    loss='categorical_crossentropy',  # Use categorical_crossentropy for one-hot encoded labels\n",
    "    metrics=[\n",
    "        'accuracy',\n",
    "        tf.keras.metrics.Precision(name='precision'),\n",
    "        tf.keras.metrics.Recall(name='recall'),\n",
    "        F1Score(name='f1_score')  # Add custom F1 score metric\n",
    "    ]\n",
    ")"
   ]
  },
  {
   "cell_type": "code",
   "execution_count": 10,
   "id": "2ea45285-5775-45c2-839c-1fa402da491c",
   "metadata": {},
   "outputs": [
    {
     "name": "stderr",
     "output_type": "stream",
     "text": [
      "C:\\Users\\KIIT\\AppData\\Local\\Programs\\Python\\Python312\\Lib\\site-packages\\keras\\src\\trainers\\data_adapters\\py_dataset_adapter.py:121: UserWarning: Your `PyDataset` class should call `super().__init__(**kwargs)` in its constructor. `**kwargs` can include `workers`, `use_multiprocessing`, `max_queue_size`. Do not pass these arguments to `fit()`, as they will be ignored.\n",
      "  self._warn_if_super_not_called()\n"
     ]
    },
    {
     "name": "stdout",
     "output_type": "stream",
     "text": [
      "Epoch 1/100\n",
      "\u001b[1m236/236\u001b[0m \u001b[32m━━━━━━━━━━━━━━━━━━━━\u001b[0m\u001b[37m\u001b[0m \u001b[1m0s\u001b[0m 631ms/step - accuracy: 0.3957 - f1_score: 0.1424 - loss: 1.5850 - precision: 0.5133 - recall: 0.0830"
     ]
    },
    {
     "name": "stderr",
     "output_type": "stream",
     "text": [
      "C:\\Users\\KIIT\\AppData\\Local\\Programs\\Python\\Python312\\Lib\\site-packages\\keras\\src\\trainers\\data_adapters\\py_dataset_adapter.py:121: UserWarning: Your `PyDataset` class should call `super().__init__(**kwargs)` in its constructor. `**kwargs` can include `workers`, `use_multiprocessing`, `max_queue_size`. Do not pass these arguments to `fit()`, as they will be ignored.\n",
      "  self._warn_if_super_not_called()\n"
     ]
    },
    {
     "name": "stdout",
     "output_type": "stream",
     "text": [
      "\u001b[1m236/236\u001b[0m \u001b[32m━━━━━━━━━━━━━━━━━━━━\u001b[0m\u001b[37m\u001b[0m \u001b[1m255s\u001b[0m 937ms/step - accuracy: 0.3957 - f1_score: 0.1424 - loss: 1.5849 - precision: 0.5134 - recall: 0.0830 - val_accuracy: 0.4093 - val_f1_score: 0.2079 - val_loss: 1.5195 - val_precision: 0.6260 - val_recall: 0.1247\n",
      "Epoch 2/100\n",
      "\u001b[1m236/236\u001b[0m \u001b[32m━━━━━━━━━━━━━━━━━━━━\u001b[0m\u001b[37m\u001b[0m \u001b[1m223s\u001b[0m 945ms/step - accuracy: 0.3976 - f1_score: 0.2183 - loss: 1.5255 - precision: 0.6199 - recall: 0.1326 - val_accuracy: 0.4356 - val_f1_score: 0.2499 - val_loss: 1.4749 - val_precision: 0.6462 - val_recall: 0.1549\n",
      "Epoch 3/100\n",
      "\u001b[1m236/236\u001b[0m \u001b[32m━━━━━━━━━━━━━━━━━━━━\u001b[0m\u001b[37m\u001b[0m \u001b[1m219s\u001b[0m 929ms/step - accuracy: 0.4310 - f1_score: 0.2305 - loss: 1.4721 - precision: 0.6116 - recall: 0.1424 - val_accuracy: 0.4634 - val_f1_score: 0.3121 - val_loss: 1.3986 - val_precision: 0.6564 - val_recall: 0.2047\n",
      "Epoch 4/100\n",
      "\u001b[1m236/236\u001b[0m \u001b[32m━━━━━━━━━━━━━━━━━━━━\u001b[0m\u001b[37m\u001b[0m \u001b[1m203s\u001b[0m 861ms/step - accuracy: 0.4571 - f1_score: 0.2972 - loss: 1.4052 - precision: 0.6403 - recall: 0.1936 - val_accuracy: 0.4257 - val_f1_score: 0.3113 - val_loss: 1.4538 - val_precision: 0.6352 - val_recall: 0.2062\n",
      "Epoch 5/100\n",
      "\u001b[1m236/236\u001b[0m \u001b[32m━━━━━━━━━━━━━━━━━━━━\u001b[0m\u001b[37m\u001b[0m \u001b[1m225s\u001b[0m 954ms/step - accuracy: 0.4902 - f1_score: 0.3537 - loss: 1.3529 - precision: 0.6542 - recall: 0.2424 - val_accuracy: 0.4919 - val_f1_score: 0.3858 - val_loss: 1.3063 - val_precision: 0.6621 - val_recall: 0.2722\n",
      "Epoch 6/100\n",
      "\u001b[1m236/236\u001b[0m \u001b[32m━━━━━━━━━━━━━━━━━━━━\u001b[0m\u001b[37m\u001b[0m \u001b[1m220s\u001b[0m 933ms/step - accuracy: 0.5069 - f1_score: 0.3715 - loss: 1.3001 - precision: 0.6656 - recall: 0.2579 - val_accuracy: 0.5392 - val_f1_score: 0.4033 - val_loss: 1.2338 - val_precision: 0.7217 - val_recall: 0.2799\n",
      "Epoch 7/100\n",
      "\u001b[1m236/236\u001b[0m \u001b[32m━━━━━━━━━━━━━━━━━━━━\u001b[0m\u001b[37m\u001b[0m \u001b[1m220s\u001b[0m 934ms/step - accuracy: 0.5069 - f1_score: 0.3995 - loss: 1.2849 - precision: 0.6600 - recall: 0.2865 - val_accuracy: 0.5365 - val_f1_score: 0.4391 - val_loss: 1.2206 - val_precision: 0.7185 - val_recall: 0.3161\n",
      "Epoch 8/100\n",
      "\u001b[1m236/236\u001b[0m \u001b[32m━━━━━━━━━━━━━━━━━━━━\u001b[0m\u001b[37m\u001b[0m \u001b[1m221s\u001b[0m 938ms/step - accuracy: 0.5298 - f1_score: 0.4358 - loss: 1.2344 - precision: 0.6759 - recall: 0.3218 - val_accuracy: 0.5536 - val_f1_score: 0.4805 - val_loss: 1.1790 - val_precision: 0.6883 - val_recall: 0.3691\n",
      "Epoch 9/100\n",
      "\u001b[1m236/236\u001b[0m \u001b[32m━━━━━━━━━━━━━━━━━━━━\u001b[0m\u001b[37m\u001b[0m \u001b[1m226s\u001b[0m 958ms/step - accuracy: 0.5440 - f1_score: 0.4682 - loss: 1.2024 - precision: 0.6878 - recall: 0.3549 - val_accuracy: 0.5847 - val_f1_score: 0.5062 - val_loss: 1.1160 - val_precision: 0.7180 - val_recall: 0.3909\n",
      "Epoch 10/100\n",
      "\u001b[1m236/236\u001b[0m \u001b[32m━━━━━━━━━━━━━━━━━━━━\u001b[0m\u001b[37m\u001b[0m \u001b[1m231s\u001b[0m 980ms/step - accuracy: 0.5544 - f1_score: 0.4906 - loss: 1.1605 - precision: 0.6908 - recall: 0.3804 - val_accuracy: 0.5949 - val_f1_score: 0.4985 - val_loss: 1.0902 - val_precision: 0.7593 - val_recall: 0.3711\n",
      "Epoch 11/100\n",
      "\u001b[1m236/236\u001b[0m \u001b[32m━━━━━━━━━━━━━━━━━━━━\u001b[0m\u001b[37m\u001b[0m \u001b[1m278s\u001b[0m 1s/step - accuracy: 0.5680 - f1_score: 0.5031 - loss: 1.1228 - precision: 0.7184 - recall: 0.3873 - val_accuracy: 0.5666 - val_f1_score: 0.5503 - val_loss: 1.1178 - val_precision: 0.6667 - val_recall: 0.4685\n",
      "Epoch 12/100\n",
      "\u001b[1m236/236\u001b[0m \u001b[32m━━━━━━━━━━━━━━━━━━━━\u001b[0m\u001b[37m\u001b[0m \u001b[1m193s\u001b[0m 816ms/step - accuracy: 0.5797 - f1_score: 0.5089 - loss: 1.1332 - precision: 0.6918 - recall: 0.4029 - val_accuracy: 0.6154 - val_f1_score: 0.5379 - val_loss: 1.0414 - val_precision: 0.7544 - val_recall: 0.4180\n",
      "Epoch 13/100\n",
      "\u001b[1m236/236\u001b[0m \u001b[32m━━━━━━━━━━━━━━━━━━━━\u001b[0m\u001b[37m\u001b[0m \u001b[1m103s\u001b[0m 435ms/step - accuracy: 0.5781 - f1_score: 0.5114 - loss: 1.1140 - precision: 0.7120 - recall: 0.3993 - val_accuracy: 0.5883 - val_f1_score: 0.5075 - val_loss: 1.0632 - val_precision: 0.7470 - val_recall: 0.3842\n",
      "Epoch 14/100\n",
      "\u001b[1m236/236\u001b[0m \u001b[32m━━━━━━━━━━━━━━━━━━━━\u001b[0m\u001b[37m\u001b[0m \u001b[1m111s\u001b[0m 471ms/step - accuracy: 0.5960 - f1_score: 0.5458 - loss: 1.0629 - precision: 0.7238 - recall: 0.4383 - val_accuracy: 0.6101 - val_f1_score: 0.5836 - val_loss: 1.0351 - val_precision: 0.7271 - val_recall: 0.4874\n",
      "Epoch 15/100\n",
      "\u001b[1m236/236\u001b[0m \u001b[32m━━━━━━━━━━━━━━━━━━━━\u001b[0m\u001b[37m\u001b[0m \u001b[1m118s\u001b[0m 498ms/step - accuracy: 0.5989 - f1_score: 0.5588 - loss: 1.0421 - precision: 0.7306 - recall: 0.4525 - val_accuracy: 0.6321 - val_f1_score: 0.6023 - val_loss: 0.9609 - val_precision: 0.7371 - val_recall: 0.5092\n",
      "Epoch 16/100\n",
      "\u001b[1m236/236\u001b[0m \u001b[32m━━━━━━━━━━━━━━━━━━━━\u001b[0m\u001b[37m\u001b[0m \u001b[1m131s\u001b[0m 555ms/step - accuracy: 0.6108 - f1_score: 0.5559 - loss: 1.0358 - precision: 0.7240 - recall: 0.4513 - val_accuracy: 0.6093 - val_f1_score: 0.5452 - val_loss: 1.0044 - val_precision: 0.7448 - val_recall: 0.4300\n",
      "Epoch 17/100\n",
      "\u001b[1m236/236\u001b[0m \u001b[32m━━━━━━━━━━━━━━━━━━━━\u001b[0m\u001b[37m\u001b[0m \u001b[1m130s\u001b[0m 553ms/step - accuracy: 0.6043 - f1_score: 0.5648 - loss: 1.0180 - precision: 0.7321 - recall: 0.4598 - val_accuracy: 0.6249 - val_f1_score: 0.5636 - val_loss: 0.9793 - val_precision: 0.7556 - val_recall: 0.4494\n",
      "Epoch 18/100\n",
      "\u001b[1m236/236\u001b[0m \u001b[32m━━━━━━━━━━━━━━━━━━━━\u001b[0m\u001b[37m\u001b[0m \u001b[1m129s\u001b[0m 547ms/step - accuracy: 0.6276 - f1_score: 0.5917 - loss: 0.9825 - precision: 0.7290 - recall: 0.4981 - val_accuracy: 0.6346 - val_f1_score: 0.6052 - val_loss: 0.9543 - val_precision: 0.7376 - val_recall: 0.5131\n",
      "Epoch 19/100\n",
      "\u001b[1m236/236\u001b[0m \u001b[32m━━━━━━━━━━━━━━━━━━━━\u001b[0m\u001b[37m\u001b[0m \u001b[1m129s\u001b[0m 547ms/step - accuracy: 0.6347 - f1_score: 0.6049 - loss: 0.9747 - precision: 0.7532 - recall: 0.5056 - val_accuracy: 0.6397 - val_f1_score: 0.6053 - val_loss: 0.9301 - val_precision: 0.7584 - val_recall: 0.5036\n",
      "Epoch 20/100\n",
      "\u001b[1m236/236\u001b[0m \u001b[32m━━━━━━━━━━━━━━━━━━━━\u001b[0m\u001b[37m\u001b[0m \u001b[1m126s\u001b[0m 534ms/step - accuracy: 0.6140 - f1_score: 0.5698 - loss: 0.9948 - precision: 0.7387 - recall: 0.4639 - val_accuracy: 0.6699 - val_f1_score: 0.6402 - val_loss: 0.8732 - val_precision: 0.8102 - val_recall: 0.5292\n",
      "Epoch 21/100\n",
      "\u001b[1m236/236\u001b[0m \u001b[32m━━━━━━━━━━━━━━━━━━━━\u001b[0m\u001b[37m\u001b[0m \u001b[1m128s\u001b[0m 541ms/step - accuracy: 0.6592 - f1_score: 0.6317 - loss: 0.9028 - precision: 0.7795 - recall: 0.5313 - val_accuracy: 0.6548 - val_f1_score: 0.6423 - val_loss: 0.8986 - val_precision: 0.7540 - val_recall: 0.5595\n",
      "Epoch 22/100\n",
      "\u001b[1m236/236\u001b[0m \u001b[32m━━━━━━━━━━━━━━━━━━━━\u001b[0m\u001b[37m\u001b[0m \u001b[1m132s\u001b[0m 559ms/step - accuracy: 0.6574 - f1_score: 0.6217 - loss: 0.9088 - precision: 0.7637 - recall: 0.5243 - val_accuracy: 0.6924 - val_f1_score: 0.6755 - val_loss: 0.8162 - val_precision: 0.7995 - val_recall: 0.5848\n",
      "Epoch 23/100\n",
      "\u001b[1m236/236\u001b[0m \u001b[32m━━━━━━━━━━━━━━━━━━━━\u001b[0m\u001b[37m\u001b[0m \u001b[1m129s\u001b[0m 547ms/step - accuracy: 0.6665 - f1_score: 0.6413 - loss: 0.8772 - precision: 0.7712 - recall: 0.5489 - val_accuracy: 0.6764 - val_f1_score: 0.6600 - val_loss: 0.8671 - val_precision: 0.7757 - val_recall: 0.5743\n",
      "Epoch 24/100\n",
      "\u001b[1m236/236\u001b[0m \u001b[32m━━━━━━━━━━━━━━━━━━━━\u001b[0m\u001b[37m\u001b[0m \u001b[1m134s\u001b[0m 570ms/step - accuracy: 0.6756 - f1_score: 0.6460 - loss: 0.8730 - precision: 0.7837 - recall: 0.5495 - val_accuracy: 0.6806 - val_f1_score: 0.6435 - val_loss: 0.8374 - val_precision: 0.8056 - val_recall: 0.5357\n",
      "Epoch 25/100\n",
      "\u001b[1m236/236\u001b[0m \u001b[32m━━━━━━━━━━━━━━━━━━━━\u001b[0m\u001b[37m\u001b[0m \u001b[1m129s\u001b[0m 545ms/step - accuracy: 0.6689 - f1_score: 0.6352 - loss: 0.8755 - precision: 0.7784 - recall: 0.5367 - val_accuracy: 0.6990 - val_f1_score: 0.6695 - val_loss: 0.7944 - val_precision: 0.8134 - val_recall: 0.5689\n",
      "Epoch 26/100\n",
      "\u001b[1m236/236\u001b[0m \u001b[32m━━━━━━━━━━━━━━━━━━━━\u001b[0m\u001b[37m\u001b[0m \u001b[1m125s\u001b[0m 531ms/step - accuracy: 0.6853 - f1_score: 0.6655 - loss: 0.8416 - precision: 0.7877 - recall: 0.5763 - val_accuracy: 0.7159 - val_f1_score: 0.6998 - val_loss: 0.7613 - val_precision: 0.8183 - val_recall: 0.6113\n",
      "Epoch 27/100\n",
      "\u001b[1m236/236\u001b[0m \u001b[32m━━━━━━━━━━━━━━━━━━━━\u001b[0m\u001b[37m\u001b[0m \u001b[1m150s\u001b[0m 566ms/step - accuracy: 0.6762 - f1_score: 0.6535 - loss: 0.8456 - precision: 0.7805 - recall: 0.5621 - val_accuracy: 0.6934 - val_f1_score: 0.6786 - val_loss: 0.8060 - val_precision: 0.8018 - val_recall: 0.5882\n",
      "Epoch 28/100\n",
      "\u001b[1m236/236\u001b[0m \u001b[32m━━━━━━━━━━━━━━━━━━━━\u001b[0m\u001b[37m\u001b[0m \u001b[1m136s\u001b[0m 574ms/step - accuracy: 0.6892 - f1_score: 0.6664 - loss: 0.8346 - precision: 0.7883 - recall: 0.5773 - val_accuracy: 0.7345 - val_f1_score: 0.7175 - val_loss: 0.7124 - val_precision: 0.8385 - val_recall: 0.6271\n",
      "Epoch 29/100\n",
      "\u001b[1m236/236\u001b[0m \u001b[32m━━━━━━━━━━━━━━━━━━━━\u001b[0m\u001b[37m\u001b[0m \u001b[1m133s\u001b[0m 564ms/step - accuracy: 0.6930 - f1_score: 0.6741 - loss: 0.8196 - precision: 0.7860 - recall: 0.5902 - val_accuracy: 0.7476 - val_f1_score: 0.7279 - val_loss: 0.7040 - val_precision: 0.8252 - val_recall: 0.6511\n",
      "Epoch 30/100\n",
      "\u001b[1m236/236\u001b[0m \u001b[32m━━━━━━━━━━━━━━━━━━━━\u001b[0m\u001b[37m\u001b[0m \u001b[1m133s\u001b[0m 564ms/step - accuracy: 0.7171 - f1_score: 0.6986 - loss: 0.7656 - precision: 0.8045 - recall: 0.6174 - val_accuracy: 0.7350 - val_f1_score: 0.7219 - val_loss: 0.7148 - val_precision: 0.8283 - val_recall: 0.6398\n",
      "Epoch 31/100\n",
      "\u001b[1m236/236\u001b[0m \u001b[32m━━━━━━━━━━━━━━━━━━━━\u001b[0m\u001b[37m\u001b[0m \u001b[1m134s\u001b[0m 569ms/step - accuracy: 0.6902 - f1_score: 0.6763 - loss: 0.8124 - precision: 0.7904 - recall: 0.5910 - val_accuracy: 0.7446 - val_f1_score: 0.7202 - val_loss: 0.6900 - val_precision: 0.8424 - val_recall: 0.6289\n",
      "Epoch 32/100\n",
      "\u001b[1m236/236\u001b[0m \u001b[32m━━━━━━━━━━━━━━━━━━━━\u001b[0m\u001b[37m\u001b[0m \u001b[1m131s\u001b[0m 555ms/step - accuracy: 0.7113 - f1_score: 0.6887 - loss: 0.7779 - precision: 0.7975 - recall: 0.6060 - val_accuracy: 0.7377 - val_f1_score: 0.7219 - val_loss: 0.7007 - val_precision: 0.8237 - val_recall: 0.6425\n",
      "Epoch 33/100\n",
      "\u001b[1m236/236\u001b[0m \u001b[32m━━━━━━━━━━━━━━━━━━━━\u001b[0m\u001b[37m\u001b[0m \u001b[1m149s\u001b[0m 633ms/step - accuracy: 0.7205 - f1_score: 0.6969 - loss: 0.7530 - precision: 0.8026 - recall: 0.6158 - val_accuracy: 0.7398 - val_f1_score: 0.7123 - val_loss: 0.7022 - val_precision: 0.8504 - val_recall: 0.6129\n",
      "Epoch 34/100\n",
      "\u001b[1m236/236\u001b[0m \u001b[32m━━━━━━━━━━━━━━━━━━━━\u001b[0m\u001b[37m\u001b[0m \u001b[1m178s\u001b[0m 756ms/step - accuracy: 0.7175 - f1_score: 0.6980 - loss: 0.7525 - precision: 0.8022 - recall: 0.6179 - val_accuracy: 0.7333 - val_f1_score: 0.7169 - val_loss: 0.7036 - val_precision: 0.8494 - val_recall: 0.6202\n",
      "Epoch 35/100\n",
      "\u001b[1m236/236\u001b[0m \u001b[32m━━━━━━━━━━━━━━━━━━━━\u001b[0m\u001b[37m\u001b[0m \u001b[1m129s\u001b[0m 547ms/step - accuracy: 0.7307 - f1_score: 0.7102 - loss: 0.7322 - precision: 0.8112 - recall: 0.6317 - val_accuracy: 0.7160 - val_f1_score: 0.6918 - val_loss: 0.7694 - val_precision: 0.8001 - val_recall: 0.6094\n",
      "Epoch 36/100\n",
      "\u001b[1m236/236\u001b[0m \u001b[32m━━━━━━━━━━━━━━━━━━━━\u001b[0m\u001b[37m\u001b[0m \u001b[1m137s\u001b[0m 581ms/step - accuracy: 0.7173 - f1_score: 0.6985 - loss: 0.7603 - precision: 0.8095 - recall: 0.6144 - val_accuracy: 0.7621 - val_f1_score: 0.7527 - val_loss: 0.6499 - val_precision: 0.8431 - val_recall: 0.6798\n",
      "Epoch 37/100\n",
      "\u001b[1m236/236\u001b[0m \u001b[32m━━━━━━━━━━━━━━━━━━━━\u001b[0m\u001b[37m\u001b[0m \u001b[1m140s\u001b[0m 591ms/step - accuracy: 0.7139 - f1_score: 0.7042 - loss: 0.7393 - precision: 0.8067 - recall: 0.6248 - val_accuracy: 0.7654 - val_f1_score: 0.7588 - val_loss: 0.6391 - val_precision: 0.8355 - val_recall: 0.6950\n",
      "Epoch 38/100\n",
      "\u001b[1m236/236\u001b[0m \u001b[32m━━━━━━━━━━━━━━━━━━━━\u001b[0m\u001b[37m\u001b[0m \u001b[1m203s\u001b[0m 849ms/step - accuracy: 0.7325 - f1_score: 0.7170 - loss: 0.7146 - precision: 0.8115 - recall: 0.6422 - val_accuracy: 0.7681 - val_f1_score: 0.7516 - val_loss: 0.6360 - val_precision: 0.8613 - val_recall: 0.6668\n",
      "Epoch 39/100\n",
      "\u001b[1m236/236\u001b[0m \u001b[32m━━━━━━━━━━━━━━━━━━━━\u001b[0m\u001b[37m\u001b[0m \u001b[1m227s\u001b[0m 961ms/step - accuracy: 0.7368 - f1_score: 0.7252 - loss: 0.7039 - precision: 0.8166 - recall: 0.6522 - val_accuracy: 0.7860 - val_f1_score: 0.7756 - val_loss: 0.5944 - val_precision: 0.8729 - val_recall: 0.6978\n",
      "Epoch 40/100\n",
      "\u001b[1m236/236\u001b[0m \u001b[32m━━━━━━━━━━━━━━━━━━━━\u001b[0m\u001b[37m\u001b[0m \u001b[1m208s\u001b[0m 882ms/step - accuracy: 0.7396 - f1_score: 0.7337 - loss: 0.6844 - precision: 0.8299 - recall: 0.6577 - val_accuracy: 0.7777 - val_f1_score: 0.7685 - val_loss: 0.6011 - val_precision: 0.8616 - val_recall: 0.6936\n",
      "Epoch 41/100\n",
      "\u001b[1m236/236\u001b[0m \u001b[32m━━━━━━━━━━━━━━━━━━━━\u001b[0m\u001b[37m\u001b[0m \u001b[1m158s\u001b[0m 670ms/step - accuracy: 0.7352 - f1_score: 0.7257 - loss: 0.6996 - precision: 0.8163 - recall: 0.6533 - val_accuracy: 0.7804 - val_f1_score: 0.7778 - val_loss: 0.5966 - val_precision: 0.8740 - val_recall: 0.7007\n",
      "Epoch 42/100\n",
      "\u001b[1m236/236\u001b[0m \u001b[32m━━━━━━━━━━━━━━━━━━━━\u001b[0m\u001b[37m\u001b[0m \u001b[1m242s\u001b[0m 1s/step - accuracy: 0.7460 - f1_score: 0.7376 - loss: 0.6753 - precision: 0.8273 - recall: 0.6654 - val_accuracy: 0.7819 - val_f1_score: 0.7761 - val_loss: 0.5916 - val_precision: 0.8564 - val_recall: 0.7095\n",
      "Epoch 43/100\n",
      "\u001b[1m236/236\u001b[0m \u001b[32m━━━━━━━━━━━━━━━━━━━━\u001b[0m\u001b[37m\u001b[0m \u001b[1m228s\u001b[0m 968ms/step - accuracy: 0.7613 - f1_score: 0.7545 - loss: 0.6573 - precision: 0.8314 - recall: 0.6907 - val_accuracy: 0.7801 - val_f1_score: 0.7758 - val_loss: 0.5925 - val_precision: 0.8490 - val_recall: 0.7143\n",
      "Epoch 44/100\n",
      "\u001b[1m236/236\u001b[0m \u001b[32m━━━━━━━━━━━━━━━━━━━━\u001b[0m\u001b[37m\u001b[0m \u001b[1m226s\u001b[0m 956ms/step - accuracy: 0.7485 - f1_score: 0.7405 - loss: 0.6736 - precision: 0.8280 - recall: 0.6698 - val_accuracy: 0.7959 - val_f1_score: 0.7781 - val_loss: 0.5801 - val_precision: 0.8768 - val_recall: 0.6994\n",
      "Epoch 45/100\n",
      "\u001b[1m236/236\u001b[0m \u001b[32m━━━━━━━━━━━━━━━━━━━━\u001b[0m\u001b[37m\u001b[0m \u001b[1m226s\u001b[0m 959ms/step - accuracy: 0.7532 - f1_score: 0.7467 - loss: 0.6462 - precision: 0.8282 - recall: 0.6798 - val_accuracy: 0.7950 - val_f1_score: 0.7800 - val_loss: 0.5780 - val_precision: 0.8715 - val_recall: 0.7059\n",
      "Epoch 46/100\n",
      "\u001b[1m236/236\u001b[0m \u001b[32m━━━━━━━━━━━━━━━━━━━━\u001b[0m\u001b[37m\u001b[0m \u001b[1m227s\u001b[0m 965ms/step - accuracy: 0.7658 - f1_score: 0.7560 - loss: 0.6346 - precision: 0.8428 - recall: 0.6855 - val_accuracy: 0.7811 - val_f1_score: 0.7696 - val_loss: 0.6034 - val_precision: 0.8628 - val_recall: 0.6946\n",
      "Epoch 47/100\n",
      "\u001b[1m236/236\u001b[0m \u001b[32m━━━━━━━━━━━━━━━━━━━━\u001b[0m\u001b[37m\u001b[0m \u001b[1m222s\u001b[0m 939ms/step - accuracy: 0.7690 - f1_score: 0.7541 - loss: 0.6381 - precision: 0.8335 - recall: 0.6885 - val_accuracy: 0.7917 - val_f1_score: 0.7865 - val_loss: 0.5671 - val_precision: 0.8615 - val_recall: 0.7234\n",
      "Epoch 48/100\n",
      "\u001b[1m236/236\u001b[0m \u001b[32m━━━━━━━━━━━━━━━━━━━━\u001b[0m\u001b[37m\u001b[0m \u001b[1m228s\u001b[0m 965ms/step - accuracy: 0.7577 - f1_score: 0.7541 - loss: 0.6429 - precision: 0.8375 - recall: 0.6858 - val_accuracy: 0.7943 - val_f1_score: 0.7874 - val_loss: 0.5597 - val_precision: 0.8529 - val_recall: 0.7313\n",
      "Epoch 49/100\n",
      "\u001b[1m236/236\u001b[0m \u001b[32m━━━━━━━━━━━━━━━━━━━━\u001b[0m\u001b[37m\u001b[0m \u001b[1m214s\u001b[0m 906ms/step - accuracy: 0.7700 - f1_score: 0.7630 - loss: 0.6207 - precision: 0.8402 - recall: 0.6988 - val_accuracy: 0.7884 - val_f1_score: 0.7763 - val_loss: 0.5946 - val_precision: 0.8636 - val_recall: 0.7051\n",
      "Epoch 50/100\n",
      "\u001b[1m236/236\u001b[0m \u001b[32m━━━━━━━━━━━━━━━━━━━━\u001b[0m\u001b[37m\u001b[0m \u001b[1m202s\u001b[0m 856ms/step - accuracy: 0.7504 - f1_score: 0.7429 - loss: 0.6591 - precision: 0.8172 - recall: 0.6811 - val_accuracy: 0.8048 - val_f1_score: 0.7968 - val_loss: 0.5518 - val_precision: 0.8719 - val_recall: 0.7337\n",
      "Epoch 51/100\n",
      "\u001b[1m236/236\u001b[0m \u001b[32m━━━━━━━━━━━━━━━━━━━━\u001b[0m\u001b[37m\u001b[0m \u001b[1m162s\u001b[0m 688ms/step - accuracy: 0.7715 - f1_score: 0.7600 - loss: 0.6241 - precision: 0.8400 - recall: 0.6941 - val_accuracy: 0.7921 - val_f1_score: 0.7764 - val_loss: 0.5758 - val_precision: 0.8767 - val_recall: 0.6966\n",
      "Epoch 52/100\n",
      "\u001b[1m236/236\u001b[0m \u001b[32m━━━━━━━━━━━━━━━━━━━━\u001b[0m\u001b[37m\u001b[0m \u001b[1m218s\u001b[0m 923ms/step - accuracy: 0.7647 - f1_score: 0.7658 - loss: 0.6255 - precision: 0.8449 - recall: 0.7003 - val_accuracy: 0.8100 - val_f1_score: 0.8029 - val_loss: 0.5313 - val_precision: 0.8793 - val_recall: 0.7387\n",
      "Epoch 53/100\n",
      "\u001b[1m236/236\u001b[0m \u001b[32m━━━━━━━━━━━━━━━━━━━━\u001b[0m\u001b[37m\u001b[0m \u001b[1m227s\u001b[0m 960ms/step - accuracy: 0.7829 - f1_score: 0.7736 - loss: 0.5957 - precision: 0.8434 - recall: 0.7145 - val_accuracy: 0.8269 - val_f1_score: 0.8149 - val_loss: 0.5119 - val_precision: 0.8971 - val_recall: 0.7465\n",
      "Epoch 54/100\n",
      "\u001b[1m236/236\u001b[0m \u001b[32m━━━━━━━━━━━━━━━━━━━━\u001b[0m\u001b[37m\u001b[0m \u001b[1m223s\u001b[0m 947ms/step - accuracy: 0.7765 - f1_score: 0.7754 - loss: 0.6025 - precision: 0.8455 - recall: 0.7160 - val_accuracy: 0.8394 - val_f1_score: 0.8352 - val_loss: 0.4680 - val_precision: 0.9029 - val_recall: 0.7770\n",
      "Epoch 55/100\n",
      "\u001b[1m236/236\u001b[0m \u001b[32m━━━━━━━━━━━━━━━━━━━━\u001b[0m\u001b[37m\u001b[0m \u001b[1m270s\u001b[0m 1s/step - accuracy: 0.7942 - f1_score: 0.7902 - loss: 0.5658 - precision: 0.8542 - recall: 0.7352 - val_accuracy: 0.8255 - val_f1_score: 0.8270 - val_loss: 0.4751 - val_precision: 0.8837 - val_recall: 0.7771\n",
      "Epoch 59/100\n",
      "\u001b[1m236/236\u001b[0m \u001b[32m━━━━━━━━━━━━━━━━━━━━\u001b[0m\u001b[37m\u001b[0m \u001b[1m151s\u001b[0m 637ms/step - accuracy: 0.7894 - f1_score: 0.7811 - loss: 0.5807 - precision: 0.8396 - recall: 0.7302 - val_accuracy: 0.8293 - val_f1_score: 0.8227 - val_loss: 0.4806 - val_precision: 0.8830 - val_recall: 0.7702\n",
      "Epoch 60/100\n",
      "\u001b[1m236/236\u001b[0m \u001b[32m━━━━━━━━━━━━━━━━━━━━\u001b[0m\u001b[37m\u001b[0m \u001b[1m204s\u001b[0m 865ms/step - accuracy: 0.8062 - f1_score: 0.7957 - loss: 0.5457 - precision: 0.8575 - recall: 0.7423 - val_accuracy: 0.7974 - val_f1_score: 0.7937 - val_loss: 0.5534 - val_precision: 0.8591 - val_recall: 0.7375\n",
      "Epoch 61/100\n",
      "\u001b[1m236/236\u001b[0m \u001b[32m━━━━━━━━━━━━━━━━━━━━\u001b[0m\u001b[37m\u001b[0m \u001b[1m260s\u001b[0m 1s/step - accuracy: 0.7944 - f1_score: 0.7946 - loss: 0.5351 - precision: 0.8558 - recall: 0.7415 - val_accuracy: 0.8387 - val_f1_score: 0.8326 - val_loss: 0.4483 - val_precision: 0.8815 - val_recall: 0.7889\n",
      "Epoch 67/100\n",
      "\u001b[1m236/236\u001b[0m \u001b[32m━━━━━━━━━━━━━━━━━━━━\u001b[0m\u001b[37m\u001b[0m \u001b[1m177s\u001b[0m 752ms/step - accuracy: 0.8158 - f1_score: 0.8109 - loss: 0.5200 - precision: 0.8620 - recall: 0.7656 - val_accuracy: 0.8302 - val_f1_score: 0.8254 - val_loss: 0.4687 - val_precision: 0.8810 - val_recall: 0.7764\n",
      "Epoch 68/100\n",
      "\u001b[1m236/236\u001b[0m \u001b[32m━━━━━━━━━━━━━━━━━━━━\u001b[0m\u001b[37m\u001b[0m \u001b[1m119s\u001b[0m 503ms/step - accuracy: 0.8119 - f1_score: 0.8090 - loss: 0.5194 - precision: 0.8688 - recall: 0.7570 - val_accuracy: 0.8363 - val_f1_score: 0.8346 - val_loss: 0.4611 - val_precision: 0.8893 - val_recall: 0.7862\n",
      "Epoch 69/100\n",
      "\u001b[1m236/236\u001b[0m \u001b[32m━━━━━━━━━━━━━━━━━━━━\u001b[0m\u001b[37m\u001b[0m \u001b[1m217s\u001b[0m 920ms/step - accuracy: 0.8160 - f1_score: 0.8108 - loss: 0.5169 - precision: 0.8643 - recall: 0.7636 - val_accuracy: 0.8396 - val_f1_score: 0.8370 - val_loss: 0.4434 - val_precision: 0.8855 - val_recall: 0.7935\n",
      "Epoch 70/100\n",
      "\u001b[1m236/236\u001b[0m \u001b[32m━━━━━━━━━━━━━━━━━━━━\u001b[0m\u001b[37m\u001b[0m \u001b[1m238s\u001b[0m 1s/step - accuracy: 0.8229 - f1_score: 0.8175 - loss: 0.5136 - precision: 0.8743 - recall: 0.7676 - val_accuracy: 0.8305 - val_f1_score: 0.8241 - val_loss: 0.4782 - val_precision: 0.8713 - val_recall: 0.7817\n",
      "Epoch 71/100\n",
      "\u001b[1m236/236\u001b[0m \u001b[32m━━━━━━━━━━━━━━━━━━━━\u001b[0m\u001b[37m\u001b[0m \u001b[1m211s\u001b[0m 894ms/step - accuracy: 0.8047 - f1_score: 0.8019 - loss: 0.5222 - precision: 0.8529 - recall: 0.7566 - val_accuracy: 0.8390 - val_f1_score: 0.8383 - val_loss: 0.4466 - val_precision: 0.8843 - val_recall: 0.7969\n",
      "Epoch 72/100\n",
      "\u001b[1m236/236\u001b[0m \u001b[32m━━━━━━━━━━━━━━━━━━━━\u001b[0m\u001b[37m\u001b[0m \u001b[1m255s\u001b[0m 1s/step - accuracy: 0.8058 - f1_score: 0.8028 - loss: 0.5342 - precision: 0.8622 - recall: 0.7512 - val_accuracy: 0.8528 - val_f1_score: 0.8489 - val_loss: 0.4153 - val_precision: 0.8989 - val_recall: 0.8042\n",
      "Epoch 73/100\n",
      "\u001b[1m236/236\u001b[0m \u001b[32m━━━━━━━━━━━━━━━━━━━━\u001b[0m\u001b[37m\u001b[0m \u001b[1m242s\u001b[0m 1s/step - accuracy: 0.8059 - f1_score: 0.8049 - loss: 0.5186 - precision: 0.8583 - recall: 0.7578 - val_accuracy: 0.8437 - val_f1_score: 0.8435 - val_loss: 0.4395 - val_precision: 0.8952 - val_recall: 0.7974\n",
      "Epoch 74/100\n",
      "\u001b[1m236/236\u001b[0m \u001b[32m━━━━━━━━━━━━━━━━━━━━\u001b[0m\u001b[37m\u001b[0m \u001b[1m234s\u001b[0m 990ms/step - accuracy: 0.8113 - f1_score: 0.8133 - loss: 0.4970 - precision: 0.8698 - recall: 0.7637 - val_accuracy: 0.8482 - val_f1_score: 0.8495 - val_loss: 0.4219 - val_precision: 0.8934 - val_recall: 0.8097\n",
      "Epoch 75/100\n",
      "\u001b[1m236/236\u001b[0m \u001b[32m━━━━━━━━━━━━━━━━━━━━\u001b[0m\u001b[37m\u001b[0m \u001b[1m255s\u001b[0m 1s/step - accuracy: 0.8163 - f1_score: 0.8133 - loss: 0.4984 - precision: 0.8647 - recall: 0.7676 - val_accuracy: 0.7987 - val_f1_score: 0.7987 - val_loss: 0.5453 - val_precision: 0.8470 - val_recall: 0.7556\n",
      "Epoch 76/100\n",
      "\u001b[1m236/236\u001b[0m \u001b[32m━━━━━━━━━━━━━━━━━━━━\u001b[0m\u001b[37m\u001b[0m \u001b[1m237s\u001b[0m 1s/step - accuracy: 0.8160 - f1_score: 0.8111 - loss: 0.5070 - precision: 0.8659 - recall: 0.7629 - val_accuracy: 0.8190 - val_f1_score: 0.8106 - val_loss: 0.4844 - val_precision: 0.8797 - val_recall: 0.7516\n",
      "Epoch 77/100\n",
      "\u001b[1m236/236\u001b[0m \u001b[32m━━━━━━━━━━━━━━━━━━━━\u001b[0m\u001b[37m\u001b[0m \u001b[1m239s\u001b[0m 1s/step - accuracy: 0.8166 - f1_score: 0.8126 - loss: 0.5099 - precision: 0.8661 - recall: 0.7653 - val_accuracy: 0.8419 - val_f1_score: 0.8402 - val_loss: 0.4578 - val_precision: 0.8893 - val_recall: 0.7963\n",
      "Epoch 78/100\n",
      "\u001b[1m236/236\u001b[0m \u001b[32m━━━━━━━━━━━━━━━━━━━━\u001b[0m\u001b[37m\u001b[0m \u001b[1m247s\u001b[0m 1s/step - accuracy: 0.8215 - f1_score: 0.8187 - loss: 0.4780 - precision: 0.8657 - recall: 0.7765 - val_accuracy: 0.8388 - val_f1_score: 0.8355 - val_loss: 0.4362 - val_precision: 0.8806 - val_recall: 0.7949\n",
      "Epoch 79/100\n",
      "\u001b[1m236/236\u001b[0m \u001b[32m━━━━━━━━━━━━━━━━━━━━\u001b[0m\u001b[37m\u001b[0m \u001b[1m217s\u001b[0m 922ms/step - accuracy: 0.8304 - f1_score: 0.8273 - loss: 0.4685 - precision: 0.8753 - recall: 0.7843 - val_accuracy: 0.8400 - val_f1_score: 0.8369 - val_loss: 0.4483 - val_precision: 0.8855 - val_recall: 0.7934\n",
      "Epoch 80/100\n",
      "\u001b[1m236/236\u001b[0m \u001b[32m━━━━━━━━━━━━━━━━━━━━\u001b[0m\u001b[37m\u001b[0m \u001b[1m217s\u001b[0m 915ms/step - accuracy: 0.8202 - f1_score: 0.8188 - loss: 0.5051 - precision: 0.8712 - recall: 0.7724 - val_accuracy: 0.8456 - val_f1_score: 0.8446 - val_loss: 0.4306 - val_precision: 0.8885 - val_recall: 0.8048\n",
      "Epoch 81/100\n",
      "\u001b[1m236/236\u001b[0m \u001b[32m━━━━━━━━━━━━━━━━━━━━\u001b[0m\u001b[37m\u001b[0m \u001b[1m223s\u001b[0m 945ms/step - accuracy: 0.8081 - f1_score: 0.8035 - loss: 0.5108 - precision: 0.8534 - recall: 0.7591 - val_accuracy: 0.8717 - val_f1_score: 0.8678 - val_loss: 0.3841 - val_precision: 0.9138 - val_recall: 0.8262\n",
      "Epoch 82/100\n",
      "\u001b[1m236/236\u001b[0m \u001b[32m━━━━━━━━━━━━━━━━━━━━\u001b[0m\u001b[37m\u001b[0m \u001b[1m258s\u001b[0m 924ms/step - accuracy: 0.8178 - f1_score: 0.8152 - loss: 0.4914 - precision: 0.8660 - recall: 0.7700 - val_accuracy: 0.8401 - val_f1_score: 0.8430 - val_loss: 0.4402 - val_precision: 0.8906 - val_recall: 0.8002\n",
      "Epoch 83/100\n",
      "\u001b[1m236/236\u001b[0m \u001b[32m━━━━━━━━━━━━━━━━━━━━\u001b[0m\u001b[37m\u001b[0m \u001b[1m226s\u001b[0m 958ms/step - accuracy: 0.8284 - f1_score: 0.8253 - loss: 0.4839 - precision: 0.8688 - recall: 0.7860 - val_accuracy: 0.8751 - val_f1_score: 0.8689 - val_loss: 0.3875 - val_precision: 0.9221 - val_recall: 0.8216\n",
      "Epoch 84/100\n",
      "\u001b[1m236/236\u001b[0m \u001b[32m━━━━━━━━━━━━━━━━━━━━\u001b[0m\u001b[37m\u001b[0m \u001b[1m221s\u001b[0m 935ms/step - accuracy: 0.8316 - f1_score: 0.8293 - loss: 0.4765 - precision: 0.8790 - recall: 0.7850 - val_accuracy: 0.8558 - val_f1_score: 0.8564 - val_loss: 0.3979 - val_precision: 0.8968 - val_recall: 0.8194\n",
      "Epoch 85/100\n",
      "\u001b[1m236/236\u001b[0m \u001b[32m━━━━━━━━━━━━━━━━━━━━\u001b[0m\u001b[37m\u001b[0m \u001b[1m234s\u001b[0m 991ms/step - accuracy: 0.8237 - f1_score: 0.8204 - loss: 0.4828 - precision: 0.8688 - recall: 0.7772 - val_accuracy: 0.8579 - val_f1_score: 0.8583 - val_loss: 0.3988 - val_precision: 0.9010 - val_recall: 0.8194\n",
      "Epoch 86/100\n",
      "\u001b[1m236/236\u001b[0m \u001b[32m━━━━━━━━━━━━━━━━━━━━\u001b[0m\u001b[37m\u001b[0m \u001b[1m218s\u001b[0m 924ms/step - accuracy: 0.8324 - f1_score: 0.8302 - loss: 0.4651 - precision: 0.8786 - recall: 0.7868 - val_accuracy: 0.8741 - val_f1_score: 0.8730 - val_loss: 0.3688 - val_precision: 0.9175 - val_recall: 0.8326\n",
      "Epoch 87/100\n",
      "\u001b[1m236/236\u001b[0m \u001b[32m━━━━━━━━━━━━━━━━━━━━\u001b[0m\u001b[37m\u001b[0m \u001b[1m230s\u001b[0m 974ms/step - accuracy: 0.8322 - f1_score: 0.8332 - loss: 0.4601 - precision: 0.8839 - recall: 0.7880 - val_accuracy: 0.8618 - val_f1_score: 0.8594 - val_loss: 0.3934 - val_precision: 0.8982 - val_recall: 0.8238\n",
      "Epoch 88/100\n",
      "\u001b[1m236/236\u001b[0m \u001b[32m━━━━━━━━━━━━━━━━━━━━\u001b[0m\u001b[37m\u001b[0m \u001b[1m212s\u001b[0m 899ms/step - accuracy: 0.8227 - f1_score: 0.8212 - loss: 0.4857 - precision: 0.8695 - recall: 0.7780 - val_accuracy: 0.8578 - val_f1_score: 0.8562 - val_loss: 0.4010 - val_precision: 0.8918 - val_recall: 0.8233\n",
      "Epoch 89/100\n",
      "\u001b[1m236/236\u001b[0m \u001b[32m━━━━━━━━━━━━━━━━━━━━\u001b[0m\u001b[37m\u001b[0m \u001b[1m205s\u001b[0m 871ms/step - accuracy: 0.8410 - f1_score: 0.8376 - loss: 0.4519 - precision: 0.8808 - recall: 0.7984 - val_accuracy: 0.8721 - val_f1_score: 0.8682 - val_loss: 0.3733 - val_precision: 0.9149 - val_recall: 0.8261\n",
      "Epoch 90/100\n",
      "\u001b[1m236/236\u001b[0m \u001b[32m━━━━━━━━━━━━━━━━━━━━\u001b[0m\u001b[37m\u001b[0m \u001b[1m185s\u001b[0m 784ms/step - accuracy: 0.8410 - f1_score: 0.8370 - loss: 0.4451 - precision: 0.8828 - recall: 0.7957 - val_accuracy: 0.8542 - val_f1_score: 0.8480 - val_loss: 0.4236 - val_precision: 0.8966 - val_recall: 0.8044\n",
      "Epoch 91/100\n",
      "\u001b[1m236/236\u001b[0m \u001b[32m━━━━━━━━━━━━━━━━━━━━\u001b[0m\u001b[37m\u001b[0m \u001b[1m179s\u001b[0m 759ms/step - accuracy: 0.8373 - f1_score: 0.8340 - loss: 0.4542 - precision: 0.8788 - recall: 0.7936 - val_accuracy: 0.8652 - val_f1_score: 0.8664 - val_loss: 0.3897 - val_precision: 0.9036 - val_recall: 0.8322\n",
      "Epoch 92/100\n",
      "\u001b[1m236/236\u001b[0m \u001b[32m━━━━━━━━━━━━━━━━━━━━\u001b[0m\u001b[37m\u001b[0m \u001b[1m162s\u001b[0m 687ms/step - accuracy: 0.8327 - f1_score: 0.8334 - loss: 0.4539 - precision: 0.8758 - recall: 0.7950 - val_accuracy: 0.8802 - val_f1_score: 0.8766 - val_loss: 0.3552 - val_precision: 0.9200 - val_recall: 0.8371\n",
      "Epoch 93/100\n",
      "\u001b[1m236/236\u001b[0m \u001b[32m━━━━━━━━━━━━━━━━━━━━\u001b[0m\u001b[37m\u001b[0m \u001b[1m169s\u001b[0m 716ms/step - accuracy: 0.8422 - f1_score: 0.8427 - loss: 0.4282 - precision: 0.8853 - recall: 0.8040 - val_accuracy: 0.8505 - val_f1_score: 0.8442 - val_loss: 0.4293 - val_precision: 0.8993 - val_recall: 0.7954\n",
      "Epoch 94/100\n",
      "\u001b[1m236/236\u001b[0m \u001b[32m━━━━━━━━━━━━━━━━━━━━\u001b[0m\u001b[37m\u001b[0m \u001b[1m171s\u001b[0m 725ms/step - accuracy: 0.8364 - f1_score: 0.8333 - loss: 0.4516 - precision: 0.8743 - recall: 0.7959 - val_accuracy: 0.8752 - val_f1_score: 0.8727 - val_loss: 0.3591 - val_precision: 0.9140 - val_recall: 0.8350\n",
      "Epoch 95/100\n",
      "\u001b[1m236/236\u001b[0m \u001b[32m━━━━━━━━━━━━━━━━━━━━\u001b[0m\u001b[37m\u001b[0m \u001b[1m169s\u001b[0m 715ms/step - accuracy: 0.8278 - f1_score: 0.8291 - loss: 0.4679 - precision: 0.8717 - recall: 0.7904 - val_accuracy: 0.8767 - val_f1_score: 0.8798 - val_loss: 0.3454 - val_precision: 0.9067 - val_recall: 0.8545\n",
      "Epoch 96/100\n",
      "\u001b[1m236/236\u001b[0m \u001b[32m━━━━━━━━━━━━━━━━━━━━\u001b[0m\u001b[37m\u001b[0m \u001b[1m153s\u001b[0m 649ms/step - accuracy: 0.8367 - f1_score: 0.8371 - loss: 0.4547 - precision: 0.8776 - recall: 0.8002 - val_accuracy: 0.8660 - val_f1_score: 0.8651 - val_loss: 0.3801 - val_precision: 0.9201 - val_recall: 0.8164\n",
      "Epoch 97/100\n",
      "\u001b[1m236/236\u001b[0m \u001b[32m━━━━━━━━━━━━━━━━━━━━\u001b[0m\u001b[37m\u001b[0m \u001b[1m119s\u001b[0m 502ms/step - accuracy: 0.8438 - f1_score: 0.8413 - loss: 0.4276 - precision: 0.8835 - recall: 0.8029 - val_accuracy: 0.8790 - val_f1_score: 0.8783 - val_loss: 0.3451 - val_precision: 0.9156 - val_recall: 0.8440\n",
      "Epoch 98/100\n",
      "\u001b[1m236/236\u001b[0m \u001b[32m━━━━━━━━━━━━━━━━━━━━\u001b[0m\u001b[37m\u001b[0m \u001b[1m119s\u001b[0m 503ms/step - accuracy: 0.8394 - f1_score: 0.8360 - loss: 0.4427 - precision: 0.8773 - recall: 0.7985 - val_accuracy: 0.8727 - val_f1_score: 0.8702 - val_loss: 0.3665 - val_precision: 0.9107 - val_recall: 0.8331\n",
      "Epoch 99/100\n",
      "\u001b[1m236/236\u001b[0m \u001b[32m━━━━━━━━━━━━━━━━━━━━\u001b[0m\u001b[37m\u001b[0m \u001b[1m114s\u001b[0m 483ms/step - accuracy: 0.8409 - f1_score: 0.8341 - loss: 0.4442 - precision: 0.8777 - recall: 0.7946 - val_accuracy: 0.8696 - val_f1_score: 0.8652 - val_loss: 0.3762 - val_precision: 0.9108 - val_recall: 0.8240\n",
      "Epoch 100/100\n",
      "\u001b[1m236/236\u001b[0m \u001b[32m━━━━━━━━━━━━━━━━━━━━\u001b[0m\u001b[37m\u001b[0m \u001b[1m102s\u001b[0m 432ms/step - accuracy: 0.8367 - f1_score: 0.8384 - loss: 0.4488 - precision: 0.8824 - recall: 0.7986 - val_accuracy: 0.8927 - val_f1_score: 0.8922 - val_loss: 0.3165 - val_precision: 0.9254 - val_recall: 0.8613\n"
     ]
    }
   ],
   "source": [
    "# Train the model\n",
    "history = bi_gru_model.fit(\n",
    "    x=training_set,\n",
    "    validation_data=validation_set,\n",
    "    epochs=100\n",
    ")"
   ]
  },
  {
   "cell_type": "code",
   "execution_count": 11,
   "id": "63e7bcd3-8034-479e-978d-466bbcc4fabc",
   "metadata": {},
   "outputs": [],
   "source": [
    "# Save Loss plot\n",
    "plt.figure()\n",
    "plt.plot(history.history['loss'], label='Train Loss')\n",
    "plt.plot(history.history['val_loss'], label='Validation Loss')\n",
    "plt.legend()\n",
    "plt.title(\"Loss\")\n",
    "plt.xlabel('Epochs')\n",
    "plt.ylabel('Loss')\n",
    "plt.savefig('loss_plot_bigru.png')  # Save the plot as a PNG file\n",
    "plt.close()\n",
    "\n",
    "# Save Accuracy plot\n",
    "plt.figure()\n",
    "plt.plot(history.history['accuracy'], label='Train Accuracy')\n",
    "plt.plot(history.history['val_accuracy'], label='Validation Accuracy')\n",
    "plt.legend()\n",
    "plt.title(\"Accuracy\")\n",
    "plt.xlabel('Epochs')\n",
    "plt.ylabel('Accuracy')\n",
    "plt.savefig('accuracy_plot_bigru.png')  # Save the plot as a PNG file\n",
    "plt.close()\n",
    "\n",
    "# Save Precision plot\n",
    "plt.figure()\n",
    "plt.plot(history.history['precision'], label='Train Precision')\n",
    "plt.plot(history.history['val_precision'], label='Validation Precision')\n",
    "plt.legend()\n",
    "plt.title(\"Precision\")\n",
    "plt.xlabel('Epochs')\n",
    "plt.ylabel('Precision')\n",
    "plt.savefig('precision_plot_bigru.png')  # Save the plot as a PNG file\n",
    "plt.close()\n",
    "\n",
    "# Save Recall plot\n",
    "plt.figure()\n",
    "plt.plot(history.history['recall'], label='Train Recall')\n",
    "plt.plot(history.history['val_recall'], label='Validation Recall')\n",
    "plt.legend()\n",
    "plt.title(\"Recall\")\n",
    "plt.xlabel('Epochs')\n",
    "plt.ylabel('Recall')\n",
    "plt.savefig('recall_plot_bigru.png')  # Save the plot as a PNG file\n",
    "plt.close()\n",
    "\n",
    "# Save F1 Score plot\n",
    "plt.figure()\n",
    "plt.plot(history.history['f1_score'], label='Train F1 Score')\n",
    "plt.plot(history.history['val_f1_score'], label='Validation F1 Score')\n",
    "plt.legend()\n",
    "plt.title(\"F1 Score\")\n",
    "plt.xlabel('Epochs')\n",
    "plt.ylabel('F1 Score')\n",
    "plt.savefig('f1_score_plot_bigru.png')  # Save the plot as a PNG file\n",
    "plt.close()"
   ]
  },
  {
   "cell_type": "code",
   "execution_count": 12,
   "id": "07d15031-f370-4956-86b2-5b907a55aa00",
   "metadata": {},
   "outputs": [
    {
     "data": {
      "text/html": [
       "<pre style=\"white-space:pre;overflow-x:auto;line-height:normal;font-family:Menlo,'DejaVu Sans Mono',consolas,'Courier New',monospace\"><span style=\"font-weight: bold\">Model: \"sequential\"</span>\n",
       "</pre>\n"
      ],
      "text/plain": [
       "\u001b[1mModel: \"sequential\"\u001b[0m\n"
      ]
     },
     "metadata": {},
     "output_type": "display_data"
    },
    {
     "data": {
      "text/html": [
       "<pre style=\"white-space:pre;overflow-x:auto;line-height:normal;font-family:Menlo,'DejaVu Sans Mono',consolas,'Courier New',monospace\">┏━━━━━━━━━━━━━━━━━━━━━━━━━━━━━━━━━━━━━━┳━━━━━━━━━━━━━━━━━━━━━━━━━━━━━┳━━━━━━━━━━━━━━━━━┓\n",
       "┃<span style=\"font-weight: bold\"> Layer (type)                         </span>┃<span style=\"font-weight: bold\"> Output Shape                </span>┃<span style=\"font-weight: bold\">         Param # </span>┃\n",
       "┡━━━━━━━━━━━━━━━━━━━━━━━━━━━━━━━━━━━━━━╇━━━━━━━━━━━━━━━━━━━━━━━━━━━━━╇━━━━━━━━━━━━━━━━━┩\n",
       "│ flatten (<span style=\"color: #0087ff; text-decoration-color: #0087ff\">Flatten</span>)                    │ (<span style=\"color: #00d7ff; text-decoration-color: #00d7ff\">None</span>, <span style=\"color: #00af00; text-decoration-color: #00af00\">12288</span>)               │               <span style=\"color: #00af00; text-decoration-color: #00af00\">0</span> │\n",
       "├──────────────────────────────────────┼─────────────────────────────┼─────────────────┤\n",
       "│ reshape (<span style=\"color: #0087ff; text-decoration-color: #0087ff\">Reshape</span>)                    │ (<span style=\"color: #00d7ff; text-decoration-color: #00d7ff\">None</span>, <span style=\"color: #00af00; text-decoration-color: #00af00\">16</span>, <span style=\"color: #00af00; text-decoration-color: #00af00\">768</span>)             │               <span style=\"color: #00af00; text-decoration-color: #00af00\">0</span> │\n",
       "├──────────────────────────────────────┼─────────────────────────────┼─────────────────┤\n",
       "│ bidirectional (<span style=\"color: #0087ff; text-decoration-color: #0087ff\">Bidirectional</span>)        │ (<span style=\"color: #00d7ff; text-decoration-color: #00d7ff\">None</span>, <span style=\"color: #00af00; text-decoration-color: #00af00\">128</span>)                 │         <span style=\"color: #00af00; text-decoration-color: #00af00\">320,256</span> │\n",
       "├──────────────────────────────────────┼─────────────────────────────┼─────────────────┤\n",
       "│ dense (<span style=\"color: #0087ff; text-decoration-color: #0087ff\">Dense</span>)                        │ (<span style=\"color: #00d7ff; text-decoration-color: #00d7ff\">None</span>, <span style=\"color: #00af00; text-decoration-color: #00af00\">128</span>)                 │          <span style=\"color: #00af00; text-decoration-color: #00af00\">16,512</span> │\n",
       "├──────────────────────────────────────┼─────────────────────────────┼─────────────────┤\n",
       "│ dense_1 (<span style=\"color: #0087ff; text-decoration-color: #0087ff\">Dense</span>)                      │ (<span style=\"color: #00d7ff; text-decoration-color: #00d7ff\">None</span>, <span style=\"color: #00af00; text-decoration-color: #00af00\">6</span>)                   │             <span style=\"color: #00af00; text-decoration-color: #00af00\">774</span> │\n",
       "└──────────────────────────────────────┴─────────────────────────────┴─────────────────┘\n",
       "</pre>\n"
      ],
      "text/plain": [
       "┏━━━━━━━━━━━━━━━━━━━━━━━━━━━━━━━━━━━━━━┳━━━━━━━━━━━━━━━━━━━━━━━━━━━━━┳━━━━━━━━━━━━━━━━━┓\n",
       "┃\u001b[1m \u001b[0m\u001b[1mLayer (type)                        \u001b[0m\u001b[1m \u001b[0m┃\u001b[1m \u001b[0m\u001b[1mOutput Shape               \u001b[0m\u001b[1m \u001b[0m┃\u001b[1m \u001b[0m\u001b[1m        Param #\u001b[0m\u001b[1m \u001b[0m┃\n",
       "┡━━━━━━━━━━━━━━━━━━━━━━━━━━━━━━━━━━━━━━╇━━━━━━━━━━━━━━━━━━━━━━━━━━━━━╇━━━━━━━━━━━━━━━━━┩\n",
       "│ flatten (\u001b[38;5;33mFlatten\u001b[0m)                    │ (\u001b[38;5;45mNone\u001b[0m, \u001b[38;5;34m12288\u001b[0m)               │               \u001b[38;5;34m0\u001b[0m │\n",
       "├──────────────────────────────────────┼─────────────────────────────┼─────────────────┤\n",
       "│ reshape (\u001b[38;5;33mReshape\u001b[0m)                    │ (\u001b[38;5;45mNone\u001b[0m, \u001b[38;5;34m16\u001b[0m, \u001b[38;5;34m768\u001b[0m)             │               \u001b[38;5;34m0\u001b[0m │\n",
       "├──────────────────────────────────────┼─────────────────────────────┼─────────────────┤\n",
       "│ bidirectional (\u001b[38;5;33mBidirectional\u001b[0m)        │ (\u001b[38;5;45mNone\u001b[0m, \u001b[38;5;34m128\u001b[0m)                 │         \u001b[38;5;34m320,256\u001b[0m │\n",
       "├──────────────────────────────────────┼─────────────────────────────┼─────────────────┤\n",
       "│ dense (\u001b[38;5;33mDense\u001b[0m)                        │ (\u001b[38;5;45mNone\u001b[0m, \u001b[38;5;34m128\u001b[0m)                 │          \u001b[38;5;34m16,512\u001b[0m │\n",
       "├──────────────────────────────────────┼─────────────────────────────┼─────────────────┤\n",
       "│ dense_1 (\u001b[38;5;33mDense\u001b[0m)                      │ (\u001b[38;5;45mNone\u001b[0m, \u001b[38;5;34m6\u001b[0m)                   │             \u001b[38;5;34m774\u001b[0m │\n",
       "└──────────────────────────────────────┴─────────────────────────────┴─────────────────┘\n"
      ]
     },
     "metadata": {},
     "output_type": "display_data"
    },
    {
     "data": {
      "text/html": [
       "<pre style=\"white-space:pre;overflow-x:auto;line-height:normal;font-family:Menlo,'DejaVu Sans Mono',consolas,'Courier New',monospace\"><span style=\"font-weight: bold\"> Total params: </span><span style=\"color: #00af00; text-decoration-color: #00af00\">1,012,628</span> (3.86 MB)\n",
       "</pre>\n"
      ],
      "text/plain": [
       "\u001b[1m Total params: \u001b[0m\u001b[38;5;34m1,012,628\u001b[0m (3.86 MB)\n"
      ]
     },
     "metadata": {},
     "output_type": "display_data"
    },
    {
     "data": {
      "text/html": [
       "<pre style=\"white-space:pre;overflow-x:auto;line-height:normal;font-family:Menlo,'DejaVu Sans Mono',consolas,'Courier New',monospace\"><span style=\"font-weight: bold\"> Trainable params: </span><span style=\"color: #00af00; text-decoration-color: #00af00\">337,542</span> (1.29 MB)\n",
       "</pre>\n"
      ],
      "text/plain": [
       "\u001b[1m Trainable params: \u001b[0m\u001b[38;5;34m337,542\u001b[0m (1.29 MB)\n"
      ]
     },
     "metadata": {},
     "output_type": "display_data"
    },
    {
     "data": {
      "text/html": [
       "<pre style=\"white-space:pre;overflow-x:auto;line-height:normal;font-family:Menlo,'DejaVu Sans Mono',consolas,'Courier New',monospace\"><span style=\"font-weight: bold\"> Non-trainable params: </span><span style=\"color: #00af00; text-decoration-color: #00af00\">0</span> (0.00 B)\n",
       "</pre>\n"
      ],
      "text/plain": [
       "\u001b[1m Non-trainable params: \u001b[0m\u001b[38;5;34m0\u001b[0m (0.00 B)\n"
      ]
     },
     "metadata": {},
     "output_type": "display_data"
    },
    {
     "data": {
      "text/html": [
       "<pre style=\"white-space:pre;overflow-x:auto;line-height:normal;font-family:Menlo,'DejaVu Sans Mono',consolas,'Courier New',monospace\"><span style=\"font-weight: bold\"> Optimizer params: </span><span style=\"color: #00af00; text-decoration-color: #00af00\">675,086</span> (2.58 MB)\n",
       "</pre>\n"
      ],
      "text/plain": [
       "\u001b[1m Optimizer params: \u001b[0m\u001b[38;5;34m675,086\u001b[0m (2.58 MB)\n"
      ]
     },
     "metadata": {},
     "output_type": "display_data"
    }
   ],
   "source": [
    "bi_gru_model.summary()"
   ]
  },
  {
   "cell_type": "code",
   "execution_count": null,
   "id": "f932346b-2632-42a3-8a20-e55de53971f7",
   "metadata": {},
   "outputs": [],
   "source": []
  }
 ],
 "metadata": {
  "kernelspec": {
   "display_name": "Python 3 (ipykernel)",
   "language": "python",
   "name": "python3"
  },
  "language_info": {
   "codemirror_mode": {
    "name": "ipython",
    "version": 3
   },
   "file_extension": ".py",
   "mimetype": "text/x-python",
   "name": "python",
   "nbconvert_exporter": "python",
   "pygments_lexer": "ipython3",
   "version": "3.12.2"
  }
 },
 "nbformat": 4,
 "nbformat_minor": 5
}
