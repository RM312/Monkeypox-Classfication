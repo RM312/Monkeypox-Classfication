{
 "cells": [
  {
   "cell_type": "code",
   "execution_count": 1,
   "id": "0e9a4504-cec5-434b-8ff5-b8e0a172443f",
   "metadata": {},
   "outputs": [],
   "source": [
    "import tensorflow as tf\n",
    "from tensorflow.keras.preprocessing.image import ImageDataGenerator\n",
    "import matplotlib.pyplot as plt"
   ]
  },
  {
   "cell_type": "code",
   "execution_count": 2,
   "id": "cfe78eae-064c-4c35-ae13-ab3377bf71c8",
   "metadata": {},
   "outputs": [
    {
     "name": "stdout",
     "output_type": "stream",
     "text": [
      "Found 7518 images belonging to 6 classes.\n"
     ]
    }
   ],
   "source": [
    "# Data Augmentation for Training\n",
    "train_datagen = ImageDataGenerator(rescale=1./255,\n",
    "                                   shear_range=0.2,\n",
    "                                   zoom_range=0.2,\n",
    "                                   horizontal_flip=True)\n",
    "training_set = train_datagen.flow_from_directory(\n",
    "    \"Monkeypox/archive (60)/Augmented Images/Augmented Images/FOLDS_AUG/fold1_AUG/Train/\",\n",
    "    target_size=(64, 64),\n",
    "    batch_size=32,\n",
    "    class_mode='categorical',  # Use 'categorical' for one-hot encoded labels\n",
    ")"
   ]
  },
  {
   "cell_type": "code",
   "execution_count": 3,
   "id": "5d0a92d2-43e1-402a-b2e4-755cbaa4fbdd",
   "metadata": {},
   "outputs": [
    {
     "name": "stdout",
     "output_type": "stream",
     "text": [
      "Found 7518 images belonging to 6 classes.\n"
     ]
    }
   ],
   "source": [
    "test_datagen = ImageDataGenerator(rescale=1./255)\n",
    "validation_set = test_datagen.flow_from_directory(\n",
    "    \"Monkeypox/archive (60)/Augmented Images/Augmented Images/FOLDS_AUG/fold1_AUG/Train/\",\n",
    "    target_size=(64, 64),\n",
    "    batch_size=32,\n",
    "    class_mode='categorical',  # Use 'categorical' for one-hot encoded labels\n",
    ")"
   ]
  },
  {
   "cell_type": "code",
   "execution_count": 4,
   "id": "5f6c685d-3ff1-49dd-be6d-481b36ec8f76",
   "metadata": {},
   "outputs": [],
   "source": [
    "# Custom F1 Score Metric\n",
    "class F1Score(tf.keras.metrics.Metric):\n",
    "    def __init__(self, name='f1_score', **kwargs):\n",
    "        super(F1Score, self).__init__(name=name, **kwargs)\n",
    "        self.precision = tf.keras.metrics.Precision()\n",
    "        self.recall = tf.keras.metrics.Recall()\n",
    "\n",
    "    def update_state(self, y_true, y_pred, sample_weight=None):\n",
    "        # Update the precision and recall for each batch\n",
    "        self.precision.update_state(y_true, y_pred, sample_weight)\n",
    "        self.recall.update_state(y_true, y_pred, sample_weight)\n",
    "\n",
    "    def result(self):\n",
    "        # Calculate F1 score as the harmonic mean of precision and recall\n",
    "        precision = self.precision.result()\n",
    "        recall = self.recall.result()\n",
    "        return 2 * (precision * recall) / (precision + recall + tf.keras.backend.epsilon())\n",
    "\n",
    "    def reset_states(self):\n",
    "        self.precision.reset_states()\n",
    "        self.recall.reset_states()"
   ]
  },
  {
   "cell_type": "code",
   "execution_count": 5,
   "id": "7d18d5e2-ad5c-4b93-bebe-17d0fb838a54",
   "metadata": {},
   "outputs": [],
   "source": [
    "# Build the Bi-GRU Model\n",
    "bi_gru_model = tf.keras.models.Sequential()"
   ]
  },
  {
   "cell_type": "code",
   "execution_count": 6,
   "id": "c5f89679-82b6-452a-9840-f7ebe46832ce",
   "metadata": {},
   "outputs": [
    {
     "name": "stderr",
     "output_type": "stream",
     "text": [
      "C:\\Users\\KIIT\\AppData\\Local\\Programs\\Python\\Python312\\Lib\\site-packages\\keras\\src\\layers\\reshaping\\flatten.py:37: UserWarning: Do not pass an `input_shape`/`input_dim` argument to a layer. When using Sequential models, prefer using an `Input(shape)` object as the first layer in the model instead.\n",
      "  super().__init__(**kwargs)\n"
     ]
    }
   ],
   "source": [
    "# Flatten and Reshape for Bi-GRU\n",
    "bi_gru_model.add(tf.keras.layers.Flatten(input_shape=(64, 64, 3)))\n",
    "bi_gru_model.add(tf.keras.layers.Reshape((16, -1)))  # Reshape to (time_steps, features)"
   ]
  },
  {
   "cell_type": "code",
   "execution_count": 7,
   "id": "8c3a6af6-3c6b-4931-99a7-2d59ceddf116",
   "metadata": {},
   "outputs": [],
   "source": [
    "# Bidirectional GRU Layer\n",
    "bi_gru_model.add(tf.keras.layers.Bidirectional(tf.keras.layers.GRU(units=64, activation='tanh', return_sequences=False)))\n"
   ]
  },
  {
   "cell_type": "code",
   "execution_count": 8,
   "id": "23e3a3ad-ea2c-444d-b3ef-5aafecdeda2b",
   "metadata": {},
   "outputs": [],
   "source": [
    "# Fully Connected Layers\n",
    "bi_gru_model.add(tf.keras.layers.Dense(units=128, activation='relu'))\n",
    "bi_gru_model.add(tf.keras.layers.Dense(6, activation='softmax'))  # 6 classes"
   ]
  },
  {
   "cell_type": "code",
   "execution_count": 9,
   "id": "f516ff88-7f46-41cf-a6fc-b7bb0dbe15db",
   "metadata": {},
   "outputs": [],
   "source": [
    "# Compile the model with Precision, Recall, and F1 Score\n",
    "bi_gru_model.compile(\n",
    "    optimizer='adam',\n",
    "    loss='categorical_crossentropy',  # Use categorical_crossentropy for one-hot encoded labels\n",
    "    metrics=[\n",
    "        'accuracy',\n",
    "        tf.keras.metrics.Precision(name='precision'),\n",
    "        tf.keras.metrics.Recall(name='recall'),\n",
    "        F1Score(name='f1_score')  # Add custom F1 score metric\n",
    "    ]\n",
    ")"
   ]
  },
  {
   "cell_type": "code",
   "execution_count": 10,
   "id": "65df02c1-a3e0-4357-a3b4-c7517831166c",
   "metadata": {},
   "outputs": [
    {
     "name": "stderr",
     "output_type": "stream",
     "text": [
      "C:\\Users\\KIIT\\AppData\\Local\\Programs\\Python\\Python312\\Lib\\site-packages\\keras\\src\\trainers\\data_adapters\\py_dataset_adapter.py:121: UserWarning: Your `PyDataset` class should call `super().__init__(**kwargs)` in its constructor. `**kwargs` can include `workers`, `use_multiprocessing`, `max_queue_size`. Do not pass these arguments to `fit()`, as they will be ignored.\n",
      "  self._warn_if_super_not_called()\n"
     ]
    },
    {
     "name": "stdout",
     "output_type": "stream",
     "text": [
      "Epoch 1/100\n",
      "\u001b[1m235/235\u001b[0m \u001b[32m━━━━━━━━━━━━━━━━━━━━\u001b[0m\u001b[37m\u001b[0m \u001b[1m0s\u001b[0m 566ms/step - accuracy: 0.3638 - f1_score: 0.1039 - loss: 1.6297 - precision: 0.4622 - recall: 0.0590"
     ]
    },
    {
     "name": "stderr",
     "output_type": "stream",
     "text": [
      "C:\\Users\\KIIT\\AppData\\Local\\Programs\\Python\\Python312\\Lib\\site-packages\\keras\\src\\trainers\\data_adapters\\py_dataset_adapter.py:121: UserWarning: Your `PyDataset` class should call `super().__init__(**kwargs)` in its constructor. `**kwargs` can include `workers`, `use_multiprocessing`, `max_queue_size`. Do not pass these arguments to `fit()`, as they will be ignored.\n",
      "  self._warn_if_super_not_called()\n"
     ]
    },
    {
     "name": "stdout",
     "output_type": "stream",
     "text": [
      "\u001b[1m235/235\u001b[0m \u001b[32m━━━━━━━━━━━━━━━━━━━━\u001b[0m\u001b[37m\u001b[0m \u001b[1m234s\u001b[0m 878ms/step - accuracy: 0.3638 - f1_score: 0.1040 - loss: 1.6296 - precision: 0.4625 - recall: 0.0591 - val_accuracy: 0.3856 - val_f1_score: 0.2766 - val_loss: 1.5393 - val_precision: 0.5152 - val_recall: 0.1890\n",
      "Epoch 2/100\n",
      "\u001b[1m235/235\u001b[0m \u001b[32m━━━━━━━━━━━━━━━━━━━━\u001b[0m\u001b[37m\u001b[0m \u001b[1m232s\u001b[0m 989ms/step - accuracy: 0.4055 - f1_score: 0.1960 - loss: 1.5263 - precision: 0.5760 - recall: 0.1183 - val_accuracy: 0.4343 - val_f1_score: 0.1660 - val_loss: 1.4728 - val_precision: 0.6989 - val_recall: 0.0942\n",
      "Epoch 3/100\n",
      "\u001b[1m235/235\u001b[0m \u001b[32m━━━━━━━━━━━━━━━━━━━━\u001b[0m\u001b[37m\u001b[0m \u001b[1m233s\u001b[0m 993ms/step - accuracy: 0.4307 - f1_score: 0.2314 - loss: 1.4746 - precision: 0.6174 - recall: 0.1426 - val_accuracy: 0.4769 - val_f1_score: 0.1733 - val_loss: 1.4188 - val_precision: 0.7387 - val_recall: 0.0982\n",
      "Epoch 4/100\n",
      "\u001b[1m235/235\u001b[0m \u001b[32m━━━━━━━━━━━━━━━━━━━━\u001b[0m\u001b[37m\u001b[0m \u001b[1m236s\u001b[0m 1s/step - accuracy: 0.4483 - f1_score: 0.2677 - loss: 1.4431 - precision: 0.6246 - recall: 0.1710 - val_accuracy: 0.4485 - val_f1_score: 0.3988 - val_loss: 1.4424 - val_precision: 0.5016 - val_recall: 0.3309\n",
      "Epoch 5/100\n",
      "\u001b[1m235/235\u001b[0m \u001b[32m━━━━━━━━━━━━━━━━━━━━\u001b[0m\u001b[37m\u001b[0m \u001b[1m235s\u001b[0m 999ms/step - accuracy: 0.4649 - f1_score: 0.3166 - loss: 1.3837 - precision: 0.6288 - recall: 0.2122 - val_accuracy: 0.4980 - val_f1_score: 0.2455 - val_loss: 1.3450 - val_precision: 0.7653 - val_recall: 0.1462\n",
      "Epoch 6/100\n",
      "\u001b[1m235/235\u001b[0m \u001b[32m━━━━━━━━━━━━━━━━━━━━\u001b[0m\u001b[37m\u001b[0m \u001b[1m231s\u001b[0m 986ms/step - accuracy: 0.4836 - f1_score: 0.3463 - loss: 1.3371 - precision: 0.6580 - recall: 0.2355 - val_accuracy: 0.5132 - val_f1_score: 0.4448 - val_loss: 1.2727 - val_precision: 0.6528 - val_recall: 0.3373\n",
      "Epoch 7/100\n",
      "\u001b[1m235/235\u001b[0m \u001b[32m━━━━━━━━━━━━━━━━━━━━\u001b[0m\u001b[37m\u001b[0m \u001b[1m234s\u001b[0m 994ms/step - accuracy: 0.4928 - f1_score: 0.3790 - loss: 1.3070 - precision: 0.6502 - recall: 0.2678 - val_accuracy: 0.5105 - val_f1_score: 0.4369 - val_loss: 1.2693 - val_precision: 0.6232 - val_recall: 0.3364\n",
      "Epoch 8/100\n",
      "\u001b[1m235/235\u001b[0m \u001b[32m━━━━━━━━━━━━━━━━━━━━\u001b[0m\u001b[37m\u001b[0m \u001b[1m242s\u001b[0m 1s/step - accuracy: 0.5039 - f1_score: 0.3911 - loss: 1.2867 - precision: 0.6535 - recall: 0.2792 - val_accuracy: 0.5486 - val_f1_score: 0.4653 - val_loss: 1.1834 - val_precision: 0.7261 - val_recall: 0.3424\n",
      "Epoch 9/100\n",
      "\u001b[1m235/235\u001b[0m \u001b[32m━━━━━━━━━━━━━━━━━━━━\u001b[0m\u001b[37m\u001b[0m \u001b[1m246s\u001b[0m 1s/step - accuracy: 0.5254 - f1_score: 0.4470 - loss: 1.2219 - precision: 0.7121 - recall: 0.3260 - val_accuracy: 0.5399 - val_f1_score: 0.4812 - val_loss: 1.1840 - val_precision: 0.7080 - val_recall: 0.3645\n",
      "Epoch 10/100\n",
      "\u001b[1m235/235\u001b[0m \u001b[32m━━━━━━━━━━━━━━━━━━━━\u001b[0m\u001b[37m\u001b[0m \u001b[1m292s\u001b[0m 1s/step - accuracy: 0.5481 - f1_score: 0.4758 - loss: 1.1958 - precision: 0.7199 - recall: 0.3555 - val_accuracy: 0.5569 - val_f1_score: 0.5089 - val_loss: 1.1708 - val_precision: 0.7094 - val_recall: 0.3968\n",
      "Epoch 11/100\n",
      "\u001b[1m235/235\u001b[0m \u001b[32m━━━━━━━━━━━━━━━━━━━━\u001b[0m\u001b[37m\u001b[0m \u001b[1m226s\u001b[0m 962ms/step - accuracy: 0.5438 - f1_score: 0.4640 - loss: 1.1984 - precision: 0.7063 - recall: 0.3457 - val_accuracy: 0.5724 - val_f1_score: 0.5335 - val_loss: 1.1065 - val_precision: 0.7341 - val_recall: 0.4190\n",
      "Epoch 12/100\n",
      "\u001b[1m235/235\u001b[0m \u001b[32m━━━━━━━━━━━━━━━━━━━━\u001b[0m\u001b[37m\u001b[0m \u001b[1m151s\u001b[0m 642ms/step - accuracy: 0.5579 - f1_score: 0.4929 - loss: 1.1528 - precision: 0.7136 - recall: 0.3765 - val_accuracy: 0.5986 - val_f1_score: 0.5333 - val_loss: 1.0661 - val_precision: 0.7564 - val_recall: 0.4118\n",
      "Epoch 13/100\n",
      "\u001b[1m235/235\u001b[0m \u001b[32m━━━━━━━━━━━━━━━━━━━━\u001b[0m\u001b[37m\u001b[0m \u001b[1m171s\u001b[0m 510ms/step - accuracy: 0.5758 - f1_score: 0.5073 - loss: 1.1348 - precision: 0.7169 - recall: 0.3926 - val_accuracy: 0.6042 - val_f1_score: 0.5443 - val_loss: 1.0588 - val_precision: 0.7593 - val_recall: 0.4242\n",
      "Epoch 14/100\n",
      "\u001b[1m235/235\u001b[0m \u001b[32m━━━━━━━━━━━━━━━━━━━━\u001b[0m\u001b[37m\u001b[0m \u001b[1m127s\u001b[0m 540ms/step - accuracy: 0.5799 - f1_score: 0.5250 - loss: 1.1244 - precision: 0.7184 - recall: 0.4137 - val_accuracy: 0.5974 - val_f1_score: 0.5642 - val_loss: 1.0597 - val_precision: 0.7463 - val_recall: 0.4536\n",
      "Epoch 15/100\n",
      "\u001b[1m235/235\u001b[0m \u001b[32m━━━━━━━━━━━━━━━━━━━━\u001b[0m\u001b[37m\u001b[0m \u001b[1m134s\u001b[0m 571ms/step - accuracy: 0.5931 - f1_score: 0.5403 - loss: 1.0708 - precision: 0.7483 - recall: 0.4231 - val_accuracy: 0.5990 - val_f1_score: 0.5299 - val_loss: 1.0588 - val_precision: 0.7504 - val_recall: 0.4096\n",
      "Epoch 16/100\n",
      "\u001b[1m235/235\u001b[0m \u001b[32m━━━━━━━━━━━━━━━━━━━━\u001b[0m\u001b[37m\u001b[0m \u001b[1m141s\u001b[0m 600ms/step - accuracy: 0.5877 - f1_score: 0.5362 - loss: 1.0876 - precision: 0.7194 - recall: 0.4274 - val_accuracy: 0.6289 - val_f1_score: 0.5812 - val_loss: 0.9892 - val_precision: 0.7803 - val_recall: 0.4630\n",
      "Epoch 17/100\n",
      "\u001b[1m235/235\u001b[0m \u001b[32m━━━━━━━━━━━━━━━━━━━━\u001b[0m\u001b[37m\u001b[0m \u001b[1m137s\u001b[0m 581ms/step - accuracy: 0.6046 - f1_score: 0.5514 - loss: 1.0613 - precision: 0.7382 - recall: 0.4402 - val_accuracy: 0.6363 - val_f1_score: 0.5975 - val_loss: 0.9661 - val_precision: 0.7980 - val_recall: 0.4775\n",
      "Epoch 18/100\n",
      "\u001b[1m235/235\u001b[0m \u001b[32m━━━━━━━━━━━━━━━━━━━━\u001b[0m\u001b[37m\u001b[0m \u001b[1m140s\u001b[0m 595ms/step - accuracy: 0.6216 - f1_score: 0.5743 - loss: 1.0168 - precision: 0.7504 - recall: 0.4652 - val_accuracy: 0.6296 - val_f1_score: 0.5981 - val_loss: 0.9584 - val_precision: 0.7745 - val_recall: 0.4871\n",
      "Epoch 19/100\n",
      "\u001b[1m235/235\u001b[0m \u001b[32m━━━━━━━━━━━━━━━━━━━━\u001b[0m\u001b[37m\u001b[0m \u001b[1m139s\u001b[0m 592ms/step - accuracy: 0.6080 - f1_score: 0.5719 - loss: 1.0264 - precision: 0.7527 - recall: 0.4611 - val_accuracy: 0.6425 - val_f1_score: 0.6282 - val_loss: 0.9357 - val_precision: 0.7392 - val_recall: 0.5462\n",
      "Epoch 20/100\n",
      "\u001b[1m235/235\u001b[0m \u001b[32m━━━━━━━━━━━━━━━━━━━━\u001b[0m\u001b[37m\u001b[0m \u001b[1m136s\u001b[0m 579ms/step - accuracy: 0.6267 - f1_score: 0.5844 - loss: 1.0032 - precision: 0.7500 - recall: 0.4789 - val_accuracy: 0.6649 - val_f1_score: 0.6239 - val_loss: 0.8922 - val_precision: 0.8104 - val_recall: 0.5072\n",
      "Epoch 21/100\n",
      "\u001b[1m235/235\u001b[0m \u001b[32m━━━━━━━━━━━━━━━━━━━━\u001b[0m\u001b[37m\u001b[0m \u001b[1m138s\u001b[0m 585ms/step - accuracy: 0.6383 - f1_score: 0.5918 - loss: 0.9795 - precision: 0.7613 - recall: 0.4840 - val_accuracy: 0.6664 - val_f1_score: 0.6192 - val_loss: 0.8898 - val_precision: 0.8059 - val_recall: 0.5027\n",
      "Epoch 22/100\n",
      "\u001b[1m235/235\u001b[0m \u001b[32m━━━━━━━━━━━━━━━━━━━━\u001b[0m\u001b[37m\u001b[0m \u001b[1m143s\u001b[0m 610ms/step - accuracy: 0.6356 - f1_score: 0.6044 - loss: 0.9555 - precision: 0.7721 - recall: 0.4966 - val_accuracy: 0.6672 - val_f1_score: 0.6374 - val_loss: 0.8795 - val_precision: 0.7891 - val_recall: 0.5346\n",
      "Epoch 23/100\n",
      "\u001b[1m235/235\u001b[0m \u001b[32m━━━━━━━━━━━━━━━━━━━━\u001b[0m\u001b[37m\u001b[0m \u001b[1m177s\u001b[0m 754ms/step - accuracy: 0.6459 - f1_score: 0.6144 - loss: 0.9358 - precision: 0.7789 - recall: 0.5074 - val_accuracy: 0.6635 - val_f1_score: 0.6377 - val_loss: 0.8841 - val_precision: 0.7935 - val_recall: 0.5330\n",
      "Epoch 24/100\n",
      "\u001b[1m235/235\u001b[0m \u001b[32m━━━━━━━━━━━━━━━━━━━━\u001b[0m\u001b[37m\u001b[0m \u001b[1m131s\u001b[0m 555ms/step - accuracy: 0.6436 - f1_score: 0.6147 - loss: 0.9376 - precision: 0.7709 - recall: 0.5112 - val_accuracy: 0.6744 - val_f1_score: 0.6433 - val_loss: 0.8692 - val_precision: 0.7968 - val_recall: 0.5394\n",
      "Epoch 25/100\n",
      "\u001b[1m235/235\u001b[0m \u001b[32m━━━━━━━━━━━━━━━━━━━━\u001b[0m\u001b[37m\u001b[0m \u001b[1m142s\u001b[0m 605ms/step - accuracy: 0.6560 - f1_score: 0.6313 - loss: 0.9209 - precision: 0.7826 - recall: 0.5291 - val_accuracy: 0.6805 - val_f1_score: 0.6578 - val_loss: 0.8379 - val_precision: 0.7852 - val_recall: 0.5660\n",
      "Epoch 26/100\n",
      "\u001b[1m235/235\u001b[0m \u001b[32m━━━━━━━━━━━━━━━━━━━━\u001b[0m\u001b[37m\u001b[0m \u001b[1m141s\u001b[0m 602ms/step - accuracy: 0.6620 - f1_score: 0.6419 - loss: 0.8842 - precision: 0.7794 - recall: 0.5458 - val_accuracy: 0.6846 - val_f1_score: 0.6578 - val_loss: 0.8322 - val_precision: 0.8147 - val_recall: 0.5516\n",
      "Epoch 27/100\n",
      "\u001b[1m235/235\u001b[0m \u001b[32m━━━━━━━━━━━━━━━━━━━━\u001b[0m\u001b[37m\u001b[0m \u001b[1m138s\u001b[0m 588ms/step - accuracy: 0.6534 - f1_score: 0.6261 - loss: 0.9083 - precision: 0.7681 - recall: 0.5284 - val_accuracy: 0.6975 - val_f1_score: 0.6542 - val_loss: 0.8161 - val_precision: 0.8305 - val_recall: 0.5396\n",
      "Epoch 28/100\n",
      "\u001b[1m235/235\u001b[0m \u001b[32m━━━━━━━━━━━━━━━━━━━━\u001b[0m\u001b[37m\u001b[0m \u001b[1m141s\u001b[0m 601ms/step - accuracy: 0.6742 - f1_score: 0.6586 - loss: 0.8623 - precision: 0.8003 - recall: 0.5595 - val_accuracy: 0.7026 - val_f1_score: 0.6781 - val_loss: 0.7865 - val_precision: 0.7938 - val_recall: 0.5919\n",
      "Epoch 29/100\n",
      "\u001b[1m235/235\u001b[0m \u001b[32m━━━━━━━━━━━━━━━━━━━━\u001b[0m\u001b[37m\u001b[0m \u001b[1m143s\u001b[0m 605ms/step - accuracy: 0.6665 - f1_score: 0.6441 - loss: 0.8552 - precision: 0.7816 - recall: 0.5477 - val_accuracy: 0.7054 - val_f1_score: 0.6914 - val_loss: 0.7761 - val_precision: 0.8143 - val_recall: 0.6007\n",
      "Epoch 30/100\n",
      "\u001b[1m235/235\u001b[0m \u001b[32m━━━━━━━━━━━━━━━━━━━━\u001b[0m\u001b[37m\u001b[0m \u001b[1m208s\u001b[0m 885ms/step - accuracy: 0.6819 - f1_score: 0.6575 - loss: 0.8490 - precision: 0.7856 - recall: 0.5654 - val_accuracy: 0.7317 - val_f1_score: 0.7019 - val_loss: 0.7314 - val_precision: 0.8468 - val_recall: 0.5994\n",
      "Epoch 32/100\n",
      "\u001b[1m235/235\u001b[0m \u001b[32m━━━━━━━━━━━━━━━━━━━━\u001b[0m\u001b[37m\u001b[0m \u001b[1m124s\u001b[0m 529ms/step - accuracy: 0.6867 - f1_score: 0.6596 - loss: 0.8370 - precision: 0.7963 - recall: 0.5631 - val_accuracy: 0.7123 - val_f1_score: 0.6932 - val_loss: 0.7829 - val_precision: 0.8343 - val_recall: 0.5928\n",
      "Epoch 33/100\n",
      "\u001b[1m235/235\u001b[0m \u001b[32m━━━━━━━━━━━━━━━━━━━━\u001b[0m\u001b[37m\u001b[0m \u001b[1m126s\u001b[0m 537ms/step - accuracy: 0.6888 - f1_score: 0.6701 - loss: 0.8183 - precision: 0.7963 - recall: 0.5785 - val_accuracy: 0.7153 - val_f1_score: 0.6856 - val_loss: 0.7587 - val_precision: 0.8482 - val_recall: 0.5753\n",
      "Epoch 34/100\n",
      "\u001b[1m235/235\u001b[0m \u001b[32m━━━━━━━━━━━━━━━━━━━━\u001b[0m\u001b[37m\u001b[0m \u001b[1m161s\u001b[0m 684ms/step - accuracy: 0.6839 - f1_score: 0.6690 - loss: 0.8111 - precision: 0.7960 - recall: 0.5770 - val_accuracy: 0.7204 - val_f1_score: 0.7017 - val_loss: 0.7429 - val_precision: 0.8160 - val_recall: 0.6155\n",
      "Epoch 35/100\n",
      "\u001b[1m235/235\u001b[0m \u001b[32m━━━━━━━━━━━━━━━━━━━━\u001b[0m\u001b[37m\u001b[0m \u001b[1m187s\u001b[0m 798ms/step - accuracy: 0.6939 - f1_score: 0.6755 - loss: 0.8011 - precision: 0.7961 - recall: 0.5866 - val_accuracy: 0.7176 - val_f1_score: 0.7006 - val_loss: 0.7423 - val_precision: 0.8287 - val_recall: 0.6068\n",
      "Epoch 36/100\n",
      "\u001b[1m235/235\u001b[0m \u001b[32m━━━━━━━━━━━━━━━━━━━━\u001b[0m\u001b[37m\u001b[0m \u001b[1m239s\u001b[0m 1s/step - accuracy: 0.7041 - f1_score: 0.6882 - loss: 0.7817 - precision: 0.8079 - recall: 0.5995 - val_accuracy: 0.7431 - val_f1_score: 0.7312 - val_loss: 0.6948 - val_precision: 0.8363 - val_recall: 0.6495\n",
      "Epoch 37/100\n",
      "\u001b[1m235/235\u001b[0m \u001b[32m━━━━━━━━━━━━━━━━━━━━\u001b[0m\u001b[37m\u001b[0m \u001b[1m246s\u001b[0m 1s/step - accuracy: 0.7104 - f1_score: 0.6969 - loss: 0.7649 - precision: 0.8165 - recall: 0.6079 - val_accuracy: 0.7385 - val_f1_score: 0.7258 - val_loss: 0.6938 - val_precision: 0.8522 - val_recall: 0.6321\n",
      "Epoch 38/100\n",
      "\u001b[1m235/235\u001b[0m \u001b[32m━━━━━━━━━━━━━━━━━━━━\u001b[0m\u001b[37m\u001b[0m \u001b[1m177s\u001b[0m 748ms/step - accuracy: 0.7069 - f1_score: 0.6966 - loss: 0.7631 - precision: 0.8091 - recall: 0.6117 - val_accuracy: 0.7471 - val_f1_score: 0.7322 - val_loss: 0.6795 - val_precision: 0.8291 - val_recall: 0.6556\n",
      "Epoch 39/100\n",
      "\u001b[1m235/235\u001b[0m \u001b[32m━━━━━━━━━━━━━━━━━━━━\u001b[0m\u001b[37m\u001b[0m \u001b[1m225s\u001b[0m 957ms/step - accuracy: 0.7251 - f1_score: 0.7030 - loss: 0.7405 - precision: 0.8223 - recall: 0.6139 - val_accuracy: 0.7576 - val_f1_score: 0.7416 - val_loss: 0.6433 - val_precision: 0.8350 - val_recall: 0.6671\n",
      "Epoch 40/100\n",
      "\u001b[1m235/235\u001b[0m \u001b[32m━━━━━━━━━━━━━━━━━━━━\u001b[0m\u001b[37m\u001b[0m \u001b[1m244s\u001b[0m 1s/step - accuracy: 0.7296 - f1_score: 0.7087 - loss: 0.7240 - precision: 0.8144 - recall: 0.6274 - val_accuracy: 0.7515 - val_f1_score: 0.7360 - val_loss: 0.6644 - val_precision: 0.8373 - val_recall: 0.6566\n",
      "Epoch 41/100\n",
      "\u001b[1m235/235\u001b[0m \u001b[32m━━━━━━━━━━━━━━━━━━━━\u001b[0m\u001b[37m\u001b[0m \u001b[1m244s\u001b[0m 1s/step - accuracy: 0.7132 - f1_score: 0.6978 - loss: 0.7549 - precision: 0.8152 - recall: 0.6100 - val_accuracy: 0.7623 - val_f1_score: 0.7551 - val_loss: 0.6186 - val_precision: 0.8329 - val_recall: 0.6906\n",
      "Epoch 42/100\n",
      "\u001b[1m235/235\u001b[0m \u001b[32m━━━━━━━━━━━━━━━━━━━━\u001b[0m\u001b[37m\u001b[0m \u001b[1m223s\u001b[0m 951ms/step - accuracy: 0.7314 - f1_score: 0.7139 - loss: 0.7109 - precision: 0.8220 - recall: 0.6310 - val_accuracy: 0.7547 - val_f1_score: 0.7475 - val_loss: 0.6449 - val_precision: 0.8635 - val_recall: 0.6590\n",
      "Epoch 43/100\n",
      "\u001b[1m235/235\u001b[0m \u001b[32m━━━━━━━━━━━━━━━━━━━━\u001b[0m\u001b[37m\u001b[0m \u001b[1m247s\u001b[0m 1s/step - accuracy: 0.7270 - f1_score: 0.7111 - loss: 0.7276 - precision: 0.8200 - recall: 0.6278 - val_accuracy: 0.7719 - val_f1_score: 0.7523 - val_loss: 0.6150 - val_precision: 0.8691 - val_recall: 0.6632\n",
      "Epoch 44/100\n",
      "\u001b[1m235/235\u001b[0m \u001b[32m━━━━━━━━━━━━━━━━━━━━\u001b[0m\u001b[37m\u001b[0m \u001b[1m250s\u001b[0m 1s/step - accuracy: 0.7323 - f1_score: 0.7172 - loss: 0.7127 - precision: 0.8266 - recall: 0.6333 - val_accuracy: 0.7547 - val_f1_score: 0.7440 - val_loss: 0.6529 - val_precision: 0.8506 - val_recall: 0.6611\n",
      "Epoch 45/100\n",
      "\u001b[1m235/235\u001b[0m \u001b[32m━━━━━━━━━━━━━━━━━━━━\u001b[0m\u001b[37m\u001b[0m \u001b[1m243s\u001b[0m 1s/step - accuracy: 0.7316 - f1_score: 0.7129 - loss: 0.7358 - precision: 0.8220 - recall: 0.6295 - val_accuracy: 0.7801 - val_f1_score: 0.7584 - val_loss: 0.6119 - val_precision: 0.8721 - val_recall: 0.6709\n",
      "Epoch 46/100\n",
      "\u001b[1m235/235\u001b[0m \u001b[32m━━━━━━━━━━━━━━━━━━━━\u001b[0m\u001b[37m\u001b[0m \u001b[1m213s\u001b[0m 905ms/step - accuracy: 0.7354 - f1_score: 0.7283 - loss: 0.6872 - precision: 0.8317 - recall: 0.6479 - val_accuracy: 0.7662 - val_f1_score: 0.7454 - val_loss: 0.6414 - val_precision: 0.8773 - val_recall: 0.6479\n",
      "Epoch 47/100\n",
      "\u001b[1m235/235\u001b[0m \u001b[32m━━━━━━━━━━━━━━━━━━━━\u001b[0m\u001b[37m\u001b[0m \u001b[1m210s\u001b[0m 893ms/step - accuracy: 0.7241 - f1_score: 0.7142 - loss: 0.7227 - precision: 0.8166 - recall: 0.6348 - val_accuracy: 0.7702 - val_f1_score: 0.7609 - val_loss: 0.6127 - val_precision: 0.8586 - val_recall: 0.6832\n",
      "Epoch 48/100\n",
      "\u001b[1m235/235\u001b[0m \u001b[32m━━━━━━━━━━━━━━━━━━━━\u001b[0m\u001b[37m\u001b[0m \u001b[1m235s\u001b[0m 1000ms/step - accuracy: 0.7438 - f1_score: 0.7354 - loss: 0.6848 - precision: 0.8277 - recall: 0.6617 - val_accuracy: 0.7374 - val_f1_score: 0.7222 - val_loss: 0.6668 - val_precision: 0.8431 - val_recall: 0.6317\n",
      "Epoch 49/100\n",
      "\u001b[1m235/235\u001b[0m \u001b[32m━━━━━━━━━━━━━━━━━━━━\u001b[0m\u001b[37m\u001b[0m \u001b[1m223s\u001b[0m 948ms/step - accuracy: 0.7363 - f1_score: 0.7210 - loss: 0.6946 - precision: 0.8229 - recall: 0.6419 - val_accuracy: 0.7763 - val_f1_score: 0.7667 - val_loss: 0.6047 - val_precision: 0.8669 - val_recall: 0.6873\n",
      "Epoch 50/100\n",
      "\u001b[1m235/235\u001b[0m \u001b[32m━━━━━━━━━━━━━━━━━━━━\u001b[0m\u001b[37m\u001b[0m \u001b[1m254s\u001b[0m 1s/step - accuracy: 0.7333 - f1_score: 0.7270 - loss: 0.6960 - precision: 0.8213 - recall: 0.6522 - val_accuracy: 0.7866 - val_f1_score: 0.7772 - val_loss: 0.5887 - val_precision: 0.8641 - val_recall: 0.7062\n",
      "Epoch 51/100\n",
      "\u001b[1m235/235\u001b[0m \u001b[32m━━━━━━━━━━━━━━━━━━━━\u001b[0m\u001b[37m\u001b[0m \u001b[1m271s\u001b[0m 1s/step - accuracy: 0.7570 - f1_score: 0.7398 - loss: 0.6573 - precision: 0.8349 - recall: 0.6641 - val_accuracy: 0.8089 - val_f1_score: 0.7915 - val_loss: 0.5355 - val_precision: 0.9023 - val_recall: 0.7050\n",
      "Epoch 54/100\n",
      "\u001b[1m235/235\u001b[0m \u001b[32m━━━━━━━━━━━━━━━━━━━━\u001b[0m\u001b[37m\u001b[0m \u001b[1m273s\u001b[0m 1s/step - accuracy: 0.7629 - f1_score: 0.7576 - loss: 0.6319 - precision: 0.8435 - recall: 0.6877 - val_accuracy: 0.7799 - val_f1_score: 0.7770 - val_loss: 0.6113 - val_precision: 0.8496 - val_recall: 0.7159\n",
      "Epoch 55/100\n",
      "\u001b[1m235/235\u001b[0m \u001b[32m━━━━━━━━━━━━━━━━━━━━\u001b[0m\u001b[37m\u001b[0m \u001b[1m282s\u001b[0m 1s/step - accuracy: 0.7638 - f1_score: 0.7548 - loss: 0.6372 - precision: 0.8435 - recall: 0.6830 - val_accuracy: 0.8007 - val_f1_score: 0.7833 - val_loss: 0.5562 - val_precision: 0.8809 - val_recall: 0.7052\n",
      "Epoch 62/100\n",
      "\u001b[1m235/235\u001b[0m \u001b[32m━━━━━━━━━━━━━━━━━━━━\u001b[0m\u001b[37m\u001b[0m \u001b[1m273s\u001b[0m 1s/step - accuracy: 0.7766 - f1_score: 0.7688 - loss: 0.6060 - precision: 0.8476 - recall: 0.7036 - val_accuracy: 0.7954 - val_f1_score: 0.7904 - val_loss: 0.5468 - val_precision: 0.8686 - val_recall: 0.7252\n",
      "Epoch 63/100\n",
      "\u001b[1m235/235\u001b[0m \u001b[32m━━━━━━━━━━━━━━━━━━━━\u001b[0m\u001b[37m\u001b[0m \u001b[1m193s\u001b[0m 820ms/step - accuracy: 0.7690 - f1_score: 0.7555 - loss: 0.6273 - precision: 0.8333 - recall: 0.6910 - val_accuracy: 0.8146 - val_f1_score: 0.8118 - val_loss: 0.4931 - val_precision: 0.8758 - val_recall: 0.7566\n",
      "Epoch 64/100\n",
      "\u001b[1m235/235\u001b[0m \u001b[32m━━━━━━━━━━━━━━━━━━━━\u001b[0m\u001b[37m\u001b[0m \u001b[1m265s\u001b[0m 1s/step - accuracy: 0.7915 - f1_score: 0.7808 - loss: 0.5679 - precision: 0.8592 - recall: 0.7154 - val_accuracy: 0.8027 - val_f1_score: 0.7955 - val_loss: 0.5383 - val_precision: 0.8668 - val_recall: 0.7350\n",
      "Epoch 65/100\n",
      "\u001b[1m235/235\u001b[0m \u001b[32m━━━━━━━━━━━━━━━━━━━━\u001b[0m\u001b[37m\u001b[0m \u001b[1m238s\u001b[0m 1s/step - accuracy: 0.7809 - f1_score: 0.7745 - loss: 0.5887 - precision: 0.8480 - recall: 0.7128 - val_accuracy: 0.8232 - val_f1_score: 0.8127 - val_loss: 0.4927 - val_precision: 0.8889 - val_recall: 0.7485\n",
      "Epoch 66/100\n",
      "\u001b[1m235/235\u001b[0m \u001b[32m━━━━━━━━━━━━━━━━━━━━\u001b[0m\u001b[37m\u001b[0m \u001b[1m267s\u001b[0m 1s/step - accuracy: 0.7864 - f1_score: 0.7823 - loss: 0.5711 - precision: 0.8576 - recall: 0.7192 - val_accuracy: 0.7977 - val_f1_score: 0.7895 - val_loss: 0.5506 - val_precision: 0.8558 - val_recall: 0.7326\n",
      "Epoch 67/100\n",
      "\u001b[1m235/235\u001b[0m \u001b[32m━━━━━━━━━━━━━━━━━━━━\u001b[0m\u001b[37m\u001b[0m \u001b[1m259s\u001b[0m 1s/step - accuracy: 0.7643 - f1_score: 0.7599 - loss: 0.6100 - precision: 0.8351 - recall: 0.6972 - val_accuracy: 0.8090 - val_f1_score: 0.8014 - val_loss: 0.5113 - val_precision: 0.8837 - val_recall: 0.7330\n",
      "Epoch 68/100\n",
      "\u001b[1m235/235\u001b[0m \u001b[32m━━━━━━━━━━━━━━━━━━━━\u001b[0m\u001b[37m\u001b[0m \u001b[1m260s\u001b[0m 1s/step - accuracy: 0.7860 - f1_score: 0.7862 - loss: 0.5668 - precision: 0.8569 - recall: 0.7263 - val_accuracy: 0.8305 - val_f1_score: 0.8231 - val_loss: 0.4734 - val_precision: 0.8864 - val_recall: 0.7682\n",
      "Epoch 69/100\n",
      "\u001b[1m235/235\u001b[0m \u001b[32m━━━━━━━━━━━━━━━━━━━━\u001b[0m\u001b[37m\u001b[0m \u001b[1m277s\u001b[0m 1s/step - accuracy: 0.7951 - f1_score: 0.7912 - loss: 0.5466 - precision: 0.8589 - recall: 0.7335 - val_accuracy: 0.8356 - val_f1_score: 0.8206 - val_loss: 0.4676 - val_precision: 0.9029 - val_recall: 0.7521\n",
      "Epoch 70/100\n",
      "\u001b[1m235/235\u001b[0m \u001b[32m━━━━━━━━━━━━━━━━━━━━\u001b[0m\u001b[37m\u001b[0m \u001b[1m259s\u001b[0m 1s/step - accuracy: 0.7934 - f1_score: 0.7848 - loss: 0.5672 - precision: 0.8596 - recall: 0.7221 - val_accuracy: 0.8202 - val_f1_score: 0.8129 - val_loss: 0.5003 - val_precision: 0.8917 - val_recall: 0.7469\n",
      "Epoch 71/100\n",
      "\u001b[1m235/235\u001b[0m \u001b[32m━━━━━━━━━━━━━━━━━━━━\u001b[0m\u001b[37m\u001b[0m \u001b[1m254s\u001b[0m 1s/step - accuracy: 0.7967 - f1_score: 0.7859 - loss: 0.5735 - precision: 0.8518 - recall: 0.7295 - val_accuracy: 0.8336 - val_f1_score: 0.8306 - val_loss: 0.4588 - val_precision: 0.8828 - val_recall: 0.7843\n",
      "Epoch 72/100\n",
      "\u001b[1m235/235\u001b[0m \u001b[32m━━━━━━━━━━━━━━━━━━━━\u001b[0m\u001b[37m\u001b[0m \u001b[1m259s\u001b[0m 1s/step - accuracy: 0.7893 - f1_score: 0.7840 - loss: 0.5684 - precision: 0.8490 - recall: 0.7284 - val_accuracy: 0.8232 - val_f1_score: 0.8080 - val_loss: 0.4876 - val_precision: 0.8898 - val_recall: 0.7400\n",
      "Epoch 73/100\n",
      "\u001b[1m235/235\u001b[0m \u001b[32m━━━━━━━━━━━━━━━━━━━━\u001b[0m\u001b[37m\u001b[0m \u001b[1m235s\u001b[0m 1s/step - accuracy: 0.7939 - f1_score: 0.7842 - loss: 0.5603 - precision: 0.8581 - recall: 0.7220 - val_accuracy: 0.8255 - val_f1_score: 0.8160 - val_loss: 0.4761 - val_precision: 0.8949 - val_recall: 0.7499\n",
      "Epoch 74/100\n",
      "\u001b[1m235/235\u001b[0m \u001b[32m━━━━━━━━━━━━━━━━━━━━\u001b[0m\u001b[37m\u001b[0m \u001b[1m230s\u001b[0m 982ms/step - accuracy: 0.7998 - f1_score: 0.7923 - loss: 0.5409 - precision: 0.8603 - recall: 0.7342 - val_accuracy: 0.8073 - val_f1_score: 0.8073 - val_loss: 0.5067 - val_precision: 0.8621 - val_recall: 0.7591\n",
      "Epoch 75/100\n",
      "\u001b[1m235/235\u001b[0m \u001b[32m━━━━━━━━━━━━━━━━━━━━\u001b[0m\u001b[37m\u001b[0m \u001b[1m229s\u001b[0m 974ms/step - accuracy: 0.7990 - f1_score: 0.7942 - loss: 0.5498 - precision: 0.8569 - recall: 0.7400 - val_accuracy: 0.8288 - val_f1_score: 0.8279 - val_loss: 0.4451 - val_precision: 0.8792 - val_recall: 0.7823\n",
      "Epoch 76/100\n",
      "\u001b[1m235/235\u001b[0m \u001b[32m━━━━━━━━━━━━━━━━━━━━\u001b[0m\u001b[37m\u001b[0m \u001b[1m231s\u001b[0m 982ms/step - accuracy: 0.8024 - f1_score: 0.7957 - loss: 0.5242 - precision: 0.8571 - recall: 0.7425 - val_accuracy: 0.8188 - val_f1_score: 0.8131 - val_loss: 0.4821 - val_precision: 0.8692 - val_recall: 0.7638\n",
      "Epoch 77/100\n",
      "\u001b[1m235/235\u001b[0m \u001b[32m━━━━━━━━━━━━━━━━━━━━\u001b[0m\u001b[37m\u001b[0m \u001b[1m239s\u001b[0m 1s/step - accuracy: 0.7921 - f1_score: 0.7886 - loss: 0.5512 - precision: 0.8559 - recall: 0.7312 - val_accuracy: 0.8490 - val_f1_score: 0.8438 - val_loss: 0.4278 - val_precision: 0.9098 - val_recall: 0.7866\n",
      "Epoch 78/100\n",
      "\u001b[1m235/235\u001b[0m \u001b[32m━━━━━━━━━━━━━━━━━━━━\u001b[0m\u001b[37m\u001b[0m \u001b[1m250s\u001b[0m 1s/step - accuracy: 0.7990 - f1_score: 0.7892 - loss: 0.5258 - precision: 0.8557 - recall: 0.7323 - val_accuracy: 0.8375 - val_f1_score: 0.8334 - val_loss: 0.4482 - val_precision: 0.8854 - val_recall: 0.7872\n",
      "Epoch 79/100\n",
      "\u001b[1m235/235\u001b[0m \u001b[32m━━━━━━━━━━━━━━━━━━━━\u001b[0m\u001b[37m\u001b[0m \u001b[1m260s\u001b[0m 1s/step - accuracy: 0.8044 - f1_score: 0.8060 - loss: 0.5166 - precision: 0.8658 - recall: 0.7540 - val_accuracy: 0.8453 - val_f1_score: 0.8415 - val_loss: 0.4232 - val_precision: 0.9087 - val_recall: 0.7836\n",
      "Epoch 80/100\n",
      "\u001b[1m235/235\u001b[0m \u001b[32m━━━━━━━━━━━━━━━━━━━━\u001b[0m\u001b[37m\u001b[0m \u001b[1m234s\u001b[0m 999ms/step - accuracy: 0.8096 - f1_score: 0.8049 - loss: 0.5180 - precision: 0.8639 - recall: 0.7535 - val_accuracy: 0.8363 - val_f1_score: 0.8352 - val_loss: 0.4454 - val_precision: 0.9010 - val_recall: 0.7784\n",
      "Epoch 81/100\n",
      "\u001b[1m235/235\u001b[0m \u001b[32m━━━━━━━━━━━━━━━━━━━━\u001b[0m\u001b[37m\u001b[0m \u001b[1m205s\u001b[0m 870ms/step - accuracy: 0.8037 - f1_score: 0.8003 - loss: 0.5310 - precision: 0.8593 - recall: 0.7489 - val_accuracy: 0.8146 - val_f1_score: 0.8156 - val_loss: 0.4826 - val_precision: 0.8567 - val_recall: 0.7783\n",
      "Epoch 82/100\n",
      "\u001b[1m235/235\u001b[0m \u001b[32m━━━━━━━━━━━━━━━━━━━━\u001b[0m\u001b[37m\u001b[0m \u001b[1m231s\u001b[0m 982ms/step - accuracy: 0.8018 - f1_score: 0.7962 - loss: 0.5339 - precision: 0.8574 - recall: 0.7432 - val_accuracy: 0.8247 - val_f1_score: 0.8187 - val_loss: 0.4724 - val_precision: 0.8880 - val_recall: 0.7594\n",
      "Epoch 83/100\n",
      "\u001b[1m235/235\u001b[0m \u001b[32m━━━━━━━━━━━━━━━━━━━━\u001b[0m\u001b[37m\u001b[0m \u001b[1m192s\u001b[0m 816ms/step - accuracy: 0.8142 - f1_score: 0.8061 - loss: 0.5109 - precision: 0.8617 - recall: 0.7574 - val_accuracy: 0.8433 - val_f1_score: 0.8379 - val_loss: 0.4343 - val_precision: 0.9000 - val_recall: 0.7839\n",
      "Epoch 84/100\n",
      "\u001b[1m235/235\u001b[0m \u001b[32m━━━━━━━━━━━━━━━━━━━━\u001b[0m\u001b[37m\u001b[0m \u001b[1m219s\u001b[0m 932ms/step - accuracy: 0.8139 - f1_score: 0.8045 - loss: 0.5068 - precision: 0.8640 - recall: 0.7527 - val_accuracy: 0.8440 - val_f1_score: 0.8461 - val_loss: 0.4055 - val_precision: 0.8978 - val_recall: 0.8001\n",
      "Epoch 85/100\n",
      "\u001b[1m235/235\u001b[0m \u001b[32m━━━━━━━━━━━━━━━━━━━━\u001b[0m\u001b[37m\u001b[0m \u001b[1m205s\u001b[0m 871ms/step - accuracy: 0.8213 - f1_score: 0.8179 - loss: 0.4873 - precision: 0.8741 - recall: 0.7685 - val_accuracy: 0.8421 - val_f1_score: 0.8402 - val_loss: 0.4303 - val_precision: 0.8985 - val_recall: 0.7890\n",
      "Epoch 86/100\n",
      "\u001b[1m235/235\u001b[0m \u001b[32m━━━━━━━━━━━━━━━━━━━━\u001b[0m\u001b[37m\u001b[0m \u001b[1m181s\u001b[0m 770ms/step - accuracy: 0.8071 - f1_score: 0.8065 - loss: 0.5100 - precision: 0.8678 - recall: 0.7534 - val_accuracy: 0.8510 - val_f1_score: 0.8476 - val_loss: 0.4062 - val_precision: 0.8807 - val_recall: 0.8170\n",
      "Epoch 87/100\n",
      "\u001b[1m235/235\u001b[0m \u001b[32m━━━━━━━━━━━━━━━━━━━━\u001b[0m\u001b[37m\u001b[0m \u001b[1m195s\u001b[0m 830ms/step - accuracy: 0.8235 - f1_score: 0.8208 - loss: 0.4816 - precision: 0.8752 - recall: 0.7729 - val_accuracy: 0.8625 - val_f1_score: 0.8564 - val_loss: 0.4034 - val_precision: 0.9128 - val_recall: 0.8066\n",
      "Epoch 88/100\n",
      "\u001b[1m235/235\u001b[0m \u001b[32m━━━━━━━━━━━━━━━━━━━━\u001b[0m\u001b[37m\u001b[0m \u001b[1m146s\u001b[0m 621ms/step - accuracy: 0.8160 - f1_score: 0.8153 - loss: 0.4934 - precision: 0.8704 - recall: 0.7669 - val_accuracy: 0.8404 - val_f1_score: 0.8327 - val_loss: 0.4457 - val_precision: 0.8918 - val_recall: 0.7809\n",
      "Epoch 89/100\n",
      "\u001b[1m235/235\u001b[0m \u001b[32m━━━━━━━━━━━━━━━━━━━━\u001b[0m\u001b[37m\u001b[0m \u001b[1m168s\u001b[0m 715ms/step - accuracy: 0.8323 - f1_score: 0.8246 - loss: 0.4837 - precision: 0.8794 - recall: 0.7764 - val_accuracy: 0.8501 - val_f1_score: 0.8493 - val_loss: 0.3969 - val_precision: 0.8847 - val_recall: 0.8166\n",
      "Epoch 90/100\n",
      "\u001b[1m235/235\u001b[0m \u001b[32m━━━━━━━━━━━━━━━━━━━━\u001b[0m\u001b[37m\u001b[0m \u001b[1m126s\u001b[0m 537ms/step - accuracy: 0.8199 - f1_score: 0.8198 - loss: 0.4792 - precision: 0.8794 - recall: 0.7678 - val_accuracy: 0.8642 - val_f1_score: 0.8598 - val_loss: 0.3877 - val_precision: 0.9106 - val_recall: 0.8143\n",
      "Epoch 91/100\n",
      "\u001b[1m235/235\u001b[0m \u001b[32m━━━━━━━━━━━━━━━━━━━━\u001b[0m\u001b[37m\u001b[0m \u001b[1m125s\u001b[0m 530ms/step - accuracy: 0.8263 - f1_score: 0.8231 - loss: 0.4732 - precision: 0.8802 - recall: 0.7730 - val_accuracy: 0.8534 - val_f1_score: 0.8493 - val_loss: 0.4008 - val_precision: 0.9117 - val_recall: 0.7949\n",
      "Epoch 92/100\n",
      "\u001b[1m235/235\u001b[0m \u001b[32m━━━━━━━━━━━━━━━━━━━━\u001b[0m\u001b[37m\u001b[0m \u001b[1m123s\u001b[0m 525ms/step - accuracy: 0.8229 - f1_score: 0.8189 - loss: 0.4843 - precision: 0.8712 - recall: 0.7726 - val_accuracy: 0.8514 - val_f1_score: 0.8499 - val_loss: 0.3939 - val_precision: 0.8872 - val_recall: 0.8156\n",
      "Epoch 93/100\n",
      "\u001b[1m235/235\u001b[0m \u001b[32m━━━━━━━━━━━━━━━━━━━━\u001b[0m\u001b[37m\u001b[0m \u001b[1m109s\u001b[0m 464ms/step - accuracy: 0.8283 - f1_score: 0.8199 - loss: 0.4594 - precision: 0.8694 - recall: 0.7757 - val_accuracy: 0.8617 - val_f1_score: 0.8563 - val_loss: 0.3884 - val_precision: 0.9104 - val_recall: 0.8082\n",
      "Epoch 94/100\n",
      "\u001b[1m235/235\u001b[0m \u001b[32m━━━━━━━━━━━━━━━━━━━━\u001b[0m\u001b[37m\u001b[0m \u001b[1m105s\u001b[0m 446ms/step - accuracy: 0.8257 - f1_score: 0.8277 - loss: 0.4662 - precision: 0.8842 - recall: 0.7780 - val_accuracy: 0.8606 - val_f1_score: 0.8609 - val_loss: 0.3832 - val_precision: 0.9000 - val_recall: 0.8250\n",
      "Epoch 95/100\n",
      "\u001b[1m235/235\u001b[0m \u001b[32m━━━━━━━━━━━━━━━━━━━━\u001b[0m\u001b[37m\u001b[0m \u001b[1m97s\u001b[0m 411ms/step - accuracy: 0.8225 - f1_score: 0.8224 - loss: 0.4816 - precision: 0.8736 - recall: 0.7769 - val_accuracy: 0.8683 - val_f1_score: 0.8632 - val_loss: 0.3646 - val_precision: 0.9069 - val_recall: 0.8236\n",
      "Epoch 96/100\n",
      "\u001b[1m235/235\u001b[0m \u001b[32m━━━━━━━━━━━━━━━━━━━━\u001b[0m\u001b[37m\u001b[0m \u001b[1m89s\u001b[0m 378ms/step - accuracy: 0.8250 - f1_score: 0.8288 - loss: 0.4672 - precision: 0.8797 - recall: 0.7834 - val_accuracy: 0.8587 - val_f1_score: 0.8578 - val_loss: 0.3826 - val_precision: 0.9025 - val_recall: 0.8174\n",
      "Epoch 97/100\n",
      "\u001b[1m235/235\u001b[0m \u001b[32m━━━━━━━━━━━━━━━━━━━━\u001b[0m\u001b[37m\u001b[0m \u001b[1m64s\u001b[0m 274ms/step - accuracy: 0.8338 - f1_score: 0.8303 - loss: 0.4533 - precision: 0.8773 - recall: 0.7881 - val_accuracy: 0.8477 - val_f1_score: 0.8445 - val_loss: 0.4147 - val_precision: 0.8878 - val_recall: 0.8053\n",
      "Epoch 98/100\n",
      "\u001b[1m235/235\u001b[0m \u001b[32m━━━━━━━━━━━━━━━━━━━━\u001b[0m\u001b[37m\u001b[0m \u001b[1m54s\u001b[0m 229ms/step - accuracy: 0.8375 - f1_score: 0.8302 - loss: 0.4571 - precision: 0.8765 - recall: 0.7885 - val_accuracy: 0.8448 - val_f1_score: 0.8467 - val_loss: 0.4134 - val_precision: 0.8949 - val_recall: 0.8034\n",
      "Epoch 99/100\n",
      "\u001b[1m235/235\u001b[0m \u001b[32m━━━━━━━━━━━━━━━━━━━━\u001b[0m\u001b[37m\u001b[0m \u001b[1m37s\u001b[0m 159ms/step - accuracy: 0.8294 - f1_score: 0.8289 - loss: 0.4661 - precision: 0.8784 - recall: 0.7848 - val_accuracy: 0.8520 - val_f1_score: 0.8490 - val_loss: 0.4097 - val_precision: 0.8944 - val_recall: 0.8079\n",
      "Epoch 100/100\n",
      "\u001b[1m235/235\u001b[0m \u001b[32m━━━━━━━━━━━━━━━━━━━━\u001b[0m\u001b[37m\u001b[0m \u001b[1m35s\u001b[0m 151ms/step - accuracy: 0.8405 - f1_score: 0.8358 - loss: 0.4414 - precision: 0.8817 - recall: 0.7944 - val_accuracy: 0.8645 - val_f1_score: 0.8605 - val_loss: 0.3779 - val_precision: 0.9081 - val_recall: 0.8176\n"
     ]
    }
   ],
   "source": [
    "# Train the model\n",
    "history = bi_gru_model.fit(\n",
    "    x=training_set,\n",
    "    validation_data=validation_set,\n",
    "    epochs=100\n",
    ")"
   ]
  },
  {
   "cell_type": "code",
   "execution_count": 11,
   "id": "179ee849-3fc1-4a01-81fe-a4a7114b119a",
   "metadata": {},
   "outputs": [],
   "source": [
    "# Save Loss plot\n",
    "plt.figure()\n",
    "plt.plot(history.history['loss'], label='Train Loss')\n",
    "plt.plot(history.history['val_loss'], label='Validation Loss')\n",
    "plt.legend()\n",
    "plt.title(\"Loss\")\n",
    "plt.xlabel('Epochs')\n",
    "plt.ylabel('Loss')\n",
    "plt.savefig('loss_plot_bigru.png')  # Save the plot as a PNG file\n",
    "plt.close()\n",
    "\n",
    "# Save Accuracy plot\n",
    "plt.figure()\n",
    "plt.plot(history.history['accuracy'], label='Train Accuracy')\n",
    "plt.plot(history.history['val_accuracy'], label='Validation Accuracy')\n",
    "plt.legend()\n",
    "plt.title(\"Accuracy\")\n",
    "plt.xlabel('Epochs')\n",
    "plt.ylabel('Accuracy')\n",
    "plt.savefig('accuracy_plot_bigru.png')  # Save the plot as a PNG file\n",
    "plt.close()\n",
    "\n",
    "# Save Precision plot\n",
    "plt.figure()\n",
    "plt.plot(history.history['precision'], label='Train Precision')\n",
    "plt.plot(history.history['val_precision'], label='Validation Precision')\n",
    "plt.legend()\n",
    "plt.title(\"Precision\")\n",
    "plt.xlabel('Epochs')\n",
    "plt.ylabel('Precision')\n",
    "plt.savefig('precision_plot_bigru.png')  # Save the plot as a PNG file\n",
    "plt.close()\n",
    "\n",
    "# Save Recall plot\n",
    "plt.figure()\n",
    "plt.plot(history.history['recall'], label='Train Recall')\n",
    "plt.plot(history.history['val_recall'], label='Validation Recall')\n",
    "plt.legend()\n",
    "plt.title(\"Recall\")\n",
    "plt.xlabel('Epochs')\n",
    "plt.ylabel('Recall')\n",
    "plt.savefig('recall_plot_bigru.png')  # Save the plot as a PNG file\n",
    "plt.close()\n",
    "\n",
    "# Save F1 Score plot\n",
    "plt.figure()\n",
    "plt.plot(history.history['f1_score'], label='Train F1 Score')\n",
    "plt.plot(history.history['val_f1_score'], label='Validation F1 Score')\n",
    "plt.legend()\n",
    "plt.title(\"F1 Score\")\n",
    "plt.xlabel('Epochs')\n",
    "plt.ylabel('F1 Score')\n",
    "plt.savefig('f1_score_plot_bigru.png')  # Save the plot as a PNG file\n",
    "plt.close()"
   ]
  },
  {
   "cell_type": "code",
   "execution_count": 12,
   "id": "a2e98fc2-a1a9-4a3d-aa99-ff2a7f342f85",
   "metadata": {},
   "outputs": [
    {
     "data": {
      "text/html": [
       "<pre style=\"white-space:pre;overflow-x:auto;line-height:normal;font-family:Menlo,'DejaVu Sans Mono',consolas,'Courier New',monospace\"><span style=\"font-weight: bold\">Model: \"sequential\"</span>\n",
       "</pre>\n"
      ],
      "text/plain": [
       "\u001b[1mModel: \"sequential\"\u001b[0m\n"
      ]
     },
     "metadata": {},
     "output_type": "display_data"
    },
    {
     "data": {
      "text/html": [
       "<pre style=\"white-space:pre;overflow-x:auto;line-height:normal;font-family:Menlo,'DejaVu Sans Mono',consolas,'Courier New',monospace\">┏━━━━━━━━━━━━━━━━━━━━━━━━━━━━━━━━━━━━━━┳━━━━━━━━━━━━━━━━━━━━━━━━━━━━━┳━━━━━━━━━━━━━━━━━┓\n",
       "┃<span style=\"font-weight: bold\"> Layer (type)                         </span>┃<span style=\"font-weight: bold\"> Output Shape                </span>┃<span style=\"font-weight: bold\">         Param # </span>┃\n",
       "┡━━━━━━━━━━━━━━━━━━━━━━━━━━━━━━━━━━━━━━╇━━━━━━━━━━━━━━━━━━━━━━━━━━━━━╇━━━━━━━━━━━━━━━━━┩\n",
       "│ flatten (<span style=\"color: #0087ff; text-decoration-color: #0087ff\">Flatten</span>)                    │ (<span style=\"color: #00d7ff; text-decoration-color: #00d7ff\">None</span>, <span style=\"color: #00af00; text-decoration-color: #00af00\">12288</span>)               │               <span style=\"color: #00af00; text-decoration-color: #00af00\">0</span> │\n",
       "├──────────────────────────────────────┼─────────────────────────────┼─────────────────┤\n",
       "│ reshape (<span style=\"color: #0087ff; text-decoration-color: #0087ff\">Reshape</span>)                    │ (<span style=\"color: #00d7ff; text-decoration-color: #00d7ff\">None</span>, <span style=\"color: #00af00; text-decoration-color: #00af00\">16</span>, <span style=\"color: #00af00; text-decoration-color: #00af00\">768</span>)             │               <span style=\"color: #00af00; text-decoration-color: #00af00\">0</span> │\n",
       "├──────────────────────────────────────┼─────────────────────────────┼─────────────────┤\n",
       "│ bidirectional (<span style=\"color: #0087ff; text-decoration-color: #0087ff\">Bidirectional</span>)        │ (<span style=\"color: #00d7ff; text-decoration-color: #00d7ff\">None</span>, <span style=\"color: #00af00; text-decoration-color: #00af00\">128</span>)                 │         <span style=\"color: #00af00; text-decoration-color: #00af00\">320,256</span> │\n",
       "├──────────────────────────────────────┼─────────────────────────────┼─────────────────┤\n",
       "│ dense (<span style=\"color: #0087ff; text-decoration-color: #0087ff\">Dense</span>)                        │ (<span style=\"color: #00d7ff; text-decoration-color: #00d7ff\">None</span>, <span style=\"color: #00af00; text-decoration-color: #00af00\">128</span>)                 │          <span style=\"color: #00af00; text-decoration-color: #00af00\">16,512</span> │\n",
       "├──────────────────────────────────────┼─────────────────────────────┼─────────────────┤\n",
       "│ dense_1 (<span style=\"color: #0087ff; text-decoration-color: #0087ff\">Dense</span>)                      │ (<span style=\"color: #00d7ff; text-decoration-color: #00d7ff\">None</span>, <span style=\"color: #00af00; text-decoration-color: #00af00\">6</span>)                   │             <span style=\"color: #00af00; text-decoration-color: #00af00\">774</span> │\n",
       "└──────────────────────────────────────┴─────────────────────────────┴─────────────────┘\n",
       "</pre>\n"
      ],
      "text/plain": [
       "┏━━━━━━━━━━━━━━━━━━━━━━━━━━━━━━━━━━━━━━┳━━━━━━━━━━━━━━━━━━━━━━━━━━━━━┳━━━━━━━━━━━━━━━━━┓\n",
       "┃\u001b[1m \u001b[0m\u001b[1mLayer (type)                        \u001b[0m\u001b[1m \u001b[0m┃\u001b[1m \u001b[0m\u001b[1mOutput Shape               \u001b[0m\u001b[1m \u001b[0m┃\u001b[1m \u001b[0m\u001b[1m        Param #\u001b[0m\u001b[1m \u001b[0m┃\n",
       "┡━━━━━━━━━━━━━━━━━━━━━━━━━━━━━━━━━━━━━━╇━━━━━━━━━━━━━━━━━━━━━━━━━━━━━╇━━━━━━━━━━━━━━━━━┩\n",
       "│ flatten (\u001b[38;5;33mFlatten\u001b[0m)                    │ (\u001b[38;5;45mNone\u001b[0m, \u001b[38;5;34m12288\u001b[0m)               │               \u001b[38;5;34m0\u001b[0m │\n",
       "├──────────────────────────────────────┼─────────────────────────────┼─────────────────┤\n",
       "│ reshape (\u001b[38;5;33mReshape\u001b[0m)                    │ (\u001b[38;5;45mNone\u001b[0m, \u001b[38;5;34m16\u001b[0m, \u001b[38;5;34m768\u001b[0m)             │               \u001b[38;5;34m0\u001b[0m │\n",
       "├──────────────────────────────────────┼─────────────────────────────┼─────────────────┤\n",
       "│ bidirectional (\u001b[38;5;33mBidirectional\u001b[0m)        │ (\u001b[38;5;45mNone\u001b[0m, \u001b[38;5;34m128\u001b[0m)                 │         \u001b[38;5;34m320,256\u001b[0m │\n",
       "├──────────────────────────────────────┼─────────────────────────────┼─────────────────┤\n",
       "│ dense (\u001b[38;5;33mDense\u001b[0m)                        │ (\u001b[38;5;45mNone\u001b[0m, \u001b[38;5;34m128\u001b[0m)                 │          \u001b[38;5;34m16,512\u001b[0m │\n",
       "├──────────────────────────────────────┼─────────────────────────────┼─────────────────┤\n",
       "│ dense_1 (\u001b[38;5;33mDense\u001b[0m)                      │ (\u001b[38;5;45mNone\u001b[0m, \u001b[38;5;34m6\u001b[0m)                   │             \u001b[38;5;34m774\u001b[0m │\n",
       "└──────────────────────────────────────┴─────────────────────────────┴─────────────────┘\n"
      ]
     },
     "metadata": {},
     "output_type": "display_data"
    },
    {
     "data": {
      "text/html": [
       "<pre style=\"white-space:pre;overflow-x:auto;line-height:normal;font-family:Menlo,'DejaVu Sans Mono',consolas,'Courier New',monospace\"><span style=\"font-weight: bold\"> Total params: </span><span style=\"color: #00af00; text-decoration-color: #00af00\">1,012,628</span> (3.86 MB)\n",
       "</pre>\n"
      ],
      "text/plain": [
       "\u001b[1m Total params: \u001b[0m\u001b[38;5;34m1,012,628\u001b[0m (3.86 MB)\n"
      ]
     },
     "metadata": {},
     "output_type": "display_data"
    },
    {
     "data": {
      "text/html": [
       "<pre style=\"white-space:pre;overflow-x:auto;line-height:normal;font-family:Menlo,'DejaVu Sans Mono',consolas,'Courier New',monospace\"><span style=\"font-weight: bold\"> Trainable params: </span><span style=\"color: #00af00; text-decoration-color: #00af00\">337,542</span> (1.29 MB)\n",
       "</pre>\n"
      ],
      "text/plain": [
       "\u001b[1m Trainable params: \u001b[0m\u001b[38;5;34m337,542\u001b[0m (1.29 MB)\n"
      ]
     },
     "metadata": {},
     "output_type": "display_data"
    },
    {
     "data": {
      "text/html": [
       "<pre style=\"white-space:pre;overflow-x:auto;line-height:normal;font-family:Menlo,'DejaVu Sans Mono',consolas,'Courier New',monospace\"><span style=\"font-weight: bold\"> Non-trainable params: </span><span style=\"color: #00af00; text-decoration-color: #00af00\">0</span> (0.00 B)\n",
       "</pre>\n"
      ],
      "text/plain": [
       "\u001b[1m Non-trainable params: \u001b[0m\u001b[38;5;34m0\u001b[0m (0.00 B)\n"
      ]
     },
     "metadata": {},
     "output_type": "display_data"
    },
    {
     "data": {
      "text/html": [
       "<pre style=\"white-space:pre;overflow-x:auto;line-height:normal;font-family:Menlo,'DejaVu Sans Mono',consolas,'Courier New',monospace\"><span style=\"font-weight: bold\"> Optimizer params: </span><span style=\"color: #00af00; text-decoration-color: #00af00\">675,086</span> (2.58 MB)\n",
       "</pre>\n"
      ],
      "text/plain": [
       "\u001b[1m Optimizer params: \u001b[0m\u001b[38;5;34m675,086\u001b[0m (2.58 MB)\n"
      ]
     },
     "metadata": {},
     "output_type": "display_data"
    }
   ],
   "source": [
    "bi_gru_model.summary()"
   ]
  },
  {
   "cell_type": "code",
   "execution_count": null,
   "id": "c1c5f3f1-fde4-49d5-8453-80c9f8ce41c3",
   "metadata": {},
   "outputs": [],
   "source": []
  }
 ],
 "metadata": {
  "kernelspec": {
   "display_name": "Python 3 (ipykernel)",
   "language": "python",
   "name": "python3"
  },
  "language_info": {
   "codemirror_mode": {
    "name": "ipython",
    "version": 3
   },
   "file_extension": ".py",
   "mimetype": "text/x-python",
   "name": "python",
   "nbconvert_exporter": "python",
   "pygments_lexer": "ipython3",
   "version": "3.12.2"
  }
 },
 "nbformat": 4,
 "nbformat_minor": 5
}
