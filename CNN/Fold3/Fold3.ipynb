{
 "cells": [
  {
   "cell_type": "code",
   "execution_count": 1,
   "id": "d25348e0-1328-482b-80aa-2998f69b9717",
   "metadata": {},
   "outputs": [],
   "source": [
    "import tensorflow as tf\n",
    "from tensorflow.keras.preprocessing.image import ImageDataGenerator\n",
    "import matplotlib.pyplot as plt"
   ]
  },
  {
   "cell_type": "code",
   "execution_count": 2,
   "id": "4ee3bfe1-861b-4fa6-bac1-261bd17421ac",
   "metadata": {},
   "outputs": [
    {
     "name": "stdout",
     "output_type": "stream",
     "text": [
      "Found 7532 images belonging to 6 classes.\n"
     ]
    }
   ],
   "source": [
    "# Data Augmentation for Training\n",
    "train_datagen = ImageDataGenerator(rescale=1./255,\n",
    "                                   shear_range=0.2,\n",
    "                                   zoom_range=0.2,\n",
    "                                   horizontal_flip=True)\n",
    "training_set = train_datagen.flow_from_directory(\n",
    "    \"Monkeypox/archive (60)/Augmented Images/Augmented Images/FOLDS_AUG/fold3_AUG/Train/\",\n",
    "    target_size=(64, 64),\n",
    "    batch_size=32,\n",
    "    class_mode='categorical',  # Use 'categorical' for one-hot encoded labels\n",
    ")"
   ]
  },
  {
   "cell_type": "code",
   "execution_count": 3,
   "id": "d01e035c-3d85-4df1-8ab6-675df27036ec",
   "metadata": {},
   "outputs": [
    {
     "name": "stdout",
     "output_type": "stream",
     "text": [
      "Found 7532 images belonging to 6 classes.\n"
     ]
    }
   ],
   "source": [
    "test_datagen = ImageDataGenerator(rescale=1./255)\n",
    "validation_set = test_datagen.flow_from_directory(\n",
    "    \"Monkeypox/archive (60)/Augmented Images/Augmented Images/FOLDS_AUG/fold3_AUG/Train/\",\n",
    "    target_size=(64, 64),\n",
    "    batch_size=32,\n",
    "    class_mode='categorical',  # Use 'categorical' for one-hot encoded labels\n",
    ")"
   ]
  },
  {
   "cell_type": "code",
   "execution_count": 4,
   "id": "9d669480-f0b4-4536-892b-3ed22e897709",
   "metadata": {},
   "outputs": [],
   "source": [
    "# Custom F1 Score Metric\n",
    "class F1Score(tf.keras.metrics.Metric):\n",
    "    def __init__(self, name='f1_score', **kwargs):\n",
    "        super(F1Score, self).__init__(name=name, **kwargs)\n",
    "        self.precision = tf.keras.metrics.Precision()\n",
    "        self.recall = tf.keras.metrics.Recall()\n",
    "\n",
    "    def update_state(self, y_true, y_pred, sample_weight=None):\n",
    "        # Update the precision and recall for each batch\n",
    "        self.precision.update_state(y_true, y_pred, sample_weight)\n",
    "        self.recall.update_state(y_true, y_pred, sample_weight)\n",
    "\n",
    "    def result(self):\n",
    "        # Calculate F1 score as the harmonic mean of precision and recall\n",
    "        precision = self.precision.result()\n",
    "        recall = self.recall.result()\n",
    "        return 2 * (precision * recall) / (precision + recall + tf.keras.backend.epsilon())\n",
    "\n",
    "    def reset_states(self):\n",
    "        self.precision.reset_states()\n",
    "        self.recall.reset_states()"
   ]
  },
  {
   "cell_type": "code",
   "execution_count": 5,
   "id": "91b30e28-45d4-49f2-97f2-8b57ebb33b9e",
   "metadata": {},
   "outputs": [],
   "source": [
    "# Build the CNN Model\n",
    "cnn = tf.keras.models.Sequential()"
   ]
  },
  {
   "cell_type": "code",
   "execution_count": 6,
   "id": "06218e60-9c37-4c94-8777-89fcf66fac99",
   "metadata": {},
   "outputs": [
    {
     "name": "stderr",
     "output_type": "stream",
     "text": [
      "C:\\Users\\KIIT\\AppData\\Local\\Programs\\Python\\Python312\\Lib\\site-packages\\keras\\src\\layers\\convolutional\\base_conv.py:107: UserWarning: Do not pass an `input_shape`/`input_dim` argument to a layer. When using Sequential models, prefer using an `Input(shape)` object as the first layer in the model instead.\n",
      "  super().__init__(activity_regularizer=activity_regularizer, **kwargs)\n"
     ]
    }
   ],
   "source": [
    "# Convolutional Layers\n",
    "cnn.add(tf.keras.layers.Conv2D(filters=32, kernel_size=(3, 3), activation='relu', input_shape=(64, 64, 3)))\n",
    "cnn.add(tf.keras.layers.MaxPooling2D(pool_size=(2, 2)))\n",
    "\n",
    "cnn.add(tf.keras.layers.Conv2D(filters=64, kernel_size=(3, 3), activation='relu'))\n",
    "cnn.add(tf.keras.layers.MaxPooling2D(pool_size=(2, 2)))\n",
    "\n",
    "cnn.add(tf.keras.layers.Conv2D(filters=128, kernel_size=(3, 3), activation='relu'))\n",
    "cnn.add(tf.keras.layers.MaxPooling2D(pool_size=(2, 2)))"
   ]
  },
  {
   "cell_type": "code",
   "execution_count": 7,
   "id": "2d1ac1b4-94bd-46c0-ad6e-1bc044a1c43a",
   "metadata": {},
   "outputs": [],
   "source": [
    "# Flatten and Fully Connected Layers\n",
    "cnn.add(tf.keras.layers.Flatten())\n",
    "cnn.add(tf.keras.layers.Dense(units=128, activation='relu'))\n",
    "cnn.add(tf.keras.layers.Dense(6, activation='softmax'))  # 6 classes"
   ]
  },
  {
   "cell_type": "code",
   "execution_count": 8,
   "id": "1efecf84-d2fd-4a75-ae56-185e79fde0b9",
   "metadata": {},
   "outputs": [],
   "source": [
    "# Compile the model with Precision, Recall, and F1 Score\n",
    "cnn.compile(\n",
    "    optimizer='adam',\n",
    "    loss='categorical_crossentropy',  # Use categorical_crossentropy for one-hot encoded labels\n",
    "    metrics=[\n",
    "        'accuracy',\n",
    "        tf.keras.metrics.Precision(name='precision'),\n",
    "        tf.keras.metrics.Recall(name='recall'),\n",
    "        F1Score(name='f1_score')  # Add custom F1 score metric\n",
    "    ]\n",
    ")"
   ]
  },
  {
   "cell_type": "code",
   "execution_count": 9,
   "id": "37b8b01b-04ec-48af-916f-a235f2e7e202",
   "metadata": {},
   "outputs": [
    {
     "name": "stderr",
     "output_type": "stream",
     "text": [
      "C:\\Users\\KIIT\\AppData\\Local\\Programs\\Python\\Python312\\Lib\\site-packages\\keras\\src\\trainers\\data_adapters\\py_dataset_adapter.py:121: UserWarning: Your `PyDataset` class should call `super().__init__(**kwargs)` in its constructor. `**kwargs` can include `workers`, `use_multiprocessing`, `max_queue_size`. Do not pass these arguments to `fit()`, as they will be ignored.\n",
      "  self._warn_if_super_not_called()\n"
     ]
    },
    {
     "name": "stdout",
     "output_type": "stream",
     "text": [
      "Epoch 1/100\n",
      "\u001b[1m236/236\u001b[0m \u001b[32m━━━━━━━━━━━━━━━━━━━━\u001b[0m\u001b[37m\u001b[0m \u001b[1m0s\u001b[0m 215ms/step - accuracy: 0.4038 - f1_score: 0.0536 - loss: 1.5763 - precision: 0.3434 - recall: 0.0298"
     ]
    },
    {
     "name": "stderr",
     "output_type": "stream",
     "text": [
      "C:\\Users\\KIIT\\AppData\\Local\\Programs\\Python\\Python312\\Lib\\site-packages\\keras\\src\\trainers\\data_adapters\\py_dataset_adapter.py:121: UserWarning: Your `PyDataset` class should call `super().__init__(**kwargs)` in its constructor. `**kwargs` can include `workers`, `use_multiprocessing`, `max_queue_size`. Do not pass these arguments to `fit()`, as they will be ignored.\n",
      "  self._warn_if_super_not_called()\n"
     ]
    },
    {
     "name": "stdout",
     "output_type": "stream",
     "text": [
      "\u001b[1m236/236\u001b[0m \u001b[32m━━━━━━━━━━━━━━━━━━━━\u001b[0m\u001b[37m\u001b[0m \u001b[1m71s\u001b[0m 279ms/step - accuracy: 0.4040 - f1_score: 0.0541 - loss: 1.5759 - precision: 0.3445 - recall: 0.0301 - val_accuracy: 0.5135 - val_f1_score: 0.4786 - val_loss: 1.3213 - val_precision: 0.5673 - val_recall: 0.4138\n",
      "Epoch 2/100\n",
      "\u001b[1m236/236\u001b[0m \u001b[32m━━━━━━━━━━━━━━━━━━━━\u001b[0m\u001b[37m\u001b[0m \u001b[1m43s\u001b[0m 182ms/step - accuracy: 0.5332 - f1_score: 0.4228 - loss: 1.2726 - precision: 0.6583 - recall: 0.3120 - val_accuracy: 0.5603 - val_f1_score: 0.5042 - val_loss: 1.1711 - val_precision: 0.6490 - val_recall: 0.4122\n",
      "Epoch 3/100\n",
      "\u001b[1m236/236\u001b[0m \u001b[32m━━━━━━━━━━━━━━━━━━━━\u001b[0m\u001b[37m\u001b[0m \u001b[1m44s\u001b[0m 186ms/step - accuracy: 0.5694 - f1_score: 0.4997 - loss: 1.1553 - precision: 0.6951 - recall: 0.3905 - val_accuracy: 0.6508 - val_f1_score: 0.6058 - val_loss: 0.9405 - val_precision: 0.7788 - val_recall: 0.4956\n",
      "Epoch 4/100\n",
      "\u001b[1m236/236\u001b[0m \u001b[32m━━━━━━━━━━━━━━━━━━━━\u001b[0m\u001b[37m\u001b[0m \u001b[1m43s\u001b[0m 182ms/step - accuracy: 0.6320 - f1_score: 0.5950 - loss: 0.9736 - precision: 0.7528 - recall: 0.4920 - val_accuracy: 0.6912 - val_f1_score: 0.6671 - val_loss: 0.8330 - val_precision: 0.8211 - val_recall: 0.5617\n",
      "Epoch 5/100\n",
      "\u001b[1m236/236\u001b[0m \u001b[32m━━━━━━━━━━━━━━━━━━━━\u001b[0m\u001b[37m\u001b[0m \u001b[1m43s\u001b[0m 184ms/step - accuracy: 0.6869 - f1_score: 0.6647 - loss: 0.8218 - precision: 0.7912 - recall: 0.5732 - val_accuracy: 0.7362 - val_f1_score: 0.6831 - val_loss: 0.7362 - val_precision: 0.8482 - val_recall: 0.5718\n",
      "Epoch 6/100\n",
      "\u001b[1m236/236\u001b[0m \u001b[32m━━━━━━━━━━━━━━━━━━━━\u001b[0m\u001b[37m\u001b[0m \u001b[1m43s\u001b[0m 184ms/step - accuracy: 0.7384 - f1_score: 0.7156 - loss: 0.7135 - precision: 0.8177 - recall: 0.6364 - val_accuracy: 0.7675 - val_f1_score: 0.7310 - val_loss: 0.6887 - val_precision: 0.8718 - val_recall: 0.6293\n",
      "Epoch 7/100\n",
      "\u001b[1m236/236\u001b[0m \u001b[32m━━━━━━━━━━━━━━━━━━━━\u001b[0m\u001b[37m\u001b[0m \u001b[1m45s\u001b[0m 192ms/step - accuracy: 0.7691 - f1_score: 0.7554 - loss: 0.6272 - precision: 0.8425 - recall: 0.6849 - val_accuracy: 0.7942 - val_f1_score: 0.7819 - val_loss: 0.5800 - val_precision: 0.8612 - val_recall: 0.7160\n",
      "Epoch 8/100\n",
      "\u001b[1m236/236\u001b[0m \u001b[32m━━━━━━━━━━━━━━━━━━━━\u001b[0m\u001b[37m\u001b[0m \u001b[1m45s\u001b[0m 190ms/step - accuracy: 0.7987 - f1_score: 0.7881 - loss: 0.5584 - precision: 0.8568 - recall: 0.7295 - val_accuracy: 0.8668 - val_f1_score: 0.8650 - val_loss: 0.3840 - val_precision: 0.9154 - val_recall: 0.8200\n",
      "Epoch 9/100\n",
      "\u001b[1m236/236\u001b[0m \u001b[32m━━━━━━━━━━━━━━━━━━━━\u001b[0m\u001b[37m\u001b[0m \u001b[1m44s\u001b[0m 188ms/step - accuracy: 0.8422 - f1_score: 0.8439 - loss: 0.4367 - precision: 0.8937 - recall: 0.7994 - val_accuracy: 0.8739 - val_f1_score: 0.8740 - val_loss: 0.3450 - val_precision: 0.8960 - val_recall: 0.8530\n",
      "Epoch 10/100\n",
      "\u001b[1m236/236\u001b[0m \u001b[32m━━━━━━━━━━━━━━━━━━━━\u001b[0m\u001b[37m\u001b[0m \u001b[1m45s\u001b[0m 190ms/step - accuracy: 0.8642 - f1_score: 0.8629 - loss: 0.3920 - precision: 0.9021 - recall: 0.8270 - val_accuracy: 0.8919 - val_f1_score: 0.8941 - val_loss: 0.2810 - val_precision: 0.9176 - val_recall: 0.8717\n",
      "Epoch 11/100\n",
      "\u001b[1m236/236\u001b[0m \u001b[32m━━━━━━━━━━━━━━━━━━━━\u001b[0m\u001b[37m\u001b[0m \u001b[1m43s\u001b[0m 183ms/step - accuracy: 0.8782 - f1_score: 0.8772 - loss: 0.3527 - precision: 0.9071 - recall: 0.8492 - val_accuracy: 0.9183 - val_f1_score: 0.9192 - val_loss: 0.2437 - val_precision: 0.9366 - val_recall: 0.9024\n",
      "Epoch 12/100\n",
      "\u001b[1m236/236\u001b[0m \u001b[32m━━━━━━━━━━━━━━━━━━━━\u001b[0m\u001b[37m\u001b[0m \u001b[1m43s\u001b[0m 184ms/step - accuracy: 0.8973 - f1_score: 0.8978 - loss: 0.2946 - precision: 0.9205 - recall: 0.8761 - val_accuracy: 0.8935 - val_f1_score: 0.8958 - val_loss: 0.2899 - val_precision: 0.9148 - val_recall: 0.8776\n",
      "Epoch 13/100\n",
      "\u001b[1m236/236\u001b[0m \u001b[32m━━━━━━━━━━━━━━━━━━━━\u001b[0m\u001b[37m\u001b[0m \u001b[1m44s\u001b[0m 185ms/step - accuracy: 0.9046 - f1_score: 0.9071 - loss: 0.2806 - precision: 0.9287 - recall: 0.8865 - val_accuracy: 0.9485 - val_f1_score: 0.9502 - val_loss: 0.1547 - val_precision: 0.9599 - val_recall: 0.9408\n",
      "Epoch 14/100\n",
      "\u001b[1m236/236\u001b[0m \u001b[32m━━━━━━━━━━━━━━━━━━━━\u001b[0m\u001b[37m\u001b[0m \u001b[1m44s\u001b[0m 185ms/step - accuracy: 0.9177 - f1_score: 0.9178 - loss: 0.2212 - precision: 0.9333 - recall: 0.9029 - val_accuracy: 0.9274 - val_f1_score: 0.9264 - val_loss: 0.2187 - val_precision: 0.9458 - val_recall: 0.9077\n",
      "Epoch 15/100\n",
      "\u001b[1m236/236\u001b[0m \u001b[32m━━━━━━━━━━━━━━━━━━━━\u001b[0m\u001b[37m\u001b[0m \u001b[1m43s\u001b[0m 183ms/step - accuracy: 0.9244 - f1_score: 0.9257 - loss: 0.2197 - precision: 0.9376 - recall: 0.9141 - val_accuracy: 0.9271 - val_f1_score: 0.9244 - val_loss: 0.2093 - val_precision: 0.9414 - val_recall: 0.9080\n",
      "Epoch 16/100\n",
      "\u001b[1m236/236\u001b[0m \u001b[32m━━━━━━━━━━━━━━━━━━━━\u001b[0m\u001b[37m\u001b[0m \u001b[1m43s\u001b[0m 182ms/step - accuracy: 0.9339 - f1_score: 0.9351 - loss: 0.1893 - precision: 0.9459 - recall: 0.9245 - val_accuracy: 0.9519 - val_f1_score: 0.9524 - val_loss: 0.1279 - val_precision: 0.9571 - val_recall: 0.9478\n",
      "Epoch 17/100\n",
      "\u001b[1m236/236\u001b[0m \u001b[32m━━━━━━━━━━━━━━━━━━━━\u001b[0m\u001b[37m\u001b[0m \u001b[1m44s\u001b[0m 185ms/step - accuracy: 0.9374 - f1_score: 0.9372 - loss: 0.1821 - precision: 0.9471 - recall: 0.9274 - val_accuracy: 0.9611 - val_f1_score: 0.9608 - val_loss: 0.1148 - val_precision: 0.9674 - val_recall: 0.9543\n",
      "Epoch 18/100\n",
      "\u001b[1m236/236\u001b[0m \u001b[32m━━━━━━━━━━━━━━━━━━━━\u001b[0m\u001b[37m\u001b[0m \u001b[1m44s\u001b[0m 186ms/step - accuracy: 0.9409 - f1_score: 0.9396 - loss: 0.1822 - precision: 0.9480 - recall: 0.9313 - val_accuracy: 0.9647 - val_f1_score: 0.9642 - val_loss: 0.1027 - val_precision: 0.9686 - val_recall: 0.9598\n",
      "Epoch 19/100\n",
      "\u001b[1m236/236\u001b[0m \u001b[32m━━━━━━━━━━━━━━━━━━━━\u001b[0m\u001b[37m\u001b[0m \u001b[1m43s\u001b[0m 184ms/step - accuracy: 0.9503 - f1_score: 0.9495 - loss: 0.1492 - precision: 0.9577 - recall: 0.9415 - val_accuracy: 0.9691 - val_f1_score: 0.9693 - val_loss: 0.0928 - val_precision: 0.9739 - val_recall: 0.9647\n",
      "Epoch 20/100\n",
      "\u001b[1m236/236\u001b[0m \u001b[32m━━━━━━━━━━━━━━━━━━━━\u001b[0m\u001b[37m\u001b[0m \u001b[1m44s\u001b[0m 185ms/step - accuracy: 0.9557 - f1_score: 0.9551 - loss: 0.1288 - precision: 0.9604 - recall: 0.9499 - val_accuracy: 0.9616 - val_f1_score: 0.9628 - val_loss: 0.1050 - val_precision: 0.9692 - val_recall: 0.9566\n",
      "Epoch 21/100\n",
      "\u001b[1m236/236\u001b[0m \u001b[32m━━━━━━━━━━━━━━━━━━━━\u001b[0m\u001b[37m\u001b[0m \u001b[1m44s\u001b[0m 186ms/step - accuracy: 0.9562 - f1_score: 0.9556 - loss: 0.1362 - precision: 0.9617 - recall: 0.9496 - val_accuracy: 0.9809 - val_f1_score: 0.9807 - val_loss: 0.0605 - val_precision: 0.9838 - val_recall: 0.9776\n",
      "Epoch 22/100\n",
      "\u001b[1m236/236\u001b[0m \u001b[32m━━━━━━━━━━━━━━━━━━━━\u001b[0m\u001b[37m\u001b[0m \u001b[1m43s\u001b[0m 184ms/step - accuracy: 0.9539 - f1_score: 0.9532 - loss: 0.1287 - precision: 0.9609 - recall: 0.9456 - val_accuracy: 0.9704 - val_f1_score: 0.9709 - val_loss: 0.0899 - val_precision: 0.9755 - val_recall: 0.9663\n",
      "Epoch 23/100\n",
      "\u001b[1m236/236\u001b[0m \u001b[32m━━━━━━━━━━━━━━━━━━━━\u001b[0m\u001b[37m\u001b[0m \u001b[1m44s\u001b[0m 186ms/step - accuracy: 0.9531 - f1_score: 0.9527 - loss: 0.1401 - precision: 0.9601 - recall: 0.9455 - val_accuracy: 0.9685 - val_f1_score: 0.9674 - val_loss: 0.0976 - val_precision: 0.9729 - val_recall: 0.9620\n",
      "Epoch 24/100\n",
      "\u001b[1m236/236\u001b[0m \u001b[32m━━━━━━━━━━━━━━━━━━━━\u001b[0m\u001b[37m\u001b[0m \u001b[1m44s\u001b[0m 187ms/step - accuracy: 0.9625 - f1_score: 0.9620 - loss: 0.1088 - precision: 0.9675 - recall: 0.9566 - val_accuracy: 0.9773 - val_f1_score: 0.9780 - val_loss: 0.0699 - val_precision: 0.9809 - val_recall: 0.9750\n",
      "Epoch 25/100\n",
      "\u001b[1m236/236\u001b[0m \u001b[32m━━━━━━━━━━━━━━━━━━━━\u001b[0m\u001b[37m\u001b[0m \u001b[1m43s\u001b[0m 184ms/step - accuracy: 0.9676 - f1_score: 0.9677 - loss: 0.0998 - precision: 0.9723 - recall: 0.9631 - val_accuracy: 0.9750 - val_f1_score: 0.9758 - val_loss: 0.0716 - val_precision: 0.9786 - val_recall: 0.9729\n",
      "Epoch 26/100\n",
      "\u001b[1m236/236\u001b[0m \u001b[32m━━━━━━━━━━━━━━━━━━━━\u001b[0m\u001b[37m\u001b[0m \u001b[1m43s\u001b[0m 184ms/step - accuracy: 0.9656 - f1_score: 0.9656 - loss: 0.0974 - precision: 0.9698 - recall: 0.9614 - val_accuracy: 0.9789 - val_f1_score: 0.9784 - val_loss: 0.0678 - val_precision: 0.9813 - val_recall: 0.9754\n",
      "Epoch 27/100\n",
      "\u001b[1m236/236\u001b[0m \u001b[32m━━━━━━━━━━━━━━━━━━━━\u001b[0m\u001b[37m\u001b[0m \u001b[1m44s\u001b[0m 186ms/step - accuracy: 0.9733 - f1_score: 0.9747 - loss: 0.0841 - precision: 0.9778 - recall: 0.9717 - val_accuracy: 0.9784 - val_f1_score: 0.9785 - val_loss: 0.0626 - val_precision: 0.9808 - val_recall: 0.9762\n",
      "Epoch 28/100\n",
      "\u001b[1m236/236\u001b[0m \u001b[32m━━━━━━━━━━━━━━━━━━━━\u001b[0m\u001b[37m\u001b[0m \u001b[1m45s\u001b[0m 190ms/step - accuracy: 0.9748 - f1_score: 0.9750 - loss: 0.0816 - precision: 0.9784 - recall: 0.9716 - val_accuracy: 0.9817 - val_f1_score: 0.9815 - val_loss: 0.0586 - val_precision: 0.9837 - val_recall: 0.9793\n",
      "Epoch 29/100\n",
      "\u001b[1m236/236\u001b[0m \u001b[32m━━━━━━━━━━━━━━━━━━━━\u001b[0m\u001b[37m\u001b[0m \u001b[1m44s\u001b[0m 187ms/step - accuracy: 0.9704 - f1_score: 0.9703 - loss: 0.0861 - precision: 0.9732 - recall: 0.9675 - val_accuracy: 0.9895 - val_f1_score: 0.9890 - val_loss: 0.0349 - val_precision: 0.9908 - val_recall: 0.9871\n",
      "Epoch 30/100\n",
      "\u001b[1m236/236\u001b[0m \u001b[32m━━━━━━━━━━━━━━━━━━━━\u001b[0m\u001b[37m\u001b[0m \u001b[1m44s\u001b[0m 185ms/step - accuracy: 0.9751 - f1_score: 0.9746 - loss: 0.0685 - precision: 0.9773 - recall: 0.9719 - val_accuracy: 0.9839 - val_f1_score: 0.9842 - val_loss: 0.0461 - val_precision: 0.9861 - val_recall: 0.9823\n",
      "Epoch 31/100\n",
      "\u001b[1m236/236\u001b[0m \u001b[32m━━━━━━━━━━━━━━━━━━━━\u001b[0m\u001b[37m\u001b[0m \u001b[1m45s\u001b[0m 191ms/step - accuracy: 0.9720 - f1_score: 0.9716 - loss: 0.0851 - precision: 0.9740 - recall: 0.9693 - val_accuracy: 0.9796 - val_f1_score: 0.9798 - val_loss: 0.0581 - val_precision: 0.9821 - val_recall: 0.9776\n",
      "Epoch 32/100\n",
      "\u001b[1m236/236\u001b[0m \u001b[32m━━━━━━━━━━━━━━━━━━━━\u001b[0m\u001b[37m\u001b[0m \u001b[1m47s\u001b[0m 198ms/step - accuracy: 0.9777 - f1_score: 0.9772 - loss: 0.0730 - precision: 0.9799 - recall: 0.9746 - val_accuracy: 0.9878 - val_f1_score: 0.9876 - val_loss: 0.0412 - val_precision: 0.9891 - val_recall: 0.9862\n",
      "Epoch 33/100\n",
      "\u001b[1m236/236\u001b[0m \u001b[32m━━━━━━━━━━━━━━━━━━━━\u001b[0m\u001b[37m\u001b[0m \u001b[1m45s\u001b[0m 190ms/step - accuracy: 0.9669 - f1_score: 0.9672 - loss: 0.0953 - precision: 0.9695 - recall: 0.9649 - val_accuracy: 0.9804 - val_f1_score: 0.9803 - val_loss: 0.0634 - val_precision: 0.9812 - val_recall: 0.9793\n",
      "Epoch 34/100\n",
      "\u001b[1m236/236\u001b[0m \u001b[32m━━━━━━━━━━━━━━━━━━━━\u001b[0m\u001b[37m\u001b[0m \u001b[1m64s\u001b[0m 270ms/step - accuracy: 0.9749 - f1_score: 0.9756 - loss: 0.0732 - precision: 0.9777 - recall: 0.9735 - val_accuracy: 0.9886 - val_f1_score: 0.9885 - val_loss: 0.0360 - val_precision: 0.9896 - val_recall: 0.9874\n",
      "Epoch 35/100\n",
      "\u001b[1m236/236\u001b[0m \u001b[32m━━━━━━━━━━━━━━━━━━━━\u001b[0m\u001b[37m\u001b[0m \u001b[1m46s\u001b[0m 193ms/step - accuracy: 0.9749 - f1_score: 0.9755 - loss: 0.0688 - precision: 0.9780 - recall: 0.9730 - val_accuracy: 0.9912 - val_f1_score: 0.9913 - val_loss: 0.0326 - val_precision: 0.9931 - val_recall: 0.9895\n",
      "Epoch 36/100\n",
      "\u001b[1m236/236\u001b[0m \u001b[32m━━━━━━━━━━━━━━━━━━━━\u001b[0m\u001b[37m\u001b[0m \u001b[1m43s\u001b[0m 184ms/step - accuracy: 0.9835 - f1_score: 0.9838 - loss: 0.0542 - precision: 0.9860 - recall: 0.9815 - val_accuracy: 0.9865 - val_f1_score: 0.9863 - val_loss: 0.0398 - val_precision: 0.9874 - val_recall: 0.9853\n",
      "Epoch 37/100\n",
      "\u001b[1m236/236\u001b[0m \u001b[32m━━━━━━━━━━━━━━━━━━━━\u001b[0m\u001b[37m\u001b[0m \u001b[1m44s\u001b[0m 187ms/step - accuracy: 0.9780 - f1_score: 0.9770 - loss: 0.0722 - precision: 0.9800 - recall: 0.9740 - val_accuracy: 0.9819 - val_f1_score: 0.9823 - val_loss: 0.0525 - val_precision: 0.9836 - val_recall: 0.9809\n",
      "Epoch 38/100\n",
      "\u001b[1m236/236\u001b[0m \u001b[32m━━━━━━━━━━━━━━━━━━━━\u001b[0m\u001b[37m\u001b[0m \u001b[1m43s\u001b[0m 181ms/step - accuracy: 0.9801 - f1_score: 0.9801 - loss: 0.0648 - precision: 0.9818 - recall: 0.9784 - val_accuracy: 0.9863 - val_f1_score: 0.9863 - val_loss: 0.0405 - val_precision: 0.9877 - val_recall: 0.9849\n",
      "Epoch 39/100\n",
      "\u001b[1m236/236\u001b[0m \u001b[32m━━━━━━━━━━━━━━━━━━━━\u001b[0m\u001b[37m\u001b[0m \u001b[1m44s\u001b[0m 185ms/step - accuracy: 0.9814 - f1_score: 0.9811 - loss: 0.0591 - precision: 0.9827 - recall: 0.9796 - val_accuracy: 0.9806 - val_f1_score: 0.9808 - val_loss: 0.0590 - val_precision: 0.9832 - val_recall: 0.9785\n",
      "Epoch 40/100\n",
      "\u001b[1m236/236\u001b[0m \u001b[32m━━━━━━━━━━━━━━━━━━━━\u001b[0m\u001b[37m\u001b[0m \u001b[1m44s\u001b[0m 186ms/step - accuracy: 0.9801 - f1_score: 0.9800 - loss: 0.0657 - precision: 0.9816 - recall: 0.9784 - val_accuracy: 0.9920 - val_f1_score: 0.9920 - val_loss: 0.0281 - val_precision: 0.9933 - val_recall: 0.9907\n",
      "Epoch 41/100\n",
      "\u001b[1m236/236\u001b[0m \u001b[32m━━━━━━━━━━━━━━━━━━━━\u001b[0m\u001b[37m\u001b[0m \u001b[1m45s\u001b[0m 188ms/step - accuracy: 0.9799 - f1_score: 0.9797 - loss: 0.0564 - precision: 0.9814 - recall: 0.9779 - val_accuracy: 0.9813 - val_f1_score: 0.9820 - val_loss: 0.0526 - val_precision: 0.9835 - val_recall: 0.9805\n",
      "Epoch 42/100\n",
      "\u001b[1m236/236\u001b[0m \u001b[32m━━━━━━━━━━━━━━━━━━━━\u001b[0m\u001b[37m\u001b[0m \u001b[1m43s\u001b[0m 184ms/step - accuracy: 0.9802 - f1_score: 0.9802 - loss: 0.0570 - precision: 0.9817 - recall: 0.9786 - val_accuracy: 0.9927 - val_f1_score: 0.9926 - val_loss: 0.0221 - val_precision: 0.9928 - val_recall: 0.9924\n",
      "Epoch 43/100\n",
      "\u001b[1m236/236\u001b[0m \u001b[32m━━━━━━━━━━━━━━━━━━━━\u001b[0m\u001b[37m\u001b[0m \u001b[1m44s\u001b[0m 185ms/step - accuracy: 0.9833 - f1_score: 0.9832 - loss: 0.0543 - precision: 0.9838 - recall: 0.9826 - val_accuracy: 0.9830 - val_f1_score: 0.9834 - val_loss: 0.0514 - val_precision: 0.9852 - val_recall: 0.9817\n",
      "Epoch 44/100\n",
      "\u001b[1m236/236\u001b[0m \u001b[32m━━━━━━━━━━━━━━━━━━━━\u001b[0m\u001b[37m\u001b[0m \u001b[1m44s\u001b[0m 188ms/step - accuracy: 0.9777 - f1_score: 0.9780 - loss: 0.0625 - precision: 0.9793 - recall: 0.9768 - val_accuracy: 0.9908 - val_f1_score: 0.9906 - val_loss: 0.0282 - val_precision: 0.9921 - val_recall: 0.9890\n",
      "Epoch 45/100\n",
      "\u001b[1m236/236\u001b[0m \u001b[32m━━━━━━━━━━━━━━━━━━━━\u001b[0m\u001b[37m\u001b[0m \u001b[1m44s\u001b[0m 185ms/step - accuracy: 0.9787 - f1_score: 0.9784 - loss: 0.0642 - precision: 0.9796 - recall: 0.9772 - val_accuracy: 0.9967 - val_f1_score: 0.9967 - val_loss: 0.0118 - val_precision: 0.9969 - val_recall: 0.9964\n",
      "Epoch 46/100\n",
      "\u001b[1m236/236\u001b[0m \u001b[32m━━━━━━━━━━━━━━━━━━━━\u001b[0m\u001b[37m\u001b[0m \u001b[1m43s\u001b[0m 183ms/step - accuracy: 0.9854 - f1_score: 0.9862 - loss: 0.0431 - precision: 0.9878 - recall: 0.9845 - val_accuracy: 0.9890 - val_f1_score: 0.9888 - val_loss: 0.0436 - val_precision: 0.9898 - val_recall: 0.9879\n",
      "Epoch 47/100\n",
      "\u001b[1m236/236\u001b[0m \u001b[32m━━━━━━━━━━━━━━━━━━━━\u001b[0m\u001b[37m\u001b[0m \u001b[1m44s\u001b[0m 186ms/step - accuracy: 0.9840 - f1_score: 0.9832 - loss: 0.0567 - precision: 0.9853 - recall: 0.9812 - val_accuracy: 0.9927 - val_f1_score: 0.9932 - val_loss: 0.0229 - val_precision: 0.9940 - val_recall: 0.9923\n",
      "Epoch 48/100\n",
      "\u001b[1m236/236\u001b[0m \u001b[32m━━━━━━━━━━━━━━━━━━━━\u001b[0m\u001b[37m\u001b[0m \u001b[1m46s\u001b[0m 196ms/step - accuracy: 0.9799 - f1_score: 0.9806 - loss: 0.0590 - precision: 0.9822 - recall: 0.9789 - val_accuracy: 0.9863 - val_f1_score: 0.9868 - val_loss: 0.0375 - val_precision: 0.9882 - val_recall: 0.9854\n",
      "Epoch 49/100\n",
      "\u001b[1m236/236\u001b[0m \u001b[32m━━━━━━━━━━━━━━━━━━━━\u001b[0m\u001b[37m\u001b[0m \u001b[1m47s\u001b[0m 200ms/step - accuracy: 0.9846 - f1_score: 0.9842 - loss: 0.0415 - precision: 0.9853 - recall: 0.9831 - val_accuracy: 0.9838 - val_f1_score: 0.9836 - val_loss: 0.0491 - val_precision: 0.9857 - val_recall: 0.9814\n",
      "Epoch 50/100\n",
      "\u001b[1m236/236\u001b[0m \u001b[32m━━━━━━━━━━━━━━━━━━━━\u001b[0m\u001b[37m\u001b[0m \u001b[1m48s\u001b[0m 203ms/step - accuracy: 0.9830 - f1_score: 0.9824 - loss: 0.0504 - precision: 0.9834 - recall: 0.9814 - val_accuracy: 0.9907 - val_f1_score: 0.9905 - val_loss: 0.0271 - val_precision: 0.9914 - val_recall: 0.9896\n",
      "Epoch 51/100\n",
      "\u001b[1m236/236\u001b[0m \u001b[32m━━━━━━━━━━━━━━━━━━━━\u001b[0m\u001b[37m\u001b[0m \u001b[1m48s\u001b[0m 205ms/step - accuracy: 0.9877 - f1_score: 0.9878 - loss: 0.0361 - precision: 0.9892 - recall: 0.9864 - val_accuracy: 0.9956 - val_f1_score: 0.9960 - val_loss: 0.0154 - val_precision: 0.9967 - val_recall: 0.9954\n",
      "Epoch 52/100\n",
      "\u001b[1m236/236\u001b[0m \u001b[32m━━━━━━━━━━━━━━━━━━━━\u001b[0m\u001b[37m\u001b[0m \u001b[1m49s\u001b[0m 206ms/step - accuracy: 0.9844 - f1_score: 0.9851 - loss: 0.0453 - precision: 0.9864 - recall: 0.9839 - val_accuracy: 0.9940 - val_f1_score: 0.9937 - val_loss: 0.0209 - val_precision: 0.9944 - val_recall: 0.9930\n",
      "Epoch 53/100\n",
      "\u001b[1m236/236\u001b[0m \u001b[32m━━━━━━━━━━━━━━━━━━━━\u001b[0m\u001b[37m\u001b[0m \u001b[1m48s\u001b[0m 205ms/step - accuracy: 0.9841 - f1_score: 0.9839 - loss: 0.0498 - precision: 0.9851 - recall: 0.9827 - val_accuracy: 0.9802 - val_f1_score: 0.9805 - val_loss: 0.0553 - val_precision: 0.9816 - val_recall: 0.9794\n",
      "Epoch 54/100\n",
      "\u001b[1m236/236\u001b[0m \u001b[32m━━━━━━━━━━━━━━━━━━━━\u001b[0m\u001b[37m\u001b[0m \u001b[1m49s\u001b[0m 206ms/step - accuracy: 0.9749 - f1_score: 0.9759 - loss: 0.0634 - precision: 0.9773 - recall: 0.9746 - val_accuracy: 0.9898 - val_f1_score: 0.9896 - val_loss: 0.0332 - val_precision: 0.9900 - val_recall: 0.9891\n",
      "Epoch 55/100\n",
      "\u001b[1m236/236\u001b[0m \u001b[32m━━━━━━━━━━━━━━━━━━━━\u001b[0m\u001b[37m\u001b[0m \u001b[1m48s\u001b[0m 204ms/step - accuracy: 0.9728 - f1_score: 0.9731 - loss: 0.0790 - precision: 0.9743 - recall: 0.9720 - val_accuracy: 0.9923 - val_f1_score: 0.9926 - val_loss: 0.0233 - val_precision: 0.9935 - val_recall: 0.9916\n",
      "Epoch 56/100\n",
      "\u001b[1m236/236\u001b[0m \u001b[32m━━━━━━━━━━━━━━━━━━━━\u001b[0m\u001b[37m\u001b[0m \u001b[1m48s\u001b[0m 205ms/step - accuracy: 0.9887 - f1_score: 0.9886 - loss: 0.0340 - precision: 0.9896 - recall: 0.9875 - val_accuracy: 0.9927 - val_f1_score: 0.9923 - val_loss: 0.0247 - val_precision: 0.9931 - val_recall: 0.9915\n",
      "Epoch 57/100\n",
      "\u001b[1m236/236\u001b[0m \u001b[32m━━━━━━━━━━━━━━━━━━━━\u001b[0m\u001b[37m\u001b[0m \u001b[1m50s\u001b[0m 210ms/step - accuracy: 0.9789 - f1_score: 0.9796 - loss: 0.0519 - precision: 0.9813 - recall: 0.9779 - val_accuracy: 0.9888 - val_f1_score: 0.9889 - val_loss: 0.0319 - val_precision: 0.9894 - val_recall: 0.9884\n",
      "Epoch 58/100\n",
      "\u001b[1m236/236\u001b[0m \u001b[32m━━━━━━━━━━━━━━━━━━━━\u001b[0m\u001b[37m\u001b[0m \u001b[1m52s\u001b[0m 222ms/step - accuracy: 0.9827 - f1_score: 0.9823 - loss: 0.0513 - precision: 0.9833 - recall: 0.9813 - val_accuracy: 0.9758 - val_f1_score: 0.9758 - val_loss: 0.0814 - val_precision: 0.9772 - val_recall: 0.9744\n",
      "Epoch 59/100\n",
      "\u001b[1m236/236\u001b[0m \u001b[32m━━━━━━━━━━━━━━━━━━━━\u001b[0m\u001b[37m\u001b[0m \u001b[1m25s\u001b[0m 107ms/step - accuracy: 0.9768 - f1_score: 0.9759 - loss: 0.0780 - precision: 0.9777 - recall: 0.9741 - val_accuracy: 0.9940 - val_f1_score: 0.9941 - val_loss: 0.0209 - val_precision: 0.9946 - val_recall: 0.9936\n",
      "Epoch 60/100\n",
      "\u001b[1m236/236\u001b[0m \u001b[32m━━━━━━━━━━━━━━━━━━━━\u001b[0m\u001b[37m\u001b[0m \u001b[1m26s\u001b[0m 110ms/step - accuracy: 0.9844 - f1_score: 0.9847 - loss: 0.0475 - precision: 0.9861 - recall: 0.9834 - val_accuracy: 0.9932 - val_f1_score: 0.9932 - val_loss: 0.0204 - val_precision: 0.9935 - val_recall: 0.9930\n",
      "Epoch 61/100\n",
      "\u001b[1m236/236\u001b[0m \u001b[32m━━━━━━━━━━━━━━━━━━━━\u001b[0m\u001b[37m\u001b[0m \u001b[1m27s\u001b[0m 114ms/step - accuracy: 0.9915 - f1_score: 0.9910 - loss: 0.0284 - precision: 0.9917 - recall: 0.9903 - val_accuracy: 0.9809 - val_f1_score: 0.9810 - val_loss: 0.0546 - val_precision: 0.9822 - val_recall: 0.9798\n",
      "Epoch 62/100\n",
      "\u001b[1m236/236\u001b[0m \u001b[32m━━━━━━━━━━━━━━━━━━━━\u001b[0m\u001b[37m\u001b[0m \u001b[1m27s\u001b[0m 116ms/step - accuracy: 0.9835 - f1_score: 0.9843 - loss: 0.0516 - precision: 0.9858 - recall: 0.9828 - val_accuracy: 0.9931 - val_f1_score: 0.9934 - val_loss: 0.0228 - val_precision: 0.9944 - val_recall: 0.9924\n",
      "Epoch 63/100\n",
      "\u001b[1m236/236\u001b[0m \u001b[32m━━━━━━━━━━━━━━━━━━━━\u001b[0m\u001b[37m\u001b[0m \u001b[1m28s\u001b[0m 117ms/step - accuracy: 0.9875 - f1_score: 0.9870 - loss: 0.0391 - precision: 0.9881 - recall: 0.9858 - val_accuracy: 0.9922 - val_f1_score: 0.9920 - val_loss: 0.0258 - val_precision: 0.9924 - val_recall: 0.9916\n",
      "Epoch 64/100\n",
      "\u001b[1m236/236\u001b[0m \u001b[32m━━━━━━━━━━━━━━━━━━━━\u001b[0m\u001b[37m\u001b[0m \u001b[1m28s\u001b[0m 119ms/step - accuracy: 0.9802 - f1_score: 0.9804 - loss: 0.0595 - precision: 0.9813 - recall: 0.9796 - val_accuracy: 0.9849 - val_f1_score: 0.9849 - val_loss: 0.0427 - val_precision: 0.9860 - val_recall: 0.9838\n",
      "Epoch 65/100\n",
      "\u001b[1m236/236\u001b[0m \u001b[32m━━━━━━━━━━━━━━━━━━━━\u001b[0m\u001b[37m\u001b[0m \u001b[1m30s\u001b[0m 127ms/step - accuracy: 0.9815 - f1_score: 0.9813 - loss: 0.0546 - precision: 0.9823 - recall: 0.9803 - val_accuracy: 0.9873 - val_f1_score: 0.9873 - val_loss: 0.0346 - val_precision: 0.9879 - val_recall: 0.9867\n",
      "Epoch 66/100\n",
      "\u001b[1m236/236\u001b[0m \u001b[32m━━━━━━━━━━━━━━━━━━━━\u001b[0m\u001b[37m\u001b[0m \u001b[1m36s\u001b[0m 154ms/step - accuracy: 0.9762 - f1_score: 0.9763 - loss: 0.0913 - precision: 0.9771 - recall: 0.9755 - val_accuracy: 0.9973 - val_f1_score: 0.9975 - val_loss: 0.0075 - val_precision: 0.9977 - val_recall: 0.9972\n",
      "Epoch 67/100\n",
      "\u001b[1m236/236\u001b[0m \u001b[32m━━━━━━━━━━━━━━━━━━━━\u001b[0m\u001b[37m\u001b[0m \u001b[1m50s\u001b[0m 212ms/step - accuracy: 0.9900 - f1_score: 0.9894 - loss: 0.0303 - precision: 0.9906 - recall: 0.9883 - val_accuracy: 0.9968 - val_f1_score: 0.9969 - val_loss: 0.0102 - val_precision: 0.9972 - val_recall: 0.9965\n",
      "Epoch 68/100\n",
      "\u001b[1m236/236\u001b[0m \u001b[32m━━━━━━━━━━━━━━━━━━━━\u001b[0m\u001b[37m\u001b[0m \u001b[1m50s\u001b[0m 210ms/step - accuracy: 0.9850 - f1_score: 0.9852 - loss: 0.0444 - precision: 0.9867 - recall: 0.9838 - val_accuracy: 0.9940 - val_f1_score: 0.9936 - val_loss: 0.0211 - val_precision: 0.9945 - val_recall: 0.9927\n",
      "Epoch 69/100\n",
      "\u001b[1m236/236\u001b[0m \u001b[32m━━━━━━━━━━━━━━━━━━━━\u001b[0m\u001b[37m\u001b[0m \u001b[1m50s\u001b[0m 212ms/step - accuracy: 0.9897 - f1_score: 0.9896 - loss: 0.0342 - precision: 0.9900 - recall: 0.9892 - val_accuracy: 0.9955 - val_f1_score: 0.9954 - val_loss: 0.0128 - val_precision: 0.9956 - val_recall: 0.9952\n",
      "Epoch 70/100\n",
      "\u001b[1m236/236\u001b[0m \u001b[32m━━━━━━━━━━━━━━━━━━━━\u001b[0m\u001b[37m\u001b[0m \u001b[1m50s\u001b[0m 213ms/step - accuracy: 0.9904 - f1_score: 0.9907 - loss: 0.0260 - precision: 0.9914 - recall: 0.9901 - val_accuracy: 0.9946 - val_f1_score: 0.9948 - val_loss: 0.0159 - val_precision: 0.9951 - val_recall: 0.9946\n",
      "Epoch 71/100\n",
      "\u001b[1m236/236\u001b[0m \u001b[32m━━━━━━━━━━━━━━━━━━━━\u001b[0m\u001b[37m\u001b[0m \u001b[1m50s\u001b[0m 210ms/step - accuracy: 0.9885 - f1_score: 0.9884 - loss: 0.0302 - precision: 0.9892 - recall: 0.9876 - val_accuracy: 0.9761 - val_f1_score: 0.9761 - val_loss: 0.0993 - val_precision: 0.9772 - val_recall: 0.9749\n",
      "Epoch 72/100\n",
      "\u001b[1m236/236\u001b[0m \u001b[32m━━━━━━━━━━━━━━━━━━━━\u001b[0m\u001b[37m\u001b[0m \u001b[1m50s\u001b[0m 210ms/step - accuracy: 0.9777 - f1_score: 0.9778 - loss: 0.0788 - precision: 0.9790 - recall: 0.9766 - val_accuracy: 0.9926 - val_f1_score: 0.9924 - val_loss: 0.0184 - val_precision: 0.9926 - val_recall: 0.9923\n",
      "Epoch 73/100\n",
      "\u001b[1m236/236\u001b[0m \u001b[32m━━━━━━━━━━━━━━━━━━━━\u001b[0m\u001b[37m\u001b[0m \u001b[1m49s\u001b[0m 208ms/step - accuracy: 0.9809 - f1_score: 0.9811 - loss: 0.0606 - precision: 0.9818 - recall: 0.9804 - val_accuracy: 0.9968 - val_f1_score: 0.9969 - val_loss: 0.0113 - val_precision: 0.9973 - val_recall: 0.9964\n",
      "Epoch 74/100\n",
      "\u001b[1m236/236\u001b[0m \u001b[32m━━━━━━━━━━━━━━━━━━━━\u001b[0m\u001b[37m\u001b[0m \u001b[1m49s\u001b[0m 207ms/step - accuracy: 0.9882 - f1_score: 0.9876 - loss: 0.0353 - precision: 0.9882 - recall: 0.9870 - val_accuracy: 0.9931 - val_f1_score: 0.9930 - val_loss: 0.0213 - val_precision: 0.9935 - val_recall: 0.9924\n",
      "Epoch 75/100\n",
      "\u001b[1m236/236\u001b[0m \u001b[32m━━━━━━━━━━━━━━━━━━━━\u001b[0m\u001b[37m\u001b[0m \u001b[1m50s\u001b[0m 214ms/step - accuracy: 0.9921 - f1_score: 0.9922 - loss: 0.0250 - precision: 0.9926 - recall: 0.9917 - val_accuracy: 0.9814 - val_f1_score: 0.9816 - val_loss: 0.0512 - val_precision: 0.9824 - val_recall: 0.9807\n",
      "Epoch 76/100\n",
      "\u001b[1m236/236\u001b[0m \u001b[32m━━━━━━━━━━━━━━━━━━━━\u001b[0m\u001b[37m\u001b[0m \u001b[1m50s\u001b[0m 211ms/step - accuracy: 0.9835 - f1_score: 0.9834 - loss: 0.0531 - precision: 0.9843 - recall: 0.9826 - val_accuracy: 0.9967 - val_f1_score: 0.9966 - val_loss: 0.0117 - val_precision: 0.9969 - val_recall: 0.9963\n",
      "Epoch 77/100\n",
      "\u001b[1m236/236\u001b[0m \u001b[32m━━━━━━━━━━━━━━━━━━━━\u001b[0m\u001b[37m\u001b[0m \u001b[1m50s\u001b[0m 211ms/step - accuracy: 0.9867 - f1_score: 0.9865 - loss: 0.0426 - precision: 0.9871 - recall: 0.9859 - val_accuracy: 0.9955 - val_f1_score: 0.9957 - val_loss: 0.0128 - val_precision: 0.9960 - val_recall: 0.9954\n",
      "Epoch 78/100\n",
      "\u001b[1m236/236\u001b[0m \u001b[32m━━━━━━━━━━━━━━━━━━━━\u001b[0m\u001b[37m\u001b[0m \u001b[1m50s\u001b[0m 213ms/step - accuracy: 0.9879 - f1_score: 0.9880 - loss: 0.0327 - precision: 0.9886 - recall: 0.9874 - val_accuracy: 0.9935 - val_f1_score: 0.9936 - val_loss: 0.0174 - val_precision: 0.9938 - val_recall: 0.9934\n",
      "Epoch 79/100\n",
      "\u001b[1m236/236\u001b[0m \u001b[32m━━━━━━━━━━━━━━━━━━━━\u001b[0m\u001b[37m\u001b[0m \u001b[1m49s\u001b[0m 208ms/step - accuracy: 0.9923 - f1_score: 0.9921 - loss: 0.0228 - precision: 0.9925 - recall: 0.9917 - val_accuracy: 0.9983 - val_f1_score: 0.9983 - val_loss: 0.0057 - val_precision: 0.9985 - val_recall: 0.9981\n",
      "Epoch 80/100\n",
      "\u001b[1m236/236\u001b[0m \u001b[32m━━━━━━━━━━━━━━━━━━━━\u001b[0m\u001b[37m\u001b[0m \u001b[1m51s\u001b[0m 215ms/step - accuracy: 0.9879 - f1_score: 0.9880 - loss: 0.0400 - precision: 0.9885 - recall: 0.9874 - val_accuracy: 0.9973 - val_f1_score: 0.9974 - val_loss: 0.0100 - val_precision: 0.9976 - val_recall: 0.9972\n",
      "Epoch 81/100\n",
      "\u001b[1m236/236\u001b[0m \u001b[32m━━━━━━━━━━━━━━━━━━━━\u001b[0m\u001b[37m\u001b[0m \u001b[1m50s\u001b[0m 210ms/step - accuracy: 0.9871 - f1_score: 0.9873 - loss: 0.0410 - precision: 0.9878 - recall: 0.9868 - val_accuracy: 0.9894 - val_f1_score: 0.9896 - val_loss: 0.0313 - val_precision: 0.9900 - val_recall: 0.9892\n",
      "Epoch 82/100\n",
      "\u001b[1m236/236\u001b[0m \u001b[32m━━━━━━━━━━━━━━━━━━━━\u001b[0m\u001b[37m\u001b[0m \u001b[1m51s\u001b[0m 215ms/step - accuracy: 0.9875 - f1_score: 0.9871 - loss: 0.0399 - precision: 0.9879 - recall: 0.9863 - val_accuracy: 0.9988 - val_f1_score: 0.9989 - val_loss: 0.0057 - val_precision: 0.9991 - val_recall: 0.9987\n",
      "Epoch 83/100\n",
      "\u001b[1m236/236\u001b[0m \u001b[32m━━━━━━━━━━━━━━━━━━━━\u001b[0m\u001b[37m\u001b[0m \u001b[1m50s\u001b[0m 213ms/step - accuracy: 0.9886 - f1_score: 0.9888 - loss: 0.0301 - precision: 0.9900 - recall: 0.9876 - val_accuracy: 0.9855 - val_f1_score: 0.9857 - val_loss: 0.0598 - val_precision: 0.9864 - val_recall: 0.9850\n",
      "Epoch 84/100\n",
      "\u001b[1m236/236\u001b[0m \u001b[32m━━━━━━━━━━━━━━━━━━━━\u001b[0m\u001b[37m\u001b[0m \u001b[1m52s\u001b[0m 219ms/step - accuracy: 0.9811 - f1_score: 0.9807 - loss: 0.0657 - precision: 0.9820 - recall: 0.9794 - val_accuracy: 0.9756 - val_f1_score: 0.9760 - val_loss: 0.0890 - val_precision: 0.9771 - val_recall: 0.9749\n",
      "Epoch 85/100\n",
      "\u001b[1m236/236\u001b[0m \u001b[32m━━━━━━━━━━━━━━━━━━━━\u001b[0m\u001b[37m\u001b[0m \u001b[1m52s\u001b[0m 219ms/step - accuracy: 0.9864 - f1_score: 0.9860 - loss: 0.0424 - precision: 0.9870 - recall: 0.9849 - val_accuracy: 0.9924 - val_f1_score: 0.9925 - val_loss: 0.0283 - val_precision: 0.9928 - val_recall: 0.9922\n",
      "Epoch 86/100\n",
      "\u001b[1m236/236\u001b[0m \u001b[32m━━━━━━━━━━━━━━━━━━━━\u001b[0m\u001b[37m\u001b[0m \u001b[1m51s\u001b[0m 217ms/step - accuracy: 0.9900 - f1_score: 0.9901 - loss: 0.0360 - precision: 0.9902 - recall: 0.9899 - val_accuracy: 0.9961 - val_f1_score: 0.9961 - val_loss: 0.0097 - val_precision: 0.9965 - val_recall: 0.9958\n",
      "Epoch 87/100\n",
      "\u001b[1m236/236\u001b[0m \u001b[32m━━━━━━━━━━━━━━━━━━━━\u001b[0m\u001b[37m\u001b[0m \u001b[1m52s\u001b[0m 220ms/step - accuracy: 0.9954 - f1_score: 0.9954 - loss: 0.0163 - precision: 0.9954 - recall: 0.9953 - val_accuracy: 0.9985 - val_f1_score: 0.9985 - val_loss: 0.0050 - val_precision: 0.9988 - val_recall: 0.9983\n",
      "Epoch 88/100\n",
      "\u001b[1m236/236\u001b[0m \u001b[32m━━━━━━━━━━━━━━━━━━━━\u001b[0m\u001b[37m\u001b[0m \u001b[1m52s\u001b[0m 221ms/step - accuracy: 0.9967 - f1_score: 0.9967 - loss: 0.0128 - precision: 0.9969 - recall: 0.9965 - val_accuracy: 0.9946 - val_f1_score: 0.9947 - val_loss: 0.0148 - val_precision: 0.9950 - val_recall: 0.9944\n",
      "Epoch 89/100\n",
      "\u001b[1m236/236\u001b[0m \u001b[32m━━━━━━━━━━━━━━━━━━━━\u001b[0m\u001b[37m\u001b[0m \u001b[1m52s\u001b[0m 220ms/step - accuracy: 0.9887 - f1_score: 0.9886 - loss: 0.0317 - precision: 0.9891 - recall: 0.9881 - val_accuracy: 0.9955 - val_f1_score: 0.9957 - val_loss: 0.0137 - val_precision: 0.9963 - val_recall: 0.9952\n",
      "Epoch 90/100\n",
      "\u001b[1m236/236\u001b[0m \u001b[32m━━━━━━━━━━━━━━━━━━━━\u001b[0m\u001b[37m\u001b[0m \u001b[1m52s\u001b[0m 219ms/step - accuracy: 0.9883 - f1_score: 0.9883 - loss: 0.0415 - precision: 0.9886 - recall: 0.9881 - val_accuracy: 0.9932 - val_f1_score: 0.9934 - val_loss: 0.0186 - val_precision: 0.9940 - val_recall: 0.9928\n",
      "Epoch 91/100\n",
      "\u001b[1m236/236\u001b[0m \u001b[32m━━━━━━━━━━━━━━━━━━━━\u001b[0m\u001b[37m\u001b[0m \u001b[1m52s\u001b[0m 218ms/step - accuracy: 0.9904 - f1_score: 0.9899 - loss: 0.0349 - precision: 0.9905 - recall: 0.9892 - val_accuracy: 0.9969 - val_f1_score: 0.9969 - val_loss: 0.0129 - val_precision: 0.9969 - val_recall: 0.9968\n",
      "Epoch 92/100\n",
      "\u001b[1m236/236\u001b[0m \u001b[32m━━━━━━━━━━━━━━━━━━━━\u001b[0m\u001b[37m\u001b[0m \u001b[1m51s\u001b[0m 217ms/step - accuracy: 0.9924 - f1_score: 0.9924 - loss: 0.0254 - precision: 0.9926 - recall: 0.9921 - val_accuracy: 0.9975 - val_f1_score: 0.9975 - val_loss: 0.0093 - val_precision: 0.9976 - val_recall: 0.9973\n",
      "Epoch 93/100\n",
      "\u001b[1m236/236\u001b[0m \u001b[32m━━━━━━━━━━━━━━━━━━━━\u001b[0m\u001b[37m\u001b[0m \u001b[1m52s\u001b[0m 223ms/step - accuracy: 0.9920 - f1_score: 0.9915 - loss: 0.0262 - precision: 0.9923 - recall: 0.9908 - val_accuracy: 0.9969 - val_f1_score: 0.9969 - val_loss: 0.0096 - val_precision: 0.9972 - val_recall: 0.9965\n",
      "Epoch 94/100\n",
      "\u001b[1m236/236\u001b[0m \u001b[32m━━━━━━━━━━━━━━━━━━━━\u001b[0m\u001b[37m\u001b[0m \u001b[1m52s\u001b[0m 221ms/step - accuracy: 0.9902 - f1_score: 0.9901 - loss: 0.0377 - precision: 0.9903 - recall: 0.9899 - val_accuracy: 0.9959 - val_f1_score: 0.9959 - val_loss: 0.0252 - val_precision: 0.9965 - val_recall: 0.9952\n",
      "Epoch 95/100\n",
      "\u001b[1m236/236\u001b[0m \u001b[32m━━━━━━━━━━━━━━━━━━━━\u001b[0m\u001b[37m\u001b[0m \u001b[1m51s\u001b[0m 218ms/step - accuracy: 0.9845 - f1_score: 0.9840 - loss: 0.0618 - precision: 0.9859 - recall: 0.9821 - val_accuracy: 0.9928 - val_f1_score: 0.9928 - val_loss: 0.0201 - val_precision: 0.9931 - val_recall: 0.9926\n",
      "Epoch 96/100\n",
      "\u001b[1m236/236\u001b[0m \u001b[32m━━━━━━━━━━━━━━━━━━━━\u001b[0m\u001b[37m\u001b[0m \u001b[1m53s\u001b[0m 224ms/step - accuracy: 0.9897 - f1_score: 0.9897 - loss: 0.0292 - precision: 0.9902 - recall: 0.9892 - val_accuracy: 0.9869 - val_f1_score: 0.9868 - val_loss: 0.0375 - val_precision: 0.9872 - val_recall: 0.9863\n",
      "Epoch 97/100\n",
      "\u001b[1m236/236\u001b[0m \u001b[32m━━━━━━━━━━━━━━━━━━━━\u001b[0m\u001b[37m\u001b[0m \u001b[1m52s\u001b[0m 220ms/step - accuracy: 0.9935 - f1_score: 0.9936 - loss: 0.0253 - precision: 0.9938 - recall: 0.9933 - val_accuracy: 0.9976 - val_f1_score: 0.9977 - val_loss: 0.0070 - val_precision: 0.9977 - val_recall: 0.9976\n",
      "Epoch 98/100\n",
      "\u001b[1m236/236\u001b[0m \u001b[32m━━━━━━━━━━━━━━━━━━━━\u001b[0m\u001b[37m\u001b[0m \u001b[1m52s\u001b[0m 221ms/step - accuracy: 0.9902 - f1_score: 0.9902 - loss: 0.0299 - precision: 0.9911 - recall: 0.9894 - val_accuracy: 0.9965 - val_f1_score: 0.9965 - val_loss: 0.0119 - val_precision: 0.9967 - val_recall: 0.9963\n",
      "Epoch 99/100\n",
      "\u001b[1m236/236\u001b[0m \u001b[32m━━━━━━━━━━━━━━━━━━━━\u001b[0m\u001b[37m\u001b[0m \u001b[1m52s\u001b[0m 222ms/step - accuracy: 0.9900 - f1_score: 0.9894 - loss: 0.0346 - precision: 0.9901 - recall: 0.9887 - val_accuracy: 0.9965 - val_f1_score: 0.9965 - val_loss: 0.0103 - val_precision: 0.9965 - val_recall: 0.9965\n",
      "Epoch 100/100\n",
      "\u001b[1m236/236\u001b[0m \u001b[32m━━━━━━━━━━━━━━━━━━━━\u001b[0m\u001b[37m\u001b[0m \u001b[1m52s\u001b[0m 221ms/step - accuracy: 0.9888 - f1_score: 0.9887 - loss: 0.0397 - precision: 0.9888 - recall: 0.9885 - val_accuracy: 0.9958 - val_f1_score: 0.9959 - val_loss: 0.0144 - val_precision: 0.9960 - val_recall: 0.9958\n"
     ]
    }
   ],
   "source": [
    "# Train the model\n",
    "history = cnn.fit(\n",
    "    x=training_set,\n",
    "    validation_data=validation_set,\n",
    "    epochs=100\n",
    ")"
   ]
  },
  {
   "cell_type": "code",
   "execution_count": 10,
   "id": "2097c16f-d942-42ed-ac64-632fe5cd5aa2",
   "metadata": {},
   "outputs": [],
   "source": [
    "# Save Loss plot\n",
    "plt.figure()\n",
    "plt.plot(history.history['loss'], label='Train Loss')\n",
    "plt.plot(history.history['val_loss'], label='Validation Loss')\n",
    "plt.legend()\n",
    "plt.title(\"Loss\")\n",
    "plt.xlabel('Epochs')\n",
    "plt.ylabel('Loss')\n",
    "plt.savefig('loss_plot_cnn.png')  # Save the plot as a PNG file\n",
    "plt.close()\n",
    "\n",
    "# Save Accuracy plot\n",
    "plt.figure()\n",
    "plt.plot(history.history['accuracy'], label='Train Accuracy')\n",
    "plt.plot(history.history['val_accuracy'], label='Validation Accuracy')\n",
    "plt.legend()\n",
    "plt.title(\"Accuracy\")\n",
    "plt.xlabel('Epochs')\n",
    "plt.ylabel('Accuracy')\n",
    "plt.savefig('accuracy_plot_cnn.png')  # Save the plot as a PNG file\n",
    "plt.close()\n",
    "\n",
    "# Save Precision plot\n",
    "plt.figure()\n",
    "plt.plot(history.history['precision'], label='Train Precision')\n",
    "plt.plot(history.history['val_precision'], label='Validation Precision')\n",
    "plt.legend()\n",
    "plt.title(\"Precision\")\n",
    "plt.xlabel('Epochs')\n",
    "plt.ylabel('Precision')\n",
    "plt.savefig('precision_plot_cnn.png')  # Save the plot as a PNG file\n",
    "plt.close()\n",
    "\n",
    "# Save Recall plot\n",
    "plt.figure()\n",
    "plt.plot(history.history['recall'], label='Train Recall')\n",
    "plt.plot(history.history['val_recall'], label='Validation Recall')\n",
    "plt.legend()\n",
    "plt.title(\"Recall\")\n",
    "plt.xlabel('Epochs')\n",
    "plt.ylabel('Recall')\n",
    "plt.savefig('recall_plot_cnn.png')  # Save the plot as a PNG file\n",
    "plt.close()\n",
    "\n",
    "# Save F1 Score plot\n",
    "plt.figure()\n",
    "plt.plot(history.history['f1_score'], label='Train F1 Score')\n",
    "plt.plot(history.history['val_f1_score'], label='Validation F1 Score')\n",
    "plt.legend()\n",
    "plt.title(\"F1 Score\")\n",
    "plt.xlabel('Epochs')\n",
    "plt.ylabel('F1 Score')\n",
    "plt.savefig('f1_score_plot_cnn.png')  # Save the plot as a PNG file\n",
    "plt.close()"
   ]
  },
  {
   "cell_type": "code",
   "execution_count": 11,
   "id": "86f7ed39-110c-48c2-8311-fe72361bcf72",
   "metadata": {},
   "outputs": [
    {
     "data": {
      "text/html": [
       "<pre style=\"white-space:pre;overflow-x:auto;line-height:normal;font-family:Menlo,'DejaVu Sans Mono',consolas,'Courier New',monospace\"><span style=\"font-weight: bold\">Model: \"sequential\"</span>\n",
       "</pre>\n"
      ],
      "text/plain": [
       "\u001b[1mModel: \"sequential\"\u001b[0m\n"
      ]
     },
     "metadata": {},
     "output_type": "display_data"
    },
    {
     "data": {
      "text/html": [
       "<pre style=\"white-space:pre;overflow-x:auto;line-height:normal;font-family:Menlo,'DejaVu Sans Mono',consolas,'Courier New',monospace\">┏━━━━━━━━━━━━━━━━━━━━━━━━━━━━━━━━━━━━━━┳━━━━━━━━━━━━━━━━━━━━━━━━━━━━━┳━━━━━━━━━━━━━━━━━┓\n",
       "┃<span style=\"font-weight: bold\"> Layer (type)                         </span>┃<span style=\"font-weight: bold\"> Output Shape                </span>┃<span style=\"font-weight: bold\">         Param # </span>┃\n",
       "┡━━━━━━━━━━━━━━━━━━━━━━━━━━━━━━━━━━━━━━╇━━━━━━━━━━━━━━━━━━━━━━━━━━━━━╇━━━━━━━━━━━━━━━━━┩\n",
       "│ conv2d (<span style=\"color: #0087ff; text-decoration-color: #0087ff\">Conv2D</span>)                      │ (<span style=\"color: #00d7ff; text-decoration-color: #00d7ff\">None</span>, <span style=\"color: #00af00; text-decoration-color: #00af00\">62</span>, <span style=\"color: #00af00; text-decoration-color: #00af00\">62</span>, <span style=\"color: #00af00; text-decoration-color: #00af00\">32</span>)          │             <span style=\"color: #00af00; text-decoration-color: #00af00\">896</span> │\n",
       "├──────────────────────────────────────┼─────────────────────────────┼─────────────────┤\n",
       "│ max_pooling2d (<span style=\"color: #0087ff; text-decoration-color: #0087ff\">MaxPooling2D</span>)         │ (<span style=\"color: #00d7ff; text-decoration-color: #00d7ff\">None</span>, <span style=\"color: #00af00; text-decoration-color: #00af00\">31</span>, <span style=\"color: #00af00; text-decoration-color: #00af00\">31</span>, <span style=\"color: #00af00; text-decoration-color: #00af00\">32</span>)          │               <span style=\"color: #00af00; text-decoration-color: #00af00\">0</span> │\n",
       "├──────────────────────────────────────┼─────────────────────────────┼─────────────────┤\n",
       "│ conv2d_1 (<span style=\"color: #0087ff; text-decoration-color: #0087ff\">Conv2D</span>)                    │ (<span style=\"color: #00d7ff; text-decoration-color: #00d7ff\">None</span>, <span style=\"color: #00af00; text-decoration-color: #00af00\">29</span>, <span style=\"color: #00af00; text-decoration-color: #00af00\">29</span>, <span style=\"color: #00af00; text-decoration-color: #00af00\">64</span>)          │          <span style=\"color: #00af00; text-decoration-color: #00af00\">18,496</span> │\n",
       "├──────────────────────────────────────┼─────────────────────────────┼─────────────────┤\n",
       "│ max_pooling2d_1 (<span style=\"color: #0087ff; text-decoration-color: #0087ff\">MaxPooling2D</span>)       │ (<span style=\"color: #00d7ff; text-decoration-color: #00d7ff\">None</span>, <span style=\"color: #00af00; text-decoration-color: #00af00\">14</span>, <span style=\"color: #00af00; text-decoration-color: #00af00\">14</span>, <span style=\"color: #00af00; text-decoration-color: #00af00\">64</span>)          │               <span style=\"color: #00af00; text-decoration-color: #00af00\">0</span> │\n",
       "├──────────────────────────────────────┼─────────────────────────────┼─────────────────┤\n",
       "│ conv2d_2 (<span style=\"color: #0087ff; text-decoration-color: #0087ff\">Conv2D</span>)                    │ (<span style=\"color: #00d7ff; text-decoration-color: #00d7ff\">None</span>, <span style=\"color: #00af00; text-decoration-color: #00af00\">12</span>, <span style=\"color: #00af00; text-decoration-color: #00af00\">12</span>, <span style=\"color: #00af00; text-decoration-color: #00af00\">128</span>)         │          <span style=\"color: #00af00; text-decoration-color: #00af00\">73,856</span> │\n",
       "├──────────────────────────────────────┼─────────────────────────────┼─────────────────┤\n",
       "│ max_pooling2d_2 (<span style=\"color: #0087ff; text-decoration-color: #0087ff\">MaxPooling2D</span>)       │ (<span style=\"color: #00d7ff; text-decoration-color: #00d7ff\">None</span>, <span style=\"color: #00af00; text-decoration-color: #00af00\">6</span>, <span style=\"color: #00af00; text-decoration-color: #00af00\">6</span>, <span style=\"color: #00af00; text-decoration-color: #00af00\">128</span>)           │               <span style=\"color: #00af00; text-decoration-color: #00af00\">0</span> │\n",
       "├──────────────────────────────────────┼─────────────────────────────┼─────────────────┤\n",
       "│ flatten (<span style=\"color: #0087ff; text-decoration-color: #0087ff\">Flatten</span>)                    │ (<span style=\"color: #00d7ff; text-decoration-color: #00d7ff\">None</span>, <span style=\"color: #00af00; text-decoration-color: #00af00\">4608</span>)                │               <span style=\"color: #00af00; text-decoration-color: #00af00\">0</span> │\n",
       "├──────────────────────────────────────┼─────────────────────────────┼─────────────────┤\n",
       "│ dense (<span style=\"color: #0087ff; text-decoration-color: #0087ff\">Dense</span>)                        │ (<span style=\"color: #00d7ff; text-decoration-color: #00d7ff\">None</span>, <span style=\"color: #00af00; text-decoration-color: #00af00\">128</span>)                 │         <span style=\"color: #00af00; text-decoration-color: #00af00\">589,952</span> │\n",
       "├──────────────────────────────────────┼─────────────────────────────┼─────────────────┤\n",
       "│ dense_1 (<span style=\"color: #0087ff; text-decoration-color: #0087ff\">Dense</span>)                      │ (<span style=\"color: #00d7ff; text-decoration-color: #00d7ff\">None</span>, <span style=\"color: #00af00; text-decoration-color: #00af00\">6</span>)                   │             <span style=\"color: #00af00; text-decoration-color: #00af00\">774</span> │\n",
       "└──────────────────────────────────────┴─────────────────────────────┴─────────────────┘\n",
       "</pre>\n"
      ],
      "text/plain": [
       "┏━━━━━━━━━━━━━━━━━━━━━━━━━━━━━━━━━━━━━━┳━━━━━━━━━━━━━━━━━━━━━━━━━━━━━┳━━━━━━━━━━━━━━━━━┓\n",
       "┃\u001b[1m \u001b[0m\u001b[1mLayer (type)                        \u001b[0m\u001b[1m \u001b[0m┃\u001b[1m \u001b[0m\u001b[1mOutput Shape               \u001b[0m\u001b[1m \u001b[0m┃\u001b[1m \u001b[0m\u001b[1m        Param #\u001b[0m\u001b[1m \u001b[0m┃\n",
       "┡━━━━━━━━━━━━━━━━━━━━━━━━━━━━━━━━━━━━━━╇━━━━━━━━━━━━━━━━━━━━━━━━━━━━━╇━━━━━━━━━━━━━━━━━┩\n",
       "│ conv2d (\u001b[38;5;33mConv2D\u001b[0m)                      │ (\u001b[38;5;45mNone\u001b[0m, \u001b[38;5;34m62\u001b[0m, \u001b[38;5;34m62\u001b[0m, \u001b[38;5;34m32\u001b[0m)          │             \u001b[38;5;34m896\u001b[0m │\n",
       "├──────────────────────────────────────┼─────────────────────────────┼─────────────────┤\n",
       "│ max_pooling2d (\u001b[38;5;33mMaxPooling2D\u001b[0m)         │ (\u001b[38;5;45mNone\u001b[0m, \u001b[38;5;34m31\u001b[0m, \u001b[38;5;34m31\u001b[0m, \u001b[38;5;34m32\u001b[0m)          │               \u001b[38;5;34m0\u001b[0m │\n",
       "├──────────────────────────────────────┼─────────────────────────────┼─────────────────┤\n",
       "│ conv2d_1 (\u001b[38;5;33mConv2D\u001b[0m)                    │ (\u001b[38;5;45mNone\u001b[0m, \u001b[38;5;34m29\u001b[0m, \u001b[38;5;34m29\u001b[0m, \u001b[38;5;34m64\u001b[0m)          │          \u001b[38;5;34m18,496\u001b[0m │\n",
       "├──────────────────────────────────────┼─────────────────────────────┼─────────────────┤\n",
       "│ max_pooling2d_1 (\u001b[38;5;33mMaxPooling2D\u001b[0m)       │ (\u001b[38;5;45mNone\u001b[0m, \u001b[38;5;34m14\u001b[0m, \u001b[38;5;34m14\u001b[0m, \u001b[38;5;34m64\u001b[0m)          │               \u001b[38;5;34m0\u001b[0m │\n",
       "├──────────────────────────────────────┼─────────────────────────────┼─────────────────┤\n",
       "│ conv2d_2 (\u001b[38;5;33mConv2D\u001b[0m)                    │ (\u001b[38;5;45mNone\u001b[0m, \u001b[38;5;34m12\u001b[0m, \u001b[38;5;34m12\u001b[0m, \u001b[38;5;34m128\u001b[0m)         │          \u001b[38;5;34m73,856\u001b[0m │\n",
       "├──────────────────────────────────────┼─────────────────────────────┼─────────────────┤\n",
       "│ max_pooling2d_2 (\u001b[38;5;33mMaxPooling2D\u001b[0m)       │ (\u001b[38;5;45mNone\u001b[0m, \u001b[38;5;34m6\u001b[0m, \u001b[38;5;34m6\u001b[0m, \u001b[38;5;34m128\u001b[0m)           │               \u001b[38;5;34m0\u001b[0m │\n",
       "├──────────────────────────────────────┼─────────────────────────────┼─────────────────┤\n",
       "│ flatten (\u001b[38;5;33mFlatten\u001b[0m)                    │ (\u001b[38;5;45mNone\u001b[0m, \u001b[38;5;34m4608\u001b[0m)                │               \u001b[38;5;34m0\u001b[0m │\n",
       "├──────────────────────────────────────┼─────────────────────────────┼─────────────────┤\n",
       "│ dense (\u001b[38;5;33mDense\u001b[0m)                        │ (\u001b[38;5;45mNone\u001b[0m, \u001b[38;5;34m128\u001b[0m)                 │         \u001b[38;5;34m589,952\u001b[0m │\n",
       "├──────────────────────────────────────┼─────────────────────────────┼─────────────────┤\n",
       "│ dense_1 (\u001b[38;5;33mDense\u001b[0m)                      │ (\u001b[38;5;45mNone\u001b[0m, \u001b[38;5;34m6\u001b[0m)                   │             \u001b[38;5;34m774\u001b[0m │\n",
       "└──────────────────────────────────────┴─────────────────────────────┴─────────────────┘\n"
      ]
     },
     "metadata": {},
     "output_type": "display_data"
    },
    {
     "data": {
      "text/html": [
       "<pre style=\"white-space:pre;overflow-x:auto;line-height:normal;font-family:Menlo,'DejaVu Sans Mono',consolas,'Courier New',monospace\"><span style=\"font-weight: bold\"> Total params: </span><span style=\"color: #00af00; text-decoration-color: #00af00\">2,051,924</span> (7.83 MB)\n",
       "</pre>\n"
      ],
      "text/plain": [
       "\u001b[1m Total params: \u001b[0m\u001b[38;5;34m2,051,924\u001b[0m (7.83 MB)\n"
      ]
     },
     "metadata": {},
     "output_type": "display_data"
    },
    {
     "data": {
      "text/html": [
       "<pre style=\"white-space:pre;overflow-x:auto;line-height:normal;font-family:Menlo,'DejaVu Sans Mono',consolas,'Courier New',monospace\"><span style=\"font-weight: bold\"> Trainable params: </span><span style=\"color: #00af00; text-decoration-color: #00af00\">683,974</span> (2.61 MB)\n",
       "</pre>\n"
      ],
      "text/plain": [
       "\u001b[1m Trainable params: \u001b[0m\u001b[38;5;34m683,974\u001b[0m (2.61 MB)\n"
      ]
     },
     "metadata": {},
     "output_type": "display_data"
    },
    {
     "data": {
      "text/html": [
       "<pre style=\"white-space:pre;overflow-x:auto;line-height:normal;font-family:Menlo,'DejaVu Sans Mono',consolas,'Courier New',monospace\"><span style=\"font-weight: bold\"> Non-trainable params: </span><span style=\"color: #00af00; text-decoration-color: #00af00\">0</span> (0.00 B)\n",
       "</pre>\n"
      ],
      "text/plain": [
       "\u001b[1m Non-trainable params: \u001b[0m\u001b[38;5;34m0\u001b[0m (0.00 B)\n"
      ]
     },
     "metadata": {},
     "output_type": "display_data"
    },
    {
     "data": {
      "text/html": [
       "<pre style=\"white-space:pre;overflow-x:auto;line-height:normal;font-family:Menlo,'DejaVu Sans Mono',consolas,'Courier New',monospace\"><span style=\"font-weight: bold\"> Optimizer params: </span><span style=\"color: #00af00; text-decoration-color: #00af00\">1,367,950</span> (5.22 MB)\n",
       "</pre>\n"
      ],
      "text/plain": [
       "\u001b[1m Optimizer params: \u001b[0m\u001b[38;5;34m1,367,950\u001b[0m (5.22 MB)\n"
      ]
     },
     "metadata": {},
     "output_type": "display_data"
    }
   ],
   "source": [
    "cnn.summary()"
   ]
  },
  {
   "cell_type": "code",
   "execution_count": null,
   "id": "863ed670-16e0-4120-b1d1-2202bbd9f264",
   "metadata": {},
   "outputs": [],
   "source": []
  }
 ],
 "metadata": {
  "kernelspec": {
   "display_name": "Python 3 (ipykernel)",
   "language": "python",
   "name": "python3"
  },
  "language_info": {
   "codemirror_mode": {
    "name": "ipython",
    "version": 3
   },
   "file_extension": ".py",
   "mimetype": "text/x-python",
   "name": "python",
   "nbconvert_exporter": "python",
   "pygments_lexer": "ipython3",
   "version": "3.12.2"
  }
 },
 "nbformat": 4,
 "nbformat_minor": 5
}
