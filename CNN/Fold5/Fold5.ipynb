{
 "cells": [
  {
   "cell_type": "code",
   "execution_count": 1,
   "id": "35dd317b-0466-476f-8154-28243505f169",
   "metadata": {},
   "outputs": [],
   "source": [
    "import tensorflow as tf\n",
    "from tensorflow.keras.preprocessing.image import ImageDataGenerator\n",
    "import matplotlib.pyplot as plt"
   ]
  },
  {
   "cell_type": "code",
   "execution_count": 2,
   "id": "89ee78ef-6582-43e3-bfec-b81c712f964d",
   "metadata": {},
   "outputs": [
    {
     "name": "stdout",
     "output_type": "stream",
     "text": [
      "Found 7532 images belonging to 6 classes.\n"
     ]
    }
   ],
   "source": [
    "# Data Augmentation for Training\n",
    "train_datagen = ImageDataGenerator(rescale=1./255,\n",
    "                                   shear_range=0.2,\n",
    "                                   zoom_range=0.2,\n",
    "                                   horizontal_flip=True)\n",
    "training_set = train_datagen.flow_from_directory(\n",
    "    \"Monkeypox/archive (60)/Augmented Images/Augmented Images/FOLDS_AUG/fold5_AUG/Train/\",\n",
    "    target_size=(64, 64),\n",
    "    batch_size=32,\n",
    "    class_mode='categorical',  # Use 'categorical' for one-hot encoded labels\n",
    ")"
   ]
  },
  {
   "cell_type": "code",
   "execution_count": 3,
   "id": "b28bdbc9-de9e-452d-a235-5cb3b2bad7e0",
   "metadata": {},
   "outputs": [
    {
     "name": "stdout",
     "output_type": "stream",
     "text": [
      "Found 7532 images belonging to 6 classes.\n"
     ]
    }
   ],
   "source": [
    "test_datagen = ImageDataGenerator(rescale=1./255)\n",
    "validation_set = test_datagen.flow_from_directory(\n",
    "    \"Monkeypox/archive (60)/Augmented Images/Augmented Images/FOLDS_AUG/fold5_AUG/Train/\",\n",
    "    target_size=(64, 64),\n",
    "    batch_size=32,\n",
    "    class_mode='categorical',  # Use 'categorical' for one-hot encoded labels\n",
    ")"
   ]
  },
  {
   "cell_type": "code",
   "execution_count": 4,
   "id": "8096ba18-e25f-44eb-9c33-3c967fa015bc",
   "metadata": {},
   "outputs": [],
   "source": [
    "# Custom F1 Score Metric\n",
    "class F1Score(tf.keras.metrics.Metric):\n",
    "    def __init__(self, name='f1_score', **kwargs):\n",
    "        super(F1Score, self).__init__(name=name, **kwargs)\n",
    "        self.precision = tf.keras.metrics.Precision()\n",
    "        self.recall = tf.keras.metrics.Recall()\n",
    "\n",
    "    def update_state(self, y_true, y_pred, sample_weight=None):\n",
    "        # Update the precision and recall for each batch\n",
    "        self.precision.update_state(y_true, y_pred, sample_weight)\n",
    "        self.recall.update_state(y_true, y_pred, sample_weight)\n",
    "\n",
    "    def result(self):\n",
    "        # Calculate F1 score as the harmonic mean of precision and recall\n",
    "        precision = self.precision.result()\n",
    "        recall = self.recall.result()\n",
    "        return 2 * (precision * recall) / (precision + recall + tf.keras.backend.epsilon())\n",
    "\n",
    "    def reset_states(self):\n",
    "        self.precision.reset_states()\n",
    "        self.recall.reset_states()"
   ]
  },
  {
   "cell_type": "code",
   "execution_count": 5,
   "id": "fa2c43d1-d5cc-4738-a5cd-88216d9ab880",
   "metadata": {},
   "outputs": [],
   "source": [
    "# Build the CNN Model\n",
    "cnn = tf.keras.models.Sequential()"
   ]
  },
  {
   "cell_type": "code",
   "execution_count": 6,
   "id": "94735e0e-78df-4056-9b88-e2f930ba6c47",
   "metadata": {},
   "outputs": [
    {
     "name": "stderr",
     "output_type": "stream",
     "text": [
      "C:\\Users\\KIIT\\AppData\\Local\\Programs\\Python\\Python312\\Lib\\site-packages\\keras\\src\\layers\\convolutional\\base_conv.py:107: UserWarning: Do not pass an `input_shape`/`input_dim` argument to a layer. When using Sequential models, prefer using an `Input(shape)` object as the first layer in the model instead.\n",
      "  super().__init__(activity_regularizer=activity_regularizer, **kwargs)\n"
     ]
    }
   ],
   "source": [
    "# Convolutional Layers\n",
    "cnn.add(tf.keras.layers.Conv2D(filters=32, kernel_size=(3, 3), activation='relu', input_shape=(64, 64, 3)))\n",
    "cnn.add(tf.keras.layers.MaxPooling2D(pool_size=(2, 2)))\n",
    "\n",
    "cnn.add(tf.keras.layers.Conv2D(filters=64, kernel_size=(3, 3), activation='relu'))\n",
    "cnn.add(tf.keras.layers.MaxPooling2D(pool_size=(2, 2)))\n",
    "\n",
    "cnn.add(tf.keras.layers.Conv2D(filters=128, kernel_size=(3, 3), activation='relu'))\n",
    "cnn.add(tf.keras.layers.MaxPooling2D(pool_size=(2, 2)))"
   ]
  },
  {
   "cell_type": "code",
   "execution_count": 7,
   "id": "5da1e9db-bd0f-4ea9-ba41-70bb3713bdcb",
   "metadata": {},
   "outputs": [],
   "source": [
    "# Flatten and Fully Connected Layers\n",
    "cnn.add(tf.keras.layers.Flatten())\n",
    "cnn.add(tf.keras.layers.Dense(units=128, activation='relu'))\n",
    "cnn.add(tf.keras.layers.Dense(6, activation='softmax'))  # 6 classes"
   ]
  },
  {
   "cell_type": "code",
   "execution_count": 8,
   "id": "7a13db26-0dca-453d-bd2e-d94b75de0dc6",
   "metadata": {},
   "outputs": [],
   "source": [
    "# Compile the model with Precision, Recall, and F1 Score\n",
    "cnn.compile(\n",
    "    optimizer='adam',\n",
    "    loss='categorical_crossentropy',  # Use categorical_crossentropy for one-hot encoded labels\n",
    "    metrics=[\n",
    "        'accuracy',\n",
    "        tf.keras.metrics.Precision(name='precision'),\n",
    "        tf.keras.metrics.Recall(name='recall'),\n",
    "        F1Score(name='f1_score')  # Add custom F1 score metric\n",
    "    ]\n",
    ")"
   ]
  },
  {
   "cell_type": "code",
   "execution_count": 9,
   "id": "f066aa05-25a0-4e8e-a6df-98513a87985c",
   "metadata": {},
   "outputs": [
    {
     "name": "stderr",
     "output_type": "stream",
     "text": [
      "C:\\Users\\KIIT\\AppData\\Local\\Programs\\Python\\Python312\\Lib\\site-packages\\keras\\src\\trainers\\data_adapters\\py_dataset_adapter.py:121: UserWarning: Your `PyDataset` class should call `super().__init__(**kwargs)` in its constructor. `**kwargs` can include `workers`, `use_multiprocessing`, `max_queue_size`. Do not pass these arguments to `fit()`, as they will be ignored.\n",
      "  self._warn_if_super_not_called()\n"
     ]
    },
    {
     "name": "stdout",
     "output_type": "stream",
     "text": [
      "Epoch 1/100\n",
      "\u001b[1m236/236\u001b[0m \u001b[32m━━━━━━━━━━━━━━━━━━━━\u001b[0m\u001b[37m\u001b[0m \u001b[1m0s\u001b[0m 162ms/step - accuracy: 0.3991 - f1_score: 0.0578 - loss: 1.5965 - precision: 0.3625 - recall: 0.0319"
     ]
    },
    {
     "name": "stderr",
     "output_type": "stream",
     "text": [
      "C:\\Users\\KIIT\\AppData\\Local\\Programs\\Python\\Python312\\Lib\\site-packages\\keras\\src\\trainers\\data_adapters\\py_dataset_adapter.py:121: UserWarning: Your `PyDataset` class should call `super().__init__(**kwargs)` in its constructor. `**kwargs` can include `workers`, `use_multiprocessing`, `max_queue_size`. Do not pass these arguments to `fit()`, as they will be ignored.\n",
      "  self._warn_if_super_not_called()\n"
     ]
    },
    {
     "name": "stdout",
     "output_type": "stream",
     "text": [
      "\u001b[1m236/236\u001b[0m \u001b[32m━━━━━━━━━━━━━━━━━━━━\u001b[0m\u001b[37m\u001b[0m \u001b[1m54s\u001b[0m 215ms/step - accuracy: 0.3992 - f1_score: 0.0582 - loss: 1.5962 - precision: 0.3636 - recall: 0.0322 - val_accuracy: 0.4882 - val_f1_score: 0.4074 - val_loss: 1.3733 - val_precision: 0.6243 - val_recall: 0.3023\n",
      "Epoch 2/100\n",
      "\u001b[1m236/236\u001b[0m \u001b[32m━━━━━━━━━━━━━━━━━━━━\u001b[0m\u001b[37m\u001b[0m \u001b[1m41s\u001b[0m 174ms/step - accuracy: 0.5280 - f1_score: 0.4151 - loss: 1.2963 - precision: 0.6903 - recall: 0.2972 - val_accuracy: 0.5824 - val_f1_score: 0.5745 - val_loss: 1.0810 - val_precision: 0.6798 - val_recall: 0.4975\n",
      "Epoch 3/100\n",
      "\u001b[1m236/236\u001b[0m \u001b[32m━━━━━━━━━━━━━━━━━━━━\u001b[0m\u001b[37m\u001b[0m \u001b[1m41s\u001b[0m 173ms/step - accuracy: 0.6025 - f1_score: 0.5575 - loss: 1.0629 - precision: 0.7263 - recall: 0.4530 - val_accuracy: 0.6709 - val_f1_score: 0.6032 - val_loss: 0.9019 - val_precision: 0.8056 - val_recall: 0.4821\n",
      "Epoch 4/100\n",
      "\u001b[1m236/236\u001b[0m \u001b[32m━━━━━━━━━━━━━━━━━━━━\u001b[0m\u001b[37m\u001b[0m \u001b[1m41s\u001b[0m 176ms/step - accuracy: 0.6655 - f1_score: 0.6260 - loss: 0.9115 - precision: 0.7735 - recall: 0.5260 - val_accuracy: 0.7245 - val_f1_score: 0.6968 - val_loss: 0.7818 - val_precision: 0.8273 - val_recall: 0.6018\n",
      "Epoch 5/100\n",
      "\u001b[1m236/236\u001b[0m \u001b[32m━━━━━━━━━━━━━━━━━━━━\u001b[0m\u001b[37m\u001b[0m \u001b[1m41s\u001b[0m 175ms/step - accuracy: 0.7038 - f1_score: 0.6789 - loss: 0.8013 - precision: 0.8003 - recall: 0.5896 - val_accuracy: 0.7643 - val_f1_score: 0.7569 - val_loss: 0.6385 - val_precision: 0.8167 - val_recall: 0.7053\n",
      "Epoch 6/100\n",
      "\u001b[1m236/236\u001b[0m \u001b[32m━━━━━━━━━━━━━━━━━━━━\u001b[0m\u001b[37m\u001b[0m \u001b[1m43s\u001b[0m 182ms/step - accuracy: 0.7485 - f1_score: 0.7367 - loss: 0.6745 - precision: 0.8356 - recall: 0.6588 - val_accuracy: 0.8217 - val_f1_score: 0.8135 - val_loss: 0.5078 - val_precision: 0.8818 - val_recall: 0.7550\n",
      "Epoch 7/100\n",
      "\u001b[1m236/236\u001b[0m \u001b[32m━━━━━━━━━━━━━━━━━━━━\u001b[0m\u001b[37m\u001b[0m \u001b[1m42s\u001b[0m 179ms/step - accuracy: 0.7947 - f1_score: 0.7875 - loss: 0.5901 - precision: 0.8552 - recall: 0.7299 - val_accuracy: 0.8356 - val_f1_score: 0.8352 - val_loss: 0.4540 - val_precision: 0.8747 - val_recall: 0.7991\n",
      "Epoch 8/100\n",
      "\u001b[1m236/236\u001b[0m \u001b[32m━━━━━━━━━━━━━━━━━━━━\u001b[0m\u001b[37m\u001b[0m \u001b[1m42s\u001b[0m 178ms/step - accuracy: 0.8226 - f1_score: 0.8158 - loss: 0.4986 - precision: 0.8720 - recall: 0.7664 - val_accuracy: 0.8542 - val_f1_score: 0.8497 - val_loss: 0.4021 - val_precision: 0.8948 - val_recall: 0.8088\n",
      "Epoch 9/100\n",
      "\u001b[1m236/236\u001b[0m \u001b[32m━━━━━━━━━━━━━━━━━━━━\u001b[0m\u001b[37m\u001b[0m \u001b[1m42s\u001b[0m 179ms/step - accuracy: 0.8594 - f1_score: 0.8585 - loss: 0.4087 - precision: 0.8978 - recall: 0.8226 - val_accuracy: 0.8899 - val_f1_score: 0.8918 - val_loss: 0.3153 - val_precision: 0.9197 - val_recall: 0.8655\n",
      "Epoch 10/100\n",
      "\u001b[1m236/236\u001b[0m \u001b[32m━━━━━━━━━━━━━━━━━━━━\u001b[0m\u001b[37m\u001b[0m \u001b[1m41s\u001b[0m 175ms/step - accuracy: 0.8746 - f1_score: 0.8728 - loss: 0.3712 - precision: 0.9083 - recall: 0.8399 - val_accuracy: 0.9097 - val_f1_score: 0.9111 - val_loss: 0.2733 - val_precision: 0.9404 - val_recall: 0.8836\n",
      "Epoch 11/100\n",
      "\u001b[1m236/236\u001b[0m \u001b[32m━━━━━━━━━━━━━━━━━━━━\u001b[0m\u001b[37m\u001b[0m \u001b[1m41s\u001b[0m 174ms/step - accuracy: 0.8624 - f1_score: 0.8607 - loss: 0.3762 - precision: 0.8933 - recall: 0.8305 - val_accuracy: 0.9104 - val_f1_score: 0.9099 - val_loss: 0.2440 - val_precision: 0.9294 - val_recall: 0.8911\n",
      "Epoch 12/100\n",
      "\u001b[1m236/236\u001b[0m \u001b[32m━━━━━━━━━━━━━━━━━━━━\u001b[0m\u001b[37m\u001b[0m \u001b[1m42s\u001b[0m 179ms/step - accuracy: 0.8904 - f1_score: 0.8880 - loss: 0.3219 - precision: 0.9139 - recall: 0.8635 - val_accuracy: 0.9213 - val_f1_score: 0.9212 - val_loss: 0.2308 - val_precision: 0.9410 - val_recall: 0.9022\n",
      "Epoch 13/100\n",
      "\u001b[1m236/236\u001b[0m \u001b[32m━━━━━━━━━━━━━━━━━━━━\u001b[0m\u001b[37m\u001b[0m \u001b[1m42s\u001b[0m 178ms/step - accuracy: 0.9030 - f1_score: 0.9048 - loss: 0.2694 - precision: 0.9270 - recall: 0.8837 - val_accuracy: 0.9464 - val_f1_score: 0.9452 - val_loss: 0.1619 - val_precision: 0.9563 - val_recall: 0.9344\n",
      "Epoch 14/100\n",
      "\u001b[1m236/236\u001b[0m \u001b[32m━━━━━━━━━━━━━━━━━━━━\u001b[0m\u001b[37m\u001b[0m \u001b[1m43s\u001b[0m 182ms/step - accuracy: 0.9195 - f1_score: 0.9189 - loss: 0.2402 - precision: 0.9368 - recall: 0.9017 - val_accuracy: 0.9503 - val_f1_score: 0.9494 - val_loss: 0.1553 - val_precision: 0.9640 - val_recall: 0.9352\n",
      "Epoch 15/100\n",
      "\u001b[1m236/236\u001b[0m \u001b[32m━━━━━━━━━━━━━━━━━━━━\u001b[0m\u001b[37m\u001b[0m \u001b[1m42s\u001b[0m 178ms/step - accuracy: 0.9251 - f1_score: 0.9251 - loss: 0.2145 - precision: 0.9397 - recall: 0.9110 - val_accuracy: 0.9454 - val_f1_score: 0.9464 - val_loss: 0.1619 - val_precision: 0.9564 - val_recall: 0.9367\n",
      "Epoch 16/100\n",
      "\u001b[1m236/236\u001b[0m \u001b[32m━━━━━━━━━━━━━━━━━━━━\u001b[0m\u001b[37m\u001b[0m \u001b[1m42s\u001b[0m 179ms/step - accuracy: 0.9256 - f1_score: 0.9257 - loss: 0.2122 - precision: 0.9382 - recall: 0.9134 - val_accuracy: 0.9493 - val_f1_score: 0.9506 - val_loss: 0.1455 - val_precision: 0.9602 - val_recall: 0.9412\n",
      "Epoch 17/100\n",
      "\u001b[1m236/236\u001b[0m \u001b[32m━━━━━━━━━━━━━━━━━━━━\u001b[0m\u001b[37m\u001b[0m \u001b[1m43s\u001b[0m 181ms/step - accuracy: 0.9329 - f1_score: 0.9317 - loss: 0.1889 - precision: 0.9433 - recall: 0.9205 - val_accuracy: 0.9553 - val_f1_score: 0.9556 - val_loss: 0.1339 - val_precision: 0.9618 - val_recall: 0.9495\n",
      "Epoch 18/100\n",
      "\u001b[1m236/236\u001b[0m \u001b[32m━━━━━━━━━━━━━━━━━━━━\u001b[0m\u001b[37m\u001b[0m \u001b[1m45s\u001b[0m 191ms/step - accuracy: 0.9431 - f1_score: 0.9437 - loss: 0.1717 - precision: 0.9548 - recall: 0.9329 - val_accuracy: 0.9619 - val_f1_score: 0.9627 - val_loss: 0.1147 - val_precision: 0.9707 - val_recall: 0.9547\n",
      "Epoch 19/100\n",
      "\u001b[1m236/236\u001b[0m \u001b[32m━━━━━━━━━━━━━━━━━━━━\u001b[0m\u001b[37m\u001b[0m \u001b[1m64s\u001b[0m 273ms/step - accuracy: 0.9417 - f1_score: 0.9398 - loss: 0.1860 - precision: 0.9494 - recall: 0.9304 - val_accuracy: 0.9489 - val_f1_score: 0.9487 - val_loss: 0.1566 - val_precision: 0.9549 - val_recall: 0.9425\n",
      "Epoch 20/100\n",
      "\u001b[1m236/236\u001b[0m \u001b[32m━━━━━━━━━━━━━━━━━━━━\u001b[0m\u001b[37m\u001b[0m \u001b[1m65s\u001b[0m 277ms/step - accuracy: 0.9526 - f1_score: 0.9528 - loss: 0.1372 - precision: 0.9604 - recall: 0.9453 - val_accuracy: 0.9635 - val_f1_score: 0.9633 - val_loss: 0.1103 - val_precision: 0.9700 - val_recall: 0.9567\n",
      "Epoch 21/100\n",
      "\u001b[1m236/236\u001b[0m \u001b[32m━━━━━━━━━━━━━━━━━━━━\u001b[0m\u001b[37m\u001b[0m \u001b[1m62s\u001b[0m 265ms/step - accuracy: 0.9525 - f1_score: 0.9537 - loss: 0.1368 - precision: 0.9608 - recall: 0.9467 - val_accuracy: 0.9703 - val_f1_score: 0.9702 - val_loss: 0.0875 - val_precision: 0.9756 - val_recall: 0.9649\n",
      "Epoch 22/100\n",
      "\u001b[1m236/236\u001b[0m \u001b[32m━━━━━━━━━━━━━━━━━━━━\u001b[0m\u001b[37m\u001b[0m \u001b[1m65s\u001b[0m 274ms/step - accuracy: 0.9471 - f1_score: 0.9468 - loss: 0.1418 - precision: 0.9547 - recall: 0.9392 - val_accuracy: 0.9595 - val_f1_score: 0.9596 - val_loss: 0.1258 - val_precision: 0.9667 - val_recall: 0.9526\n",
      "Epoch 23/100\n",
      "\u001b[1m236/236\u001b[0m \u001b[32m━━━━━━━━━━━━━━━━━━━━\u001b[0m\u001b[37m\u001b[0m \u001b[1m63s\u001b[0m 268ms/step - accuracy: 0.9610 - f1_score: 0.9605 - loss: 0.1143 - precision: 0.9654 - recall: 0.9556 - val_accuracy: 0.9831 - val_f1_score: 0.9834 - val_loss: 0.0510 - val_precision: 0.9856 - val_recall: 0.9811\n",
      "Epoch 24/100\n",
      "\u001b[1m236/236\u001b[0m \u001b[32m━━━━━━━━━━━━━━━━━━━━\u001b[0m\u001b[37m\u001b[0m \u001b[1m68s\u001b[0m 287ms/step - accuracy: 0.9676 - f1_score: 0.9681 - loss: 0.0992 - precision: 0.9720 - recall: 0.9642 - val_accuracy: 0.9801 - val_f1_score: 0.9796 - val_loss: 0.0634 - val_precision: 0.9835 - val_recall: 0.9757\n",
      "Epoch 25/100\n",
      "\u001b[1m236/236\u001b[0m \u001b[32m━━━━━━━━━━━━━━━━━━━━\u001b[0m\u001b[37m\u001b[0m \u001b[1m63s\u001b[0m 267ms/step - accuracy: 0.9673 - f1_score: 0.9671 - loss: 0.1011 - precision: 0.9709 - recall: 0.9634 - val_accuracy: 0.9825 - val_f1_score: 0.9820 - val_loss: 0.0560 - val_precision: 0.9845 - val_recall: 0.9796\n",
      "Epoch 26/100\n",
      "\u001b[1m236/236\u001b[0m \u001b[32m━━━━━━━━━━━━━━━━━━━━\u001b[0m\u001b[37m\u001b[0m \u001b[1m66s\u001b[0m 281ms/step - accuracy: 0.9705 - f1_score: 0.9705 - loss: 0.0889 - precision: 0.9739 - recall: 0.9672 - val_accuracy: 0.9584 - val_f1_score: 0.9585 - val_loss: 0.1125 - val_precision: 0.9603 - val_recall: 0.9567\n",
      "Epoch 27/100\n",
      "\u001b[1m236/236\u001b[0m \u001b[32m━━━━━━━━━━━━━━━━━━━━\u001b[0m\u001b[37m\u001b[0m \u001b[1m66s\u001b[0m 279ms/step - accuracy: 0.9630 - f1_score: 0.9627 - loss: 0.1158 - precision: 0.9673 - recall: 0.9582 - val_accuracy: 0.9635 - val_f1_score: 0.9632 - val_loss: 0.1122 - val_precision: 0.9665 - val_recall: 0.9600\n",
      "Epoch 28/100\n",
      "\u001b[1m236/236\u001b[0m \u001b[32m━━━━━━━━━━━━━━━━━━━━\u001b[0m\u001b[37m\u001b[0m \u001b[1m64s\u001b[0m 269ms/step - accuracy: 0.9637 - f1_score: 0.9642 - loss: 0.1110 - precision: 0.9678 - recall: 0.9607 - val_accuracy: 0.9857 - val_f1_score: 0.9856 - val_loss: 0.0490 - val_precision: 0.9877 - val_recall: 0.9834\n",
      "Epoch 29/100\n",
      "\u001b[1m236/236\u001b[0m \u001b[32m━━━━━━━━━━━━━━━━━━━━\u001b[0m\u001b[37m\u001b[0m \u001b[1m82s\u001b[0m 269ms/step - accuracy: 0.9658 - f1_score: 0.9664 - loss: 0.0945 - precision: 0.9703 - recall: 0.9626 - val_accuracy: 0.9829 - val_f1_score: 0.9822 - val_loss: 0.0528 - val_precision: 0.9843 - val_recall: 0.9802\n",
      "Epoch 30/100\n",
      "\u001b[1m236/236\u001b[0m \u001b[32m━━━━━━━━━━━━━━━━━━━━\u001b[0m\u001b[37m\u001b[0m \u001b[1m63s\u001b[0m 268ms/step - accuracy: 0.9691 - f1_score: 0.9706 - loss: 0.0832 - precision: 0.9738 - recall: 0.9674 - val_accuracy: 0.9590 - val_f1_score: 0.9586 - val_loss: 0.1191 - val_precision: 0.9620 - val_recall: 0.9551\n",
      "Epoch 31/100\n",
      "\u001b[1m236/236\u001b[0m \u001b[32m━━━━━━━━━━━━━━━━━━━━\u001b[0m\u001b[37m\u001b[0m \u001b[1m64s\u001b[0m 269ms/step - accuracy: 0.9718 - f1_score: 0.9718 - loss: 0.0891 - precision: 0.9740 - recall: 0.9696 - val_accuracy: 0.9853 - val_f1_score: 0.9854 - val_loss: 0.0450 - val_precision: 0.9875 - val_recall: 0.9834\n",
      "Epoch 32/100\n",
      "\u001b[1m236/236\u001b[0m \u001b[32m━━━━━━━━━━━━━━━━━━━━\u001b[0m\u001b[37m\u001b[0m \u001b[1m64s\u001b[0m 269ms/step - accuracy: 0.9714 - f1_score: 0.9714 - loss: 0.0886 - precision: 0.9738 - recall: 0.9690 - val_accuracy: 0.9898 - val_f1_score: 0.9899 - val_loss: 0.0315 - val_precision: 0.9913 - val_recall: 0.9884\n",
      "Epoch 33/100\n",
      "\u001b[1m236/236\u001b[0m \u001b[32m━━━━━━━━━━━━━━━━━━━━\u001b[0m\u001b[37m\u001b[0m \u001b[1m64s\u001b[0m 273ms/step - accuracy: 0.9707 - f1_score: 0.9716 - loss: 0.0798 - precision: 0.9742 - recall: 0.9691 - val_accuracy: 0.9842 - val_f1_score: 0.9841 - val_loss: 0.0424 - val_precision: 0.9851 - val_recall: 0.9831\n",
      "Epoch 34/100\n",
      "\u001b[1m236/236\u001b[0m \u001b[32m━━━━━━━━━━━━━━━━━━━━\u001b[0m\u001b[37m\u001b[0m \u001b[1m64s\u001b[0m 271ms/step - accuracy: 0.9800 - f1_score: 0.9799 - loss: 0.0663 - precision: 0.9821 - recall: 0.9778 - val_accuracy: 0.9841 - val_f1_score: 0.9839 - val_loss: 0.0524 - val_precision: 0.9846 - val_recall: 0.9833\n",
      "Epoch 35/100\n",
      "\u001b[1m236/236\u001b[0m \u001b[32m━━━━━━━━━━━━━━━━━━━━\u001b[0m\u001b[37m\u001b[0m \u001b[1m64s\u001b[0m 272ms/step - accuracy: 0.9765 - f1_score: 0.9758 - loss: 0.0703 - precision: 0.9779 - recall: 0.9738 - val_accuracy: 0.9748 - val_f1_score: 0.9750 - val_loss: 0.1136 - val_precision: 0.9759 - val_recall: 0.9741\n",
      "Epoch 36/100\n",
      "\u001b[1m236/236\u001b[0m \u001b[32m━━━━━━━━━━━━━━━━━━━━\u001b[0m\u001b[37m\u001b[0m \u001b[1m64s\u001b[0m 273ms/step - accuracy: 0.9740 - f1_score: 0.9733 - loss: 0.0796 - precision: 0.9766 - recall: 0.9700 - val_accuracy: 0.9887 - val_f1_score: 0.9887 - val_loss: 0.0365 - val_precision: 0.9908 - val_recall: 0.9866\n",
      "Epoch 37/100\n",
      "\u001b[1m236/236\u001b[0m \u001b[32m━━━━━━━━━━━━━━━━━━━━\u001b[0m\u001b[37m\u001b[0m \u001b[1m64s\u001b[0m 271ms/step - accuracy: 0.9730 - f1_score: 0.9727 - loss: 0.0771 - precision: 0.9763 - recall: 0.9691 - val_accuracy: 0.9923 - val_f1_score: 0.9928 - val_loss: 0.0260 - val_precision: 0.9937 - val_recall: 0.9919\n",
      "Epoch 38/100\n",
      "\u001b[1m236/236\u001b[0m \u001b[32m━━━━━━━━━━━━━━━━━━━━\u001b[0m\u001b[37m\u001b[0m \u001b[1m66s\u001b[0m 278ms/step - accuracy: 0.9826 - f1_score: 0.9821 - loss: 0.0510 - precision: 0.9846 - recall: 0.9795 - val_accuracy: 0.9786 - val_f1_score: 0.9790 - val_loss: 0.0615 - val_precision: 0.9806 - val_recall: 0.9774\n",
      "Epoch 39/100\n",
      "\u001b[1m236/236\u001b[0m \u001b[32m━━━━━━━━━━━━━━━━━━━━\u001b[0m\u001b[37m\u001b[0m \u001b[1m67s\u001b[0m 285ms/step - accuracy: 0.9615 - f1_score: 0.9623 - loss: 0.1102 - precision: 0.9649 - recall: 0.9598 - val_accuracy: 0.9926 - val_f1_score: 0.9926 - val_loss: 0.0249 - val_precision: 0.9939 - val_recall: 0.9912\n",
      "Epoch 40/100\n",
      "\u001b[1m236/236\u001b[0m \u001b[32m━━━━━━━━━━━━━━━━━━━━\u001b[0m\u001b[37m\u001b[0m \u001b[1m67s\u001b[0m 283ms/step - accuracy: 0.9843 - f1_score: 0.9839 - loss: 0.0414 - precision: 0.9852 - recall: 0.9827 - val_accuracy: 0.9922 - val_f1_score: 0.9921 - val_loss: 0.0232 - val_precision: 0.9932 - val_recall: 0.9910\n",
      "Epoch 41/100\n",
      "\u001b[1m236/236\u001b[0m \u001b[32m━━━━━━━━━━━━━━━━━━━━\u001b[0m\u001b[37m\u001b[0m \u001b[1m66s\u001b[0m 282ms/step - accuracy: 0.9802 - f1_score: 0.9803 - loss: 0.0577 - precision: 0.9815 - recall: 0.9791 - val_accuracy: 0.9732 - val_f1_score: 0.9733 - val_loss: 0.0719 - val_precision: 0.9751 - val_recall: 0.9715\n",
      "Epoch 42/100\n",
      "\u001b[1m236/236\u001b[0m \u001b[32m━━━━━━━━━━━━━━━━━━━━\u001b[0m\u001b[37m\u001b[0m \u001b[1m67s\u001b[0m 284ms/step - accuracy: 0.9729 - f1_score: 0.9741 - loss: 0.0806 - precision: 0.9765 - recall: 0.9716 - val_accuracy: 0.9892 - val_f1_score: 0.9896 - val_loss: 0.0310 - val_precision: 0.9907 - val_recall: 0.9884\n",
      "Epoch 43/100\n",
      "\u001b[1m236/236\u001b[0m \u001b[32m━━━━━━━━━━━━━━━━━━━━\u001b[0m\u001b[37m\u001b[0m \u001b[1m30s\u001b[0m 127ms/step - accuracy: 0.9712 - f1_score: 0.9720 - loss: 0.0957 - precision: 0.9753 - recall: 0.9687 - val_accuracy: 0.9908 - val_f1_score: 0.9908 - val_loss: 0.0277 - val_precision: 0.9919 - val_recall: 0.9896\n",
      "Epoch 44/100\n",
      "\u001b[1m236/236\u001b[0m \u001b[32m━━━━━━━━━━━━━━━━━━━━\u001b[0m\u001b[37m\u001b[0m \u001b[1m51s\u001b[0m 217ms/step - accuracy: 0.9822 - f1_score: 0.9811 - loss: 0.0549 - precision: 0.9833 - recall: 0.9790 - val_accuracy: 0.9911 - val_f1_score: 0.9908 - val_loss: 0.0276 - val_precision: 0.9919 - val_recall: 0.9896\n",
      "Epoch 45/100\n",
      "\u001b[1m236/236\u001b[0m \u001b[32m━━━━━━━━━━━━━━━━━━━━\u001b[0m\u001b[37m\u001b[0m \u001b[1m54s\u001b[0m 228ms/step - accuracy: 0.9806 - f1_score: 0.9806 - loss: 0.0618 - precision: 0.9815 - recall: 0.9797 - val_accuracy: 0.9659 - val_f1_score: 0.9655 - val_loss: 0.0995 - val_precision: 0.9668 - val_recall: 0.9642\n",
      "Epoch 46/100\n",
      "\u001b[1m236/236\u001b[0m \u001b[32m━━━━━━━━━━━━━━━━━━━━\u001b[0m\u001b[37m\u001b[0m \u001b[1m54s\u001b[0m 229ms/step - accuracy: 0.9661 - f1_score: 0.9665 - loss: 0.1065 - precision: 0.9681 - recall: 0.9648 - val_accuracy: 0.9923 - val_f1_score: 0.9926 - val_loss: 0.0255 - val_precision: 0.9937 - val_recall: 0.9914\n",
      "Epoch 47/100\n",
      "\u001b[1m236/236\u001b[0m \u001b[32m━━━━━━━━━━━━━━━━━━━━\u001b[0m\u001b[37m\u001b[0m \u001b[1m54s\u001b[0m 227ms/step - accuracy: 0.9837 - f1_score: 0.9840 - loss: 0.0468 - precision: 0.9852 - recall: 0.9829 - val_accuracy: 0.9940 - val_f1_score: 0.9937 - val_loss: 0.0231 - val_precision: 0.9943 - val_recall: 0.9931\n",
      "Epoch 48/100\n",
      "\u001b[1m236/236\u001b[0m \u001b[32m━━━━━━━━━━━━━━━━━━━━\u001b[0m\u001b[37m\u001b[0m \u001b[1m55s\u001b[0m 233ms/step - accuracy: 0.9821 - f1_score: 0.9821 - loss: 0.0569 - precision: 0.9833 - recall: 0.9809 - val_accuracy: 0.9958 - val_f1_score: 0.9958 - val_loss: 0.0151 - val_precision: 0.9965 - val_recall: 0.9951\n",
      "Epoch 49/100\n",
      "\u001b[1m236/236\u001b[0m \u001b[32m━━━━━━━━━━━━━━━━━━━━\u001b[0m\u001b[37m\u001b[0m \u001b[1m54s\u001b[0m 230ms/step - accuracy: 0.9893 - f1_score: 0.9890 - loss: 0.0363 - precision: 0.9899 - recall: 0.9881 - val_accuracy: 0.9874 - val_f1_score: 0.9874 - val_loss: 0.0363 - val_precision: 0.9882 - val_recall: 0.9866\n",
      "Epoch 50/100\n",
      "\u001b[1m236/236\u001b[0m \u001b[32m━━━━━━━━━━━━━━━━━━━━\u001b[0m\u001b[37m\u001b[0m \u001b[1m53s\u001b[0m 226ms/step - accuracy: 0.9803 - f1_score: 0.9806 - loss: 0.0612 - precision: 0.9817 - recall: 0.9796 - val_accuracy: 0.9948 - val_f1_score: 0.9948 - val_loss: 0.0162 - val_precision: 0.9957 - val_recall: 0.9939\n",
      "Epoch 51/100\n",
      "\u001b[1m236/236\u001b[0m \u001b[32m━━━━━━━━━━━━━━━━━━━━\u001b[0m\u001b[37m\u001b[0m \u001b[1m55s\u001b[0m 231ms/step - accuracy: 0.9809 - f1_score: 0.9812 - loss: 0.0530 - precision: 0.9827 - recall: 0.9797 - val_accuracy: 0.9935 - val_f1_score: 0.9934 - val_loss: 0.0208 - val_precision: 0.9941 - val_recall: 0.9927\n",
      "Epoch 52/100\n",
      "\u001b[1m236/236\u001b[0m \u001b[32m━━━━━━━━━━━━━━━━━━━━\u001b[0m\u001b[37m\u001b[0m \u001b[1m53s\u001b[0m 224ms/step - accuracy: 0.9888 - f1_score: 0.9891 - loss: 0.0342 - precision: 0.9897 - recall: 0.9885 - val_accuracy: 0.9776 - val_f1_score: 0.9776 - val_loss: 0.0620 - val_precision: 0.9786 - val_recall: 0.9766\n",
      "Epoch 53/100\n",
      "\u001b[1m236/236\u001b[0m \u001b[32m━━━━━━━━━━━━━━━━━━━━\u001b[0m\u001b[37m\u001b[0m \u001b[1m53s\u001b[0m 223ms/step - accuracy: 0.9827 - f1_score: 0.9826 - loss: 0.0542 - precision: 0.9842 - recall: 0.9810 - val_accuracy: 0.9936 - val_f1_score: 0.9934 - val_loss: 0.0214 - val_precision: 0.9939 - val_recall: 0.9930\n",
      "Epoch 54/100\n",
      "\u001b[1m236/236\u001b[0m \u001b[32m━━━━━━━━━━━━━━━━━━━━\u001b[0m\u001b[37m\u001b[0m \u001b[1m49s\u001b[0m 208ms/step - accuracy: 0.9823 - f1_score: 0.9823 - loss: 0.0489 - precision: 0.9836 - recall: 0.9810 - val_accuracy: 0.9928 - val_f1_score: 0.9929 - val_loss: 0.0267 - val_precision: 0.9932 - val_recall: 0.9926\n",
      "Epoch 55/100\n",
      "\u001b[1m236/236\u001b[0m \u001b[32m━━━━━━━━━━━━━━━━━━━━\u001b[0m\u001b[37m\u001b[0m \u001b[1m42s\u001b[0m 178ms/step - accuracy: 0.9845 - f1_score: 0.9844 - loss: 0.0488 - precision: 0.9855 - recall: 0.9833 - val_accuracy: 0.9910 - val_f1_score: 0.9910 - val_loss: 0.0275 - val_precision: 0.9915 - val_recall: 0.9904\n",
      "Epoch 56/100\n",
      "\u001b[1m236/236\u001b[0m \u001b[32m━━━━━━━━━━━━━━━━━━━━\u001b[0m\u001b[37m\u001b[0m \u001b[1m42s\u001b[0m 177ms/step - accuracy: 0.9822 - f1_score: 0.9823 - loss: 0.0549 - precision: 0.9831 - recall: 0.9814 - val_accuracy: 0.9956 - val_f1_score: 0.9957 - val_loss: 0.0131 - val_precision: 0.9961 - val_recall: 0.9954\n",
      "Epoch 57/100\n",
      "\u001b[1m236/236\u001b[0m \u001b[32m━━━━━━━━━━━━━━━━━━━━\u001b[0m\u001b[37m\u001b[0m \u001b[1m42s\u001b[0m 176ms/step - accuracy: 0.9832 - f1_score: 0.9833 - loss: 0.0519 - precision: 0.9841 - recall: 0.9824 - val_accuracy: 0.9954 - val_f1_score: 0.9952 - val_loss: 0.0148 - val_precision: 0.9955 - val_recall: 0.9948\n",
      "Epoch 58/100\n",
      "\u001b[1m236/236\u001b[0m \u001b[32m━━━━━━━━━━━━━━━━━━━━\u001b[0m\u001b[37m\u001b[0m \u001b[1m42s\u001b[0m 179ms/step - accuracy: 0.9851 - f1_score: 0.9851 - loss: 0.0477 - precision: 0.9860 - recall: 0.9843 - val_accuracy: 0.9902 - val_f1_score: 0.9900 - val_loss: 0.0337 - val_precision: 0.9904 - val_recall: 0.9896\n",
      "Epoch 59/100\n",
      "\u001b[1m236/236\u001b[0m \u001b[32m━━━━━━━━━━━━━━━━━━━━\u001b[0m\u001b[37m\u001b[0m \u001b[1m42s\u001b[0m 178ms/step - accuracy: 0.9878 - f1_score: 0.9879 - loss: 0.0388 - precision: 0.9887 - recall: 0.9871 - val_accuracy: 0.9952 - val_f1_score: 0.9952 - val_loss: 0.0153 - val_precision: 0.9952 - val_recall: 0.9951\n",
      "Epoch 60/100\n",
      "\u001b[1m236/236\u001b[0m \u001b[32m━━━━━━━━━━━━━━━━━━━━\u001b[0m\u001b[37m\u001b[0m \u001b[1m42s\u001b[0m 177ms/step - accuracy: 0.9896 - f1_score: 0.9896 - loss: 0.0340 - precision: 0.9899 - recall: 0.9892 - val_accuracy: 0.9915 - val_f1_score: 0.9918 - val_loss: 0.0212 - val_precision: 0.9926 - val_recall: 0.9911\n",
      "Epoch 61/100\n",
      "\u001b[1m236/236\u001b[0m \u001b[32m━━━━━━━━━━━━━━━━━━━━\u001b[0m\u001b[37m\u001b[0m \u001b[1m43s\u001b[0m 181ms/step - accuracy: 0.9822 - f1_score: 0.9821 - loss: 0.0512 - precision: 0.9833 - recall: 0.9809 - val_accuracy: 0.9910 - val_f1_score: 0.9911 - val_loss: 0.0296 - val_precision: 0.9918 - val_recall: 0.9904\n",
      "Epoch 62/100\n",
      "\u001b[1m236/236\u001b[0m \u001b[32m━━━━━━━━━━━━━━━━━━━━\u001b[0m\u001b[37m\u001b[0m \u001b[1m42s\u001b[0m 178ms/step - accuracy: 0.9800 - f1_score: 0.9795 - loss: 0.0623 - precision: 0.9815 - recall: 0.9775 - val_accuracy: 0.9934 - val_f1_score: 0.9936 - val_loss: 0.0208 - val_precision: 0.9940 - val_recall: 0.9931\n",
      "Epoch 63/100\n",
      "\u001b[1m236/236\u001b[0m \u001b[32m━━━━━━━━━━━━━━━━━━━━\u001b[0m\u001b[37m\u001b[0m \u001b[1m42s\u001b[0m 178ms/step - accuracy: 0.9911 - f1_score: 0.9910 - loss: 0.0308 - precision: 0.9917 - recall: 0.9903 - val_accuracy: 0.9883 - val_f1_score: 0.9884 - val_loss: 0.0312 - val_precision: 0.9887 - val_recall: 0.9882\n",
      "Epoch 64/100\n",
      "\u001b[1m236/236\u001b[0m \u001b[32m━━━━━━━━━━━━━━━━━━━━\u001b[0m\u001b[37m\u001b[0m \u001b[1m42s\u001b[0m 179ms/step - accuracy: 0.9851 - f1_score: 0.9851 - loss: 0.0443 - precision: 0.9859 - recall: 0.9843 - val_accuracy: 0.9903 - val_f1_score: 0.9905 - val_loss: 0.0308 - val_precision: 0.9915 - val_recall: 0.9895\n",
      "Epoch 65/100\n",
      "\u001b[1m236/236\u001b[0m \u001b[32m━━━━━━━━━━━━━━━━━━━━\u001b[0m\u001b[37m\u001b[0m \u001b[1m42s\u001b[0m 179ms/step - accuracy: 0.9752 - f1_score: 0.9755 - loss: 0.0749 - precision: 0.9775 - recall: 0.9735 - val_accuracy: 0.9930 - val_f1_score: 0.9931 - val_loss: 0.0203 - val_precision: 0.9932 - val_recall: 0.9930\n",
      "Epoch 66/100\n",
      "\u001b[1m236/236\u001b[0m \u001b[32m━━━━━━━━━━━━━━━━━━━━\u001b[0m\u001b[37m\u001b[0m \u001b[1m43s\u001b[0m 180ms/step - accuracy: 0.9881 - f1_score: 0.9884 - loss: 0.0368 - precision: 0.9893 - recall: 0.9875 - val_accuracy: 0.9940 - val_f1_score: 0.9942 - val_loss: 0.0170 - val_precision: 0.9946 - val_recall: 0.9938\n",
      "Epoch 67/100\n",
      "\u001b[1m236/236\u001b[0m \u001b[32m━━━━━━━━━━━━━━━━━━━━\u001b[0m\u001b[37m\u001b[0m \u001b[1m43s\u001b[0m 183ms/step - accuracy: 0.9859 - f1_score: 0.9860 - loss: 0.0438 - precision: 0.9865 - recall: 0.9855 - val_accuracy: 0.9965 - val_f1_score: 0.9967 - val_loss: 0.0150 - val_precision: 0.9971 - val_recall: 0.9964\n",
      "Epoch 68/100\n",
      "\u001b[1m236/236\u001b[0m \u001b[32m━━━━━━━━━━━━━━━━━━━━\u001b[0m\u001b[37m\u001b[0m \u001b[1m42s\u001b[0m 179ms/step - accuracy: 0.9847 - f1_score: 0.9849 - loss: 0.0490 - precision: 0.9858 - recall: 0.9840 - val_accuracy: 0.9965 - val_f1_score: 0.9964 - val_loss: 0.0132 - val_precision: 0.9967 - val_recall: 0.9961\n",
      "Epoch 69/100\n",
      "\u001b[1m236/236\u001b[0m \u001b[32m━━━━━━━━━━━━━━━━━━━━\u001b[0m\u001b[37m\u001b[0m \u001b[1m42s\u001b[0m 178ms/step - accuracy: 0.9915 - f1_score: 0.9917 - loss: 0.0252 - precision: 0.9920 - recall: 0.9914 - val_accuracy: 0.9924 - val_f1_score: 0.9922 - val_loss: 0.0225 - val_precision: 0.9924 - val_recall: 0.9919\n",
      "Epoch 70/100\n",
      "\u001b[1m236/236\u001b[0m \u001b[32m━━━━━━━━━━━━━━━━━━━━\u001b[0m\u001b[37m\u001b[0m \u001b[1m42s\u001b[0m 179ms/step - accuracy: 0.9883 - f1_score: 0.9883 - loss: 0.0380 - precision: 0.9892 - recall: 0.9875 - val_accuracy: 0.9947 - val_f1_score: 0.9946 - val_loss: 0.0196 - val_precision: 0.9947 - val_recall: 0.9946\n",
      "Epoch 71/100\n",
      "\u001b[1m236/236\u001b[0m \u001b[32m━━━━━━━━━━━━━━━━━━━━\u001b[0m\u001b[37m\u001b[0m \u001b[1m45s\u001b[0m 191ms/step - accuracy: 0.9901 - f1_score: 0.9902 - loss: 0.0283 - precision: 0.9906 - recall: 0.9898 - val_accuracy: 0.9950 - val_f1_score: 0.9947 - val_loss: 0.0133 - val_precision: 0.9950 - val_recall: 0.9944\n",
      "Epoch 72/100\n",
      "\u001b[1m236/236\u001b[0m \u001b[32m━━━━━━━━━━━━━━━━━━━━\u001b[0m\u001b[37m\u001b[0m \u001b[1m42s\u001b[0m 180ms/step - accuracy: 0.9883 - f1_score: 0.9884 - loss: 0.0344 - precision: 0.9888 - recall: 0.9880 - val_accuracy: 0.9958 - val_f1_score: 0.9958 - val_loss: 0.0122 - val_precision: 0.9961 - val_recall: 0.9955\n",
      "Epoch 73/100\n",
      "\u001b[1m236/236\u001b[0m \u001b[32m━━━━━━━━━━━━━━━━━━━━\u001b[0m\u001b[37m\u001b[0m \u001b[1m42s\u001b[0m 179ms/step - accuracy: 0.9877 - f1_score: 0.9880 - loss: 0.0352 - precision: 0.9885 - recall: 0.9874 - val_accuracy: 0.9882 - val_f1_score: 0.9882 - val_loss: 0.0353 - val_precision: 0.9887 - val_recall: 0.9877\n",
      "Epoch 74/100\n",
      "\u001b[1m236/236\u001b[0m \u001b[32m━━━━━━━━━━━━━━━━━━━━\u001b[0m\u001b[37m\u001b[0m \u001b[1m43s\u001b[0m 181ms/step - accuracy: 0.9843 - f1_score: 0.9843 - loss: 0.0429 - precision: 0.9849 - recall: 0.9837 - val_accuracy: 0.9899 - val_f1_score: 0.9897 - val_loss: 0.0290 - val_precision: 0.9903 - val_recall: 0.9891\n",
      "Epoch 75/100\n",
      "\u001b[1m236/236\u001b[0m \u001b[32m━━━━━━━━━━━━━━━━━━━━\u001b[0m\u001b[37m\u001b[0m \u001b[1m44s\u001b[0m 186ms/step - accuracy: 0.9901 - f1_score: 0.9900 - loss: 0.0328 - precision: 0.9904 - recall: 0.9895 - val_accuracy: 0.9890 - val_f1_score: 0.9889 - val_loss: 0.0291 - val_precision: 0.9894 - val_recall: 0.9884\n",
      "Epoch 76/100\n",
      "\u001b[1m236/236\u001b[0m \u001b[32m━━━━━━━━━━━━━━━━━━━━\u001b[0m\u001b[37m\u001b[0m \u001b[1m42s\u001b[0m 179ms/step - accuracy: 0.9828 - f1_score: 0.9835 - loss: 0.0584 - precision: 0.9843 - recall: 0.9827 - val_accuracy: 0.9967 - val_f1_score: 0.9967 - val_loss: 0.0104 - val_precision: 0.9967 - val_recall: 0.9967\n",
      "Epoch 77/100\n",
      "\u001b[1m236/236\u001b[0m \u001b[32m━━━━━━━━━━━━━━━━━━━━\u001b[0m\u001b[37m\u001b[0m \u001b[1m43s\u001b[0m 181ms/step - accuracy: 0.9890 - f1_score: 0.9892 - loss: 0.0327 - precision: 0.9900 - recall: 0.9884 - val_accuracy: 0.9958 - val_f1_score: 0.9959 - val_loss: 0.0133 - val_precision: 0.9960 - val_recall: 0.9958\n",
      "Epoch 78/100\n",
      "\u001b[1m236/236\u001b[0m \u001b[32m━━━━━━━━━━━━━━━━━━━━\u001b[0m\u001b[37m\u001b[0m \u001b[1m43s\u001b[0m 182ms/step - accuracy: 0.9869 - f1_score: 0.9868 - loss: 0.0404 - precision: 0.9870 - recall: 0.9867 - val_accuracy: 0.9964 - val_f1_score: 0.9965 - val_loss: 0.0115 - val_precision: 0.9968 - val_recall: 0.9961\n",
      "Epoch 79/100\n",
      "\u001b[1m236/236\u001b[0m \u001b[32m━━━━━━━━━━━━━━━━━━━━\u001b[0m\u001b[37m\u001b[0m \u001b[1m43s\u001b[0m 183ms/step - accuracy: 0.9812 - f1_score: 0.9813 - loss: 0.0565 - precision: 0.9825 - recall: 0.9801 - val_accuracy: 0.9977 - val_f1_score: 0.9978 - val_loss: 0.0088 - val_precision: 0.9981 - val_recall: 0.9975\n",
      "Epoch 80/100\n",
      "\u001b[1m236/236\u001b[0m \u001b[32m━━━━━━━━━━━━━━━━━━━━\u001b[0m\u001b[37m\u001b[0m \u001b[1m42s\u001b[0m 180ms/step - accuracy: 0.9904 - f1_score: 0.9911 - loss: 0.0318 - precision: 0.9919 - recall: 0.9902 - val_accuracy: 0.9971 - val_f1_score: 0.9968 - val_loss: 0.0115 - val_precision: 0.9971 - val_recall: 0.9965\n",
      "Epoch 81/100\n",
      "\u001b[1m236/236\u001b[0m \u001b[32m━━━━━━━━━━━━━━━━━━━━\u001b[0m\u001b[37m\u001b[0m \u001b[1m43s\u001b[0m 184ms/step - accuracy: 0.9906 - f1_score: 0.9910 - loss: 0.0311 - precision: 0.9916 - recall: 0.9903 - val_accuracy: 0.9969 - val_f1_score: 0.9968 - val_loss: 0.0077 - val_precision: 0.9969 - val_recall: 0.9967\n",
      "Epoch 82/100\n",
      "\u001b[1m236/236\u001b[0m \u001b[32m━━━━━━━━━━━━━━━━━━━━\u001b[0m\u001b[37m\u001b[0m \u001b[1m43s\u001b[0m 182ms/step - accuracy: 0.9921 - f1_score: 0.9922 - loss: 0.0246 - precision: 0.9928 - recall: 0.9917 - val_accuracy: 0.9980 - val_f1_score: 0.9980 - val_loss: 0.0069 - val_precision: 0.9981 - val_recall: 0.9979\n",
      "Epoch 83/100\n",
      "\u001b[1m236/236\u001b[0m \u001b[32m━━━━━━━━━━━━━━━━━━━━\u001b[0m\u001b[37m\u001b[0m \u001b[1m45s\u001b[0m 189ms/step - accuracy: 0.9823 - f1_score: 0.9820 - loss: 0.0579 - precision: 0.9826 - recall: 0.9813 - val_accuracy: 0.9972 - val_f1_score: 0.9975 - val_loss: 0.0119 - val_precision: 0.9977 - val_recall: 0.9972\n",
      "Epoch 84/100\n",
      "\u001b[1m236/236\u001b[0m \u001b[32m━━━━━━━━━━━━━━━━━━━━\u001b[0m\u001b[37m\u001b[0m \u001b[1m43s\u001b[0m 183ms/step - accuracy: 0.9912 - f1_score: 0.9908 - loss: 0.0273 - precision: 0.9912 - recall: 0.9904 - val_accuracy: 0.9984 - val_f1_score: 0.9984 - val_loss: 0.0069 - val_precision: 0.9984 - val_recall: 0.9984\n",
      "Epoch 85/100\n",
      "\u001b[1m236/236\u001b[0m \u001b[32m━━━━━━━━━━━━━━━━━━━━\u001b[0m\u001b[37m\u001b[0m \u001b[1m43s\u001b[0m 182ms/step - accuracy: 0.9880 - f1_score: 0.9881 - loss: 0.0379 - precision: 0.9887 - recall: 0.9875 - val_accuracy: 0.9955 - val_f1_score: 0.9956 - val_loss: 0.0113 - val_precision: 0.9956 - val_recall: 0.9955\n",
      "Epoch 86/100\n",
      "\u001b[1m236/236\u001b[0m \u001b[32m━━━━━━━━━━━━━━━━━━━━\u001b[0m\u001b[37m\u001b[0m \u001b[1m43s\u001b[0m 182ms/step - accuracy: 0.9932 - f1_score: 0.9931 - loss: 0.0226 - precision: 0.9935 - recall: 0.9926 - val_accuracy: 0.9985 - val_f1_score: 0.9986 - val_loss: 0.0061 - val_precision: 0.9987 - val_recall: 0.9985\n",
      "Epoch 87/100\n",
      "\u001b[1m236/236\u001b[0m \u001b[32m━━━━━━━━━━━━━━━━━━━━\u001b[0m\u001b[37m\u001b[0m \u001b[1m43s\u001b[0m 180ms/step - accuracy: 0.9926 - f1_score: 0.9926 - loss: 0.0231 - precision: 0.9927 - recall: 0.9926 - val_accuracy: 0.9995 - val_f1_score: 0.9995 - val_loss: 0.0027 - val_precision: 0.9996 - val_recall: 0.9995\n",
      "Epoch 88/100\n",
      "\u001b[1m236/236\u001b[0m \u001b[32m━━━━━━━━━━━━━━━━━━━━\u001b[0m\u001b[37m\u001b[0m \u001b[1m44s\u001b[0m 187ms/step - accuracy: 0.9947 - f1_score: 0.9947 - loss: 0.0154 - precision: 0.9951 - recall: 0.9944 - val_accuracy: 0.9888 - val_f1_score: 0.9890 - val_loss: 0.0342 - val_precision: 0.9896 - val_recall: 0.9883\n",
      "Epoch 89/100\n",
      "\u001b[1m236/236\u001b[0m \u001b[32m━━━━━━━━━━━━━━━━━━━━\u001b[0m\u001b[37m\u001b[0m \u001b[1m43s\u001b[0m 183ms/step - accuracy: 0.9885 - f1_score: 0.9886 - loss: 0.0348 - precision: 0.9887 - recall: 0.9884 - val_accuracy: 0.9634 - val_f1_score: 0.9639 - val_loss: 0.1309 - val_precision: 0.9659 - val_recall: 0.9619\n",
      "Epoch 90/100\n",
      "\u001b[1m236/236\u001b[0m \u001b[32m━━━━━━━━━━━━━━━━━━━━\u001b[0m\u001b[37m\u001b[0m \u001b[1m43s\u001b[0m 182ms/step - accuracy: 0.9709 - f1_score: 0.9719 - loss: 0.0926 - precision: 0.9735 - recall: 0.9703 - val_accuracy: 0.9977 - val_f1_score: 0.9977 - val_loss: 0.0096 - val_precision: 0.9979 - val_recall: 0.9975\n",
      "Epoch 91/100\n",
      "\u001b[1m236/236\u001b[0m \u001b[32m━━━━━━━━━━━━━━━━━━━━\u001b[0m\u001b[37m\u001b[0m \u001b[1m43s\u001b[0m 184ms/step - accuracy: 0.9923 - f1_score: 0.9916 - loss: 0.0207 - precision: 0.9924 - recall: 0.9908 - val_accuracy: 0.9980 - val_f1_score: 0.9979 - val_loss: 0.0081 - val_precision: 0.9980 - val_recall: 0.9979\n",
      "Epoch 92/100\n",
      "\u001b[1m236/236\u001b[0m \u001b[32m━━━━━━━━━━━━━━━━━━━━\u001b[0m\u001b[37m\u001b[0m \u001b[1m43s\u001b[0m 183ms/step - accuracy: 0.9912 - f1_score: 0.9912 - loss: 0.0285 - precision: 0.9920 - recall: 0.9904 - val_accuracy: 0.9944 - val_f1_score: 0.9945 - val_loss: 0.0163 - val_precision: 0.9946 - val_recall: 0.9944\n",
      "Epoch 93/100\n",
      "\u001b[1m236/236\u001b[0m \u001b[32m━━━━━━━━━━━━━━━━━━━━\u001b[0m\u001b[37m\u001b[0m \u001b[1m44s\u001b[0m 184ms/step - accuracy: 0.9823 - f1_score: 0.9822 - loss: 0.0559 - precision: 0.9828 - recall: 0.9817 - val_accuracy: 0.9931 - val_f1_score: 0.9933 - val_loss: 0.0226 - val_precision: 0.9936 - val_recall: 0.9930\n",
      "Epoch 94/100\n",
      "\u001b[1m236/236\u001b[0m \u001b[32m━━━━━━━━━━━━━━━━━━━━\u001b[0m\u001b[37m\u001b[0m \u001b[1m43s\u001b[0m 183ms/step - accuracy: 0.9829 - f1_score: 0.9828 - loss: 0.0516 - precision: 0.9831 - recall: 0.9826 - val_accuracy: 0.9964 - val_f1_score: 0.9963 - val_loss: 0.0162 - val_precision: 0.9965 - val_recall: 0.9961\n",
      "Epoch 95/100\n",
      "\u001b[1m236/236\u001b[0m \u001b[32m━━━━━━━━━━━━━━━━━━━━\u001b[0m\u001b[37m\u001b[0m \u001b[1m43s\u001b[0m 183ms/step - accuracy: 0.9937 - f1_score: 0.9938 - loss: 0.0194 - precision: 0.9941 - recall: 0.9935 - val_accuracy: 0.9989 - val_f1_score: 0.9989 - val_loss: 0.0058 - val_precision: 0.9991 - val_recall: 0.9987\n",
      "Epoch 96/100\n",
      "\u001b[1m236/236\u001b[0m \u001b[32m━━━━━━━━━━━━━━━━━━━━\u001b[0m\u001b[37m\u001b[0m \u001b[1m47s\u001b[0m 199ms/step - accuracy: 0.9895 - f1_score: 0.9900 - loss: 0.0306 - precision: 0.9910 - recall: 0.9891 - val_accuracy: 0.9980 - val_f1_score: 0.9979 - val_loss: 0.0083 - val_precision: 0.9981 - val_recall: 0.9977\n",
      "Epoch 97/100\n",
      "\u001b[1m236/236\u001b[0m \u001b[32m━━━━━━━━━━━━━━━━━━━━\u001b[0m\u001b[37m\u001b[0m \u001b[1m44s\u001b[0m 188ms/step - accuracy: 0.9905 - f1_score: 0.9905 - loss: 0.0324 - precision: 0.9909 - recall: 0.9901 - val_accuracy: 0.9980 - val_f1_score: 0.9979 - val_loss: 0.0084 - val_precision: 0.9980 - val_recall: 0.9979\n",
      "Epoch 98/100\n",
      "\u001b[1m236/236\u001b[0m \u001b[32m━━━━━━━━━━━━━━━━━━━━\u001b[0m\u001b[37m\u001b[0m \u001b[1m44s\u001b[0m 188ms/step - accuracy: 0.9898 - f1_score: 0.9899 - loss: 0.0339 - precision: 0.9902 - recall: 0.9895 - val_accuracy: 0.9963 - val_f1_score: 0.9963 - val_loss: 0.0123 - val_precision: 0.9965 - val_recall: 0.9961\n",
      "Epoch 99/100\n",
      "\u001b[1m236/236\u001b[0m \u001b[32m━━━━━━━━━━━━━━━━━━━━\u001b[0m\u001b[37m\u001b[0m \u001b[1m44s\u001b[0m 186ms/step - accuracy: 0.9958 - f1_score: 0.9956 - loss: 0.0168 - precision: 0.9959 - recall: 0.9954 - val_accuracy: 0.9972 - val_f1_score: 0.9972 - val_loss: 0.0088 - val_precision: 0.9973 - val_recall: 0.9971\n",
      "Epoch 100/100\n",
      "\u001b[1m236/236\u001b[0m \u001b[32m━━━━━━━━━━━━━━━━━━━━\u001b[0m\u001b[37m\u001b[0m \u001b[1m44s\u001b[0m 187ms/step - accuracy: 0.9923 - f1_score: 0.9922 - loss: 0.0328 - precision: 0.9927 - recall: 0.9918 - val_accuracy: 0.9981 - val_f1_score: 0.9981 - val_loss: 0.0055 - val_precision: 0.9981 - val_recall: 0.9980\n"
     ]
    }
   ],
   "source": [
    "# Train the model\n",
    "history = cnn.fit(\n",
    "    x=training_set,\n",
    "    validation_data=validation_set,\n",
    "    epochs=100\n",
    ")"
   ]
  },
  {
   "cell_type": "code",
   "execution_count": 10,
   "id": "ab171d41-23f2-4be4-b2dc-9641188796ed",
   "metadata": {},
   "outputs": [],
   "source": [
    "# Save Loss plot\n",
    "plt.figure()\n",
    "plt.plot(history.history['loss'], label='Train Loss')\n",
    "plt.plot(history.history['val_loss'], label='Validation Loss')\n",
    "plt.legend()\n",
    "plt.title(\"Loss\")\n",
    "plt.xlabel('Epochs')\n",
    "plt.ylabel('Loss')\n",
    "plt.savefig('loss_plot_cnn.png')  # Save the plot as a PNG file\n",
    "plt.close()\n",
    "\n",
    "# Save Accuracy plot\n",
    "plt.figure()\n",
    "plt.plot(history.history['accuracy'], label='Train Accuracy')\n",
    "plt.plot(history.history['val_accuracy'], label='Validation Accuracy')\n",
    "plt.legend()\n",
    "plt.title(\"Accuracy\")\n",
    "plt.xlabel('Epochs')\n",
    "plt.ylabel('Accuracy')\n",
    "plt.savefig('accuracy_plot_cnn.png')  # Save the plot as a PNG file\n",
    "plt.close()\n",
    "\n",
    "# Save Precision plot\n",
    "plt.figure()\n",
    "plt.plot(history.history['precision'], label='Train Precision')\n",
    "plt.plot(history.history['val_precision'], label='Validation Precision')\n",
    "plt.legend()\n",
    "plt.title(\"Precision\")\n",
    "plt.xlabel('Epochs')\n",
    "plt.ylabel('Precision')\n",
    "plt.savefig('precision_plot_cnn.png')  # Save the plot as a PNG file\n",
    "plt.close()\n",
    "\n",
    "# Save Recall plot\n",
    "plt.figure()\n",
    "plt.plot(history.history['recall'], label='Train Recall')\n",
    "plt.plot(history.history['val_recall'], label='Validation Recall')\n",
    "plt.legend()\n",
    "plt.title(\"Recall\")\n",
    "plt.xlabel('Epochs')\n",
    "plt.ylabel('Recall')\n",
    "plt.savefig('recall_plot_cnn.png')  # Save the plot as a PNG file\n",
    "plt.close()\n",
    "\n",
    "# Save F1 Score plot\n",
    "plt.figure()\n",
    "plt.plot(history.history['f1_score'], label='Train F1 Score')\n",
    "plt.plot(history.history['val_f1_score'], label='Validation F1 Score')\n",
    "plt.legend()\n",
    "plt.title(\"F1 Score\")\n",
    "plt.xlabel('Epochs')\n",
    "plt.ylabel('F1 Score')\n",
    "plt.savefig('f1_score_plot_cnn.png')  # Save the plot as a PNG file\n",
    "plt.close()"
   ]
  },
  {
   "cell_type": "code",
   "execution_count": 11,
   "id": "f0a38415-82d7-4fd9-9a4a-e2ca2f73e556",
   "metadata": {},
   "outputs": [
    {
     "data": {
      "text/html": [
       "<pre style=\"white-space:pre;overflow-x:auto;line-height:normal;font-family:Menlo,'DejaVu Sans Mono',consolas,'Courier New',monospace\"><span style=\"font-weight: bold\">Model: \"sequential\"</span>\n",
       "</pre>\n"
      ],
      "text/plain": [
       "\u001b[1mModel: \"sequential\"\u001b[0m\n"
      ]
     },
     "metadata": {},
     "output_type": "display_data"
    },
    {
     "data": {
      "text/html": [
       "<pre style=\"white-space:pre;overflow-x:auto;line-height:normal;font-family:Menlo,'DejaVu Sans Mono',consolas,'Courier New',monospace\">┏━━━━━━━━━━━━━━━━━━━━━━━━━━━━━━━━━━━━━━┳━━━━━━━━━━━━━━━━━━━━━━━━━━━━━┳━━━━━━━━━━━━━━━━━┓\n",
       "┃<span style=\"font-weight: bold\"> Layer (type)                         </span>┃<span style=\"font-weight: bold\"> Output Shape                </span>┃<span style=\"font-weight: bold\">         Param # </span>┃\n",
       "┡━━━━━━━━━━━━━━━━━━━━━━━━━━━━━━━━━━━━━━╇━━━━━━━━━━━━━━━━━━━━━━━━━━━━━╇━━━━━━━━━━━━━━━━━┩\n",
       "│ conv2d (<span style=\"color: #0087ff; text-decoration-color: #0087ff\">Conv2D</span>)                      │ (<span style=\"color: #00d7ff; text-decoration-color: #00d7ff\">None</span>, <span style=\"color: #00af00; text-decoration-color: #00af00\">62</span>, <span style=\"color: #00af00; text-decoration-color: #00af00\">62</span>, <span style=\"color: #00af00; text-decoration-color: #00af00\">32</span>)          │             <span style=\"color: #00af00; text-decoration-color: #00af00\">896</span> │\n",
       "├──────────────────────────────────────┼─────────────────────────────┼─────────────────┤\n",
       "│ max_pooling2d (<span style=\"color: #0087ff; text-decoration-color: #0087ff\">MaxPooling2D</span>)         │ (<span style=\"color: #00d7ff; text-decoration-color: #00d7ff\">None</span>, <span style=\"color: #00af00; text-decoration-color: #00af00\">31</span>, <span style=\"color: #00af00; text-decoration-color: #00af00\">31</span>, <span style=\"color: #00af00; text-decoration-color: #00af00\">32</span>)          │               <span style=\"color: #00af00; text-decoration-color: #00af00\">0</span> │\n",
       "├──────────────────────────────────────┼─────────────────────────────┼─────────────────┤\n",
       "│ conv2d_1 (<span style=\"color: #0087ff; text-decoration-color: #0087ff\">Conv2D</span>)                    │ (<span style=\"color: #00d7ff; text-decoration-color: #00d7ff\">None</span>, <span style=\"color: #00af00; text-decoration-color: #00af00\">29</span>, <span style=\"color: #00af00; text-decoration-color: #00af00\">29</span>, <span style=\"color: #00af00; text-decoration-color: #00af00\">64</span>)          │          <span style=\"color: #00af00; text-decoration-color: #00af00\">18,496</span> │\n",
       "├──────────────────────────────────────┼─────────────────────────────┼─────────────────┤\n",
       "│ max_pooling2d_1 (<span style=\"color: #0087ff; text-decoration-color: #0087ff\">MaxPooling2D</span>)       │ (<span style=\"color: #00d7ff; text-decoration-color: #00d7ff\">None</span>, <span style=\"color: #00af00; text-decoration-color: #00af00\">14</span>, <span style=\"color: #00af00; text-decoration-color: #00af00\">14</span>, <span style=\"color: #00af00; text-decoration-color: #00af00\">64</span>)          │               <span style=\"color: #00af00; text-decoration-color: #00af00\">0</span> │\n",
       "├──────────────────────────────────────┼─────────────────────────────┼─────────────────┤\n",
       "│ conv2d_2 (<span style=\"color: #0087ff; text-decoration-color: #0087ff\">Conv2D</span>)                    │ (<span style=\"color: #00d7ff; text-decoration-color: #00d7ff\">None</span>, <span style=\"color: #00af00; text-decoration-color: #00af00\">12</span>, <span style=\"color: #00af00; text-decoration-color: #00af00\">12</span>, <span style=\"color: #00af00; text-decoration-color: #00af00\">128</span>)         │          <span style=\"color: #00af00; text-decoration-color: #00af00\">73,856</span> │\n",
       "├──────────────────────────────────────┼─────────────────────────────┼─────────────────┤\n",
       "│ max_pooling2d_2 (<span style=\"color: #0087ff; text-decoration-color: #0087ff\">MaxPooling2D</span>)       │ (<span style=\"color: #00d7ff; text-decoration-color: #00d7ff\">None</span>, <span style=\"color: #00af00; text-decoration-color: #00af00\">6</span>, <span style=\"color: #00af00; text-decoration-color: #00af00\">6</span>, <span style=\"color: #00af00; text-decoration-color: #00af00\">128</span>)           │               <span style=\"color: #00af00; text-decoration-color: #00af00\">0</span> │\n",
       "├──────────────────────────────────────┼─────────────────────────────┼─────────────────┤\n",
       "│ flatten (<span style=\"color: #0087ff; text-decoration-color: #0087ff\">Flatten</span>)                    │ (<span style=\"color: #00d7ff; text-decoration-color: #00d7ff\">None</span>, <span style=\"color: #00af00; text-decoration-color: #00af00\">4608</span>)                │               <span style=\"color: #00af00; text-decoration-color: #00af00\">0</span> │\n",
       "├──────────────────────────────────────┼─────────────────────────────┼─────────────────┤\n",
       "│ dense (<span style=\"color: #0087ff; text-decoration-color: #0087ff\">Dense</span>)                        │ (<span style=\"color: #00d7ff; text-decoration-color: #00d7ff\">None</span>, <span style=\"color: #00af00; text-decoration-color: #00af00\">128</span>)                 │         <span style=\"color: #00af00; text-decoration-color: #00af00\">589,952</span> │\n",
       "├──────────────────────────────────────┼─────────────────────────────┼─────────────────┤\n",
       "│ dense_1 (<span style=\"color: #0087ff; text-decoration-color: #0087ff\">Dense</span>)                      │ (<span style=\"color: #00d7ff; text-decoration-color: #00d7ff\">None</span>, <span style=\"color: #00af00; text-decoration-color: #00af00\">6</span>)                   │             <span style=\"color: #00af00; text-decoration-color: #00af00\">774</span> │\n",
       "└──────────────────────────────────────┴─────────────────────────────┴─────────────────┘\n",
       "</pre>\n"
      ],
      "text/plain": [
       "┏━━━━━━━━━━━━━━━━━━━━━━━━━━━━━━━━━━━━━━┳━━━━━━━━━━━━━━━━━━━━━━━━━━━━━┳━━━━━━━━━━━━━━━━━┓\n",
       "┃\u001b[1m \u001b[0m\u001b[1mLayer (type)                        \u001b[0m\u001b[1m \u001b[0m┃\u001b[1m \u001b[0m\u001b[1mOutput Shape               \u001b[0m\u001b[1m \u001b[0m┃\u001b[1m \u001b[0m\u001b[1m        Param #\u001b[0m\u001b[1m \u001b[0m┃\n",
       "┡━━━━━━━━━━━━━━━━━━━━━━━━━━━━━━━━━━━━━━╇━━━━━━━━━━━━━━━━━━━━━━━━━━━━━╇━━━━━━━━━━━━━━━━━┩\n",
       "│ conv2d (\u001b[38;5;33mConv2D\u001b[0m)                      │ (\u001b[38;5;45mNone\u001b[0m, \u001b[38;5;34m62\u001b[0m, \u001b[38;5;34m62\u001b[0m, \u001b[38;5;34m32\u001b[0m)          │             \u001b[38;5;34m896\u001b[0m │\n",
       "├──────────────────────────────────────┼─────────────────────────────┼─────────────────┤\n",
       "│ max_pooling2d (\u001b[38;5;33mMaxPooling2D\u001b[0m)         │ (\u001b[38;5;45mNone\u001b[0m, \u001b[38;5;34m31\u001b[0m, \u001b[38;5;34m31\u001b[0m, \u001b[38;5;34m32\u001b[0m)          │               \u001b[38;5;34m0\u001b[0m │\n",
       "├──────────────────────────────────────┼─────────────────────────────┼─────────────────┤\n",
       "│ conv2d_1 (\u001b[38;5;33mConv2D\u001b[0m)                    │ (\u001b[38;5;45mNone\u001b[0m, \u001b[38;5;34m29\u001b[0m, \u001b[38;5;34m29\u001b[0m, \u001b[38;5;34m64\u001b[0m)          │          \u001b[38;5;34m18,496\u001b[0m │\n",
       "├──────────────────────────────────────┼─────────────────────────────┼─────────────────┤\n",
       "│ max_pooling2d_1 (\u001b[38;5;33mMaxPooling2D\u001b[0m)       │ (\u001b[38;5;45mNone\u001b[0m, \u001b[38;5;34m14\u001b[0m, \u001b[38;5;34m14\u001b[0m, \u001b[38;5;34m64\u001b[0m)          │               \u001b[38;5;34m0\u001b[0m │\n",
       "├──────────────────────────────────────┼─────────────────────────────┼─────────────────┤\n",
       "│ conv2d_2 (\u001b[38;5;33mConv2D\u001b[0m)                    │ (\u001b[38;5;45mNone\u001b[0m, \u001b[38;5;34m12\u001b[0m, \u001b[38;5;34m12\u001b[0m, \u001b[38;5;34m128\u001b[0m)         │          \u001b[38;5;34m73,856\u001b[0m │\n",
       "├──────────────────────────────────────┼─────────────────────────────┼─────────────────┤\n",
       "│ max_pooling2d_2 (\u001b[38;5;33mMaxPooling2D\u001b[0m)       │ (\u001b[38;5;45mNone\u001b[0m, \u001b[38;5;34m6\u001b[0m, \u001b[38;5;34m6\u001b[0m, \u001b[38;5;34m128\u001b[0m)           │               \u001b[38;5;34m0\u001b[0m │\n",
       "├──────────────────────────────────────┼─────────────────────────────┼─────────────────┤\n",
       "│ flatten (\u001b[38;5;33mFlatten\u001b[0m)                    │ (\u001b[38;5;45mNone\u001b[0m, \u001b[38;5;34m4608\u001b[0m)                │               \u001b[38;5;34m0\u001b[0m │\n",
       "├──────────────────────────────────────┼─────────────────────────────┼─────────────────┤\n",
       "│ dense (\u001b[38;5;33mDense\u001b[0m)                        │ (\u001b[38;5;45mNone\u001b[0m, \u001b[38;5;34m128\u001b[0m)                 │         \u001b[38;5;34m589,952\u001b[0m │\n",
       "├──────────────────────────────────────┼─────────────────────────────┼─────────────────┤\n",
       "│ dense_1 (\u001b[38;5;33mDense\u001b[0m)                      │ (\u001b[38;5;45mNone\u001b[0m, \u001b[38;5;34m6\u001b[0m)                   │             \u001b[38;5;34m774\u001b[0m │\n",
       "└──────────────────────────────────────┴─────────────────────────────┴─────────────────┘\n"
      ]
     },
     "metadata": {},
     "output_type": "display_data"
    },
    {
     "data": {
      "text/html": [
       "<pre style=\"white-space:pre;overflow-x:auto;line-height:normal;font-family:Menlo,'DejaVu Sans Mono',consolas,'Courier New',monospace\"><span style=\"font-weight: bold\"> Total params: </span><span style=\"color: #00af00; text-decoration-color: #00af00\">2,051,924</span> (7.83 MB)\n",
       "</pre>\n"
      ],
      "text/plain": [
       "\u001b[1m Total params: \u001b[0m\u001b[38;5;34m2,051,924\u001b[0m (7.83 MB)\n"
      ]
     },
     "metadata": {},
     "output_type": "display_data"
    },
    {
     "data": {
      "text/html": [
       "<pre style=\"white-space:pre;overflow-x:auto;line-height:normal;font-family:Menlo,'DejaVu Sans Mono',consolas,'Courier New',monospace\"><span style=\"font-weight: bold\"> Trainable params: </span><span style=\"color: #00af00; text-decoration-color: #00af00\">683,974</span> (2.61 MB)\n",
       "</pre>\n"
      ],
      "text/plain": [
       "\u001b[1m Trainable params: \u001b[0m\u001b[38;5;34m683,974\u001b[0m (2.61 MB)\n"
      ]
     },
     "metadata": {},
     "output_type": "display_data"
    },
    {
     "data": {
      "text/html": [
       "<pre style=\"white-space:pre;overflow-x:auto;line-height:normal;font-family:Menlo,'DejaVu Sans Mono',consolas,'Courier New',monospace\"><span style=\"font-weight: bold\"> Non-trainable params: </span><span style=\"color: #00af00; text-decoration-color: #00af00\">0</span> (0.00 B)\n",
       "</pre>\n"
      ],
      "text/plain": [
       "\u001b[1m Non-trainable params: \u001b[0m\u001b[38;5;34m0\u001b[0m (0.00 B)\n"
      ]
     },
     "metadata": {},
     "output_type": "display_data"
    },
    {
     "data": {
      "text/html": [
       "<pre style=\"white-space:pre;overflow-x:auto;line-height:normal;font-family:Menlo,'DejaVu Sans Mono',consolas,'Courier New',monospace\"><span style=\"font-weight: bold\"> Optimizer params: </span><span style=\"color: #00af00; text-decoration-color: #00af00\">1,367,950</span> (5.22 MB)\n",
       "</pre>\n"
      ],
      "text/plain": [
       "\u001b[1m Optimizer params: \u001b[0m\u001b[38;5;34m1,367,950\u001b[0m (5.22 MB)\n"
      ]
     },
     "metadata": {},
     "output_type": "display_data"
    }
   ],
   "source": [
    "cnn.summary()"
   ]
  },
  {
   "cell_type": "code",
   "execution_count": null,
   "id": "76a790db-1d50-492c-ba2e-9c0f3b051539",
   "metadata": {},
   "outputs": [],
   "source": []
  }
 ],
 "metadata": {
  "kernelspec": {
   "display_name": "Python 3 (ipykernel)",
   "language": "python",
   "name": "python3"
  },
  "language_info": {
   "codemirror_mode": {
    "name": "ipython",
    "version": 3
   },
   "file_extension": ".py",
   "mimetype": "text/x-python",
   "name": "python",
   "nbconvert_exporter": "python",
   "pygments_lexer": "ipython3",
   "version": "3.12.2"
  }
 },
 "nbformat": 4,
 "nbformat_minor": 5
}
