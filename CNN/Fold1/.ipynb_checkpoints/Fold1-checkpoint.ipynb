{
 "cells": [
  {
   "cell_type": "code",
   "execution_count": 1,
   "id": "8b8897e4-aebd-4a8f-ab51-0cce300126e0",
   "metadata": {},
   "outputs": [],
   "source": [
    "import tensorflow as tf\n",
    "from tensorflow.keras.preprocessing.image import ImageDataGenerator\n",
    "import matplotlib.pyplot as plt"
   ]
  },
  {
   "cell_type": "code",
   "execution_count": 2,
   "id": "3a24e412-7a2a-4c3c-ad54-b82f233ba958",
   "metadata": {},
   "outputs": [
    {
     "name": "stdout",
     "output_type": "stream",
     "text": [
      "Found 7518 images belonging to 6 classes.\n"
     ]
    }
   ],
   "source": [
    "# Data Augmentation for Training\n",
    "train_datagen = ImageDataGenerator(rescale=1./255,\n",
    "                                   shear_range=0.2,\n",
    "                                   zoom_range=0.2,\n",
    "                                   horizontal_flip=True)\n",
    "training_set = train_datagen.flow_from_directory(\n",
    "    \"Monkeypox/archive (60)/Augmented Images/Augmented Images/FOLDS_AUG/fold1_AUG/Train/\",\n",
    "    target_size=(64, 64),\n",
    "    batch_size=32,\n",
    "    class_mode='categorical',  # Use 'categorical' for one-hot encoded labels\n",
    ")"
   ]
  },
  {
   "cell_type": "code",
   "execution_count": 3,
   "id": "f53eb5ab-0ff3-47e6-b3c6-19c032904363",
   "metadata": {},
   "outputs": [
    {
     "name": "stdout",
     "output_type": "stream",
     "text": [
      "Found 7518 images belonging to 6 classes.\n"
     ]
    }
   ],
   "source": [
    "test_datagen = ImageDataGenerator(rescale=1./255)\n",
    "validation_set = test_datagen.flow_from_directory(\n",
    "    \"Monkeypox/archive (60)/Augmented Images/Augmented Images/FOLDS_AUG/fold1_AUG/Train/\",\n",
    "    target_size=(64, 64),\n",
    "    batch_size=32,\n",
    "    class_mode='categorical',  # Use 'categorical' for one-hot encoded labels\n",
    ")"
   ]
  },
  {
   "cell_type": "code",
   "execution_count": 4,
   "id": "1bc1db81-e56b-41cf-ba45-7c93e0c141f6",
   "metadata": {},
   "outputs": [],
   "source": [
    "# Custom F1 Score Metric\n",
    "class F1Score(tf.keras.metrics.Metric):\n",
    "    def __init__(self, name='f1_score', **kwargs):\n",
    "        super(F1Score, self).__init__(name=name, **kwargs)\n",
    "        self.precision = tf.keras.metrics.Precision()\n",
    "        self.recall = tf.keras.metrics.Recall()\n",
    "\n",
    "    def update_state(self, y_true, y_pred, sample_weight=None):\n",
    "        # Update the precision and recall for each batch\n",
    "        self.precision.update_state(y_true, y_pred, sample_weight)\n",
    "        self.recall.update_state(y_true, y_pred, sample_weight)\n",
    "\n",
    "    def result(self):\n",
    "        # Calculate F1 score as the harmonic mean of precision and recall\n",
    "        precision = self.precision.result()\n",
    "        recall = self.recall.result()\n",
    "        return 2 * (precision * recall) / (precision + recall + tf.keras.backend.epsilon())\n",
    "\n",
    "    def reset_states(self):\n",
    "        self.precision.reset_states()\n",
    "        self.recall.reset_states()"
   ]
  },
  {
   "cell_type": "code",
   "execution_count": 5,
   "id": "042ce3ac-9035-4e54-80d9-cbd085f104bb",
   "metadata": {},
   "outputs": [],
   "source": [
    "# Build the CNN Model\n",
    "cnn = tf.keras.models.Sequential()"
   ]
  },
  {
   "cell_type": "code",
   "execution_count": 6,
   "id": "e272f529-7f85-477e-b251-b02c363e6c15",
   "metadata": {},
   "outputs": [
    {
     "name": "stderr",
     "output_type": "stream",
     "text": [
      "C:\\Users\\KIIT\\AppData\\Local\\Programs\\Python\\Python312\\Lib\\site-packages\\keras\\src\\layers\\convolutional\\base_conv.py:107: UserWarning: Do not pass an `input_shape`/`input_dim` argument to a layer. When using Sequential models, prefer using an `Input(shape)` object as the first layer in the model instead.\n",
      "  super().__init__(activity_regularizer=activity_regularizer, **kwargs)\n"
     ]
    }
   ],
   "source": [
    "# Convolutional Layers\n",
    "cnn.add(tf.keras.layers.Conv2D(filters=32, kernel_size=(3, 3), activation='relu', input_shape=(64, 64, 3)))\n",
    "cnn.add(tf.keras.layers.MaxPooling2D(pool_size=(2, 2)))\n",
    "\n",
    "cnn.add(tf.keras.layers.Conv2D(filters=64, kernel_size=(3, 3), activation='relu'))\n",
    "cnn.add(tf.keras.layers.MaxPooling2D(pool_size=(2, 2)))\n",
    "\n",
    "cnn.add(tf.keras.layers.Conv2D(filters=128, kernel_size=(3, 3), activation='relu'))\n",
    "cnn.add(tf.keras.layers.MaxPooling2D(pool_size=(2, 2)))"
   ]
  },
  {
   "cell_type": "code",
   "execution_count": 7,
   "id": "81810bd5-d51b-4345-b735-58904f1ac830",
   "metadata": {},
   "outputs": [],
   "source": [
    "# Flatten and Fully Connected Layers\n",
    "cnn.add(tf.keras.layers.Flatten())\n",
    "cnn.add(tf.keras.layers.Dense(units=128, activation='relu'))\n",
    "cnn.add(tf.keras.layers.Dense(6, activation='softmax'))  # 6 classes"
   ]
  },
  {
   "cell_type": "code",
   "execution_count": 8,
   "id": "0bdf832b-cf72-4d3f-8b1b-2379ec208d9d",
   "metadata": {},
   "outputs": [],
   "source": [
    "# Compile the model with Precision, Recall, and F1 Score\n",
    "cnn.compile(\n",
    "    optimizer='adam',\n",
    "    loss='categorical_crossentropy',  # Use categorical_crossentropy for one-hot encoded labels\n",
    "    metrics=[\n",
    "        'accuracy',\n",
    "        tf.keras.metrics.Precision(name='precision'),\n",
    "        tf.keras.metrics.Recall(name='recall'),\n",
    "        F1Score(name='f1_score')  # Add custom F1 score metric\n",
    "    ]\n",
    ")"
   ]
  },
  {
   "cell_type": "code",
   "execution_count": 9,
   "id": "81389153-31c0-4cbb-bf91-ff7a79de1e34",
   "metadata": {},
   "outputs": [
    {
     "name": "stderr",
     "output_type": "stream",
     "text": [
      "C:\\Users\\KIIT\\AppData\\Local\\Programs\\Python\\Python312\\Lib\\site-packages\\keras\\src\\trainers\\data_adapters\\py_dataset_adapter.py:121: UserWarning: Your `PyDataset` class should call `super().__init__(**kwargs)` in its constructor. `**kwargs` can include `workers`, `use_multiprocessing`, `max_queue_size`. Do not pass these arguments to `fit()`, as they will be ignored.\n",
      "  self._warn_if_super_not_called()\n"
     ]
    },
    {
     "name": "stdout",
     "output_type": "stream",
     "text": [
      "Epoch 1/100\n",
      "\u001b[1m235/235\u001b[0m \u001b[32m━━━━━━━━━━━━━━━━━━━━\u001b[0m\u001b[37m\u001b[0m \u001b[1m0s\u001b[0m 179ms/step - accuracy: 0.3758 - f1_score: 0.0278 - loss: 1.6184 - precision: 0.3707 - recall: 0.0145"
     ]
    },
    {
     "name": "stderr",
     "output_type": "stream",
     "text": [
      "C:\\Users\\KIIT\\AppData\\Local\\Programs\\Python\\Python312\\Lib\\site-packages\\keras\\src\\trainers\\data_adapters\\py_dataset_adapter.py:121: UserWarning: Your `PyDataset` class should call `super().__init__(**kwargs)` in its constructor. `**kwargs` can include `workers`, `use_multiprocessing`, `max_queue_size`. Do not pass these arguments to `fit()`, as they will be ignored.\n",
      "  self._warn_if_super_not_called()\n"
     ]
    },
    {
     "name": "stdout",
     "output_type": "stream",
     "text": [
      "\u001b[1m235/235\u001b[0m \u001b[32m━━━━━━━━━━━━━━━━━━━━\u001b[0m\u001b[37m\u001b[0m \u001b[1m60s\u001b[0m 236ms/step - accuracy: 0.3759 - f1_score: 0.0280 - loss: 1.6181 - precision: 0.3715 - recall: 0.0146 - val_accuracy: 0.4598 - val_f1_score: 0.3245 - val_loss: 1.4051 - val_precision: 0.5779 - val_recall: 0.2256\n",
      "Epoch 2/100\n",
      "\u001b[1m235/235\u001b[0m \u001b[32m━━━━━━━━━━━━━━━━━━━━\u001b[0m\u001b[37m\u001b[0m \u001b[1m42s\u001b[0m 180ms/step - accuracy: 0.4961 - f1_score: 0.3479 - loss: 1.3263 - precision: 0.6744 - recall: 0.2347 - val_accuracy: 0.5904 - val_f1_score: 0.5272 - val_loss: 1.1048 - val_precision: 0.7453 - val_recall: 0.4078\n",
      "Epoch 3/100\n",
      "\u001b[1m235/235\u001b[0m \u001b[32m━━━━━━━━━━━━━━━━━━━━\u001b[0m\u001b[37m\u001b[0m \u001b[1m42s\u001b[0m 178ms/step - accuracy: 0.5827 - f1_score: 0.5173 - loss: 1.1091 - precision: 0.7326 - recall: 0.4000 - val_accuracy: 0.6427 - val_f1_score: 0.6105 - val_loss: 0.9712 - val_precision: 0.8081 - val_recall: 0.4906\n",
      "Epoch 4/100\n",
      "\u001b[1m235/235\u001b[0m \u001b[32m━━━━━━━━━━━━━━━━━━━━\u001b[0m\u001b[37m\u001b[0m \u001b[1m44s\u001b[0m 186ms/step - accuracy: 0.6518 - f1_score: 0.6180 - loss: 0.9323 - precision: 0.7852 - recall: 0.5096 - val_accuracy: 0.6987 - val_f1_score: 0.6888 - val_loss: 0.8171 - val_precision: 0.7789 - val_recall: 0.6175\n",
      "Epoch 5/100\n",
      "\u001b[1m235/235\u001b[0m \u001b[32m━━━━━━━━━━━━━━━━━━━━\u001b[0m\u001b[37m\u001b[0m \u001b[1m42s\u001b[0m 180ms/step - accuracy: 0.6994 - f1_score: 0.6801 - loss: 0.8048 - precision: 0.8119 - recall: 0.5853 - val_accuracy: 0.7765 - val_f1_score: 0.7597 - val_loss: 0.6223 - val_precision: 0.8634 - val_recall: 0.6782\n",
      "Epoch 6/100\n",
      "\u001b[1m235/235\u001b[0m \u001b[32m━━━━━━━━━━━━━━━━━━━━\u001b[0m\u001b[37m\u001b[0m \u001b[1m42s\u001b[0m 179ms/step - accuracy: 0.7455 - f1_score: 0.7314 - loss: 0.6749 - precision: 0.8337 - recall: 0.6516 - val_accuracy: 0.8003 - val_f1_score: 0.7859 - val_loss: 0.5598 - val_precision: 0.8736 - val_recall: 0.7143\n",
      "Epoch 7/100\n",
      "\u001b[1m235/235\u001b[0m \u001b[32m━━━━━━━━━━━━━━━━━━━━\u001b[0m\u001b[37m\u001b[0m \u001b[1m42s\u001b[0m 181ms/step - accuracy: 0.7828 - f1_score: 0.7763 - loss: 0.5918 - precision: 0.8544 - recall: 0.7113 - val_accuracy: 0.8521 - val_f1_score: 0.8475 - val_loss: 0.4151 - val_precision: 0.8974 - val_recall: 0.8029\n",
      "Epoch 8/100\n",
      "\u001b[1m235/235\u001b[0m \u001b[32m━━━━━━━━━━━━━━━━━━━━\u001b[0m\u001b[37m\u001b[0m \u001b[1m43s\u001b[0m 185ms/step - accuracy: 0.8323 - f1_score: 0.8248 - loss: 0.4801 - precision: 0.8792 - recall: 0.7767 - val_accuracy: 0.8530 - val_f1_score: 0.8511 - val_loss: 0.4095 - val_precision: 0.9015 - val_recall: 0.8061\n",
      "Epoch 9/100\n",
      "\u001b[1m235/235\u001b[0m \u001b[32m━━━━━━━━━━━━━━━━━━━━\u001b[0m\u001b[37m\u001b[0m \u001b[1m42s\u001b[0m 180ms/step - accuracy: 0.8453 - f1_score: 0.8416 - loss: 0.4325 - precision: 0.8917 - recall: 0.7969 - val_accuracy: 0.8754 - val_f1_score: 0.8729 - val_loss: 0.3506 - val_precision: 0.9215 - val_recall: 0.8292\n",
      "Epoch 10/100\n",
      "\u001b[1m235/235\u001b[0m \u001b[32m━━━━━━━━━━━━━━━━━━━━\u001b[0m\u001b[37m\u001b[0m \u001b[1m42s\u001b[0m 180ms/step - accuracy: 0.8698 - f1_score: 0.8658 - loss: 0.3785 - precision: 0.9028 - recall: 0.8317 - val_accuracy: 0.9081 - val_f1_score: 0.9053 - val_loss: 0.2724 - val_precision: 0.9365 - val_recall: 0.8762\n",
      "Epoch 11/100\n",
      "\u001b[1m235/235\u001b[0m \u001b[32m━━━━━━━━━━━━━━━━━━━━\u001b[0m\u001b[37m\u001b[0m \u001b[1m43s\u001b[0m 185ms/step - accuracy: 0.8923 - f1_score: 0.8885 - loss: 0.3142 - precision: 0.9204 - recall: 0.8588 - val_accuracy: 0.9182 - val_f1_score: 0.9171 - val_loss: 0.2296 - val_precision: 0.9403 - val_recall: 0.8951\n",
      "Epoch 12/100\n",
      "\u001b[1m235/235\u001b[0m \u001b[32m━━━━━━━━━━━━━━━━━━━━\u001b[0m\u001b[37m\u001b[0m \u001b[1m43s\u001b[0m 181ms/step - accuracy: 0.9037 - f1_score: 0.9056 - loss: 0.2656 - precision: 0.9287 - recall: 0.8836 - val_accuracy: 0.8735 - val_f1_score: 0.8780 - val_loss: 0.3429 - val_precision: 0.8973 - val_recall: 0.8595\n",
      "Epoch 13/100\n",
      "\u001b[1m235/235\u001b[0m \u001b[32m━━━━━━━━━━━━━━━━━━━━\u001b[0m\u001b[37m\u001b[0m \u001b[1m42s\u001b[0m 180ms/step - accuracy: 0.8995 - f1_score: 0.9011 - loss: 0.2902 - precision: 0.9226 - recall: 0.8806 - val_accuracy: 0.9362 - val_f1_score: 0.9367 - val_loss: 0.1797 - val_precision: 0.9494 - val_recall: 0.9243\n",
      "Epoch 14/100\n",
      "\u001b[1m235/235\u001b[0m \u001b[32m━━━━━━━━━━━━━━━━━━━━\u001b[0m\u001b[37m\u001b[0m \u001b[1m42s\u001b[0m 179ms/step - accuracy: 0.9126 - f1_score: 0.9134 - loss: 0.2487 - precision: 0.9306 - recall: 0.8969 - val_accuracy: 0.9291 - val_f1_score: 0.9288 - val_loss: 0.2073 - val_precision: 0.9405 - val_recall: 0.9173\n",
      "Epoch 15/100\n",
      "\u001b[1m235/235\u001b[0m \u001b[32m━━━━━━━━━━━━━━━━━━━━\u001b[0m\u001b[37m\u001b[0m \u001b[1m43s\u001b[0m 182ms/step - accuracy: 0.9232 - f1_score: 0.9255 - loss: 0.2126 - precision: 0.9361 - recall: 0.9152 - val_accuracy: 0.9577 - val_f1_score: 0.9568 - val_loss: 0.1363 - val_precision: 0.9692 - val_recall: 0.9448\n",
      "Epoch 16/100\n",
      "\u001b[1m235/235\u001b[0m \u001b[32m━━━━━━━━━━━━━━━━━━━━\u001b[0m\u001b[37m\u001b[0m \u001b[1m43s\u001b[0m 181ms/step - accuracy: 0.9440 - f1_score: 0.9445 - loss: 0.1702 - precision: 0.9542 - recall: 0.9351 - val_accuracy: 0.9608 - val_f1_score: 0.9607 - val_loss: 0.1146 - val_precision: 0.9662 - val_recall: 0.9553\n",
      "Epoch 17/100\n",
      "\u001b[1m235/235\u001b[0m \u001b[32m━━━━━━━━━━━━━━━━━━━━\u001b[0m\u001b[37m\u001b[0m \u001b[1m45s\u001b[0m 193ms/step - accuracy: 0.9401 - f1_score: 0.9414 - loss: 0.1710 - precision: 0.9508 - recall: 0.9322 - val_accuracy: 0.9598 - val_f1_score: 0.9603 - val_loss: 0.1186 - val_precision: 0.9672 - val_recall: 0.9536\n",
      "Epoch 18/100\n",
      "\u001b[1m235/235\u001b[0m \u001b[32m━━━━━━━━━━━━━━━━━━━━\u001b[0m\u001b[37m\u001b[0m \u001b[1m47s\u001b[0m 201ms/step - accuracy: 0.9427 - f1_score: 0.9425 - loss: 0.1610 - precision: 0.9507 - recall: 0.9344 - val_accuracy: 0.9741 - val_f1_score: 0.9735 - val_loss: 0.0846 - val_precision: 0.9786 - val_recall: 0.9683\n",
      "Epoch 19/100\n",
      "\u001b[1m235/235\u001b[0m \u001b[32m━━━━━━━━━━━━━━━━━━━━\u001b[0m\u001b[37m\u001b[0m \u001b[1m45s\u001b[0m 193ms/step - accuracy: 0.9520 - f1_score: 0.9540 - loss: 0.1390 - precision: 0.9623 - recall: 0.9458 - val_accuracy: 0.9778 - val_f1_score: 0.9771 - val_loss: 0.0815 - val_precision: 0.9806 - val_recall: 0.9737\n",
      "Epoch 20/100\n",
      "\u001b[1m235/235\u001b[0m \u001b[32m━━━━━━━━━━━━━━━━━━━━\u001b[0m\u001b[37m\u001b[0m \u001b[1m44s\u001b[0m 189ms/step - accuracy: 0.9476 - f1_score: 0.9482 - loss: 0.1614 - precision: 0.9552 - recall: 0.9414 - val_accuracy: 0.9683 - val_f1_score: 0.9680 - val_loss: 0.1003 - val_precision: 0.9749 - val_recall: 0.9612\n",
      "Epoch 21/100\n",
      "\u001b[1m235/235\u001b[0m \u001b[32m━━━━━━━━━━━━━━━━━━━━\u001b[0m\u001b[37m\u001b[0m \u001b[1m46s\u001b[0m 194ms/step - accuracy: 0.9564 - f1_score: 0.9567 - loss: 0.1286 - precision: 0.9623 - recall: 0.9512 - val_accuracy: 0.9671 - val_f1_score: 0.9675 - val_loss: 0.0927 - val_precision: 0.9719 - val_recall: 0.9630\n",
      "Epoch 22/100\n",
      "\u001b[1m235/235\u001b[0m \u001b[32m━━━━━━━━━━━━━━━━━━━━\u001b[0m\u001b[37m\u001b[0m \u001b[1m45s\u001b[0m 193ms/step - accuracy: 0.9505 - f1_score: 0.9522 - loss: 0.1367 - precision: 0.9593 - recall: 0.9451 - val_accuracy: 0.9818 - val_f1_score: 0.9817 - val_loss: 0.0567 - val_precision: 0.9853 - val_recall: 0.9782\n",
      "Epoch 23/100\n",
      "\u001b[1m235/235\u001b[0m \u001b[32m━━━━━━━━━━━━━━━━━━━━\u001b[0m\u001b[37m\u001b[0m \u001b[1m48s\u001b[0m 203ms/step - accuracy: 0.9587 - f1_score: 0.9593 - loss: 0.1214 - precision: 0.9643 - recall: 0.9544 - val_accuracy: 0.9625 - val_f1_score: 0.9623 - val_loss: 0.1222 - val_precision: 0.9668 - val_recall: 0.9578\n",
      "Epoch 24/100\n",
      "\u001b[1m235/235\u001b[0m \u001b[32m━━━━━━━━━━━━━━━━━━━━\u001b[0m\u001b[37m\u001b[0m \u001b[1m43s\u001b[0m 184ms/step - accuracy: 0.9608 - f1_score: 0.9621 - loss: 0.1106 - precision: 0.9667 - recall: 0.9577 - val_accuracy: 0.9840 - val_f1_score: 0.9839 - val_loss: 0.0502 - val_precision: 0.9860 - val_recall: 0.9819\n",
      "Epoch 25/100\n",
      "\u001b[1m235/235\u001b[0m \u001b[32m━━━━━━━━━━━━━━━━━━━━\u001b[0m\u001b[37m\u001b[0m \u001b[1m43s\u001b[0m 184ms/step - accuracy: 0.9612 - f1_score: 0.9620 - loss: 0.1178 - precision: 0.9661 - recall: 0.9579 - val_accuracy: 0.9773 - val_f1_score: 0.9774 - val_loss: 0.0650 - val_precision: 0.9801 - val_recall: 0.9747\n",
      "Epoch 26/100\n",
      "\u001b[1m235/235\u001b[0m \u001b[32m━━━━━━━━━━━━━━━━━━━━\u001b[0m\u001b[37m\u001b[0m \u001b[1m43s\u001b[0m 184ms/step - accuracy: 0.9645 - f1_score: 0.9643 - loss: 0.1045 - precision: 0.9684 - recall: 0.9603 - val_accuracy: 0.9723 - val_f1_score: 0.9726 - val_loss: 0.0812 - val_precision: 0.9764 - val_recall: 0.9689\n",
      "Epoch 27/100\n",
      "\u001b[1m235/235\u001b[0m \u001b[32m━━━━━━━━━━━━━━━━━━━━\u001b[0m\u001b[37m\u001b[0m \u001b[1m43s\u001b[0m 182ms/step - accuracy: 0.9643 - f1_score: 0.9648 - loss: 0.1138 - precision: 0.9682 - recall: 0.9613 - val_accuracy: 0.9904 - val_f1_score: 0.9896 - val_loss: 0.0351 - val_precision: 0.9918 - val_recall: 0.9874\n",
      "Epoch 28/100\n",
      "\u001b[1m235/235\u001b[0m \u001b[32m━━━━━━━━━━━━━━━━━━━━\u001b[0m\u001b[37m\u001b[0m \u001b[1m43s\u001b[0m 181ms/step - accuracy: 0.9787 - f1_score: 0.9782 - loss: 0.0685 - precision: 0.9813 - recall: 0.9751 - val_accuracy: 0.9848 - val_f1_score: 0.9845 - val_loss: 0.0470 - val_precision: 0.9860 - val_recall: 0.9831\n",
      "Epoch 29/100\n",
      "\u001b[1m235/235\u001b[0m \u001b[32m━━━━━━━━━━━━━━━━━━━━\u001b[0m\u001b[37m\u001b[0m \u001b[1m44s\u001b[0m 186ms/step - accuracy: 0.9700 - f1_score: 0.9689 - loss: 0.0985 - precision: 0.9713 - recall: 0.9665 - val_accuracy: 0.9880 - val_f1_score: 0.9877 - val_loss: 0.0354 - val_precision: 0.9895 - val_recall: 0.9859\n",
      "Epoch 30/100\n",
      "\u001b[1m235/235\u001b[0m \u001b[32m━━━━━━━━━━━━━━━━━━━━\u001b[0m\u001b[37m\u001b[0m \u001b[1m44s\u001b[0m 189ms/step - accuracy: 0.9750 - f1_score: 0.9755 - loss: 0.0694 - precision: 0.9782 - recall: 0.9728 - val_accuracy: 0.9847 - val_f1_score: 0.9853 - val_loss: 0.0457 - val_precision: 0.9868 - val_recall: 0.9838\n",
      "Epoch 31/100\n",
      "\u001b[1m235/235\u001b[0m \u001b[32m━━━━━━━━━━━━━━━━━━━━\u001b[0m\u001b[37m\u001b[0m \u001b[1m43s\u001b[0m 182ms/step - accuracy: 0.9759 - f1_score: 0.9759 - loss: 0.0686 - precision: 0.9786 - recall: 0.9732 - val_accuracy: 0.9840 - val_f1_score: 0.9835 - val_loss: 0.0507 - val_precision: 0.9860 - val_recall: 0.9811\n",
      "Epoch 32/100\n",
      "\u001b[1m235/235\u001b[0m \u001b[32m━━━━━━━━━━━━━━━━━━━━\u001b[0m\u001b[37m\u001b[0m \u001b[1m44s\u001b[0m 186ms/step - accuracy: 0.9725 - f1_score: 0.9724 - loss: 0.0728 - precision: 0.9757 - recall: 0.9692 - val_accuracy: 0.9709 - val_f1_score: 0.9717 - val_loss: 0.0805 - val_precision: 0.9745 - val_recall: 0.9690\n",
      "Epoch 33/100\n",
      "\u001b[1m235/235\u001b[0m \u001b[32m━━━━━━━━━━━━━━━━━━━━\u001b[0m\u001b[37m\u001b[0m \u001b[1m54s\u001b[0m 230ms/step - accuracy: 0.9610 - f1_score: 0.9607 - loss: 0.1235 - precision: 0.9633 - recall: 0.9581 - val_accuracy: 0.9858 - val_f1_score: 0.9857 - val_loss: 0.0453 - val_precision: 0.9867 - val_recall: 0.9847\n",
      "Epoch 34/100\n",
      "\u001b[1m235/235\u001b[0m \u001b[32m━━━━━━━━━━━━━━━━━━━━\u001b[0m\u001b[37m\u001b[0m \u001b[1m46s\u001b[0m 197ms/step - accuracy: 0.9680 - f1_score: 0.9687 - loss: 0.1025 - precision: 0.9717 - recall: 0.9658 - val_accuracy: 0.9875 - val_f1_score: 0.9876 - val_loss: 0.0392 - val_precision: 0.9884 - val_recall: 0.9867\n",
      "Epoch 35/100\n",
      "\u001b[1m235/235\u001b[0m \u001b[32m━━━━━━━━━━━━━━━━━━━━\u001b[0m\u001b[37m\u001b[0m \u001b[1m44s\u001b[0m 186ms/step - accuracy: 0.9710 - f1_score: 0.9705 - loss: 0.0828 - precision: 0.9731 - recall: 0.9678 - val_accuracy: 0.9856 - val_f1_score: 0.9855 - val_loss: 0.0418 - val_precision: 0.9874 - val_recall: 0.9836\n",
      "Epoch 36/100\n",
      "\u001b[1m235/235\u001b[0m \u001b[32m━━━━━━━━━━━━━━━━━━━━\u001b[0m\u001b[37m\u001b[0m \u001b[1m43s\u001b[0m 183ms/step - accuracy: 0.9794 - f1_score: 0.9797 - loss: 0.0583 - precision: 0.9815 - recall: 0.9779 - val_accuracy: 0.9878 - val_f1_score: 0.9878 - val_loss: 0.0387 - val_precision: 0.9885 - val_recall: 0.9870\n",
      "Epoch 37/100\n",
      "\u001b[1m235/235\u001b[0m \u001b[32m━━━━━━━━━━━━━━━━━━━━\u001b[0m\u001b[37m\u001b[0m \u001b[1m43s\u001b[0m 183ms/step - accuracy: 0.9779 - f1_score: 0.9783 - loss: 0.0647 - precision: 0.9801 - recall: 0.9766 - val_accuracy: 0.9931 - val_f1_score: 0.9931 - val_loss: 0.0248 - val_precision: 0.9940 - val_recall: 0.9923\n",
      "Epoch 38/100\n",
      "\u001b[1m235/235\u001b[0m \u001b[32m━━━━━━━━━━━━━━━━━━━━\u001b[0m\u001b[37m\u001b[0m \u001b[1m44s\u001b[0m 186ms/step - accuracy: 0.9700 - f1_score: 0.9699 - loss: 0.0938 - precision: 0.9717 - recall: 0.9681 - val_accuracy: 0.9888 - val_f1_score: 0.9889 - val_loss: 0.0364 - val_precision: 0.9904 - val_recall: 0.9874\n",
      "Epoch 39/100\n",
      "\u001b[1m235/235\u001b[0m \u001b[32m━━━━━━━━━━━━━━━━━━━━\u001b[0m\u001b[37m\u001b[0m \u001b[1m45s\u001b[0m 193ms/step - accuracy: 0.9770 - f1_score: 0.9776 - loss: 0.0636 - precision: 0.9795 - recall: 0.9756 - val_accuracy: 0.9886 - val_f1_score: 0.9884 - val_loss: 0.0326 - val_precision: 0.9895 - val_recall: 0.9874\n",
      "Epoch 40/100\n",
      "\u001b[1m235/235\u001b[0m \u001b[32m━━━━━━━━━━━━━━━━━━━━\u001b[0m\u001b[37m\u001b[0m \u001b[1m44s\u001b[0m 186ms/step - accuracy: 0.9806 - f1_score: 0.9803 - loss: 0.0635 - precision: 0.9825 - recall: 0.9780 - val_accuracy: 0.9911 - val_f1_score: 0.9913 - val_loss: 0.0286 - val_precision: 0.9923 - val_recall: 0.9904\n",
      "Epoch 41/100\n",
      "\u001b[1m235/235\u001b[0m \u001b[32m━━━━━━━━━━━━━━━━━━━━\u001b[0m\u001b[37m\u001b[0m \u001b[1m43s\u001b[0m 183ms/step - accuracy: 0.9716 - f1_score: 0.9723 - loss: 0.0866 - precision: 0.9744 - recall: 0.9702 - val_accuracy: 0.9891 - val_f1_score: 0.9890 - val_loss: 0.0320 - val_precision: 0.9897 - val_recall: 0.9882\n",
      "Epoch 42/100\n",
      "\u001b[1m235/235\u001b[0m \u001b[32m━━━━━━━━━━━━━━━━━━━━\u001b[0m\u001b[37m\u001b[0m \u001b[1m44s\u001b[0m 188ms/step - accuracy: 0.9763 - f1_score: 0.9757 - loss: 0.0696 - precision: 0.9777 - recall: 0.9737 - val_accuracy: 0.9926 - val_f1_score: 0.9925 - val_loss: 0.0222 - val_precision: 0.9927 - val_recall: 0.9923\n",
      "Epoch 43/100\n",
      "\u001b[1m235/235\u001b[0m \u001b[32m━━━━━━━━━━━━━━━━━━━━\u001b[0m\u001b[37m\u001b[0m \u001b[1m44s\u001b[0m 187ms/step - accuracy: 0.9847 - f1_score: 0.9848 - loss: 0.0484 - precision: 0.9863 - recall: 0.9834 - val_accuracy: 0.9920 - val_f1_score: 0.9924 - val_loss: 0.0257 - val_precision: 0.9935 - val_recall: 0.9914\n",
      "Epoch 44/100\n",
      "\u001b[1m235/235\u001b[0m \u001b[32m━━━━━━━━━━━━━━━━━━━━\u001b[0m\u001b[37m\u001b[0m \u001b[1m46s\u001b[0m 198ms/step - accuracy: 0.9854 - f1_score: 0.9855 - loss: 0.0441 - precision: 0.9862 - recall: 0.9849 - val_accuracy: 0.9796 - val_f1_score: 0.9797 - val_loss: 0.0552 - val_precision: 0.9811 - val_recall: 0.9783\n",
      "Epoch 45/100\n",
      "\u001b[1m235/235\u001b[0m \u001b[32m━━━━━━━━━━━━━━━━━━━━\u001b[0m\u001b[37m\u001b[0m \u001b[1m25s\u001b[0m 105ms/step - accuracy: 0.9697 - f1_score: 0.9693 - loss: 0.0883 - precision: 0.9716 - recall: 0.9670 - val_accuracy: 0.9883 - val_f1_score: 0.9883 - val_loss: 0.0293 - val_precision: 0.9893 - val_recall: 0.9872\n",
      "Epoch 46/100\n",
      "\u001b[1m235/235\u001b[0m \u001b[32m━━━━━━━━━━━━━━━━━━━━\u001b[0m\u001b[37m\u001b[0m \u001b[1m46s\u001b[0m 125ms/step - accuracy: 0.9792 - f1_score: 0.9795 - loss: 0.0620 - precision: 0.9812 - recall: 0.9779 - val_accuracy: 0.9952 - val_f1_score: 0.9951 - val_loss: 0.0141 - val_precision: 0.9952 - val_recall: 0.9949\n",
      "Epoch 47/100\n",
      "\u001b[1m235/235\u001b[0m \u001b[32m━━━━━━━━━━━━━━━━━━━━\u001b[0m\u001b[37m\u001b[0m \u001b[1m28s\u001b[0m 120ms/step - accuracy: 0.9877 - f1_score: 0.9881 - loss: 0.0426 - precision: 0.9889 - recall: 0.9872 - val_accuracy: 0.9911 - val_f1_score: 0.9913 - val_loss: 0.0270 - val_precision: 0.9921 - val_recall: 0.9904\n",
      "Epoch 48/100\n",
      "\u001b[1m235/235\u001b[0m \u001b[32m━━━━━━━━━━━━━━━━━━━━\u001b[0m\u001b[37m\u001b[0m \u001b[1m28s\u001b[0m 121ms/step - accuracy: 0.9844 - f1_score: 0.9840 - loss: 0.0486 - precision: 0.9857 - recall: 0.9823 - val_accuracy: 0.9928 - val_f1_score: 0.9927 - val_loss: 0.0258 - val_precision: 0.9936 - val_recall: 0.9919\n",
      "Epoch 49/100\n",
      "\u001b[1m235/235\u001b[0m \u001b[32m━━━━━━━━━━━━━━━━━━━━\u001b[0m\u001b[37m\u001b[0m \u001b[1m32s\u001b[0m 137ms/step - accuracy: 0.9765 - f1_score: 0.9774 - loss: 0.0668 - precision: 0.9791 - recall: 0.9756 - val_accuracy: 0.9888 - val_f1_score: 0.9886 - val_loss: 0.0319 - val_precision: 0.9893 - val_recall: 0.9879\n",
      "Epoch 50/100\n",
      "\u001b[1m235/235\u001b[0m \u001b[32m━━━━━━━━━━━━━━━━━━━━\u001b[0m\u001b[37m\u001b[0m \u001b[1m34s\u001b[0m 145ms/step - accuracy: 0.9803 - f1_score: 0.9811 - loss: 0.0576 - precision: 0.9821 - recall: 0.9801 - val_accuracy: 0.9867 - val_f1_score: 0.9866 - val_loss: 0.0408 - val_precision: 0.9871 - val_recall: 0.9862\n",
      "Epoch 51/100\n",
      "\u001b[1m235/235\u001b[0m \u001b[32m━━━━━━━━━━━━━━━━━━━━\u001b[0m\u001b[37m\u001b[0m \u001b[1m33s\u001b[0m 142ms/step - accuracy: 0.9817 - f1_score: 0.9816 - loss: 0.0580 - precision: 0.9824 - recall: 0.9808 - val_accuracy: 0.9930 - val_f1_score: 0.9930 - val_loss: 0.0234 - val_precision: 0.9935 - val_recall: 0.9926\n",
      "Epoch 52/100\n",
      "\u001b[1m235/235\u001b[0m \u001b[32m━━━━━━━━━━━━━━━━━━━━\u001b[0m\u001b[37m\u001b[0m \u001b[1m31s\u001b[0m 131ms/step - accuracy: 0.9799 - f1_score: 0.9800 - loss: 0.0543 - precision: 0.9815 - recall: 0.9786 - val_accuracy: 0.9904 - val_f1_score: 0.9902 - val_loss: 0.0317 - val_precision: 0.9908 - val_recall: 0.9895\n",
      "Epoch 53/100\n",
      "\u001b[1m235/235\u001b[0m \u001b[32m━━━━━━━━━━━━━━━━━━━━\u001b[0m\u001b[37m\u001b[0m \u001b[1m30s\u001b[0m 126ms/step - accuracy: 0.9826 - f1_score: 0.9830 - loss: 0.0550 - precision: 0.9842 - recall: 0.9819 - val_accuracy: 0.9927 - val_f1_score: 0.9926 - val_loss: 0.0210 - val_precision: 0.9927 - val_recall: 0.9926\n",
      "Epoch 54/100\n",
      "\u001b[1m235/235\u001b[0m \u001b[32m━━━━━━━━━━━━━━━━━━━━\u001b[0m\u001b[37m\u001b[0m \u001b[1m30s\u001b[0m 128ms/step - accuracy: 0.9827 - f1_score: 0.9824 - loss: 0.0513 - precision: 0.9831 - recall: 0.9816 - val_accuracy: 0.9854 - val_f1_score: 0.9859 - val_loss: 0.0428 - val_precision: 0.9875 - val_recall: 0.9843\n",
      "Epoch 55/100\n",
      "\u001b[1m235/235\u001b[0m \u001b[32m━━━━━━━━━━━━━━━━━━━━\u001b[0m\u001b[37m\u001b[0m \u001b[1m32s\u001b[0m 137ms/step - accuracy: 0.9776 - f1_score: 0.9774 - loss: 0.0695 - precision: 0.9785 - recall: 0.9763 - val_accuracy: 0.9927 - val_f1_score: 0.9928 - val_loss: 0.0208 - val_precision: 0.9932 - val_recall: 0.9924\n",
      "Epoch 56/100\n",
      "\u001b[1m235/235\u001b[0m \u001b[32m━━━━━━━━━━━━━━━━━━━━\u001b[0m\u001b[37m\u001b[0m \u001b[1m33s\u001b[0m 138ms/step - accuracy: 0.9858 - f1_score: 0.9857 - loss: 0.0465 - precision: 0.9866 - recall: 0.9848 - val_accuracy: 0.9955 - val_f1_score: 0.9954 - val_loss: 0.0134 - val_precision: 0.9959 - val_recall: 0.9949\n",
      "Epoch 57/100\n",
      "\u001b[1m235/235\u001b[0m \u001b[32m━━━━━━━━━━━━━━━━━━━━\u001b[0m\u001b[37m\u001b[0m \u001b[1m36s\u001b[0m 155ms/step - accuracy: 0.9900 - f1_score: 0.9900 - loss: 0.0327 - precision: 0.9905 - recall: 0.9896 - val_accuracy: 0.9945 - val_f1_score: 0.9946 - val_loss: 0.0151 - val_precision: 0.9947 - val_recall: 0.9945\n",
      "Epoch 58/100\n",
      "\u001b[1m235/235\u001b[0m \u001b[32m━━━━━━━━━━━━━━━━━━━━\u001b[0m\u001b[37m\u001b[0m \u001b[1m36s\u001b[0m 153ms/step - accuracy: 0.9828 - f1_score: 0.9830 - loss: 0.0494 - precision: 0.9835 - recall: 0.9825 - val_accuracy: 0.9928 - val_f1_score: 0.9933 - val_loss: 0.0241 - val_precision: 0.9941 - val_recall: 0.9926\n",
      "Epoch 59/100\n",
      "\u001b[1m235/235\u001b[0m \u001b[32m━━━━━━━━━━━━━━━━━━━━\u001b[0m\u001b[37m\u001b[0m \u001b[1m39s\u001b[0m 165ms/step - accuracy: 0.9795 - f1_score: 0.9799 - loss: 0.0749 - precision: 0.9809 - recall: 0.9788 - val_accuracy: 0.9944 - val_f1_score: 0.9941 - val_loss: 0.0185 - val_precision: 0.9948 - val_recall: 0.9935\n",
      "Epoch 60/100\n",
      "\u001b[1m235/235\u001b[0m \u001b[32m━━━━━━━━━━━━━━━━━━━━\u001b[0m\u001b[37m\u001b[0m \u001b[1m37s\u001b[0m 158ms/step - accuracy: 0.9918 - f1_score: 0.9919 - loss: 0.0288 - precision: 0.9927 - recall: 0.9911 - val_accuracy: 0.9926 - val_f1_score: 0.9925 - val_loss: 0.0248 - val_precision: 0.9929 - val_recall: 0.9920\n",
      "Epoch 61/100\n",
      "\u001b[1m235/235\u001b[0m \u001b[32m━━━━━━━━━━━━━━━━━━━━\u001b[0m\u001b[37m\u001b[0m \u001b[1m32s\u001b[0m 135ms/step - accuracy: 0.9882 - f1_score: 0.9883 - loss: 0.0391 - precision: 0.9890 - recall: 0.9875 - val_accuracy: 0.9932 - val_f1_score: 0.9933 - val_loss: 0.0213 - val_precision: 0.9935 - val_recall: 0.9931\n",
      "Epoch 62/100\n",
      "\u001b[1m235/235\u001b[0m \u001b[32m━━━━━━━━━━━━━━━━━━━━\u001b[0m\u001b[37m\u001b[0m \u001b[1m32s\u001b[0m 136ms/step - accuracy: 0.9872 - f1_score: 0.9871 - loss: 0.0435 - precision: 0.9877 - recall: 0.9865 - val_accuracy: 0.9965 - val_f1_score: 0.9965 - val_loss: 0.0111 - val_precision: 0.9968 - val_recall: 0.9961\n",
      "Epoch 63/100\n",
      "\u001b[1m235/235\u001b[0m \u001b[32m━━━━━━━━━━━━━━━━━━━━\u001b[0m\u001b[37m\u001b[0m \u001b[1m33s\u001b[0m 142ms/step - accuracy: 0.9855 - f1_score: 0.9847 - loss: 0.0432 - precision: 0.9862 - recall: 0.9832 - val_accuracy: 0.9949 - val_f1_score: 0.9949 - val_loss: 0.0166 - val_precision: 0.9951 - val_recall: 0.9948\n",
      "Epoch 64/100\n",
      "\u001b[1m235/235\u001b[0m \u001b[32m━━━━━━━━━━━━━━━━━━━━\u001b[0m\u001b[37m\u001b[0m \u001b[1m38s\u001b[0m 162ms/step - accuracy: 0.9899 - f1_score: 0.9897 - loss: 0.0353 - precision: 0.9902 - recall: 0.9892 - val_accuracy: 0.9945 - val_f1_score: 0.9945 - val_loss: 0.0159 - val_precision: 0.9949 - val_recall: 0.9941\n",
      "Epoch 65/100\n",
      "\u001b[1m235/235\u001b[0m \u001b[32m━━━━━━━━━━━━━━━━━━━━\u001b[0m\u001b[37m\u001b[0m \u001b[1m39s\u001b[0m 168ms/step - accuracy: 0.9842 - f1_score: 0.9840 - loss: 0.0549 - precision: 0.9847 - recall: 0.9833 - val_accuracy: 0.9972 - val_f1_score: 0.9973 - val_loss: 0.0081 - val_precision: 0.9976 - val_recall: 0.9971\n",
      "Epoch 66/100\n",
      "\u001b[1m235/235\u001b[0m \u001b[32m━━━━━━━━━━━━━━━━━━━━\u001b[0m\u001b[37m\u001b[0m \u001b[1m35s\u001b[0m 151ms/step - accuracy: 0.9867 - f1_score: 0.9869 - loss: 0.0434 - precision: 0.9877 - recall: 0.9860 - val_accuracy: 0.9915 - val_f1_score: 0.9915 - val_loss: 0.0257 - val_precision: 0.9920 - val_recall: 0.9910\n",
      "Epoch 67/100\n",
      "\u001b[1m235/235\u001b[0m \u001b[32m━━━━━━━━━━━━━━━━━━━━\u001b[0m\u001b[37m\u001b[0m \u001b[1m34s\u001b[0m 145ms/step - accuracy: 0.9867 - f1_score: 0.9868 - loss: 0.0425 - precision: 0.9877 - recall: 0.9859 - val_accuracy: 0.9864 - val_f1_score: 0.9865 - val_loss: 0.0401 - val_precision: 0.9871 - val_recall: 0.9859\n",
      "Epoch 68/100\n",
      "\u001b[1m235/235\u001b[0m \u001b[32m━━━━━━━━━━━━━━━━━━━━\u001b[0m\u001b[37m\u001b[0m \u001b[1m35s\u001b[0m 147ms/step - accuracy: 0.9840 - f1_score: 0.9842 - loss: 0.0480 - precision: 0.9849 - recall: 0.9835 - val_accuracy: 0.9949 - val_f1_score: 0.9948 - val_loss: 0.0147 - val_precision: 0.9951 - val_recall: 0.9945\n",
      "Epoch 69/100\n",
      "\u001b[1m235/235\u001b[0m \u001b[32m━━━━━━━━━━━━━━━━━━━━\u001b[0m\u001b[37m\u001b[0m \u001b[1m37s\u001b[0m 156ms/step - accuracy: 0.9882 - f1_score: 0.9881 - loss: 0.0349 - precision: 0.9886 - recall: 0.9876 - val_accuracy: 0.9953 - val_f1_score: 0.9955 - val_loss: 0.0146 - val_precision: 0.9957 - val_recall: 0.9952\n",
      "Epoch 70/100\n",
      "\u001b[1m235/235\u001b[0m \u001b[32m━━━━━━━━━━━━━━━━━━━━\u001b[0m\u001b[37m\u001b[0m \u001b[1m39s\u001b[0m 167ms/step - accuracy: 0.9866 - f1_score: 0.9869 - loss: 0.0343 - precision: 0.9880 - recall: 0.9859 - val_accuracy: 0.9900 - val_f1_score: 0.9903 - val_loss: 0.0286 - val_precision: 0.9913 - val_recall: 0.9894\n",
      "Epoch 71/100\n",
      "\u001b[1m235/235\u001b[0m \u001b[32m━━━━━━━━━━━━━━━━━━━━\u001b[0m\u001b[37m\u001b[0m \u001b[1m38s\u001b[0m 162ms/step - accuracy: 0.9805 - f1_score: 0.9807 - loss: 0.0552 - precision: 0.9820 - recall: 0.9795 - val_accuracy: 0.9956 - val_f1_score: 0.9957 - val_loss: 0.0118 - val_precision: 0.9960 - val_recall: 0.9955\n",
      "Epoch 72/100\n",
      "\u001b[1m235/235\u001b[0m \u001b[32m━━━━━━━━━━━━━━━━━━━━\u001b[0m\u001b[37m\u001b[0m \u001b[1m40s\u001b[0m 172ms/step - accuracy: 0.9797 - f1_score: 0.9800 - loss: 0.0618 - precision: 0.9810 - recall: 0.9791 - val_accuracy: 0.9949 - val_f1_score: 0.9951 - val_loss: 0.0139 - val_precision: 0.9952 - val_recall: 0.9949\n",
      "Epoch 73/100\n",
      "\u001b[1m235/235\u001b[0m \u001b[32m━━━━━━━━━━━━━━━━━━━━\u001b[0m\u001b[37m\u001b[0m \u001b[1m36s\u001b[0m 153ms/step - accuracy: 0.9900 - f1_score: 0.9900 - loss: 0.0296 - precision: 0.9907 - recall: 0.9892 - val_accuracy: 0.9963 - val_f1_score: 0.9962 - val_loss: 0.0145 - val_precision: 0.9964 - val_recall: 0.9960\n",
      "Epoch 74/100\n",
      "\u001b[1m235/235\u001b[0m \u001b[32m━━━━━━━━━━━━━━━━━━━━\u001b[0m\u001b[37m\u001b[0m \u001b[1m35s\u001b[0m 151ms/step - accuracy: 0.9881 - f1_score: 0.9879 - loss: 0.0332 - precision: 0.9895 - recall: 0.9863 - val_accuracy: 0.9972 - val_f1_score: 0.9971 - val_loss: 0.0107 - val_precision: 0.9972 - val_recall: 0.9971\n",
      "Epoch 75/100\n",
      "\u001b[1m235/235\u001b[0m \u001b[32m━━━━━━━━━━━━━━━━━━━━\u001b[0m\u001b[37m\u001b[0m \u001b[1m35s\u001b[0m 150ms/step - accuracy: 0.9894 - f1_score: 0.9894 - loss: 0.0296 - precision: 0.9901 - recall: 0.9888 - val_accuracy: 0.9916 - val_f1_score: 0.9918 - val_loss: 0.0245 - val_precision: 0.9924 - val_recall: 0.9912\n",
      "Epoch 76/100\n",
      "\u001b[1m235/235\u001b[0m \u001b[32m━━━━━━━━━━━━━━━━━━━━\u001b[0m\u001b[37m\u001b[0m \u001b[1m38s\u001b[0m 160ms/step - accuracy: 0.9818 - f1_score: 0.9815 - loss: 0.0601 - precision: 0.9822 - recall: 0.9808 - val_accuracy: 0.9939 - val_f1_score: 0.9938 - val_loss: 0.0201 - val_precision: 0.9940 - val_recall: 0.9936\n",
      "Epoch 77/100\n",
      "\u001b[1m235/235\u001b[0m \u001b[32m━━━━━━━━━━━━━━━━━━━━\u001b[0m\u001b[37m\u001b[0m \u001b[1m40s\u001b[0m 169ms/step - accuracy: 0.9898 - f1_score: 0.9901 - loss: 0.0301 - precision: 0.9906 - recall: 0.9895 - val_accuracy: 0.9961 - val_f1_score: 0.9962 - val_loss: 0.0104 - val_precision: 0.9964 - val_recall: 0.9960\n",
      "Epoch 78/100\n",
      "\u001b[1m235/235\u001b[0m \u001b[32m━━━━━━━━━━━━━━━━━━━━\u001b[0m\u001b[37m\u001b[0m \u001b[1m41s\u001b[0m 172ms/step - accuracy: 0.9852 - f1_score: 0.9847 - loss: 0.0449 - precision: 0.9855 - recall: 0.9839 - val_accuracy: 0.9916 - val_f1_score: 0.9916 - val_loss: 0.0232 - val_precision: 0.9916 - val_recall: 0.9916\n",
      "Epoch 79/100\n",
      "\u001b[1m235/235\u001b[0m \u001b[32m━━━━━━━━━━━━━━━━━━━━\u001b[0m\u001b[37m\u001b[0m \u001b[1m33s\u001b[0m 141ms/step - accuracy: 0.9851 - f1_score: 0.9851 - loss: 0.0396 - precision: 0.9858 - recall: 0.9844 - val_accuracy: 0.9927 - val_f1_score: 0.9927 - val_loss: 0.0241 - val_precision: 0.9929 - val_recall: 0.9926\n",
      "Epoch 80/100\n",
      "\u001b[1m235/235\u001b[0m \u001b[32m━━━━━━━━━━━━━━━━━━━━\u001b[0m\u001b[37m\u001b[0m \u001b[1m32s\u001b[0m 138ms/step - accuracy: 0.9876 - f1_score: 0.9877 - loss: 0.0455 - precision: 0.9881 - recall: 0.9872 - val_accuracy: 0.9971 - val_f1_score: 0.9970 - val_loss: 0.0090 - val_precision: 0.9972 - val_recall: 0.9968\n",
      "Epoch 81/100\n",
      "\u001b[1m235/235\u001b[0m \u001b[32m━━━━━━━━━━━━━━━━━━━━\u001b[0m\u001b[37m\u001b[0m \u001b[1m35s\u001b[0m 151ms/step - accuracy: 0.9904 - f1_score: 0.9902 - loss: 0.0337 - precision: 0.9908 - recall: 0.9896 - val_accuracy: 0.9924 - val_f1_score: 0.9923 - val_loss: 0.0200 - val_precision: 0.9927 - val_recall: 0.9919\n",
      "Epoch 82/100\n",
      "\u001b[1m235/235\u001b[0m \u001b[32m━━━━━━━━━━━━━━━━━━━━\u001b[0m\u001b[37m\u001b[0m \u001b[1m33s\u001b[0m 139ms/step - accuracy: 0.9886 - f1_score: 0.9888 - loss: 0.0386 - precision: 0.9894 - recall: 0.9882 - val_accuracy: 0.9984 - val_f1_score: 0.9983 - val_loss: 0.0061 - val_precision: 0.9984 - val_recall: 0.9983\n",
      "Epoch 83/100\n",
      "\u001b[1m235/235\u001b[0m \u001b[32m━━━━━━━━━━━━━━━━━━━━\u001b[0m\u001b[37m\u001b[0m \u001b[1m32s\u001b[0m 138ms/step - accuracy: 0.9905 - f1_score: 0.9902 - loss: 0.0305 - precision: 0.9911 - recall: 0.9893 - val_accuracy: 0.9943 - val_f1_score: 0.9945 - val_loss: 0.0156 - val_precision: 0.9947 - val_recall: 0.9943\n",
      "Epoch 84/100\n",
      "\u001b[1m235/235\u001b[0m \u001b[32m━━━━━━━━━━━━━━━━━━━━\u001b[0m\u001b[37m\u001b[0m \u001b[1m32s\u001b[0m 138ms/step - accuracy: 0.9842 - f1_score: 0.9847 - loss: 0.0524 - precision: 0.9857 - recall: 0.9836 - val_accuracy: 0.9903 - val_f1_score: 0.9902 - val_loss: 0.0307 - val_precision: 0.9905 - val_recall: 0.9898\n",
      "Epoch 85/100\n",
      "\u001b[1m235/235\u001b[0m \u001b[32m━━━━━━━━━━━━━━━━━━━━\u001b[0m\u001b[37m\u001b[0m \u001b[1m33s\u001b[0m 140ms/step - accuracy: 0.9901 - f1_score: 0.9899 - loss: 0.0355 - precision: 0.9903 - recall: 0.9895 - val_accuracy: 0.9971 - val_f1_score: 0.9970 - val_loss: 0.0108 - val_precision: 0.9972 - val_recall: 0.9968\n",
      "Epoch 86/100\n",
      "\u001b[1m235/235\u001b[0m \u001b[32m━━━━━━━━━━━━━━━━━━━━\u001b[0m\u001b[37m\u001b[0m \u001b[1m32s\u001b[0m 137ms/step - accuracy: 0.9944 - f1_score: 0.9941 - loss: 0.0253 - precision: 0.9948 - recall: 0.9933 - val_accuracy: 0.9956 - val_f1_score: 0.9956 - val_loss: 0.0119 - val_precision: 0.9957 - val_recall: 0.9955\n",
      "Epoch 87/100\n",
      "\u001b[1m235/235\u001b[0m \u001b[32m━━━━━━━━━━━━━━━━━━━━\u001b[0m\u001b[37m\u001b[0m \u001b[1m35s\u001b[0m 148ms/step - accuracy: 0.9895 - f1_score: 0.9898 - loss: 0.0319 - precision: 0.9901 - recall: 0.9894 - val_accuracy: 0.9961 - val_f1_score: 0.9961 - val_loss: 0.0106 - val_precision: 0.9961 - val_recall: 0.9960\n",
      "Epoch 88/100\n",
      "\u001b[1m235/235\u001b[0m \u001b[32m━━━━━━━━━━━━━━━━━━━━\u001b[0m\u001b[37m\u001b[0m \u001b[1m46s\u001b[0m 197ms/step - accuracy: 0.9878 - f1_score: 0.9878 - loss: 0.0418 - precision: 0.9879 - recall: 0.9877 - val_accuracy: 0.9969 - val_f1_score: 0.9969 - val_loss: 0.0090 - val_precision: 0.9971 - val_recall: 0.9968\n",
      "Epoch 89/100\n",
      "\u001b[1m235/235\u001b[0m \u001b[32m━━━━━━━━━━━━━━━━━━━━\u001b[0m\u001b[37m\u001b[0m \u001b[1m54s\u001b[0m 231ms/step - accuracy: 0.9888 - f1_score: 0.9891 - loss: 0.0377 - precision: 0.9893 - recall: 0.9888 - val_accuracy: 0.9903 - val_f1_score: 0.9906 - val_loss: 0.0489 - val_precision: 0.9912 - val_recall: 0.9900\n",
      "Epoch 90/100\n",
      "\u001b[1m235/235\u001b[0m \u001b[32m━━━━━━━━━━━━━━━━━━━━\u001b[0m\u001b[37m\u001b[0m \u001b[1m53s\u001b[0m 226ms/step - accuracy: 0.9856 - f1_score: 0.9859 - loss: 0.0404 - precision: 0.9866 - recall: 0.9851 - val_accuracy: 0.9963 - val_f1_score: 0.9962 - val_loss: 0.0113 - val_precision: 0.9964 - val_recall: 0.9960\n",
      "Epoch 91/100\n",
      "\u001b[1m235/235\u001b[0m \u001b[32m━━━━━━━━━━━━━━━━━━━━\u001b[0m\u001b[37m\u001b[0m \u001b[1m53s\u001b[0m 227ms/step - accuracy: 0.9879 - f1_score: 0.9873 - loss: 0.0397 - precision: 0.9884 - recall: 0.9861 - val_accuracy: 0.9871 - val_f1_score: 0.9870 - val_loss: 0.0378 - val_precision: 0.9875 - val_recall: 0.9864\n",
      "Epoch 92/100\n",
      "\u001b[1m235/235\u001b[0m \u001b[32m━━━━━━━━━━━━━━━━━━━━\u001b[0m\u001b[37m\u001b[0m \u001b[1m54s\u001b[0m 231ms/step - accuracy: 0.9889 - f1_score: 0.9890 - loss: 0.0336 - precision: 0.9897 - recall: 0.9884 - val_accuracy: 0.9968 - val_f1_score: 0.9968 - val_loss: 0.0081 - val_precision: 0.9971 - val_recall: 0.9965\n",
      "Epoch 93/100\n",
      "\u001b[1m235/235\u001b[0m \u001b[32m━━━━━━━━━━━━━━━━━━━━\u001b[0m\u001b[37m\u001b[0m \u001b[1m54s\u001b[0m 229ms/step - accuracy: 0.9914 - f1_score: 0.9915 - loss: 0.0322 - precision: 0.9918 - recall: 0.9911 - val_accuracy: 0.9874 - val_f1_score: 0.9874 - val_loss: 0.0401 - val_precision: 0.9883 - val_recall: 0.9866\n",
      "Epoch 94/100\n",
      "\u001b[1m235/235\u001b[0m \u001b[32m━━━━━━━━━━━━━━━━━━━━\u001b[0m\u001b[37m\u001b[0m \u001b[1m54s\u001b[0m 232ms/step - accuracy: 0.9854 - f1_score: 0.9853 - loss: 0.0592 - precision: 0.9861 - recall: 0.9845 - val_accuracy: 0.9951 - val_f1_score: 0.9954 - val_loss: 0.0118 - val_precision: 0.9957 - val_recall: 0.9951\n",
      "Epoch 95/100\n",
      "\u001b[1m235/235\u001b[0m \u001b[32m━━━━━━━━━━━━━━━━━━━━\u001b[0m\u001b[37m\u001b[0m \u001b[1m53s\u001b[0m 227ms/step - accuracy: 0.9919 - f1_score: 0.9919 - loss: 0.0266 - precision: 0.9919 - recall: 0.9919 - val_accuracy: 0.9930 - val_f1_score: 0.9929 - val_loss: 0.0207 - val_precision: 0.9933 - val_recall: 0.9926\n",
      "Epoch 96/100\n",
      "\u001b[1m235/235\u001b[0m \u001b[32m━━━━━━━━━━━━━━━━━━━━\u001b[0m\u001b[37m\u001b[0m \u001b[1m53s\u001b[0m 225ms/step - accuracy: 0.9924 - f1_score: 0.9923 - loss: 0.0233 - precision: 0.9924 - recall: 0.9923 - val_accuracy: 0.9961 - val_f1_score: 0.9961 - val_loss: 0.0090 - val_precision: 0.9961 - val_recall: 0.9961\n",
      "Epoch 97/100\n",
      "\u001b[1m235/235\u001b[0m \u001b[32m━━━━━━━━━━━━━━━━━━━━\u001b[0m\u001b[37m\u001b[0m \u001b[1m53s\u001b[0m 226ms/step - accuracy: 0.9919 - f1_score: 0.9920 - loss: 0.0231 - precision: 0.9922 - recall: 0.9917 - val_accuracy: 0.9935 - val_f1_score: 0.9935 - val_loss: 0.0192 - val_precision: 0.9936 - val_recall: 0.9933\n",
      "Epoch 98/100\n",
      "\u001b[1m235/235\u001b[0m \u001b[32m━━━━━━━━━━━━━━━━━━━━\u001b[0m\u001b[37m\u001b[0m \u001b[1m53s\u001b[0m 226ms/step - accuracy: 0.9908 - f1_score: 0.9908 - loss: 0.0251 - precision: 0.9913 - recall: 0.9902 - val_accuracy: 0.9556 - val_f1_score: 0.9559 - val_loss: 0.1903 - val_precision: 0.9567 - val_recall: 0.9552\n",
      "Epoch 99/100\n",
      "\u001b[1m235/235\u001b[0m \u001b[32m━━━━━━━━━━━━━━━━━━━━\u001b[0m\u001b[37m\u001b[0m \u001b[1m53s\u001b[0m 227ms/step - accuracy: 0.9811 - f1_score: 0.9812 - loss: 0.0782 - precision: 0.9814 - recall: 0.9810 - val_accuracy: 0.9965 - val_f1_score: 0.9965 - val_loss: 0.0105 - val_precision: 0.9965 - val_recall: 0.9964\n",
      "Epoch 100/100\n",
      "\u001b[1m235/235\u001b[0m \u001b[32m━━━━━━━━━━━━━━━━━━━━\u001b[0m\u001b[37m\u001b[0m \u001b[1m53s\u001b[0m 227ms/step - accuracy: 0.9830 - f1_score: 0.9832 - loss: 0.0493 - precision: 0.9834 - recall: 0.9829 - val_accuracy: 0.9922 - val_f1_score: 0.9924 - val_loss: 0.0252 - val_precision: 0.9925 - val_recall: 0.9922\n"
     ]
    }
   ],
   "source": [
    "# Train the model\n",
    "history = cnn.fit(\n",
    "    x=training_set,\n",
    "    validation_data=validation_set,\n",
    "    epochs=100\n",
    ")"
   ]
  },
  {
   "cell_type": "code",
   "execution_count": 10,
   "id": "7781e134-5726-4038-8e87-4a117c67ac05",
   "metadata": {},
   "outputs": [],
   "source": [
    "# Save Loss plot\n",
    "plt.figure()\n",
    "plt.plot(history.history['loss'], label='Train Loss')\n",
    "plt.plot(history.history['val_loss'], label='Validation Loss')\n",
    "plt.legend()\n",
    "plt.title(\"Loss\")\n",
    "plt.xlabel('Epochs')\n",
    "plt.ylabel('Loss')\n",
    "plt.savefig('loss_plot_cnn.png')  # Save the plot as a PNG file\n",
    "plt.close()\n",
    "\n",
    "# Save Accuracy plot\n",
    "plt.figure()\n",
    "plt.plot(history.history['accuracy'], label='Train Accuracy')\n",
    "plt.plot(history.history['val_accuracy'], label='Validation Accuracy')\n",
    "plt.legend()\n",
    "plt.title(\"Accuracy\")\n",
    "plt.xlabel('Epochs')\n",
    "plt.ylabel('Accuracy')\n",
    "plt.savefig('accuracy_plot_cnn.png')  # Save the plot as a PNG file\n",
    "plt.close()\n",
    "\n",
    "# Save Precision plot\n",
    "plt.figure()\n",
    "plt.plot(history.history['precision'], label='Train Precision')\n",
    "plt.plot(history.history['val_precision'], label='Validation Precision')\n",
    "plt.legend()\n",
    "plt.title(\"Precision\")\n",
    "plt.xlabel('Epochs')\n",
    "plt.ylabel('Precision')\n",
    "plt.savefig('precision_plot_cnn.png')  # Save the plot as a PNG file\n",
    "plt.close()\n",
    "\n",
    "# Save Recall plot\n",
    "plt.figure()\n",
    "plt.plot(history.history['recall'], label='Train Recall')\n",
    "plt.plot(history.history['val_recall'], label='Validation Recall')\n",
    "plt.legend()\n",
    "plt.title(\"Recall\")\n",
    "plt.xlabel('Epochs')\n",
    "plt.ylabel('Recall')\n",
    "plt.savefig('recall_plot_cnn.png')  # Save the plot as a PNG file\n",
    "plt.close()\n",
    "\n",
    "# Save F1 Score plot\n",
    "plt.figure()\n",
    "plt.plot(history.history['f1_score'], label='Train F1 Score')\n",
    "plt.plot(history.history['val_f1_score'], label='Validation F1 Score')\n",
    "plt.legend()\n",
    "plt.title(\"F1 Score\")\n",
    "plt.xlabel('Epochs')\n",
    "plt.ylabel('F1 Score')\n",
    "plt.savefig('f1_score_plot_cnn.png')  # Save the plot as a PNG file\n",
    "plt.close()"
   ]
  },
  {
   "cell_type": "code",
   "execution_count": 11,
   "id": "b7ec11d7-3736-4cad-b9c3-cd93c4c70a4f",
   "metadata": {},
   "outputs": [
    {
     "data": {
      "text/html": [
       "<pre style=\"white-space:pre;overflow-x:auto;line-height:normal;font-family:Menlo,'DejaVu Sans Mono',consolas,'Courier New',monospace\"><span style=\"font-weight: bold\">Model: \"sequential\"</span>\n",
       "</pre>\n"
      ],
      "text/plain": [
       "\u001b[1mModel: \"sequential\"\u001b[0m\n"
      ]
     },
     "metadata": {},
     "output_type": "display_data"
    },
    {
     "data": {
      "text/html": [
       "<pre style=\"white-space:pre;overflow-x:auto;line-height:normal;font-family:Menlo,'DejaVu Sans Mono',consolas,'Courier New',monospace\">┏━━━━━━━━━━━━━━━━━━━━━━━━━━━━━━━━━━━━━━┳━━━━━━━━━━━━━━━━━━━━━━━━━━━━━┳━━━━━━━━━━━━━━━━━┓\n",
       "┃<span style=\"font-weight: bold\"> Layer (type)                         </span>┃<span style=\"font-weight: bold\"> Output Shape                </span>┃<span style=\"font-weight: bold\">         Param # </span>┃\n",
       "┡━━━━━━━━━━━━━━━━━━━━━━━━━━━━━━━━━━━━━━╇━━━━━━━━━━━━━━━━━━━━━━━━━━━━━╇━━━━━━━━━━━━━━━━━┩\n",
       "│ conv2d (<span style=\"color: #0087ff; text-decoration-color: #0087ff\">Conv2D</span>)                      │ (<span style=\"color: #00d7ff; text-decoration-color: #00d7ff\">None</span>, <span style=\"color: #00af00; text-decoration-color: #00af00\">62</span>, <span style=\"color: #00af00; text-decoration-color: #00af00\">62</span>, <span style=\"color: #00af00; text-decoration-color: #00af00\">32</span>)          │             <span style=\"color: #00af00; text-decoration-color: #00af00\">896</span> │\n",
       "├──────────────────────────────────────┼─────────────────────────────┼─────────────────┤\n",
       "│ max_pooling2d (<span style=\"color: #0087ff; text-decoration-color: #0087ff\">MaxPooling2D</span>)         │ (<span style=\"color: #00d7ff; text-decoration-color: #00d7ff\">None</span>, <span style=\"color: #00af00; text-decoration-color: #00af00\">31</span>, <span style=\"color: #00af00; text-decoration-color: #00af00\">31</span>, <span style=\"color: #00af00; text-decoration-color: #00af00\">32</span>)          │               <span style=\"color: #00af00; text-decoration-color: #00af00\">0</span> │\n",
       "├──────────────────────────────────────┼─────────────────────────────┼─────────────────┤\n",
       "│ conv2d_1 (<span style=\"color: #0087ff; text-decoration-color: #0087ff\">Conv2D</span>)                    │ (<span style=\"color: #00d7ff; text-decoration-color: #00d7ff\">None</span>, <span style=\"color: #00af00; text-decoration-color: #00af00\">29</span>, <span style=\"color: #00af00; text-decoration-color: #00af00\">29</span>, <span style=\"color: #00af00; text-decoration-color: #00af00\">64</span>)          │          <span style=\"color: #00af00; text-decoration-color: #00af00\">18,496</span> │\n",
       "├──────────────────────────────────────┼─────────────────────────────┼─────────────────┤\n",
       "│ max_pooling2d_1 (<span style=\"color: #0087ff; text-decoration-color: #0087ff\">MaxPooling2D</span>)       │ (<span style=\"color: #00d7ff; text-decoration-color: #00d7ff\">None</span>, <span style=\"color: #00af00; text-decoration-color: #00af00\">14</span>, <span style=\"color: #00af00; text-decoration-color: #00af00\">14</span>, <span style=\"color: #00af00; text-decoration-color: #00af00\">64</span>)          │               <span style=\"color: #00af00; text-decoration-color: #00af00\">0</span> │\n",
       "├──────────────────────────────────────┼─────────────────────────────┼─────────────────┤\n",
       "│ conv2d_2 (<span style=\"color: #0087ff; text-decoration-color: #0087ff\">Conv2D</span>)                    │ (<span style=\"color: #00d7ff; text-decoration-color: #00d7ff\">None</span>, <span style=\"color: #00af00; text-decoration-color: #00af00\">12</span>, <span style=\"color: #00af00; text-decoration-color: #00af00\">12</span>, <span style=\"color: #00af00; text-decoration-color: #00af00\">128</span>)         │          <span style=\"color: #00af00; text-decoration-color: #00af00\">73,856</span> │\n",
       "├──────────────────────────────────────┼─────────────────────────────┼─────────────────┤\n",
       "│ max_pooling2d_2 (<span style=\"color: #0087ff; text-decoration-color: #0087ff\">MaxPooling2D</span>)       │ (<span style=\"color: #00d7ff; text-decoration-color: #00d7ff\">None</span>, <span style=\"color: #00af00; text-decoration-color: #00af00\">6</span>, <span style=\"color: #00af00; text-decoration-color: #00af00\">6</span>, <span style=\"color: #00af00; text-decoration-color: #00af00\">128</span>)           │               <span style=\"color: #00af00; text-decoration-color: #00af00\">0</span> │\n",
       "├──────────────────────────────────────┼─────────────────────────────┼─────────────────┤\n",
       "│ flatten (<span style=\"color: #0087ff; text-decoration-color: #0087ff\">Flatten</span>)                    │ (<span style=\"color: #00d7ff; text-decoration-color: #00d7ff\">None</span>, <span style=\"color: #00af00; text-decoration-color: #00af00\">4608</span>)                │               <span style=\"color: #00af00; text-decoration-color: #00af00\">0</span> │\n",
       "├──────────────────────────────────────┼─────────────────────────────┼─────────────────┤\n",
       "│ dense (<span style=\"color: #0087ff; text-decoration-color: #0087ff\">Dense</span>)                        │ (<span style=\"color: #00d7ff; text-decoration-color: #00d7ff\">None</span>, <span style=\"color: #00af00; text-decoration-color: #00af00\">128</span>)                 │         <span style=\"color: #00af00; text-decoration-color: #00af00\">589,952</span> │\n",
       "├──────────────────────────────────────┼─────────────────────────────┼─────────────────┤\n",
       "│ dense_1 (<span style=\"color: #0087ff; text-decoration-color: #0087ff\">Dense</span>)                      │ (<span style=\"color: #00d7ff; text-decoration-color: #00d7ff\">None</span>, <span style=\"color: #00af00; text-decoration-color: #00af00\">6</span>)                   │             <span style=\"color: #00af00; text-decoration-color: #00af00\">774</span> │\n",
       "└──────────────────────────────────────┴─────────────────────────────┴─────────────────┘\n",
       "</pre>\n"
      ],
      "text/plain": [
       "┏━━━━━━━━━━━━━━━━━━━━━━━━━━━━━━━━━━━━━━┳━━━━━━━━━━━━━━━━━━━━━━━━━━━━━┳━━━━━━━━━━━━━━━━━┓\n",
       "┃\u001b[1m \u001b[0m\u001b[1mLayer (type)                        \u001b[0m\u001b[1m \u001b[0m┃\u001b[1m \u001b[0m\u001b[1mOutput Shape               \u001b[0m\u001b[1m \u001b[0m┃\u001b[1m \u001b[0m\u001b[1m        Param #\u001b[0m\u001b[1m \u001b[0m┃\n",
       "┡━━━━━━━━━━━━━━━━━━━━━━━━━━━━━━━━━━━━━━╇━━━━━━━━━━━━━━━━━━━━━━━━━━━━━╇━━━━━━━━━━━━━━━━━┩\n",
       "│ conv2d (\u001b[38;5;33mConv2D\u001b[0m)                      │ (\u001b[38;5;45mNone\u001b[0m, \u001b[38;5;34m62\u001b[0m, \u001b[38;5;34m62\u001b[0m, \u001b[38;5;34m32\u001b[0m)          │             \u001b[38;5;34m896\u001b[0m │\n",
       "├──────────────────────────────────────┼─────────────────────────────┼─────────────────┤\n",
       "│ max_pooling2d (\u001b[38;5;33mMaxPooling2D\u001b[0m)         │ (\u001b[38;5;45mNone\u001b[0m, \u001b[38;5;34m31\u001b[0m, \u001b[38;5;34m31\u001b[0m, \u001b[38;5;34m32\u001b[0m)          │               \u001b[38;5;34m0\u001b[0m │\n",
       "├──────────────────────────────────────┼─────────────────────────────┼─────────────────┤\n",
       "│ conv2d_1 (\u001b[38;5;33mConv2D\u001b[0m)                    │ (\u001b[38;5;45mNone\u001b[0m, \u001b[38;5;34m29\u001b[0m, \u001b[38;5;34m29\u001b[0m, \u001b[38;5;34m64\u001b[0m)          │          \u001b[38;5;34m18,496\u001b[0m │\n",
       "├──────────────────────────────────────┼─────────────────────────────┼─────────────────┤\n",
       "│ max_pooling2d_1 (\u001b[38;5;33mMaxPooling2D\u001b[0m)       │ (\u001b[38;5;45mNone\u001b[0m, \u001b[38;5;34m14\u001b[0m, \u001b[38;5;34m14\u001b[0m, \u001b[38;5;34m64\u001b[0m)          │               \u001b[38;5;34m0\u001b[0m │\n",
       "├──────────────────────────────────────┼─────────────────────────────┼─────────────────┤\n",
       "│ conv2d_2 (\u001b[38;5;33mConv2D\u001b[0m)                    │ (\u001b[38;5;45mNone\u001b[0m, \u001b[38;5;34m12\u001b[0m, \u001b[38;5;34m12\u001b[0m, \u001b[38;5;34m128\u001b[0m)         │          \u001b[38;5;34m73,856\u001b[0m │\n",
       "├──────────────────────────────────────┼─────────────────────────────┼─────────────────┤\n",
       "│ max_pooling2d_2 (\u001b[38;5;33mMaxPooling2D\u001b[0m)       │ (\u001b[38;5;45mNone\u001b[0m, \u001b[38;5;34m6\u001b[0m, \u001b[38;5;34m6\u001b[0m, \u001b[38;5;34m128\u001b[0m)           │               \u001b[38;5;34m0\u001b[0m │\n",
       "├──────────────────────────────────────┼─────────────────────────────┼─────────────────┤\n",
       "│ flatten (\u001b[38;5;33mFlatten\u001b[0m)                    │ (\u001b[38;5;45mNone\u001b[0m, \u001b[38;5;34m4608\u001b[0m)                │               \u001b[38;5;34m0\u001b[0m │\n",
       "├──────────────────────────────────────┼─────────────────────────────┼─────────────────┤\n",
       "│ dense (\u001b[38;5;33mDense\u001b[0m)                        │ (\u001b[38;5;45mNone\u001b[0m, \u001b[38;5;34m128\u001b[0m)                 │         \u001b[38;5;34m589,952\u001b[0m │\n",
       "├──────────────────────────────────────┼─────────────────────────────┼─────────────────┤\n",
       "│ dense_1 (\u001b[38;5;33mDense\u001b[0m)                      │ (\u001b[38;5;45mNone\u001b[0m, \u001b[38;5;34m6\u001b[0m)                   │             \u001b[38;5;34m774\u001b[0m │\n",
       "└──────────────────────────────────────┴─────────────────────────────┴─────────────────┘\n"
      ]
     },
     "metadata": {},
     "output_type": "display_data"
    },
    {
     "data": {
      "text/html": [
       "<pre style=\"white-space:pre;overflow-x:auto;line-height:normal;font-family:Menlo,'DejaVu Sans Mono',consolas,'Courier New',monospace\"><span style=\"font-weight: bold\"> Total params: </span><span style=\"color: #00af00; text-decoration-color: #00af00\">2,051,924</span> (7.83 MB)\n",
       "</pre>\n"
      ],
      "text/plain": [
       "\u001b[1m Total params: \u001b[0m\u001b[38;5;34m2,051,924\u001b[0m (7.83 MB)\n"
      ]
     },
     "metadata": {},
     "output_type": "display_data"
    },
    {
     "data": {
      "text/html": [
       "<pre style=\"white-space:pre;overflow-x:auto;line-height:normal;font-family:Menlo,'DejaVu Sans Mono',consolas,'Courier New',monospace\"><span style=\"font-weight: bold\"> Trainable params: </span><span style=\"color: #00af00; text-decoration-color: #00af00\">683,974</span> (2.61 MB)\n",
       "</pre>\n"
      ],
      "text/plain": [
       "\u001b[1m Trainable params: \u001b[0m\u001b[38;5;34m683,974\u001b[0m (2.61 MB)\n"
      ]
     },
     "metadata": {},
     "output_type": "display_data"
    },
    {
     "data": {
      "text/html": [
       "<pre style=\"white-space:pre;overflow-x:auto;line-height:normal;font-family:Menlo,'DejaVu Sans Mono',consolas,'Courier New',monospace\"><span style=\"font-weight: bold\"> Non-trainable params: </span><span style=\"color: #00af00; text-decoration-color: #00af00\">0</span> (0.00 B)\n",
       "</pre>\n"
      ],
      "text/plain": [
       "\u001b[1m Non-trainable params: \u001b[0m\u001b[38;5;34m0\u001b[0m (0.00 B)\n"
      ]
     },
     "metadata": {},
     "output_type": "display_data"
    },
    {
     "data": {
      "text/html": [
       "<pre style=\"white-space:pre;overflow-x:auto;line-height:normal;font-family:Menlo,'DejaVu Sans Mono',consolas,'Courier New',monospace\"><span style=\"font-weight: bold\"> Optimizer params: </span><span style=\"color: #00af00; text-decoration-color: #00af00\">1,367,950</span> (5.22 MB)\n",
       "</pre>\n"
      ],
      "text/plain": [
       "\u001b[1m Optimizer params: \u001b[0m\u001b[38;5;34m1,367,950\u001b[0m (5.22 MB)\n"
      ]
     },
     "metadata": {},
     "output_type": "display_data"
    }
   ],
   "source": [
    "cnn.summary()"
   ]
  },
  {
   "cell_type": "code",
   "execution_count": null,
   "id": "28f6228c-fcbb-420c-a887-b54d557b93d3",
   "metadata": {},
   "outputs": [],
   "source": []
  }
 ],
 "metadata": {
  "kernelspec": {
   "display_name": "Python 3 (ipykernel)",
   "language": "python",
   "name": "python3"
  },
  "language_info": {
   "codemirror_mode": {
    "name": "ipython",
    "version": 3
   },
   "file_extension": ".py",
   "mimetype": "text/x-python",
   "name": "python",
   "nbconvert_exporter": "python",
   "pygments_lexer": "ipython3",
   "version": "3.12.2"
  }
 },
 "nbformat": 4,
 "nbformat_minor": 5
}
