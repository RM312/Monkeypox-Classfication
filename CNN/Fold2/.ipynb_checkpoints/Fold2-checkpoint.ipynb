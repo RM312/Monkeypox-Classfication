{
 "cells": [
  {
   "cell_type": "code",
   "execution_count": 2,
   "id": "16c5b2ed-13a2-404f-aac0-49eef766e635",
   "metadata": {},
   "outputs": [],
   "source": [
    "import tensorflow as tf\n",
    "from tensorflow.keras.preprocessing.image import ImageDataGenerator\n",
    "import matplotlib.pyplot as plt"
   ]
  },
  {
   "cell_type": "code",
   "execution_count": 3,
   "id": "1540edac-8331-4ac8-971a-87737cd0dd6e",
   "metadata": {},
   "outputs": [
    {
     "name": "stdout",
     "output_type": "stream",
     "text": [
      "Found 7126 images belonging to 6 classes.\n"
     ]
    }
   ],
   "source": [
    "# Data Augmentation for Training\n",
    "train_datagen = ImageDataGenerator(rescale=1./255,\n",
    "                                   shear_range=0.2,\n",
    "                                   zoom_range=0.2,\n",
    "                                   horizontal_flip=True)\n",
    "training_set = train_datagen.flow_from_directory(\n",
    "    \"Monkeypox/archive (60)/Augmented Images/Augmented Images/FOLDS_AUG/fold2_AUG/Train/\",\n",
    "    target_size=(64, 64),\n",
    "    batch_size=32,\n",
    "    class_mode='categorical',  # Use 'categorical' for one-hot encoded labels\n",
    ")"
   ]
  },
  {
   "cell_type": "code",
   "execution_count": 4,
   "id": "fcd0531c-a017-42e2-b3d3-21af995ec501",
   "metadata": {},
   "outputs": [
    {
     "name": "stdout",
     "output_type": "stream",
     "text": [
      "Found 7126 images belonging to 6 classes.\n"
     ]
    }
   ],
   "source": [
    "test_datagen = ImageDataGenerator(rescale=1./255)\n",
    "validation_set = test_datagen.flow_from_directory(\n",
    "    \"Monkeypox/archive (60)/Augmented Images/Augmented Images/FOLDS_AUG/fold2_AUG/Train/\",\n",
    "    target_size=(64, 64),\n",
    "    batch_size=32,\n",
    "    class_mode='categorical',  # Use 'categorical' for one-hot encoded labels\n",
    ")"
   ]
  },
  {
   "cell_type": "code",
   "execution_count": 5,
   "id": "e5c7ab06-2ffb-4967-82c0-a8dda75ccdc4",
   "metadata": {},
   "outputs": [],
   "source": [
    "# Custom F1 Score Metric\n",
    "class F1Score(tf.keras.metrics.Metric):\n",
    "    def __init__(self, name='f1_score', **kwargs):\n",
    "        super(F1Score, self).__init__(name=name, **kwargs)\n",
    "        self.precision = tf.keras.metrics.Precision()\n",
    "        self.recall = tf.keras.metrics.Recall()\n",
    "\n",
    "    def update_state(self, y_true, y_pred, sample_weight=None):\n",
    "        # Update the precision and recall for each batch\n",
    "        self.precision.update_state(y_true, y_pred, sample_weight)\n",
    "        self.recall.update_state(y_true, y_pred, sample_weight)\n",
    "\n",
    "    def result(self):\n",
    "        # Calculate F1 score as the harmonic mean of precision and recall\n",
    "        precision = self.precision.result()\n",
    "        recall = self.recall.result()\n",
    "        return 2 * (precision * recall) / (precision + recall + tf.keras.backend.epsilon())\n",
    "\n",
    "    def reset_states(self):\n",
    "        self.precision.reset_states()\n",
    "        self.recall.reset_states()"
   ]
  },
  {
   "cell_type": "code",
   "execution_count": 6,
   "id": "dc1dab66-8279-47e6-b7dd-638fcfafd0aa",
   "metadata": {},
   "outputs": [],
   "source": [
    "# Build the CNN Model\n",
    "cnn = tf.keras.models.Sequential()"
   ]
  },
  {
   "cell_type": "code",
   "execution_count": 7,
   "id": "2990b249-767e-48f2-844a-dc784dd0280a",
   "metadata": {},
   "outputs": [
    {
     "name": "stderr",
     "output_type": "stream",
     "text": [
      "C:\\Users\\KIIT\\AppData\\Local\\Programs\\Python\\Python312\\Lib\\site-packages\\keras\\src\\layers\\convolutional\\base_conv.py:107: UserWarning: Do not pass an `input_shape`/`input_dim` argument to a layer. When using Sequential models, prefer using an `Input(shape)` object as the first layer in the model instead.\n",
      "  super().__init__(activity_regularizer=activity_regularizer, **kwargs)\n"
     ]
    }
   ],
   "source": [
    "# Convolutional Layers\n",
    "cnn.add(tf.keras.layers.Conv2D(filters=32, kernel_size=(3, 3), activation='relu', input_shape=(64, 64, 3)))\n",
    "cnn.add(tf.keras.layers.MaxPooling2D(pool_size=(2, 2)))\n",
    "\n",
    "cnn.add(tf.keras.layers.Conv2D(filters=64, kernel_size=(3, 3), activation='relu'))\n",
    "cnn.add(tf.keras.layers.MaxPooling2D(pool_size=(2, 2)))\n",
    "\n",
    "cnn.add(tf.keras.layers.Conv2D(filters=128, kernel_size=(3, 3), activation='relu'))\n",
    "cnn.add(tf.keras.layers.MaxPooling2D(pool_size=(2, 2)))"
   ]
  },
  {
   "cell_type": "code",
   "execution_count": 8,
   "id": "4fb5163f-0ab2-458b-b961-cceae3f5ce9c",
   "metadata": {},
   "outputs": [],
   "source": [
    "# Flatten and Fully Connected Layers\n",
    "cnn.add(tf.keras.layers.Flatten())\n",
    "cnn.add(tf.keras.layers.Dense(units=128, activation='relu'))\n",
    "cnn.add(tf.keras.layers.Dense(6, activation='softmax'))  # 6 classes"
   ]
  },
  {
   "cell_type": "code",
   "execution_count": 9,
   "id": "f1b81f9d-523a-4483-9efb-61967546835a",
   "metadata": {},
   "outputs": [],
   "source": [
    "# Compile the model with Precision, Recall, and F1 Score\n",
    "cnn.compile(\n",
    "    optimizer='adam',\n",
    "    loss='categorical_crossentropy',  # Use categorical_crossentropy for one-hot encoded labels\n",
    "    metrics=[\n",
    "        'accuracy',\n",
    "        tf.keras.metrics.Precision(name='precision'),\n",
    "        tf.keras.metrics.Recall(name='recall'),\n",
    "        F1Score(name='f1_score')  # Add custom F1 score metric\n",
    "    ]\n",
    ")"
   ]
  },
  {
   "cell_type": "code",
   "execution_count": 10,
   "id": "fc9ade26-856a-457d-8f26-e9f15f50eee6",
   "metadata": {},
   "outputs": [
    {
     "name": "stderr",
     "output_type": "stream",
     "text": [
      "C:\\Users\\KIIT\\AppData\\Local\\Programs\\Python\\Python312\\Lib\\site-packages\\keras\\src\\trainers\\data_adapters\\py_dataset_adapter.py:121: UserWarning: Your `PyDataset` class should call `super().__init__(**kwargs)` in its constructor. `**kwargs` can include `workers`, `use_multiprocessing`, `max_queue_size`. Do not pass these arguments to `fit()`, as they will be ignored.\n",
      "  self._warn_if_super_not_called()\n"
     ]
    },
    {
     "name": "stdout",
     "output_type": "stream",
     "text": [
      "Epoch 1/100\n",
      "\u001b[1m223/223\u001b[0m \u001b[32m━━━━━━━━━━━━━━━━━━━━\u001b[0m\u001b[37m\u001b[0m \u001b[1m0s\u001b[0m 176ms/step - accuracy: 0.3573 - f1_score: 0.0416 - loss: 1.6424 - precision: 0.3695 - recall: 0.0223"
     ]
    },
    {
     "name": "stderr",
     "output_type": "stream",
     "text": [
      "C:\\Users\\KIIT\\AppData\\Local\\Programs\\Python\\Python312\\Lib\\site-packages\\keras\\src\\trainers\\data_adapters\\py_dataset_adapter.py:121: UserWarning: Your `PyDataset` class should call `super().__init__(**kwargs)` in its constructor. `**kwargs` can include `workers`, `use_multiprocessing`, `max_queue_size`. Do not pass these arguments to `fit()`, as they will be ignored.\n",
      "  self._warn_if_super_not_called()\n"
     ]
    },
    {
     "name": "stdout",
     "output_type": "stream",
     "text": [
      "\u001b[1m223/223\u001b[0m \u001b[32m━━━━━━━━━━━━━━━━━━━━\u001b[0m\u001b[37m\u001b[0m \u001b[1m56s\u001b[0m 231ms/step - accuracy: 0.3574 - f1_score: 0.0419 - loss: 1.6421 - precision: 0.3704 - recall: 0.0225 - val_accuracy: 0.4282 - val_f1_score: 0.2470 - val_loss: 1.4536 - val_precision: 0.6129 - val_recall: 0.1546\n",
      "Epoch 2/100\n",
      "\u001b[1m223/223\u001b[0m \u001b[32m━━━━━━━━━━━━━━━━━━━━\u001b[0m\u001b[37m\u001b[0m \u001b[1m40s\u001b[0m 181ms/step - accuracy: 0.4720 - f1_score: 0.3255 - loss: 1.3741 - precision: 0.6810 - recall: 0.2149 - val_accuracy: 0.5377 - val_f1_score: 0.4866 - val_loss: 1.1661 - val_precision: 0.6699 - val_recall: 0.3821\n",
      "Epoch 3/100\n",
      "\u001b[1m223/223\u001b[0m \u001b[32m━━━━━━━━━━━━━━━━━━━━\u001b[0m\u001b[37m\u001b[0m \u001b[1m41s\u001b[0m 185ms/step - accuracy: 0.5562 - f1_score: 0.4904 - loss: 1.1273 - precision: 0.7296 - recall: 0.3697 - val_accuracy: 0.6542 - val_f1_score: 0.5884 - val_loss: 0.9267 - val_precision: 0.8072 - val_recall: 0.4630\n",
      "Epoch 4/100\n",
      "\u001b[1m223/223\u001b[0m \u001b[32m━━━━━━━━━━━━━━━━━━━━\u001b[0m\u001b[37m\u001b[0m \u001b[1m41s\u001b[0m 184ms/step - accuracy: 0.6295 - f1_score: 0.5834 - loss: 0.9665 - precision: 0.7688 - recall: 0.4702 - val_accuracy: 0.6684 - val_f1_score: 0.6552 - val_loss: 0.8584 - val_precision: 0.7656 - val_recall: 0.5726\n",
      "Epoch 5/100\n",
      "\u001b[1m223/223\u001b[0m \u001b[32m━━━━━━━━━━━━━━━━━━━━\u001b[0m\u001b[37m\u001b[0m \u001b[1m40s\u001b[0m 180ms/step - accuracy: 0.6865 - f1_score: 0.6594 - loss: 0.8309 - precision: 0.7971 - recall: 0.5624 - val_accuracy: 0.7613 - val_f1_score: 0.7406 - val_loss: 0.6630 - val_precision: 0.8614 - val_recall: 0.6496\n",
      "Epoch 6/100\n",
      "\u001b[1m223/223\u001b[0m \u001b[32m━━━━━━━━━━━━━━━━━━━━\u001b[0m\u001b[37m\u001b[0m \u001b[1m42s\u001b[0m 188ms/step - accuracy: 0.7490 - f1_score: 0.7396 - loss: 0.6727 - precision: 0.8369 - recall: 0.6627 - val_accuracy: 0.8167 - val_f1_score: 0.8086 - val_loss: 0.5111 - val_precision: 0.8664 - val_recall: 0.7581\n",
      "Epoch 7/100\n",
      "\u001b[1m223/223\u001b[0m \u001b[32m━━━━━━━━━━━━━━━━━━━━\u001b[0m\u001b[37m\u001b[0m \u001b[1m42s\u001b[0m 188ms/step - accuracy: 0.7911 - f1_score: 0.7830 - loss: 0.5809 - precision: 0.8594 - recall: 0.7191 - val_accuracy: 0.8604 - val_f1_score: 0.8613 - val_loss: 0.3963 - val_precision: 0.9099 - val_recall: 0.8176\n",
      "Epoch 8/100\n",
      "\u001b[1m223/223\u001b[0m \u001b[32m━━━━━━━━━━━━━━━━━━━━\u001b[0m\u001b[37m\u001b[0m \u001b[1m41s\u001b[0m 182ms/step - accuracy: 0.8273 - f1_score: 0.8214 - loss: 0.4831 - precision: 0.8748 - recall: 0.7742 - val_accuracy: 0.8904 - val_f1_score: 0.8846 - val_loss: 0.3523 - val_precision: 0.9298 - val_recall: 0.8437\n",
      "Epoch 9/100\n",
      "\u001b[1m223/223\u001b[0m \u001b[32m━━━━━━━━━━━━━━━━━━━━\u001b[0m\u001b[37m\u001b[0m \u001b[1m41s\u001b[0m 185ms/step - accuracy: 0.8499 - f1_score: 0.8471 - loss: 0.4306 - precision: 0.8926 - recall: 0.8062 - val_accuracy: 0.9110 - val_f1_score: 0.9118 - val_loss: 0.2783 - val_precision: 0.9350 - val_recall: 0.8897\n",
      "Epoch 10/100\n",
      "\u001b[1m223/223\u001b[0m \u001b[32m━━━━━━━━━━━━━━━━━━━━\u001b[0m\u001b[37m\u001b[0m \u001b[1m41s\u001b[0m 185ms/step - accuracy: 0.8679 - f1_score: 0.8656 - loss: 0.3783 - precision: 0.8991 - recall: 0.8346 - val_accuracy: 0.9175 - val_f1_score: 0.9176 - val_loss: 0.2450 - val_precision: 0.9357 - val_recall: 0.9002\n",
      "Epoch 11/100\n",
      "\u001b[1m223/223\u001b[0m \u001b[32m━━━━━━━━━━━━━━━━━━━━\u001b[0m\u001b[37m\u001b[0m \u001b[1m41s\u001b[0m 183ms/step - accuracy: 0.8987 - f1_score: 0.9018 - loss: 0.3010 - precision: 0.9266 - recall: 0.8783 - val_accuracy: 0.9225 - val_f1_score: 0.9226 - val_loss: 0.2308 - val_precision: 0.9447 - val_recall: 0.9015\n",
      "Epoch 12/100\n",
      "\u001b[1m223/223\u001b[0m \u001b[32m━━━━━━━━━━━━━━━━━━━━\u001b[0m\u001b[37m\u001b[0m \u001b[1m42s\u001b[0m 188ms/step - accuracy: 0.9143 - f1_score: 0.9158 - loss: 0.2558 - precision: 0.9366 - recall: 0.8958 - val_accuracy: 0.9176 - val_f1_score: 0.9175 - val_loss: 0.2466 - val_precision: 0.9355 - val_recall: 0.9002\n",
      "Epoch 13/100\n",
      "\u001b[1m223/223\u001b[0m \u001b[32m━━━━━━━━━━━━━━━━━━━━\u001b[0m\u001b[37m\u001b[0m \u001b[1m42s\u001b[0m 188ms/step - accuracy: 0.9084 - f1_score: 0.9108 - loss: 0.2619 - precision: 0.9304 - recall: 0.8919 - val_accuracy: 0.9374 - val_f1_score: 0.9354 - val_loss: 0.1959 - val_precision: 0.9503 - val_recall: 0.9210\n",
      "Epoch 14/100\n",
      "\u001b[1m223/223\u001b[0m \u001b[32m━━━━━━━━━━━━━━━━━━━━\u001b[0m\u001b[37m\u001b[0m \u001b[1m41s\u001b[0m 185ms/step - accuracy: 0.9199 - f1_score: 0.9223 - loss: 0.2215 - precision: 0.9392 - recall: 0.9059 - val_accuracy: 0.9608 - val_f1_score: 0.9616 - val_loss: 0.1334 - val_precision: 0.9701 - val_recall: 0.9531\n",
      "Epoch 15/100\n",
      "\u001b[1m223/223\u001b[0m \u001b[32m━━━━━━━━━━━━━━━━━━━━\u001b[0m\u001b[37m\u001b[0m \u001b[1m41s\u001b[0m 185ms/step - accuracy: 0.9328 - f1_score: 0.9322 - loss: 0.1947 - precision: 0.9443 - recall: 0.9205 - val_accuracy: 0.9538 - val_f1_score: 0.9545 - val_loss: 0.1328 - val_precision: 0.9619 - val_recall: 0.9472\n",
      "Epoch 16/100\n",
      "\u001b[1m223/223\u001b[0m \u001b[32m━━━━━━━━━━━━━━━━━━━━\u001b[0m\u001b[37m\u001b[0m \u001b[1m42s\u001b[0m 186ms/step - accuracy: 0.9371 - f1_score: 0.9382 - loss: 0.1835 - precision: 0.9498 - recall: 0.9269 - val_accuracy: 0.9691 - val_f1_score: 0.9687 - val_loss: 0.1039 - val_precision: 0.9763 - val_recall: 0.9613\n",
      "Epoch 17/100\n",
      "\u001b[1m223/223\u001b[0m \u001b[32m━━━━━━━━━━━━━━━━━━━━\u001b[0m\u001b[37m\u001b[0m \u001b[1m42s\u001b[0m 188ms/step - accuracy: 0.9468 - f1_score: 0.9468 - loss: 0.1637 - precision: 0.9565 - recall: 0.9372 - val_accuracy: 0.9592 - val_f1_score: 0.9602 - val_loss: 0.1244 - val_precision: 0.9683 - val_recall: 0.9523\n",
      "Epoch 18/100\n",
      "\u001b[1m223/223\u001b[0m \u001b[32m━━━━━━━━━━━━━━━━━━━━\u001b[0m\u001b[37m\u001b[0m \u001b[1m42s\u001b[0m 188ms/step - accuracy: 0.9569 - f1_score: 0.9563 - loss: 0.1387 - precision: 0.9646 - recall: 0.9481 - val_accuracy: 0.9717 - val_f1_score: 0.9722 - val_loss: 0.0884 - val_precision: 0.9773 - val_recall: 0.9672\n",
      "Epoch 19/100\n",
      "\u001b[1m223/223\u001b[0m \u001b[32m━━━━━━━━━━━━━━━━━━━━\u001b[0m\u001b[37m\u001b[0m \u001b[1m42s\u001b[0m 188ms/step - accuracy: 0.9513 - f1_score: 0.9527 - loss: 0.1462 - precision: 0.9600 - recall: 0.9456 - val_accuracy: 0.9673 - val_f1_score: 0.9673 - val_loss: 0.0963 - val_precision: 0.9719 - val_recall: 0.9627\n",
      "Epoch 20/100\n",
      "\u001b[1m223/223\u001b[0m \u001b[32m━━━━━━━━━━━━━━━━━━━━\u001b[0m\u001b[37m\u001b[0m \u001b[1m42s\u001b[0m 187ms/step - accuracy: 0.9546 - f1_score: 0.9546 - loss: 0.1411 - precision: 0.9617 - recall: 0.9476 - val_accuracy: 0.9798 - val_f1_score: 0.9798 - val_loss: 0.0670 - val_precision: 0.9835 - val_recall: 0.9761\n",
      "Epoch 21/100\n",
      "\u001b[1m223/223\u001b[0m \u001b[32m━━━━━━━━━━━━━━━━━━━━\u001b[0m\u001b[37m\u001b[0m \u001b[1m42s\u001b[0m 190ms/step - accuracy: 0.9615 - f1_score: 0.9624 - loss: 0.1106 - precision: 0.9689 - recall: 0.9560 - val_accuracy: 0.9697 - val_f1_score: 0.9685 - val_loss: 0.0960 - val_precision: 0.9716 - val_recall: 0.9653\n",
      "Epoch 22/100\n",
      "\u001b[1m223/223\u001b[0m \u001b[32m━━━━━━━━━━━━━━━━━━━━\u001b[0m\u001b[37m\u001b[0m \u001b[1m42s\u001b[0m 190ms/step - accuracy: 0.9640 - f1_score: 0.9627 - loss: 0.1139 - precision: 0.9686 - recall: 0.9569 - val_accuracy: 0.9611 - val_f1_score: 0.9608 - val_loss: 0.1163 - val_precision: 0.9668 - val_recall: 0.9550\n",
      "Epoch 23/100\n",
      "\u001b[1m223/223\u001b[0m \u001b[32m━━━━━━━━━━━━━━━━━━━━\u001b[0m\u001b[37m\u001b[0m \u001b[1m42s\u001b[0m 188ms/step - accuracy: 0.9563 - f1_score: 0.9578 - loss: 0.1174 - precision: 0.9630 - recall: 0.9527 - val_accuracy: 0.9721 - val_f1_score: 0.9726 - val_loss: 0.0836 - val_precision: 0.9776 - val_recall: 0.9676\n",
      "Epoch 24/100\n",
      "\u001b[1m223/223\u001b[0m \u001b[32m━━━━━━━━━━━━━━━━━━━━\u001b[0m\u001b[37m\u001b[0m \u001b[1m42s\u001b[0m 191ms/step - accuracy: 0.9582 - f1_score: 0.9584 - loss: 0.1293 - precision: 0.9643 - recall: 0.9526 - val_accuracy: 0.9766 - val_f1_score: 0.9767 - val_loss: 0.0724 - val_precision: 0.9797 - val_recall: 0.9738\n",
      "Epoch 25/100\n",
      "\u001b[1m223/223\u001b[0m \u001b[32m━━━━━━━━━━━━━━━━━━━━\u001b[0m\u001b[37m\u001b[0m \u001b[1m42s\u001b[0m 187ms/step - accuracy: 0.9651 - f1_score: 0.9657 - loss: 0.0987 - precision: 0.9704 - recall: 0.9611 - val_accuracy: 0.9843 - val_f1_score: 0.9854 - val_loss: 0.0499 - val_precision: 0.9880 - val_recall: 0.9827\n",
      "Epoch 26/100\n",
      "\u001b[1m223/223\u001b[0m \u001b[32m━━━━━━━━━━━━━━━━━━━━\u001b[0m\u001b[37m\u001b[0m \u001b[1m42s\u001b[0m 190ms/step - accuracy: 0.9696 - f1_score: 0.9695 - loss: 0.0917 - precision: 0.9729 - recall: 0.9661 - val_accuracy: 0.9841 - val_f1_score: 0.9847 - val_loss: 0.0510 - val_precision: 0.9859 - val_recall: 0.9834\n",
      "Epoch 27/100\n",
      "\u001b[1m223/223\u001b[0m \u001b[32m━━━━━━━━━━━━━━━━━━━━\u001b[0m\u001b[37m\u001b[0m \u001b[1m42s\u001b[0m 189ms/step - accuracy: 0.9711 - f1_score: 0.9720 - loss: 0.0894 - precision: 0.9748 - recall: 0.9692 - val_accuracy: 0.9632 - val_f1_score: 0.9632 - val_loss: 0.1004 - val_precision: 0.9689 - val_recall: 0.9576\n",
      "Epoch 28/100\n",
      "\u001b[1m223/223\u001b[0m \u001b[32m━━━━━━━━━━━━━━━━━━━━\u001b[0m\u001b[37m\u001b[0m \u001b[1m42s\u001b[0m 189ms/step - accuracy: 0.9608 - f1_score: 0.9601 - loss: 0.1149 - precision: 0.9642 - recall: 0.9561 - val_accuracy: 0.9878 - val_f1_score: 0.9879 - val_loss: 0.0388 - val_precision: 0.9896 - val_recall: 0.9862\n",
      "Epoch 29/100\n",
      "\u001b[1m223/223\u001b[0m \u001b[32m━━━━━━━━━━━━━━━━━━━━\u001b[0m\u001b[37m\u001b[0m \u001b[1m44s\u001b[0m 196ms/step - accuracy: 0.9698 - f1_score: 0.9699 - loss: 0.0927 - precision: 0.9732 - recall: 0.9666 - val_accuracy: 0.9872 - val_f1_score: 0.9869 - val_loss: 0.0392 - val_precision: 0.9882 - val_recall: 0.9855\n",
      "Epoch 30/100\n",
      "\u001b[1m223/223\u001b[0m \u001b[32m━━━━━━━━━━━━━━━━━━━━\u001b[0m\u001b[37m\u001b[0m \u001b[1m43s\u001b[0m 192ms/step - accuracy: 0.9648 - f1_score: 0.9663 - loss: 0.1202 - precision: 0.9700 - recall: 0.9627 - val_accuracy: 0.9857 - val_f1_score: 0.9858 - val_loss: 0.0537 - val_precision: 0.9871 - val_recall: 0.9846\n",
      "Epoch 31/100\n",
      "\u001b[1m223/223\u001b[0m \u001b[32m━━━━━━━━━━━━━━━━━━━━\u001b[0m\u001b[37m\u001b[0m \u001b[1m43s\u001b[0m 192ms/step - accuracy: 0.9721 - f1_score: 0.9728 - loss: 0.0840 - precision: 0.9758 - recall: 0.9699 - val_accuracy: 0.9891 - val_f1_score: 0.9890 - val_loss: 0.0366 - val_precision: 0.9899 - val_recall: 0.9881\n",
      "Epoch 32/100\n",
      "\u001b[1m223/223\u001b[0m \u001b[32m━━━━━━━━━━━━━━━━━━━━\u001b[0m\u001b[37m\u001b[0m \u001b[1m43s\u001b[0m 192ms/step - accuracy: 0.9773 - f1_score: 0.9770 - loss: 0.0722 - precision: 0.9802 - recall: 0.9737 - val_accuracy: 0.9825 - val_f1_score: 0.9824 - val_loss: 0.0531 - val_precision: 0.9846 - val_recall: 0.9802\n",
      "Epoch 33/100\n",
      "\u001b[1m223/223\u001b[0m \u001b[32m━━━━━━━━━━━━━━━━━━━━\u001b[0m\u001b[37m\u001b[0m \u001b[1m44s\u001b[0m 198ms/step - accuracy: 0.9758 - f1_score: 0.9771 - loss: 0.0675 - precision: 0.9801 - recall: 0.9741 - val_accuracy: 0.9829 - val_f1_score: 0.9825 - val_loss: 0.0556 - val_precision: 0.9852 - val_recall: 0.9798\n",
      "Epoch 34/100\n",
      "\u001b[1m223/223\u001b[0m \u001b[32m━━━━━━━━━━━━━━━━━━━━\u001b[0m\u001b[37m\u001b[0m \u001b[1m44s\u001b[0m 197ms/step - accuracy: 0.9730 - f1_score: 0.9721 - loss: 0.0867 - precision: 0.9751 - recall: 0.9690 - val_accuracy: 0.9847 - val_f1_score: 0.9847 - val_loss: 0.0489 - val_precision: 0.9876 - val_recall: 0.9819\n",
      "Epoch 35/100\n",
      "\u001b[1m223/223\u001b[0m \u001b[32m━━━━━━━━━━━━━━━━━━━━\u001b[0m\u001b[37m\u001b[0m \u001b[1m45s\u001b[0m 201ms/step - accuracy: 0.9796 - f1_score: 0.9797 - loss: 0.0591 - precision: 0.9818 - recall: 0.9776 - val_accuracy: 0.9843 - val_f1_score: 0.9843 - val_loss: 0.0507 - val_precision: 0.9852 - val_recall: 0.9834\n",
      "Epoch 36/100\n",
      "\u001b[1m223/223\u001b[0m \u001b[32m━━━━━━━━━━━━━━━━━━━━\u001b[0m\u001b[37m\u001b[0m \u001b[1m44s\u001b[0m 197ms/step - accuracy: 0.9685 - f1_score: 0.9676 - loss: 0.1035 - precision: 0.9706 - recall: 0.9647 - val_accuracy: 0.9902 - val_f1_score: 0.9907 - val_loss: 0.0340 - val_precision: 0.9921 - val_recall: 0.9893\n",
      "Epoch 37/100\n",
      "\u001b[1m223/223\u001b[0m \u001b[32m━━━━━━━━━━━━━━━━━━━━\u001b[0m\u001b[37m\u001b[0m \u001b[1m44s\u001b[0m 198ms/step - accuracy: 0.9744 - f1_score: 0.9747 - loss: 0.0748 - precision: 0.9768 - recall: 0.9727 - val_accuracy: 0.9896 - val_f1_score: 0.9902 - val_loss: 0.0330 - val_precision: 0.9914 - val_recall: 0.9891\n",
      "Epoch 38/100\n",
      "\u001b[1m223/223\u001b[0m \u001b[32m━━━━━━━━━━━━━━━━━━━━\u001b[0m\u001b[37m\u001b[0m \u001b[1m44s\u001b[0m 198ms/step - accuracy: 0.9803 - f1_score: 0.9796 - loss: 0.0685 - precision: 0.9821 - recall: 0.9771 - val_accuracy: 0.9938 - val_f1_score: 0.9937 - val_loss: 0.0206 - val_precision: 0.9944 - val_recall: 0.9930\n",
      "Epoch 39/100\n",
      "\u001b[1m223/223\u001b[0m \u001b[32m━━━━━━━━━━━━━━━━━━━━\u001b[0m\u001b[37m\u001b[0m \u001b[1m43s\u001b[0m 194ms/step - accuracy: 0.9834 - f1_score: 0.9836 - loss: 0.0494 - precision: 0.9853 - recall: 0.9819 - val_accuracy: 0.9955 - val_f1_score: 0.9952 - val_loss: 0.0179 - val_precision: 0.9958 - val_recall: 0.9947\n",
      "Epoch 40/100\n",
      "\u001b[1m223/223\u001b[0m \u001b[32m━━━━━━━━━━━━━━━━━━━━\u001b[0m\u001b[37m\u001b[0m \u001b[1m46s\u001b[0m 208ms/step - accuracy: 0.9857 - f1_score: 0.9856 - loss: 0.0419 - precision: 0.9872 - recall: 0.9840 - val_accuracy: 0.9920 - val_f1_score: 0.9918 - val_loss: 0.0252 - val_precision: 0.9927 - val_recall: 0.9909\n",
      "Epoch 41/100\n",
      "\u001b[1m223/223\u001b[0m \u001b[32m━━━━━━━━━━━━━━━━━━━━\u001b[0m\u001b[37m\u001b[0m \u001b[1m44s\u001b[0m 199ms/step - accuracy: 0.9836 - f1_score: 0.9832 - loss: 0.0551 - precision: 0.9856 - recall: 0.9809 - val_accuracy: 0.9910 - val_f1_score: 0.9907 - val_loss: 0.0281 - val_precision: 0.9917 - val_recall: 0.9896\n",
      "Epoch 42/100\n",
      "\u001b[1m223/223\u001b[0m \u001b[32m━━━━━━━━━━━━━━━━━━━━\u001b[0m\u001b[37m\u001b[0m \u001b[1m44s\u001b[0m 197ms/step - accuracy: 0.9761 - f1_score: 0.9760 - loss: 0.0774 - precision: 0.9779 - recall: 0.9740 - val_accuracy: 0.9833 - val_f1_score: 0.9829 - val_loss: 0.0478 - val_precision: 0.9842 - val_recall: 0.9815\n",
      "Epoch 43/100\n",
      "\u001b[1m223/223\u001b[0m \u001b[32m━━━━━━━━━━━━━━━━━━━━\u001b[0m\u001b[37m\u001b[0m \u001b[1m45s\u001b[0m 203ms/step - accuracy: 0.9849 - f1_score: 0.9855 - loss: 0.0455 - precision: 0.9875 - recall: 0.9834 - val_accuracy: 0.9903 - val_f1_score: 0.9907 - val_loss: 0.0255 - val_precision: 0.9917 - val_recall: 0.9898\n",
      "Epoch 44/100\n",
      "\u001b[1m223/223\u001b[0m \u001b[32m━━━━━━━━━━━━━━━━━━━━\u001b[0m\u001b[37m\u001b[0m \u001b[1m41s\u001b[0m 182ms/step - accuracy: 0.9903 - f1_score: 0.9907 - loss: 0.0334 - precision: 0.9918 - recall: 0.9897 - val_accuracy: 0.9931 - val_f1_score: 0.9934 - val_loss: 0.0196 - val_precision: 0.9941 - val_recall: 0.9927\n",
      "Epoch 45/100\n",
      "\u001b[1m223/223\u001b[0m \u001b[32m━━━━━━━━━━━━━━━━━━━━\u001b[0m\u001b[37m\u001b[0m \u001b[1m40s\u001b[0m 180ms/step - accuracy: 0.9789 - f1_score: 0.9794 - loss: 0.0709 - precision: 0.9815 - recall: 0.9774 - val_accuracy: 0.9903 - val_f1_score: 0.9898 - val_loss: 0.0314 - val_precision: 0.9903 - val_recall: 0.9893\n",
      "Epoch 46/100\n",
      "\u001b[1m223/223\u001b[0m \u001b[32m━━━━━━━━━━━━━━━━━━━━\u001b[0m\u001b[37m\u001b[0m \u001b[1m41s\u001b[0m 182ms/step - accuracy: 0.9811 - f1_score: 0.9825 - loss: 0.0585 - precision: 0.9844 - recall: 0.9805 - val_accuracy: 0.9903 - val_f1_score: 0.9904 - val_loss: 0.0274 - val_precision: 0.9911 - val_recall: 0.9896\n",
      "Epoch 47/100\n",
      "\u001b[1m223/223\u001b[0m \u001b[32m━━━━━━━━━━━━━━━━━━━━\u001b[0m\u001b[37m\u001b[0m \u001b[1m40s\u001b[0m 180ms/step - accuracy: 0.9781 - f1_score: 0.9780 - loss: 0.0668 - precision: 0.9801 - recall: 0.9760 - val_accuracy: 0.9875 - val_f1_score: 0.9875 - val_loss: 0.0375 - val_precision: 0.9887 - val_recall: 0.9862\n",
      "Epoch 48/100\n",
      "\u001b[1m223/223\u001b[0m \u001b[32m━━━━━━━━━━━━━━━━━━━━\u001b[0m\u001b[37m\u001b[0m \u001b[1m40s\u001b[0m 179ms/step - accuracy: 0.9797 - f1_score: 0.9798 - loss: 0.0621 - precision: 0.9815 - recall: 0.9781 - val_accuracy: 0.9954 - val_f1_score: 0.9952 - val_loss: 0.0158 - val_precision: 0.9955 - val_recall: 0.9948\n",
      "Epoch 49/100\n",
      "\u001b[1m223/223\u001b[0m \u001b[32m━━━━━━━━━━━━━━━━━━━━\u001b[0m\u001b[37m\u001b[0m \u001b[1m40s\u001b[0m 180ms/step - accuracy: 0.9801 - f1_score: 0.9804 - loss: 0.0604 - precision: 0.9817 - recall: 0.9791 - val_accuracy: 0.9964 - val_f1_score: 0.9964 - val_loss: 0.0114 - val_precision: 0.9970 - val_recall: 0.9958\n",
      "Epoch 50/100\n",
      "\u001b[1m223/223\u001b[0m \u001b[32m━━━━━━━━━━━━━━━━━━━━\u001b[0m\u001b[37m\u001b[0m \u001b[1m42s\u001b[0m 187ms/step - accuracy: 0.9875 - f1_score: 0.9880 - loss: 0.0422 - precision: 0.9886 - recall: 0.9874 - val_accuracy: 0.9761 - val_f1_score: 0.9759 - val_loss: 0.0678 - val_precision: 0.9773 - val_recall: 0.9745\n",
      "Epoch 51/100\n",
      "\u001b[1m223/223\u001b[0m \u001b[32m━━━━━━━━━━━━━━━━━━━━\u001b[0m\u001b[37m\u001b[0m \u001b[1m40s\u001b[0m 180ms/step - accuracy: 0.9795 - f1_score: 0.9798 - loss: 0.0616 - precision: 0.9810 - recall: 0.9785 - val_accuracy: 0.9882 - val_f1_score: 0.9884 - val_loss: 0.0361 - val_precision: 0.9893 - val_recall: 0.9875\n",
      "Epoch 52/100\n",
      "\u001b[1m223/223\u001b[0m \u001b[32m━━━━━━━━━━━━━━━━━━━━\u001b[0m\u001b[37m\u001b[0m \u001b[1m41s\u001b[0m 182ms/step - accuracy: 0.9819 - f1_score: 0.9826 - loss: 0.0518 - precision: 0.9844 - recall: 0.9807 - val_accuracy: 0.9935 - val_f1_score: 0.9934 - val_loss: 0.0195 - val_precision: 0.9937 - val_recall: 0.9931\n",
      "Epoch 53/100\n",
      "\u001b[1m223/223\u001b[0m \u001b[32m━━━━━━━━━━━━━━━━━━━━\u001b[0m\u001b[37m\u001b[0m \u001b[1m40s\u001b[0m 180ms/step - accuracy: 0.9849 - f1_score: 0.9852 - loss: 0.0440 - precision: 0.9861 - recall: 0.9843 - val_accuracy: 0.9949 - val_f1_score: 0.9954 - val_loss: 0.0154 - val_precision: 0.9959 - val_recall: 0.9948\n",
      "Epoch 54/100\n",
      "\u001b[1m223/223\u001b[0m \u001b[32m━━━━━━━━━━━━━━━━━━━━\u001b[0m\u001b[37m\u001b[0m \u001b[1m40s\u001b[0m 181ms/step - accuracy: 0.9779 - f1_score: 0.9781 - loss: 0.0654 - precision: 0.9791 - recall: 0.9771 - val_accuracy: 0.9969 - val_f1_score: 0.9969 - val_loss: 0.0111 - val_precision: 0.9972 - val_recall: 0.9966\n",
      "Epoch 55/100\n",
      "\u001b[1m223/223\u001b[0m \u001b[32m━━━━━━━━━━━━━━━━━━━━\u001b[0m\u001b[37m\u001b[0m \u001b[1m41s\u001b[0m 182ms/step - accuracy: 0.9872 - f1_score: 0.9874 - loss: 0.0368 - precision: 0.9885 - recall: 0.9863 - val_accuracy: 0.9836 - val_f1_score: 0.9836 - val_loss: 0.0549 - val_precision: 0.9851 - val_recall: 0.9822\n",
      "Epoch 56/100\n",
      "\u001b[1m223/223\u001b[0m \u001b[32m━━━━━━━━━━━━━━━━━━━━\u001b[0m\u001b[37m\u001b[0m \u001b[1m41s\u001b[0m 182ms/step - accuracy: 0.9761 - f1_score: 0.9762 - loss: 0.0831 - precision: 0.9771 - recall: 0.9752 - val_accuracy: 0.9907 - val_f1_score: 0.9907 - val_loss: 0.0306 - val_precision: 0.9916 - val_recall: 0.9899\n",
      "Epoch 57/100\n",
      "\u001b[1m223/223\u001b[0m \u001b[32m━━━━━━━━━━━━━━━━━━━━\u001b[0m\u001b[37m\u001b[0m \u001b[1m41s\u001b[0m 183ms/step - accuracy: 0.9880 - f1_score: 0.9883 - loss: 0.0325 - precision: 0.9886 - recall: 0.9880 - val_accuracy: 0.9921 - val_f1_score: 0.9921 - val_loss: 0.0271 - val_precision: 0.9926 - val_recall: 0.9916\n",
      "Epoch 58/100\n",
      "\u001b[1m223/223\u001b[0m \u001b[32m━━━━━━━━━━━━━━━━━━━━\u001b[0m\u001b[37m\u001b[0m \u001b[1m41s\u001b[0m 182ms/step - accuracy: 0.9869 - f1_score: 0.9867 - loss: 0.0399 - precision: 0.9883 - recall: 0.9852 - val_accuracy: 0.9956 - val_f1_score: 0.9955 - val_loss: 0.0160 - val_precision: 0.9959 - val_recall: 0.9951\n",
      "Epoch 59/100\n",
      "\u001b[1m223/223\u001b[0m \u001b[32m━━━━━━━━━━━━━━━━━━━━\u001b[0m\u001b[37m\u001b[0m \u001b[1m41s\u001b[0m 185ms/step - accuracy: 0.9861 - f1_score: 0.9859 - loss: 0.0487 - precision: 0.9863 - recall: 0.9854 - val_accuracy: 0.9969 - val_f1_score: 0.9968 - val_loss: 0.0105 - val_precision: 0.9973 - val_recall: 0.9964\n",
      "Epoch 60/100\n",
      "\u001b[1m223/223\u001b[0m \u001b[32m━━━━━━━━━━━━━━━━━━━━\u001b[0m\u001b[37m\u001b[0m \u001b[1m41s\u001b[0m 183ms/step - accuracy: 0.9863 - f1_score: 0.9864 - loss: 0.0370 - precision: 0.9871 - recall: 0.9857 - val_accuracy: 0.9966 - val_f1_score: 0.9967 - val_loss: 0.0119 - val_precision: 0.9971 - val_recall: 0.9964\n",
      "Epoch 61/100\n",
      "\u001b[1m223/223\u001b[0m \u001b[32m━━━━━━━━━━━━━━━━━━━━\u001b[0m\u001b[37m\u001b[0m \u001b[1m54s\u001b[0m 241ms/step - accuracy: 0.9903 - f1_score: 0.9902 - loss: 0.0272 - precision: 0.9909 - recall: 0.9894 - val_accuracy: 0.9975 - val_f1_score: 0.9976 - val_loss: 0.0071 - val_precision: 0.9980 - val_recall: 0.9972\n",
      "Epoch 62/100\n",
      "\u001b[1m223/223\u001b[0m \u001b[32m━━━━━━━━━━━━━━━━━━━━\u001b[0m\u001b[37m\u001b[0m \u001b[1m45s\u001b[0m 202ms/step - accuracy: 0.9897 - f1_score: 0.9899 - loss: 0.0274 - precision: 0.9904 - recall: 0.9894 - val_accuracy: 0.9896 - val_f1_score: 0.9895 - val_loss: 0.0364 - val_precision: 0.9900 - val_recall: 0.9891\n",
      "Epoch 63/100\n",
      "\u001b[1m223/223\u001b[0m \u001b[32m━━━━━━━━━━━━━━━━━━━━\u001b[0m\u001b[37m\u001b[0m \u001b[1m46s\u001b[0m 208ms/step - accuracy: 0.9768 - f1_score: 0.9765 - loss: 0.0647 - precision: 0.9779 - recall: 0.9751 - val_accuracy: 0.9909 - val_f1_score: 0.9911 - val_loss: 0.0288 - val_precision: 0.9913 - val_recall: 0.9909\n",
      "Epoch 64/100\n",
      "\u001b[1m223/223\u001b[0m \u001b[32m━━━━━━━━━━━━━━━━━━━━\u001b[0m\u001b[37m\u001b[0m \u001b[1m46s\u001b[0m 207ms/step - accuracy: 0.9796 - f1_score: 0.9798 - loss: 0.0690 - precision: 0.9808 - recall: 0.9787 - val_accuracy: 0.9937 - val_f1_score: 0.9940 - val_loss: 0.0172 - val_precision: 0.9944 - val_recall: 0.9935\n",
      "Epoch 65/100\n",
      "\u001b[1m223/223\u001b[0m \u001b[32m━━━━━━━━━━━━━━━━━━━━\u001b[0m\u001b[37m\u001b[0m \u001b[1m46s\u001b[0m 208ms/step - accuracy: 0.9841 - f1_score: 0.9845 - loss: 0.0503 - precision: 0.9851 - recall: 0.9838 - val_accuracy: 0.9923 - val_f1_score: 0.9929 - val_loss: 0.0252 - val_precision: 0.9935 - val_recall: 0.9923\n",
      "Epoch 66/100\n",
      "\u001b[1m223/223\u001b[0m \u001b[32m━━━━━━━━━━━━━━━━━━━━\u001b[0m\u001b[37m\u001b[0m \u001b[1m47s\u001b[0m 210ms/step - accuracy: 0.9859 - f1_score: 0.9859 - loss: 0.0488 - precision: 0.9870 - recall: 0.9849 - val_accuracy: 0.9867 - val_f1_score: 0.9864 - val_loss: 0.0470 - val_precision: 0.9871 - val_recall: 0.9858\n",
      "Epoch 67/100\n",
      "\u001b[1m223/223\u001b[0m \u001b[32m━━━━━━━━━━━━━━━━━━━━\u001b[0m\u001b[37m\u001b[0m \u001b[1m50s\u001b[0m 222ms/step - accuracy: 0.9847 - f1_score: 0.9850 - loss: 0.0434 - precision: 0.9863 - recall: 0.9836 - val_accuracy: 0.9949 - val_f1_score: 0.9950 - val_loss: 0.0156 - val_precision: 0.9952 - val_recall: 0.9948\n",
      "Epoch 68/100\n",
      "\u001b[1m223/223\u001b[0m \u001b[32m━━━━━━━━━━━━━━━━━━━━\u001b[0m\u001b[37m\u001b[0m \u001b[1m46s\u001b[0m 206ms/step - accuracy: 0.9912 - f1_score: 0.9906 - loss: 0.0293 - precision: 0.9913 - recall: 0.9899 - val_accuracy: 0.9885 - val_f1_score: 0.9886 - val_loss: 0.0351 - val_precision: 0.9893 - val_recall: 0.9878\n",
      "Epoch 69/100\n",
      "\u001b[1m223/223\u001b[0m \u001b[32m━━━━━━━━━━━━━━━━━━━━\u001b[0m\u001b[37m\u001b[0m \u001b[1m46s\u001b[0m 207ms/step - accuracy: 0.9864 - f1_score: 0.9864 - loss: 0.0448 - precision: 0.9870 - recall: 0.9859 - val_accuracy: 0.9949 - val_f1_score: 0.9948 - val_loss: 0.0162 - val_precision: 0.9954 - val_recall: 0.9942\n",
      "Epoch 70/100\n",
      "\u001b[1m223/223\u001b[0m \u001b[32m━━━━━━━━━━━━━━━━━━━━\u001b[0m\u001b[37m\u001b[0m \u001b[1m46s\u001b[0m 206ms/step - accuracy: 0.9881 - f1_score: 0.9884 - loss: 0.0468 - precision: 0.9891 - recall: 0.9876 - val_accuracy: 0.9965 - val_f1_score: 0.9965 - val_loss: 0.0118 - val_precision: 0.9968 - val_recall: 0.9962\n",
      "Epoch 71/100\n",
      "\u001b[1m223/223\u001b[0m \u001b[32m━━━━━━━━━━━━━━━━━━━━\u001b[0m\u001b[37m\u001b[0m \u001b[1m47s\u001b[0m 211ms/step - accuracy: 0.9920 - f1_score: 0.9916 - loss: 0.0244 - precision: 0.9920 - recall: 0.9912 - val_accuracy: 0.9958 - val_f1_score: 0.9958 - val_loss: 0.0128 - val_precision: 0.9962 - val_recall: 0.9954\n",
      "Epoch 72/100\n",
      "\u001b[1m223/223\u001b[0m \u001b[32m━━━━━━━━━━━━━━━━━━━━\u001b[0m\u001b[37m\u001b[0m \u001b[1m46s\u001b[0m 206ms/step - accuracy: 0.9854 - f1_score: 0.9859 - loss: 0.0411 - precision: 0.9867 - recall: 0.9850 - val_accuracy: 0.9893 - val_f1_score: 0.9896 - val_loss: 0.0359 - val_precision: 0.9904 - val_recall: 0.9888\n",
      "Epoch 73/100\n",
      "\u001b[1m223/223\u001b[0m \u001b[32m━━━━━━━━━━━━━━━━━━━━\u001b[0m\u001b[37m\u001b[0m \u001b[1m47s\u001b[0m 209ms/step - accuracy: 0.9853 - f1_score: 0.9852 - loss: 0.0479 - precision: 0.9858 - recall: 0.9845 - val_accuracy: 0.9949 - val_f1_score: 0.9950 - val_loss: 0.0174 - val_precision: 0.9954 - val_recall: 0.9947\n",
      "Epoch 74/100\n",
      "\u001b[1m223/223\u001b[0m \u001b[32m━━━━━━━━━━━━━━━━━━━━\u001b[0m\u001b[37m\u001b[0m \u001b[1m47s\u001b[0m 209ms/step - accuracy: 0.9878 - f1_score: 0.9882 - loss: 0.0324 - precision: 0.9889 - recall: 0.9874 - val_accuracy: 0.9975 - val_f1_score: 0.9975 - val_loss: 0.0094 - val_precision: 0.9976 - val_recall: 0.9973\n",
      "Epoch 75/100\n",
      "\u001b[1m223/223\u001b[0m \u001b[32m━━━━━━━━━━━━━━━━━━━━\u001b[0m\u001b[37m\u001b[0m \u001b[1m46s\u001b[0m 206ms/step - accuracy: 0.9912 - f1_score: 0.9911 - loss: 0.0266 - precision: 0.9913 - recall: 0.9908 - val_accuracy: 0.9928 - val_f1_score: 0.9928 - val_loss: 0.0275 - val_precision: 0.9931 - val_recall: 0.9924\n",
      "Epoch 76/100\n",
      "\u001b[1m223/223\u001b[0m \u001b[32m━━━━━━━━━━━━━━━━━━━━\u001b[0m\u001b[37m\u001b[0m \u001b[1m47s\u001b[0m 211ms/step - accuracy: 0.9810 - f1_score: 0.9808 - loss: 0.0578 - precision: 0.9819 - recall: 0.9797 - val_accuracy: 0.9945 - val_f1_score: 0.9949 - val_loss: 0.0133 - val_precision: 0.9956 - val_recall: 0.9942\n",
      "Epoch 77/100\n",
      "\u001b[1m223/223\u001b[0m \u001b[32m━━━━━━━━━━━━━━━━━━━━\u001b[0m\u001b[37m\u001b[0m \u001b[1m46s\u001b[0m 208ms/step - accuracy: 0.9848 - f1_score: 0.9846 - loss: 0.0460 - precision: 0.9849 - recall: 0.9842 - val_accuracy: 0.9951 - val_f1_score: 0.9950 - val_loss: 0.0165 - val_precision: 0.9952 - val_recall: 0.9948\n",
      "Epoch 78/100\n",
      "\u001b[1m223/223\u001b[0m \u001b[32m━━━━━━━━━━━━━━━━━━━━\u001b[0m\u001b[37m\u001b[0m \u001b[1m47s\u001b[0m 210ms/step - accuracy: 0.9954 - f1_score: 0.9948 - loss: 0.0207 - precision: 0.9955 - recall: 0.9940 - val_accuracy: 0.9968 - val_f1_score: 0.9966 - val_loss: 0.0102 - val_precision: 0.9968 - val_recall: 0.9965\n",
      "Epoch 79/100\n",
      "\u001b[1m223/223\u001b[0m \u001b[32m━━━━━━━━━━━━━━━━━━━━\u001b[0m\u001b[37m\u001b[0m \u001b[1m47s\u001b[0m 211ms/step - accuracy: 0.9920 - f1_score: 0.9921 - loss: 0.0257 - precision: 0.9925 - recall: 0.9917 - val_accuracy: 0.9949 - val_f1_score: 0.9948 - val_loss: 0.0173 - val_precision: 0.9952 - val_recall: 0.9944\n",
      "Epoch 80/100\n",
      "\u001b[1m223/223\u001b[0m \u001b[32m━━━━━━━━━━━━━━━━━━━━\u001b[0m\u001b[37m\u001b[0m \u001b[1m46s\u001b[0m 208ms/step - accuracy: 0.9923 - f1_score: 0.9922 - loss: 0.0236 - precision: 0.9929 - recall: 0.9916 - val_accuracy: 0.9983 - val_f1_score: 0.9983 - val_loss: 0.0067 - val_precision: 0.9985 - val_recall: 0.9982\n",
      "Epoch 81/100\n",
      "\u001b[1m223/223\u001b[0m \u001b[32m━━━━━━━━━━━━━━━━━━━━\u001b[0m\u001b[37m\u001b[0m \u001b[1m47s\u001b[0m 210ms/step - accuracy: 0.9906 - f1_score: 0.9907 - loss: 0.0285 - precision: 0.9914 - recall: 0.9900 - val_accuracy: 0.9956 - val_f1_score: 0.9959 - val_loss: 0.0112 - val_precision: 0.9962 - val_recall: 0.9955\n",
      "Epoch 82/100\n",
      "\u001b[1m223/223\u001b[0m \u001b[32m━━━━━━━━━━━━━━━━━━━━\u001b[0m\u001b[37m\u001b[0m \u001b[1m47s\u001b[0m 211ms/step - accuracy: 0.9928 - f1_score: 0.9930 - loss: 0.0272 - precision: 0.9936 - recall: 0.9925 - val_accuracy: 0.9972 - val_f1_score: 0.9971 - val_loss: 0.0093 - val_precision: 0.9972 - val_recall: 0.9971\n",
      "Epoch 83/100\n",
      "\u001b[1m223/223\u001b[0m \u001b[32m━━━━━━━━━━━━━━━━━━━━\u001b[0m\u001b[37m\u001b[0m \u001b[1m47s\u001b[0m 210ms/step - accuracy: 0.9828 - f1_score: 0.9833 - loss: 0.0510 - precision: 0.9841 - recall: 0.9825 - val_accuracy: 0.9882 - val_f1_score: 0.9883 - val_loss: 0.0392 - val_precision: 0.9888 - val_recall: 0.9878\n",
      "Epoch 84/100\n",
      "\u001b[1m223/223\u001b[0m \u001b[32m━━━━━━━━━━━━━━━━━━━━\u001b[0m\u001b[37m\u001b[0m \u001b[1m48s\u001b[0m 213ms/step - accuracy: 0.9854 - f1_score: 0.9854 - loss: 0.0552 - precision: 0.9858 - recall: 0.9850 - val_accuracy: 0.9952 - val_f1_score: 0.9952 - val_loss: 0.0153 - val_precision: 0.9952 - val_recall: 0.9951\n",
      "Epoch 85/100\n",
      "\u001b[1m223/223\u001b[0m \u001b[32m━━━━━━━━━━━━━━━━━━━━\u001b[0m\u001b[37m\u001b[0m \u001b[1m47s\u001b[0m 211ms/step - accuracy: 0.9880 - f1_score: 0.9883 - loss: 0.0265 - precision: 0.9888 - recall: 0.9877 - val_accuracy: 0.9959 - val_f1_score: 0.9959 - val_loss: 0.0135 - val_precision: 0.9959 - val_recall: 0.9958\n",
      "Epoch 86/100\n",
      "\u001b[1m223/223\u001b[0m \u001b[32m━━━━━━━━━━━━━━━━━━━━\u001b[0m\u001b[37m\u001b[0m \u001b[1m49s\u001b[0m 218ms/step - accuracy: 0.9905 - f1_score: 0.9905 - loss: 0.0351 - precision: 0.9909 - recall: 0.9902 - val_accuracy: 0.9952 - val_f1_score: 0.9952 - val_loss: 0.0136 - val_precision: 0.9955 - val_recall: 0.9949\n",
      "Epoch 87/100\n",
      "\u001b[1m223/223\u001b[0m \u001b[32m━━━━━━━━━━━━━━━━━━━━\u001b[0m\u001b[37m\u001b[0m \u001b[1m47s\u001b[0m 212ms/step - accuracy: 0.9893 - f1_score: 0.9896 - loss: 0.0329 - precision: 0.9900 - recall: 0.9891 - val_accuracy: 0.9651 - val_f1_score: 0.9651 - val_loss: 0.1045 - val_precision: 0.9686 - val_recall: 0.9615\n",
      "Epoch 88/100\n",
      "\u001b[1m223/223\u001b[0m \u001b[32m━━━━━━━━━━━━━━━━━━━━\u001b[0m\u001b[37m\u001b[0m \u001b[1m48s\u001b[0m 213ms/step - accuracy: 0.9790 - f1_score: 0.9784 - loss: 0.0683 - precision: 0.9801 - recall: 0.9767 - val_accuracy: 0.9931 - val_f1_score: 0.9932 - val_loss: 0.0172 - val_precision: 0.9935 - val_recall: 0.9928\n",
      "Epoch 89/100\n",
      "\u001b[1m223/223\u001b[0m \u001b[32m━━━━━━━━━━━━━━━━━━━━\u001b[0m\u001b[37m\u001b[0m \u001b[1m47s\u001b[0m 213ms/step - accuracy: 0.9915 - f1_score: 0.9913 - loss: 0.0302 - precision: 0.9915 - recall: 0.9912 - val_accuracy: 0.9979 - val_f1_score: 0.9980 - val_loss: 0.0070 - val_precision: 0.9982 - val_recall: 0.9979\n",
      "Epoch 90/100\n",
      "\u001b[1m223/223\u001b[0m \u001b[32m━━━━━━━━━━━━━━━━━━━━\u001b[0m\u001b[37m\u001b[0m \u001b[1m47s\u001b[0m 210ms/step - accuracy: 0.9824 - f1_score: 0.9826 - loss: 0.0536 - precision: 0.9831 - recall: 0.9821 - val_accuracy: 0.9889 - val_f1_score: 0.9889 - val_loss: 0.0358 - val_precision: 0.9893 - val_recall: 0.9885\n",
      "Epoch 91/100\n",
      "\u001b[1m223/223\u001b[0m \u001b[32m━━━━━━━━━━━━━━━━━━━━\u001b[0m\u001b[37m\u001b[0m \u001b[1m48s\u001b[0m 215ms/step - accuracy: 0.9880 - f1_score: 0.9879 - loss: 0.0288 - precision: 0.9883 - recall: 0.9875 - val_accuracy: 0.9987 - val_f1_score: 0.9988 - val_loss: 0.0068 - val_precision: 0.9989 - val_recall: 0.9987\n",
      "Epoch 92/100\n",
      "\u001b[1m223/223\u001b[0m \u001b[32m━━━━━━━━━━━━━━━━━━━━\u001b[0m\u001b[37m\u001b[0m \u001b[1m48s\u001b[0m 215ms/step - accuracy: 0.9886 - f1_score: 0.9888 - loss: 0.0345 - precision: 0.9893 - recall: 0.9884 - val_accuracy: 0.9986 - val_f1_score: 0.9985 - val_loss: 0.0063 - val_precision: 0.9986 - val_recall: 0.9985\n",
      "Epoch 93/100\n",
      "\u001b[1m223/223\u001b[0m \u001b[32m━━━━━━━━━━━━━━━━━━━━\u001b[0m\u001b[37m\u001b[0m \u001b[1m62s\u001b[0m 279ms/step - accuracy: 0.9905 - f1_score: 0.9906 - loss: 0.0311 - precision: 0.9911 - recall: 0.9902 - val_accuracy: 0.9949 - val_f1_score: 0.9949 - val_loss: 0.0153 - val_precision: 0.9951 - val_recall: 0.9947\n",
      "Epoch 94/100\n",
      "\u001b[1m223/223\u001b[0m \u001b[32m━━━━━━━━━━━━━━━━━━━━\u001b[0m\u001b[37m\u001b[0m \u001b[1m67s\u001b[0m 301ms/step - accuracy: 0.9917 - f1_score: 0.9911 - loss: 0.0227 - precision: 0.9919 - recall: 0.9903 - val_accuracy: 0.9978 - val_f1_score: 0.9978 - val_loss: 0.0074 - val_precision: 0.9978 - val_recall: 0.9978\n",
      "Epoch 95/100\n",
      "\u001b[1m223/223\u001b[0m \u001b[32m━━━━━━━━━━━━━━━━━━━━\u001b[0m\u001b[37m\u001b[0m \u001b[1m75s\u001b[0m 334ms/step - accuracy: 0.9881 - f1_score: 0.9882 - loss: 0.0364 - precision: 0.9889 - recall: 0.9876 - val_accuracy: 0.9933 - val_f1_score: 0.9931 - val_loss: 0.0257 - val_precision: 0.9933 - val_recall: 0.9930\n",
      "Epoch 96/100\n",
      "\u001b[1m223/223\u001b[0m \u001b[32m━━━━━━━━━━━━━━━━━━━━\u001b[0m\u001b[37m\u001b[0m \u001b[1m66s\u001b[0m 298ms/step - accuracy: 0.9888 - f1_score: 0.9886 - loss: 0.0391 - precision: 0.9889 - recall: 0.9883 - val_accuracy: 0.9980 - val_f1_score: 0.9982 - val_loss: 0.0074 - val_precision: 0.9983 - val_recall: 0.9980\n",
      "Epoch 97/100\n",
      "\u001b[1m223/223\u001b[0m \u001b[32m━━━━━━━━━━━━━━━━━━━━\u001b[0m\u001b[37m\u001b[0m \u001b[1m75s\u001b[0m 269ms/step - accuracy: 0.9782 - f1_score: 0.9790 - loss: 0.0689 - precision: 0.9802 - recall: 0.9778 - val_accuracy: 0.9955 - val_f1_score: 0.9956 - val_loss: 0.0122 - val_precision: 0.9956 - val_recall: 0.9955\n",
      "Epoch 98/100\n",
      "\u001b[1m223/223\u001b[0m \u001b[32m━━━━━━━━━━━━━━━━━━━━\u001b[0m\u001b[37m\u001b[0m \u001b[1m57s\u001b[0m 253ms/step - accuracy: 0.9895 - f1_score: 0.9897 - loss: 0.0361 - precision: 0.9900 - recall: 0.9894 - val_accuracy: 0.9892 - val_f1_score: 0.9891 - val_loss: 0.0409 - val_precision: 0.9893 - val_recall: 0.9888\n",
      "Epoch 99/100\n",
      "\u001b[1m223/223\u001b[0m \u001b[32m━━━━━━━━━━━━━━━━━━━━\u001b[0m\u001b[37m\u001b[0m \u001b[1m58s\u001b[0m 259ms/step - accuracy: 0.9922 - f1_score: 0.9922 - loss: 0.0333 - precision: 0.9924 - recall: 0.9920 - val_accuracy: 0.9973 - val_f1_score: 0.9973 - val_loss: 0.0080 - val_precision: 0.9973 - val_recall: 0.9973\n",
      "Epoch 100/100\n",
      "\u001b[1m223/223\u001b[0m \u001b[32m━━━━━━━━━━━━━━━━━━━━\u001b[0m\u001b[37m\u001b[0m \u001b[1m56s\u001b[0m 253ms/step - accuracy: 0.9920 - f1_score: 0.9921 - loss: 0.0258 - precision: 0.9924 - recall: 0.9918 - val_accuracy: 0.9966 - val_f1_score: 0.9964 - val_loss: 0.0086 - val_precision: 0.9966 - val_recall: 0.9962\n"
     ]
    }
   ],
   "source": [
    "# Train the model\n",
    "history = cnn.fit(\n",
    "    x=training_set,\n",
    "    validation_data=validation_set,\n",
    "    epochs=100\n",
    ")"
   ]
  },
  {
   "cell_type": "code",
   "execution_count": 11,
   "id": "fc65d0ca-cd6c-4c89-be9b-797a4f065f4e",
   "metadata": {},
   "outputs": [],
   "source": [
    "# Save Loss plot\n",
    "plt.figure()\n",
    "plt.plot(history.history['loss'], label='Train Loss')\n",
    "plt.plot(history.history['val_loss'], label='Validation Loss')\n",
    "plt.legend()\n",
    "plt.title(\"Loss\")\n",
    "plt.xlabel('Epochs')\n",
    "plt.ylabel('Loss')\n",
    "plt.savefig('loss_plot_cnn.png')  # Save the plot as a PNG file\n",
    "plt.close()\n",
    "\n",
    "# Save Accuracy plot\n",
    "plt.figure()\n",
    "plt.plot(history.history['accuracy'], label='Train Accuracy')\n",
    "plt.plot(history.history['val_accuracy'], label='Validation Accuracy')\n",
    "plt.legend()\n",
    "plt.title(\"Accuracy\")\n",
    "plt.xlabel('Epochs')\n",
    "plt.ylabel('Accuracy')\n",
    "plt.savefig('accuracy_plot_cnn.png')  # Save the plot as a PNG file\n",
    "plt.close()\n",
    "\n",
    "# Save Precision plot\n",
    "plt.figure()\n",
    "plt.plot(history.history['precision'], label='Train Precision')\n",
    "plt.plot(history.history['val_precision'], label='Validation Precision')\n",
    "plt.legend()\n",
    "plt.title(\"Precision\")\n",
    "plt.xlabel('Epochs')\n",
    "plt.ylabel('Precision')\n",
    "plt.savefig('precision_plot_cnn.png')  # Save the plot as a PNG file\n",
    "plt.close()\n",
    "\n",
    "# Save Recall plot\n",
    "plt.figure()\n",
    "plt.plot(history.history['recall'], label='Train Recall')\n",
    "plt.plot(history.history['val_recall'], label='Validation Recall')\n",
    "plt.legend()\n",
    "plt.title(\"Recall\")\n",
    "plt.xlabel('Epochs')\n",
    "plt.ylabel('Recall')\n",
    "plt.savefig('recall_plot_cnn.png')  # Save the plot as a PNG file\n",
    "plt.close()\n",
    "\n",
    "# Save F1 Score plot\n",
    "plt.figure()\n",
    "plt.plot(history.history['f1_score'], label='Train F1 Score')\n",
    "plt.plot(history.history['val_f1_score'], label='Validation F1 Score')\n",
    "plt.legend()\n",
    "plt.title(\"F1 Score\")\n",
    "plt.xlabel('Epochs')\n",
    "plt.ylabel('F1 Score')\n",
    "plt.savefig('f1_score_plot_cnn.png')  # Save the plot as a PNG file\n",
    "plt.close()"
   ]
  },
  {
   "cell_type": "code",
   "execution_count": 12,
   "id": "a2f6dfb1-274e-489a-8577-b9871ea54480",
   "metadata": {},
   "outputs": [
    {
     "data": {
      "text/html": [
       "<pre style=\"white-space:pre;overflow-x:auto;line-height:normal;font-family:Menlo,'DejaVu Sans Mono',consolas,'Courier New',monospace\"><span style=\"font-weight: bold\">Model: \"sequential\"</span>\n",
       "</pre>\n"
      ],
      "text/plain": [
       "\u001b[1mModel: \"sequential\"\u001b[0m\n"
      ]
     },
     "metadata": {},
     "output_type": "display_data"
    },
    {
     "data": {
      "text/html": [
       "<pre style=\"white-space:pre;overflow-x:auto;line-height:normal;font-family:Menlo,'DejaVu Sans Mono',consolas,'Courier New',monospace\">┏━━━━━━━━━━━━━━━━━━━━━━━━━━━━━━━━━━━━━━┳━━━━━━━━━━━━━━━━━━━━━━━━━━━━━┳━━━━━━━━━━━━━━━━━┓\n",
       "┃<span style=\"font-weight: bold\"> Layer (type)                         </span>┃<span style=\"font-weight: bold\"> Output Shape                </span>┃<span style=\"font-weight: bold\">         Param # </span>┃\n",
       "┡━━━━━━━━━━━━━━━━━━━━━━━━━━━━━━━━━━━━━━╇━━━━━━━━━━━━━━━━━━━━━━━━━━━━━╇━━━━━━━━━━━━━━━━━┩\n",
       "│ conv2d (<span style=\"color: #0087ff; text-decoration-color: #0087ff\">Conv2D</span>)                      │ (<span style=\"color: #00d7ff; text-decoration-color: #00d7ff\">None</span>, <span style=\"color: #00af00; text-decoration-color: #00af00\">62</span>, <span style=\"color: #00af00; text-decoration-color: #00af00\">62</span>, <span style=\"color: #00af00; text-decoration-color: #00af00\">32</span>)          │             <span style=\"color: #00af00; text-decoration-color: #00af00\">896</span> │\n",
       "├──────────────────────────────────────┼─────────────────────────────┼─────────────────┤\n",
       "│ max_pooling2d (<span style=\"color: #0087ff; text-decoration-color: #0087ff\">MaxPooling2D</span>)         │ (<span style=\"color: #00d7ff; text-decoration-color: #00d7ff\">None</span>, <span style=\"color: #00af00; text-decoration-color: #00af00\">31</span>, <span style=\"color: #00af00; text-decoration-color: #00af00\">31</span>, <span style=\"color: #00af00; text-decoration-color: #00af00\">32</span>)          │               <span style=\"color: #00af00; text-decoration-color: #00af00\">0</span> │\n",
       "├──────────────────────────────────────┼─────────────────────────────┼─────────────────┤\n",
       "│ conv2d_1 (<span style=\"color: #0087ff; text-decoration-color: #0087ff\">Conv2D</span>)                    │ (<span style=\"color: #00d7ff; text-decoration-color: #00d7ff\">None</span>, <span style=\"color: #00af00; text-decoration-color: #00af00\">29</span>, <span style=\"color: #00af00; text-decoration-color: #00af00\">29</span>, <span style=\"color: #00af00; text-decoration-color: #00af00\">64</span>)          │          <span style=\"color: #00af00; text-decoration-color: #00af00\">18,496</span> │\n",
       "├──────────────────────────────────────┼─────────────────────────────┼─────────────────┤\n",
       "│ max_pooling2d_1 (<span style=\"color: #0087ff; text-decoration-color: #0087ff\">MaxPooling2D</span>)       │ (<span style=\"color: #00d7ff; text-decoration-color: #00d7ff\">None</span>, <span style=\"color: #00af00; text-decoration-color: #00af00\">14</span>, <span style=\"color: #00af00; text-decoration-color: #00af00\">14</span>, <span style=\"color: #00af00; text-decoration-color: #00af00\">64</span>)          │               <span style=\"color: #00af00; text-decoration-color: #00af00\">0</span> │\n",
       "├──────────────────────────────────────┼─────────────────────────────┼─────────────────┤\n",
       "│ conv2d_2 (<span style=\"color: #0087ff; text-decoration-color: #0087ff\">Conv2D</span>)                    │ (<span style=\"color: #00d7ff; text-decoration-color: #00d7ff\">None</span>, <span style=\"color: #00af00; text-decoration-color: #00af00\">12</span>, <span style=\"color: #00af00; text-decoration-color: #00af00\">12</span>, <span style=\"color: #00af00; text-decoration-color: #00af00\">128</span>)         │          <span style=\"color: #00af00; text-decoration-color: #00af00\">73,856</span> │\n",
       "├──────────────────────────────────────┼─────────────────────────────┼─────────────────┤\n",
       "│ max_pooling2d_2 (<span style=\"color: #0087ff; text-decoration-color: #0087ff\">MaxPooling2D</span>)       │ (<span style=\"color: #00d7ff; text-decoration-color: #00d7ff\">None</span>, <span style=\"color: #00af00; text-decoration-color: #00af00\">6</span>, <span style=\"color: #00af00; text-decoration-color: #00af00\">6</span>, <span style=\"color: #00af00; text-decoration-color: #00af00\">128</span>)           │               <span style=\"color: #00af00; text-decoration-color: #00af00\">0</span> │\n",
       "├──────────────────────────────────────┼─────────────────────────────┼─────────────────┤\n",
       "│ flatten (<span style=\"color: #0087ff; text-decoration-color: #0087ff\">Flatten</span>)                    │ (<span style=\"color: #00d7ff; text-decoration-color: #00d7ff\">None</span>, <span style=\"color: #00af00; text-decoration-color: #00af00\">4608</span>)                │               <span style=\"color: #00af00; text-decoration-color: #00af00\">0</span> │\n",
       "├──────────────────────────────────────┼─────────────────────────────┼─────────────────┤\n",
       "│ dense (<span style=\"color: #0087ff; text-decoration-color: #0087ff\">Dense</span>)                        │ (<span style=\"color: #00d7ff; text-decoration-color: #00d7ff\">None</span>, <span style=\"color: #00af00; text-decoration-color: #00af00\">128</span>)                 │         <span style=\"color: #00af00; text-decoration-color: #00af00\">589,952</span> │\n",
       "├──────────────────────────────────────┼─────────────────────────────┼─────────────────┤\n",
       "│ dense_1 (<span style=\"color: #0087ff; text-decoration-color: #0087ff\">Dense</span>)                      │ (<span style=\"color: #00d7ff; text-decoration-color: #00d7ff\">None</span>, <span style=\"color: #00af00; text-decoration-color: #00af00\">6</span>)                   │             <span style=\"color: #00af00; text-decoration-color: #00af00\">774</span> │\n",
       "└──────────────────────────────────────┴─────────────────────────────┴─────────────────┘\n",
       "</pre>\n"
      ],
      "text/plain": [
       "┏━━━━━━━━━━━━━━━━━━━━━━━━━━━━━━━━━━━━━━┳━━━━━━━━━━━━━━━━━━━━━━━━━━━━━┳━━━━━━━━━━━━━━━━━┓\n",
       "┃\u001b[1m \u001b[0m\u001b[1mLayer (type)                        \u001b[0m\u001b[1m \u001b[0m┃\u001b[1m \u001b[0m\u001b[1mOutput Shape               \u001b[0m\u001b[1m \u001b[0m┃\u001b[1m \u001b[0m\u001b[1m        Param #\u001b[0m\u001b[1m \u001b[0m┃\n",
       "┡━━━━━━━━━━━━━━━━━━━━━━━━━━━━━━━━━━━━━━╇━━━━━━━━━━━━━━━━━━━━━━━━━━━━━╇━━━━━━━━━━━━━━━━━┩\n",
       "│ conv2d (\u001b[38;5;33mConv2D\u001b[0m)                      │ (\u001b[38;5;45mNone\u001b[0m, \u001b[38;5;34m62\u001b[0m, \u001b[38;5;34m62\u001b[0m, \u001b[38;5;34m32\u001b[0m)          │             \u001b[38;5;34m896\u001b[0m │\n",
       "├──────────────────────────────────────┼─────────────────────────────┼─────────────────┤\n",
       "│ max_pooling2d (\u001b[38;5;33mMaxPooling2D\u001b[0m)         │ (\u001b[38;5;45mNone\u001b[0m, \u001b[38;5;34m31\u001b[0m, \u001b[38;5;34m31\u001b[0m, \u001b[38;5;34m32\u001b[0m)          │               \u001b[38;5;34m0\u001b[0m │\n",
       "├──────────────────────────────────────┼─────────────────────────────┼─────────────────┤\n",
       "│ conv2d_1 (\u001b[38;5;33mConv2D\u001b[0m)                    │ (\u001b[38;5;45mNone\u001b[0m, \u001b[38;5;34m29\u001b[0m, \u001b[38;5;34m29\u001b[0m, \u001b[38;5;34m64\u001b[0m)          │          \u001b[38;5;34m18,496\u001b[0m │\n",
       "├──────────────────────────────────────┼─────────────────────────────┼─────────────────┤\n",
       "│ max_pooling2d_1 (\u001b[38;5;33mMaxPooling2D\u001b[0m)       │ (\u001b[38;5;45mNone\u001b[0m, \u001b[38;5;34m14\u001b[0m, \u001b[38;5;34m14\u001b[0m, \u001b[38;5;34m64\u001b[0m)          │               \u001b[38;5;34m0\u001b[0m │\n",
       "├──────────────────────────────────────┼─────────────────────────────┼─────────────────┤\n",
       "│ conv2d_2 (\u001b[38;5;33mConv2D\u001b[0m)                    │ (\u001b[38;5;45mNone\u001b[0m, \u001b[38;5;34m12\u001b[0m, \u001b[38;5;34m12\u001b[0m, \u001b[38;5;34m128\u001b[0m)         │          \u001b[38;5;34m73,856\u001b[0m │\n",
       "├──────────────────────────────────────┼─────────────────────────────┼─────────────────┤\n",
       "│ max_pooling2d_2 (\u001b[38;5;33mMaxPooling2D\u001b[0m)       │ (\u001b[38;5;45mNone\u001b[0m, \u001b[38;5;34m6\u001b[0m, \u001b[38;5;34m6\u001b[0m, \u001b[38;5;34m128\u001b[0m)           │               \u001b[38;5;34m0\u001b[0m │\n",
       "├──────────────────────────────────────┼─────────────────────────────┼─────────────────┤\n",
       "│ flatten (\u001b[38;5;33mFlatten\u001b[0m)                    │ (\u001b[38;5;45mNone\u001b[0m, \u001b[38;5;34m4608\u001b[0m)                │               \u001b[38;5;34m0\u001b[0m │\n",
       "├──────────────────────────────────────┼─────────────────────────────┼─────────────────┤\n",
       "│ dense (\u001b[38;5;33mDense\u001b[0m)                        │ (\u001b[38;5;45mNone\u001b[0m, \u001b[38;5;34m128\u001b[0m)                 │         \u001b[38;5;34m589,952\u001b[0m │\n",
       "├──────────────────────────────────────┼─────────────────────────────┼─────────────────┤\n",
       "│ dense_1 (\u001b[38;5;33mDense\u001b[0m)                      │ (\u001b[38;5;45mNone\u001b[0m, \u001b[38;5;34m6\u001b[0m)                   │             \u001b[38;5;34m774\u001b[0m │\n",
       "└──────────────────────────────────────┴─────────────────────────────┴─────────────────┘\n"
      ]
     },
     "metadata": {},
     "output_type": "display_data"
    },
    {
     "data": {
      "text/html": [
       "<pre style=\"white-space:pre;overflow-x:auto;line-height:normal;font-family:Menlo,'DejaVu Sans Mono',consolas,'Courier New',monospace\"><span style=\"font-weight: bold\"> Total params: </span><span style=\"color: #00af00; text-decoration-color: #00af00\">2,051,924</span> (7.83 MB)\n",
       "</pre>\n"
      ],
      "text/plain": [
       "\u001b[1m Total params: \u001b[0m\u001b[38;5;34m2,051,924\u001b[0m (7.83 MB)\n"
      ]
     },
     "metadata": {},
     "output_type": "display_data"
    },
    {
     "data": {
      "text/html": [
       "<pre style=\"white-space:pre;overflow-x:auto;line-height:normal;font-family:Menlo,'DejaVu Sans Mono',consolas,'Courier New',monospace\"><span style=\"font-weight: bold\"> Trainable params: </span><span style=\"color: #00af00; text-decoration-color: #00af00\">683,974</span> (2.61 MB)\n",
       "</pre>\n"
      ],
      "text/plain": [
       "\u001b[1m Trainable params: \u001b[0m\u001b[38;5;34m683,974\u001b[0m (2.61 MB)\n"
      ]
     },
     "metadata": {},
     "output_type": "display_data"
    },
    {
     "data": {
      "text/html": [
       "<pre style=\"white-space:pre;overflow-x:auto;line-height:normal;font-family:Menlo,'DejaVu Sans Mono',consolas,'Courier New',monospace\"><span style=\"font-weight: bold\"> Non-trainable params: </span><span style=\"color: #00af00; text-decoration-color: #00af00\">0</span> (0.00 B)\n",
       "</pre>\n"
      ],
      "text/plain": [
       "\u001b[1m Non-trainable params: \u001b[0m\u001b[38;5;34m0\u001b[0m (0.00 B)\n"
      ]
     },
     "metadata": {},
     "output_type": "display_data"
    },
    {
     "data": {
      "text/html": [
       "<pre style=\"white-space:pre;overflow-x:auto;line-height:normal;font-family:Menlo,'DejaVu Sans Mono',consolas,'Courier New',monospace\"><span style=\"font-weight: bold\"> Optimizer params: </span><span style=\"color: #00af00; text-decoration-color: #00af00\">1,367,950</span> (5.22 MB)\n",
       "</pre>\n"
      ],
      "text/plain": [
       "\u001b[1m Optimizer params: \u001b[0m\u001b[38;5;34m1,367,950\u001b[0m (5.22 MB)\n"
      ]
     },
     "metadata": {},
     "output_type": "display_data"
    }
   ],
   "source": [
    "cnn.summary()"
   ]
  },
  {
   "cell_type": "code",
   "execution_count": null,
   "id": "c5b2eaec-f06f-4a3a-88bc-8b50210760f0",
   "metadata": {},
   "outputs": [],
   "source": []
  }
 ],
 "metadata": {
  "kernelspec": {
   "display_name": "Python 3 (ipykernel)",
   "language": "python",
   "name": "python3"
  },
  "language_info": {
   "codemirror_mode": {
    "name": "ipython",
    "version": 3
   },
   "file_extension": ".py",
   "mimetype": "text/x-python",
   "name": "python",
   "nbconvert_exporter": "python",
   "pygments_lexer": "ipython3",
   "version": "3.12.2"
  }
 },
 "nbformat": 4,
 "nbformat_minor": 5
}
