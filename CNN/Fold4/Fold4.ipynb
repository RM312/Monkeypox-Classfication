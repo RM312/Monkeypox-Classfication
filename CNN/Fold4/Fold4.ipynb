{
 "cells": [
  {
   "cell_type": "code",
   "execution_count": 1,
   "id": "72ba6ff5-c3bb-40de-81b3-b303f31e7416",
   "metadata": {},
   "outputs": [],
   "source": [
    "import tensorflow as tf\n",
    "from tensorflow.keras.preprocessing.image import ImageDataGenerator\n",
    "import matplotlib.pyplot as plt"
   ]
  },
  {
   "cell_type": "code",
   "execution_count": 2,
   "id": "067a7b03-015b-4f93-9171-3f3fea838200",
   "metadata": {},
   "outputs": [
    {
     "name": "stdout",
     "output_type": "stream",
     "text": [
      "Found 7336 images belonging to 6 classes.\n"
     ]
    }
   ],
   "source": [
    "# Data Augmentation for Training\n",
    "train_datagen = ImageDataGenerator(rescale=1./255,\n",
    "                                   shear_range=0.2,\n",
    "                                   zoom_range=0.2,\n",
    "                                   horizontal_flip=True)\n",
    "training_set = train_datagen.flow_from_directory(\n",
    "    \"Monkeypox/archive (60)/Augmented Images/Augmented Images/FOLDS_AUG/fold4_AUG/Train/\",\n",
    "    target_size=(64, 64),\n",
    "    batch_size=32,\n",
    "    class_mode='categorical',  # Use 'categorical' for one-hot encoded labels\n",
    ")"
   ]
  },
  {
   "cell_type": "code",
   "execution_count": 3,
   "id": "062137d2-1f2f-49aa-8034-d40001dd7fb5",
   "metadata": {},
   "outputs": [
    {
     "name": "stdout",
     "output_type": "stream",
     "text": [
      "Found 7336 images belonging to 6 classes.\n"
     ]
    }
   ],
   "source": [
    "test_datagen = ImageDataGenerator(rescale=1./255)\n",
    "validation_set = test_datagen.flow_from_directory(\n",
    "    \"Monkeypox/archive (60)/Augmented Images/Augmented Images/FOLDS_AUG/fold4_AUG/Train/\",\n",
    "    target_size=(64, 64),\n",
    "    batch_size=32,\n",
    "    class_mode='categorical',  # Use 'categorical' for one-hot encoded labels\n",
    ")"
   ]
  },
  {
   "cell_type": "code",
   "execution_count": 4,
   "id": "000274e4-0fbb-4702-87f3-ad2a2a79731f",
   "metadata": {},
   "outputs": [],
   "source": [
    "# Custom F1 Score Metric\n",
    "class F1Score(tf.keras.metrics.Metric):\n",
    "    def __init__(self, name='f1_score', **kwargs):\n",
    "        super(F1Score, self).__init__(name=name, **kwargs)\n",
    "        self.precision = tf.keras.metrics.Precision()\n",
    "        self.recall = tf.keras.metrics.Recall()\n",
    "\n",
    "    def update_state(self, y_true, y_pred, sample_weight=None):\n",
    "        # Update the precision and recall for each batch\n",
    "        self.precision.update_state(y_true, y_pred, sample_weight)\n",
    "        self.recall.update_state(y_true, y_pred, sample_weight)\n",
    "\n",
    "    def result(self):\n",
    "        # Calculate F1 score as the harmonic mean of precision and recall\n",
    "        precision = self.precision.result()\n",
    "        recall = self.recall.result()\n",
    "        return 2 * (precision * recall) / (precision + recall + tf.keras.backend.epsilon())\n",
    "\n",
    "    def reset_states(self):\n",
    "        self.precision.reset_states()\n",
    "        self.recall.reset_states()"
   ]
  },
  {
   "cell_type": "code",
   "execution_count": 5,
   "id": "3c830082-c855-4e34-8803-fb0a3ecd1e95",
   "metadata": {},
   "outputs": [],
   "source": [
    "# Build the CNN Model\n",
    "cnn = tf.keras.models.Sequential()"
   ]
  },
  {
   "cell_type": "code",
   "execution_count": 6,
   "id": "6ee0b01c-6c60-4d58-8db6-495cdff9168a",
   "metadata": {},
   "outputs": [
    {
     "name": "stderr",
     "output_type": "stream",
     "text": [
      "C:\\Users\\KIIT\\AppData\\Local\\Programs\\Python\\Python312\\Lib\\site-packages\\keras\\src\\layers\\convolutional\\base_conv.py:107: UserWarning: Do not pass an `input_shape`/`input_dim` argument to a layer. When using Sequential models, prefer using an `Input(shape)` object as the first layer in the model instead.\n",
      "  super().__init__(activity_regularizer=activity_regularizer, **kwargs)\n"
     ]
    }
   ],
   "source": [
    "# Convolutional Layers\n",
    "cnn.add(tf.keras.layers.Conv2D(filters=32, kernel_size=(3, 3), activation='relu', input_shape=(64, 64, 3)))\n",
    "cnn.add(tf.keras.layers.MaxPooling2D(pool_size=(2, 2)))\n",
    "\n",
    "cnn.add(tf.keras.layers.Conv2D(filters=64, kernel_size=(3, 3), activation='relu'))\n",
    "cnn.add(tf.keras.layers.MaxPooling2D(pool_size=(2, 2)))\n",
    "\n",
    "cnn.add(tf.keras.layers.Conv2D(filters=128, kernel_size=(3, 3), activation='relu'))\n",
    "cnn.add(tf.keras.layers.MaxPooling2D(pool_size=(2, 2)))"
   ]
  },
  {
   "cell_type": "code",
   "execution_count": 7,
   "id": "91c73829-bfb9-4732-82e5-73b54ee9aff1",
   "metadata": {},
   "outputs": [],
   "source": [
    "# Flatten and Fully Connected Layers\n",
    "cnn.add(tf.keras.layers.Flatten())\n",
    "cnn.add(tf.keras.layers.Dense(units=128, activation='relu'))\n",
    "cnn.add(tf.keras.layers.Dense(6, activation='softmax'))  # 6 classes"
   ]
  },
  {
   "cell_type": "code",
   "execution_count": 8,
   "id": "1bfd44a1-f394-40c5-97f4-2093e3341d24",
   "metadata": {},
   "outputs": [],
   "source": [
    "# Compile the model with Precision, Recall, and F1 Score\n",
    "cnn.compile(\n",
    "    optimizer='adam',\n",
    "    loss='categorical_crossentropy',  # Use categorical_crossentropy for one-hot encoded labels\n",
    "    metrics=[\n",
    "        'accuracy',\n",
    "        tf.keras.metrics.Precision(name='precision'),\n",
    "        tf.keras.metrics.Recall(name='recall'),\n",
    "        F1Score(name='f1_score')  # Add custom F1 score metric\n",
    "    ]\n",
    ")"
   ]
  },
  {
   "cell_type": "code",
   "execution_count": 9,
   "id": "17bae8da-8636-46f3-937f-b82b1b45aaab",
   "metadata": {},
   "outputs": [
    {
     "name": "stderr",
     "output_type": "stream",
     "text": [
      "C:\\Users\\KIIT\\AppData\\Local\\Programs\\Python\\Python312\\Lib\\site-packages\\keras\\src\\trainers\\data_adapters\\py_dataset_adapter.py:121: UserWarning: Your `PyDataset` class should call `super().__init__(**kwargs)` in its constructor. `**kwargs` can include `workers`, `use_multiprocessing`, `max_queue_size`. Do not pass these arguments to `fit()`, as they will be ignored.\n",
      "  self._warn_if_super_not_called()\n"
     ]
    },
    {
     "name": "stdout",
     "output_type": "stream",
     "text": [
      "Epoch 1/100\n",
      "\u001b[1m230/230\u001b[0m \u001b[32m━━━━━━━━━━━━━━━━━━━━\u001b[0m\u001b[37m\u001b[0m \u001b[1m0s\u001b[0m 175ms/step - accuracy: 0.3564 - f1_score: 0.0277 - loss: 1.6275 - precision: 0.3749 - recall: 0.0146"
     ]
    },
    {
     "name": "stderr",
     "output_type": "stream",
     "text": [
      "C:\\Users\\KIIT\\AppData\\Local\\Programs\\Python\\Python312\\Lib\\site-packages\\keras\\src\\trainers\\data_adapters\\py_dataset_adapter.py:121: UserWarning: Your `PyDataset` class should call `super().__init__(**kwargs)` in its constructor. `**kwargs` can include `workers`, `use_multiprocessing`, `max_queue_size`. Do not pass these arguments to `fit()`, as they will be ignored.\n",
      "  self._warn_if_super_not_called()\n"
     ]
    },
    {
     "name": "stdout",
     "output_type": "stream",
     "text": [
      "\u001b[1m230/230\u001b[0m \u001b[32m━━━━━━━━━━━━━━━━━━━━\u001b[0m\u001b[37m\u001b[0m \u001b[1m58s\u001b[0m 233ms/step - accuracy: 0.3566 - f1_score: 0.0279 - loss: 1.6272 - precision: 0.3756 - recall: 0.0147 - val_accuracy: 0.4562 - val_f1_score: 0.3140 - val_loss: 1.4318 - val_precision: 0.6030 - val_recall: 0.2122\n",
      "Epoch 2/100\n",
      "\u001b[1m230/230\u001b[0m \u001b[32m━━━━━━━━━━━━━━━━━━━━\u001b[0m\u001b[37m\u001b[0m \u001b[1m43s\u001b[0m 186ms/step - accuracy: 0.4753 - f1_score: 0.3018 - loss: 1.3902 - precision: 0.6417 - recall: 0.1979 - val_accuracy: 0.5394 - val_f1_score: 0.4458 - val_loss: 1.2102 - val_precision: 0.7020 - val_recall: 0.3266\n",
      "Epoch 3/100\n",
      "\u001b[1m230/230\u001b[0m \u001b[32m━━━━━━━━━━━━━━━━━━━━\u001b[0m\u001b[37m\u001b[0m \u001b[1m44s\u001b[0m 190ms/step - accuracy: 0.5560 - f1_score: 0.4634 - loss: 1.1759 - precision: 0.7140 - recall: 0.3438 - val_accuracy: 0.6013 - val_f1_score: 0.5485 - val_loss: 1.0588 - val_precision: 0.7047 - val_recall: 0.4490\n",
      "Epoch 4/100\n",
      "\u001b[1m230/230\u001b[0m \u001b[32m━━━━━━━━━━━━━━━━━━━━\u001b[0m\u001b[37m\u001b[0m \u001b[1m44s\u001b[0m 190ms/step - accuracy: 0.6120 - f1_score: 0.5546 - loss: 1.0235 - precision: 0.7443 - recall: 0.4426 - val_accuracy: 0.6474 - val_f1_score: 0.5862 - val_loss: 0.9236 - val_precision: 0.8078 - val_recall: 0.4601\n",
      "Epoch 5/100\n",
      "\u001b[1m230/230\u001b[0m \u001b[32m━━━━━━━━━━━━━━━━━━━━\u001b[0m\u001b[37m\u001b[0m \u001b[1m44s\u001b[0m 190ms/step - accuracy: 0.6663 - f1_score: 0.6250 - loss: 0.8941 - precision: 0.7795 - recall: 0.5222 - val_accuracy: 0.7274 - val_f1_score: 0.7167 - val_loss: 0.7392 - val_precision: 0.8225 - val_recall: 0.6350\n",
      "Epoch 6/100\n",
      "\u001b[1m230/230\u001b[0m \u001b[32m━━━━━━━━━━━━━━━━━━━━\u001b[0m\u001b[37m\u001b[0m \u001b[1m46s\u001b[0m 198ms/step - accuracy: 0.7156 - f1_score: 0.6928 - loss: 0.7566 - precision: 0.8107 - recall: 0.6051 - val_accuracy: 0.7800 - val_f1_score: 0.7660 - val_loss: 0.5993 - val_precision: 0.8789 - val_recall: 0.6788\n",
      "Epoch 7/100\n",
      "\u001b[1m230/230\u001b[0m \u001b[32m━━━━━━━━━━━━━━━━━━━━\u001b[0m\u001b[37m\u001b[0m \u001b[1m44s\u001b[0m 189ms/step - accuracy: 0.7593 - f1_score: 0.7428 - loss: 0.6570 - precision: 0.8393 - recall: 0.6663 - val_accuracy: 0.8171 - val_f1_score: 0.8159 - val_loss: 0.4903 - val_precision: 0.8777 - val_recall: 0.7623\n",
      "Epoch 8/100\n",
      "\u001b[1m230/230\u001b[0m \u001b[32m━━━━━━━━━━━━━━━━━━━━\u001b[0m\u001b[37m\u001b[0m \u001b[1m44s\u001b[0m 192ms/step - accuracy: 0.7974 - f1_score: 0.7880 - loss: 0.5605 - precision: 0.8600 - recall: 0.7272 - val_accuracy: 0.8623 - val_f1_score: 0.8573 - val_loss: 0.3917 - val_precision: 0.9150 - val_recall: 0.8066\n",
      "Epoch 9/100\n",
      "\u001b[1m230/230\u001b[0m \u001b[32m━━━━━━━━━━━━━━━━━━━━\u001b[0m\u001b[37m\u001b[0m \u001b[1m44s\u001b[0m 193ms/step - accuracy: 0.8346 - f1_score: 0.8320 - loss: 0.4667 - precision: 0.8861 - recall: 0.7841 - val_accuracy: 0.8540 - val_f1_score: 0.8513 - val_loss: 0.3952 - val_precision: 0.8882 - val_recall: 0.8173\n",
      "Epoch 10/100\n",
      "\u001b[1m230/230\u001b[0m \u001b[32m━━━━━━━━━━━━━━━━━━━━\u001b[0m\u001b[37m\u001b[0m \u001b[1m53s\u001b[0m 232ms/step - accuracy: 0.8396 - f1_score: 0.8404 - loss: 0.4410 - precision: 0.8809 - recall: 0.8035 - val_accuracy: 0.8670 - val_f1_score: 0.8580 - val_loss: 0.3969 - val_precision: 0.9096 - val_recall: 0.8119\n",
      "Epoch 11/100\n",
      "\u001b[1m230/230\u001b[0m \u001b[32m━━━━━━━━━━━━━━━━━━━━\u001b[0m\u001b[37m\u001b[0m \u001b[1m51s\u001b[0m 222ms/step - accuracy: 0.8649 - f1_score: 0.8612 - loss: 0.3922 - precision: 0.9056 - recall: 0.8211 - val_accuracy: 0.8909 - val_f1_score: 0.8877 - val_loss: 0.3090 - val_precision: 0.9160 - val_recall: 0.8611\n",
      "Epoch 12/100\n",
      "\u001b[1m230/230\u001b[0m \u001b[32m━━━━━━━━━━━━━━━━━━━━\u001b[0m\u001b[37m\u001b[0m \u001b[1m54s\u001b[0m 236ms/step - accuracy: 0.8738 - f1_score: 0.8751 - loss: 0.3401 - precision: 0.9055 - recall: 0.8468 - val_accuracy: 0.9128 - val_f1_score: 0.9127 - val_loss: 0.2621 - val_precision: 0.9361 - val_recall: 0.8904\n",
      "Epoch 13/100\n",
      "\u001b[1m230/230\u001b[0m \u001b[32m━━━━━━━━━━━━━━━━━━━━\u001b[0m\u001b[37m\u001b[0m \u001b[1m55s\u001b[0m 238ms/step - accuracy: 0.9079 - f1_score: 0.9075 - loss: 0.2699 - precision: 0.9310 - recall: 0.8852 - val_accuracy: 0.9457 - val_f1_score: 0.9470 - val_loss: 0.1721 - val_precision: 0.9618 - val_recall: 0.9327\n",
      "Epoch 14/100\n",
      "\u001b[1m230/230\u001b[0m \u001b[32m━━━━━━━━━━━━━━━━━━━━\u001b[0m\u001b[37m\u001b[0m \u001b[1m56s\u001b[0m 243ms/step - accuracy: 0.9072 - f1_score: 0.9046 - loss: 0.2641 - precision: 0.9237 - recall: 0.8862 - val_accuracy: 0.9348 - val_f1_score: 0.9341 - val_loss: 0.1945 - val_precision: 0.9512 - val_recall: 0.9175\n",
      "Epoch 15/100\n",
      "\u001b[1m230/230\u001b[0m \u001b[32m━━━━━━━━━━━━━━━━━━━━\u001b[0m\u001b[37m\u001b[0m \u001b[1m44s\u001b[0m 190ms/step - accuracy: 0.9192 - f1_score: 0.9209 - loss: 0.2310 - precision: 0.9373 - recall: 0.9051 - val_accuracy: 0.9432 - val_f1_score: 0.9419 - val_loss: 0.1813 - val_precision: 0.9544 - val_recall: 0.9297\n",
      "Epoch 16/100\n",
      "\u001b[1m230/230\u001b[0m \u001b[32m━━━━━━━━━━━━━━━━━━━━\u001b[0m\u001b[37m\u001b[0m \u001b[1m50s\u001b[0m 219ms/step - accuracy: 0.9339 - f1_score: 0.9327 - loss: 0.2035 - precision: 0.9474 - recall: 0.9185 - val_accuracy: 0.9501 - val_f1_score: 0.9499 - val_loss: 0.1474 - val_precision: 0.9599 - val_recall: 0.9400\n",
      "Epoch 17/100\n",
      "\u001b[1m230/230\u001b[0m \u001b[32m━━━━━━━━━━━━━━━━━━━━\u001b[0m\u001b[37m\u001b[0m \u001b[1m44s\u001b[0m 191ms/step - accuracy: 0.9279 - f1_score: 0.9302 - loss: 0.1949 - precision: 0.9424 - recall: 0.9183 - val_accuracy: 0.9496 - val_f1_score: 0.9489 - val_loss: 0.1499 - val_precision: 0.9635 - val_recall: 0.9348\n",
      "Epoch 18/100\n",
      "\u001b[1m230/230\u001b[0m \u001b[32m━━━━━━━━━━━━━━━━━━━━\u001b[0m\u001b[37m\u001b[0m \u001b[1m43s\u001b[0m 189ms/step - accuracy: 0.9416 - f1_score: 0.9415 - loss: 0.1792 - precision: 0.9528 - recall: 0.9305 - val_accuracy: 0.9617 - val_f1_score: 0.9613 - val_loss: 0.1163 - val_precision: 0.9704 - val_recall: 0.9523\n",
      "Epoch 19/100\n",
      "\u001b[1m230/230\u001b[0m \u001b[32m━━━━━━━━━━━━━━━━━━━━\u001b[0m\u001b[37m\u001b[0m \u001b[1m43s\u001b[0m 187ms/step - accuracy: 0.9499 - f1_score: 0.9513 - loss: 0.1620 - precision: 0.9592 - recall: 0.9435 - val_accuracy: 0.9576 - val_f1_score: 0.9584 - val_loss: 0.1228 - val_precision: 0.9676 - val_recall: 0.9493\n",
      "Epoch 20/100\n",
      "\u001b[1m230/230\u001b[0m \u001b[32m━━━━━━━━━━━━━━━━━━━━\u001b[0m\u001b[37m\u001b[0m \u001b[1m44s\u001b[0m 191ms/step - accuracy: 0.9486 - f1_score: 0.9477 - loss: 0.1449 - precision: 0.9548 - recall: 0.9407 - val_accuracy: 0.9676 - val_f1_score: 0.9682 - val_loss: 0.1022 - val_precision: 0.9742 - val_recall: 0.9622\n",
      "Epoch 21/100\n",
      "\u001b[1m230/230\u001b[0m \u001b[32m━━━━━━━━━━━━━━━━━━━━\u001b[0m\u001b[37m\u001b[0m \u001b[1m44s\u001b[0m 190ms/step - accuracy: 0.9430 - f1_score: 0.9443 - loss: 0.1612 - precision: 0.9538 - recall: 0.9350 - val_accuracy: 0.9693 - val_f1_score: 0.9690 - val_loss: 0.0922 - val_precision: 0.9741 - val_recall: 0.9639\n",
      "Epoch 22/100\n",
      "\u001b[1m230/230\u001b[0m \u001b[32m━━━━━━━━━━━━━━━━━━━━\u001b[0m\u001b[37m\u001b[0m \u001b[1m43s\u001b[0m 187ms/step - accuracy: 0.9529 - f1_score: 0.9525 - loss: 0.1407 - precision: 0.9578 - recall: 0.9472 - val_accuracy: 0.9577 - val_f1_score: 0.9582 - val_loss: 0.1183 - val_precision: 0.9658 - val_recall: 0.9508\n",
      "Epoch 23/100\n",
      "\u001b[1m230/230\u001b[0m \u001b[32m━━━━━━━━━━━━━━━━━━━━\u001b[0m\u001b[37m\u001b[0m \u001b[1m44s\u001b[0m 190ms/step - accuracy: 0.9516 - f1_score: 0.9516 - loss: 0.1398 - precision: 0.9584 - recall: 0.9449 - val_accuracy: 0.9703 - val_f1_score: 0.9708 - val_loss: 0.0850 - val_precision: 0.9746 - val_recall: 0.9670\n",
      "Epoch 24/100\n",
      "\u001b[1m230/230\u001b[0m \u001b[32m━━━━━━━━━━━━━━━━━━━━\u001b[0m\u001b[37m\u001b[0m \u001b[1m49s\u001b[0m 212ms/step - accuracy: 0.9528 - f1_score: 0.9525 - loss: 0.1244 - precision: 0.9589 - recall: 0.9462 - val_accuracy: 0.9730 - val_f1_score: 0.9737 - val_loss: 0.0842 - val_precision: 0.9768 - val_recall: 0.9706\n",
      "Epoch 25/100\n",
      "\u001b[1m230/230\u001b[0m \u001b[32m━━━━━━━━━━━━━━━━━━━━\u001b[0m\u001b[37m\u001b[0m \u001b[1m44s\u001b[0m 190ms/step - accuracy: 0.9655 - f1_score: 0.9658 - loss: 0.1066 - precision: 0.9699 - recall: 0.9617 - val_accuracy: 0.9847 - val_f1_score: 0.9855 - val_loss: 0.0507 - val_precision: 0.9878 - val_recall: 0.9832\n",
      "Epoch 26/100\n",
      "\u001b[1m230/230\u001b[0m \u001b[32m━━━━━━━━━━━━━━━━━━━━\u001b[0m\u001b[37m\u001b[0m \u001b[1m45s\u001b[0m 196ms/step - accuracy: 0.9610 - f1_score: 0.9617 - loss: 0.1083 - precision: 0.9670 - recall: 0.9565 - val_accuracy: 0.9786 - val_f1_score: 0.9789 - val_loss: 0.0644 - val_precision: 0.9824 - val_recall: 0.9753\n",
      "Epoch 27/100\n",
      "\u001b[1m230/230\u001b[0m \u001b[32m━━━━━━━━━━━━━━━━━━━━\u001b[0m\u001b[37m\u001b[0m \u001b[1m47s\u001b[0m 202ms/step - accuracy: 0.9597 - f1_score: 0.9604 - loss: 0.1129 - precision: 0.9649 - recall: 0.9559 - val_accuracy: 0.9876 - val_f1_score: 0.9879 - val_loss: 0.0408 - val_precision: 0.9893 - val_recall: 0.9865\n",
      "Epoch 28/100\n",
      "\u001b[1m230/230\u001b[0m \u001b[32m━━━━━━━━━━━━━━━━━━━━\u001b[0m\u001b[37m\u001b[0m \u001b[1m43s\u001b[0m 185ms/step - accuracy: 0.9676 - f1_score: 0.9669 - loss: 0.0933 - precision: 0.9711 - recall: 0.9628 - val_accuracy: 0.9701 - val_f1_score: 0.9702 - val_loss: 0.0874 - val_precision: 0.9722 - val_recall: 0.9682\n",
      "Epoch 29/100\n",
      "\u001b[1m230/230\u001b[0m \u001b[32m━━━━━━━━━━━━━━━━━━━━\u001b[0m\u001b[37m\u001b[0m \u001b[1m44s\u001b[0m 189ms/step - accuracy: 0.9702 - f1_score: 0.9705 - loss: 0.0853 - precision: 0.9727 - recall: 0.9682 - val_accuracy: 0.9598 - val_f1_score: 0.9593 - val_loss: 0.1207 - val_precision: 0.9656 - val_recall: 0.9531\n",
      "Epoch 30/100\n",
      "\u001b[1m230/230\u001b[0m \u001b[32m━━━━━━━━━━━━━━━━━━━━\u001b[0m\u001b[37m\u001b[0m \u001b[1m43s\u001b[0m 189ms/step - accuracy: 0.9612 - f1_score: 0.9610 - loss: 0.1118 - precision: 0.9652 - recall: 0.9568 - val_accuracy: 0.9883 - val_f1_score: 0.9874 - val_loss: 0.0415 - val_precision: 0.9892 - val_recall: 0.9857\n",
      "Epoch 31/100\n",
      "\u001b[1m230/230\u001b[0m \u001b[32m━━━━━━━━━━━━━━━━━━━━\u001b[0m\u001b[37m\u001b[0m \u001b[1m43s\u001b[0m 185ms/step - accuracy: 0.9673 - f1_score: 0.9673 - loss: 0.0910 - precision: 0.9699 - recall: 0.9646 - val_accuracy: 0.9857 - val_f1_score: 0.9862 - val_loss: 0.0391 - val_precision: 0.9885 - val_recall: 0.9839\n",
      "Epoch 32/100\n",
      "\u001b[1m230/230\u001b[0m \u001b[32m━━━━━━━━━━━━━━━━━━━━\u001b[0m\u001b[37m\u001b[0m \u001b[1m43s\u001b[0m 188ms/step - accuracy: 0.9793 - f1_score: 0.9802 - loss: 0.0692 - precision: 0.9827 - recall: 0.9777 - val_accuracy: 0.9734 - val_f1_score: 0.9740 - val_loss: 0.0756 - val_precision: 0.9767 - val_recall: 0.9714\n",
      "Epoch 33/100\n",
      "\u001b[1m230/230\u001b[0m \u001b[32m━━━━━━━━━━━━━━━━━━━━\u001b[0m\u001b[37m\u001b[0m \u001b[1m44s\u001b[0m 191ms/step - accuracy: 0.9654 - f1_score: 0.9652 - loss: 0.0981 - precision: 0.9694 - recall: 0.9610 - val_accuracy: 0.9885 - val_f1_score: 0.9886 - val_loss: 0.0357 - val_precision: 0.9899 - val_recall: 0.9873\n",
      "Epoch 34/100\n",
      "\u001b[1m230/230\u001b[0m \u001b[32m━━━━━━━━━━━━━━━━━━━━\u001b[0m\u001b[37m\u001b[0m \u001b[1m44s\u001b[0m 192ms/step - accuracy: 0.9802 - f1_score: 0.9798 - loss: 0.0573 - precision: 0.9825 - recall: 0.9772 - val_accuracy: 0.9918 - val_f1_score: 0.9916 - val_loss: 0.0338 - val_precision: 0.9937 - val_recall: 0.9895\n",
      "Epoch 35/100\n",
      "\u001b[1m230/230\u001b[0m \u001b[32m━━━━━━━━━━━━━━━━━━━━\u001b[0m\u001b[37m\u001b[0m \u001b[1m43s\u001b[0m 188ms/step - accuracy: 0.9751 - f1_score: 0.9760 - loss: 0.0684 - precision: 0.9786 - recall: 0.9734 - val_accuracy: 0.9809 - val_f1_score: 0.9808 - val_loss: 0.0700 - val_precision: 0.9816 - val_recall: 0.9800\n",
      "Epoch 36/100\n",
      "\u001b[1m230/230\u001b[0m \u001b[32m━━━━━━━━━━━━━━━━━━━━\u001b[0m\u001b[37m\u001b[0m \u001b[1m44s\u001b[0m 193ms/step - accuracy: 0.9736 - f1_score: 0.9739 - loss: 0.0845 - precision: 0.9769 - recall: 0.9708 - val_accuracy: 0.9857 - val_f1_score: 0.9856 - val_loss: 0.0458 - val_precision: 0.9874 - val_recall: 0.9838\n",
      "Epoch 37/100\n",
      "\u001b[1m230/230\u001b[0m \u001b[32m━━━━━━━━━━━━━━━━━━━━\u001b[0m\u001b[37m\u001b[0m \u001b[1m43s\u001b[0m 188ms/step - accuracy: 0.9753 - f1_score: 0.9744 - loss: 0.0784 - precision: 0.9785 - recall: 0.9704 - val_accuracy: 0.9875 - val_f1_score: 0.9873 - val_loss: 0.0389 - val_precision: 0.9889 - val_recall: 0.9857\n",
      "Epoch 38/100\n",
      "\u001b[1m230/230\u001b[0m \u001b[32m━━━━━━━━━━━━━━━━━━━━\u001b[0m\u001b[37m\u001b[0m \u001b[1m43s\u001b[0m 188ms/step - accuracy: 0.9726 - f1_score: 0.9728 - loss: 0.0725 - precision: 0.9753 - recall: 0.9704 - val_accuracy: 0.9899 - val_f1_score: 0.9904 - val_loss: 0.0327 - val_precision: 0.9917 - val_recall: 0.9891\n",
      "Epoch 39/100\n",
      "\u001b[1m230/230\u001b[0m \u001b[32m━━━━━━━━━━━━━━━━━━━━\u001b[0m\u001b[37m\u001b[0m \u001b[1m43s\u001b[0m 188ms/step - accuracy: 0.9795 - f1_score: 0.9795 - loss: 0.0636 - precision: 0.9819 - recall: 0.9772 - val_accuracy: 0.9880 - val_f1_score: 0.9881 - val_loss: 0.0370 - val_precision: 0.9895 - val_recall: 0.9868\n",
      "Epoch 40/100\n",
      "\u001b[1m230/230\u001b[0m \u001b[32m━━━━━━━━━━━━━━━━━━━━\u001b[0m\u001b[37m\u001b[0m \u001b[1m44s\u001b[0m 190ms/step - accuracy: 0.9776 - f1_score: 0.9779 - loss: 0.0643 - precision: 0.9810 - recall: 0.9749 - val_accuracy: 0.9903 - val_f1_score: 0.9900 - val_loss: 0.0328 - val_precision: 0.9915 - val_recall: 0.9884\n",
      "Epoch 41/100\n",
      "\u001b[1m230/230\u001b[0m \u001b[32m━━━━━━━━━━━━━━━━━━━━\u001b[0m\u001b[37m\u001b[0m \u001b[1m44s\u001b[0m 190ms/step - accuracy: 0.9851 - f1_score: 0.9853 - loss: 0.0462 - precision: 0.9873 - recall: 0.9833 - val_accuracy: 0.9899 - val_f1_score: 0.9904 - val_loss: 0.0281 - val_precision: 0.9918 - val_recall: 0.9891\n",
      "Epoch 42/100\n",
      "\u001b[1m230/230\u001b[0m \u001b[32m━━━━━━━━━━━━━━━━━━━━\u001b[0m\u001b[37m\u001b[0m \u001b[1m51s\u001b[0m 220ms/step - accuracy: 0.9770 - f1_score: 0.9772 - loss: 0.0605 - precision: 0.9793 - recall: 0.9752 - val_accuracy: 0.9752 - val_f1_score: 0.9757 - val_loss: 0.0705 - val_precision: 0.9777 - val_recall: 0.9737\n",
      "Epoch 43/100\n",
      "\u001b[1m230/230\u001b[0m \u001b[32m━━━━━━━━━━━━━━━━━━━━\u001b[0m\u001b[37m\u001b[0m \u001b[1m49s\u001b[0m 214ms/step - accuracy: 0.9750 - f1_score: 0.9747 - loss: 0.0741 - precision: 0.9768 - recall: 0.9727 - val_accuracy: 0.9937 - val_f1_score: 0.9935 - val_loss: 0.0236 - val_precision: 0.9941 - val_recall: 0.9929\n",
      "Epoch 44/100\n",
      "\u001b[1m230/230\u001b[0m \u001b[32m━━━━━━━━━━━━━━━━━━━━\u001b[0m\u001b[37m\u001b[0m \u001b[1m48s\u001b[0m 208ms/step - accuracy: 0.9772 - f1_score: 0.9772 - loss: 0.0711 - precision: 0.9797 - recall: 0.9747 - val_accuracy: 0.9925 - val_f1_score: 0.9919 - val_loss: 0.0238 - val_precision: 0.9929 - val_recall: 0.9910\n",
      "Epoch 45/100\n",
      "\u001b[1m230/230\u001b[0m \u001b[32m━━━━━━━━━━━━━━━━━━━━\u001b[0m\u001b[37m\u001b[0m \u001b[1m48s\u001b[0m 208ms/step - accuracy: 0.9784 - f1_score: 0.9785 - loss: 0.0624 - precision: 0.9801 - recall: 0.9770 - val_accuracy: 0.9766 - val_f1_score: 0.9767 - val_loss: 0.0658 - val_precision: 0.9783 - val_recall: 0.9752\n",
      "Epoch 46/100\n",
      "\u001b[1m230/230\u001b[0m \u001b[32m━━━━━━━━━━━━━━━━━━━━\u001b[0m\u001b[37m\u001b[0m \u001b[1m48s\u001b[0m 209ms/step - accuracy: 0.9642 - f1_score: 0.9655 - loss: 0.1040 - precision: 0.9680 - recall: 0.9629 - val_accuracy: 0.9891 - val_f1_score: 0.9891 - val_loss: 0.0347 - val_precision: 0.9904 - val_recall: 0.9877\n",
      "Epoch 47/100\n",
      "\u001b[1m230/230\u001b[0m \u001b[32m━━━━━━━━━━━━━━━━━━━━\u001b[0m\u001b[37m\u001b[0m \u001b[1m51s\u001b[0m 220ms/step - accuracy: 0.9810 - f1_score: 0.9808 - loss: 0.0561 - precision: 0.9830 - recall: 0.9787 - val_accuracy: 0.9851 - val_f1_score: 0.9852 - val_loss: 0.0454 - val_precision: 0.9858 - val_recall: 0.9846\n",
      "Epoch 48/100\n",
      "\u001b[1m230/230\u001b[0m \u001b[32m━━━━━━━━━━━━━━━━━━━━\u001b[0m\u001b[37m\u001b[0m \u001b[1m48s\u001b[0m 210ms/step - accuracy: 0.9728 - f1_score: 0.9738 - loss: 0.0739 - precision: 0.9757 - recall: 0.9719 - val_accuracy: 0.9950 - val_f1_score: 0.9946 - val_loss: 0.0164 - val_precision: 0.9955 - val_recall: 0.9937\n",
      "Epoch 49/100\n",
      "\u001b[1m230/230\u001b[0m \u001b[32m━━━━━━━━━━━━━━━━━━━━\u001b[0m\u001b[37m\u001b[0m \u001b[1m48s\u001b[0m 207ms/step - accuracy: 0.9789 - f1_score: 0.9783 - loss: 0.0639 - precision: 0.9796 - recall: 0.9770 - val_accuracy: 0.9909 - val_f1_score: 0.9907 - val_loss: 0.0268 - val_precision: 0.9910 - val_recall: 0.9903\n",
      "Epoch 50/100\n",
      "\u001b[1m230/230\u001b[0m \u001b[32m━━━━━━━━━━━━━━━━━━━━\u001b[0m\u001b[37m\u001b[0m \u001b[1m47s\u001b[0m 206ms/step - accuracy: 0.9787 - f1_score: 0.9788 - loss: 0.0671 - precision: 0.9803 - recall: 0.9774 - val_accuracy: 0.9928 - val_f1_score: 0.9929 - val_loss: 0.0219 - val_precision: 0.9932 - val_recall: 0.9926\n",
      "Epoch 51/100\n",
      "\u001b[1m230/230\u001b[0m \u001b[32m━━━━━━━━━━━━━━━━━━━━\u001b[0m\u001b[37m\u001b[0m \u001b[1m48s\u001b[0m 207ms/step - accuracy: 0.9858 - f1_score: 0.9855 - loss: 0.0557 - precision: 0.9863 - recall: 0.9846 - val_accuracy: 0.9928 - val_f1_score: 0.9927 - val_loss: 0.0277 - val_precision: 0.9933 - val_recall: 0.9921\n",
      "Epoch 52/100\n",
      "\u001b[1m230/230\u001b[0m \u001b[32m━━━━━━━━━━━━━━━━━━━━\u001b[0m\u001b[37m\u001b[0m \u001b[1m56s\u001b[0m 244ms/step - accuracy: 0.9870 - f1_score: 0.9868 - loss: 0.0403 - precision: 0.9880 - recall: 0.9856 - val_accuracy: 0.9875 - val_f1_score: 0.9873 - val_loss: 0.0331 - val_precision: 0.9879 - val_recall: 0.9868\n",
      "Epoch 53/100\n",
      "\u001b[1m230/230\u001b[0m \u001b[32m━━━━━━━━━━━━━━━━━━━━\u001b[0m\u001b[37m\u001b[0m \u001b[1m48s\u001b[0m 209ms/step - accuracy: 0.9837 - f1_score: 0.9837 - loss: 0.0503 - precision: 0.9849 - recall: 0.9826 - val_accuracy: 0.9880 - val_f1_score: 0.9875 - val_loss: 0.0372 - val_precision: 0.9881 - val_recall: 0.9869\n",
      "Epoch 54/100\n",
      "\u001b[1m230/230\u001b[0m \u001b[32m━━━━━━━━━━━━━━━━━━━━\u001b[0m\u001b[37m\u001b[0m \u001b[1m62s\u001b[0m 271ms/step - accuracy: 0.9811 - f1_score: 0.9814 - loss: 0.0563 - precision: 0.9829 - recall: 0.9800 - val_accuracy: 0.9925 - val_f1_score: 0.9928 - val_loss: 0.0221 - val_precision: 0.9939 - val_recall: 0.9917\n",
      "Epoch 55/100\n",
      "\u001b[1m230/230\u001b[0m \u001b[32m━━━━━━━━━━━━━━━━━━━━\u001b[0m\u001b[37m\u001b[0m \u001b[1m68s\u001b[0m 298ms/step - accuracy: 0.9887 - f1_score: 0.9885 - loss: 0.0334 - precision: 0.9894 - recall: 0.9876 - val_accuracy: 0.9906 - val_f1_score: 0.9905 - val_loss: 0.0278 - val_precision: 0.9915 - val_recall: 0.9895\n",
      "Epoch 56/100\n",
      "\u001b[1m230/230\u001b[0m \u001b[32m━━━━━━━━━━━━━━━━━━━━\u001b[0m\u001b[37m\u001b[0m \u001b[1m70s\u001b[0m 302ms/step - accuracy: 0.9845 - f1_score: 0.9847 - loss: 0.0416 - precision: 0.9855 - recall: 0.9839 - val_accuracy: 0.9941 - val_f1_score: 0.9943 - val_loss: 0.0197 - val_precision: 0.9950 - val_recall: 0.9937\n",
      "Epoch 57/100\n",
      "\u001b[1m230/230\u001b[0m \u001b[32m━━━━━━━━━━━━━━━━━━━━\u001b[0m\u001b[37m\u001b[0m \u001b[1m69s\u001b[0m 301ms/step - accuracy: 0.9838 - f1_score: 0.9838 - loss: 0.0501 - precision: 0.9856 - recall: 0.9820 - val_accuracy: 0.9827 - val_f1_score: 0.9822 - val_loss: 0.0462 - val_precision: 0.9848 - val_recall: 0.9796\n",
      "Epoch 58/100\n",
      "\u001b[1m230/230\u001b[0m \u001b[32m━━━━━━━━━━━━━━━━━━━━\u001b[0m\u001b[37m\u001b[0m \u001b[1m69s\u001b[0m 299ms/step - accuracy: 0.9786 - f1_score: 0.9783 - loss: 0.0617 - precision: 0.9798 - recall: 0.9767 - val_accuracy: 0.9738 - val_f1_score: 0.9742 - val_loss: 0.0778 - val_precision: 0.9753 - val_recall: 0.9731\n",
      "Epoch 59/100\n",
      "\u001b[1m230/230\u001b[0m \u001b[32m━━━━━━━━━━━━━━━━━━━━\u001b[0m\u001b[37m\u001b[0m \u001b[1m68s\u001b[0m 294ms/step - accuracy: 0.9809 - f1_score: 0.9810 - loss: 0.0561 - precision: 0.9818 - recall: 0.9802 - val_accuracy: 0.9892 - val_f1_score: 0.9892 - val_loss: 0.0311 - val_precision: 0.9899 - val_recall: 0.9885\n",
      "Epoch 60/100\n",
      "\u001b[1m230/230\u001b[0m \u001b[32m━━━━━━━━━━━━━━━━━━━━\u001b[0m\u001b[37m\u001b[0m \u001b[1m67s\u001b[0m 292ms/step - accuracy: 0.9878 - f1_score: 0.9879 - loss: 0.0355 - precision: 0.9885 - recall: 0.9874 - val_accuracy: 0.9849 - val_f1_score: 0.9847 - val_loss: 0.0427 - val_precision: 0.9855 - val_recall: 0.9838\n",
      "Epoch 61/100\n",
      "\u001b[1m230/230\u001b[0m \u001b[32m━━━━━━━━━━━━━━━━━━━━\u001b[0m\u001b[37m\u001b[0m \u001b[1m68s\u001b[0m 296ms/step - accuracy: 0.9832 - f1_score: 0.9830 - loss: 0.0556 - precision: 0.9839 - recall: 0.9822 - val_accuracy: 0.9945 - val_f1_score: 0.9944 - val_loss: 0.0211 - val_precision: 0.9948 - val_recall: 0.9940\n",
      "Epoch 62/100\n",
      "\u001b[1m230/230\u001b[0m \u001b[32m━━━━━━━━━━━━━━━━━━━━\u001b[0m\u001b[37m\u001b[0m \u001b[1m68s\u001b[0m 295ms/step - accuracy: 0.9839 - f1_score: 0.9841 - loss: 0.0470 - precision: 0.9849 - recall: 0.9834 - val_accuracy: 0.9846 - val_f1_score: 0.9848 - val_loss: 0.0460 - val_precision: 0.9854 - val_recall: 0.9842\n",
      "Epoch 63/100\n",
      "\u001b[1m230/230\u001b[0m \u001b[32m━━━━━━━━━━━━━━━━━━━━\u001b[0m\u001b[37m\u001b[0m \u001b[1m67s\u001b[0m 293ms/step - accuracy: 0.9711 - f1_score: 0.9711 - loss: 0.0770 - precision: 0.9729 - recall: 0.9692 - val_accuracy: 0.9954 - val_f1_score: 0.9956 - val_loss: 0.0165 - val_precision: 0.9967 - val_recall: 0.9944\n",
      "Epoch 64/100\n",
      "\u001b[1m230/230\u001b[0m \u001b[32m━━━━━━━━━━━━━━━━━━━━\u001b[0m\u001b[37m\u001b[0m \u001b[1m68s\u001b[0m 297ms/step - accuracy: 0.9827 - f1_score: 0.9823 - loss: 0.0490 - precision: 0.9837 - recall: 0.9809 - val_accuracy: 0.9967 - val_f1_score: 0.9965 - val_loss: 0.0122 - val_precision: 0.9967 - val_recall: 0.9962\n",
      "Epoch 65/100\n",
      "\u001b[1m230/230\u001b[0m \u001b[32m━━━━━━━━━━━━━━━━━━━━\u001b[0m\u001b[37m\u001b[0m \u001b[1m68s\u001b[0m 295ms/step - accuracy: 0.9860 - f1_score: 0.9860 - loss: 0.0394 - precision: 0.9866 - recall: 0.9853 - val_accuracy: 0.9928 - val_f1_score: 0.9926 - val_loss: 0.0255 - val_precision: 0.9930 - val_recall: 0.9922\n",
      "Epoch 66/100\n",
      "\u001b[1m230/230\u001b[0m \u001b[32m━━━━━━━━━━━━━━━━━━━━\u001b[0m\u001b[37m\u001b[0m \u001b[1m67s\u001b[0m 293ms/step - accuracy: 0.9820 - f1_score: 0.9822 - loss: 0.0618 - precision: 0.9832 - recall: 0.9812 - val_accuracy: 0.9963 - val_f1_score: 0.9963 - val_loss: 0.0121 - val_precision: 0.9966 - val_recall: 0.9960\n",
      "Epoch 67/100\n",
      "\u001b[1m230/230\u001b[0m \u001b[32m━━━━━━━━━━━━━━━━━━━━\u001b[0m\u001b[37m\u001b[0m \u001b[1m67s\u001b[0m 293ms/step - accuracy: 0.9873 - f1_score: 0.9869 - loss: 0.0382 - precision: 0.9880 - recall: 0.9859 - val_accuracy: 0.9880 - val_f1_score: 0.9881 - val_loss: 0.0353 - val_precision: 0.9899 - val_recall: 0.9864\n",
      "Epoch 68/100\n",
      "\u001b[1m230/230\u001b[0m \u001b[32m━━━━━━━━━━━━━━━━━━━━\u001b[0m\u001b[37m\u001b[0m \u001b[1m68s\u001b[0m 298ms/step - accuracy: 0.9889 - f1_score: 0.9887 - loss: 0.0412 - precision: 0.9899 - recall: 0.9874 - val_accuracy: 0.9879 - val_f1_score: 0.9882 - val_loss: 0.0421 - val_precision: 0.9893 - val_recall: 0.9871\n",
      "Epoch 69/100\n",
      "\u001b[1m230/230\u001b[0m \u001b[32m━━━━━━━━━━━━━━━━━━━━\u001b[0m\u001b[37m\u001b[0m \u001b[1m70s\u001b[0m 305ms/step - accuracy: 0.9818 - f1_score: 0.9812 - loss: 0.0629 - precision: 0.9822 - recall: 0.9802 - val_accuracy: 0.9894 - val_f1_score: 0.9892 - val_loss: 0.0302 - val_precision: 0.9899 - val_recall: 0.9885\n",
      "Epoch 70/100\n",
      "\u001b[1m230/230\u001b[0m \u001b[32m━━━━━━━━━━━━━━━━━━━━\u001b[0m\u001b[37m\u001b[0m \u001b[1m68s\u001b[0m 294ms/step - accuracy: 0.9884 - f1_score: 0.9883 - loss: 0.0350 - precision: 0.9890 - recall: 0.9875 - val_accuracy: 0.9958 - val_f1_score: 0.9956 - val_loss: 0.0137 - val_precision: 0.9959 - val_recall: 0.9954\n",
      "Epoch 71/100\n",
      "\u001b[1m230/230\u001b[0m \u001b[32m━━━━━━━━━━━━━━━━━━━━\u001b[0m\u001b[37m\u001b[0m \u001b[1m69s\u001b[0m 301ms/step - accuracy: 0.9860 - f1_score: 0.9866 - loss: 0.0534 - precision: 0.9877 - recall: 0.9856 - val_accuracy: 0.9956 - val_f1_score: 0.9957 - val_loss: 0.0111 - val_precision: 0.9958 - val_recall: 0.9956\n",
      "Epoch 72/100\n",
      "\u001b[1m230/230\u001b[0m \u001b[32m━━━━━━━━━━━━━━━━━━━━\u001b[0m\u001b[37m\u001b[0m \u001b[1m70s\u001b[0m 303ms/step - accuracy: 0.9910 - f1_score: 0.9910 - loss: 0.0277 - precision: 0.9916 - recall: 0.9904 - val_accuracy: 0.9951 - val_f1_score: 0.9948 - val_loss: 0.0166 - val_precision: 0.9955 - val_recall: 0.9941\n",
      "Epoch 73/100\n",
      "\u001b[1m230/230\u001b[0m \u001b[32m━━━━━━━━━━━━━━━━━━━━\u001b[0m\u001b[37m\u001b[0m \u001b[1m69s\u001b[0m 301ms/step - accuracy: 0.9838 - f1_score: 0.9848 - loss: 0.0451 - precision: 0.9862 - recall: 0.9834 - val_accuracy: 0.9962 - val_f1_score: 0.9962 - val_loss: 0.0148 - val_precision: 0.9967 - val_recall: 0.9958\n",
      "Epoch 74/100\n",
      "\u001b[1m230/230\u001b[0m \u001b[32m━━━━━━━━━━━━━━━━━━━━\u001b[0m\u001b[37m\u001b[0m \u001b[1m69s\u001b[0m 302ms/step - accuracy: 0.9899 - f1_score: 0.9899 - loss: 0.0323 - precision: 0.9903 - recall: 0.9894 - val_accuracy: 0.9761 - val_f1_score: 0.9757 - val_loss: 0.0792 - val_precision: 0.9773 - val_recall: 0.9741\n",
      "Epoch 75/100\n",
      "\u001b[1m230/230\u001b[0m \u001b[32m━━━━━━━━━━━━━━━━━━━━\u001b[0m\u001b[37m\u001b[0m \u001b[1m69s\u001b[0m 301ms/step - accuracy: 0.9893 - f1_score: 0.9897 - loss: 0.0359 - precision: 0.9906 - recall: 0.9888 - val_accuracy: 0.9894 - val_f1_score: 0.9895 - val_loss: 0.0311 - val_precision: 0.9900 - val_recall: 0.9890\n",
      "Epoch 76/100\n",
      "\u001b[1m230/230\u001b[0m \u001b[32m━━━━━━━━━━━━━━━━━━━━\u001b[0m\u001b[37m\u001b[0m \u001b[1m68s\u001b[0m 296ms/step - accuracy: 0.9829 - f1_score: 0.9823 - loss: 0.0602 - precision: 0.9836 - recall: 0.9811 - val_accuracy: 0.9911 - val_f1_score: 0.9913 - val_loss: 0.0269 - val_precision: 0.9919 - val_recall: 0.9907\n",
      "Epoch 77/100\n",
      "\u001b[1m230/230\u001b[0m \u001b[32m━━━━━━━━━━━━━━━━━━━━\u001b[0m\u001b[37m\u001b[0m \u001b[1m68s\u001b[0m 295ms/step - accuracy: 0.9892 - f1_score: 0.9888 - loss: 0.0335 - precision: 0.9895 - recall: 0.9881 - val_accuracy: 0.9900 - val_f1_score: 0.9902 - val_loss: 0.0270 - val_precision: 0.9903 - val_recall: 0.9900\n",
      "Epoch 78/100\n",
      "\u001b[1m230/230\u001b[0m \u001b[32m━━━━━━━━━━━━━━━━━━━━\u001b[0m\u001b[37m\u001b[0m \u001b[1m68s\u001b[0m 295ms/step - accuracy: 0.9899 - f1_score: 0.9900 - loss: 0.0342 - precision: 0.9905 - recall: 0.9895 - val_accuracy: 0.9973 - val_f1_score: 0.9972 - val_loss: 0.0107 - val_precision: 0.9973 - val_recall: 0.9971\n",
      "Epoch 79/100\n",
      "\u001b[1m230/230\u001b[0m \u001b[32m━━━━━━━━━━━━━━━━━━━━\u001b[0m\u001b[37m\u001b[0m \u001b[1m68s\u001b[0m 294ms/step - accuracy: 0.9890 - f1_score: 0.9893 - loss: 0.0300 - precision: 0.9898 - recall: 0.9889 - val_accuracy: 0.9960 - val_f1_score: 0.9962 - val_loss: 0.0131 - val_precision: 0.9963 - val_recall: 0.9960\n",
      "Epoch 80/100\n",
      "\u001b[1m230/230\u001b[0m \u001b[32m━━━━━━━━━━━━━━━━━━━━\u001b[0m\u001b[37m\u001b[0m \u001b[1m69s\u001b[0m 299ms/step - accuracy: 0.9832 - f1_score: 0.9836 - loss: 0.0549 - precision: 0.9855 - recall: 0.9817 - val_accuracy: 0.9929 - val_f1_score: 0.9930 - val_loss: 0.0204 - val_precision: 0.9935 - val_recall: 0.9926\n",
      "Epoch 81/100\n",
      "\u001b[1m230/230\u001b[0m \u001b[32m━━━━━━━━━━━━━━━━━━━━\u001b[0m\u001b[37m\u001b[0m \u001b[1m68s\u001b[0m 296ms/step - accuracy: 0.9925 - f1_score: 0.9928 - loss: 0.0228 - precision: 0.9936 - recall: 0.9920 - val_accuracy: 0.9962 - val_f1_score: 0.9963 - val_loss: 0.0140 - val_precision: 0.9970 - val_recall: 0.9956\n",
      "Epoch 82/100\n",
      "\u001b[1m230/230\u001b[0m \u001b[32m━━━━━━━━━━━━━━━━━━━━\u001b[0m\u001b[37m\u001b[0m \u001b[1m68s\u001b[0m 295ms/step - accuracy: 0.9853 - f1_score: 0.9856 - loss: 0.0409 - precision: 0.9865 - recall: 0.9846 - val_accuracy: 0.9823 - val_f1_score: 0.9822 - val_loss: 0.0466 - val_precision: 0.9829 - val_recall: 0.9815\n",
      "Epoch 83/100\n",
      "\u001b[1m230/230\u001b[0m \u001b[32m━━━━━━━━━━━━━━━━━━━━\u001b[0m\u001b[37m\u001b[0m \u001b[1m70s\u001b[0m 305ms/step - accuracy: 0.9831 - f1_score: 0.9831 - loss: 0.0508 - precision: 0.9838 - recall: 0.9824 - val_accuracy: 0.9937 - val_f1_score: 0.9936 - val_loss: 0.0237 - val_precision: 0.9937 - val_recall: 0.9935\n",
      "Epoch 84/100\n",
      "\u001b[1m230/230\u001b[0m \u001b[32m━━━━━━━━━━━━━━━━━━━━\u001b[0m\u001b[37m\u001b[0m \u001b[1m71s\u001b[0m 311ms/step - accuracy: 0.9837 - f1_score: 0.9839 - loss: 0.0551 - precision: 0.9848 - recall: 0.9829 - val_accuracy: 0.9945 - val_f1_score: 0.9945 - val_loss: 0.0156 - val_precision: 0.9951 - val_recall: 0.9939\n",
      "Epoch 85/100\n",
      "\u001b[1m230/230\u001b[0m \u001b[32m━━━━━━━━━━━━━━━━━━━━\u001b[0m\u001b[37m\u001b[0m \u001b[1m75s\u001b[0m 324ms/step - accuracy: 0.9893 - f1_score: 0.9892 - loss: 0.0352 - precision: 0.9899 - recall: 0.9885 - val_accuracy: 0.9956 - val_f1_score: 0.9956 - val_loss: 0.0112 - val_precision: 0.9959 - val_recall: 0.9952\n",
      "Epoch 86/100\n",
      "\u001b[1m230/230\u001b[0m \u001b[32m━━━━━━━━━━━━━━━━━━━━\u001b[0m\u001b[37m\u001b[0m \u001b[1m71s\u001b[0m 307ms/step - accuracy: 0.9881 - f1_score: 0.9887 - loss: 0.0415 - precision: 0.9892 - recall: 0.9881 - val_accuracy: 0.9935 - val_f1_score: 0.9937 - val_loss: 0.0169 - val_precision: 0.9941 - val_recall: 0.9932\n",
      "Epoch 87/100\n",
      "\u001b[1m230/230\u001b[0m \u001b[32m━━━━━━━━━━━━━━━━━━━━\u001b[0m\u001b[37m\u001b[0m \u001b[1m71s\u001b[0m 306ms/step - accuracy: 0.9907 - f1_score: 0.9913 - loss: 0.0357 - precision: 0.9919 - recall: 0.9906 - val_accuracy: 0.9959 - val_f1_score: 0.9960 - val_loss: 0.0135 - val_precision: 0.9962 - val_recall: 0.9958\n",
      "Epoch 88/100\n",
      "\u001b[1m230/230\u001b[0m \u001b[32m━━━━━━━━━━━━━━━━━━━━\u001b[0m\u001b[37m\u001b[0m \u001b[1m70s\u001b[0m 306ms/step - accuracy: 0.9936 - f1_score: 0.9938 - loss: 0.0265 - precision: 0.9940 - recall: 0.9936 - val_accuracy: 0.9985 - val_f1_score: 0.9983 - val_loss: 0.0073 - val_precision: 0.9985 - val_recall: 0.9981\n",
      "Epoch 89/100\n",
      "\u001b[1m230/230\u001b[0m \u001b[32m━━━━━━━━━━━━━━━━━━━━\u001b[0m\u001b[37m\u001b[0m \u001b[1m71s\u001b[0m 307ms/step - accuracy: 0.9829 - f1_score: 0.9828 - loss: 0.0598 - precision: 0.9834 - recall: 0.9822 - val_accuracy: 0.9955 - val_f1_score: 0.9956 - val_loss: 0.0145 - val_precision: 0.9956 - val_recall: 0.9955\n",
      "Epoch 90/100\n",
      "\u001b[1m230/230\u001b[0m \u001b[32m━━━━━━━━━━━━━━━━━━━━\u001b[0m\u001b[37m\u001b[0m \u001b[1m70s\u001b[0m 306ms/step - accuracy: 0.9918 - f1_score: 0.9918 - loss: 0.0225 - precision: 0.9920 - recall: 0.9916 - val_accuracy: 0.9971 - val_f1_score: 0.9971 - val_loss: 0.0089 - val_precision: 0.9971 - val_recall: 0.9970\n",
      "Epoch 91/100\n",
      "\u001b[1m230/230\u001b[0m \u001b[32m━━━━━━━━━━━━━━━━━━━━\u001b[0m\u001b[37m\u001b[0m \u001b[1m69s\u001b[0m 298ms/step - accuracy: 0.9853 - f1_score: 0.9854 - loss: 0.0481 - precision: 0.9859 - recall: 0.9849 - val_accuracy: 0.9900 - val_f1_score: 0.9900 - val_loss: 0.0275 - val_precision: 0.9905 - val_recall: 0.9896\n",
      "Epoch 92/100\n",
      "\u001b[1m230/230\u001b[0m \u001b[32m━━━━━━━━━━━━━━━━━━━━\u001b[0m\u001b[37m\u001b[0m \u001b[1m69s\u001b[0m 298ms/step - accuracy: 0.9857 - f1_score: 0.9855 - loss: 0.0503 - precision: 0.9858 - recall: 0.9853 - val_accuracy: 0.9925 - val_f1_score: 0.9927 - val_loss: 0.0278 - val_precision: 0.9932 - val_recall: 0.9922\n",
      "Epoch 93/100\n",
      "\u001b[1m230/230\u001b[0m \u001b[32m━━━━━━━━━━━━━━━━━━━━\u001b[0m\u001b[37m\u001b[0m \u001b[1m68s\u001b[0m 294ms/step - accuracy: 0.9833 - f1_score: 0.9835 - loss: 0.0462 - precision: 0.9843 - recall: 0.9827 - val_accuracy: 0.9962 - val_f1_score: 0.9962 - val_loss: 0.0148 - val_precision: 0.9966 - val_recall: 0.9958\n",
      "Epoch 94/100\n",
      "\u001b[1m230/230\u001b[0m \u001b[32m━━━━━━━━━━━━━━━━━━━━\u001b[0m\u001b[37m\u001b[0m \u001b[1m81s\u001b[0m 290ms/step - accuracy: 0.9934 - f1_score: 0.9934 - loss: 0.0217 - precision: 0.9936 - recall: 0.9931 - val_accuracy: 0.9935 - val_f1_score: 0.9936 - val_loss: 0.0170 - val_precision: 0.9939 - val_recall: 0.9933\n",
      "Epoch 95/100\n",
      "\u001b[1m230/230\u001b[0m \u001b[32m━━━━━━━━━━━━━━━━━━━━\u001b[0m\u001b[37m\u001b[0m \u001b[1m72s\u001b[0m 313ms/step - accuracy: 0.9902 - f1_score: 0.9906 - loss: 0.0351 - precision: 0.9911 - recall: 0.9901 - val_accuracy: 0.9977 - val_f1_score: 0.9978 - val_loss: 0.0083 - val_precision: 0.9978 - val_recall: 0.9977\n",
      "Epoch 96/100\n",
      "\u001b[1m230/230\u001b[0m \u001b[32m━━━━━━━━━━━━━━━━━━━━\u001b[0m\u001b[37m\u001b[0m \u001b[1m72s\u001b[0m 314ms/step - accuracy: 0.9867 - f1_score: 0.9865 - loss: 0.0451 - precision: 0.9868 - recall: 0.9861 - val_accuracy: 0.9939 - val_f1_score: 0.9940 - val_loss: 0.0243 - val_precision: 0.9941 - val_recall: 0.9939\n",
      "Epoch 97/100\n",
      "\u001b[1m230/230\u001b[0m \u001b[32m━━━━━━━━━━━━━━━━━━━━\u001b[0m\u001b[37m\u001b[0m \u001b[1m74s\u001b[0m 320ms/step - accuracy: 0.9883 - f1_score: 0.9886 - loss: 0.0341 - precision: 0.9895 - recall: 0.9878 - val_accuracy: 0.9928 - val_f1_score: 0.9926 - val_loss: 0.0234 - val_precision: 0.9933 - val_recall: 0.9920\n",
      "Epoch 98/100\n",
      "\u001b[1m230/230\u001b[0m \u001b[32m━━━━━━━━━━━━━━━━━━━━\u001b[0m\u001b[37m\u001b[0m \u001b[1m72s\u001b[0m 315ms/step - accuracy: 0.9806 - f1_score: 0.9809 - loss: 0.0586 - precision: 0.9817 - recall: 0.9801 - val_accuracy: 0.9984 - val_f1_score: 0.9982 - val_loss: 0.0074 - val_precision: 0.9984 - val_recall: 0.9981\n",
      "Epoch 99/100\n",
      "\u001b[1m230/230\u001b[0m \u001b[32m━━━━━━━━━━━━━━━━━━━━\u001b[0m\u001b[37m\u001b[0m \u001b[1m72s\u001b[0m 313ms/step - accuracy: 0.9933 - f1_score: 0.9937 - loss: 0.0253 - precision: 0.9940 - recall: 0.9933 - val_accuracy: 0.9958 - val_f1_score: 0.9958 - val_loss: 0.0112 - val_precision: 0.9960 - val_recall: 0.9956\n",
      "Epoch 100/100\n",
      "\u001b[1m230/230\u001b[0m \u001b[32m━━━━━━━━━━━━━━━━━━━━\u001b[0m\u001b[37m\u001b[0m \u001b[1m72s\u001b[0m 313ms/step - accuracy: 0.9924 - f1_score: 0.9924 - loss: 0.0241 - precision: 0.9926 - recall: 0.9922 - val_accuracy: 0.9980 - val_f1_score: 0.9980 - val_loss: 0.0063 - val_precision: 0.9981 - val_recall: 0.9978\n"
     ]
    }
   ],
   "source": [
    "# Train the model\n",
    "history = cnn.fit(\n",
    "    x=training_set,\n",
    "    validation_data=validation_set,\n",
    "    epochs=100\n",
    ")"
   ]
  },
  {
   "cell_type": "code",
   "execution_count": 10,
   "id": "5987317b-37c0-4039-af5e-3dc8d9727ef4",
   "metadata": {},
   "outputs": [],
   "source": [
    "# Save Loss plot\n",
    "plt.figure()\n",
    "plt.plot(history.history['loss'], label='Train Loss')\n",
    "plt.plot(history.history['val_loss'], label='Validation Loss')\n",
    "plt.legend()\n",
    "plt.title(\"Loss\")\n",
    "plt.xlabel('Epochs')\n",
    "plt.ylabel('Loss')\n",
    "plt.savefig('loss_plot_cnn.png')  # Save the plot as a PNG file\n",
    "plt.close()\n",
    "\n",
    "# Save Accuracy plot\n",
    "plt.figure()\n",
    "plt.plot(history.history['accuracy'], label='Train Accuracy')\n",
    "plt.plot(history.history['val_accuracy'], label='Validation Accuracy')\n",
    "plt.legend()\n",
    "plt.title(\"Accuracy\")\n",
    "plt.xlabel('Epochs')\n",
    "plt.ylabel('Accuracy')\n",
    "plt.savefig('accuracy_plot_cnn.png')  # Save the plot as a PNG file\n",
    "plt.close()\n",
    "\n",
    "# Save Precision plot\n",
    "plt.figure()\n",
    "plt.plot(history.history['precision'], label='Train Precision')\n",
    "plt.plot(history.history['val_precision'], label='Validation Precision')\n",
    "plt.legend()\n",
    "plt.title(\"Precision\")\n",
    "plt.xlabel('Epochs')\n",
    "plt.ylabel('Precision')\n",
    "plt.savefig('precision_plot_cnn.png')  # Save the plot as a PNG file\n",
    "plt.close()\n",
    "\n",
    "# Save Recall plot\n",
    "plt.figure()\n",
    "plt.plot(history.history['recall'], label='Train Recall')\n",
    "plt.plot(history.history['val_recall'], label='Validation Recall')\n",
    "plt.legend()\n",
    "plt.title(\"Recall\")\n",
    "plt.xlabel('Epochs')\n",
    "plt.ylabel('Recall')\n",
    "plt.savefig('recall_plot_cnn.png')  # Save the plot as a PNG file\n",
    "plt.close()\n",
    "\n",
    "# Save F1 Score plot\n",
    "plt.figure()\n",
    "plt.plot(history.history['f1_score'], label='Train F1 Score')\n",
    "plt.plot(history.history['val_f1_score'], label='Validation F1 Score')\n",
    "plt.legend()\n",
    "plt.title(\"F1 Score\")\n",
    "plt.xlabel('Epochs')\n",
    "plt.ylabel('F1 Score')\n",
    "plt.savefig('f1_score_plot_cnn.png')  # Save the plot as a PNG file\n",
    "plt.close()"
   ]
  },
  {
   "cell_type": "code",
   "execution_count": 11,
   "id": "386be6e5-347d-41c3-9871-989b15c5c680",
   "metadata": {},
   "outputs": [
    {
     "data": {
      "text/html": [
       "<pre style=\"white-space:pre;overflow-x:auto;line-height:normal;font-family:Menlo,'DejaVu Sans Mono',consolas,'Courier New',monospace\"><span style=\"font-weight: bold\">Model: \"sequential\"</span>\n",
       "</pre>\n"
      ],
      "text/plain": [
       "\u001b[1mModel: \"sequential\"\u001b[0m\n"
      ]
     },
     "metadata": {},
     "output_type": "display_data"
    },
    {
     "data": {
      "text/html": [
       "<pre style=\"white-space:pre;overflow-x:auto;line-height:normal;font-family:Menlo,'DejaVu Sans Mono',consolas,'Courier New',monospace\">┏━━━━━━━━━━━━━━━━━━━━━━━━━━━━━━━━━━━━━━┳━━━━━━━━━━━━━━━━━━━━━━━━━━━━━┳━━━━━━━━━━━━━━━━━┓\n",
       "┃<span style=\"font-weight: bold\"> Layer (type)                         </span>┃<span style=\"font-weight: bold\"> Output Shape                </span>┃<span style=\"font-weight: bold\">         Param # </span>┃\n",
       "┡━━━━━━━━━━━━━━━━━━━━━━━━━━━━━━━━━━━━━━╇━━━━━━━━━━━━━━━━━━━━━━━━━━━━━╇━━━━━━━━━━━━━━━━━┩\n",
       "│ conv2d (<span style=\"color: #0087ff; text-decoration-color: #0087ff\">Conv2D</span>)                      │ (<span style=\"color: #00d7ff; text-decoration-color: #00d7ff\">None</span>, <span style=\"color: #00af00; text-decoration-color: #00af00\">62</span>, <span style=\"color: #00af00; text-decoration-color: #00af00\">62</span>, <span style=\"color: #00af00; text-decoration-color: #00af00\">32</span>)          │             <span style=\"color: #00af00; text-decoration-color: #00af00\">896</span> │\n",
       "├──────────────────────────────────────┼─────────────────────────────┼─────────────────┤\n",
       "│ max_pooling2d (<span style=\"color: #0087ff; text-decoration-color: #0087ff\">MaxPooling2D</span>)         │ (<span style=\"color: #00d7ff; text-decoration-color: #00d7ff\">None</span>, <span style=\"color: #00af00; text-decoration-color: #00af00\">31</span>, <span style=\"color: #00af00; text-decoration-color: #00af00\">31</span>, <span style=\"color: #00af00; text-decoration-color: #00af00\">32</span>)          │               <span style=\"color: #00af00; text-decoration-color: #00af00\">0</span> │\n",
       "├──────────────────────────────────────┼─────────────────────────────┼─────────────────┤\n",
       "│ conv2d_1 (<span style=\"color: #0087ff; text-decoration-color: #0087ff\">Conv2D</span>)                    │ (<span style=\"color: #00d7ff; text-decoration-color: #00d7ff\">None</span>, <span style=\"color: #00af00; text-decoration-color: #00af00\">29</span>, <span style=\"color: #00af00; text-decoration-color: #00af00\">29</span>, <span style=\"color: #00af00; text-decoration-color: #00af00\">64</span>)          │          <span style=\"color: #00af00; text-decoration-color: #00af00\">18,496</span> │\n",
       "├──────────────────────────────────────┼─────────────────────────────┼─────────────────┤\n",
       "│ max_pooling2d_1 (<span style=\"color: #0087ff; text-decoration-color: #0087ff\">MaxPooling2D</span>)       │ (<span style=\"color: #00d7ff; text-decoration-color: #00d7ff\">None</span>, <span style=\"color: #00af00; text-decoration-color: #00af00\">14</span>, <span style=\"color: #00af00; text-decoration-color: #00af00\">14</span>, <span style=\"color: #00af00; text-decoration-color: #00af00\">64</span>)          │               <span style=\"color: #00af00; text-decoration-color: #00af00\">0</span> │\n",
       "├──────────────────────────────────────┼─────────────────────────────┼─────────────────┤\n",
       "│ conv2d_2 (<span style=\"color: #0087ff; text-decoration-color: #0087ff\">Conv2D</span>)                    │ (<span style=\"color: #00d7ff; text-decoration-color: #00d7ff\">None</span>, <span style=\"color: #00af00; text-decoration-color: #00af00\">12</span>, <span style=\"color: #00af00; text-decoration-color: #00af00\">12</span>, <span style=\"color: #00af00; text-decoration-color: #00af00\">128</span>)         │          <span style=\"color: #00af00; text-decoration-color: #00af00\">73,856</span> │\n",
       "├──────────────────────────────────────┼─────────────────────────────┼─────────────────┤\n",
       "│ max_pooling2d_2 (<span style=\"color: #0087ff; text-decoration-color: #0087ff\">MaxPooling2D</span>)       │ (<span style=\"color: #00d7ff; text-decoration-color: #00d7ff\">None</span>, <span style=\"color: #00af00; text-decoration-color: #00af00\">6</span>, <span style=\"color: #00af00; text-decoration-color: #00af00\">6</span>, <span style=\"color: #00af00; text-decoration-color: #00af00\">128</span>)           │               <span style=\"color: #00af00; text-decoration-color: #00af00\">0</span> │\n",
       "├──────────────────────────────────────┼─────────────────────────────┼─────────────────┤\n",
       "│ flatten (<span style=\"color: #0087ff; text-decoration-color: #0087ff\">Flatten</span>)                    │ (<span style=\"color: #00d7ff; text-decoration-color: #00d7ff\">None</span>, <span style=\"color: #00af00; text-decoration-color: #00af00\">4608</span>)                │               <span style=\"color: #00af00; text-decoration-color: #00af00\">0</span> │\n",
       "├──────────────────────────────────────┼─────────────────────────────┼─────────────────┤\n",
       "│ dense (<span style=\"color: #0087ff; text-decoration-color: #0087ff\">Dense</span>)                        │ (<span style=\"color: #00d7ff; text-decoration-color: #00d7ff\">None</span>, <span style=\"color: #00af00; text-decoration-color: #00af00\">128</span>)                 │         <span style=\"color: #00af00; text-decoration-color: #00af00\">589,952</span> │\n",
       "├──────────────────────────────────────┼─────────────────────────────┼─────────────────┤\n",
       "│ dense_1 (<span style=\"color: #0087ff; text-decoration-color: #0087ff\">Dense</span>)                      │ (<span style=\"color: #00d7ff; text-decoration-color: #00d7ff\">None</span>, <span style=\"color: #00af00; text-decoration-color: #00af00\">6</span>)                   │             <span style=\"color: #00af00; text-decoration-color: #00af00\">774</span> │\n",
       "└──────────────────────────────────────┴─────────────────────────────┴─────────────────┘\n",
       "</pre>\n"
      ],
      "text/plain": [
       "┏━━━━━━━━━━━━━━━━━━━━━━━━━━━━━━━━━━━━━━┳━━━━━━━━━━━━━━━━━━━━━━━━━━━━━┳━━━━━━━━━━━━━━━━━┓\n",
       "┃\u001b[1m \u001b[0m\u001b[1mLayer (type)                        \u001b[0m\u001b[1m \u001b[0m┃\u001b[1m \u001b[0m\u001b[1mOutput Shape               \u001b[0m\u001b[1m \u001b[0m┃\u001b[1m \u001b[0m\u001b[1m        Param #\u001b[0m\u001b[1m \u001b[0m┃\n",
       "┡━━━━━━━━━━━━━━━━━━━━━━━━━━━━━━━━━━━━━━╇━━━━━━━━━━━━━━━━━━━━━━━━━━━━━╇━━━━━━━━━━━━━━━━━┩\n",
       "│ conv2d (\u001b[38;5;33mConv2D\u001b[0m)                      │ (\u001b[38;5;45mNone\u001b[0m, \u001b[38;5;34m62\u001b[0m, \u001b[38;5;34m62\u001b[0m, \u001b[38;5;34m32\u001b[0m)          │             \u001b[38;5;34m896\u001b[0m │\n",
       "├──────────────────────────────────────┼─────────────────────────────┼─────────────────┤\n",
       "│ max_pooling2d (\u001b[38;5;33mMaxPooling2D\u001b[0m)         │ (\u001b[38;5;45mNone\u001b[0m, \u001b[38;5;34m31\u001b[0m, \u001b[38;5;34m31\u001b[0m, \u001b[38;5;34m32\u001b[0m)          │               \u001b[38;5;34m0\u001b[0m │\n",
       "├──────────────────────────────────────┼─────────────────────────────┼─────────────────┤\n",
       "│ conv2d_1 (\u001b[38;5;33mConv2D\u001b[0m)                    │ (\u001b[38;5;45mNone\u001b[0m, \u001b[38;5;34m29\u001b[0m, \u001b[38;5;34m29\u001b[0m, \u001b[38;5;34m64\u001b[0m)          │          \u001b[38;5;34m18,496\u001b[0m │\n",
       "├──────────────────────────────────────┼─────────────────────────────┼─────────────────┤\n",
       "│ max_pooling2d_1 (\u001b[38;5;33mMaxPooling2D\u001b[0m)       │ (\u001b[38;5;45mNone\u001b[0m, \u001b[38;5;34m14\u001b[0m, \u001b[38;5;34m14\u001b[0m, \u001b[38;5;34m64\u001b[0m)          │               \u001b[38;5;34m0\u001b[0m │\n",
       "├──────────────────────────────────────┼─────────────────────────────┼─────────────────┤\n",
       "│ conv2d_2 (\u001b[38;5;33mConv2D\u001b[0m)                    │ (\u001b[38;5;45mNone\u001b[0m, \u001b[38;5;34m12\u001b[0m, \u001b[38;5;34m12\u001b[0m, \u001b[38;5;34m128\u001b[0m)         │          \u001b[38;5;34m73,856\u001b[0m │\n",
       "├──────────────────────────────────────┼─────────────────────────────┼─────────────────┤\n",
       "│ max_pooling2d_2 (\u001b[38;5;33mMaxPooling2D\u001b[0m)       │ (\u001b[38;5;45mNone\u001b[0m, \u001b[38;5;34m6\u001b[0m, \u001b[38;5;34m6\u001b[0m, \u001b[38;5;34m128\u001b[0m)           │               \u001b[38;5;34m0\u001b[0m │\n",
       "├──────────────────────────────────────┼─────────────────────────────┼─────────────────┤\n",
       "│ flatten (\u001b[38;5;33mFlatten\u001b[0m)                    │ (\u001b[38;5;45mNone\u001b[0m, \u001b[38;5;34m4608\u001b[0m)                │               \u001b[38;5;34m0\u001b[0m │\n",
       "├──────────────────────────────────────┼─────────────────────────────┼─────────────────┤\n",
       "│ dense (\u001b[38;5;33mDense\u001b[0m)                        │ (\u001b[38;5;45mNone\u001b[0m, \u001b[38;5;34m128\u001b[0m)                 │         \u001b[38;5;34m589,952\u001b[0m │\n",
       "├──────────────────────────────────────┼─────────────────────────────┼─────────────────┤\n",
       "│ dense_1 (\u001b[38;5;33mDense\u001b[0m)                      │ (\u001b[38;5;45mNone\u001b[0m, \u001b[38;5;34m6\u001b[0m)                   │             \u001b[38;5;34m774\u001b[0m │\n",
       "└──────────────────────────────────────┴─────────────────────────────┴─────────────────┘\n"
      ]
     },
     "metadata": {},
     "output_type": "display_data"
    },
    {
     "data": {
      "text/html": [
       "<pre style=\"white-space:pre;overflow-x:auto;line-height:normal;font-family:Menlo,'DejaVu Sans Mono',consolas,'Courier New',monospace\"><span style=\"font-weight: bold\"> Total params: </span><span style=\"color: #00af00; text-decoration-color: #00af00\">2,051,924</span> (7.83 MB)\n",
       "</pre>\n"
      ],
      "text/plain": [
       "\u001b[1m Total params: \u001b[0m\u001b[38;5;34m2,051,924\u001b[0m (7.83 MB)\n"
      ]
     },
     "metadata": {},
     "output_type": "display_data"
    },
    {
     "data": {
      "text/html": [
       "<pre style=\"white-space:pre;overflow-x:auto;line-height:normal;font-family:Menlo,'DejaVu Sans Mono',consolas,'Courier New',monospace\"><span style=\"font-weight: bold\"> Trainable params: </span><span style=\"color: #00af00; text-decoration-color: #00af00\">683,974</span> (2.61 MB)\n",
       "</pre>\n"
      ],
      "text/plain": [
       "\u001b[1m Trainable params: \u001b[0m\u001b[38;5;34m683,974\u001b[0m (2.61 MB)\n"
      ]
     },
     "metadata": {},
     "output_type": "display_data"
    },
    {
     "data": {
      "text/html": [
       "<pre style=\"white-space:pre;overflow-x:auto;line-height:normal;font-family:Menlo,'DejaVu Sans Mono',consolas,'Courier New',monospace\"><span style=\"font-weight: bold\"> Non-trainable params: </span><span style=\"color: #00af00; text-decoration-color: #00af00\">0</span> (0.00 B)\n",
       "</pre>\n"
      ],
      "text/plain": [
       "\u001b[1m Non-trainable params: \u001b[0m\u001b[38;5;34m0\u001b[0m (0.00 B)\n"
      ]
     },
     "metadata": {},
     "output_type": "display_data"
    },
    {
     "data": {
      "text/html": [
       "<pre style=\"white-space:pre;overflow-x:auto;line-height:normal;font-family:Menlo,'DejaVu Sans Mono',consolas,'Courier New',monospace\"><span style=\"font-weight: bold\"> Optimizer params: </span><span style=\"color: #00af00; text-decoration-color: #00af00\">1,367,950</span> (5.22 MB)\n",
       "</pre>\n"
      ],
      "text/plain": [
       "\u001b[1m Optimizer params: \u001b[0m\u001b[38;5;34m1,367,950\u001b[0m (5.22 MB)\n"
      ]
     },
     "metadata": {},
     "output_type": "display_data"
    }
   ],
   "source": [
    "cnn.summary()"
   ]
  },
  {
   "cell_type": "code",
   "execution_count": null,
   "id": "50e59657-9130-4edf-9afa-ba2941c249b0",
   "metadata": {},
   "outputs": [],
   "source": []
  }
 ],
 "metadata": {
  "kernelspec": {
   "display_name": "Python 3 (ipykernel)",
   "language": "python",
   "name": "python3"
  },
  "language_info": {
   "codemirror_mode": {
    "name": "ipython",
    "version": 3
   },
   "file_extension": ".py",
   "mimetype": "text/x-python",
   "name": "python",
   "nbconvert_exporter": "python",
   "pygments_lexer": "ipython3",
   "version": "3.12.2"
  }
 },
 "nbformat": 4,
 "nbformat_minor": 5
}
