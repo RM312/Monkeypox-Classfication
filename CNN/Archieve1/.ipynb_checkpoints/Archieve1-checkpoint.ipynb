{
 "cells": [
  {
   "cell_type": "code",
   "execution_count": 1,
   "id": "afc0d731-4cf1-4def-9899-9b236233942a",
   "metadata": {},
   "outputs": [],
   "source": [
    "import tensorflow as tf\n",
    "from tensorflow.keras.preprocessing.image import ImageDataGenerator\n",
    "from tensorflow.keras.models import Sequential\n",
    "from tensorflow.keras.layers import Conv2D, MaxPooling2D, Flatten, Dense, Dropout, GlobalAveragePooling2D\n",
    "from tensorflow.keras.metrics import Precision, Recall\n",
    "import matplotlib.pyplot as plt"
   ]
  },
  {
   "cell_type": "code",
   "execution_count": 2,
   "id": "4e413220-9d0d-4d1e-afc2-e55ad03962a5",
   "metadata": {},
   "outputs": [],
   "source": [
    "# Custom F1Score Metric\n",
    "class F1Score(tf.keras.metrics.Metric):\n",
    "    def __init__(self, name='f1_score', **kwargs):\n",
    "        super(F1Score, self).__init__(name=name, **kwargs)\n",
    "        self.precision = tf.keras.metrics.Precision()\n",
    "        self.recall = tf.keras.metrics.Recall()\n",
    "\n",
    "    def update_state(self, y_true, y_pred, sample_weight=None):\n",
    "        # Convert probabilities to binary labels (threshold at 0.5)\n",
    "        y_pred = tf.cast(y_pred >= 0.5, tf.float32)\n",
    "        self.precision.update_state(y_true, y_pred, sample_weight)\n",
    "        self.recall.update_state(y_true, y_pred, sample_weight)\n",
    "\n",
    "    def result(self):\n",
    "        precision = self.precision.result()\n",
    "        recall = self.recall.result()\n",
    "        return 2 * (precision * recall) / (precision + recall + tf.keras.backend.epsilon())\n",
    "\n",
    "    def reset_states(self):\n",
    "        self.precision.reset_states()\n",
    "        self.recall.reset_states()"
   ]
  },
  {
   "cell_type": "code",
   "execution_count": 3,
   "id": "c359903e-9f04-4fca-886c-4d64c12db838",
   "metadata": {},
   "outputs": [],
   "source": [
    "# Set up data generators\n",
    "train_datagen = ImageDataGenerator(rescale=1./255)\n",
    "test_datagen = ImageDataGenerator(rescale=1./255)"
   ]
  },
  {
   "cell_type": "code",
   "execution_count": 4,
   "id": "cecb1504-6997-4a27-a9b6-767222aee97a",
   "metadata": {},
   "outputs": [],
   "source": [
    "# Set paths for your dataset\n",
    "train_directory = r'Monkeypox/Kaggle MP images/archive (2)/Augmented Images/Augmented Images/'  # Update with the correct path for training images\n",
    "test_directory = r'Monkeypox/Kaggle MP images/archive (2)/Augmented Images/Augmented Images/'  # Update with the correct path for testing images"
   ]
  },
  {
   "cell_type": "code",
   "execution_count": 5,
   "id": "5ba8db8b-8523-4252-9977-4f43ab949d24",
   "metadata": {},
   "outputs": [
    {
     "name": "stdout",
     "output_type": "stream",
     "text": [
      "Found 3192 images belonging to 2 classes.\n",
      "Found 3192 images belonging to 2 classes.\n"
     ]
    }
   ],
   "source": [
    "# Image data generators for training and testing\n",
    "training_set = train_datagen.flow_from_directory(\n",
    "    train_directory,\n",
    "    target_size=(64, 64),\n",
    "    batch_size=32,\n",
    "    class_mode='binary'\n",
    ")\n",
    "\n",
    "test_set = test_datagen.flow_from_directory(\n",
    "    test_directory,\n",
    "    target_size=(64, 64),\n",
    "    batch_size=32,\n",
    "    class_mode='binary'\n",
    ")"
   ]
  },
  {
   "cell_type": "code",
   "execution_count": 6,
   "id": "e01283fe-ba40-4903-a533-aa0ffd976d83",
   "metadata": {},
   "outputs": [],
   "source": [
    "# Model Definition with CNN only (no GRU or Attention layers)\n",
    "model = Sequential()"
   ]
  },
  {
   "cell_type": "code",
   "execution_count": 7,
   "id": "d616d639-e20b-4ee9-91db-bee631b43307",
   "metadata": {},
   "outputs": [
    {
     "name": "stderr",
     "output_type": "stream",
     "text": [
      "C:\\Users\\KIIT\\AppData\\Local\\Programs\\Python\\Python312\\Lib\\site-packages\\keras\\src\\layers\\convolutional\\base_conv.py:107: UserWarning: Do not pass an `input_shape`/`input_dim` argument to a layer. When using Sequential models, prefer using an `Input(shape)` object as the first layer in the model instead.\n",
      "  super().__init__(activity_regularizer=activity_regularizer, **kwargs)\n"
     ]
    }
   ],
   "source": [
    "# Add Conv2D layers\n",
    "model.add(Conv2D(32, (3, 3), activation='relu', input_shape=(64, 64, 3)))\n",
    "model.add(MaxPooling2D(pool_size=(2, 2)))\n",
    "model.add(Conv2D(64, (3, 3), activation='relu'))\n",
    "model.add(MaxPooling2D(pool_size=(2, 2)))\n",
    "model.add(Conv2D(128, (3, 3), activation='relu'))\n",
    "model.add(MaxPooling2D(pool_size=(2, 2)))"
   ]
  },
  {
   "cell_type": "code",
   "execution_count": 8,
   "id": "404d6480-26a7-468c-8120-21a1d99dcaae",
   "metadata": {},
   "outputs": [],
   "source": [
    "# Add Global Average Pooling (optional, reduces dimensions)\n",
    "model.add(GlobalAveragePooling2D())"
   ]
  },
  {
   "cell_type": "code",
   "execution_count": 9,
   "id": "9fe35245-3588-41cb-85fc-74ccac2367b4",
   "metadata": {},
   "outputs": [],
   "source": [
    "# Add Dropout and Dense layers for classification\n",
    "model.add(Dropout(0.5))\n",
    "model.add(Dense(1, activation='sigmoid'))  # Binary classification"
   ]
  },
  {
   "cell_type": "code",
   "execution_count": 10,
   "id": "4c895ada-cb42-49dc-a503-d9f45238b74d",
   "metadata": {},
   "outputs": [
    {
     "data": {
      "text/html": [
       "<pre style=\"white-space:pre;overflow-x:auto;line-height:normal;font-family:Menlo,'DejaVu Sans Mono',consolas,'Courier New',monospace\"><span style=\"font-weight: bold\">Model: \"sequential\"</span>\n",
       "</pre>\n"
      ],
      "text/plain": [
       "\u001b[1mModel: \"sequential\"\u001b[0m\n"
      ]
     },
     "metadata": {},
     "output_type": "display_data"
    },
    {
     "data": {
      "text/html": [
       "<pre style=\"white-space:pre;overflow-x:auto;line-height:normal;font-family:Menlo,'DejaVu Sans Mono',consolas,'Courier New',monospace\">┏━━━━━━━━━━━━━━━━━━━━━━━━━━━━━━━━━━━━━━┳━━━━━━━━━━━━━━━━━━━━━━━━━━━━━┳━━━━━━━━━━━━━━━━━┓\n",
       "┃<span style=\"font-weight: bold\"> Layer (type)                         </span>┃<span style=\"font-weight: bold\"> Output Shape                </span>┃<span style=\"font-weight: bold\">         Param # </span>┃\n",
       "┡━━━━━━━━━━━━━━━━━━━━━━━━━━━━━━━━━━━━━━╇━━━━━━━━━━━━━━━━━━━━━━━━━━━━━╇━━━━━━━━━━━━━━━━━┩\n",
       "│ conv2d (<span style=\"color: #0087ff; text-decoration-color: #0087ff\">Conv2D</span>)                      │ (<span style=\"color: #00d7ff; text-decoration-color: #00d7ff\">None</span>, <span style=\"color: #00af00; text-decoration-color: #00af00\">62</span>, <span style=\"color: #00af00; text-decoration-color: #00af00\">62</span>, <span style=\"color: #00af00; text-decoration-color: #00af00\">32</span>)          │             <span style=\"color: #00af00; text-decoration-color: #00af00\">896</span> │\n",
       "├──────────────────────────────────────┼─────────────────────────────┼─────────────────┤\n",
       "│ max_pooling2d (<span style=\"color: #0087ff; text-decoration-color: #0087ff\">MaxPooling2D</span>)         │ (<span style=\"color: #00d7ff; text-decoration-color: #00d7ff\">None</span>, <span style=\"color: #00af00; text-decoration-color: #00af00\">31</span>, <span style=\"color: #00af00; text-decoration-color: #00af00\">31</span>, <span style=\"color: #00af00; text-decoration-color: #00af00\">32</span>)          │               <span style=\"color: #00af00; text-decoration-color: #00af00\">0</span> │\n",
       "├──────────────────────────────────────┼─────────────────────────────┼─────────────────┤\n",
       "│ conv2d_1 (<span style=\"color: #0087ff; text-decoration-color: #0087ff\">Conv2D</span>)                    │ (<span style=\"color: #00d7ff; text-decoration-color: #00d7ff\">None</span>, <span style=\"color: #00af00; text-decoration-color: #00af00\">29</span>, <span style=\"color: #00af00; text-decoration-color: #00af00\">29</span>, <span style=\"color: #00af00; text-decoration-color: #00af00\">64</span>)          │          <span style=\"color: #00af00; text-decoration-color: #00af00\">18,496</span> │\n",
       "├──────────────────────────────────────┼─────────────────────────────┼─────────────────┤\n",
       "│ max_pooling2d_1 (<span style=\"color: #0087ff; text-decoration-color: #0087ff\">MaxPooling2D</span>)       │ (<span style=\"color: #00d7ff; text-decoration-color: #00d7ff\">None</span>, <span style=\"color: #00af00; text-decoration-color: #00af00\">14</span>, <span style=\"color: #00af00; text-decoration-color: #00af00\">14</span>, <span style=\"color: #00af00; text-decoration-color: #00af00\">64</span>)          │               <span style=\"color: #00af00; text-decoration-color: #00af00\">0</span> │\n",
       "├──────────────────────────────────────┼─────────────────────────────┼─────────────────┤\n",
       "│ conv2d_2 (<span style=\"color: #0087ff; text-decoration-color: #0087ff\">Conv2D</span>)                    │ (<span style=\"color: #00d7ff; text-decoration-color: #00d7ff\">None</span>, <span style=\"color: #00af00; text-decoration-color: #00af00\">12</span>, <span style=\"color: #00af00; text-decoration-color: #00af00\">12</span>, <span style=\"color: #00af00; text-decoration-color: #00af00\">128</span>)         │          <span style=\"color: #00af00; text-decoration-color: #00af00\">73,856</span> │\n",
       "├──────────────────────────────────────┼─────────────────────────────┼─────────────────┤\n",
       "│ max_pooling2d_2 (<span style=\"color: #0087ff; text-decoration-color: #0087ff\">MaxPooling2D</span>)       │ (<span style=\"color: #00d7ff; text-decoration-color: #00d7ff\">None</span>, <span style=\"color: #00af00; text-decoration-color: #00af00\">6</span>, <span style=\"color: #00af00; text-decoration-color: #00af00\">6</span>, <span style=\"color: #00af00; text-decoration-color: #00af00\">128</span>)           │               <span style=\"color: #00af00; text-decoration-color: #00af00\">0</span> │\n",
       "├──────────────────────────────────────┼─────────────────────────────┼─────────────────┤\n",
       "│ global_average_pooling2d             │ (<span style=\"color: #00d7ff; text-decoration-color: #00d7ff\">None</span>, <span style=\"color: #00af00; text-decoration-color: #00af00\">128</span>)                 │               <span style=\"color: #00af00; text-decoration-color: #00af00\">0</span> │\n",
       "│ (<span style=\"color: #0087ff; text-decoration-color: #0087ff\">GlobalAveragePooling2D</span>)             │                             │                 │\n",
       "├──────────────────────────────────────┼─────────────────────────────┼─────────────────┤\n",
       "│ dropout (<span style=\"color: #0087ff; text-decoration-color: #0087ff\">Dropout</span>)                    │ (<span style=\"color: #00d7ff; text-decoration-color: #00d7ff\">None</span>, <span style=\"color: #00af00; text-decoration-color: #00af00\">128</span>)                 │               <span style=\"color: #00af00; text-decoration-color: #00af00\">0</span> │\n",
       "├──────────────────────────────────────┼─────────────────────────────┼─────────────────┤\n",
       "│ dense (<span style=\"color: #0087ff; text-decoration-color: #0087ff\">Dense</span>)                        │ (<span style=\"color: #00d7ff; text-decoration-color: #00d7ff\">None</span>, <span style=\"color: #00af00; text-decoration-color: #00af00\">1</span>)                   │             <span style=\"color: #00af00; text-decoration-color: #00af00\">129</span> │\n",
       "└──────────────────────────────────────┴─────────────────────────────┴─────────────────┘\n",
       "</pre>\n"
      ],
      "text/plain": [
       "┏━━━━━━━━━━━━━━━━━━━━━━━━━━━━━━━━━━━━━━┳━━━━━━━━━━━━━━━━━━━━━━━━━━━━━┳━━━━━━━━━━━━━━━━━┓\n",
       "┃\u001b[1m \u001b[0m\u001b[1mLayer (type)                        \u001b[0m\u001b[1m \u001b[0m┃\u001b[1m \u001b[0m\u001b[1mOutput Shape               \u001b[0m\u001b[1m \u001b[0m┃\u001b[1m \u001b[0m\u001b[1m        Param #\u001b[0m\u001b[1m \u001b[0m┃\n",
       "┡━━━━━━━━━━━━━━━━━━━━━━━━━━━━━━━━━━━━━━╇━━━━━━━━━━━━━━━━━━━━━━━━━━━━━╇━━━━━━━━━━━━━━━━━┩\n",
       "│ conv2d (\u001b[38;5;33mConv2D\u001b[0m)                      │ (\u001b[38;5;45mNone\u001b[0m, \u001b[38;5;34m62\u001b[0m, \u001b[38;5;34m62\u001b[0m, \u001b[38;5;34m32\u001b[0m)          │             \u001b[38;5;34m896\u001b[0m │\n",
       "├──────────────────────────────────────┼─────────────────────────────┼─────────────────┤\n",
       "│ max_pooling2d (\u001b[38;5;33mMaxPooling2D\u001b[0m)         │ (\u001b[38;5;45mNone\u001b[0m, \u001b[38;5;34m31\u001b[0m, \u001b[38;5;34m31\u001b[0m, \u001b[38;5;34m32\u001b[0m)          │               \u001b[38;5;34m0\u001b[0m │\n",
       "├──────────────────────────────────────┼─────────────────────────────┼─────────────────┤\n",
       "│ conv2d_1 (\u001b[38;5;33mConv2D\u001b[0m)                    │ (\u001b[38;5;45mNone\u001b[0m, \u001b[38;5;34m29\u001b[0m, \u001b[38;5;34m29\u001b[0m, \u001b[38;5;34m64\u001b[0m)          │          \u001b[38;5;34m18,496\u001b[0m │\n",
       "├──────────────────────────────────────┼─────────────────────────────┼─────────────────┤\n",
       "│ max_pooling2d_1 (\u001b[38;5;33mMaxPooling2D\u001b[0m)       │ (\u001b[38;5;45mNone\u001b[0m, \u001b[38;5;34m14\u001b[0m, \u001b[38;5;34m14\u001b[0m, \u001b[38;5;34m64\u001b[0m)          │               \u001b[38;5;34m0\u001b[0m │\n",
       "├──────────────────────────────────────┼─────────────────────────────┼─────────────────┤\n",
       "│ conv2d_2 (\u001b[38;5;33mConv2D\u001b[0m)                    │ (\u001b[38;5;45mNone\u001b[0m, \u001b[38;5;34m12\u001b[0m, \u001b[38;5;34m12\u001b[0m, \u001b[38;5;34m128\u001b[0m)         │          \u001b[38;5;34m73,856\u001b[0m │\n",
       "├──────────────────────────────────────┼─────────────────────────────┼─────────────────┤\n",
       "│ max_pooling2d_2 (\u001b[38;5;33mMaxPooling2D\u001b[0m)       │ (\u001b[38;5;45mNone\u001b[0m, \u001b[38;5;34m6\u001b[0m, \u001b[38;5;34m6\u001b[0m, \u001b[38;5;34m128\u001b[0m)           │               \u001b[38;5;34m0\u001b[0m │\n",
       "├──────────────────────────────────────┼─────────────────────────────┼─────────────────┤\n",
       "│ global_average_pooling2d             │ (\u001b[38;5;45mNone\u001b[0m, \u001b[38;5;34m128\u001b[0m)                 │               \u001b[38;5;34m0\u001b[0m │\n",
       "│ (\u001b[38;5;33mGlobalAveragePooling2D\u001b[0m)             │                             │                 │\n",
       "├──────────────────────────────────────┼─────────────────────────────┼─────────────────┤\n",
       "│ dropout (\u001b[38;5;33mDropout\u001b[0m)                    │ (\u001b[38;5;45mNone\u001b[0m, \u001b[38;5;34m128\u001b[0m)                 │               \u001b[38;5;34m0\u001b[0m │\n",
       "├──────────────────────────────────────┼─────────────────────────────┼─────────────────┤\n",
       "│ dense (\u001b[38;5;33mDense\u001b[0m)                        │ (\u001b[38;5;45mNone\u001b[0m, \u001b[38;5;34m1\u001b[0m)                   │             \u001b[38;5;34m129\u001b[0m │\n",
       "└──────────────────────────────────────┴─────────────────────────────┴─────────────────┘\n"
      ]
     },
     "metadata": {},
     "output_type": "display_data"
    },
    {
     "data": {
      "text/html": [
       "<pre style=\"white-space:pre;overflow-x:auto;line-height:normal;font-family:Menlo,'DejaVu Sans Mono',consolas,'Courier New',monospace\"><span style=\"font-weight: bold\"> Total params: </span><span style=\"color: #00af00; text-decoration-color: #00af00\">93,377</span> (364.75 KB)\n",
       "</pre>\n"
      ],
      "text/plain": [
       "\u001b[1m Total params: \u001b[0m\u001b[38;5;34m93,377\u001b[0m (364.75 KB)\n"
      ]
     },
     "metadata": {},
     "output_type": "display_data"
    },
    {
     "data": {
      "text/html": [
       "<pre style=\"white-space:pre;overflow-x:auto;line-height:normal;font-family:Menlo,'DejaVu Sans Mono',consolas,'Courier New',monospace\"><span style=\"font-weight: bold\"> Trainable params: </span><span style=\"color: #00af00; text-decoration-color: #00af00\">93,377</span> (364.75 KB)\n",
       "</pre>\n"
      ],
      "text/plain": [
       "\u001b[1m Trainable params: \u001b[0m\u001b[38;5;34m93,377\u001b[0m (364.75 KB)\n"
      ]
     },
     "metadata": {},
     "output_type": "display_data"
    },
    {
     "data": {
      "text/html": [
       "<pre style=\"white-space:pre;overflow-x:auto;line-height:normal;font-family:Menlo,'DejaVu Sans Mono',consolas,'Courier New',monospace\"><span style=\"font-weight: bold\"> Non-trainable params: </span><span style=\"color: #00af00; text-decoration-color: #00af00\">0</span> (0.00 B)\n",
       "</pre>\n"
      ],
      "text/plain": [
       "\u001b[1m Non-trainable params: \u001b[0m\u001b[38;5;34m0\u001b[0m (0.00 B)\n"
      ]
     },
     "metadata": {},
     "output_type": "display_data"
    }
   ],
   "source": [
    "# Compile the model with custom F1 score and other metrics\n",
    "model.compile(\n",
    "    optimizer='adam',\n",
    "    loss='binary_crossentropy',\n",
    "    metrics=['accuracy', Precision(), Recall(), F1Score()]\n",
    ")\n",
    "\n",
    "model.summary()"
   ]
  },
  {
   "cell_type": "code",
   "execution_count": 13,
   "id": "8692e043-1d37-46ea-ad30-447717fdcfa3",
   "metadata": {},
   "outputs": [
    {
     "name": "stdout",
     "output_type": "stream",
     "text": [
      "Epoch 1/100\n",
      "\u001b[1m100/100\u001b[0m \u001b[32m━━━━━━━━━━━━━━━━━━━━\u001b[0m\u001b[37m\u001b[0m \u001b[1m33s\u001b[0m 325ms/step - accuracy: 0.9710 - f1_score: 0.9741 - loss: 0.0786 - precision: 0.9644 - recall: 0.9841 - val_accuracy: 0.9768 - val_f1_score: 0.9794 - val_loss: 0.0537 - val_precision: 0.9612 - val_recall: 0.9983\n",
      "Epoch 2/100\n",
      "\u001b[1m100/100\u001b[0m \u001b[32m━━━━━━━━━━━━━━━━━━━━\u001b[0m\u001b[37m\u001b[0m \u001b[1m33s\u001b[0m 325ms/step - accuracy: 0.9784 - f1_score: 0.9805 - loss: 0.0627 - precision: 0.9738 - recall: 0.9873 - val_accuracy: 0.9859 - val_f1_score: 0.9873 - val_loss: 0.0562 - val_precision: 0.9864 - val_recall: 0.9881\n",
      "Epoch 3/100\n",
      "\u001b[1m100/100\u001b[0m \u001b[32m━━━━━━━━━━━━━━━━━━━━\u001b[0m\u001b[37m\u001b[0m \u001b[1m31s\u001b[0m 315ms/step - accuracy: 0.9766 - f1_score: 0.9788 - loss: 0.0706 - precision: 0.9690 - recall: 0.9889 - val_accuracy: 0.9724 - val_f1_score: 0.9756 - val_loss: 0.0711 - val_precision: 0.9549 - val_recall: 0.9972\n",
      "Epoch 4/100\n",
      "\u001b[1m100/100\u001b[0m \u001b[32m━━━━━━━━━━━━━━━━━━━━\u001b[0m\u001b[37m\u001b[0m \u001b[1m33s\u001b[0m 329ms/step - accuracy: 0.9739 - f1_score: 0.9765 - loss: 0.0779 - precision: 0.9662 - recall: 0.9870 - val_accuracy: 0.9840 - val_f1_score: 0.9857 - val_loss: 0.0508 - val_precision: 0.9735 - val_recall: 0.9983\n",
      "Epoch 5/100\n",
      "\u001b[1m100/100\u001b[0m \u001b[32m━━━━━━━━━━━━━━━━━━━━\u001b[0m\u001b[37m\u001b[0m \u001b[1m32s\u001b[0m 317ms/step - accuracy: 0.9751 - f1_score: 0.9780 - loss: 0.0755 - precision: 0.9693 - recall: 0.9869 - val_accuracy: 0.9771 - val_f1_score: 0.9797 - val_loss: 0.0621 - val_precision: 0.9608 - val_recall: 0.9994\n",
      "Epoch 6/100\n",
      "\u001b[1m100/100\u001b[0m \u001b[32m━━━━━━━━━━━━━━━━━━━━\u001b[0m\u001b[37m\u001b[0m \u001b[1m32s\u001b[0m 321ms/step - accuracy: 0.9765 - f1_score: 0.9782 - loss: 0.0652 - precision: 0.9697 - recall: 0.9869 - val_accuracy: 0.9856 - val_f1_score: 0.9871 - val_loss: 0.0437 - val_precision: 0.9772 - val_recall: 0.9972\n",
      "Epoch 7/100\n",
      "\u001b[1m100/100\u001b[0m \u001b[32m━━━━━━━━━━━━━━━━━━━━\u001b[0m\u001b[37m\u001b[0m \u001b[1m30s\u001b[0m 295ms/step - accuracy: 0.9833 - f1_score: 0.9848 - loss: 0.0613 - precision: 0.9798 - recall: 0.9900 - val_accuracy: 0.9853 - val_f1_score: 0.9868 - val_loss: 0.0501 - val_precision: 0.9783 - val_recall: 0.9955\n",
      "Epoch 8/100\n",
      "\u001b[1m100/100\u001b[0m \u001b[32m━━━━━━━━━━━━━━━━━━━━\u001b[0m\u001b[37m\u001b[0m \u001b[1m31s\u001b[0m 309ms/step - accuracy: 0.9821 - f1_score: 0.9842 - loss: 0.0600 - precision: 0.9775 - recall: 0.9910 - val_accuracy: 0.9618 - val_f1_score: 0.9647 - val_loss: 0.2223 - val_precision: 0.9858 - val_recall: 0.9444\n",
      "Epoch 9/100\n",
      "\u001b[1m100/100\u001b[0m \u001b[32m━━━━━━━━━━━━━━━━━━━━\u001b[0m\u001b[37m\u001b[0m \u001b[1m32s\u001b[0m 319ms/step - accuracy: 0.9476 - f1_score: 0.9529 - loss: 0.1670 - precision: 0.9408 - recall: 0.9655 - val_accuracy: 0.9872 - val_f1_score: 0.9885 - val_loss: 0.0491 - val_precision: 0.9783 - val_recall: 0.9989\n",
      "Epoch 10/100\n",
      "\u001b[1m100/100\u001b[0m \u001b[32m━━━━━━━━━━━━━━━━━━━━\u001b[0m\u001b[37m\u001b[0m \u001b[1m30s\u001b[0m 298ms/step - accuracy: 0.9785 - f1_score: 0.9805 - loss: 0.0582 - precision: 0.9726 - recall: 0.9885 - val_accuracy: 0.9843 - val_f1_score: 0.9859 - val_loss: 0.0521 - val_precision: 0.9777 - val_recall: 0.9943\n",
      "Epoch 11/100\n",
      "\u001b[1m100/100\u001b[0m \u001b[32m━━━━━━━━━━━━━━━━━━━━\u001b[0m\u001b[37m\u001b[0m \u001b[1m32s\u001b[0m 321ms/step - accuracy: 0.9790 - f1_score: 0.9815 - loss: 0.0596 - precision: 0.9730 - recall: 0.9902 - val_accuracy: 0.9893 - val_f1_score: 0.9904 - val_loss: 0.0404 - val_precision: 0.9865 - val_recall: 0.9943\n",
      "Epoch 12/100\n",
      "\u001b[1m100/100\u001b[0m \u001b[32m━━━━━━━━━━━━━━━━━━━━\u001b[0m\u001b[37m\u001b[0m \u001b[1m32s\u001b[0m 318ms/step - accuracy: 0.9642 - f1_score: 0.9679 - loss: 0.0954 - precision: 0.9572 - recall: 0.9789 - val_accuracy: 0.9806 - val_f1_score: 0.9826 - val_loss: 0.0510 - val_precision: 0.9707 - val_recall: 0.9949\n",
      "Epoch 13/100\n",
      "\u001b[1m100/100\u001b[0m \u001b[32m━━━━━━━━━━━━━━━━━━━━\u001b[0m\u001b[37m\u001b[0m \u001b[1m29s\u001b[0m 293ms/step - accuracy: 0.9823 - f1_score: 0.9841 - loss: 0.0526 - precision: 0.9768 - recall: 0.9915 - val_accuracy: 0.9909 - val_f1_score: 0.9918 - val_loss: 0.0407 - val_precision: 0.9898 - val_recall: 0.9938\n",
      "Epoch 14/100\n",
      "\u001b[1m100/100\u001b[0m \u001b[32m━━━━━━━━━━━━━━━━━━━━\u001b[0m\u001b[37m\u001b[0m \u001b[1m35s\u001b[0m 238ms/step - accuracy: 0.9866 - f1_score: 0.9881 - loss: 0.0503 - precision: 0.9853 - recall: 0.9910 - val_accuracy: 0.9919 - val_f1_score: 0.9927 - val_loss: 0.0360 - val_precision: 0.9866 - val_recall: 0.9989\n",
      "Epoch 15/100\n",
      "\u001b[1m100/100\u001b[0m \u001b[32m━━━━━━━━━━━━━━━━━━━━\u001b[0m\u001b[37m\u001b[0m \u001b[1m24s\u001b[0m 236ms/step - accuracy: 0.9786 - f1_score: 0.9806 - loss: 0.0579 - precision: 0.9720 - recall: 0.9893 - val_accuracy: 0.9928 - val_f1_score: 0.9935 - val_loss: 0.0293 - val_precision: 0.9926 - val_recall: 0.9943\n",
      "Epoch 16/100\n",
      "\u001b[1m100/100\u001b[0m \u001b[32m━━━━━━━━━━━━━━━━━━━━\u001b[0m\u001b[37m\u001b[0m \u001b[1m24s\u001b[0m 240ms/step - accuracy: 0.9848 - f1_score: 0.9862 - loss: 0.0501 - precision: 0.9818 - recall: 0.9907 - val_accuracy: 0.9812 - val_f1_score: 0.9831 - val_loss: 0.0541 - val_precision: 0.9765 - val_recall: 0.9898\n",
      "Epoch 17/100\n",
      "\u001b[1m100/100\u001b[0m \u001b[32m━━━━━━━━━━━━━━━━━━━━\u001b[0m\u001b[37m\u001b[0m \u001b[1m24s\u001b[0m 237ms/step - accuracy: 0.9674 - f1_score: 0.9716 - loss: 0.0870 - precision: 0.9631 - recall: 0.9802 - val_accuracy: 0.9840 - val_f1_score: 0.9857 - val_loss: 0.0467 - val_precision: 0.9740 - val_recall: 0.9977\n",
      "Epoch 18/100\n",
      "\u001b[1m100/100\u001b[0m \u001b[32m━━━━━━━━━━━━━━━━━━━━\u001b[0m\u001b[37m\u001b[0m \u001b[1m24s\u001b[0m 237ms/step - accuracy: 0.9828 - f1_score: 0.9848 - loss: 0.0528 - precision: 0.9750 - recall: 0.9948 - val_accuracy: 0.9925 - val_f1_score: 0.9932 - val_loss: 0.0285 - val_precision: 0.9893 - val_recall: 0.9972\n",
      "Epoch 19/100\n",
      "\u001b[1m100/100\u001b[0m \u001b[32m━━━━━━━━━━━━━━━━━━━━\u001b[0m\u001b[37m\u001b[0m \u001b[1m24s\u001b[0m 238ms/step - accuracy: 0.9909 - f1_score: 0.9917 - loss: 0.0387 - precision: 0.9886 - recall: 0.9949 - val_accuracy: 0.9846 - val_f1_score: 0.9863 - val_loss: 0.0508 - val_precision: 0.9740 - val_recall: 0.9989\n",
      "Epoch 20/100\n",
      "\u001b[1m100/100\u001b[0m \u001b[32m━━━━━━━━━━━━━━━━━━━━\u001b[0m\u001b[37m\u001b[0m \u001b[1m34s\u001b[0m 341ms/step - accuracy: 0.9734 - f1_score: 0.9762 - loss: 0.0736 - precision: 0.9697 - recall: 0.9828 - val_accuracy: 0.9843 - val_f1_score: 0.9859 - val_loss: 0.0482 - val_precision: 0.9804 - val_recall: 0.9915\n",
      "Epoch 21/100\n",
      "\u001b[1m100/100\u001b[0m \u001b[32m━━━━━━━━━━━━━━━━━━━━\u001b[0m\u001b[37m\u001b[0m \u001b[1m24s\u001b[0m 241ms/step - accuracy: 0.9828 - f1_score: 0.9840 - loss: 0.0549 - precision: 0.9772 - recall: 0.9909 - val_accuracy: 0.9928 - val_f1_score: 0.9935 - val_loss: 0.0282 - val_precision: 0.9871 - val_recall: 1.0000\n",
      "Epoch 22/100\n",
      "\u001b[1m100/100\u001b[0m \u001b[32m━━━━━━━━━━━━━━━━━━━━\u001b[0m\u001b[37m\u001b[0m \u001b[1m25s\u001b[0m 246ms/step - accuracy: 0.9812 - f1_score: 0.9833 - loss: 0.0471 - precision: 0.9777 - recall: 0.9890 - val_accuracy: 0.9684 - val_f1_score: 0.9720 - val_loss: 0.0738 - val_precision: 0.9502 - val_recall: 0.9949\n",
      "Epoch 23/100\n",
      "\u001b[1m100/100\u001b[0m \u001b[32m━━━━━━━━━━━━━━━━━━━━\u001b[0m\u001b[37m\u001b[0m \u001b[1m26s\u001b[0m 262ms/step - accuracy: 0.9820 - f1_score: 0.9836 - loss: 0.0553 - precision: 0.9799 - recall: 0.9873 - val_accuracy: 0.9940 - val_f1_score: 0.9946 - val_loss: 0.0267 - val_precision: 0.9921 - val_recall: 0.9972\n",
      "Epoch 24/100\n",
      "\u001b[1m100/100\u001b[0m \u001b[32m━━━━━━━━━━━━━━━━━━━━\u001b[0m\u001b[37m\u001b[0m \u001b[1m24s\u001b[0m 239ms/step - accuracy: 0.9840 - f1_score: 0.9857 - loss: 0.0443 - precision: 0.9824 - recall: 0.9890 - val_accuracy: 0.9912 - val_f1_score: 0.9921 - val_loss: 0.0283 - val_precision: 0.9882 - val_recall: 0.9960\n",
      "Epoch 25/100\n",
      "\u001b[1m100/100\u001b[0m \u001b[32m━━━━━━━━━━━━━━━━━━━━\u001b[0m\u001b[37m\u001b[0m \u001b[1m26s\u001b[0m 257ms/step - accuracy: 0.9849 - f1_score: 0.9864 - loss: 0.0444 - precision: 0.9818 - recall: 0.9910 - val_accuracy: 0.9934 - val_f1_score: 0.9941 - val_loss: 0.0284 - val_precision: 0.9910 - val_recall: 0.9972\n",
      "Epoch 26/100\n",
      "\u001b[1m100/100\u001b[0m \u001b[32m━━━━━━━━━━━━━━━━━━━━\u001b[0m\u001b[37m\u001b[0m \u001b[1m24s\u001b[0m 242ms/step - accuracy: 0.9751 - f1_score: 0.9775 - loss: 0.0700 - precision: 0.9734 - recall: 0.9817 - val_accuracy: 0.9925 - val_f1_score: 0.9932 - val_loss: 0.0285 - val_precision: 0.9893 - val_recall: 0.9972\n",
      "Epoch 27/100\n",
      "\u001b[1m100/100\u001b[0m \u001b[32m━━━━━━━━━━━━━━━━━━━━\u001b[0m\u001b[37m\u001b[0m \u001b[1m25s\u001b[0m 247ms/step - accuracy: 0.9871 - f1_score: 0.9883 - loss: 0.0396 - precision: 0.9840 - recall: 0.9927 - val_accuracy: 0.9831 - val_f1_score: 0.9847 - val_loss: 0.0503 - val_precision: 0.9831 - val_recall: 0.9864\n",
      "Epoch 28/100\n",
      "\u001b[1m100/100\u001b[0m \u001b[32m━━━━━━━━━━━━━━━━━━━━\u001b[0m\u001b[37m\u001b[0m \u001b[1m25s\u001b[0m 247ms/step - accuracy: 0.9816 - f1_score: 0.9834 - loss: 0.0555 - precision: 0.9794 - recall: 0.9874 - val_accuracy: 0.9872 - val_f1_score: 0.9883 - val_loss: 0.0448 - val_precision: 0.9965 - val_recall: 0.9802\n",
      "Epoch 29/100\n",
      "\u001b[1m100/100\u001b[0m \u001b[32m━━━━━━━━━━━━━━━━━━━━\u001b[0m\u001b[37m\u001b[0m \u001b[1m24s\u001b[0m 238ms/step - accuracy: 0.9820 - f1_score: 0.9835 - loss: 0.0592 - precision: 0.9780 - recall: 0.9891 - val_accuracy: 0.9940 - val_f1_score: 0.9946 - val_loss: 0.0242 - val_precision: 0.9927 - val_recall: 0.9966\n",
      "Epoch 30/100\n",
      "\u001b[1m100/100\u001b[0m \u001b[32m━━━━━━━━━━━━━━━━━━━━\u001b[0m\u001b[37m\u001b[0m \u001b[1m24s\u001b[0m 240ms/step - accuracy: 0.9877 - f1_score: 0.9890 - loss: 0.0425 - precision: 0.9827 - recall: 0.9954 - val_accuracy: 0.9953 - val_f1_score: 0.9957 - val_loss: 0.0235 - val_precision: 0.9955 - val_recall: 0.9960\n",
      "Epoch 31/100\n",
      "\u001b[1m100/100\u001b[0m \u001b[32m━━━━━━━━━━━━━━━━━━━━\u001b[0m\u001b[37m\u001b[0m \u001b[1m25s\u001b[0m 245ms/step - accuracy: 0.9811 - f1_score: 0.9831 - loss: 0.0517 - precision: 0.9770 - recall: 0.9893 - val_accuracy: 0.9759 - val_f1_score: 0.9778 - val_loss: 0.0629 - val_precision: 0.9953 - val_recall: 0.9609\n",
      "Epoch 32/100\n",
      "\u001b[1m100/100\u001b[0m \u001b[32m━━━━━━━━━━━━━━━━━━━━\u001b[0m\u001b[37m\u001b[0m \u001b[1m26s\u001b[0m 259ms/step - accuracy: 0.9589 - f1_score: 0.9634 - loss: 0.1265 - precision: 0.9558 - recall: 0.9715 - val_accuracy: 0.9903 - val_f1_score: 0.9913 - val_loss: 0.0360 - val_precision: 0.9843 - val_recall: 0.9983\n",
      "Epoch 33/100\n",
      "\u001b[1m100/100\u001b[0m \u001b[32m━━━━━━━━━━━━━━━━━━━━\u001b[0m\u001b[37m\u001b[0m \u001b[1m25s\u001b[0m 248ms/step - accuracy: 0.9888 - f1_score: 0.9899 - loss: 0.0390 - precision: 0.9857 - recall: 0.9942 - val_accuracy: 0.9875 - val_f1_score: 0.9887 - val_loss: 0.0423 - val_precision: 0.9821 - val_recall: 0.9955\n",
      "Epoch 34/100\n",
      "\u001b[1m100/100\u001b[0m \u001b[32m━━━━━━━━━━━━━━━━━━━━\u001b[0m\u001b[37m\u001b[0m \u001b[1m25s\u001b[0m 250ms/step - accuracy: 0.9878 - f1_score: 0.9893 - loss: 0.0392 - precision: 0.9849 - recall: 0.9937 - val_accuracy: 0.9956 - val_f1_score: 0.9960 - val_loss: 0.0225 - val_precision: 0.9927 - val_recall: 0.9994\n",
      "Epoch 35/100\n",
      "\u001b[1m100/100\u001b[0m \u001b[32m━━━━━━━━━━━━━━━━━━━━\u001b[0m\u001b[37m\u001b[0m \u001b[1m18s\u001b[0m 180ms/step - accuracy: 0.9878 - f1_score: 0.9890 - loss: 0.0425 - precision: 0.9864 - recall: 0.9916 - val_accuracy: 0.9821 - val_f1_score: 0.9840 - val_loss: 0.0655 - val_precision: 0.9744 - val_recall: 0.9938\n",
      "Epoch 36/100\n",
      "\u001b[1m100/100\u001b[0m \u001b[32m━━━━━━━━━━━━━━━━━━━━\u001b[0m\u001b[37m\u001b[0m \u001b[1m11s\u001b[0m 108ms/step - accuracy: 0.9835 - f1_score: 0.9852 - loss: 0.0599 - precision: 0.9779 - recall: 0.9927 - val_accuracy: 0.9950 - val_f1_score: 0.9955 - val_loss: 0.0258 - val_precision: 0.9938 - val_recall: 0.9972\n",
      "Epoch 37/100\n",
      "\u001b[1m100/100\u001b[0m \u001b[32m━━━━━━━━━━━━━━━━━━━━\u001b[0m\u001b[37m\u001b[0m \u001b[1m11s\u001b[0m 106ms/step - accuracy: 0.9845 - f1_score: 0.9858 - loss: 0.0416 - precision: 0.9793 - recall: 0.9924 - val_accuracy: 0.9919 - val_f1_score: 0.9927 - val_loss: 0.0304 - val_precision: 0.9882 - val_recall: 0.9972\n",
      "Epoch 38/100\n",
      "\u001b[1m100/100\u001b[0m \u001b[32m━━━━━━━━━━━━━━━━━━━━\u001b[0m\u001b[37m\u001b[0m \u001b[1m11s\u001b[0m 108ms/step - accuracy: 0.9868 - f1_score: 0.9882 - loss: 0.0399 - precision: 0.9858 - recall: 0.9905 - val_accuracy: 0.9956 - val_f1_score: 0.9960 - val_loss: 0.0176 - val_precision: 0.9944 - val_recall: 0.9977\n",
      "Epoch 39/100\n",
      "\u001b[1m100/100\u001b[0m \u001b[32m━━━━━━━━━━━━━━━━━━━━\u001b[0m\u001b[37m\u001b[0m \u001b[1m11s\u001b[0m 108ms/step - accuracy: 0.9927 - f1_score: 0.9934 - loss: 0.0299 - precision: 0.9923 - recall: 0.9945 - val_accuracy: 0.9953 - val_f1_score: 0.9958 - val_loss: 0.0245 - val_precision: 0.9938 - val_recall: 0.9977\n",
      "Epoch 40/100\n",
      "\u001b[1m100/100\u001b[0m \u001b[32m━━━━━━━━━━━━━━━━━━━━\u001b[0m\u001b[37m\u001b[0m \u001b[1m11s\u001b[0m 108ms/step - accuracy: 0.9897 - f1_score: 0.9906 - loss: 0.0330 - precision: 0.9884 - recall: 0.9928 - val_accuracy: 0.9934 - val_f1_score: 0.9941 - val_loss: 0.0229 - val_precision: 0.9910 - val_recall: 0.9972\n",
      "Epoch 41/100\n",
      "\u001b[1m100/100\u001b[0m \u001b[32m━━━━━━━━━━━━━━━━━━━━\u001b[0m\u001b[37m\u001b[0m \u001b[1m11s\u001b[0m 114ms/step - accuracy: 0.9907 - f1_score: 0.9916 - loss: 0.0316 - precision: 0.9886 - recall: 0.9947 - val_accuracy: 0.9947 - val_f1_score: 0.9952 - val_loss: 0.0195 - val_precision: 0.9905 - val_recall: 1.0000\n",
      "Epoch 42/100\n",
      "\u001b[1m100/100\u001b[0m \u001b[32m━━━━━━━━━━━━━━━━━━━━\u001b[0m\u001b[37m\u001b[0m \u001b[1m11s\u001b[0m 111ms/step - accuracy: 0.9954 - f1_score: 0.9959 - loss: 0.0213 - precision: 0.9930 - recall: 0.9988 - val_accuracy: 0.9944 - val_f1_score: 0.9949 - val_loss: 0.0247 - val_precision: 0.9966 - val_recall: 0.9932\n",
      "Epoch 43/100\n",
      "\u001b[1m100/100\u001b[0m \u001b[32m━━━━━━━━━━━━━━━━━━━━\u001b[0m\u001b[37m\u001b[0m \u001b[1m11s\u001b[0m 113ms/step - accuracy: 0.9950 - f1_score: 0.9955 - loss: 0.0221 - precision: 0.9924 - recall: 0.9985 - val_accuracy: 0.9956 - val_f1_score: 0.9960 - val_loss: 0.0213 - val_precision: 0.9944 - val_recall: 0.9977\n",
      "Epoch 44/100\n",
      "\u001b[1m100/100\u001b[0m \u001b[32m━━━━━━━━━━━━━━━━━━━━\u001b[0m\u001b[37m\u001b[0m \u001b[1m11s\u001b[0m 114ms/step - accuracy: 0.9924 - f1_score: 0.9931 - loss: 0.0253 - precision: 0.9908 - recall: 0.9954 - val_accuracy: 0.9956 - val_f1_score: 0.9960 - val_loss: 0.0170 - val_precision: 0.9944 - val_recall: 0.9977\n",
      "Epoch 45/100\n",
      "\u001b[1m100/100\u001b[0m \u001b[32m━━━━━━━━━━━━━━━━━━━━\u001b[0m\u001b[37m\u001b[0m \u001b[1m12s\u001b[0m 117ms/step - accuracy: 0.9772 - f1_score: 0.9793 - loss: 0.0788 - precision: 0.9756 - recall: 0.9831 - val_accuracy: 0.9922 - val_f1_score: 0.9929 - val_loss: 0.0284 - val_precision: 0.9888 - val_recall: 0.9972\n",
      "Epoch 46/100\n",
      "\u001b[1m100/100\u001b[0m \u001b[32m━━━━━━━━━━━━━━━━━━━━\u001b[0m\u001b[37m\u001b[0m \u001b[1m12s\u001b[0m 115ms/step - accuracy: 0.9865 - f1_score: 0.9879 - loss: 0.0464 - precision: 0.9825 - recall: 0.9934 - val_accuracy: 0.9944 - val_f1_score: 0.9949 - val_loss: 0.0238 - val_precision: 0.9910 - val_recall: 0.9989\n",
      "Epoch 47/100\n",
      "\u001b[1m100/100\u001b[0m \u001b[32m━━━━━━━━━━━━━━━━━━━━\u001b[0m\u001b[37m\u001b[0m \u001b[1m11s\u001b[0m 112ms/step - accuracy: 0.9924 - f1_score: 0.9932 - loss: 0.0312 - precision: 0.9872 - recall: 0.9993 - val_accuracy: 0.9812 - val_f1_score: 0.9832 - val_loss: 0.0436 - val_precision: 0.9697 - val_recall: 0.9972\n",
      "Epoch 48/100\n",
      "\u001b[1m100/100\u001b[0m \u001b[32m━━━━━━━━━━━━━━━━━━━━\u001b[0m\u001b[37m\u001b[0m \u001b[1m11s\u001b[0m 114ms/step - accuracy: 0.9779 - f1_score: 0.9808 - loss: 0.0613 - precision: 0.9730 - recall: 0.9888 - val_accuracy: 0.9953 - val_f1_score: 0.9958 - val_loss: 0.0182 - val_precision: 0.9927 - val_recall: 0.9989\n",
      "Epoch 49/100\n",
      "\u001b[1m100/100\u001b[0m \u001b[32m━━━━━━━━━━━━━━━━━━━━\u001b[0m\u001b[37m\u001b[0m \u001b[1m12s\u001b[0m 118ms/step - accuracy: 0.9892 - f1_score: 0.9902 - loss: 0.0330 - precision: 0.9849 - recall: 0.9955 - val_accuracy: 0.9781 - val_f1_score: 0.9805 - val_loss: 0.0542 - val_precision: 0.9628 - val_recall: 0.9989\n",
      "Epoch 50/100\n",
      "\u001b[1m100/100\u001b[0m \u001b[32m━━━━━━━━━━━━━━━━━━━━\u001b[0m\u001b[37m\u001b[0m \u001b[1m13s\u001b[0m 125ms/step - accuracy: 0.9634 - f1_score: 0.9674 - loss: 0.1070 - precision: 0.9580 - recall: 0.9772 - val_accuracy: 0.9840 - val_f1_score: 0.9857 - val_loss: 0.0624 - val_precision: 0.9729 - val_recall: 0.9989\n",
      "Epoch 51/100\n",
      "\u001b[1m100/100\u001b[0m \u001b[32m━━━━━━━━━━━━━━━━━━━━\u001b[0m\u001b[37m\u001b[0m \u001b[1m11s\u001b[0m 113ms/step - accuracy: 0.9799 - f1_score: 0.9818 - loss: 0.0608 - precision: 0.9801 - recall: 0.9835 - val_accuracy: 0.9702 - val_f1_score: 0.9737 - val_loss: 0.0737 - val_precision: 0.9513 - val_recall: 0.9972\n",
      "Epoch 52/100\n",
      "\u001b[1m100/100\u001b[0m \u001b[32m━━━━━━━━━━━━━━━━━━━━\u001b[0m\u001b[37m\u001b[0m \u001b[1m12s\u001b[0m 118ms/step - accuracy: 0.9771 - f1_score: 0.9792 - loss: 0.0717 - precision: 0.9720 - recall: 0.9868 - val_accuracy: 0.9934 - val_f1_score: 0.9940 - val_loss: 0.0189 - val_precision: 0.9938 - val_recall: 0.9943\n",
      "Epoch 53/100\n",
      "\u001b[1m100/100\u001b[0m \u001b[32m━━━━━━━━━━━━━━━━━━━━\u001b[0m\u001b[37m\u001b[0m \u001b[1m12s\u001b[0m 120ms/step - accuracy: 0.9851 - f1_score: 0.9865 - loss: 0.0377 - precision: 0.9820 - recall: 0.9912 - val_accuracy: 0.9799 - val_f1_score: 0.9822 - val_loss: 0.0505 - val_precision: 0.9650 - val_recall: 1.0000\n",
      "Epoch 54/100\n",
      "\u001b[1m100/100\u001b[0m \u001b[32m━━━━━━━━━━━━━━━━━━━━\u001b[0m\u001b[37m\u001b[0m \u001b[1m12s\u001b[0m 123ms/step - accuracy: 0.9901 - f1_score: 0.9908 - loss: 0.0365 - precision: 0.9882 - recall: 0.9934 - val_accuracy: 0.9953 - val_f1_score: 0.9958 - val_loss: 0.0306 - val_precision: 0.9927 - val_recall: 0.9989\n",
      "Epoch 55/100\n",
      "\u001b[1m100/100\u001b[0m \u001b[32m━━━━━━━━━━━━━━━━━━━━\u001b[0m\u001b[37m\u001b[0m \u001b[1m12s\u001b[0m 123ms/step - accuracy: 0.9856 - f1_score: 0.9867 - loss: 0.0437 - precision: 0.9789 - recall: 0.9946 - val_accuracy: 0.9915 - val_f1_score: 0.9924 - val_loss: 0.0251 - val_precision: 0.9849 - val_recall: 1.0000\n",
      "Epoch 56/100\n",
      "\u001b[1m100/100\u001b[0m \u001b[32m━━━━━━━━━━━━━━━━━━━━\u001b[0m\u001b[37m\u001b[0m \u001b[1m13s\u001b[0m 125ms/step - accuracy: 0.9905 - f1_score: 0.9915 - loss: 0.0321 - precision: 0.9861 - recall: 0.9969 - val_accuracy: 0.9987 - val_f1_score: 0.9989 - val_loss: 0.0099 - val_precision: 0.9989 - val_recall: 0.9989\n",
      "Epoch 57/100\n",
      "\u001b[1m100/100\u001b[0m \u001b[32m━━━━━━━━━━━━━━━━━━━━\u001b[0m\u001b[37m\u001b[0m \u001b[1m13s\u001b[0m 127ms/step - accuracy: 0.9920 - f1_score: 0.9926 - loss: 0.0263 - precision: 0.9897 - recall: 0.9955 - val_accuracy: 0.9887 - val_f1_score: 0.9899 - val_loss: 0.0292 - val_precision: 0.9805 - val_recall: 0.9994\n",
      "Epoch 58/100\n",
      "\u001b[1m100/100\u001b[0m \u001b[32m━━━━━━━━━━━━━━━━━━━━\u001b[0m\u001b[37m\u001b[0m \u001b[1m13s\u001b[0m 131ms/step - accuracy: 0.9859 - f1_score: 0.9871 - loss: 0.0388 - precision: 0.9833 - recall: 0.9910 - val_accuracy: 0.9972 - val_f1_score: 0.9975 - val_loss: 0.0132 - val_precision: 0.9949 - val_recall: 1.0000\n",
      "Epoch 59/100\n",
      "\u001b[1m100/100\u001b[0m \u001b[32m━━━━━━━━━━━━━━━━━━━━\u001b[0m\u001b[37m\u001b[0m \u001b[1m13s\u001b[0m 130ms/step - accuracy: 0.9914 - f1_score: 0.9922 - loss: 0.0217 - precision: 0.9901 - recall: 0.9944 - val_accuracy: 0.9815 - val_f1_score: 0.9834 - val_loss: 0.0526 - val_precision: 0.9765 - val_recall: 0.9904\n",
      "Epoch 60/100\n",
      "\u001b[1m100/100\u001b[0m \u001b[32m━━━━━━━━━━━━━━━━━━━━\u001b[0m\u001b[37m\u001b[0m \u001b[1m13s\u001b[0m 130ms/step - accuracy: 0.9817 - f1_score: 0.9835 - loss: 0.0533 - precision: 0.9771 - recall: 0.9900 - val_accuracy: 0.9978 - val_f1_score: 0.9980 - val_loss: 0.0114 - val_precision: 0.9960 - val_recall: 1.0000\n",
      "Epoch 61/100\n",
      "\u001b[1m100/100\u001b[0m \u001b[32m━━━━━━━━━━━━━━━━━━━━\u001b[0m\u001b[37m\u001b[0m \u001b[1m13s\u001b[0m 134ms/step - accuracy: 0.9938 - f1_score: 0.9944 - loss: 0.0164 - precision: 0.9917 - recall: 0.9971 - val_accuracy: 0.9969 - val_f1_score: 0.9972 - val_loss: 0.0126 - val_precision: 0.9977 - val_recall: 0.9966\n",
      "Epoch 62/100\n",
      "\u001b[1m100/100\u001b[0m \u001b[32m━━━━━━━━━━━━━━━━━━━━\u001b[0m\u001b[37m\u001b[0m \u001b[1m14s\u001b[0m 136ms/step - accuracy: 0.9959 - f1_score: 0.9963 - loss: 0.0169 - precision: 0.9939 - recall: 0.9987 - val_accuracy: 0.9984 - val_f1_score: 0.9986 - val_loss: 0.0098 - val_precision: 0.9977 - val_recall: 0.9994\n",
      "Epoch 63/100\n",
      "\u001b[1m100/100\u001b[0m \u001b[32m━━━━━━━━━━━━━━━━━━━━\u001b[0m\u001b[37m\u001b[0m \u001b[1m14s\u001b[0m 137ms/step - accuracy: 0.9971 - f1_score: 0.9974 - loss: 0.0139 - precision: 0.9966 - recall: 0.9982 - val_accuracy: 0.9643 - val_f1_score: 0.9672 - val_loss: 0.0983 - val_precision: 0.9830 - val_recall: 0.9518\n",
      "Epoch 64/100\n",
      "\u001b[1m100/100\u001b[0m \u001b[32m━━━━━━━━━━━━━━━━━━━━\u001b[0m\u001b[37m\u001b[0m \u001b[1m14s\u001b[0m 138ms/step - accuracy: 0.9721 - f1_score: 0.9747 - loss: 0.0807 - precision: 0.9674 - recall: 0.9821 - val_accuracy: 0.9912 - val_f1_score: 0.9921 - val_loss: 0.0258 - val_precision: 0.9849 - val_recall: 0.9994\n",
      "Epoch 65/100\n",
      "\u001b[1m100/100\u001b[0m \u001b[32m━━━━━━━━━━━━━━━━━━━━\u001b[0m\u001b[37m\u001b[0m \u001b[1m25s\u001b[0m 246ms/step - accuracy: 0.9873 - f1_score: 0.9887 - loss: 0.0436 - precision: 0.9852 - recall: 0.9923 - val_accuracy: 0.9959 - val_f1_score: 0.9963 - val_loss: 0.0141 - val_precision: 0.9932 - val_recall: 0.9994\n",
      "Epoch 66/100\n",
      "\u001b[1m100/100\u001b[0m \u001b[32m━━━━━━━━━━━━━━━━━━━━\u001b[0m\u001b[37m\u001b[0m \u001b[1m26s\u001b[0m 259ms/step - accuracy: 0.9939 - f1_score: 0.9945 - loss: 0.0229 - precision: 0.9925 - recall: 0.9965 - val_accuracy: 0.9934 - val_f1_score: 0.9941 - val_loss: 0.0212 - val_precision: 0.9882 - val_recall: 1.0000\n",
      "Epoch 67/100\n",
      "\u001b[1m100/100\u001b[0m \u001b[32m━━━━━━━━━━━━━━━━━━━━\u001b[0m\u001b[37m\u001b[0m \u001b[1m27s\u001b[0m 269ms/step - accuracy: 0.9945 - f1_score: 0.9950 - loss: 0.0190 - precision: 0.9907 - recall: 0.9993 - val_accuracy: 0.9962 - val_f1_score: 0.9966 - val_loss: 0.0142 - val_precision: 0.9949 - val_recall: 0.9983\n",
      "Epoch 68/100\n",
      "\u001b[1m100/100\u001b[0m \u001b[32m━━━━━━━━━━━━━━━━━━━━\u001b[0m\u001b[37m\u001b[0m \u001b[1m23s\u001b[0m 228ms/step - accuracy: 0.9918 - f1_score: 0.9926 - loss: 0.0204 - precision: 0.9913 - recall: 0.9940 - val_accuracy: 0.9975 - val_f1_score: 0.9977 - val_loss: 0.0110 - val_precision: 0.9966 - val_recall: 0.9989\n",
      "Epoch 69/100\n",
      "\u001b[1m100/100\u001b[0m \u001b[32m━━━━━━━━━━━━━━━━━━━━\u001b[0m\u001b[37m\u001b[0m \u001b[1m8s\u001b[0m 82ms/step - accuracy: 0.9914 - f1_score: 0.9921 - loss: 0.0287 - precision: 0.9903 - recall: 0.9940 - val_accuracy: 0.9966 - val_f1_score: 0.9969 - val_loss: 0.0164 - val_precision: 0.9955 - val_recall: 0.9983\n",
      "Epoch 70/100\n",
      "\u001b[1m100/100\u001b[0m \u001b[32m━━━━━━━━━━━━━━━━━━━━\u001b[0m\u001b[37m\u001b[0m \u001b[1m10s\u001b[0m 102ms/step - accuracy: 0.9816 - f1_score: 0.9837 - loss: 0.0651 - precision: 0.9797 - recall: 0.9878 - val_accuracy: 0.9978 - val_f1_score: 0.9980 - val_loss: 0.0131 - val_precision: 0.9966 - val_recall: 0.9994\n",
      "Epoch 71/100\n",
      "\u001b[1m100/100\u001b[0m \u001b[32m━━━━━━━━━━━━━━━━━━━━\u001b[0m\u001b[37m\u001b[0m \u001b[1m12s\u001b[0m 116ms/step - accuracy: 0.9885 - f1_score: 0.9895 - loss: 0.0335 - precision: 0.9856 - recall: 0.9934 - val_accuracy: 0.9897 - val_f1_score: 0.9907 - val_loss: 0.0307 - val_precision: 0.9843 - val_recall: 0.9972\n",
      "Epoch 72/100\n",
      "\u001b[1m100/100\u001b[0m \u001b[32m━━━━━━━━━━━━━━━━━━━━\u001b[0m\u001b[37m\u001b[0m \u001b[1m11s\u001b[0m 114ms/step - accuracy: 0.9878 - f1_score: 0.9889 - loss: 0.0395 - precision: 0.9852 - recall: 0.9926 - val_accuracy: 0.9987 - val_f1_score: 0.9989 - val_loss: 0.0118 - val_precision: 0.9977 - val_recall: 1.0000\n",
      "Epoch 73/100\n",
      "\u001b[1m100/100\u001b[0m \u001b[32m━━━━━━━━━━━━━━━━━━━━\u001b[0m\u001b[37m\u001b[0m \u001b[1m12s\u001b[0m 119ms/step - accuracy: 0.9974 - f1_score: 0.9977 - loss: 0.0148 - precision: 0.9965 - recall: 0.9988 - val_accuracy: 0.9991 - val_f1_score: 0.9992 - val_loss: 0.0081 - val_precision: 0.9983 - val_recall: 1.0000\n",
      "Epoch 74/100\n",
      "\u001b[1m100/100\u001b[0m \u001b[32m━━━━━━━━━━━━━━━━━━━━\u001b[0m\u001b[37m\u001b[0m \u001b[1m12s\u001b[0m 118ms/step - accuracy: 0.9940 - f1_score: 0.9945 - loss: 0.0191 - precision: 0.9936 - recall: 0.9955 - val_accuracy: 0.9984 - val_f1_score: 0.9986 - val_loss: 0.0085 - val_precision: 0.9977 - val_recall: 0.9994\n",
      "Epoch 75/100\n",
      "\u001b[1m100/100\u001b[0m \u001b[32m━━━━━━━━━━━━━━━━━━━━\u001b[0m\u001b[37m\u001b[0m \u001b[1m12s\u001b[0m 120ms/step - accuracy: 0.9955 - f1_score: 0.9960 - loss: 0.0183 - precision: 0.9952 - recall: 0.9968 - val_accuracy: 0.9937 - val_f1_score: 0.9943 - val_loss: 0.0227 - val_precision: 0.9971 - val_recall: 0.9915\n",
      "Epoch 76/100\n",
      "\u001b[1m100/100\u001b[0m \u001b[32m━━━━━━━━━━━━━━━━━━━━\u001b[0m\u001b[37m\u001b[0m \u001b[1m12s\u001b[0m 122ms/step - accuracy: 0.9944 - f1_score: 0.9950 - loss: 0.0195 - precision: 0.9921 - recall: 0.9980 - val_accuracy: 0.9925 - val_f1_score: 0.9932 - val_loss: 0.0242 - val_precision: 0.9938 - val_recall: 0.9926\n",
      "Epoch 77/100\n",
      "\u001b[1m100/100\u001b[0m \u001b[32m━━━━━━━━━━━━━━━━━━━━\u001b[0m\u001b[37m\u001b[0m \u001b[1m12s\u001b[0m 122ms/step - accuracy: 0.9921 - f1_score: 0.9930 - loss: 0.0269 - precision: 0.9909 - recall: 0.9950 - val_accuracy: 0.9997 - val_f1_score: 0.9997 - val_loss: 0.0066 - val_precision: 0.9994 - val_recall: 1.0000\n",
      "Epoch 78/100\n",
      "\u001b[1m100/100\u001b[0m \u001b[32m━━━━━━━━━━━━━━━━━━━━\u001b[0m\u001b[37m\u001b[0m \u001b[1m12s\u001b[0m 125ms/step - accuracy: 0.9988 - f1_score: 0.9989 - loss: 0.0108 - precision: 0.9988 - recall: 0.9991 - val_accuracy: 0.9966 - val_f1_score: 0.9969 - val_loss: 0.0106 - val_precision: 0.9938 - val_recall: 1.0000\n",
      "Epoch 79/100\n",
      "\u001b[1m100/100\u001b[0m \u001b[32m━━━━━━━━━━━━━━━━━━━━\u001b[0m\u001b[37m\u001b[0m \u001b[1m13s\u001b[0m 125ms/step - accuracy: 0.9884 - f1_score: 0.9896 - loss: 0.0313 - precision: 0.9878 - recall: 0.9915 - val_accuracy: 0.9803 - val_f1_score: 0.9823 - val_loss: 0.0489 - val_precision: 0.9728 - val_recall: 0.9921\n",
      "Epoch 80/100\n",
      "\u001b[1m100/100\u001b[0m \u001b[32m━━━━━━━━━━━━━━━━━━━━\u001b[0m\u001b[37m\u001b[0m \u001b[1m13s\u001b[0m 128ms/step - accuracy: 0.9838 - f1_score: 0.9856 - loss: 0.0548 - precision: 0.9840 - recall: 0.9873 - val_accuracy: 0.9627 - val_f1_score: 0.9671 - val_loss: 0.1430 - val_precision: 0.9444 - val_recall: 0.9909\n",
      "Epoch 81/100\n",
      "\u001b[1m100/100\u001b[0m \u001b[32m━━━━━━━━━━━━━━━━━━━━\u001b[0m\u001b[37m\u001b[0m \u001b[1m13s\u001b[0m 131ms/step - accuracy: 0.9734 - f1_score: 0.9768 - loss: 0.0850 - precision: 0.9713 - recall: 0.9823 - val_accuracy: 0.9890 - val_f1_score: 0.9901 - val_loss: 0.0366 - val_precision: 0.9909 - val_recall: 0.9892\n",
      "Epoch 82/100\n",
      "\u001b[1m100/100\u001b[0m \u001b[32m━━━━━━━━━━━━━━━━━━━━\u001b[0m\u001b[37m\u001b[0m \u001b[1m14s\u001b[0m 136ms/step - accuracy: 0.9903 - f1_score: 0.9912 - loss: 0.0303 - precision: 0.9899 - recall: 0.9925 - val_accuracy: 0.9956 - val_f1_score: 0.9960 - val_loss: 0.0170 - val_precision: 0.9944 - val_recall: 0.9977\n",
      "Epoch 83/100\n",
      "\u001b[1m100/100\u001b[0m \u001b[32m━━━━━━━━━━━━━━━━━━━━\u001b[0m\u001b[37m\u001b[0m \u001b[1m20s\u001b[0m 133ms/step - accuracy: 0.9955 - f1_score: 0.9958 - loss: 0.0204 - precision: 0.9955 - recall: 0.9962 - val_accuracy: 0.9972 - val_f1_score: 0.9975 - val_loss: 0.0123 - val_precision: 0.9955 - val_recall: 0.9994\n",
      "Epoch 84/100\n",
      "\u001b[1m100/100\u001b[0m \u001b[32m━━━━━━━━━━━━━━━━━━━━\u001b[0m\u001b[37m\u001b[0m \u001b[1m13s\u001b[0m 131ms/step - accuracy: 0.9964 - f1_score: 0.9968 - loss: 0.0165 - precision: 0.9960 - recall: 0.9975 - val_accuracy: 0.9956 - val_f1_score: 0.9960 - val_loss: 0.0119 - val_precision: 0.9921 - val_recall: 1.0000\n",
      "Epoch 85/100\n",
      "\u001b[1m100/100\u001b[0m \u001b[32m━━━━━━━━━━━━━━━━━━━━\u001b[0m\u001b[37m\u001b[0m \u001b[1m13s\u001b[0m 133ms/step - accuracy: 0.9978 - f1_score: 0.9979 - loss: 0.0129 - precision: 0.9960 - recall: 0.9999 - val_accuracy: 0.9994 - val_f1_score: 0.9994 - val_loss: 0.0065 - val_precision: 0.9994 - val_recall: 0.9994\n",
      "Epoch 86/100\n",
      "\u001b[1m100/100\u001b[0m \u001b[32m━━━━━━━━━━━━━━━━━━━━\u001b[0m\u001b[37m\u001b[0m \u001b[1m14s\u001b[0m 138ms/step - accuracy: 0.9928 - f1_score: 0.9935 - loss: 0.0189 - precision: 0.9918 - recall: 0.9952 - val_accuracy: 0.9959 - val_f1_score: 0.9963 - val_loss: 0.0106 - val_precision: 0.9932 - val_recall: 0.9994\n",
      "Epoch 87/100\n",
      "\u001b[1m100/100\u001b[0m \u001b[32m━━━━━━━━━━━━━━━━━━━━\u001b[0m\u001b[37m\u001b[0m \u001b[1m14s\u001b[0m 142ms/step - accuracy: 0.9887 - f1_score: 0.9896 - loss: 0.0294 - precision: 0.9842 - recall: 0.9950 - val_accuracy: 0.9906 - val_f1_score: 0.9915 - val_loss: 0.0352 - val_precision: 0.9926 - val_recall: 0.9904\n",
      "Epoch 88/100\n",
      "\u001b[1m100/100\u001b[0m \u001b[32m━━━━━━━━━━━━━━━━━━━━\u001b[0m\u001b[37m\u001b[0m \u001b[1m14s\u001b[0m 143ms/step - accuracy: 0.9860 - f1_score: 0.9875 - loss: 0.0489 - precision: 0.9852 - recall: 0.9898 - val_accuracy: 0.9962 - val_f1_score: 0.9966 - val_loss: 0.0160 - val_precision: 0.9938 - val_recall: 0.9994\n",
      "Epoch 89/100\n",
      "\u001b[1m100/100\u001b[0m \u001b[32m━━━━━━━━━━━━━━━━━━━━\u001b[0m\u001b[37m\u001b[0m \u001b[1m15s\u001b[0m 147ms/step - accuracy: 0.9961 - f1_score: 0.9964 - loss: 0.0185 - precision: 0.9958 - recall: 0.9970 - val_accuracy: 0.9969 - val_f1_score: 0.9972 - val_loss: 0.0119 - val_precision: 0.9955 - val_recall: 0.9989\n",
      "Epoch 90/100\n",
      "\u001b[1m100/100\u001b[0m \u001b[32m━━━━━━━━━━━━━━━━━━━━\u001b[0m\u001b[37m\u001b[0m \u001b[1m21s\u001b[0m 150ms/step - accuracy: 0.9921 - f1_score: 0.9929 - loss: 0.0290 - precision: 0.9894 - recall: 0.9964 - val_accuracy: 0.9868 - val_f1_score: 0.9880 - val_loss: 0.0354 - val_precision: 0.9965 - val_recall: 0.9796\n",
      "Epoch 91/100\n",
      "\u001b[1m100/100\u001b[0m \u001b[32m━━━━━━━━━━━━━━━━━━━━\u001b[0m\u001b[37m\u001b[0m \u001b[1m15s\u001b[0m 154ms/step - accuracy: 0.9927 - f1_score: 0.9937 - loss: 0.0215 - precision: 0.9932 - recall: 0.9942 - val_accuracy: 0.9978 - val_f1_score: 0.9980 - val_loss: 0.0075 - val_precision: 0.9960 - val_recall: 1.0000\n",
      "Epoch 92/100\n",
      "\u001b[1m100/100\u001b[0m \u001b[32m━━━━━━━━━━━━━━━━━━━━\u001b[0m\u001b[37m\u001b[0m \u001b[1m15s\u001b[0m 151ms/step - accuracy: 0.9963 - f1_score: 0.9966 - loss: 0.0112 - precision: 0.9936 - recall: 0.9996 - val_accuracy: 0.9969 - val_f1_score: 0.9972 - val_loss: 0.0127 - val_precision: 0.9994 - val_recall: 0.9949\n",
      "Epoch 93/100\n",
      "\u001b[1m100/100\u001b[0m \u001b[32m━━━━━━━━━━━━━━━━━━━━\u001b[0m\u001b[37m\u001b[0m \u001b[1m22s\u001b[0m 219ms/step - accuracy: 0.9905 - f1_score: 0.9914 - loss: 0.0312 - precision: 0.9907 - recall: 0.9920 - val_accuracy: 0.9978 - val_f1_score: 0.9980 - val_loss: 0.0118 - val_precision: 0.9960 - val_recall: 1.0000\n",
      "Epoch 94/100\n",
      "\u001b[1m100/100\u001b[0m \u001b[32m━━━━━━━━━━━━━━━━━━━━\u001b[0m\u001b[37m\u001b[0m \u001b[1m28s\u001b[0m 275ms/step - accuracy: 0.9940 - f1_score: 0.9946 - loss: 0.0208 - precision: 0.9922 - recall: 0.9971 - val_accuracy: 0.9878 - val_f1_score: 0.9890 - val_loss: 0.0383 - val_precision: 0.9870 - val_recall: 0.9909\n",
      "Epoch 95/100\n",
      "\u001b[1m100/100\u001b[0m \u001b[32m━━━━━━━━━━━━━━━━━━━━\u001b[0m\u001b[37m\u001b[0m \u001b[1m28s\u001b[0m 276ms/step - accuracy: 0.9595 - f1_score: 0.9642 - loss: 0.1183 - precision: 0.9575 - recall: 0.9713 - val_accuracy: 0.9994 - val_f1_score: 0.9994 - val_loss: 0.0076 - val_precision: 0.9994 - val_recall: 0.9994\n",
      "Epoch 96/100\n",
      "\u001b[1m100/100\u001b[0m \u001b[32m━━━━━━━━━━━━━━━━━━━━\u001b[0m\u001b[37m\u001b[0m \u001b[1m27s\u001b[0m 269ms/step - accuracy: 0.9919 - f1_score: 0.9926 - loss: 0.0249 - precision: 0.9904 - recall: 0.9949 - val_accuracy: 0.9975 - val_f1_score: 0.9977 - val_loss: 0.0127 - val_precision: 0.9977 - val_recall: 0.9977\n",
      "Epoch 97/100\n",
      "\u001b[1m100/100\u001b[0m \u001b[32m━━━━━━━━━━━━━━━━━━━━\u001b[0m\u001b[37m\u001b[0m \u001b[1m27s\u001b[0m 268ms/step - accuracy: 0.9961 - f1_score: 0.9964 - loss: 0.0165 - precision: 0.9979 - recall: 0.9951 - val_accuracy: 0.9991 - val_f1_score: 0.9992 - val_loss: 0.0051 - val_precision: 0.9983 - val_recall: 1.0000\n",
      "Epoch 98/100\n",
      "\u001b[1m100/100\u001b[0m \u001b[32m━━━━━━━━━━━━━━━━━━━━\u001b[0m\u001b[37m\u001b[0m \u001b[1m25s\u001b[0m 244ms/step - accuracy: 0.9974 - f1_score: 0.9977 - loss: 0.0112 - precision: 0.9961 - recall: 0.9992 - val_accuracy: 0.9981 - val_f1_score: 0.9983 - val_loss: 0.0115 - val_precision: 0.9989 - val_recall: 0.9977\n",
      "Epoch 99/100\n",
      "\u001b[1m100/100\u001b[0m \u001b[32m━━━━━━━━━━━━━━━━━━━━\u001b[0m\u001b[37m\u001b[0m \u001b[1m15s\u001b[0m 153ms/step - accuracy: 0.9967 - f1_score: 0.9970 - loss: 0.0162 - precision: 0.9952 - recall: 0.9989 - val_accuracy: 0.9994 - val_f1_score: 0.9994 - val_loss: 0.0087 - val_precision: 0.9989 - val_recall: 1.0000\n",
      "Epoch 100/100\n",
      "\u001b[1m100/100\u001b[0m \u001b[32m━━━━━━━━━━━━━━━━━━━━\u001b[0m\u001b[37m\u001b[0m \u001b[1m17s\u001b[0m 169ms/step - accuracy: 0.9984 - f1_score: 0.9986 - loss: 0.0103 - precision: 0.9975 - recall: 0.9996 - val_accuracy: 1.0000 - val_f1_score: 1.0000 - val_loss: 0.0058 - val_precision: 1.0000 - val_recall: 1.0000\n"
     ]
    }
   ],
   "source": [
    "# Train the model\n",
    "history = model.fit(\n",
    "    training_set,\n",
    "    validation_data=test_set,\n",
    "    epochs=100\n",
    ")"
   ]
  },
  {
   "cell_type": "code",
   "execution_count": 14,
   "id": "2444972a-2a3c-4437-bd84-1a1774f360d0",
   "metadata": {},
   "outputs": [],
   "source": [
    "# Save Loss plot\n",
    "plt.figure()\n",
    "plt.plot(history.history['loss'], label='Train Loss')\n",
    "plt.plot(history.history['val_loss'], label='Validation Loss')\n",
    "plt.legend()\n",
    "plt.title(\"Loss\")\n",
    "plt.xlabel('Epochs')\n",
    "plt.ylabel('Loss')\n",
    "plt.savefig('loss_plot_cnn_only.png')  # Save the plot as a PNG file\n",
    "plt.close()\n",
    "\n",
    "# Save Accuracy plot\n",
    "plt.figure()\n",
    "plt.plot(history.history['accuracy'], label='Train Accuracy')\n",
    "plt.plot(history.history['val_accuracy'], label='Validation Accuracy')\n",
    "plt.legend()\n",
    "plt.title(\"Accuracy\")\n",
    "plt.xlabel('Epochs')\n",
    "plt.ylabel('Accuracy')\n",
    "plt.savefig('accuracy_plot_cnn_only.png')  # Save the plot as a PNG file\n",
    "plt.close()\n",
    "\n",
    "# Save Precision plot\n",
    "plt.figure()\n",
    "plt.plot(history.history['precision'], label='Train Precision')\n",
    "plt.plot(history.history['val_precision'], label='Validation Precision')\n",
    "plt.legend()\n",
    "plt.title(\"Precision\")\n",
    "plt.xlabel('Epochs')\n",
    "plt.ylabel('Precision')\n",
    "plt.savefig('precision_plot_cnn_only.png')  # Save the plot as a PNG file\n",
    "plt.close()\n",
    "\n",
    "# Save Recall plot\n",
    "plt.figure()\n",
    "plt.plot(history.history['recall'], label='Train Recall')\n",
    "plt.plot(history.history['val_recall'], label='Validation Recall')\n",
    "plt.legend()\n",
    "plt.title(\"Recall\")\n",
    "plt.xlabel('Epochs')\n",
    "plt.ylabel('Recall')\n",
    "plt.savefig('recall_plot_cnn_only.png')  # Save the plot as a PNG file\n",
    "plt.close()\n",
    "\n",
    "# Save F1-Score plot\n",
    "plt.figure()\n",
    "plt.plot(history.history['f1_score'], label='Train F1 Score')\n",
    "plt.plot(history.history['val_f1_score'], label='Validation F1 Score')\n",
    "plt.legend()\n",
    "plt.title(\"F1 Score\")\n",
    "plt.xlabel('Epochs')\n",
    "plt.ylabel('F1 Score')\n",
    "plt.savefig('f1_score_plot_cnn_only.png')  # Save the plot as a PNG file\n",
    "plt.close()"
   ]
  },
  {
   "cell_type": "code",
   "execution_count": null,
   "id": "5e1b28ea-e79a-4284-90b3-6943411efbd2",
   "metadata": {},
   "outputs": [],
   "source": []
  }
 ],
 "metadata": {
  "kernelspec": {
   "display_name": "Python 3 (ipykernel)",
   "language": "python",
   "name": "python3"
  },
  "language_info": {
   "codemirror_mode": {
    "name": "ipython",
    "version": 3
   },
   "file_extension": ".py",
   "mimetype": "text/x-python",
   "name": "python",
   "nbconvert_exporter": "python",
   "pygments_lexer": "ipython3",
   "version": "3.12.2"
  }
 },
 "nbformat": 4,
 "nbformat_minor": 5
}
