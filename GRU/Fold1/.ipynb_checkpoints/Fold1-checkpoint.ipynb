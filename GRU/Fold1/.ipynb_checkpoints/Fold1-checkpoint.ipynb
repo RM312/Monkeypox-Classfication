{
 "cells": [
  {
   "cell_type": "code",
   "execution_count": 1,
   "id": "f1592f9d-df54-4b6a-b2c4-3d53c75d3405",
   "metadata": {},
   "outputs": [],
   "source": [
    "import tensorflow as tf\n",
    "from tensorflow.keras.preprocessing.image import ImageDataGenerator\n",
    "import matplotlib.pyplot as plt"
   ]
  },
  {
   "cell_type": "code",
   "execution_count": 2,
   "id": "a1101f97-cd51-4d02-ae07-b03e220f0f14",
   "metadata": {},
   "outputs": [
    {
     "name": "stdout",
     "output_type": "stream",
     "text": [
      "Found 7518 images belonging to 6 classes.\n"
     ]
    }
   ],
   "source": [
    "# Data Augmentation for Training\n",
    "train_datagen = ImageDataGenerator(rescale=1./255,\n",
    "                                   shear_range=0.2,\n",
    "                                   zoom_range=0.2,\n",
    "                                   horizontal_flip=True)\n",
    "training_set = train_datagen.flow_from_directory(\n",
    "    \"Monkeypox/archive (60)/Augmented Images/Augmented Images/FOLDS_AUG/fold1_AUG/Train/\",\n",
    "    target_size=(64, 64),\n",
    "    batch_size=32,\n",
    "    class_mode='categorical',  # Use 'categorical' for one-hot encoded labels\n",
    ")"
   ]
  },
  {
   "cell_type": "code",
   "execution_count": 3,
   "id": "14c1c276-4ec0-4829-a9f4-08c47715fa18",
   "metadata": {},
   "outputs": [
    {
     "name": "stdout",
     "output_type": "stream",
     "text": [
      "Found 7518 images belonging to 6 classes.\n"
     ]
    }
   ],
   "source": [
    "test_datagen = ImageDataGenerator(rescale=1./255)\n",
    "validation_set = test_datagen.flow_from_directory(\n",
    "    \"Monkeypox/archive (60)/Augmented Images/Augmented Images/FOLDS_AUG/fold1_AUG/Train/\",\n",
    "    target_size=(64, 64),\n",
    "    batch_size=32,\n",
    "    class_mode='categorical',  # Use 'categorical' for one-hot encoded labels\n",
    ")"
   ]
  },
  {
   "cell_type": "code",
   "execution_count": 4,
   "id": "ef1966f0-bcf5-4abf-b440-1885ead8ec9f",
   "metadata": {},
   "outputs": [],
   "source": [
    "# Custom F1 Score Metric\n",
    "class F1Score(tf.keras.metrics.Metric):\n",
    "    def __init__(self, name='f1_score', **kwargs):\n",
    "        super(F1Score, self).__init__(name=name, **kwargs)\n",
    "        self.precision = tf.keras.metrics.Precision()\n",
    "        self.recall = tf.keras.metrics.Recall()\n",
    "\n",
    "    def update_state(self, y_true, y_pred, sample_weight=None):\n",
    "        # Update the precision and recall for each batch\n",
    "        self.precision.update_state(y_true, y_pred, sample_weight)\n",
    "        self.recall.update_state(y_true, y_pred, sample_weight)\n",
    "\n",
    "    def result(self):\n",
    "        # Calculate F1 score as the harmonic mean of precision and recall\n",
    "        precision = self.precision.result()\n",
    "        recall = self.recall.result()\n",
    "        return 2 * (precision * recall) / (precision + recall + tf.keras.backend.epsilon())\n",
    "\n",
    "    def reset_states(self):\n",
    "        self.precision.reset_states()\n",
    "        self.recall.reset_states()\n"
   ]
  },
  {
   "cell_type": "code",
   "execution_count": 5,
   "id": "1f3a8920-93ed-4d25-a6b3-4aa2118fabca",
   "metadata": {},
   "outputs": [],
   "source": [
    "# Build the GRU Model\n",
    "gru_model = tf.keras.models.Sequential()"
   ]
  },
  {
   "cell_type": "code",
   "execution_count": 6,
   "id": "752dedcd-6650-422e-b1b3-0e78fb58ec59",
   "metadata": {},
   "outputs": [
    {
     "name": "stderr",
     "output_type": "stream",
     "text": [
      "C:\\Users\\KIIT\\AppData\\Local\\Programs\\Python\\Python312\\Lib\\site-packages\\keras\\src\\layers\\reshaping\\flatten.py:37: UserWarning: Do not pass an `input_shape`/`input_dim` argument to a layer. When using Sequential models, prefer using an `Input(shape)` object as the first layer in the model instead.\n",
      "  super().__init__(**kwargs)\n"
     ]
    }
   ],
   "source": [
    "# Flatten and Reshape for GRU\n",
    "gru_model.add(tf.keras.layers.Flatten(input_shape=(64, 64, 3)))\n",
    "gru_model.add(tf.keras.layers.Reshape((16, -1)))  # Reshape to (time_steps, features)"
   ]
  },
  {
   "cell_type": "code",
   "execution_count": 7,
   "id": "88227518-52a7-4e68-8f3a-68ec364f63c5",
   "metadata": {},
   "outputs": [],
   "source": [
    "# GRU Layer\n",
    "gru_model.add(tf.keras.layers.GRU(units=64, activation='tanh', return_sequences=False))"
   ]
  },
  {
   "cell_type": "code",
   "execution_count": 8,
   "id": "2206f1ce-86a5-4ac2-8bd2-4b30e9d6158f",
   "metadata": {},
   "outputs": [],
   "source": [
    "# Fully Connected Layers\n",
    "gru_model.add(tf.keras.layers.Dense(units=128, activation='relu'))\n",
    "gru_model.add(tf.keras.layers.Dense(6, activation='softmax'))  # 6 classes"
   ]
  },
  {
   "cell_type": "code",
   "execution_count": 9,
   "id": "8f472203-dabb-4595-a4ba-3eeba2583cf2",
   "metadata": {},
   "outputs": [],
   "source": [
    "# Compile the model with Precision, Recall, and F1 Score\n",
    "gru_model.compile(\n",
    "    optimizer='adam',\n",
    "    loss='categorical_crossentropy',  # Use categorical_crossentropy for one-hot encoded labels\n",
    "    metrics=[\n",
    "        'accuracy',\n",
    "        tf.keras.metrics.Precision(name='precision'),\n",
    "        tf.keras.metrics.Recall(name='recall'),\n",
    "        F1Score(name='f1_score')  # Add custom F1 score metric\n",
    "    ]\n",
    ")"
   ]
  },
  {
   "cell_type": "code",
   "execution_count": 10,
   "id": "c0aaad64-f7e7-4fc4-b549-769721686892",
   "metadata": {},
   "outputs": [
    {
     "name": "stderr",
     "output_type": "stream",
     "text": [
      "C:\\Users\\KIIT\\AppData\\Local\\Programs\\Python\\Python312\\Lib\\site-packages\\keras\\src\\trainers\\data_adapters\\py_dataset_adapter.py:121: UserWarning: Your `PyDataset` class should call `super().__init__(**kwargs)` in its constructor. `**kwargs` can include `workers`, `use_multiprocessing`, `max_queue_size`. Do not pass these arguments to `fit()`, as they will be ignored.\n",
      "  self._warn_if_super_not_called()\n"
     ]
    },
    {
     "name": "stdout",
     "output_type": "stream",
     "text": [
      "Epoch 1/100\n",
      "\u001b[1m235/235\u001b[0m \u001b[32m━━━━━━━━━━━━━━━━━━━━\u001b[0m\u001b[37m\u001b[0m \u001b[1m0s\u001b[0m 181ms/step - accuracy: 0.3620 - f1_score: 0.0845 - loss: 1.6118 - precision: 0.4718 - recall: 0.0465"
     ]
    },
    {
     "name": "stderr",
     "output_type": "stream",
     "text": [
      "C:\\Users\\KIIT\\AppData\\Local\\Programs\\Python\\Python312\\Lib\\site-packages\\keras\\src\\trainers\\data_adapters\\py_dataset_adapter.py:121: UserWarning: Your `PyDataset` class should call `super().__init__(**kwargs)` in its constructor. `**kwargs` can include `workers`, `use_multiprocessing`, `max_queue_size`. Do not pass these arguments to `fit()`, as they will be ignored.\n",
      "  self._warn_if_super_not_called()\n"
     ]
    },
    {
     "name": "stdout",
     "output_type": "stream",
     "text": [
      "\u001b[1m235/235\u001b[0m \u001b[32m━━━━━━━━━━━━━━━━━━━━\u001b[0m\u001b[37m\u001b[0m \u001b[1m72s\u001b[0m 274ms/step - accuracy: 0.3620 - f1_score: 0.0846 - loss: 1.6116 - precision: 0.4720 - recall: 0.0466 - val_accuracy: 0.3776 - val_f1_score: 0.0618 - val_loss: 1.5643 - val_precision: 0.7857 - val_recall: 0.0322\n",
      "Epoch 2/100\n",
      "\u001b[1m235/235\u001b[0m \u001b[32m━━━━━━━━━━━━━━━━━━━━\u001b[0m\u001b[37m\u001b[0m \u001b[1m60s\u001b[0m 257ms/step - accuracy: 0.3937 - f1_score: 0.1678 - loss: 1.5445 - precision: 0.6124 - recall: 0.0976 - val_accuracy: 0.4271 - val_f1_score: 0.1366 - val_loss: 1.4815 - val_precision: 0.7341 - val_recall: 0.0753\n",
      "Epoch 3/100\n",
      "\u001b[1m235/235\u001b[0m \u001b[32m━━━━━━━━━━━━━━━━━━━━\u001b[0m\u001b[37m\u001b[0m \u001b[1m61s\u001b[0m 258ms/step - accuracy: 0.4164 - f1_score: 0.1954 - loss: 1.4887 - precision: 0.6247 - recall: 0.1160 - val_accuracy: 0.4117 - val_f1_score: 0.3335 - val_loss: 1.4546 - val_precision: 0.5715 - val_recall: 0.2354\n",
      "Epoch 4/100\n",
      "\u001b[1m235/235\u001b[0m \u001b[32m━━━━━━━━━━━━━━━━━━━━\u001b[0m\u001b[37m\u001b[0m \u001b[1m61s\u001b[0m 258ms/step - accuracy: 0.4314 - f1_score: 0.2496 - loss: 1.4572 - precision: 0.6084 - recall: 0.1576 - val_accuracy: 0.4608 - val_f1_score: 0.3064 - val_loss: 1.3896 - val_precision: 0.6224 - val_recall: 0.2032\n",
      "Epoch 5/100\n",
      "\u001b[1m235/235\u001b[0m \u001b[32m━━━━━━━━━━━━━━━━━━━━\u001b[0m\u001b[37m\u001b[0m \u001b[1m62s\u001b[0m 263ms/step - accuracy: 0.4503 - f1_score: 0.2905 - loss: 1.4076 - precision: 0.6293 - recall: 0.1891 - val_accuracy: 0.4871 - val_f1_score: 0.3171 - val_loss: 1.3265 - val_precision: 0.7063 - val_recall: 0.2044\n",
      "Epoch 6/100\n",
      "\u001b[1m235/235\u001b[0m \u001b[32m━━━━━━━━━━━━━━━━━━━━\u001b[0m\u001b[37m\u001b[0m \u001b[1m60s\u001b[0m 256ms/step - accuracy: 0.4774 - f1_score: 0.3416 - loss: 1.3536 - precision: 0.6507 - recall: 0.2318 - val_accuracy: 0.4775 - val_f1_score: 0.3357 - val_loss: 1.3330 - val_precision: 0.6794 - val_recall: 0.2229\n",
      "Epoch 7/100\n",
      "\u001b[1m235/235\u001b[0m \u001b[32m━━━━━━━━━━━━━━━━━━━━\u001b[0m\u001b[37m\u001b[0m \u001b[1m60s\u001b[0m 255ms/step - accuracy: 0.4781 - f1_score: 0.3638 - loss: 1.3390 - precision: 0.6527 - recall: 0.2523 - val_accuracy: 0.4992 - val_f1_score: 0.3495 - val_loss: 1.2877 - val_precision: 0.7047 - val_recall: 0.2324\n",
      "Epoch 8/100\n",
      "\u001b[1m235/235\u001b[0m \u001b[32m━━━━━━━━━━━━━━━━━━━━\u001b[0m\u001b[37m\u001b[0m \u001b[1m61s\u001b[0m 258ms/step - accuracy: 0.4899 - f1_score: 0.3710 - loss: 1.3136 - precision: 0.6614 - recall: 0.2583 - val_accuracy: 0.5180 - val_f1_score: 0.3998 - val_loss: 1.2463 - val_precision: 0.7162 - val_recall: 0.2773\n",
      "Epoch 9/100\n",
      "\u001b[1m235/235\u001b[0m \u001b[32m━━━━━━━━━━━━━━━━━━━━\u001b[0m\u001b[37m\u001b[0m \u001b[1m60s\u001b[0m 256ms/step - accuracy: 0.5085 - f1_score: 0.4095 - loss: 1.2721 - precision: 0.6648 - recall: 0.2961 - val_accuracy: 0.5356 - val_f1_score: 0.4661 - val_loss: 1.2074 - val_precision: 0.7116 - val_recall: 0.3465\n",
      "Epoch 10/100\n",
      "\u001b[1m235/235\u001b[0m \u001b[32m━━━━━━━━━━━━━━━━━━━━\u001b[0m\u001b[37m\u001b[0m \u001b[1m61s\u001b[0m 259ms/step - accuracy: 0.5309 - f1_score: 0.4420 - loss: 1.2114 - precision: 0.6967 - recall: 0.3238 - val_accuracy: 0.5664 - val_f1_score: 0.5135 - val_loss: 1.1552 - val_precision: 0.6949 - val_recall: 0.4072\n",
      "Epoch 11/100\n",
      "\u001b[1m235/235\u001b[0m \u001b[32m━━━━━━━━━━━━━━━━━━━━\u001b[0m\u001b[37m\u001b[0m \u001b[1m60s\u001b[0m 256ms/step - accuracy: 0.5257 - f1_score: 0.4587 - loss: 1.2181 - precision: 0.6903 - recall: 0.3440 - val_accuracy: 0.5633 - val_f1_score: 0.4876 - val_loss: 1.1414 - val_precision: 0.7198 - val_recall: 0.3687\n",
      "Epoch 12/100\n",
      "\u001b[1m235/235\u001b[0m \u001b[32m━━━━━━━━━━━━━━━━━━━━\u001b[0m\u001b[37m\u001b[0m \u001b[1m60s\u001b[0m 255ms/step - accuracy: 0.5498 - f1_score: 0.4744 - loss: 1.1792 - precision: 0.6920 - recall: 0.3610 - val_accuracy: 0.5400 - val_f1_score: 0.4055 - val_loss: 1.1642 - val_precision: 0.7154 - val_recall: 0.2829\n",
      "Epoch 13/100\n",
      "\u001b[1m235/235\u001b[0m \u001b[32m━━━━━━━━━━━━━━━━━━━━\u001b[0m\u001b[37m\u001b[0m \u001b[1m61s\u001b[0m 258ms/step - accuracy: 0.5514 - f1_score: 0.4794 - loss: 1.1660 - precision: 0.6949 - recall: 0.3664 - val_accuracy: 0.5749 - val_f1_score: 0.5431 - val_loss: 1.0833 - val_precision: 0.6997 - val_recall: 0.4437\n",
      "Epoch 14/100\n",
      "\u001b[1m235/235\u001b[0m \u001b[32m━━━━━━━━━━━━━━━━━━━━\u001b[0m\u001b[37m\u001b[0m \u001b[1m61s\u001b[0m 259ms/step - accuracy: 0.5624 - f1_score: 0.5011 - loss: 1.1307 - precision: 0.6979 - recall: 0.3909 - val_accuracy: 0.6003 - val_f1_score: 0.4879 - val_loss: 1.0794 - val_precision: 0.7793 - val_recall: 0.3551\n",
      "Epoch 15/100\n",
      "\u001b[1m235/235\u001b[0m \u001b[32m━━━━━━━━━━━━━━━━━━━━\u001b[0m\u001b[37m\u001b[0m \u001b[1m61s\u001b[0m 259ms/step - accuracy: 0.5693 - f1_score: 0.5025 - loss: 1.1239 - precision: 0.7128 - recall: 0.3881 - val_accuracy: 0.5822 - val_f1_score: 0.5513 - val_loss: 1.0639 - val_precision: 0.6961 - val_recall: 0.4564\n",
      "Epoch 16/100\n",
      "\u001b[1m235/235\u001b[0m \u001b[32m━━━━━━━━━━━━━━━━━━━━\u001b[0m\u001b[37m\u001b[0m \u001b[1m82s\u001b[0m 260ms/step - accuracy: 0.5716 - f1_score: 0.5182 - loss: 1.1016 - precision: 0.7103 - recall: 0.4079 - val_accuracy: 0.6256 - val_f1_score: 0.5451 - val_loss: 1.0083 - val_precision: 0.8070 - val_recall: 0.4115\n",
      "Epoch 17/100\n",
      "\u001b[1m235/235\u001b[0m \u001b[32m━━━━━━━━━━━━━━━━━━━━\u001b[0m\u001b[37m\u001b[0m \u001b[1m60s\u001b[0m 257ms/step - accuracy: 0.5998 - f1_score: 0.5429 - loss: 1.0553 - precision: 0.7374 - recall: 0.4297 - val_accuracy: 0.5986 - val_f1_score: 0.5258 - val_loss: 1.0458 - val_precision: 0.7334 - val_recall: 0.4098\n",
      "Epoch 18/100\n",
      "\u001b[1m235/235\u001b[0m \u001b[32m━━━━━━━━━━━━━━━━━━━━\u001b[0m\u001b[37m\u001b[0m \u001b[1m61s\u001b[0m 261ms/step - accuracy: 0.6215 - f1_score: 0.5659 - loss: 1.0357 - precision: 0.7489 - recall: 0.4549 - val_accuracy: 0.6087 - val_f1_score: 0.5735 - val_loss: 1.0150 - val_precision: 0.7389 - val_recall: 0.4686\n",
      "Epoch 19/100\n",
      "\u001b[1m235/235\u001b[0m \u001b[32m━━━━━━━━━━━━━━━━━━━━\u001b[0m\u001b[37m\u001b[0m \u001b[1m60s\u001b[0m 257ms/step - accuracy: 0.6235 - f1_score: 0.5797 - loss: 0.9972 - precision: 0.7480 - recall: 0.4732 - val_accuracy: 0.6499 - val_f1_score: 0.6121 - val_loss: 0.9304 - val_precision: 0.7954 - val_recall: 0.4975\n",
      "Epoch 20/100\n",
      "\u001b[1m235/235\u001b[0m \u001b[32m━━━━━━━━━━━━━━━━━━━━\u001b[0m\u001b[37m\u001b[0m \u001b[1m61s\u001b[0m 260ms/step - accuracy: 0.6126 - f1_score: 0.5700 - loss: 1.0224 - precision: 0.7398 - recall: 0.4638 - val_accuracy: 0.6486 - val_f1_score: 0.6241 - val_loss: 0.9371 - val_precision: 0.7604 - val_recall: 0.5293\n",
      "Epoch 21/100\n",
      "\u001b[1m235/235\u001b[0m \u001b[32m━━━━━━━━━━━━━━━━━━━━\u001b[0m\u001b[37m\u001b[0m \u001b[1m57s\u001b[0m 242ms/step - accuracy: 0.6314 - f1_score: 0.5936 - loss: 0.9916 - precision: 0.7590 - recall: 0.4876 - val_accuracy: 0.6488 - val_f1_score: 0.6189 - val_loss: 0.9214 - val_precision: 0.7697 - val_recall: 0.5176\n",
      "Epoch 22/100\n",
      "\u001b[1m235/235\u001b[0m \u001b[32m━━━━━━━━━━━━━━━━━━━━\u001b[0m\u001b[37m\u001b[0m \u001b[1m60s\u001b[0m 256ms/step - accuracy: 0.6275 - f1_score: 0.5904 - loss: 0.9731 - precision: 0.7497 - recall: 0.4870 - val_accuracy: 0.6659 - val_f1_score: 0.6169 - val_loss: 0.9029 - val_precision: 0.8109 - val_recall: 0.4979\n",
      "Epoch 23/100\n",
      "\u001b[1m235/235\u001b[0m \u001b[32m━━━━━━━━━━━━━━━━━━━━\u001b[0m\u001b[37m\u001b[0m \u001b[1m61s\u001b[0m 258ms/step - accuracy: 0.6454 - f1_score: 0.6072 - loss: 0.9573 - precision: 0.7670 - recall: 0.5026 - val_accuracy: 0.6721 - val_f1_score: 0.6167 - val_loss: 0.8917 - val_precision: 0.8196 - val_recall: 0.4943\n",
      "Epoch 24/100\n",
      "\u001b[1m235/235\u001b[0m \u001b[32m━━━━━━━━━━━━━━━━━━━━\u001b[0m\u001b[37m\u001b[0m \u001b[1m61s\u001b[0m 260ms/step - accuracy: 0.6417 - f1_score: 0.6014 - loss: 0.9407 - precision: 0.7662 - recall: 0.4950 - val_accuracy: 0.6673 - val_f1_score: 0.6218 - val_loss: 0.9011 - val_precision: 0.8078 - val_recall: 0.5055\n",
      "Epoch 25/100\n",
      "\u001b[1m235/235\u001b[0m \u001b[32m━━━━━━━━━━━━━━━━━━━━\u001b[0m\u001b[37m\u001b[0m \u001b[1m83s\u001b[0m 263ms/step - accuracy: 0.6354 - f1_score: 0.6032 - loss: 0.9509 - precision: 0.7587 - recall: 0.5007 - val_accuracy: 0.6773 - val_f1_score: 0.6394 - val_loss: 0.8766 - val_precision: 0.7943 - val_recall: 0.5351\n",
      "Epoch 26/100\n",
      "\u001b[1m235/235\u001b[0m \u001b[32m━━━━━━━━━━━━━━━━━━━━\u001b[0m\u001b[37m\u001b[0m \u001b[1m62s\u001b[0m 262ms/step - accuracy: 0.6561 - f1_score: 0.6243 - loss: 0.9183 - precision: 0.7694 - recall: 0.5253 - val_accuracy: 0.6873 - val_f1_score: 0.6553 - val_loss: 0.8408 - val_precision: 0.8124 - val_recall: 0.5491\n",
      "Epoch 27/100\n",
      "\u001b[1m235/235\u001b[0m \u001b[32m━━━━━━━━━━━━━━━━━━━━\u001b[0m\u001b[37m\u001b[0m \u001b[1m61s\u001b[0m 259ms/step - accuracy: 0.6590 - f1_score: 0.6191 - loss: 0.9252 - precision: 0.7695 - recall: 0.5180 - val_accuracy: 0.6699 - val_f1_score: 0.6527 - val_loss: 0.8673 - val_precision: 0.7789 - val_recall: 0.5617\n",
      "Epoch 28/100\n",
      "\u001b[1m235/235\u001b[0m \u001b[32m━━━━━━━━━━━━━━━━━━━━\u001b[0m\u001b[37m\u001b[0m \u001b[1m61s\u001b[0m 259ms/step - accuracy: 0.6557 - f1_score: 0.6270 - loss: 0.9052 - precision: 0.7753 - recall: 0.5263 - val_accuracy: 0.6696 - val_f1_score: 0.6461 - val_loss: 0.8729 - val_precision: 0.7729 - val_recall: 0.5551\n",
      "Epoch 29/100\n",
      "\u001b[1m235/235\u001b[0m \u001b[32m━━━━━━━━━━━━━━━━━━━━\u001b[0m\u001b[37m\u001b[0m \u001b[1m61s\u001b[0m 261ms/step - accuracy: 0.6620 - f1_score: 0.6376 - loss: 0.8836 - precision: 0.7763 - recall: 0.5411 - val_accuracy: 0.6934 - val_f1_score: 0.6722 - val_loss: 0.8136 - val_precision: 0.8154 - val_recall: 0.5718\n",
      "Epoch 30/100\n",
      "\u001b[1m235/235\u001b[0m \u001b[32m━━━━━━━━━━━━━━━━━━━━\u001b[0m\u001b[37m\u001b[0m \u001b[1m62s\u001b[0m 263ms/step - accuracy: 0.6788 - f1_score: 0.6570 - loss: 0.8618 - precision: 0.7896 - recall: 0.5626 - val_accuracy: 0.7059 - val_f1_score: 0.6655 - val_loss: 0.8124 - val_precision: 0.8374 - val_recall: 0.5521\n",
      "Epoch 31/100\n",
      "\u001b[1m235/235\u001b[0m \u001b[32m━━━━━━━━━━━━━━━━━━━━\u001b[0m\u001b[37m\u001b[0m \u001b[1m57s\u001b[0m 242ms/step - accuracy: 0.6698 - f1_score: 0.6437 - loss: 0.8776 - precision: 0.7788 - recall: 0.5488 - val_accuracy: 0.7062 - val_f1_score: 0.6712 - val_loss: 0.7965 - val_precision: 0.8311 - val_recall: 0.5629\n",
      "Epoch 32/100\n",
      "\u001b[1m235/235\u001b[0m \u001b[32m━━━━━━━━━━━━━━━━━━━━\u001b[0m\u001b[37m\u001b[0m \u001b[1m61s\u001b[0m 258ms/step - accuracy: 0.6818 - f1_score: 0.6578 - loss: 0.8412 - precision: 0.7957 - recall: 0.5606 - val_accuracy: 0.7159 - val_f1_score: 0.6927 - val_loss: 0.7696 - val_precision: 0.8084 - val_recall: 0.6060\n",
      "Epoch 33/100\n",
      "\u001b[1m235/235\u001b[0m \u001b[32m━━━━━━━━━━━━━━━━━━━━\u001b[0m\u001b[37m\u001b[0m \u001b[1m61s\u001b[0m 259ms/step - accuracy: 0.6656 - f1_score: 0.6436 - loss: 0.8736 - precision: 0.7741 - recall: 0.5508 - val_accuracy: 0.7023 - val_f1_score: 0.6894 - val_loss: 0.7737 - val_precision: 0.8262 - val_recall: 0.5914\n",
      "Epoch 34/100\n",
      "\u001b[1m235/235\u001b[0m \u001b[32m━━━━━━━━━━━━━━━━━━━━\u001b[0m\u001b[37m\u001b[0m \u001b[1m61s\u001b[0m 259ms/step - accuracy: 0.6882 - f1_score: 0.6603 - loss: 0.8352 - precision: 0.7947 - recall: 0.5649 - val_accuracy: 0.7196 - val_f1_score: 0.7016 - val_loss: 0.7584 - val_precision: 0.8297 - val_recall: 0.6077\n",
      "Epoch 35/100\n",
      "\u001b[1m235/235\u001b[0m \u001b[32m━━━━━━━━━━━━━━━━━━━━\u001b[0m\u001b[37m\u001b[0m \u001b[1m61s\u001b[0m 258ms/step - accuracy: 0.6969 - f1_score: 0.6669 - loss: 0.8190 - precision: 0.7993 - recall: 0.5722 - val_accuracy: 0.7106 - val_f1_score: 0.6981 - val_loss: 0.7575 - val_precision: 0.8263 - val_recall: 0.6043\n",
      "Epoch 36/100\n",
      "\u001b[1m235/235\u001b[0m \u001b[32m━━━━━━━━━━━━━━━━━━━━\u001b[0m\u001b[37m\u001b[0m \u001b[1m60s\u001b[0m 258ms/step - accuracy: 0.6918 - f1_score: 0.6695 - loss: 0.8290 - precision: 0.8015 - recall: 0.5748 - val_accuracy: 0.7333 - val_f1_score: 0.7173 - val_loss: 0.7330 - val_precision: 0.8233 - val_recall: 0.6354\n",
      "Epoch 37/100\n",
      "\u001b[1m235/235\u001b[0m \u001b[32m━━━━━━━━━━━━━━━━━━━━\u001b[0m\u001b[37m\u001b[0m \u001b[1m61s\u001b[0m 258ms/step - accuracy: 0.7075 - f1_score: 0.6853 - loss: 0.7876 - precision: 0.7994 - recall: 0.5997 - val_accuracy: 0.6746 - val_f1_score: 0.6470 - val_loss: 0.8404 - val_precision: 0.7786 - val_recall: 0.5535\n",
      "Epoch 38/100\n",
      "\u001b[1m235/235\u001b[0m \u001b[32m━━━━━━━━━━━━━━━━━━━━\u001b[0m\u001b[37m\u001b[0m \u001b[1m62s\u001b[0m 264ms/step - accuracy: 0.6913 - f1_score: 0.6724 - loss: 0.8272 - precision: 0.7926 - recall: 0.5839 - val_accuracy: 0.7421 - val_f1_score: 0.7015 - val_loss: 0.7235 - val_precision: 0.8705 - val_recall: 0.5874\n",
      "Epoch 39/100\n",
      "\u001b[1m235/235\u001b[0m \u001b[32m━━━━━━━━━━━━━━━━━━━━\u001b[0m\u001b[37m\u001b[0m \u001b[1m62s\u001b[0m 265ms/step - accuracy: 0.7031 - f1_score: 0.6834 - loss: 0.7944 - precision: 0.8128 - recall: 0.5899 - val_accuracy: 0.7466 - val_f1_score: 0.7293 - val_loss: 0.6982 - val_precision: 0.8407 - val_recall: 0.6439\n",
      "Epoch 40/100\n",
      "\u001b[1m235/235\u001b[0m \u001b[32m━━━━━━━━━━━━━━━━━━━━\u001b[0m\u001b[37m\u001b[0m \u001b[1m60s\u001b[0m 256ms/step - accuracy: 0.7070 - f1_score: 0.6871 - loss: 0.7827 - precision: 0.8066 - recall: 0.5985 - val_accuracy: 0.7408 - val_f1_score: 0.7265 - val_loss: 0.6892 - val_precision: 0.8388 - val_recall: 0.6407\n",
      "Epoch 41/100\n",
      "\u001b[1m235/235\u001b[0m \u001b[32m━━━━━━━━━━━━━━━━━━━━\u001b[0m\u001b[37m\u001b[0m \u001b[1m82s\u001b[0m 258ms/step - accuracy: 0.7074 - f1_score: 0.6891 - loss: 0.7778 - precision: 0.8040 - recall: 0.6030 - val_accuracy: 0.7364 - val_f1_score: 0.6967 - val_loss: 0.7390 - val_precision: 0.8543 - val_recall: 0.5882\n",
      "Epoch 42/100\n",
      "\u001b[1m235/235\u001b[0m \u001b[32m━━━━━━━━━━━━━━━━━━━━\u001b[0m\u001b[37m\u001b[0m \u001b[1m62s\u001b[0m 264ms/step - accuracy: 0.7092 - f1_score: 0.6873 - loss: 0.7763 - precision: 0.8127 - recall: 0.5955 - val_accuracy: 0.7401 - val_f1_score: 0.7206 - val_loss: 0.7017 - val_precision: 0.8357 - val_recall: 0.6334\n",
      "Epoch 43/100\n",
      "\u001b[1m235/235\u001b[0m \u001b[32m━━━━━━━━━━━━━━━━━━━━\u001b[0m\u001b[37m\u001b[0m \u001b[1m62s\u001b[0m 265ms/step - accuracy: 0.7117 - f1_score: 0.7025 - loss: 0.7796 - precision: 0.8186 - recall: 0.6153 - val_accuracy: 0.7473 - val_f1_score: 0.7412 - val_loss: 0.6676 - val_precision: 0.8366 - val_recall: 0.6653\n",
      "Epoch 44/100\n",
      "\u001b[1m235/235\u001b[0m \u001b[32m━━━━━━━━━━━━━━━━━━━━\u001b[0m\u001b[37m\u001b[0m \u001b[1m63s\u001b[0m 267ms/step - accuracy: 0.7188 - f1_score: 0.6998 - loss: 0.7496 - precision: 0.8095 - recall: 0.6165 - val_accuracy: 0.7659 - val_f1_score: 0.7467 - val_loss: 0.6454 - val_precision: 0.8644 - val_recall: 0.6572\n",
      "Epoch 45/100\n",
      "\u001b[1m235/235\u001b[0m \u001b[32m━━━━━━━━━━━━━━━━━━━━\u001b[0m\u001b[37m\u001b[0m \u001b[1m63s\u001b[0m 267ms/step - accuracy: 0.7275 - f1_score: 0.7082 - loss: 0.7290 - precision: 0.8139 - recall: 0.6268 - val_accuracy: 0.7447 - val_f1_score: 0.7260 - val_loss: 0.6748 - val_precision: 0.8563 - val_recall: 0.6301\n",
      "Epoch 46/100\n",
      "\u001b[1m235/235\u001b[0m \u001b[32m━━━━━━━━━━━━━━━━━━━━\u001b[0m\u001b[37m\u001b[0m \u001b[1m61s\u001b[0m 261ms/step - accuracy: 0.7235 - f1_score: 0.7054 - loss: 0.7535 - precision: 0.8137 - recall: 0.6226 - val_accuracy: 0.7545 - val_f1_score: 0.7476 - val_loss: 0.6607 - val_precision: 0.8477 - val_recall: 0.6687\n",
      "Epoch 47/100\n",
      "\u001b[1m235/235\u001b[0m \u001b[32m━━━━━━━━━━━━━━━━━━━━\u001b[0m\u001b[37m\u001b[0m \u001b[1m62s\u001b[0m 264ms/step - accuracy: 0.7219 - f1_score: 0.7124 - loss: 0.7335 - precision: 0.8240 - recall: 0.6275 - val_accuracy: 0.7474 - val_f1_score: 0.7410 - val_loss: 0.6901 - val_precision: 0.8198 - val_recall: 0.6760\n",
      "Epoch 48/100\n",
      "\u001b[1m235/235\u001b[0m \u001b[32m━━━━━━━━━━━━━━━━━━━━\u001b[0m\u001b[37m\u001b[0m \u001b[1m62s\u001b[0m 263ms/step - accuracy: 0.7317 - f1_score: 0.7177 - loss: 0.7163 - precision: 0.8178 - recall: 0.6395 - val_accuracy: 0.7632 - val_f1_score: 0.7455 - val_loss: 0.6396 - val_precision: 0.8466 - val_recall: 0.6660\n",
      "Epoch 49/100\n",
      "\u001b[1m235/235\u001b[0m \u001b[32m━━━━━━━━━━━━━━━━━━━━\u001b[0m\u001b[37m\u001b[0m \u001b[1m62s\u001b[0m 264ms/step - accuracy: 0.7201 - f1_score: 0.7093 - loss: 0.7236 - precision: 0.8149 - recall: 0.6280 - val_accuracy: 0.7721 - val_f1_score: 0.7475 - val_loss: 0.6387 - val_precision: 0.8685 - val_recall: 0.6562\n",
      "Epoch 50/100\n",
      "\u001b[1m235/235\u001b[0m \u001b[32m━━━━━━━━━━━━━━━━━━━━\u001b[0m\u001b[37m\u001b[0m \u001b[1m62s\u001b[0m 265ms/step - accuracy: 0.7317 - f1_score: 0.7256 - loss: 0.7117 - precision: 0.8290 - recall: 0.6452 - val_accuracy: 0.7650 - val_f1_score: 0.7455 - val_loss: 0.6340 - val_precision: 0.8652 - val_recall: 0.6548\n",
      "Epoch 51/100\n",
      "\u001b[1m235/235\u001b[0m \u001b[32m━━━━━━━━━━━━━━━━━━━━\u001b[0m\u001b[37m\u001b[0m \u001b[1m62s\u001b[0m 265ms/step - accuracy: 0.7349 - f1_score: 0.7188 - loss: 0.7009 - precision: 0.8213 - recall: 0.6390 - val_accuracy: 0.7578 - val_f1_score: 0.7439 - val_loss: 0.6490 - val_precision: 0.8514 - val_recall: 0.6605\n",
      "Epoch 52/100\n",
      "\u001b[1m235/235\u001b[0m \u001b[32m━━━━━━━━━━━━━━━━━━━━\u001b[0m\u001b[37m\u001b[0m \u001b[1m62s\u001b[0m 264ms/step - accuracy: 0.7331 - f1_score: 0.7207 - loss: 0.7136 - precision: 0.8211 - recall: 0.6422 - val_accuracy: 0.7603 - val_f1_score: 0.7515 - val_loss: 0.6445 - val_precision: 0.8524 - val_recall: 0.6720\n",
      "Epoch 53/100\n",
      "\u001b[1m235/235\u001b[0m \u001b[32m━━━━━━━━━━━━━━━━━━━━\u001b[0m\u001b[37m\u001b[0m \u001b[1m61s\u001b[0m 260ms/step - accuracy: 0.7488 - f1_score: 0.7308 - loss: 0.6827 - precision: 0.8285 - recall: 0.6537 - val_accuracy: 0.7713 - val_f1_score: 0.7458 - val_loss: 0.6322 - val_precision: 0.8671 - val_recall: 0.6543\n",
      "Epoch 54/100\n",
      "\u001b[1m235/235\u001b[0m \u001b[32m━━━━━━━━━━━━━━━━━━━━\u001b[0m\u001b[37m\u001b[0m \u001b[1m60s\u001b[0m 257ms/step - accuracy: 0.7464 - f1_score: 0.7387 - loss: 0.6839 - precision: 0.8421 - recall: 0.6581 - val_accuracy: 0.7792 - val_f1_score: 0.7646 - val_loss: 0.6141 - val_precision: 0.8672 - val_recall: 0.6837\n",
      "Epoch 55/100\n",
      "\u001b[1m235/235\u001b[0m \u001b[32m━━━━━━━━━━━━━━━━━━━━\u001b[0m\u001b[37m\u001b[0m \u001b[1m61s\u001b[0m 259ms/step - accuracy: 0.7394 - f1_score: 0.7237 - loss: 0.6934 - precision: 0.8218 - recall: 0.6466 - val_accuracy: 0.7803 - val_f1_score: 0.7692 - val_loss: 0.6013 - val_precision: 0.8451 - val_recall: 0.7059\n",
      "Epoch 56/100\n",
      "\u001b[1m235/235\u001b[0m \u001b[32m━━━━━━━━━━━━━━━━━━━━\u001b[0m\u001b[37m\u001b[0m \u001b[1m61s\u001b[0m 262ms/step - accuracy: 0.7457 - f1_score: 0.7377 - loss: 0.6688 - precision: 0.8303 - recall: 0.6638 - val_accuracy: 0.7787 - val_f1_score: 0.7603 - val_loss: 0.6101 - val_precision: 0.8694 - val_recall: 0.6756\n",
      "Epoch 57/100\n",
      "\u001b[1m235/235\u001b[0m \u001b[32m━━━━━━━━━━━━━━━━━━━━\u001b[0m\u001b[37m\u001b[0m \u001b[1m61s\u001b[0m 260ms/step - accuracy: 0.7504 - f1_score: 0.7368 - loss: 0.6737 - precision: 0.8303 - recall: 0.6623 - val_accuracy: 0.7914 - val_f1_score: 0.7801 - val_loss: 0.5777 - val_precision: 0.8708 - val_recall: 0.7066\n",
      "Epoch 58/100\n",
      "\u001b[1m235/235\u001b[0m \u001b[32m━━━━━━━━━━━━━━━━━━━━\u001b[0m\u001b[37m\u001b[0m \u001b[1m61s\u001b[0m 258ms/step - accuracy: 0.7492 - f1_score: 0.7337 - loss: 0.6654 - precision: 0.8294 - recall: 0.6578 - val_accuracy: 0.7799 - val_f1_score: 0.7661 - val_loss: 0.6163 - val_precision: 0.8559 - val_recall: 0.6934\n",
      "Epoch 59/100\n",
      "\u001b[1m235/235\u001b[0m \u001b[32m━━━━━━━━━━━━━━━━━━━━\u001b[0m\u001b[37m\u001b[0m \u001b[1m62s\u001b[0m 263ms/step - accuracy: 0.7480 - f1_score: 0.7432 - loss: 0.6618 - precision: 0.8297 - recall: 0.6732 - val_accuracy: 0.7912 - val_f1_score: 0.7714 - val_loss: 0.5815 - val_precision: 0.8689 - val_recall: 0.6937\n",
      "Epoch 60/100\n",
      "\u001b[1m235/235\u001b[0m \u001b[32m━━━━━━━━━━━━━━━━━━━━\u001b[0m\u001b[37m\u001b[0m \u001b[1m61s\u001b[0m 258ms/step - accuracy: 0.7500 - f1_score: 0.7443 - loss: 0.6563 - precision: 0.8320 - recall: 0.6736 - val_accuracy: 0.7776 - val_f1_score: 0.7631 - val_loss: 0.5973 - val_precision: 0.8612 - val_recall: 0.6850\n",
      "Epoch 61/100\n",
      "\u001b[1m235/235\u001b[0m \u001b[32m━━━━━━━━━━━━━━━━━━━━\u001b[0m\u001b[37m\u001b[0m \u001b[1m60s\u001b[0m 257ms/step - accuracy: 0.7464 - f1_score: 0.7326 - loss: 0.6729 - precision: 0.8245 - recall: 0.6592 - val_accuracy: 0.7721 - val_f1_score: 0.7707 - val_loss: 0.6021 - val_precision: 0.8331 - val_recall: 0.7171\n",
      "Epoch 62/100\n",
      "\u001b[1m235/235\u001b[0m \u001b[32m━━━━━━━━━━━━━━━━━━━━\u001b[0m\u001b[37m\u001b[0m \u001b[1m61s\u001b[0m 258ms/step - accuracy: 0.7553 - f1_score: 0.7464 - loss: 0.6456 - precision: 0.8371 - recall: 0.6735 - val_accuracy: 0.7840 - val_f1_score: 0.7727 - val_loss: 0.5928 - val_precision: 0.8614 - val_recall: 0.7005\n",
      "Epoch 63/100\n",
      "\u001b[1m235/235\u001b[0m \u001b[32m━━━━━━━━━━━━━━━━━━━━\u001b[0m\u001b[37m\u001b[0m \u001b[1m61s\u001b[0m 261ms/step - accuracy: 0.7543 - f1_score: 0.7448 - loss: 0.6709 - precision: 0.8314 - recall: 0.6746 - val_accuracy: 0.7944 - val_f1_score: 0.7837 - val_loss: 0.5572 - val_precision: 0.8600 - val_recall: 0.7199\n",
      "Epoch 64/100\n",
      "\u001b[1m235/235\u001b[0m \u001b[32m━━━━━━━━━━━━━━━━━━━━\u001b[0m\u001b[37m\u001b[0m \u001b[1m61s\u001b[0m 262ms/step - accuracy: 0.7614 - f1_score: 0.7471 - loss: 0.6535 - precision: 0.8411 - recall: 0.6721 - val_accuracy: 0.8065 - val_f1_score: 0.7997 - val_loss: 0.5281 - val_precision: 0.8848 - val_recall: 0.7294\n",
      "Epoch 65/100\n",
      "\u001b[1m235/235\u001b[0m \u001b[32m━━━━━━━━━━━━━━━━━━━━\u001b[0m\u001b[37m\u001b[0m \u001b[1m61s\u001b[0m 258ms/step - accuracy: 0.7672 - f1_score: 0.7558 - loss: 0.6350 - precision: 0.8406 - recall: 0.6865 - val_accuracy: 0.8030 - val_f1_score: 0.7998 - val_loss: 0.5307 - val_precision: 0.8699 - val_recall: 0.7401\n",
      "Epoch 66/100\n",
      "\u001b[1m235/235\u001b[0m \u001b[32m━━━━━━━━━━━━━━━━━━━━\u001b[0m\u001b[37m\u001b[0m \u001b[1m61s\u001b[0m 258ms/step - accuracy: 0.7730 - f1_score: 0.7611 - loss: 0.6153 - precision: 0.8428 - recall: 0.6938 - val_accuracy: 0.7759 - val_f1_score: 0.7700 - val_loss: 0.6065 - val_precision: 0.8454 - val_recall: 0.7070\n",
      "Epoch 67/100\n",
      "\u001b[1m235/235\u001b[0m \u001b[32m━━━━━━━━━━━━━━━━━━━━\u001b[0m\u001b[37m\u001b[0m \u001b[1m61s\u001b[0m 260ms/step - accuracy: 0.7814 - f1_score: 0.7718 - loss: 0.6024 - precision: 0.8514 - recall: 0.7059 - val_accuracy: 0.8022 - val_f1_score: 0.7976 - val_loss: 0.5384 - val_precision: 0.8656 - val_recall: 0.7394\n",
      "Epoch 68/100\n",
      "\u001b[1m235/235\u001b[0m \u001b[32m━━━━━━━━━━━━━━━━━━━━\u001b[0m\u001b[37m\u001b[0m \u001b[1m62s\u001b[0m 263ms/step - accuracy: 0.7604 - f1_score: 0.7526 - loss: 0.6418 - precision: 0.8296 - recall: 0.6887 - val_accuracy: 0.7831 - val_f1_score: 0.7737 - val_loss: 0.5930 - val_precision: 0.8597 - val_recall: 0.7034\n",
      "Epoch 69/100\n",
      "\u001b[1m235/235\u001b[0m \u001b[32m━━━━━━━━━━━━━━━━━━━━\u001b[0m\u001b[37m\u001b[0m \u001b[1m62s\u001b[0m 262ms/step - accuracy: 0.7483 - f1_score: 0.7407 - loss: 0.6680 - precision: 0.8326 - recall: 0.6673 - val_accuracy: 0.8079 - val_f1_score: 0.8023 - val_loss: 0.5361 - val_precision: 0.8837 - val_recall: 0.7346\n",
      "Epoch 70/100\n",
      "\u001b[1m235/235\u001b[0m \u001b[32m━━━━━━━━━━━━━━━━━━━━\u001b[0m\u001b[37m\u001b[0m \u001b[1m62s\u001b[0m 262ms/step - accuracy: 0.7754 - f1_score: 0.7636 - loss: 0.6147 - precision: 0.8469 - recall: 0.6953 - val_accuracy: 0.7945 - val_f1_score: 0.7801 - val_loss: 0.5653 - val_precision: 0.8658 - val_recall: 0.7098\n",
      "Epoch 71/100\n",
      "\u001b[1m235/235\u001b[0m \u001b[32m━━━━━━━━━━━━━━━━━━━━\u001b[0m\u001b[37m\u001b[0m \u001b[1m62s\u001b[0m 263ms/step - accuracy: 0.7818 - f1_score: 0.7748 - loss: 0.6064 - precision: 0.8508 - recall: 0.7114 - val_accuracy: 0.8006 - val_f1_score: 0.7951 - val_loss: 0.5360 - val_precision: 0.8662 - val_recall: 0.7348\n",
      "Epoch 72/100\n",
      "\u001b[1m235/235\u001b[0m \u001b[32m━━━━━━━━━━━━━━━━━━━━\u001b[0m\u001b[37m\u001b[0m \u001b[1m62s\u001b[0m 263ms/step - accuracy: 0.7635 - f1_score: 0.7590 - loss: 0.6249 - precision: 0.8346 - recall: 0.6959 - val_accuracy: 0.7775 - val_f1_score: 0.7708 - val_loss: 0.5915 - val_precision: 0.8346 - val_recall: 0.7161\n",
      "Epoch 73/100\n",
      "\u001b[1m235/235\u001b[0m \u001b[32m━━━━━━━━━━━━━━━━━━━━\u001b[0m\u001b[37m\u001b[0m \u001b[1m62s\u001b[0m 265ms/step - accuracy: 0.7600 - f1_score: 0.7510 - loss: 0.6437 - precision: 0.8206 - recall: 0.6924 - val_accuracy: 0.8090 - val_f1_score: 0.7986 - val_loss: 0.5232 - val_precision: 0.8872 - val_recall: 0.7261\n",
      "Epoch 74/100\n",
      "\u001b[1m235/235\u001b[0m \u001b[32m━━━━━━━━━━━━━━━━━━━━\u001b[0m\u001b[37m\u001b[0m \u001b[1m62s\u001b[0m 262ms/step - accuracy: 0.7864 - f1_score: 0.7763 - loss: 0.5895 - precision: 0.8588 - recall: 0.7083 - val_accuracy: 0.7880 - val_f1_score: 0.7820 - val_loss: 0.5649 - val_precision: 0.8562 - val_recall: 0.7197\n",
      "Epoch 75/100\n",
      "\u001b[1m235/235\u001b[0m \u001b[32m━━━━━━━━━━━━━━━━━━━━\u001b[0m\u001b[37m\u001b[0m \u001b[1m62s\u001b[0m 263ms/step - accuracy: 0.7774 - f1_score: 0.7690 - loss: 0.5993 - precision: 0.8455 - recall: 0.7053 - val_accuracy: 0.7941 - val_f1_score: 0.7902 - val_loss: 0.5431 - val_precision: 0.8512 - val_recall: 0.7373\n",
      "Epoch 76/100\n",
      "\u001b[1m235/235\u001b[0m \u001b[32m━━━━━━━━━━━━━━━━━━━━\u001b[0m\u001b[37m\u001b[0m \u001b[1m61s\u001b[0m 259ms/step - accuracy: 0.7809 - f1_score: 0.7742 - loss: 0.5949 - precision: 0.8470 - recall: 0.7129 - val_accuracy: 0.8172 - val_f1_score: 0.8079 - val_loss: 0.5005 - val_precision: 0.8789 - val_recall: 0.7475\n",
      "Epoch 77/100\n",
      "\u001b[1m235/235\u001b[0m \u001b[32m━━━━━━━━━━━━━━━━━━━━\u001b[0m\u001b[37m\u001b[0m \u001b[1m60s\u001b[0m 255ms/step - accuracy: 0.7682 - f1_score: 0.7652 - loss: 0.6138 - precision: 0.8404 - recall: 0.7025 - val_accuracy: 0.8230 - val_f1_score: 0.8105 - val_loss: 0.5024 - val_precision: 0.9013 - val_recall: 0.7364\n",
      "Epoch 78/100\n",
      "\u001b[1m235/235\u001b[0m \u001b[32m━━━━━━━━━━━━━━━━━━━━\u001b[0m\u001b[37m\u001b[0m \u001b[1m61s\u001b[0m 259ms/step - accuracy: 0.7954 - f1_score: 0.7903 - loss: 0.5593 - precision: 0.8635 - recall: 0.7287 - val_accuracy: 0.8176 - val_f1_score: 0.8103 - val_loss: 0.5041 - val_precision: 0.8782 - val_recall: 0.7522\n",
      "Epoch 79/100\n",
      "\u001b[1m235/235\u001b[0m \u001b[32m━━━━━━━━━━━━━━━━━━━━\u001b[0m\u001b[37m\u001b[0m \u001b[1m63s\u001b[0m 267ms/step - accuracy: 0.7777 - f1_score: 0.7703 - loss: 0.5953 - precision: 0.8422 - recall: 0.7098 - val_accuracy: 0.8155 - val_f1_score: 0.8105 - val_loss: 0.4977 - val_precision: 0.8899 - val_recall: 0.7441\n",
      "Epoch 80/100\n",
      "\u001b[1m235/235\u001b[0m \u001b[32m━━━━━━━━━━━━━━━━━━━━\u001b[0m\u001b[37m\u001b[0m \u001b[1m62s\u001b[0m 264ms/step - accuracy: 0.7898 - f1_score: 0.7827 - loss: 0.5811 - precision: 0.8558 - recall: 0.7212 - val_accuracy: 0.8215 - val_f1_score: 0.8144 - val_loss: 0.4913 - val_precision: 0.8885 - val_recall: 0.7517\n",
      "Epoch 81/100\n",
      "\u001b[1m235/235\u001b[0m \u001b[32m━━━━━━━━━━━━━━━━━━━━\u001b[0m\u001b[37m\u001b[0m \u001b[1m61s\u001b[0m 261ms/step - accuracy: 0.7968 - f1_score: 0.7942 - loss: 0.5569 - precision: 0.8643 - recall: 0.7347 - val_accuracy: 0.8271 - val_f1_score: 0.8274 - val_loss: 0.4763 - val_precision: 0.8812 - val_recall: 0.7797\n",
      "Epoch 82/100\n",
      "\u001b[1m235/235\u001b[0m \u001b[32m━━━━━━━━━━━━━━━━━━━━\u001b[0m\u001b[37m\u001b[0m \u001b[1m63s\u001b[0m 270ms/step - accuracy: 0.7900 - f1_score: 0.7814 - loss: 0.5802 - precision: 0.8501 - recall: 0.7230 - val_accuracy: 0.8268 - val_f1_score: 0.8241 - val_loss: 0.4830 - val_precision: 0.8780 - val_recall: 0.7764\n",
      "Epoch 83/100\n",
      "\u001b[1m235/235\u001b[0m \u001b[32m━━━━━━━━━━━━━━━━━━━━\u001b[0m\u001b[37m\u001b[0m \u001b[1m65s\u001b[0m 276ms/step - accuracy: 0.7866 - f1_score: 0.7901 - loss: 0.5594 - precision: 0.8578 - recall: 0.7322 - val_accuracy: 0.8179 - val_f1_score: 0.8148 - val_loss: 0.4977 - val_precision: 0.8797 - val_recall: 0.7588\n",
      "Epoch 84/100\n",
      "\u001b[1m235/235\u001b[0m \u001b[32m━━━━━━━━━━━━━━━━━━━━\u001b[0m\u001b[37m\u001b[0m \u001b[1m63s\u001b[0m 266ms/step - accuracy: 0.7935 - f1_score: 0.7849 - loss: 0.5764 - precision: 0.8512 - recall: 0.7282 - val_accuracy: 0.8166 - val_f1_score: 0.8103 - val_loss: 0.4970 - val_precision: 0.8815 - val_recall: 0.7498\n",
      "Epoch 85/100\n",
      "\u001b[1m235/235\u001b[0m \u001b[32m━━━━━━━━━━━━━━━━━━━━\u001b[0m\u001b[37m\u001b[0m \u001b[1m61s\u001b[0m 258ms/step - accuracy: 0.8025 - f1_score: 0.7892 - loss: 0.5491 - precision: 0.8579 - recall: 0.7308 - val_accuracy: 0.8276 - val_f1_score: 0.8245 - val_loss: 0.4699 - val_precision: 0.8787 - val_recall: 0.7765\n",
      "Epoch 86/100\n",
      "\u001b[1m235/235\u001b[0m \u001b[32m━━━━━━━━━━━━━━━━━━━━\u001b[0m\u001b[37m\u001b[0m \u001b[1m60s\u001b[0m 255ms/step - accuracy: 0.7966 - f1_score: 0.7941 - loss: 0.5405 - precision: 0.8595 - recall: 0.7380 - val_accuracy: 0.8368 - val_f1_score: 0.8258 - val_loss: 0.4675 - val_precision: 0.9003 - val_recall: 0.7627\n",
      "Epoch 87/100\n",
      "\u001b[1m235/235\u001b[0m \u001b[32m━━━━━━━━━━━━━━━━━━━━\u001b[0m\u001b[37m\u001b[0m \u001b[1m59s\u001b[0m 253ms/step - accuracy: 0.7934 - f1_score: 0.7827 - loss: 0.5678 - precision: 0.8531 - recall: 0.7232 - val_accuracy: 0.8134 - val_f1_score: 0.8113 - val_loss: 0.5096 - val_precision: 0.8727 - val_recall: 0.7579\n",
      "Epoch 88/100\n",
      "\u001b[1m235/235\u001b[0m \u001b[32m━━━━━━━━━━━━━━━━━━━━\u001b[0m\u001b[37m\u001b[0m \u001b[1m60s\u001b[0m 255ms/step - accuracy: 0.7922 - f1_score: 0.7862 - loss: 0.5681 - precision: 0.8573 - recall: 0.7259 - val_accuracy: 0.8243 - val_f1_score: 0.8122 - val_loss: 0.4887 - val_precision: 0.8885 - val_recall: 0.7481\n",
      "Epoch 89/100\n",
      "\u001b[1m235/235\u001b[0m \u001b[32m━━━━━━━━━━━━━━━━━━━━\u001b[0m\u001b[37m\u001b[0m \u001b[1m60s\u001b[0m 256ms/step - accuracy: 0.7932 - f1_score: 0.7900 - loss: 0.5588 - precision: 0.8645 - recall: 0.7273 - val_accuracy: 0.8239 - val_f1_score: 0.8148 - val_loss: 0.4903 - val_precision: 0.8828 - val_recall: 0.7566\n",
      "Epoch 90/100\n",
      "\u001b[1m235/235\u001b[0m \u001b[32m━━━━━━━━━━━━━━━━━━━━\u001b[0m\u001b[37m\u001b[0m \u001b[1m59s\u001b[0m 251ms/step - accuracy: 0.7909 - f1_score: 0.7871 - loss: 0.5625 - precision: 0.8584 - recall: 0.7268 - val_accuracy: 0.8187 - val_f1_score: 0.8168 - val_loss: 0.4903 - val_precision: 0.8683 - val_recall: 0.7711\n",
      "Epoch 91/100\n",
      "\u001b[1m235/235\u001b[0m \u001b[32m━━━━━━━━━━━━━━━━━━━━\u001b[0m\u001b[37m\u001b[0m \u001b[1m59s\u001b[0m 253ms/step - accuracy: 0.7927 - f1_score: 0.7891 - loss: 0.5537 - precision: 0.8595 - recall: 0.7294 - val_accuracy: 0.8388 - val_f1_score: 0.8329 - val_loss: 0.4454 - val_precision: 0.9045 - val_recall: 0.7719\n",
      "Epoch 92/100\n",
      "\u001b[1m235/235\u001b[0m \u001b[32m━━━━━━━━━━━━━━━━━━━━\u001b[0m\u001b[37m\u001b[0m \u001b[1m59s\u001b[0m 252ms/step - accuracy: 0.8099 - f1_score: 0.8027 - loss: 0.5188 - precision: 0.8666 - recall: 0.7475 - val_accuracy: 0.8421 - val_f1_score: 0.8368 - val_loss: 0.4466 - val_precision: 0.8959 - val_recall: 0.7850\n",
      "Epoch 93/100\n",
      "\u001b[1m235/235\u001b[0m \u001b[32m━━━━━━━━━━━━━━━━━━━━\u001b[0m\u001b[37m\u001b[0m \u001b[1m60s\u001b[0m 255ms/step - accuracy: 0.8015 - f1_score: 0.7963 - loss: 0.5285 - precision: 0.8564 - recall: 0.7442 - val_accuracy: 0.8172 - val_f1_score: 0.8095 - val_loss: 0.4950 - val_precision: 0.8651 - val_recall: 0.7606\n",
      "Epoch 94/100\n",
      "\u001b[1m235/235\u001b[0m \u001b[32m━━━━━━━━━━━━━━━━━━━━\u001b[0m\u001b[37m\u001b[0m \u001b[1m55s\u001b[0m 236ms/step - accuracy: 0.7958 - f1_score: 0.7944 - loss: 0.5436 - precision: 0.8572 - recall: 0.7401 - val_accuracy: 0.8303 - val_f1_score: 0.8198 - val_loss: 0.4917 - val_precision: 0.8969 - val_recall: 0.7549\n",
      "Epoch 95/100\n",
      "\u001b[1m235/235\u001b[0m \u001b[32m━━━━━━━━━━━━━━━━━━━━\u001b[0m\u001b[37m\u001b[0m \u001b[1m36s\u001b[0m 154ms/step - accuracy: 0.7926 - f1_score: 0.7868 - loss: 0.5577 - precision: 0.8523 - recall: 0.7308 - val_accuracy: 0.8156 - val_f1_score: 0.8131 - val_loss: 0.5065 - val_precision: 0.8760 - val_recall: 0.7586\n",
      "Epoch 96/100\n",
      "\u001b[1m235/235\u001b[0m \u001b[32m━━━━━━━━━━━━━━━━━━━━\u001b[0m\u001b[37m\u001b[0m \u001b[1m19s\u001b[0m 82ms/step - accuracy: 0.8012 - f1_score: 0.7941 - loss: 0.5530 - precision: 0.8565 - recall: 0.7402 - val_accuracy: 0.8239 - val_f1_score: 0.8158 - val_loss: 0.4718 - val_precision: 0.8828 - val_recall: 0.7583\n",
      "Epoch 97/100\n",
      "\u001b[1m235/235\u001b[0m \u001b[32m━━━━━━━━━━━━━━━━━━━━\u001b[0m\u001b[37m\u001b[0m \u001b[1m20s\u001b[0m 85ms/step - accuracy: 0.8111 - f1_score: 0.8045 - loss: 0.5149 - precision: 0.8674 - recall: 0.7501 - val_accuracy: 0.8476 - val_f1_score: 0.8419 - val_loss: 0.4351 - val_precision: 0.9054 - val_recall: 0.7868\n",
      "Epoch 98/100\n",
      "\u001b[1m235/235\u001b[0m \u001b[32m━━━━━━━━━━━━━━━━━━━━\u001b[0m\u001b[37m\u001b[0m \u001b[1m22s\u001b[0m 92ms/step - accuracy: 0.8207 - f1_score: 0.8191 - loss: 0.4945 - precision: 0.8723 - recall: 0.7720 - val_accuracy: 0.8353 - val_f1_score: 0.8306 - val_loss: 0.4533 - val_precision: 0.8810 - val_recall: 0.7857\n",
      "Epoch 99/100\n",
      "\u001b[1m235/235\u001b[0m \u001b[32m━━━━━━━━━━━━━━━━━━━━\u001b[0m\u001b[37m\u001b[0m \u001b[1m22s\u001b[0m 95ms/step - accuracy: 0.8130 - f1_score: 0.8059 - loss: 0.5185 - precision: 0.8665 - recall: 0.7533 - val_accuracy: 0.8393 - val_f1_score: 0.8392 - val_loss: 0.4433 - val_precision: 0.8794 - val_recall: 0.8025\n",
      "Epoch 100/100\n",
      "\u001b[1m235/235\u001b[0m \u001b[32m━━━━━━━━━━━━━━━━━━━━\u001b[0m\u001b[37m\u001b[0m \u001b[1m25s\u001b[0m 106ms/step - accuracy: 0.8077 - f1_score: 0.8050 - loss: 0.5478 - precision: 0.8631 - recall: 0.7542 - val_accuracy: 0.8444 - val_f1_score: 0.8418 - val_loss: 0.4429 - val_precision: 0.9012 - val_recall: 0.7897\n"
     ]
    }
   ],
   "source": [
    "# Train the model\n",
    "history = gru_model.fit(\n",
    "    x=training_set,\n",
    "    validation_data=validation_set,\n",
    "    epochs=100\n",
    ")"
   ]
  },
  {
   "cell_type": "code",
   "execution_count": 11,
   "id": "d3445f23-af6a-42d4-aa79-5549e57c7e51",
   "metadata": {},
   "outputs": [],
   "source": [
    "# Save Loss plot\n",
    "plt.figure()\n",
    "plt.plot(history.history['loss'], label='Train Loss')\n",
    "plt.plot(history.history['val_loss'], label='Validation Loss')\n",
    "plt.legend()\n",
    "plt.title(\"Loss\")\n",
    "plt.xlabel('Epochs')\n",
    "plt.ylabel('Loss')\n",
    "plt.savefig('loss_plot_gru.png')  # Save the plot as a PNG file\n",
    "plt.close()\n",
    "\n",
    "# Save Accuracy plot\n",
    "plt.figure()\n",
    "plt.plot(history.history['accuracy'], label='Train Accuracy')\n",
    "plt.plot(history.history['val_accuracy'], label='Validation Accuracy')\n",
    "plt.legend()\n",
    "plt.title(\"Accuracy\")\n",
    "plt.xlabel('Epochs')\n",
    "plt.ylabel('Accuracy')\n",
    "plt.savefig('accuracy_plot_gru.png')  # Save the plot as a PNG file\n",
    "plt.close()\n",
    "\n",
    "# Save Precision plot\n",
    "plt.figure()\n",
    "plt.plot(history.history['precision'], label='Train Precision')\n",
    "plt.plot(history.history['val_precision'], label='Validation Precision')\n",
    "plt.legend()\n",
    "plt.title(\"Precision\")\n",
    "plt.xlabel('Epochs')\n",
    "plt.ylabel('Precision')\n",
    "plt.savefig('precision_plot_gru.png')  # Save the plot as a PNG file\n",
    "plt.close()\n",
    "\n",
    "# Save Recall plot\n",
    "plt.figure()\n",
    "plt.plot(history.history['recall'], label='Train Recall')\n",
    "plt.plot(history.history['val_recall'], label='Validation Recall')\n",
    "plt.legend()\n",
    "plt.title(\"Recall\")\n",
    "plt.xlabel('Epochs')\n",
    "plt.ylabel('Recall')\n",
    "plt.savefig('recall_plot_gru.png')  # Save the plot as a PNG file\n",
    "plt.close()\n",
    "\n",
    "# Save F1 Score plot\n",
    "plt.figure()\n",
    "plt.plot(history.history['f1_score'], label='Train F1 Score')\n",
    "plt.plot(history.history['val_f1_score'], label='Validation F1 Score')\n",
    "plt.legend()\n",
    "plt.title(\"F1 Score\")\n",
    "plt.xlabel('Epochs')\n",
    "plt.ylabel('F1 Score')\n",
    "plt.savefig('f1_score_plot_gru.png')  # Save the plot as a PNG file\n",
    "plt.close()\n"
   ]
  },
  {
   "cell_type": "code",
   "execution_count": 12,
   "id": "1542de3f-70bc-4614-9639-2fb3cd74644b",
   "metadata": {},
   "outputs": [
    {
     "data": {
      "text/html": [
       "<pre style=\"white-space:pre;overflow-x:auto;line-height:normal;font-family:Menlo,'DejaVu Sans Mono',consolas,'Courier New',monospace\"><span style=\"font-weight: bold\">Model: \"sequential\"</span>\n",
       "</pre>\n"
      ],
      "text/plain": [
       "\u001b[1mModel: \"sequential\"\u001b[0m\n"
      ]
     },
     "metadata": {},
     "output_type": "display_data"
    },
    {
     "data": {
      "text/html": [
       "<pre style=\"white-space:pre;overflow-x:auto;line-height:normal;font-family:Menlo,'DejaVu Sans Mono',consolas,'Courier New',monospace\">┏━━━━━━━━━━━━━━━━━━━━━━━━━━━━━━━━━━━━━━┳━━━━━━━━━━━━━━━━━━━━━━━━━━━━━┳━━━━━━━━━━━━━━━━━┓\n",
       "┃<span style=\"font-weight: bold\"> Layer (type)                         </span>┃<span style=\"font-weight: bold\"> Output Shape                </span>┃<span style=\"font-weight: bold\">         Param # </span>┃\n",
       "┡━━━━━━━━━━━━━━━━━━━━━━━━━━━━━━━━━━━━━━╇━━━━━━━━━━━━━━━━━━━━━━━━━━━━━╇━━━━━━━━━━━━━━━━━┩\n",
       "│ flatten (<span style=\"color: #0087ff; text-decoration-color: #0087ff\">Flatten</span>)                    │ (<span style=\"color: #00d7ff; text-decoration-color: #00d7ff\">None</span>, <span style=\"color: #00af00; text-decoration-color: #00af00\">12288</span>)               │               <span style=\"color: #00af00; text-decoration-color: #00af00\">0</span> │\n",
       "├──────────────────────────────────────┼─────────────────────────────┼─────────────────┤\n",
       "│ reshape (<span style=\"color: #0087ff; text-decoration-color: #0087ff\">Reshape</span>)                    │ (<span style=\"color: #00d7ff; text-decoration-color: #00d7ff\">None</span>, <span style=\"color: #00af00; text-decoration-color: #00af00\">16</span>, <span style=\"color: #00af00; text-decoration-color: #00af00\">768</span>)             │               <span style=\"color: #00af00; text-decoration-color: #00af00\">0</span> │\n",
       "├──────────────────────────────────────┼─────────────────────────────┼─────────────────┤\n",
       "│ gru (<span style=\"color: #0087ff; text-decoration-color: #0087ff\">GRU</span>)                            │ (<span style=\"color: #00d7ff; text-decoration-color: #00d7ff\">None</span>, <span style=\"color: #00af00; text-decoration-color: #00af00\">64</span>)                  │         <span style=\"color: #00af00; text-decoration-color: #00af00\">160,128</span> │\n",
       "├──────────────────────────────────────┼─────────────────────────────┼─────────────────┤\n",
       "│ dense (<span style=\"color: #0087ff; text-decoration-color: #0087ff\">Dense</span>)                        │ (<span style=\"color: #00d7ff; text-decoration-color: #00d7ff\">None</span>, <span style=\"color: #00af00; text-decoration-color: #00af00\">128</span>)                 │           <span style=\"color: #00af00; text-decoration-color: #00af00\">8,320</span> │\n",
       "├──────────────────────────────────────┼─────────────────────────────┼─────────────────┤\n",
       "│ dense_1 (<span style=\"color: #0087ff; text-decoration-color: #0087ff\">Dense</span>)                      │ (<span style=\"color: #00d7ff; text-decoration-color: #00d7ff\">None</span>, <span style=\"color: #00af00; text-decoration-color: #00af00\">6</span>)                   │             <span style=\"color: #00af00; text-decoration-color: #00af00\">774</span> │\n",
       "└──────────────────────────────────────┴─────────────────────────────┴─────────────────┘\n",
       "</pre>\n"
      ],
      "text/plain": [
       "┏━━━━━━━━━━━━━━━━━━━━━━━━━━━━━━━━━━━━━━┳━━━━━━━━━━━━━━━━━━━━━━━━━━━━━┳━━━━━━━━━━━━━━━━━┓\n",
       "┃\u001b[1m \u001b[0m\u001b[1mLayer (type)                        \u001b[0m\u001b[1m \u001b[0m┃\u001b[1m \u001b[0m\u001b[1mOutput Shape               \u001b[0m\u001b[1m \u001b[0m┃\u001b[1m \u001b[0m\u001b[1m        Param #\u001b[0m\u001b[1m \u001b[0m┃\n",
       "┡━━━━━━━━━━━━━━━━━━━━━━━━━━━━━━━━━━━━━━╇━━━━━━━━━━━━━━━━━━━━━━━━━━━━━╇━━━━━━━━━━━━━━━━━┩\n",
       "│ flatten (\u001b[38;5;33mFlatten\u001b[0m)                    │ (\u001b[38;5;45mNone\u001b[0m, \u001b[38;5;34m12288\u001b[0m)               │               \u001b[38;5;34m0\u001b[0m │\n",
       "├──────────────────────────────────────┼─────────────────────────────┼─────────────────┤\n",
       "│ reshape (\u001b[38;5;33mReshape\u001b[0m)                    │ (\u001b[38;5;45mNone\u001b[0m, \u001b[38;5;34m16\u001b[0m, \u001b[38;5;34m768\u001b[0m)             │               \u001b[38;5;34m0\u001b[0m │\n",
       "├──────────────────────────────────────┼─────────────────────────────┼─────────────────┤\n",
       "│ gru (\u001b[38;5;33mGRU\u001b[0m)                            │ (\u001b[38;5;45mNone\u001b[0m, \u001b[38;5;34m64\u001b[0m)                  │         \u001b[38;5;34m160,128\u001b[0m │\n",
       "├──────────────────────────────────────┼─────────────────────────────┼─────────────────┤\n",
       "│ dense (\u001b[38;5;33mDense\u001b[0m)                        │ (\u001b[38;5;45mNone\u001b[0m, \u001b[38;5;34m128\u001b[0m)                 │           \u001b[38;5;34m8,320\u001b[0m │\n",
       "├──────────────────────────────────────┼─────────────────────────────┼─────────────────┤\n",
       "│ dense_1 (\u001b[38;5;33mDense\u001b[0m)                      │ (\u001b[38;5;45mNone\u001b[0m, \u001b[38;5;34m6\u001b[0m)                   │             \u001b[38;5;34m774\u001b[0m │\n",
       "└──────────────────────────────────────┴─────────────────────────────┴─────────────────┘\n"
      ]
     },
     "metadata": {},
     "output_type": "display_data"
    },
    {
     "data": {
      "text/html": [
       "<pre style=\"white-space:pre;overflow-x:auto;line-height:normal;font-family:Menlo,'DejaVu Sans Mono',consolas,'Courier New',monospace\"><span style=\"font-weight: bold\"> Total params: </span><span style=\"color: #00af00; text-decoration-color: #00af00\">507,668</span> (1.94 MB)\n",
       "</pre>\n"
      ],
      "text/plain": [
       "\u001b[1m Total params: \u001b[0m\u001b[38;5;34m507,668\u001b[0m (1.94 MB)\n"
      ]
     },
     "metadata": {},
     "output_type": "display_data"
    },
    {
     "data": {
      "text/html": [
       "<pre style=\"white-space:pre;overflow-x:auto;line-height:normal;font-family:Menlo,'DejaVu Sans Mono',consolas,'Courier New',monospace\"><span style=\"font-weight: bold\"> Trainable params: </span><span style=\"color: #00af00; text-decoration-color: #00af00\">169,222</span> (661.02 KB)\n",
       "</pre>\n"
      ],
      "text/plain": [
       "\u001b[1m Trainable params: \u001b[0m\u001b[38;5;34m169,222\u001b[0m (661.02 KB)\n"
      ]
     },
     "metadata": {},
     "output_type": "display_data"
    },
    {
     "data": {
      "text/html": [
       "<pre style=\"white-space:pre;overflow-x:auto;line-height:normal;font-family:Menlo,'DejaVu Sans Mono',consolas,'Courier New',monospace\"><span style=\"font-weight: bold\"> Non-trainable params: </span><span style=\"color: #00af00; text-decoration-color: #00af00\">0</span> (0.00 B)\n",
       "</pre>\n"
      ],
      "text/plain": [
       "\u001b[1m Non-trainable params: \u001b[0m\u001b[38;5;34m0\u001b[0m (0.00 B)\n"
      ]
     },
     "metadata": {},
     "output_type": "display_data"
    },
    {
     "data": {
      "text/html": [
       "<pre style=\"white-space:pre;overflow-x:auto;line-height:normal;font-family:Menlo,'DejaVu Sans Mono',consolas,'Courier New',monospace\"><span style=\"font-weight: bold\"> Optimizer params: </span><span style=\"color: #00af00; text-decoration-color: #00af00\">338,446</span> (1.29 MB)\n",
       "</pre>\n"
      ],
      "text/plain": [
       "\u001b[1m Optimizer params: \u001b[0m\u001b[38;5;34m338,446\u001b[0m (1.29 MB)\n"
      ]
     },
     "metadata": {},
     "output_type": "display_data"
    }
   ],
   "source": [
    "gru_model.summary()"
   ]
  },
  {
   "cell_type": "code",
   "execution_count": null,
   "id": "1cd31d8b-740c-4268-8f14-6994dca3af2e",
   "metadata": {},
   "outputs": [],
   "source": []
  }
 ],
 "metadata": {
  "kernelspec": {
   "display_name": "Python 3 (ipykernel)",
   "language": "python",
   "name": "python3"
  },
  "language_info": {
   "codemirror_mode": {
    "name": "ipython",
    "version": 3
   },
   "file_extension": ".py",
   "mimetype": "text/x-python",
   "name": "python",
   "nbconvert_exporter": "python",
   "pygments_lexer": "ipython3",
   "version": "3.12.2"
  }
 },
 "nbformat": 4,
 "nbformat_minor": 5
}
