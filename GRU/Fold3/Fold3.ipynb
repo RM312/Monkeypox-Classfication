{
 "cells": [
  {
   "cell_type": "code",
   "execution_count": 1,
   "id": "db0fdfa4-b9dd-4a4c-be9b-dda09b5a5359",
   "metadata": {},
   "outputs": [],
   "source": [
    "import tensorflow as tf\n",
    "from tensorflow.keras.preprocessing.image import ImageDataGenerator\n",
    "import matplotlib.pyplot as plt"
   ]
  },
  {
   "cell_type": "code",
   "execution_count": 2,
   "id": "1b9027cd-11ae-4d3c-9e70-6f5fdbd00d39",
   "metadata": {},
   "outputs": [
    {
     "name": "stdout",
     "output_type": "stream",
     "text": [
      "Found 7532 images belonging to 6 classes.\n"
     ]
    }
   ],
   "source": [
    "# Data Augmentation for Training\n",
    "train_datagen = ImageDataGenerator(rescale=1./255,\n",
    "                                   shear_range=0.2,\n",
    "                                   zoom_range=0.2,\n",
    "                                   horizontal_flip=True)\n",
    "training_set = train_datagen.flow_from_directory(\n",
    "    \"Monkeypox/archive (60)/Augmented Images/Augmented Images/FOLDS_AUG/fold3_AUG/Train/\",\n",
    "    target_size=(64, 64),\n",
    "    batch_size=32,\n",
    "    class_mode='categorical',  # Use 'categorical' for one-hot encoded labels\n",
    ")"
   ]
  },
  {
   "cell_type": "code",
   "execution_count": 3,
   "id": "9dfaebcd-3a1a-4c5a-830c-455df08c427e",
   "metadata": {},
   "outputs": [
    {
     "name": "stdout",
     "output_type": "stream",
     "text": [
      "Found 7532 images belonging to 6 classes.\n"
     ]
    }
   ],
   "source": [
    "test_datagen = ImageDataGenerator(rescale=1./255)\n",
    "validation_set = test_datagen.flow_from_directory(\n",
    "    \"Monkeypox/archive (60)/Augmented Images/Augmented Images/FOLDS_AUG/fold3_AUG/Train/\",\n",
    "    target_size=(64, 64),\n",
    "    batch_size=32,\n",
    "    class_mode='categorical',  # Use 'categorical' for one-hot encoded labels\n",
    ")"
   ]
  },
  {
   "cell_type": "code",
   "execution_count": 4,
   "id": "5edac304-c084-4031-b3e0-3b242313f240",
   "metadata": {},
   "outputs": [],
   "source": [
    "# Custom F1 Score Metric\n",
    "class F1Score(tf.keras.metrics.Metric):\n",
    "    def __init__(self, name='f1_score', **kwargs):\n",
    "        super(F1Score, self).__init__(name=name, **kwargs)\n",
    "        self.precision = tf.keras.metrics.Precision()\n",
    "        self.recall = tf.keras.metrics.Recall()\n",
    "\n",
    "    def update_state(self, y_true, y_pred, sample_weight=None):\n",
    "        # Update the precision and recall for each batch\n",
    "        self.precision.update_state(y_true, y_pred, sample_weight)\n",
    "        self.recall.update_state(y_true, y_pred, sample_weight)\n",
    "\n",
    "    def result(self):\n",
    "        # Calculate F1 score as the harmonic mean of precision and recall\n",
    "        precision = self.precision.result()\n",
    "        recall = self.recall.result()\n",
    "        return 2 * (precision * recall) / (precision + recall + tf.keras.backend.epsilon())\n",
    "\n",
    "    def reset_states(self):\n",
    "        self.precision.reset_states()\n",
    "        self.recall.reset_states()\n"
   ]
  },
  {
   "cell_type": "code",
   "execution_count": 5,
   "id": "ffceca75-13bc-4c20-9874-e7b0c3735c37",
   "metadata": {},
   "outputs": [],
   "source": [
    "# Build the GRU Model\n",
    "gru_model = tf.keras.models.Sequential()"
   ]
  },
  {
   "cell_type": "code",
   "execution_count": 6,
   "id": "2755a43f-4b5d-4112-ab73-c68cd40bcd8c",
   "metadata": {},
   "outputs": [
    {
     "name": "stderr",
     "output_type": "stream",
     "text": [
      "C:\\Users\\KIIT\\AppData\\Local\\Programs\\Python\\Python312\\Lib\\site-packages\\keras\\src\\layers\\reshaping\\flatten.py:37: UserWarning: Do not pass an `input_shape`/`input_dim` argument to a layer. When using Sequential models, prefer using an `Input(shape)` object as the first layer in the model instead.\n",
      "  super().__init__(**kwargs)\n"
     ]
    }
   ],
   "source": [
    "# Flatten and Reshape for GRU\n",
    "gru_model.add(tf.keras.layers.Flatten(input_shape=(64, 64, 3)))\n",
    "gru_model.add(tf.keras.layers.Reshape((16, -1)))  # Reshape to (time_steps, features)"
   ]
  },
  {
   "cell_type": "code",
   "execution_count": 7,
   "id": "65d6a9df-a9c3-4d2d-8c27-bc9b7becc23b",
   "metadata": {},
   "outputs": [],
   "source": [
    "# GRU Layer\n",
    "gru_model.add(tf.keras.layers.GRU(units=64, activation='tanh', return_sequences=False))"
   ]
  },
  {
   "cell_type": "code",
   "execution_count": 8,
   "id": "8d00bf34-430d-4485-9170-0d0d4547fffa",
   "metadata": {},
   "outputs": [],
   "source": [
    "# Fully Connected Layers\n",
    "gru_model.add(tf.keras.layers.Dense(units=128, activation='relu'))\n",
    "gru_model.add(tf.keras.layers.Dense(6, activation='softmax'))  # 6 classes"
   ]
  },
  {
   "cell_type": "code",
   "execution_count": 9,
   "id": "c407d3a8-37a1-4d4a-b8db-cb10c3317f1f",
   "metadata": {},
   "outputs": [],
   "source": [
    "# Compile the model with Precision, Recall, and F1 Score\n",
    "gru_model.compile(\n",
    "    optimizer='adam',\n",
    "    loss='categorical_crossentropy',  # Use categorical_crossentropy for one-hot encoded labels\n",
    "    metrics=[\n",
    "        'accuracy',\n",
    "        tf.keras.metrics.Precision(name='precision'),\n",
    "        tf.keras.metrics.Recall(name='recall'),\n",
    "        F1Score(name='f1_score')  # Add custom F1 score metric\n",
    "    ]\n",
    ")"
   ]
  },
  {
   "cell_type": "code",
   "execution_count": 10,
   "id": "df9cd0cf-f37c-46aa-bbd7-44014cf5e89f",
   "metadata": {},
   "outputs": [
    {
     "name": "stderr",
     "output_type": "stream",
     "text": [
      "C:\\Users\\KIIT\\AppData\\Local\\Programs\\Python\\Python312\\Lib\\site-packages\\keras\\src\\trainers\\data_adapters\\py_dataset_adapter.py:121: UserWarning: Your `PyDataset` class should call `super().__init__(**kwargs)` in its constructor. `**kwargs` can include `workers`, `use_multiprocessing`, `max_queue_size`. Do not pass these arguments to `fit()`, as they will be ignored.\n",
      "  self._warn_if_super_not_called()\n"
     ]
    },
    {
     "name": "stdout",
     "output_type": "stream",
     "text": [
      "Epoch 1/100\n",
      "\u001b[1m236/236\u001b[0m \u001b[32m━━━━━━━━━━━━━━━━━━━━\u001b[0m\u001b[37m\u001b[0m \u001b[1m0s\u001b[0m 228ms/step - accuracy: 0.3801 - f1_score: 0.0841 - loss: 1.6192 - precision: 0.4530 - recall: 0.0465"
     ]
    },
    {
     "name": "stderr",
     "output_type": "stream",
     "text": [
      "C:\\Users\\KIIT\\AppData\\Local\\Programs\\Python\\Python312\\Lib\\site-packages\\keras\\src\\trainers\\data_adapters\\py_dataset_adapter.py:121: UserWarning: Your `PyDataset` class should call `super().__init__(**kwargs)` in its constructor. `**kwargs` can include `workers`, `use_multiprocessing`, `max_queue_size`. Do not pass these arguments to `fit()`, as they will be ignored.\n",
      "  self._warn_if_super_not_called()\n"
     ]
    },
    {
     "name": "stdout",
     "output_type": "stream",
     "text": [
      "\u001b[1m236/236\u001b[0m \u001b[32m━━━━━━━━━━━━━━━━━━━━\u001b[0m\u001b[37m\u001b[0m \u001b[1m87s\u001b[0m 330ms/step - accuracy: 0.3802 - f1_score: 0.0842 - loss: 1.6190 - precision: 0.4532 - recall: 0.0466 - val_accuracy: 0.4028 - val_f1_score: 0.1781 - val_loss: 1.5267 - val_precision: 0.5771 - val_recall: 0.1053\n",
      "Epoch 2/100\n",
      "\u001b[1m236/236\u001b[0m \u001b[32m━━━━━━━━━━━━━━━━━━━━\u001b[0m\u001b[37m\u001b[0m \u001b[1m84s\u001b[0m 357ms/step - accuracy: 0.4146 - f1_score: 0.1794 - loss: 1.5155 - precision: 0.5761 - recall: 0.1064 - val_accuracy: 0.4270 - val_f1_score: 0.1140 - val_loss: 1.5111 - val_precision: 0.6719 - val_recall: 0.0623\n",
      "Epoch 3/100\n",
      "\u001b[1m236/236\u001b[0m \u001b[32m━━━━━━━━━━━━━━━━━━━━\u001b[0m\u001b[37m\u001b[0m \u001b[1m96s\u001b[0m 408ms/step - accuracy: 0.4316 - f1_score: 0.1906 - loss: 1.4884 - precision: 0.5863 - recall: 0.1143 - val_accuracy: 0.4437 - val_f1_score: 0.2056 - val_loss: 1.4490 - val_precision: 0.6173 - val_recall: 0.1233\n",
      "Epoch 4/100\n",
      "\u001b[1m236/236\u001b[0m \u001b[32m━━━━━━━━━━━━━━━━━━━━\u001b[0m\u001b[37m\u001b[0m \u001b[1m96s\u001b[0m 408ms/step - accuracy: 0.4411 - f1_score: 0.2367 - loss: 1.4385 - precision: 0.6145 - recall: 0.1467 - val_accuracy: 0.4713 - val_f1_score: 0.2377 - val_loss: 1.3847 - val_precision: 0.7005 - val_recall: 0.1431\n",
      "Epoch 5/100\n",
      "\u001b[1m236/236\u001b[0m \u001b[32m━━━━━━━━━━━━━━━━━━━━\u001b[0m\u001b[37m\u001b[0m \u001b[1m84s\u001b[0m 357ms/step - accuracy: 0.4656 - f1_score: 0.2889 - loss: 1.3850 - precision: 0.6047 - recall: 0.1902 - val_accuracy: 0.4725 - val_f1_score: 0.3064 - val_loss: 1.3528 - val_precision: 0.6219 - val_recall: 0.2033\n",
      "Epoch 6/100\n",
      "\u001b[1m236/236\u001b[0m \u001b[32m━━━━━━━━━━━━━━━━━━━━\u001b[0m\u001b[37m\u001b[0m \u001b[1m83s\u001b[0m 354ms/step - accuracy: 0.4647 - f1_score: 0.2913 - loss: 1.3760 - precision: 0.6285 - recall: 0.1901 - val_accuracy: 0.4881 - val_f1_score: 0.3936 - val_loss: 1.3267 - val_precision: 0.5934 - val_recall: 0.2945\n",
      "Epoch 7/100\n",
      "\u001b[1m236/236\u001b[0m \u001b[32m━━━━━━━━━━━━━━━━━━━━\u001b[0m\u001b[37m\u001b[0m \u001b[1m90s\u001b[0m 380ms/step - accuracy: 0.4689 - f1_score: 0.3085 - loss: 1.3479 - precision: 0.5996 - recall: 0.2081 - val_accuracy: 0.5070 - val_f1_score: 0.3957 - val_loss: 1.2812 - val_precision: 0.6282 - val_recall: 0.2888\n",
      "Epoch 8/100\n",
      "\u001b[1m236/236\u001b[0m \u001b[32m━━━━━━━━━━━━━━━━━━━━\u001b[0m\u001b[37m\u001b[0m \u001b[1m85s\u001b[0m 361ms/step - accuracy: 0.4933 - f1_score: 0.3679 - loss: 1.3205 - precision: 0.6510 - recall: 0.2569 - val_accuracy: 0.4907 - val_f1_score: 0.3664 - val_loss: 1.2791 - val_precision: 0.6692 - val_recall: 0.2523\n",
      "Epoch 9/100\n",
      "\u001b[1m236/236\u001b[0m \u001b[32m━━━━━━━━━━━━━━━━━━━━\u001b[0m\u001b[37m\u001b[0m \u001b[1m85s\u001b[0m 359ms/step - accuracy: 0.5097 - f1_score: 0.3901 - loss: 1.2815 - precision: 0.6525 - recall: 0.2783 - val_accuracy: 0.5296 - val_f1_score: 0.4167 - val_loss: 1.2141 - val_precision: 0.7285 - val_recall: 0.2918\n",
      "Epoch 10/100\n",
      "\u001b[1m236/236\u001b[0m \u001b[32m━━━━━━━━━━━━━━━━━━━━\u001b[0m\u001b[37m\u001b[0m \u001b[1m150s\u001b[0m 395ms/step - accuracy: 0.5092 - f1_score: 0.3916 - loss: 1.2621 - precision: 0.6508 - recall: 0.2804 - val_accuracy: 0.5405 - val_f1_score: 0.4430 - val_loss: 1.1891 - val_precision: 0.6949 - val_recall: 0.3251\n",
      "Epoch 11/100\n",
      "\u001b[1m236/236\u001b[0m \u001b[32m━━━━━━━━━━━━━━━━━━━━\u001b[0m\u001b[37m\u001b[0m \u001b[1m91s\u001b[0m 384ms/step - accuracy: 0.5278 - f1_score: 0.4373 - loss: 1.2199 - precision: 0.6774 - recall: 0.3230 - val_accuracy: 0.5499 - val_f1_score: 0.4691 - val_loss: 1.1813 - val_precision: 0.6767 - val_recall: 0.3590\n",
      "Epoch 12/100\n",
      "\u001b[1m236/236\u001b[0m \u001b[32m━━━━━━━━━━━━━━━━━━━━\u001b[0m\u001b[37m\u001b[0m \u001b[1m82s\u001b[0m 349ms/step - accuracy: 0.5349 - f1_score: 0.4381 - loss: 1.1946 - precision: 0.6552 - recall: 0.3291 - val_accuracy: 0.5625 - val_f1_score: 0.4836 - val_loss: 1.1472 - val_precision: 0.6822 - val_recall: 0.3745\n",
      "Epoch 13/100\n",
      "\u001b[1m236/236\u001b[0m \u001b[32m━━━━━━━━━━━━━━━━━━━━\u001b[0m\u001b[37m\u001b[0m \u001b[1m84s\u001b[0m 358ms/step - accuracy: 0.5478 - f1_score: 0.4589 - loss: 1.1730 - precision: 0.6633 - recall: 0.3509 - val_accuracy: 0.5558 - val_f1_score: 0.4949 - val_loss: 1.1369 - val_precision: 0.6804 - val_recall: 0.3889\n",
      "Epoch 14/100\n",
      "\u001b[1m236/236\u001b[0m \u001b[32m━━━━━━━━━━━━━━━━━━━━\u001b[0m\u001b[37m\u001b[0m \u001b[1m99s\u001b[0m 418ms/step - accuracy: 0.5665 - f1_score: 0.4943 - loss: 1.1338 - precision: 0.6965 - recall: 0.3832 - val_accuracy: 0.5848 - val_f1_score: 0.5028 - val_loss: 1.0886 - val_precision: 0.7168 - val_recall: 0.3871\n",
      "Epoch 15/100\n",
      "\u001b[1m236/236\u001b[0m \u001b[32m━━━━━━━━━━━━━━━━━━━━\u001b[0m\u001b[37m\u001b[0m \u001b[1m97s\u001b[0m 413ms/step - accuracy: 0.5706 - f1_score: 0.4928 - loss: 1.1254 - precision: 0.6885 - recall: 0.3838 - val_accuracy: 0.5903 - val_f1_score: 0.5255 - val_loss: 1.0579 - val_precision: 0.7091 - val_recall: 0.4174\n",
      "Epoch 16/100\n",
      "\u001b[1m236/236\u001b[0m \u001b[32m━━━━━━━━━━━━━━━━━━━━\u001b[0m\u001b[37m\u001b[0m \u001b[1m67s\u001b[0m 282ms/step - accuracy: 0.5712 - f1_score: 0.5149 - loss: 1.1000 - precision: 0.6995 - recall: 0.4075 - val_accuracy: 0.6073 - val_f1_score: 0.5234 - val_loss: 1.0455 - val_precision: 0.7489 - val_recall: 0.4023\n",
      "Epoch 17/100\n",
      "\u001b[1m236/236\u001b[0m \u001b[32m━━━━━━━━━━━━━━━━━━━━\u001b[0m\u001b[37m\u001b[0m \u001b[1m49s\u001b[0m 209ms/step - accuracy: 0.5927 - f1_score: 0.5281 - loss: 1.0711 - precision: 0.7067 - recall: 0.4217 - val_accuracy: 0.6180 - val_f1_score: 0.5654 - val_loss: 1.0168 - val_precision: 0.7154 - val_recall: 0.4673\n",
      "Epoch 18/100\n",
      "\u001b[1m236/236\u001b[0m \u001b[32m━━━━━━━━━━━━━━━━━━━━\u001b[0m\u001b[37m\u001b[0m \u001b[1m44s\u001b[0m 187ms/step - accuracy: 0.5773 - f1_score: 0.5256 - loss: 1.0820 - precision: 0.7004 - recall: 0.4207 - val_accuracy: 0.5921 - val_f1_score: 0.5350 - val_loss: 1.0513 - val_precision: 0.6911 - val_recall: 0.4364\n",
      "Epoch 19/100\n",
      "\u001b[1m236/236\u001b[0m \u001b[32m━━━━━━━━━━━━━━━━━━━━\u001b[0m\u001b[37m\u001b[0m \u001b[1m42s\u001b[0m 177ms/step - accuracy: 0.6030 - f1_score: 0.5505 - loss: 1.0452 - precision: 0.7071 - recall: 0.4510 - val_accuracy: 0.6133 - val_f1_score: 0.5717 - val_loss: 1.0159 - val_precision: 0.6949 - val_recall: 0.4857\n",
      "Epoch 20/100\n",
      "\u001b[1m236/236\u001b[0m \u001b[32m━━━━━━━━━━━━━━━━━━━━\u001b[0m\u001b[37m\u001b[0m \u001b[1m40s\u001b[0m 171ms/step - accuracy: 0.6086 - f1_score: 0.5509 - loss: 1.0261 - precision: 0.7125 - recall: 0.4493 - val_accuracy: 0.6158 - val_f1_score: 0.5628 - val_loss: 1.0032 - val_precision: 0.7336 - val_recall: 0.4566\n",
      "Epoch 21/100\n",
      "\u001b[1m236/236\u001b[0m \u001b[32m━━━━━━━━━━━━━━━━━━━━\u001b[0m\u001b[37m\u001b[0m \u001b[1m48s\u001b[0m 203ms/step - accuracy: 0.6049 - f1_score: 0.5598 - loss: 1.0222 - precision: 0.7204 - recall: 0.4578 - val_accuracy: 0.6271 - val_f1_score: 0.5912 - val_loss: 0.9704 - val_precision: 0.7202 - val_recall: 0.5013\n",
      "Epoch 22/100\n",
      "\u001b[1m236/236\u001b[0m \u001b[32m━━━━━━━━━━━━━━━━━━━━\u001b[0m\u001b[37m\u001b[0m \u001b[1m60s\u001b[0m 256ms/step - accuracy: 0.6118 - f1_score: 0.5756 - loss: 0.9977 - precision: 0.7180 - recall: 0.4805 - val_accuracy: 0.6451 - val_f1_score: 0.5678 - val_loss: 0.9474 - val_precision: 0.7655 - val_recall: 0.4513\n",
      "Epoch 23/100\n",
      "\u001b[1m236/236\u001b[0m \u001b[32m━━━━━━━━━━━━━━━━━━━━\u001b[0m\u001b[37m\u001b[0m \u001b[1m73s\u001b[0m 312ms/step - accuracy: 0.6302 - f1_score: 0.5799 - loss: 0.9718 - precision: 0.7415 - recall: 0.4765 - val_accuracy: 0.6324 - val_f1_score: 0.5917 - val_loss: 0.9596 - val_precision: 0.7584 - val_recall: 0.4851\n",
      "Epoch 24/100\n",
      "\u001b[1m236/236\u001b[0m \u001b[32m━━━━━━━━━━━━━━━━━━━━\u001b[0m\u001b[37m\u001b[0m \u001b[1m74s\u001b[0m 313ms/step - accuracy: 0.6330 - f1_score: 0.5888 - loss: 0.9548 - precision: 0.7346 - recall: 0.4914 - val_accuracy: 0.6269 - val_f1_score: 0.5849 - val_loss: 0.9583 - val_precision: 0.7329 - val_recall: 0.4866\n",
      "Epoch 25/100\n",
      "\u001b[1m236/236\u001b[0m \u001b[32m━━━━━━━━━━━━━━━━━━━━\u001b[0m\u001b[37m\u001b[0m \u001b[1m76s\u001b[0m 321ms/step - accuracy: 0.6228 - f1_score: 0.5857 - loss: 0.9753 - precision: 0.7343 - recall: 0.4871 - val_accuracy: 0.6660 - val_f1_score: 0.6242 - val_loss: 0.9137 - val_precision: 0.7557 - val_recall: 0.5317\n",
      "Epoch 26/100\n",
      "\u001b[1m236/236\u001b[0m \u001b[32m━━━━━━━━━━━━━━━━━━━━\u001b[0m\u001b[37m\u001b[0m \u001b[1m105s\u001b[0m 443ms/step - accuracy: 0.6307 - f1_score: 0.5958 - loss: 0.9622 - precision: 0.7358 - recall: 0.5007 - val_accuracy: 0.6537 - val_f1_score: 0.5950 - val_loss: 0.9055 - val_precision: 0.7558 - val_recall: 0.4906\n",
      "Epoch 27/100\n",
      "\u001b[1m236/236\u001b[0m \u001b[32m━━━━━━━━━━━━━━━━━━━━\u001b[0m\u001b[37m\u001b[0m \u001b[1m93s\u001b[0m 395ms/step - accuracy: 0.6349 - f1_score: 0.5980 - loss: 0.9655 - precision: 0.7492 - recall: 0.4979 - val_accuracy: 0.6535 - val_f1_score: 0.6059 - val_loss: 0.9134 - val_precision: 0.7734 - val_recall: 0.4980\n",
      "Epoch 28/100\n",
      "\u001b[1m236/236\u001b[0m \u001b[32m━━━━━━━━━━━━━━━━━━━━\u001b[0m\u001b[37m\u001b[0m \u001b[1m104s\u001b[0m 440ms/step - accuracy: 0.6369 - f1_score: 0.6016 - loss: 0.9412 - precision: 0.7577 - recall: 0.4990 - val_accuracy: 0.6705 - val_f1_score: 0.6398 - val_loss: 0.8766 - val_precision: 0.7652 - val_recall: 0.5498\n",
      "Epoch 29/100\n",
      "\u001b[1m236/236\u001b[0m \u001b[32m━━━━━━━━━━━━━━━━━━━━\u001b[0m\u001b[37m\u001b[0m \u001b[1m101s\u001b[0m 430ms/step - accuracy: 0.6499 - f1_score: 0.6114 - loss: 0.9210 - precision: 0.7390 - recall: 0.5214 - val_accuracy: 0.6539 - val_f1_score: 0.6168 - val_loss: 0.8934 - val_precision: 0.7659 - val_recall: 0.5163\n",
      "Epoch 30/100\n",
      "\u001b[1m236/236\u001b[0m \u001b[32m━━━━━━━━━━━━━━━━━━━━\u001b[0m\u001b[37m\u001b[0m \u001b[1m100s\u001b[0m 426ms/step - accuracy: 0.6559 - f1_score: 0.6133 - loss: 0.9177 - precision: 0.7589 - recall: 0.5146 - val_accuracy: 0.6787 - val_f1_score: 0.6321 - val_loss: 0.8583 - val_precision: 0.7975 - val_recall: 0.5235\n",
      "Epoch 31/100\n",
      "\u001b[1m236/236\u001b[0m \u001b[32m━━━━━━━━━━━━━━━━━━━━\u001b[0m\u001b[37m\u001b[0m \u001b[1m100s\u001b[0m 426ms/step - accuracy: 0.6590 - f1_score: 0.6298 - loss: 0.8849 - precision: 0.7564 - recall: 0.5396 - val_accuracy: 0.6729 - val_f1_score: 0.6350 - val_loss: 0.8460 - val_precision: 0.7722 - val_recall: 0.5392\n",
      "Epoch 32/100\n",
      "\u001b[1m236/236\u001b[0m \u001b[32m━━━━━━━━━━━━━━━━━━━━\u001b[0m\u001b[37m\u001b[0m \u001b[1m142s\u001b[0m 426ms/step - accuracy: 0.6531 - f1_score: 0.6271 - loss: 0.9079 - precision: 0.7554 - recall: 0.5360 - val_accuracy: 0.6926 - val_f1_score: 0.6518 - val_loss: 0.8187 - val_precision: 0.7941 - val_recall: 0.5528\n",
      "Epoch 33/100\n",
      "\u001b[1m236/236\u001b[0m \u001b[32m━━━━━━━━━━━━━━━━━━━━\u001b[0m\u001b[37m\u001b[0m \u001b[1m99s\u001b[0m 418ms/step - accuracy: 0.6522 - f1_score: 0.6096 - loss: 0.9077 - precision: 0.7510 - recall: 0.5131 - val_accuracy: 0.6924 - val_f1_score: 0.6570 - val_loss: 0.8136 - val_precision: 0.7957 - val_recall: 0.5595\n",
      "Epoch 34/100\n",
      "\u001b[1m236/236\u001b[0m \u001b[32m━━━━━━━━━━━━━━━━━━━━\u001b[0m\u001b[37m\u001b[0m \u001b[1m99s\u001b[0m 418ms/step - accuracy: 0.6681 - f1_score: 0.6474 - loss: 0.8839 - precision: 0.7676 - recall: 0.5598 - val_accuracy: 0.6780 - val_f1_score: 0.6371 - val_loss: 0.8446 - val_precision: 0.7953 - val_recall: 0.5313\n",
      "Epoch 35/100\n",
      "\u001b[1m236/236\u001b[0m \u001b[32m━━━━━━━━━━━━━━━━━━━━\u001b[0m\u001b[37m\u001b[0m \u001b[1m98s\u001b[0m 417ms/step - accuracy: 0.6701 - f1_score: 0.6427 - loss: 0.8670 - precision: 0.7733 - recall: 0.5500 - val_accuracy: 0.7082 - val_f1_score: 0.6712 - val_loss: 0.7994 - val_precision: 0.7990 - val_recall: 0.5786\n",
      "Epoch 36/100\n",
      "\u001b[1m236/236\u001b[0m \u001b[32m━━━━━━━━━━━━━━━━━━━━\u001b[0m\u001b[37m\u001b[0m \u001b[1m90s\u001b[0m 382ms/step - accuracy: 0.6751 - f1_score: 0.6400 - loss: 0.8557 - precision: 0.7605 - recall: 0.5526 - val_accuracy: 0.7090 - val_f1_score: 0.6836 - val_loss: 0.7920 - val_precision: 0.7913 - val_recall: 0.6017\n",
      "Epoch 37/100\n",
      "\u001b[1m236/236\u001b[0m \u001b[32m━━━━━━━━━━━━━━━━━━━━\u001b[0m\u001b[37m\u001b[0m \u001b[1m84s\u001b[0m 356ms/step - accuracy: 0.6823 - f1_score: 0.6596 - loss: 0.8350 - precision: 0.7805 - recall: 0.5711 - val_accuracy: 0.7213 - val_f1_score: 0.6929 - val_loss: 0.7620 - val_precision: 0.8088 - val_recall: 0.6061\n",
      "Epoch 38/100\n",
      "\u001b[1m236/236\u001b[0m \u001b[32m━━━━━━━━━━━━━━━━━━━━\u001b[0m\u001b[37m\u001b[0m \u001b[1m84s\u001b[0m 356ms/step - accuracy: 0.6868 - f1_score: 0.6569 - loss: 0.8369 - precision: 0.7728 - recall: 0.5713 - val_accuracy: 0.7072 - val_f1_score: 0.6789 - val_loss: 0.7781 - val_precision: 0.7980 - val_recall: 0.5907\n",
      "Epoch 39/100\n",
      "\u001b[1m236/236\u001b[0m \u001b[32m━━━━━━━━━━━━━━━━━━━━\u001b[0m\u001b[37m\u001b[0m \u001b[1m85s\u001b[0m 362ms/step - accuracy: 0.6798 - f1_score: 0.6520 - loss: 0.8477 - precision: 0.7805 - recall: 0.5600 - val_accuracy: 0.7111 - val_f1_score: 0.6789 - val_loss: 0.7800 - val_precision: 0.8100 - val_recall: 0.5843\n",
      "Epoch 40/100\n",
      "\u001b[1m236/236\u001b[0m \u001b[32m━━━━━━━━━━━━━━━━━━━━\u001b[0m\u001b[37m\u001b[0m \u001b[1m84s\u001b[0m 356ms/step - accuracy: 0.6770 - f1_score: 0.6479 - loss: 0.8392 - precision: 0.7774 - recall: 0.5556 - val_accuracy: 0.7075 - val_f1_score: 0.6952 - val_loss: 0.7642 - val_precision: 0.7791 - val_recall: 0.6276\n",
      "Epoch 41/100\n",
      "\u001b[1m236/236\u001b[0m \u001b[32m━━━━━━━━━━━━━━━━━━━━\u001b[0m\u001b[37m\u001b[0m \u001b[1m86s\u001b[0m 363ms/step - accuracy: 0.6735 - f1_score: 0.6463 - loss: 0.8510 - precision: 0.7643 - recall: 0.5599 - val_accuracy: 0.7164 - val_f1_score: 0.7030 - val_loss: 0.7544 - val_precision: 0.7925 - val_recall: 0.6317\n",
      "Epoch 42/100\n",
      "\u001b[1m236/236\u001b[0m \u001b[32m━━━━━━━━━━━━━━━━━━━━\u001b[0m\u001b[37m\u001b[0m \u001b[1m85s\u001b[0m 360ms/step - accuracy: 0.6851 - f1_score: 0.6587 - loss: 0.8245 - precision: 0.7657 - recall: 0.5781 - val_accuracy: 0.6936 - val_f1_score: 0.6614 - val_loss: 0.8256 - val_precision: 0.8036 - val_recall: 0.5619\n",
      "Epoch 43/100\n",
      "\u001b[1m236/236\u001b[0m \u001b[32m━━━━━━━━━━━━━━━━━━━━\u001b[0m\u001b[37m\u001b[0m \u001b[1m85s\u001b[0m 362ms/step - accuracy: 0.6889 - f1_score: 0.6700 - loss: 0.8226 - precision: 0.7825 - recall: 0.5859 - val_accuracy: 0.7090 - val_f1_score: 0.6846 - val_loss: 0.7657 - val_precision: 0.7985 - val_recall: 0.5992\n",
      "Epoch 44/100\n",
      "\u001b[1m236/236\u001b[0m \u001b[32m━━━━━━━━━━━━━━━━━━━━\u001b[0m\u001b[37m\u001b[0m \u001b[1m84s\u001b[0m 358ms/step - accuracy: 0.6969 - f1_score: 0.6663 - loss: 0.8198 - precision: 0.7791 - recall: 0.5821 - val_accuracy: 0.7296 - val_f1_score: 0.7057 - val_loss: 0.7310 - val_precision: 0.8264 - val_recall: 0.6158\n",
      "Epoch 45/100\n",
      "\u001b[1m236/236\u001b[0m \u001b[32m━━━━━━━━━━━━━━━━━━━━\u001b[0m\u001b[37m\u001b[0m \u001b[1m85s\u001b[0m 362ms/step - accuracy: 0.6903 - f1_score: 0.6641 - loss: 0.8104 - precision: 0.7800 - recall: 0.5784 - val_accuracy: 0.7212 - val_f1_score: 0.7071 - val_loss: 0.7262 - val_precision: 0.8042 - val_recall: 0.6309\n",
      "Epoch 46/100\n",
      "\u001b[1m236/236\u001b[0m \u001b[32m━━━━━━━━━━━━━━━━━━━━\u001b[0m\u001b[37m\u001b[0m \u001b[1m87s\u001b[0m 371ms/step - accuracy: 0.7096 - f1_score: 0.6805 - loss: 0.7927 - precision: 0.7873 - recall: 0.5993 - val_accuracy: 0.7391 - val_f1_score: 0.7168 - val_loss: 0.7034 - val_precision: 0.8147 - val_recall: 0.6399\n",
      "Epoch 47/100\n",
      "\u001b[1m236/236\u001b[0m \u001b[32m━━━━━━━━━━━━━━━━━━━━\u001b[0m\u001b[37m\u001b[0m \u001b[1m87s\u001b[0m 368ms/step - accuracy: 0.7027 - f1_score: 0.6768 - loss: 0.7801 - precision: 0.7806 - recall: 0.5974 - val_accuracy: 0.7209 - val_f1_score: 0.7081 - val_loss: 0.7382 - val_precision: 0.7807 - val_recall: 0.6479\n",
      "Epoch 48/100\n",
      "\u001b[1m236/236\u001b[0m \u001b[32m━━━━━━━━━━━━━━━━━━━━\u001b[0m\u001b[37m\u001b[0m \u001b[1m86s\u001b[0m 366ms/step - accuracy: 0.6988 - f1_score: 0.6842 - loss: 0.7927 - precision: 0.7879 - recall: 0.6047 - val_accuracy: 0.7448 - val_f1_score: 0.7156 - val_loss: 0.6931 - val_precision: 0.8378 - val_recall: 0.6245\n",
      "Epoch 49/100\n",
      "\u001b[1m236/236\u001b[0m \u001b[32m━━━━━━━━━━━━━━━━━━━━\u001b[0m\u001b[37m\u001b[0m \u001b[1m86s\u001b[0m 363ms/step - accuracy: 0.7189 - f1_score: 0.6922 - loss: 0.7552 - precision: 0.7969 - recall: 0.6119 - val_accuracy: 0.7346 - val_f1_score: 0.7207 - val_loss: 0.7102 - val_precision: 0.7975 - val_recall: 0.6573\n",
      "Epoch 50/100\n",
      "\u001b[1m236/236\u001b[0m \u001b[32m━━━━━━━━━━━━━━━━━━━━\u001b[0m\u001b[37m\u001b[0m \u001b[1m144s\u001b[0m 369ms/step - accuracy: 0.7113 - f1_score: 0.6971 - loss: 0.7449 - precision: 0.7998 - recall: 0.6178 - val_accuracy: 0.7343 - val_f1_score: 0.7170 - val_loss: 0.7108 - val_precision: 0.8218 - val_recall: 0.6360\n",
      "Epoch 51/100\n",
      "\u001b[1m236/236\u001b[0m \u001b[32m━━━━━━━━━━━━━━━━━━━━\u001b[0m\u001b[37m\u001b[0m \u001b[1m87s\u001b[0m 370ms/step - accuracy: 0.7185 - f1_score: 0.6955 - loss: 0.7625 - precision: 0.7987 - recall: 0.6159 - val_accuracy: 0.7546 - val_f1_score: 0.7416 - val_loss: 0.6715 - val_precision: 0.8414 - val_recall: 0.6629\n",
      "Epoch 52/100\n",
      "\u001b[1m236/236\u001b[0m \u001b[32m━━━━━━━━━━━━━━━━━━━━\u001b[0m\u001b[37m\u001b[0m \u001b[1m86s\u001b[0m 363ms/step - accuracy: 0.7091 - f1_score: 0.6968 - loss: 0.7578 - precision: 0.7990 - recall: 0.6179 - val_accuracy: 0.7402 - val_f1_score: 0.7143 - val_loss: 0.6878 - val_precision: 0.8424 - val_recall: 0.6200\n",
      "Epoch 53/100\n",
      "\u001b[1m236/236\u001b[0m \u001b[32m━━━━━━━━━━━━━━━━━━━━\u001b[0m\u001b[37m\u001b[0m \u001b[1m86s\u001b[0m 363ms/step - accuracy: 0.7223 - f1_score: 0.6965 - loss: 0.7466 - precision: 0.7961 - recall: 0.6190 - val_accuracy: 0.7483 - val_f1_score: 0.7304 - val_loss: 0.6816 - val_precision: 0.8249 - val_recall: 0.6553\n",
      "Epoch 54/100\n",
      "\u001b[1m236/236\u001b[0m \u001b[32m━━━━━━━━━━━━━━━━━━━━\u001b[0m\u001b[37m\u001b[0m \u001b[1m85s\u001b[0m 361ms/step - accuracy: 0.7215 - f1_score: 0.6986 - loss: 0.7368 - precision: 0.7969 - recall: 0.6220 - val_accuracy: 0.7475 - val_f1_score: 0.7332 - val_loss: 0.6646 - val_precision: 0.8346 - val_recall: 0.6537\n",
      "Epoch 55/100\n",
      "\u001b[1m236/236\u001b[0m \u001b[32m━━━━━━━━━━━━━━━━━━━━\u001b[0m\u001b[37m\u001b[0m \u001b[1m89s\u001b[0m 376ms/step - accuracy: 0.7253 - f1_score: 0.7064 - loss: 0.7375 - precision: 0.8080 - recall: 0.6275 - val_accuracy: 0.7431 - val_f1_score: 0.7322 - val_loss: 0.6770 - val_precision: 0.8197 - val_recall: 0.6616\n",
      "Epoch 56/100\n",
      "\u001b[1m236/236\u001b[0m \u001b[32m━━━━━━━━━━━━━━━━━━━━\u001b[0m\u001b[37m\u001b[0m \u001b[1m92s\u001b[0m 391ms/step - accuracy: 0.7289 - f1_score: 0.7101 - loss: 0.7332 - precision: 0.8119 - recall: 0.6310 - val_accuracy: 0.7588 - val_f1_score: 0.7404 - val_loss: 0.6541 - val_precision: 0.8347 - val_recall: 0.6652\n",
      "Epoch 57/100\n",
      "\u001b[1m236/236\u001b[0m \u001b[32m━━━━━━━━━━━━━━━━━━━━\u001b[0m\u001b[37m\u001b[0m \u001b[1m91s\u001b[0m 384ms/step - accuracy: 0.7260 - f1_score: 0.7066 - loss: 0.7277 - precision: 0.8032 - recall: 0.6307 - val_accuracy: 0.7513 - val_f1_score: 0.7352 - val_loss: 0.6708 - val_precision: 0.8216 - val_recall: 0.6653\n",
      "Epoch 58/100\n",
      "\u001b[1m236/236\u001b[0m \u001b[32m━━━━━━━━━━━━━━━━━━━━\u001b[0m\u001b[37m\u001b[0m \u001b[1m89s\u001b[0m 379ms/step - accuracy: 0.7251 - f1_score: 0.7094 - loss: 0.7310 - precision: 0.7962 - recall: 0.6398 - val_accuracy: 0.7643 - val_f1_score: 0.7391 - val_loss: 0.6518 - val_precision: 0.8431 - val_recall: 0.6580\n",
      "Epoch 59/100\n",
      "\u001b[1m236/236\u001b[0m \u001b[32m━━━━━━━━━━━━━━━━━━━━\u001b[0m\u001b[37m\u001b[0m \u001b[1m89s\u001b[0m 379ms/step - accuracy: 0.7325 - f1_score: 0.7121 - loss: 0.7044 - precision: 0.8120 - recall: 0.6342 - val_accuracy: 0.7699 - val_f1_score: 0.7556 - val_loss: 0.6270 - val_precision: 0.8452 - val_recall: 0.6831\n",
      "Epoch 60/100\n",
      "\u001b[1m236/236\u001b[0m \u001b[32m━━━━━━━━━━━━━━━━━━━━\u001b[0m\u001b[37m\u001b[0m \u001b[1m90s\u001b[0m 379ms/step - accuracy: 0.7305 - f1_score: 0.7155 - loss: 0.7112 - precision: 0.8064 - recall: 0.6431 - val_accuracy: 0.7623 - val_f1_score: 0.7374 - val_loss: 0.6427 - val_precision: 0.8469 - val_recall: 0.6529\n",
      "Epoch 61/100\n",
      "\u001b[1m236/236\u001b[0m \u001b[32m━━━━━━━━━━━━━━━━━━━━\u001b[0m\u001b[37m\u001b[0m \u001b[1m89s\u001b[0m 376ms/step - accuracy: 0.7291 - f1_score: 0.7170 - loss: 0.7076 - precision: 0.8103 - recall: 0.6430 - val_accuracy: 0.7801 - val_f1_score: 0.7591 - val_loss: 0.6128 - val_precision: 0.8489 - val_recall: 0.6864\n",
      "Epoch 62/100\n",
      "\u001b[1m236/236\u001b[0m \u001b[32m━━━━━━━━━━━━━━━━━━━━\u001b[0m\u001b[37m\u001b[0m \u001b[1m141s\u001b[0m 371ms/step - accuracy: 0.7291 - f1_score: 0.7068 - loss: 0.7328 - precision: 0.7927 - recall: 0.6378 - val_accuracy: 0.7612 - val_f1_score: 0.7437 - val_loss: 0.6505 - val_precision: 0.8420 - val_recall: 0.6660\n",
      "Epoch 63/100\n",
      "\u001b[1m236/236\u001b[0m \u001b[32m━━━━━━━━━━━━━━━━━━━━\u001b[0m\u001b[37m\u001b[0m \u001b[1m125s\u001b[0m 298ms/step - accuracy: 0.7316 - f1_score: 0.7138 - loss: 0.7013 - precision: 0.8130 - recall: 0.6363 - val_accuracy: 0.7722 - val_f1_score: 0.7671 - val_loss: 0.6046 - val_precision: 0.8262 - val_recall: 0.7159\n",
      "Epoch 64/100\n",
      "\u001b[1m236/236\u001b[0m \u001b[32m━━━━━━━━━━━━━━━━━━━━\u001b[0m\u001b[37m\u001b[0m \u001b[1m70s\u001b[0m 296ms/step - accuracy: 0.7417 - f1_score: 0.7289 - loss: 0.6894 - precision: 0.8115 - recall: 0.6617 - val_accuracy: 0.7386 - val_f1_score: 0.7337 - val_loss: 0.7042 - val_precision: 0.7844 - val_recall: 0.6892\n",
      "Epoch 65/100\n",
      "\u001b[1m236/236\u001b[0m \u001b[32m━━━━━━━━━━━━━━━━━━━━\u001b[0m\u001b[37m\u001b[0m \u001b[1m72s\u001b[0m 305ms/step - accuracy: 0.7251 - f1_score: 0.7123 - loss: 0.7263 - precision: 0.7986 - recall: 0.6430 - val_accuracy: 0.7554 - val_f1_score: 0.7446 - val_loss: 0.6449 - val_precision: 0.8328 - val_recall: 0.6733\n",
      "Epoch 66/100\n",
      "\u001b[1m236/236\u001b[0m \u001b[32m━━━━━━━━━━━━━━━━━━━━\u001b[0m\u001b[37m\u001b[0m \u001b[1m72s\u001b[0m 305ms/step - accuracy: 0.7401 - f1_score: 0.7245 - loss: 0.6952 - precision: 0.8142 - recall: 0.6527 - val_accuracy: 0.7689 - val_f1_score: 0.7569 - val_loss: 0.6304 - val_precision: 0.8286 - val_recall: 0.6966\n",
      "Epoch 67/100\n",
      "\u001b[1m236/236\u001b[0m \u001b[32m━━━━━━━━━━━━━━━━━━━━\u001b[0m\u001b[37m\u001b[0m \u001b[1m71s\u001b[0m 302ms/step - accuracy: 0.7454 - f1_score: 0.7344 - loss: 0.6849 - precision: 0.8169 - recall: 0.6670 - val_accuracy: 0.7546 - val_f1_score: 0.7398 - val_loss: 0.6670 - val_precision: 0.8208 - val_recall: 0.6734\n",
      "Epoch 68/100\n",
      "\u001b[1m236/236\u001b[0m \u001b[32m━━━━━━━━━━━━━━━━━━━━\u001b[0m\u001b[37m\u001b[0m \u001b[1m70s\u001b[0m 297ms/step - accuracy: 0.7495 - f1_score: 0.7359 - loss: 0.6742 - precision: 0.8216 - recall: 0.6664 - val_accuracy: 0.7856 - val_f1_score: 0.7733 - val_loss: 0.5872 - val_precision: 0.8548 - val_recall: 0.7059\n",
      "Epoch 69/100\n",
      "\u001b[1m236/236\u001b[0m \u001b[32m━━━━━━━━━━━━━━━━━━━━\u001b[0m\u001b[37m\u001b[0m \u001b[1m72s\u001b[0m 305ms/step - accuracy: 0.7321 - f1_score: 0.7250 - loss: 0.6964 - precision: 0.8130 - recall: 0.6542 - val_accuracy: 0.7789 - val_f1_score: 0.7632 - val_loss: 0.5941 - val_precision: 0.8508 - val_recall: 0.6920\n",
      "Epoch 70/100\n",
      "\u001b[1m236/236\u001b[0m \u001b[32m━━━━━━━━━━━━━━━━━━━━\u001b[0m\u001b[37m\u001b[0m \u001b[1m71s\u001b[0m 303ms/step - accuracy: 0.7521 - f1_score: 0.7369 - loss: 0.6601 - precision: 0.8218 - recall: 0.6680 - val_accuracy: 0.7698 - val_f1_score: 0.7577 - val_loss: 0.6249 - val_precision: 0.8451 - val_recall: 0.6867\n",
      "Epoch 71/100\n",
      "\u001b[1m236/236\u001b[0m \u001b[32m━━━━━━━━━━━━━━━━━━━━\u001b[0m\u001b[37m\u001b[0m \u001b[1m71s\u001b[0m 303ms/step - accuracy: 0.7417 - f1_score: 0.7266 - loss: 0.6791 - precision: 0.8079 - recall: 0.6602 - val_accuracy: 0.7744 - val_f1_score: 0.7606 - val_loss: 0.6125 - val_precision: 0.8381 - val_recall: 0.6962\n",
      "Epoch 72/100\n",
      "\u001b[1m236/236\u001b[0m \u001b[32m━━━━━━━━━━━━━━━━━━━━\u001b[0m\u001b[37m\u001b[0m \u001b[1m71s\u001b[0m 303ms/step - accuracy: 0.7441 - f1_score: 0.7315 - loss: 0.6669 - precision: 0.8069 - recall: 0.6690 - val_accuracy: 0.7803 - val_f1_score: 0.7682 - val_loss: 0.5967 - val_precision: 0.8529 - val_recall: 0.6988\n",
      "Epoch 73/100\n",
      "\u001b[1m236/236\u001b[0m \u001b[32m━━━━━━━━━━━━━━━━━━━━\u001b[0m\u001b[37m\u001b[0m \u001b[1m72s\u001b[0m 306ms/step - accuracy: 0.7552 - f1_score: 0.7411 - loss: 0.6522 - precision: 0.8193 - recall: 0.6765 - val_accuracy: 0.7912 - val_f1_score: 0.7812 - val_loss: 0.5666 - val_precision: 0.8691 - val_recall: 0.7095\n",
      "Epoch 74/100\n",
      "\u001b[1m236/236\u001b[0m \u001b[32m━━━━━━━━━━━━━━━━━━━━\u001b[0m\u001b[37m\u001b[0m \u001b[1m71s\u001b[0m 300ms/step - accuracy: 0.7540 - f1_score: 0.7386 - loss: 0.6502 - precision: 0.8157 - recall: 0.6749 - val_accuracy: 0.7900 - val_f1_score: 0.7803 - val_loss: 0.5761 - val_precision: 0.8539 - val_recall: 0.7184\n",
      "Epoch 75/100\n",
      "\u001b[1m236/236\u001b[0m \u001b[32m━━━━━━━━━━━━━━━━━━━━\u001b[0m\u001b[37m\u001b[0m \u001b[1m71s\u001b[0m 301ms/step - accuracy: 0.7453 - f1_score: 0.7371 - loss: 0.6586 - precision: 0.8163 - recall: 0.6719 - val_accuracy: 0.7793 - val_f1_score: 0.7695 - val_loss: 0.5880 - val_precision: 0.8514 - val_recall: 0.7019\n",
      "Epoch 76/100\n",
      "\u001b[1m236/236\u001b[0m \u001b[32m━━━━━━━━━━━━━━━━━━━━\u001b[0m\u001b[37m\u001b[0m \u001b[1m72s\u001b[0m 306ms/step - accuracy: 0.7462 - f1_score: 0.7324 - loss: 0.6662 - precision: 0.8210 - recall: 0.6611 - val_accuracy: 0.7862 - val_f1_score: 0.7702 - val_loss: 0.5909 - val_precision: 0.8682 - val_recall: 0.6920\n",
      "Epoch 77/100\n",
      "\u001b[1m236/236\u001b[0m \u001b[32m━━━━━━━━━━━━━━━━━━━━\u001b[0m\u001b[37m\u001b[0m \u001b[1m72s\u001b[0m 304ms/step - accuracy: 0.7479 - f1_score: 0.7370 - loss: 0.6618 - precision: 0.8202 - recall: 0.6691 - val_accuracy: 0.7939 - val_f1_score: 0.7824 - val_loss: 0.5569 - val_precision: 0.8633 - val_recall: 0.7153\n",
      "Epoch 78/100\n",
      "\u001b[1m236/236\u001b[0m \u001b[32m━━━━━━━━━━━━━━━━━━━━\u001b[0m\u001b[37m\u001b[0m \u001b[1m74s\u001b[0m 312ms/step - accuracy: 0.7609 - f1_score: 0.7495 - loss: 0.6392 - precision: 0.8292 - recall: 0.6839 - val_accuracy: 0.7851 - val_f1_score: 0.7785 - val_loss: 0.5807 - val_precision: 0.8491 - val_recall: 0.7188\n",
      "Epoch 79/100\n",
      "\u001b[1m236/236\u001b[0m \u001b[32m━━━━━━━━━━━━━━━━━━━━\u001b[0m\u001b[37m\u001b[0m \u001b[1m73s\u001b[0m 310ms/step - accuracy: 0.7532 - f1_score: 0.7383 - loss: 0.6629 - precision: 0.8142 - recall: 0.6754 - val_accuracy: 0.7982 - val_f1_score: 0.7903 - val_loss: 0.5494 - val_precision: 0.8660 - val_recall: 0.7268\n",
      "Epoch 80/100\n",
      "\u001b[1m236/236\u001b[0m \u001b[32m━━━━━━━━━━━━━━━━━━━━\u001b[0m\u001b[37m\u001b[0m \u001b[1m74s\u001b[0m 314ms/step - accuracy: 0.7503 - f1_score: 0.7402 - loss: 0.6648 - precision: 0.8186 - recall: 0.6755 - val_accuracy: 0.7641 - val_f1_score: 0.7488 - val_loss: 0.6202 - val_precision: 0.8402 - val_recall: 0.6753\n",
      "Epoch 81/100\n",
      "\u001b[1m236/236\u001b[0m \u001b[32m━━━━━━━━━━━━━━━━━━━━\u001b[0m\u001b[37m\u001b[0m \u001b[1m72s\u001b[0m 307ms/step - accuracy: 0.7595 - f1_score: 0.7500 - loss: 0.6362 - precision: 0.8262 - recall: 0.6868 - val_accuracy: 0.8039 - val_f1_score: 0.7945 - val_loss: 0.5456 - val_precision: 0.8651 - val_recall: 0.7346\n",
      "Epoch 82/100\n",
      "\u001b[1m236/236\u001b[0m \u001b[32m━━━━━━━━━━━━━━━━━━━━\u001b[0m\u001b[37m\u001b[0m \u001b[1m74s\u001b[0m 314ms/step - accuracy: 0.7633 - f1_score: 0.7585 - loss: 0.6248 - precision: 0.8338 - recall: 0.6958 - val_accuracy: 0.7824 - val_f1_score: 0.7749 - val_loss: 0.5955 - val_precision: 0.8450 - val_recall: 0.7156\n",
      "Epoch 83/100\n",
      "\u001b[1m236/236\u001b[0m \u001b[32m━━━━━━━━━━━━━━━━━━━━\u001b[0m\u001b[37m\u001b[0m \u001b[1m74s\u001b[0m 312ms/step - accuracy: 0.7680 - f1_score: 0.7617 - loss: 0.6407 - precision: 0.8357 - recall: 0.6998 - val_accuracy: 0.7916 - val_f1_score: 0.7888 - val_loss: 0.5648 - val_precision: 0.8555 - val_recall: 0.7317\n",
      "Epoch 84/100\n",
      "\u001b[1m236/236\u001b[0m \u001b[32m━━━━━━━━━━━━━━━━━━━━\u001b[0m\u001b[37m\u001b[0m \u001b[1m71s\u001b[0m 300ms/step - accuracy: 0.7600 - f1_score: 0.7592 - loss: 0.6257 - precision: 0.8335 - recall: 0.6971 - val_accuracy: 0.8050 - val_f1_score: 0.7925 - val_loss: 0.5448 - val_precision: 0.8598 - val_recall: 0.7350\n",
      "Epoch 85/100\n",
      "\u001b[1m236/236\u001b[0m \u001b[32m━━━━━━━━━━━━━━━━━━━━\u001b[0m\u001b[37m\u001b[0m \u001b[1m72s\u001b[0m 305ms/step - accuracy: 0.7584 - f1_score: 0.7526 - loss: 0.6298 - precision: 0.8264 - recall: 0.6909 - val_accuracy: 0.7666 - val_f1_score: 0.7508 - val_loss: 0.6221 - val_precision: 0.8476 - val_recall: 0.6739\n",
      "Epoch 86/100\n",
      "\u001b[1m236/236\u001b[0m \u001b[32m━━━━━━━━━━━━━━━━━━━━\u001b[0m\u001b[37m\u001b[0m \u001b[1m73s\u001b[0m 311ms/step - accuracy: 0.7628 - f1_score: 0.7561 - loss: 0.6276 - precision: 0.8326 - recall: 0.6926 - val_accuracy: 0.7679 - val_f1_score: 0.7559 - val_loss: 0.6135 - val_precision: 0.8450 - val_recall: 0.6837\n",
      "Epoch 87/100\n",
      "\u001b[1m236/236\u001b[0m \u001b[32m━━━━━━━━━━━━━━━━━━━━\u001b[0m\u001b[37m\u001b[0m \u001b[1m75s\u001b[0m 319ms/step - accuracy: 0.7615 - f1_score: 0.7502 - loss: 0.6395 - precision: 0.8304 - recall: 0.6842 - val_accuracy: 0.7955 - val_f1_score: 0.7837 - val_loss: 0.5665 - val_precision: 0.8628 - val_recall: 0.7179\n",
      "Epoch 88/100\n",
      "\u001b[1m236/236\u001b[0m \u001b[32m━━━━━━━━━━━━━━━━━━━━\u001b[0m\u001b[37m\u001b[0m \u001b[1m73s\u001b[0m 310ms/step - accuracy: 0.7735 - f1_score: 0.7634 - loss: 0.6042 - precision: 0.8355 - recall: 0.7028 - val_accuracy: 0.7983 - val_f1_score: 0.7908 - val_loss: 0.5551 - val_precision: 0.8598 - val_recall: 0.7321\n",
      "Epoch 89/100\n",
      "\u001b[1m236/236\u001b[0m \u001b[32m━━━━━━━━━━━━━━━━━━━━\u001b[0m\u001b[37m\u001b[0m \u001b[1m72s\u001b[0m 306ms/step - accuracy: 0.7634 - f1_score: 0.7592 - loss: 0.6169 - precision: 0.8357 - recall: 0.6956 - val_accuracy: 0.7922 - val_f1_score: 0.7841 - val_loss: 0.5553 - val_precision: 0.8541 - val_recall: 0.7246\n",
      "Epoch 90/100\n",
      "\u001b[1m236/236\u001b[0m \u001b[32m━━━━━━━━━━━━━━━━━━━━\u001b[0m\u001b[37m\u001b[0m \u001b[1m73s\u001b[0m 311ms/step - accuracy: 0.7647 - f1_score: 0.7607 - loss: 0.6139 - precision: 0.8307 - recall: 0.7017 - val_accuracy: 0.8139 - val_f1_score: 0.8022 - val_loss: 0.5225 - val_precision: 0.8703 - val_recall: 0.7440\n",
      "Epoch 91/100\n",
      "\u001b[1m236/236\u001b[0m \u001b[32m━━━━━━━━━━━━━━━━━━━━\u001b[0m\u001b[37m\u001b[0m \u001b[1m74s\u001b[0m 312ms/step - accuracy: 0.7662 - f1_score: 0.7563 - loss: 0.6286 - precision: 0.8239 - recall: 0.6990 - val_accuracy: 0.8012 - val_f1_score: 0.7936 - val_loss: 0.5346 - val_precision: 0.8622 - val_recall: 0.7351\n",
      "Epoch 92/100\n",
      "\u001b[1m236/236\u001b[0m \u001b[32m━━━━━━━━━━━━━━━━━━━━\u001b[0m\u001b[37m\u001b[0m \u001b[1m74s\u001b[0m 315ms/step - accuracy: 0.7705 - f1_score: 0.7639 - loss: 0.6009 - precision: 0.8301 - recall: 0.7075 - val_accuracy: 0.7970 - val_f1_score: 0.7968 - val_loss: 0.5453 - val_precision: 0.8508 - val_recall: 0.7493\n",
      "Epoch 93/100\n",
      "\u001b[1m236/236\u001b[0m \u001b[32m━━━━━━━━━━━━━━━━━━━━\u001b[0m\u001b[37m\u001b[0m \u001b[1m74s\u001b[0m 313ms/step - accuracy: 0.7627 - f1_score: 0.7549 - loss: 0.6321 - precision: 0.8172 - recall: 0.7014 - val_accuracy: 0.8039 - val_f1_score: 0.8009 - val_loss: 0.5250 - val_precision: 0.8621 - val_recall: 0.7477\n",
      "Epoch 94/100\n",
      "\u001b[1m236/236\u001b[0m \u001b[32m━━━━━━━━━━━━━━━━━━━━\u001b[0m\u001b[37m\u001b[0m \u001b[1m71s\u001b[0m 299ms/step - accuracy: 0.7759 - f1_score: 0.7675 - loss: 0.6026 - precision: 0.8358 - recall: 0.7095 - val_accuracy: 0.8024 - val_f1_score: 0.7958 - val_loss: 0.5330 - val_precision: 0.8572 - val_recall: 0.7427\n",
      "Epoch 95/100\n",
      "\u001b[1m236/236\u001b[0m \u001b[32m━━━━━━━━━━━━━━━━━━━━\u001b[0m\u001b[37m\u001b[0m \u001b[1m54s\u001b[0m 230ms/step - accuracy: 0.7872 - f1_score: 0.7770 - loss: 0.5795 - precision: 0.8390 - recall: 0.7236 - val_accuracy: 0.8151 - val_f1_score: 0.8111 - val_loss: 0.4977 - val_precision: 0.8732 - val_recall: 0.7573\n",
      "Epoch 96/100\n",
      "\u001b[1m236/236\u001b[0m \u001b[32m━━━━━━━━━━━━━━━━━━━━\u001b[0m\u001b[37m\u001b[0m \u001b[1m54s\u001b[0m 229ms/step - accuracy: 0.7871 - f1_score: 0.7767 - loss: 0.5856 - precision: 0.8406 - recall: 0.7218 - val_accuracy: 0.8032 - val_f1_score: 0.7977 - val_loss: 0.5246 - val_precision: 0.8591 - val_recall: 0.7446\n",
      "Epoch 97/100\n",
      "\u001b[1m236/236\u001b[0m \u001b[32m━━━━━━━━━━━━━━━━━━━━\u001b[0m\u001b[37m\u001b[0m \u001b[1m54s\u001b[0m 229ms/step - accuracy: 0.7816 - f1_score: 0.7765 - loss: 0.5848 - precision: 0.8439 - recall: 0.7191 - val_accuracy: 0.8028 - val_f1_score: 0.7930 - val_loss: 0.5509 - val_precision: 0.8581 - val_recall: 0.7371\n",
      "Epoch 98/100\n",
      "\u001b[1m236/236\u001b[0m \u001b[32m━━━━━━━━━━━━━━━━━━━━\u001b[0m\u001b[37m\u001b[0m \u001b[1m54s\u001b[0m 230ms/step - accuracy: 0.7795 - f1_score: 0.7804 - loss: 0.5732 - precision: 0.8470 - recall: 0.7235 - val_accuracy: 0.8319 - val_f1_score: 0.8268 - val_loss: 0.4735 - val_precision: 0.8847 - val_recall: 0.7760\n",
      "Epoch 99/100\n",
      "\u001b[1m236/236\u001b[0m \u001b[32m━━━━━━━━━━━━━━━━━━━━\u001b[0m\u001b[37m\u001b[0m \u001b[1m54s\u001b[0m 231ms/step - accuracy: 0.7747 - f1_score: 0.7717 - loss: 0.5968 - precision: 0.8395 - recall: 0.7141 - val_accuracy: 0.8205 - val_f1_score: 0.8140 - val_loss: 0.4926 - val_precision: 0.8834 - val_recall: 0.7546\n",
      "Epoch 100/100\n",
      "\u001b[1m236/236\u001b[0m \u001b[32m━━━━━━━━━━━━━━━━━━━━\u001b[0m\u001b[37m\u001b[0m \u001b[1m48s\u001b[0m 202ms/step - accuracy: 0.7743 - f1_score: 0.7703 - loss: 0.5948 - precision: 0.8388 - recall: 0.7122 - val_accuracy: 0.7844 - val_f1_score: 0.7772 - val_loss: 0.5698 - val_precision: 0.8455 - val_recall: 0.7191\n"
     ]
    }
   ],
   "source": [
    "# Train the model\n",
    "history = gru_model.fit(\n",
    "    x=training_set,\n",
    "    validation_data=validation_set,\n",
    "    epochs=100\n",
    ")"
   ]
  },
  {
   "cell_type": "code",
   "execution_count": 11,
   "id": "1baea6bc-63df-4997-852a-5b8fd3d13d90",
   "metadata": {},
   "outputs": [],
   "source": [
    "# Save Loss plot\n",
    "plt.figure()\n",
    "plt.plot(history.history['loss'], label='Train Loss')\n",
    "plt.plot(history.history['val_loss'], label='Validation Loss')\n",
    "plt.legend()\n",
    "plt.title(\"Loss\")\n",
    "plt.xlabel('Epochs')\n",
    "plt.ylabel('Loss')\n",
    "plt.savefig('loss_plot_gru.png')  # Save the plot as a PNG file\n",
    "plt.close()\n",
    "\n",
    "# Save Accuracy plot\n",
    "plt.figure()\n",
    "plt.plot(history.history['accuracy'], label='Train Accuracy')\n",
    "plt.plot(history.history['val_accuracy'], label='Validation Accuracy')\n",
    "plt.legend()\n",
    "plt.title(\"Accuracy\")\n",
    "plt.xlabel('Epochs')\n",
    "plt.ylabel('Accuracy')\n",
    "plt.savefig('accuracy_plot_gru.png')  # Save the plot as a PNG file\n",
    "plt.close()\n",
    "\n",
    "# Save Precision plot\n",
    "plt.figure()\n",
    "plt.plot(history.history['precision'], label='Train Precision')\n",
    "plt.plot(history.history['val_precision'], label='Validation Precision')\n",
    "plt.legend()\n",
    "plt.title(\"Precision\")\n",
    "plt.xlabel('Epochs')\n",
    "plt.ylabel('Precision')\n",
    "plt.savefig('precision_plot_gru.png')  # Save the plot as a PNG file\n",
    "plt.close()\n",
    "\n",
    "# Save Recall plot\n",
    "plt.figure()\n",
    "plt.plot(history.history['recall'], label='Train Recall')\n",
    "plt.plot(history.history['val_recall'], label='Validation Recall')\n",
    "plt.legend()\n",
    "plt.title(\"Recall\")\n",
    "plt.xlabel('Epochs')\n",
    "plt.ylabel('Recall')\n",
    "plt.savefig('recall_plot_gru.png')  # Save the plot as a PNG file\n",
    "plt.close()\n",
    "\n",
    "# Save F1 Score plot\n",
    "plt.figure()\n",
    "plt.plot(history.history['f1_score'], label='Train F1 Score')\n",
    "plt.plot(history.history['val_f1_score'], label='Validation F1 Score')\n",
    "plt.legend()\n",
    "plt.title(\"F1 Score\")\n",
    "plt.xlabel('Epochs')\n",
    "plt.ylabel('F1 Score')\n",
    "plt.savefig('f1_score_plot_gru.png')  # Save the plot as a PNG file\n",
    "plt.close()\n"
   ]
  },
  {
   "cell_type": "code",
   "execution_count": 12,
   "id": "692435b1-158f-4506-a9d1-126b614e1f72",
   "metadata": {},
   "outputs": [
    {
     "data": {
      "text/html": [
       "<pre style=\"white-space:pre;overflow-x:auto;line-height:normal;font-family:Menlo,'DejaVu Sans Mono',consolas,'Courier New',monospace\"><span style=\"font-weight: bold\">Model: \"sequential\"</span>\n",
       "</pre>\n"
      ],
      "text/plain": [
       "\u001b[1mModel: \"sequential\"\u001b[0m\n"
      ]
     },
     "metadata": {},
     "output_type": "display_data"
    },
    {
     "data": {
      "text/html": [
       "<pre style=\"white-space:pre;overflow-x:auto;line-height:normal;font-family:Menlo,'DejaVu Sans Mono',consolas,'Courier New',monospace\">┏━━━━━━━━━━━━━━━━━━━━━━━━━━━━━━━━━━━━━━┳━━━━━━━━━━━━━━━━━━━━━━━━━━━━━┳━━━━━━━━━━━━━━━━━┓\n",
       "┃<span style=\"font-weight: bold\"> Layer (type)                         </span>┃<span style=\"font-weight: bold\"> Output Shape                </span>┃<span style=\"font-weight: bold\">         Param # </span>┃\n",
       "┡━━━━━━━━━━━━━━━━━━━━━━━━━━━━━━━━━━━━━━╇━━━━━━━━━━━━━━━━━━━━━━━━━━━━━╇━━━━━━━━━━━━━━━━━┩\n",
       "│ flatten (<span style=\"color: #0087ff; text-decoration-color: #0087ff\">Flatten</span>)                    │ (<span style=\"color: #00d7ff; text-decoration-color: #00d7ff\">None</span>, <span style=\"color: #00af00; text-decoration-color: #00af00\">12288</span>)               │               <span style=\"color: #00af00; text-decoration-color: #00af00\">0</span> │\n",
       "├──────────────────────────────────────┼─────────────────────────────┼─────────────────┤\n",
       "│ reshape (<span style=\"color: #0087ff; text-decoration-color: #0087ff\">Reshape</span>)                    │ (<span style=\"color: #00d7ff; text-decoration-color: #00d7ff\">None</span>, <span style=\"color: #00af00; text-decoration-color: #00af00\">16</span>, <span style=\"color: #00af00; text-decoration-color: #00af00\">768</span>)             │               <span style=\"color: #00af00; text-decoration-color: #00af00\">0</span> │\n",
       "├──────────────────────────────────────┼─────────────────────────────┼─────────────────┤\n",
       "│ gru (<span style=\"color: #0087ff; text-decoration-color: #0087ff\">GRU</span>)                            │ (<span style=\"color: #00d7ff; text-decoration-color: #00d7ff\">None</span>, <span style=\"color: #00af00; text-decoration-color: #00af00\">64</span>)                  │         <span style=\"color: #00af00; text-decoration-color: #00af00\">160,128</span> │\n",
       "├──────────────────────────────────────┼─────────────────────────────┼─────────────────┤\n",
       "│ dense (<span style=\"color: #0087ff; text-decoration-color: #0087ff\">Dense</span>)                        │ (<span style=\"color: #00d7ff; text-decoration-color: #00d7ff\">None</span>, <span style=\"color: #00af00; text-decoration-color: #00af00\">128</span>)                 │           <span style=\"color: #00af00; text-decoration-color: #00af00\">8,320</span> │\n",
       "├──────────────────────────────────────┼─────────────────────────────┼─────────────────┤\n",
       "│ dense_1 (<span style=\"color: #0087ff; text-decoration-color: #0087ff\">Dense</span>)                      │ (<span style=\"color: #00d7ff; text-decoration-color: #00d7ff\">None</span>, <span style=\"color: #00af00; text-decoration-color: #00af00\">6</span>)                   │             <span style=\"color: #00af00; text-decoration-color: #00af00\">774</span> │\n",
       "└──────────────────────────────────────┴─────────────────────────────┴─────────────────┘\n",
       "</pre>\n"
      ],
      "text/plain": [
       "┏━━━━━━━━━━━━━━━━━━━━━━━━━━━━━━━━━━━━━━┳━━━━━━━━━━━━━━━━━━━━━━━━━━━━━┳━━━━━━━━━━━━━━━━━┓\n",
       "┃\u001b[1m \u001b[0m\u001b[1mLayer (type)                        \u001b[0m\u001b[1m \u001b[0m┃\u001b[1m \u001b[0m\u001b[1mOutput Shape               \u001b[0m\u001b[1m \u001b[0m┃\u001b[1m \u001b[0m\u001b[1m        Param #\u001b[0m\u001b[1m \u001b[0m┃\n",
       "┡━━━━━━━━━━━━━━━━━━━━━━━━━━━━━━━━━━━━━━╇━━━━━━━━━━━━━━━━━━━━━━━━━━━━━╇━━━━━━━━━━━━━━━━━┩\n",
       "│ flatten (\u001b[38;5;33mFlatten\u001b[0m)                    │ (\u001b[38;5;45mNone\u001b[0m, \u001b[38;5;34m12288\u001b[0m)               │               \u001b[38;5;34m0\u001b[0m │\n",
       "├──────────────────────────────────────┼─────────────────────────────┼─────────────────┤\n",
       "│ reshape (\u001b[38;5;33mReshape\u001b[0m)                    │ (\u001b[38;5;45mNone\u001b[0m, \u001b[38;5;34m16\u001b[0m, \u001b[38;5;34m768\u001b[0m)             │               \u001b[38;5;34m0\u001b[0m │\n",
       "├──────────────────────────────────────┼─────────────────────────────┼─────────────────┤\n",
       "│ gru (\u001b[38;5;33mGRU\u001b[0m)                            │ (\u001b[38;5;45mNone\u001b[0m, \u001b[38;5;34m64\u001b[0m)                  │         \u001b[38;5;34m160,128\u001b[0m │\n",
       "├──────────────────────────────────────┼─────────────────────────────┼─────────────────┤\n",
       "│ dense (\u001b[38;5;33mDense\u001b[0m)                        │ (\u001b[38;5;45mNone\u001b[0m, \u001b[38;5;34m128\u001b[0m)                 │           \u001b[38;5;34m8,320\u001b[0m │\n",
       "├──────────────────────────────────────┼─────────────────────────────┼─────────────────┤\n",
       "│ dense_1 (\u001b[38;5;33mDense\u001b[0m)                      │ (\u001b[38;5;45mNone\u001b[0m, \u001b[38;5;34m6\u001b[0m)                   │             \u001b[38;5;34m774\u001b[0m │\n",
       "└──────────────────────────────────────┴─────────────────────────────┴─────────────────┘\n"
      ]
     },
     "metadata": {},
     "output_type": "display_data"
    },
    {
     "data": {
      "text/html": [
       "<pre style=\"white-space:pre;overflow-x:auto;line-height:normal;font-family:Menlo,'DejaVu Sans Mono',consolas,'Courier New',monospace\"><span style=\"font-weight: bold\"> Total params: </span><span style=\"color: #00af00; text-decoration-color: #00af00\">507,668</span> (1.94 MB)\n",
       "</pre>\n"
      ],
      "text/plain": [
       "\u001b[1m Total params: \u001b[0m\u001b[38;5;34m507,668\u001b[0m (1.94 MB)\n"
      ]
     },
     "metadata": {},
     "output_type": "display_data"
    },
    {
     "data": {
      "text/html": [
       "<pre style=\"white-space:pre;overflow-x:auto;line-height:normal;font-family:Menlo,'DejaVu Sans Mono',consolas,'Courier New',monospace\"><span style=\"font-weight: bold\"> Trainable params: </span><span style=\"color: #00af00; text-decoration-color: #00af00\">169,222</span> (661.02 KB)\n",
       "</pre>\n"
      ],
      "text/plain": [
       "\u001b[1m Trainable params: \u001b[0m\u001b[38;5;34m169,222\u001b[0m (661.02 KB)\n"
      ]
     },
     "metadata": {},
     "output_type": "display_data"
    },
    {
     "data": {
      "text/html": [
       "<pre style=\"white-space:pre;overflow-x:auto;line-height:normal;font-family:Menlo,'DejaVu Sans Mono',consolas,'Courier New',monospace\"><span style=\"font-weight: bold\"> Non-trainable params: </span><span style=\"color: #00af00; text-decoration-color: #00af00\">0</span> (0.00 B)\n",
       "</pre>\n"
      ],
      "text/plain": [
       "\u001b[1m Non-trainable params: \u001b[0m\u001b[38;5;34m0\u001b[0m (0.00 B)\n"
      ]
     },
     "metadata": {},
     "output_type": "display_data"
    },
    {
     "data": {
      "text/html": [
       "<pre style=\"white-space:pre;overflow-x:auto;line-height:normal;font-family:Menlo,'DejaVu Sans Mono',consolas,'Courier New',monospace\"><span style=\"font-weight: bold\"> Optimizer params: </span><span style=\"color: #00af00; text-decoration-color: #00af00\">338,446</span> (1.29 MB)\n",
       "</pre>\n"
      ],
      "text/plain": [
       "\u001b[1m Optimizer params: \u001b[0m\u001b[38;5;34m338,446\u001b[0m (1.29 MB)\n"
      ]
     },
     "metadata": {},
     "output_type": "display_data"
    }
   ],
   "source": [
    "gru_model.summary()"
   ]
  },
  {
   "cell_type": "code",
   "execution_count": null,
   "id": "e243eb25-261e-456a-b67d-cf7425343de2",
   "metadata": {},
   "outputs": [],
   "source": []
  }
 ],
 "metadata": {
  "kernelspec": {
   "display_name": "Python 3 (ipykernel)",
   "language": "python",
   "name": "python3"
  },
  "language_info": {
   "codemirror_mode": {
    "name": "ipython",
    "version": 3
   },
   "file_extension": ".py",
   "mimetype": "text/x-python",
   "name": "python",
   "nbconvert_exporter": "python",
   "pygments_lexer": "ipython3",
   "version": "3.12.2"
  }
 },
 "nbformat": 4,
 "nbformat_minor": 5
}
