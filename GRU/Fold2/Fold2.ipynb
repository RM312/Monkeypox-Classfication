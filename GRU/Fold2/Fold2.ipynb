{
 "cells": [
  {
   "cell_type": "code",
   "execution_count": 1,
   "id": "f1dca836-e344-4969-8907-46d51d78af27",
   "metadata": {},
   "outputs": [],
   "source": [
    "import tensorflow as tf\n",
    "from tensorflow.keras.preprocessing.image import ImageDataGenerator\n",
    "import matplotlib.pyplot as plt"
   ]
  },
  {
   "cell_type": "code",
   "execution_count": 2,
   "id": "e03c8df7-c7d7-4e40-8fab-0a23037a5894",
   "metadata": {},
   "outputs": [
    {
     "name": "stdout",
     "output_type": "stream",
     "text": [
      "Found 7126 images belonging to 6 classes.\n"
     ]
    }
   ],
   "source": [
    "# Data Augmentation for Training\n",
    "train_datagen = ImageDataGenerator(rescale=1./255,\n",
    "                                   shear_range=0.2,\n",
    "                                   zoom_range=0.2,\n",
    "                                   horizontal_flip=True)\n",
    "training_set = train_datagen.flow_from_directory(\n",
    "    \"Monkeypox/archive (60)/Augmented Images/Augmented Images/FOLDS_AUG/fold2_AUG/Train/\",\n",
    "    target_size=(64, 64),\n",
    "    batch_size=32,\n",
    "    class_mode='categorical',  # Use 'categorical' for one-hot encoded labels\n",
    ")"
   ]
  },
  {
   "cell_type": "code",
   "execution_count": 3,
   "id": "d8aa8ed7-9f9e-4ed3-ab21-72dc91b6a6c4",
   "metadata": {},
   "outputs": [
    {
     "name": "stdout",
     "output_type": "stream",
     "text": [
      "Found 7126 images belonging to 6 classes.\n"
     ]
    }
   ],
   "source": [
    "test_datagen = ImageDataGenerator(rescale=1./255)\n",
    "validation_set = test_datagen.flow_from_directory(\n",
    "    \"Monkeypox/archive (60)/Augmented Images/Augmented Images/FOLDS_AUG/fold2_AUG/Train/\",\n",
    "    target_size=(64, 64),\n",
    "    batch_size=32,\n",
    "    class_mode='categorical',  # Use 'categorical' for one-hot encoded labels\n",
    ")"
   ]
  },
  {
   "cell_type": "code",
   "execution_count": 4,
   "id": "f8072c9e-ed96-4456-bb92-8ee527b224aa",
   "metadata": {},
   "outputs": [],
   "source": [
    "# Custom F1 Score Metric\n",
    "class F1Score(tf.keras.metrics.Metric):\n",
    "    def __init__(self, name='f1_score', **kwargs):\n",
    "        super(F1Score, self).__init__(name=name, **kwargs)\n",
    "        self.precision = tf.keras.metrics.Precision()\n",
    "        self.recall = tf.keras.metrics.Recall()\n",
    "\n",
    "    def update_state(self, y_true, y_pred, sample_weight=None):\n",
    "        # Update the precision and recall for each batch\n",
    "        self.precision.update_state(y_true, y_pred, sample_weight)\n",
    "        self.recall.update_state(y_true, y_pred, sample_weight)\n",
    "\n",
    "    def result(self):\n",
    "        # Calculate F1 score as the harmonic mean of precision and recall\n",
    "        precision = self.precision.result()\n",
    "        recall = self.recall.result()\n",
    "        return 2 * (precision * recall) / (precision + recall + tf.keras.backend.epsilon())\n",
    "\n",
    "    def reset_states(self):\n",
    "        self.precision.reset_states()\n",
    "        self.recall.reset_states()\n"
   ]
  },
  {
   "cell_type": "code",
   "execution_count": 5,
   "id": "3a2c50c5-eb3d-47ab-b376-df6c8e38a49f",
   "metadata": {},
   "outputs": [],
   "source": [
    "# Build the GRU Model\n",
    "gru_model = tf.keras.models.Sequential()"
   ]
  },
  {
   "cell_type": "code",
   "execution_count": 6,
   "id": "cabc9c34-4037-47ff-838f-72ca81765233",
   "metadata": {},
   "outputs": [
    {
     "name": "stderr",
     "output_type": "stream",
     "text": [
      "C:\\Users\\KIIT\\AppData\\Local\\Programs\\Python\\Python312\\Lib\\site-packages\\keras\\src\\layers\\reshaping\\flatten.py:37: UserWarning: Do not pass an `input_shape`/`input_dim` argument to a layer. When using Sequential models, prefer using an `Input(shape)` object as the first layer in the model instead.\n",
      "  super().__init__(**kwargs)\n"
     ]
    }
   ],
   "source": [
    "# Flatten and Reshape for GRU\n",
    "gru_model.add(tf.keras.layers.Flatten(input_shape=(64, 64, 3)))\n",
    "gru_model.add(tf.keras.layers.Reshape((16, -1)))  # Reshape to (time_steps, features)"
   ]
  },
  {
   "cell_type": "code",
   "execution_count": 7,
   "id": "b5f45a11-0a7c-49a5-acc4-5f5654604dd1",
   "metadata": {},
   "outputs": [],
   "source": [
    "# GRU Layer\n",
    "gru_model.add(tf.keras.layers.GRU(units=64, activation='tanh', return_sequences=False))"
   ]
  },
  {
   "cell_type": "code",
   "execution_count": 8,
   "id": "3ffd0d88-c336-4218-930c-62987caed911",
   "metadata": {},
   "outputs": [],
   "source": [
    "# Fully Connected Layers\n",
    "gru_model.add(tf.keras.layers.Dense(units=128, activation='relu'))\n",
    "gru_model.add(tf.keras.layers.Dense(6, activation='softmax'))  # 6 classes"
   ]
  },
  {
   "cell_type": "code",
   "execution_count": 9,
   "id": "6550cc01-58b6-4fd2-a184-2ecc50203db5",
   "metadata": {},
   "outputs": [],
   "source": [
    "# Compile the model with Precision, Recall, and F1 Score\n",
    "gru_model.compile(\n",
    "    optimizer='adam',\n",
    "    loss='categorical_crossentropy',  # Use categorical_crossentropy for one-hot encoded labels\n",
    "    metrics=[\n",
    "        'accuracy',\n",
    "        tf.keras.metrics.Precision(name='precision'),\n",
    "        tf.keras.metrics.Recall(name='recall'),\n",
    "        F1Score(name='f1_score')  # Add custom F1 score metric\n",
    "    ]\n",
    ")"
   ]
  },
  {
   "cell_type": "code",
   "execution_count": 10,
   "id": "7df24b5d-b2fa-469e-8374-7160ea7d1a3c",
   "metadata": {},
   "outputs": [
    {
     "name": "stderr",
     "output_type": "stream",
     "text": [
      "C:\\Users\\KIIT\\AppData\\Local\\Programs\\Python\\Python312\\Lib\\site-packages\\keras\\src\\trainers\\data_adapters\\py_dataset_adapter.py:121: UserWarning: Your `PyDataset` class should call `super().__init__(**kwargs)` in its constructor. `**kwargs` can include `workers`, `use_multiprocessing`, `max_queue_size`. Do not pass these arguments to `fit()`, as they will be ignored.\n",
      "  self._warn_if_super_not_called()\n"
     ]
    },
    {
     "name": "stdout",
     "output_type": "stream",
     "text": [
      "Epoch 1/100\n",
      "\u001b[1m223/223\u001b[0m \u001b[32m━━━━━━━━━━━━━━━━━━━━\u001b[0m\u001b[37m\u001b[0m \u001b[1m0s\u001b[0m 122ms/step - accuracy: 0.3463 - f1_score: 0.0668 - loss: 1.6511 - precision: 0.4964 - recall: 0.0359"
     ]
    },
    {
     "name": "stderr",
     "output_type": "stream",
     "text": [
      "C:\\Users\\KIIT\\AppData\\Local\\Programs\\Python\\Python312\\Lib\\site-packages\\keras\\src\\trainers\\data_adapters\\py_dataset_adapter.py:121: UserWarning: Your `PyDataset` class should call `super().__init__(**kwargs)` in its constructor. `**kwargs` can include `workers`, `use_multiprocessing`, `max_queue_size`. Do not pass these arguments to `fit()`, as they will be ignored.\n",
      "  self._warn_if_super_not_called()\n"
     ]
    },
    {
     "name": "stdout",
     "output_type": "stream",
     "text": [
      "\u001b[1m223/223\u001b[0m \u001b[32m━━━━━━━━━━━━━━━━━━━━\u001b[0m\u001b[37m\u001b[0m \u001b[1m45s\u001b[0m 173ms/step - accuracy: 0.3463 - f1_score: 0.0669 - loss: 1.6509 - precision: 0.4968 - recall: 0.0359 - val_accuracy: 0.3795 - val_f1_score: 0.0502 - val_loss: 1.5779 - val_precision: 0.7613 - val_recall: 0.0260\n",
      "Epoch 2/100\n",
      "\u001b[1m223/223\u001b[0m \u001b[32m━━━━━━━━━━━━━━━━━━━━\u001b[0m\u001b[37m\u001b[0m \u001b[1m19s\u001b[0m 86ms/step - accuracy: 0.3752 - f1_score: 0.1306 - loss: 1.5698 - precision: 0.5957 - recall: 0.0736 - val_accuracy: 0.3751 - val_f1_score: 0.2279 - val_loss: 1.5260 - val_precision: 0.5743 - val_recall: 0.1422\n",
      "Epoch 3/100\n",
      "\u001b[1m223/223\u001b[0m \u001b[32m━━━━━━━━━━━━━━━━━━━━\u001b[0m\u001b[37m\u001b[0m \u001b[1m17s\u001b[0m 78ms/step - accuracy: 0.3771 - f1_score: 0.1529 - loss: 1.5256 - precision: 0.6413 - recall: 0.0870 - val_accuracy: 0.4119 - val_f1_score: 0.2214 - val_loss: 1.4693 - val_precision: 0.6151 - val_recall: 0.1350\n",
      "Epoch 4/100\n",
      "\u001b[1m223/223\u001b[0m \u001b[32m━━━━━━━━━━━━━━━━━━━━\u001b[0m\u001b[37m\u001b[0m \u001b[1m17s\u001b[0m 78ms/step - accuracy: 0.4115 - f1_score: 0.1940 - loss: 1.4665 - precision: 0.6302 - recall: 0.1148 - val_accuracy: 0.4148 - val_f1_score: 0.2523 - val_loss: 1.4735 - val_precision: 0.6416 - val_recall: 0.1570\n",
      "Epoch 5/100\n",
      "\u001b[1m223/223\u001b[0m \u001b[32m━━━━━━━━━━━━━━━━━━━━\u001b[0m\u001b[37m\u001b[0m \u001b[1m20s\u001b[0m 89ms/step - accuracy: 0.4226 - f1_score: 0.2424 - loss: 1.4431 - precision: 0.6542 - recall: 0.1489 - val_accuracy: 0.4544 - val_f1_score: 0.2328 - val_loss: 1.3854 - val_precision: 0.6636 - val_recall: 0.1412\n",
      "Epoch 6/100\n",
      "\u001b[1m223/223\u001b[0m \u001b[32m━━━━━━━━━━━━━━━━━━━━\u001b[0m\u001b[37m\u001b[0m \u001b[1m19s\u001b[0m 87ms/step - accuracy: 0.4523 - f1_score: 0.2652 - loss: 1.3826 - precision: 0.6624 - recall: 0.1660 - val_accuracy: 0.4517 - val_f1_score: 0.3583 - val_loss: 1.3625 - val_precision: 0.5619 - val_recall: 0.2630\n",
      "Epoch 7/100\n",
      "\u001b[1m223/223\u001b[0m \u001b[32m━━━━━━━━━━━━━━━━━━━━\u001b[0m\u001b[37m\u001b[0m \u001b[1m18s\u001b[0m 80ms/step - accuracy: 0.4519 - f1_score: 0.2954 - loss: 1.3669 - precision: 0.6404 - recall: 0.1926 - val_accuracy: 0.4775 - val_f1_score: 0.2975 - val_loss: 1.3375 - val_precision: 0.7264 - val_recall: 0.1871\n",
      "Epoch 8/100\n",
      "\u001b[1m223/223\u001b[0m \u001b[32m━━━━━━━━━━━━━━━━━━━━\u001b[0m\u001b[37m\u001b[0m \u001b[1m18s\u001b[0m 83ms/step - accuracy: 0.4674 - f1_score: 0.3143 - loss: 1.3352 - precision: 0.6767 - recall: 0.2049 - val_accuracy: 0.4877 - val_f1_score: 0.3189 - val_loss: 1.2936 - val_precision: 0.7245 - val_recall: 0.2045\n",
      "Epoch 9/100\n",
      "\u001b[1m223/223\u001b[0m \u001b[32m━━━━━━━━━━━━━━━━━━━━\u001b[0m\u001b[37m\u001b[0m \u001b[1m19s\u001b[0m 84ms/step - accuracy: 0.5026 - f1_score: 0.3495 - loss: 1.2908 - precision: 0.6764 - recall: 0.2358 - val_accuracy: 0.5338 - val_f1_score: 0.4005 - val_loss: 1.2278 - val_precision: 0.7122 - val_recall: 0.2786\n",
      "Epoch 10/100\n",
      "\u001b[1m223/223\u001b[0m \u001b[32m━━━━━━━━━━━━━━━━━━━━\u001b[0m\u001b[37m\u001b[0m \u001b[1m19s\u001b[0m 83ms/step - accuracy: 0.4954 - f1_score: 0.3825 - loss: 1.2625 - precision: 0.6765 - recall: 0.2667 - val_accuracy: 0.5185 - val_f1_score: 0.3851 - val_loss: 1.2251 - val_precision: 0.7285 - val_recall: 0.2617\n",
      "Epoch 11/100\n",
      "\u001b[1m223/223\u001b[0m \u001b[32m━━━━━━━━━━━━━━━━━━━━\u001b[0m\u001b[37m\u001b[0m \u001b[1m19s\u001b[0m 86ms/step - accuracy: 0.5184 - f1_score: 0.3949 - loss: 1.2298 - precision: 0.6952 - recall: 0.2762 - val_accuracy: 0.5438 - val_f1_score: 0.4262 - val_loss: 1.1678 - val_precision: 0.7493 - val_recall: 0.2978\n",
      "Epoch 12/100\n",
      "\u001b[1m223/223\u001b[0m \u001b[32m━━━━━━━━━━━━━━━━━━━━\u001b[0m\u001b[37m\u001b[0m \u001b[1m19s\u001b[0m 87ms/step - accuracy: 0.5176 - f1_score: 0.3984 - loss: 1.2323 - precision: 0.6594 - recall: 0.2856 - val_accuracy: 0.5497 - val_f1_score: 0.4506 - val_loss: 1.1483 - val_precision: 0.7426 - val_recall: 0.3235\n",
      "Epoch 13/100\n",
      "\u001b[1m223/223\u001b[0m \u001b[32m━━━━━━━━━━━━━━━━━━━━\u001b[0m\u001b[37m\u001b[0m \u001b[1m21s\u001b[0m 94ms/step - accuracy: 0.5252 - f1_score: 0.4149 - loss: 1.2153 - precision: 0.6920 - recall: 0.2964 - val_accuracy: 0.5567 - val_f1_score: 0.4403 - val_loss: 1.1403 - val_precision: 0.7401 - val_recall: 0.3134\n",
      "Epoch 14/100\n",
      "\u001b[1m223/223\u001b[0m \u001b[32m━━━━━━━━━━━━━━━━━━━━\u001b[0m\u001b[37m\u001b[0m \u001b[1m22s\u001b[0m 97ms/step - accuracy: 0.5296 - f1_score: 0.4360 - loss: 1.1955 - precision: 0.7077 - recall: 0.3152 - val_accuracy: 0.5723 - val_f1_score: 0.5043 - val_loss: 1.1021 - val_precision: 0.7299 - val_recall: 0.3852\n",
      "Epoch 15/100\n",
      "\u001b[1m223/223\u001b[0m \u001b[32m━━━━━━━━━━━━━━━━━━━━\u001b[0m\u001b[37m\u001b[0m \u001b[1m21s\u001b[0m 93ms/step - accuracy: 0.5489 - f1_score: 0.4732 - loss: 1.1469 - precision: 0.7170 - recall: 0.3533 - val_accuracy: 0.5902 - val_f1_score: 0.5303 - val_loss: 1.0833 - val_precision: 0.7193 - val_recall: 0.4200\n",
      "Epoch 16/100\n",
      "\u001b[1m223/223\u001b[0m \u001b[32m━━━━━━━━━━━━━━━━━━━━\u001b[0m\u001b[37m\u001b[0m \u001b[1m40s\u001b[0m 179ms/step - accuracy: 0.5568 - f1_score: 0.4986 - loss: 1.1288 - precision: 0.7036 - recall: 0.3863 - val_accuracy: 0.5835 - val_f1_score: 0.4850 - val_loss: 1.0801 - val_precision: 0.7766 - val_recall: 0.3527\n",
      "Epoch 17/100\n",
      "\u001b[1m223/223\u001b[0m \u001b[32m━━━━━━━━━━━━━━━━━━━━\u001b[0m\u001b[37m\u001b[0m \u001b[1m39s\u001b[0m 176ms/step - accuracy: 0.5578 - f1_score: 0.4844 - loss: 1.1288 - precision: 0.7125 - recall: 0.3671 - val_accuracy: 0.5853 - val_f1_score: 0.5407 - val_loss: 1.0675 - val_precision: 0.7380 - val_recall: 0.4266\n",
      "Epoch 18/100\n",
      "\u001b[1m223/223\u001b[0m \u001b[32m━━━━━━━━━━━━━━━━━━━━\u001b[0m\u001b[37m\u001b[0m \u001b[1m24s\u001b[0m 107ms/step - accuracy: 0.5707 - f1_score: 0.5124 - loss: 1.0873 - precision: 0.7298 - recall: 0.3948 - val_accuracy: 0.6131 - val_f1_score: 0.5465 - val_loss: 1.0005 - val_precision: 0.7835 - val_recall: 0.4196\n",
      "Epoch 19/100\n",
      "\u001b[1m223/223\u001b[0m \u001b[32m━━━━━━━━━━━━━━━━━━━━\u001b[0m\u001b[37m\u001b[0m \u001b[1m15s\u001b[0m 68ms/step - accuracy: 0.5849 - f1_score: 0.5274 - loss: 1.0691 - precision: 0.7441 - recall: 0.4086 - val_accuracy: 0.5984 - val_f1_score: 0.5460 - val_loss: 1.0185 - val_precision: 0.7570 - val_recall: 0.4270\n",
      "Epoch 20/100\n",
      "\u001b[1m223/223\u001b[0m \u001b[32m━━━━━━━━━━━━━━━━━━━━\u001b[0m\u001b[37m\u001b[0m \u001b[1m15s\u001b[0m 68ms/step - accuracy: 0.5893 - f1_score: 0.5236 - loss: 1.0694 - precision: 0.7326 - recall: 0.4074 - val_accuracy: 0.6069 - val_f1_score: 0.5812 - val_loss: 1.0009 - val_precision: 0.7477 - val_recall: 0.4753\n",
      "Epoch 21/100\n",
      "\u001b[1m223/223\u001b[0m \u001b[32m━━━━━━━━━━━━━━━━━━━━\u001b[0m\u001b[37m\u001b[0m \u001b[1m16s\u001b[0m 70ms/step - accuracy: 0.5986 - f1_score: 0.5454 - loss: 1.0281 - precision: 0.7386 - recall: 0.4324 - val_accuracy: 0.6267 - val_f1_score: 0.5692 - val_loss: 0.9726 - val_precision: 0.7858 - val_recall: 0.4463\n",
      "Epoch 22/100\n",
      "\u001b[1m223/223\u001b[0m \u001b[32m━━━━━━━━━━━━━━━━━━━━\u001b[0m\u001b[37m\u001b[0m \u001b[1m19s\u001b[0m 87ms/step - accuracy: 0.5961 - f1_score: 0.5454 - loss: 1.0189 - precision: 0.7391 - recall: 0.4324 - val_accuracy: 0.6423 - val_f1_score: 0.5894 - val_loss: 0.9321 - val_precision: 0.7902 - val_recall: 0.4700\n",
      "Epoch 23/100\n",
      "\u001b[1m223/223\u001b[0m \u001b[32m━━━━━━━━━━━━━━━━━━━━\u001b[0m\u001b[37m\u001b[0m \u001b[1m30s\u001b[0m 136ms/step - accuracy: 0.6241 - f1_score: 0.5722 - loss: 0.9919 - precision: 0.7587 - recall: 0.4594 - val_accuracy: 0.6485 - val_f1_score: 0.6087 - val_loss: 0.9216 - val_precision: 0.7657 - val_recall: 0.5051\n",
      "Epoch 24/100\n",
      "\u001b[1m223/223\u001b[0m \u001b[32m━━━━━━━━━━━━━━━━━━━━\u001b[0m\u001b[37m\u001b[0m \u001b[1m43s\u001b[0m 193ms/step - accuracy: 0.6248 - f1_score: 0.5738 - loss: 0.9898 - precision: 0.7491 - recall: 0.4650 - val_accuracy: 0.6520 - val_f1_score: 0.5898 - val_loss: 0.9143 - val_precision: 0.7959 - val_recall: 0.4684\n",
      "Epoch 25/100\n",
      "\u001b[1m223/223\u001b[0m \u001b[32m━━━━━━━━━━━━━━━━━━━━\u001b[0m\u001b[37m\u001b[0m \u001b[1m57s\u001b[0m 256ms/step - accuracy: 0.6267 - f1_score: 0.5840 - loss: 0.9750 - precision: 0.7667 - recall: 0.4716 - val_accuracy: 0.6399 - val_f1_score: 0.6003 - val_loss: 0.9079 - val_precision: 0.7772 - val_recall: 0.4891\n",
      "Epoch 26/100\n",
      "\u001b[1m223/223\u001b[0m \u001b[32m━━━━━━━━━━━━━━━━━━━━\u001b[0m\u001b[37m\u001b[0m \u001b[1m62s\u001b[0m 276ms/step - accuracy: 0.6228 - f1_score: 0.5855 - loss: 0.9522 - precision: 0.7496 - recall: 0.4805 - val_accuracy: 0.6537 - val_f1_score: 0.6383 - val_loss: 0.8977 - val_precision: 0.7686 - val_recall: 0.5457\n",
      "Epoch 27/100\n",
      "\u001b[1m223/223\u001b[0m \u001b[32m━━━━━━━━━━━━━━━━━━━━\u001b[0m\u001b[37m\u001b[0m \u001b[1m76s\u001b[0m 341ms/step - accuracy: 0.6348 - f1_score: 0.5974 - loss: 0.9528 - precision: 0.7515 - recall: 0.4959 - val_accuracy: 0.6704 - val_f1_score: 0.6206 - val_loss: 0.8800 - val_precision: 0.8057 - val_recall: 0.5046\n",
      "Epoch 28/100\n",
      "\u001b[1m223/223\u001b[0m \u001b[32m━━━━━━━━━━━━━━━━━━━━\u001b[0m\u001b[37m\u001b[0m \u001b[1m81s\u001b[0m 365ms/step - accuracy: 0.6470 - f1_score: 0.6077 - loss: 0.9285 - precision: 0.7743 - recall: 0.5002 - val_accuracy: 0.6549 - val_f1_score: 0.6273 - val_loss: 0.9191 - val_precision: 0.7511 - val_recall: 0.5386\n",
      "Epoch 29/100\n",
      "\u001b[1m223/223\u001b[0m \u001b[32m━━━━━━━━━━━━━━━━━━━━\u001b[0m\u001b[37m\u001b[0m \u001b[1m88s\u001b[0m 393ms/step - accuracy: 0.6391 - f1_score: 0.6045 - loss: 0.9430 - precision: 0.7530 - recall: 0.5050 - val_accuracy: 0.6720 - val_f1_score: 0.6269 - val_loss: 0.8798 - val_precision: 0.8019 - val_recall: 0.5146\n",
      "Epoch 30/100\n",
      "\u001b[1m223/223\u001b[0m \u001b[32m━━━━━━━━━━━━━━━━━━━━\u001b[0m\u001b[37m\u001b[0m \u001b[1m74s\u001b[0m 331ms/step - accuracy: 0.6468 - f1_score: 0.6165 - loss: 0.9156 - precision: 0.7677 - recall: 0.5152 - val_accuracy: 0.6889 - val_f1_score: 0.6540 - val_loss: 0.8208 - val_precision: 0.8200 - val_recall: 0.5439\n",
      "Epoch 31/100\n",
      "\u001b[1m223/223\u001b[0m \u001b[32m━━━━━━━━━━━━━━━━━━━━\u001b[0m\u001b[37m\u001b[0m \u001b[1m72s\u001b[0m 322ms/step - accuracy: 0.6637 - f1_score: 0.6277 - loss: 0.8920 - precision: 0.7854 - recall: 0.5228 - val_accuracy: 0.6918 - val_f1_score: 0.6491 - val_loss: 0.8337 - val_precision: 0.8211 - val_recall: 0.5366\n",
      "Epoch 32/100\n",
      "\u001b[1m223/223\u001b[0m \u001b[32m━━━━━━━━━━━━━━━━━━━━\u001b[0m\u001b[37m\u001b[0m \u001b[1m75s\u001b[0m 337ms/step - accuracy: 0.6562 - f1_score: 0.6276 - loss: 0.8839 - precision: 0.7754 - recall: 0.5272 - val_accuracy: 0.7003 - val_f1_score: 0.6716 - val_loss: 0.7973 - val_precision: 0.8331 - val_recall: 0.5626\n",
      "Epoch 33/100\n",
      "\u001b[1m223/223\u001b[0m \u001b[32m━━━━━━━━━━━━━━━━━━━━\u001b[0m\u001b[37m\u001b[0m \u001b[1m75s\u001b[0m 338ms/step - accuracy: 0.6779 - f1_score: 0.6447 - loss: 0.8527 - precision: 0.7968 - recall: 0.5416 - val_accuracy: 0.6960 - val_f1_score: 0.6725 - val_loss: 0.7903 - val_precision: 0.8106 - val_recall: 0.5747\n",
      "Epoch 34/100\n",
      "\u001b[1m223/223\u001b[0m \u001b[32m━━━━━━━━━━━━━━━━━━━━\u001b[0m\u001b[37m\u001b[0m \u001b[1m73s\u001b[0m 326ms/step - accuracy: 0.6766 - f1_score: 0.6459 - loss: 0.8511 - precision: 0.7781 - recall: 0.5523 - val_accuracy: 0.7182 - val_f1_score: 0.6737 - val_loss: 0.7857 - val_precision: 0.8416 - val_recall: 0.5616\n",
      "Epoch 35/100\n",
      "\u001b[1m223/223\u001b[0m \u001b[32m━━━━━━━━━━━━━━━━━━━━\u001b[0m\u001b[37m\u001b[0m \u001b[1m73s\u001b[0m 326ms/step - accuracy: 0.6766 - f1_score: 0.6448 - loss: 0.8592 - precision: 0.7880 - recall: 0.5458 - val_accuracy: 0.7195 - val_f1_score: 0.6940 - val_loss: 0.7459 - val_precision: 0.8188 - val_recall: 0.6023\n",
      "Epoch 36/100\n",
      "\u001b[1m223/223\u001b[0m \u001b[32m━━━━━━━━━━━━━━━━━━━━\u001b[0m\u001b[37m\u001b[0m \u001b[1m59s\u001b[0m 263ms/step - accuracy: 0.6784 - f1_score: 0.6500 - loss: 0.8580 - precision: 0.7823 - recall: 0.5561 - val_accuracy: 0.7112 - val_f1_score: 0.6827 - val_loss: 0.7596 - val_precision: 0.8202 - val_recall: 0.5846\n",
      "Epoch 37/100\n",
      "\u001b[1m223/223\u001b[0m \u001b[32m━━━━━━━━━━━━━━━━━━━━\u001b[0m\u001b[37m\u001b[0m \u001b[1m78s\u001b[0m 352ms/step - accuracy: 0.6874 - f1_score: 0.6649 - loss: 0.8306 - precision: 0.7989 - recall: 0.5695 - val_accuracy: 0.7188 - val_f1_score: 0.7009 - val_loss: 0.7514 - val_precision: 0.8100 - val_recall: 0.6176\n",
      "Epoch 38/100\n",
      "\u001b[1m223/223\u001b[0m \u001b[32m━━━━━━━━━━━━━━━━━━━━\u001b[0m\u001b[37m\u001b[0m \u001b[1m81s\u001b[0m 364ms/step - accuracy: 0.6846 - f1_score: 0.6605 - loss: 0.8195 - precision: 0.7793 - recall: 0.5733 - val_accuracy: 0.7189 - val_f1_score: 0.7064 - val_loss: 0.7480 - val_precision: 0.8132 - val_recall: 0.6243\n",
      "Epoch 39/100\n",
      "\u001b[1m223/223\u001b[0m \u001b[32m━━━━━━━━━━━━━━━━━━━━\u001b[0m\u001b[37m\u001b[0m \u001b[1m71s\u001b[0m 320ms/step - accuracy: 0.6904 - f1_score: 0.6678 - loss: 0.8209 - precision: 0.7992 - recall: 0.5736 - val_accuracy: 0.7272 - val_f1_score: 0.7032 - val_loss: 0.7261 - val_precision: 0.8291 - val_recall: 0.6106\n",
      "Epoch 40/100\n",
      "\u001b[1m223/223\u001b[0m \u001b[32m━━━━━━━━━━━━━━━━━━━━\u001b[0m\u001b[37m\u001b[0m \u001b[1m71s\u001b[0m 316ms/step - accuracy: 0.6896 - f1_score: 0.6674 - loss: 0.8084 - precision: 0.7898 - recall: 0.5780 - val_accuracy: 0.7359 - val_f1_score: 0.7140 - val_loss: 0.7130 - val_precision: 0.8360 - val_recall: 0.6231\n",
      "Epoch 41/100\n",
      "\u001b[1m223/223\u001b[0m \u001b[32m━━━━━━━━━━━━━━━━━━━━\u001b[0m\u001b[37m\u001b[0m \u001b[1m76s\u001b[0m 342ms/step - accuracy: 0.6894 - f1_score: 0.6683 - loss: 0.8080 - precision: 0.7914 - recall: 0.5784 - val_accuracy: 0.7337 - val_f1_score: 0.7182 - val_loss: 0.7220 - val_precision: 0.8214 - val_recall: 0.6381\n",
      "Epoch 42/100\n",
      "\u001b[1m223/223\u001b[0m \u001b[32m━━━━━━━━━━━━━━━━━━━━\u001b[0m\u001b[37m\u001b[0m \u001b[1m85s\u001b[0m 380ms/step - accuracy: 0.7029 - f1_score: 0.6865 - loss: 0.7779 - precision: 0.8029 - recall: 0.5996 - val_accuracy: 0.7337 - val_f1_score: 0.7133 - val_loss: 0.7223 - val_precision: 0.8344 - val_recall: 0.6229\n",
      "Epoch 43/100\n",
      "\u001b[1m223/223\u001b[0m \u001b[32m━━━━━━━━━━━━━━━━━━━━\u001b[0m\u001b[37m\u001b[0m \u001b[1m84s\u001b[0m 378ms/step - accuracy: 0.6932 - f1_score: 0.6678 - loss: 0.7900 - precision: 0.7902 - recall: 0.5783 - val_accuracy: 0.7449 - val_f1_score: 0.7274 - val_loss: 0.6885 - val_precision: 0.8545 - val_recall: 0.6332\n",
      "Epoch 44/100\n",
      "\u001b[1m223/223\u001b[0m \u001b[32m━━━━━━━━━━━━━━━━━━━━\u001b[0m\u001b[37m\u001b[0m \u001b[1m59s\u001b[0m 264ms/step - accuracy: 0.7073 - f1_score: 0.6869 - loss: 0.7788 - precision: 0.8012 - recall: 0.6012 - val_accuracy: 0.7377 - val_f1_score: 0.7234 - val_loss: 0.6985 - val_precision: 0.8421 - val_recall: 0.6340\n",
      "Epoch 45/100\n",
      "\u001b[1m223/223\u001b[0m \u001b[32m━━━━━━━━━━━━━━━━━━━━\u001b[0m\u001b[37m\u001b[0m \u001b[1m45s\u001b[0m 200ms/step - accuracy: 0.7028 - f1_score: 0.6828 - loss: 0.7754 - precision: 0.7924 - recall: 0.5999 - val_accuracy: 0.7480 - val_f1_score: 0.7300 - val_loss: 0.6991 - val_precision: 0.8420 - val_recall: 0.6444\n",
      "Epoch 46/100\n",
      "\u001b[1m223/223\u001b[0m \u001b[32m━━━━━━━━━━━━━━━━━━━━\u001b[0m\u001b[37m\u001b[0m \u001b[1m38s\u001b[0m 170ms/step - accuracy: 0.7193 - f1_score: 0.7053 - loss: 0.7585 - precision: 0.8184 - recall: 0.6197 - val_accuracy: 0.7533 - val_f1_score: 0.7315 - val_loss: 0.6753 - val_precision: 0.8482 - val_recall: 0.6430\n",
      "Epoch 47/100\n",
      "\u001b[1m223/223\u001b[0m \u001b[32m━━━━━━━━━━━━━━━━━━━━\u001b[0m\u001b[37m\u001b[0m \u001b[1m38s\u001b[0m 171ms/step - accuracy: 0.7332 - f1_score: 0.7108 - loss: 0.7288 - precision: 0.8181 - recall: 0.6284 - val_accuracy: 0.7235 - val_f1_score: 0.7122 - val_loss: 0.7323 - val_precision: 0.8231 - val_recall: 0.6276\n",
      "Epoch 48/100\n",
      "\u001b[1m223/223\u001b[0m \u001b[32m━━━━━━━━━━━━━━━━━━━━\u001b[0m\u001b[37m\u001b[0m \u001b[1m34s\u001b[0m 150ms/step - accuracy: 0.7195 - f1_score: 0.7022 - loss: 0.7617 - precision: 0.8191 - recall: 0.6146 - val_accuracy: 0.7470 - val_f1_score: 0.7358 - val_loss: 0.6809 - val_precision: 0.8393 - val_recall: 0.6551\n",
      "Epoch 49/100\n",
      "\u001b[1m223/223\u001b[0m \u001b[32m━━━━━━━━━━━━━━━━━━━━\u001b[0m\u001b[37m\u001b[0m \u001b[1m37s\u001b[0m 167ms/step - accuracy: 0.7285 - f1_score: 0.7122 - loss: 0.7353 - precision: 0.8194 - recall: 0.6299 - val_accuracy: 0.7390 - val_f1_score: 0.7162 - val_loss: 0.6940 - val_precision: 0.8366 - val_recall: 0.6260\n",
      "Epoch 50/100\n",
      "\u001b[1m223/223\u001b[0m \u001b[32m━━━━━━━━━━━━━━━━━━━━\u001b[0m\u001b[37m\u001b[0m \u001b[1m42s\u001b[0m 188ms/step - accuracy: 0.7234 - f1_score: 0.7084 - loss: 0.7409 - precision: 0.8135 - recall: 0.6275 - val_accuracy: 0.7701 - val_f1_score: 0.7536 - val_loss: 0.6241 - val_precision: 0.8514 - val_recall: 0.6760\n",
      "Epoch 51/100\n",
      "\u001b[1m223/223\u001b[0m \u001b[32m━━━━━━━━━━━━━━━━━━━━\u001b[0m\u001b[37m\u001b[0m \u001b[1m53s\u001b[0m 237ms/step - accuracy: 0.7284 - f1_score: 0.7107 - loss: 0.7414 - precision: 0.8030 - recall: 0.6376 - val_accuracy: 0.7599 - val_f1_score: 0.7428 - val_loss: 0.6541 - val_precision: 0.8491 - val_recall: 0.6601\n",
      "Epoch 52/100\n",
      "\u001b[1m223/223\u001b[0m \u001b[32m━━━━━━━━━━━━━━━━━━━━\u001b[0m\u001b[37m\u001b[0m \u001b[1m65s\u001b[0m 291ms/step - accuracy: 0.7305 - f1_score: 0.7160 - loss: 0.7159 - precision: 0.8150 - recall: 0.6385 - val_accuracy: 0.7568 - val_f1_score: 0.7436 - val_loss: 0.6652 - val_precision: 0.8368 - val_recall: 0.6691\n",
      "Epoch 53/100\n",
      "\u001b[1m223/223\u001b[0m \u001b[32m━━━━━━━━━━━━━━━━━━━━\u001b[0m\u001b[37m\u001b[0m \u001b[1m65s\u001b[0m 292ms/step - accuracy: 0.7233 - f1_score: 0.7101 - loss: 0.7311 - precision: 0.8078 - recall: 0.6335 - val_accuracy: 0.7694 - val_f1_score: 0.7539 - val_loss: 0.6337 - val_precision: 0.8382 - val_recall: 0.6850\n",
      "Epoch 54/100\n",
      "\u001b[1m223/223\u001b[0m \u001b[32m━━━━━━━━━━━━━━━━━━━━\u001b[0m\u001b[37m\u001b[0m \u001b[1m58s\u001b[0m 260ms/step - accuracy: 0.7355 - f1_score: 0.7192 - loss: 0.7024 - precision: 0.8136 - recall: 0.6444 - val_accuracy: 0.7519 - val_f1_score: 0.7399 - val_loss: 0.6578 - val_precision: 0.8411 - val_recall: 0.6604\n",
      "Epoch 55/100\n",
      "\u001b[1m223/223\u001b[0m \u001b[32m━━━━━━━━━━━━━━━━━━━━\u001b[0m\u001b[37m\u001b[0m \u001b[1m85s\u001b[0m 379ms/step - accuracy: 0.7443 - f1_score: 0.7307 - loss: 0.6976 - precision: 0.8228 - recall: 0.6573 - val_accuracy: 0.7616 - val_f1_score: 0.7452 - val_loss: 0.6491 - val_precision: 0.8595 - val_recall: 0.6577\n",
      "Epoch 56/100\n",
      "\u001b[1m223/223\u001b[0m \u001b[32m━━━━━━━━━━━━━━━━━━━━\u001b[0m\u001b[37m\u001b[0m \u001b[1m87s\u001b[0m 390ms/step - accuracy: 0.7305 - f1_score: 0.7162 - loss: 0.7219 - precision: 0.8132 - recall: 0.6399 - val_accuracy: 0.7800 - val_f1_score: 0.7678 - val_loss: 0.6157 - val_precision: 0.8578 - val_recall: 0.6949\n",
      "Epoch 57/100\n",
      "\u001b[1m223/223\u001b[0m \u001b[32m━━━━━━━━━━━━━━━━━━━━\u001b[0m\u001b[37m\u001b[0m \u001b[1m81s\u001b[0m 363ms/step - accuracy: 0.7445 - f1_score: 0.7344 - loss: 0.6818 - precision: 0.8256 - recall: 0.6613 - val_accuracy: 0.7867 - val_f1_score: 0.7798 - val_loss: 0.5818 - val_precision: 0.8732 - val_recall: 0.7045\n",
      "Epoch 58/100\n",
      "\u001b[1m223/223\u001b[0m \u001b[32m━━━━━━━━━━━━━━━━━━━━\u001b[0m\u001b[37m\u001b[0m \u001b[1m89s\u001b[0m 397ms/step - accuracy: 0.7509 - f1_score: 0.7368 - loss: 0.6846 - precision: 0.8395 - recall: 0.6566 - val_accuracy: 0.7765 - val_f1_score: 0.7631 - val_loss: 0.6186 - val_precision: 0.8505 - val_recall: 0.6920\n",
      "Epoch 59/100\n",
      "\u001b[1m223/223\u001b[0m \u001b[32m━━━━━━━━━━━━━━━━━━━━\u001b[0m\u001b[37m\u001b[0m \u001b[1m88s\u001b[0m 393ms/step - accuracy: 0.7435 - f1_score: 0.7310 - loss: 0.6944 - precision: 0.8131 - recall: 0.6641 - val_accuracy: 0.7793 - val_f1_score: 0.7670 - val_loss: 0.6085 - val_precision: 0.8698 - val_recall: 0.6859\n",
      "Epoch 60/100\n",
      "\u001b[1m223/223\u001b[0m \u001b[32m━━━━━━━━━━━━━━━━━━━━\u001b[0m\u001b[37m\u001b[0m \u001b[1m86s\u001b[0m 386ms/step - accuracy: 0.7396 - f1_score: 0.7321 - loss: 0.6859 - precision: 0.8246 - recall: 0.6583 - val_accuracy: 0.7801 - val_f1_score: 0.7719 - val_loss: 0.5885 - val_precision: 0.8512 - val_recall: 0.7061\n",
      "Epoch 61/100\n",
      "\u001b[1m223/223\u001b[0m \u001b[32m━━━━━━━━━━━━━━━━━━━━\u001b[0m\u001b[37m\u001b[0m \u001b[1m87s\u001b[0m 391ms/step - accuracy: 0.7546 - f1_score: 0.7520 - loss: 0.6321 - precision: 0.8385 - recall: 0.6817 - val_accuracy: 0.7826 - val_f1_score: 0.7748 - val_loss: 0.5961 - val_precision: 0.8646 - val_recall: 0.7019\n",
      "Epoch 62/100\n",
      "\u001b[1m223/223\u001b[0m \u001b[32m━━━━━━━━━━━━━━━━━━━━\u001b[0m\u001b[37m\u001b[0m \u001b[1m78s\u001b[0m 351ms/step - accuracy: 0.7538 - f1_score: 0.7409 - loss: 0.6730 - precision: 0.8258 - recall: 0.6719 - val_accuracy: 0.7645 - val_f1_score: 0.7623 - val_loss: 0.6117 - val_precision: 0.8351 - val_recall: 0.7012\n",
      "Epoch 63/100\n",
      "\u001b[1m223/223\u001b[0m \u001b[32m━━━━━━━━━━━━━━━━━━━━\u001b[0m\u001b[37m\u001b[0m \u001b[1m84s\u001b[0m 377ms/step - accuracy: 0.7383 - f1_score: 0.7253 - loss: 0.7123 - precision: 0.8050 - recall: 0.6600 - val_accuracy: 0.7780 - val_f1_score: 0.7745 - val_loss: 0.5978 - val_precision: 0.8464 - val_recall: 0.7139\n",
      "Epoch 64/100\n",
      "\u001b[1m223/223\u001b[0m \u001b[32m━━━━━━━━━━━━━━━━━━━━\u001b[0m\u001b[37m\u001b[0m \u001b[1m86s\u001b[0m 384ms/step - accuracy: 0.7518 - f1_score: 0.7408 - loss: 0.6663 - precision: 0.8316 - recall: 0.6679 - val_accuracy: 0.7662 - val_f1_score: 0.7562 - val_loss: 0.6252 - val_precision: 0.8497 - val_recall: 0.6813\n",
      "Epoch 65/100\n",
      "\u001b[1m223/223\u001b[0m \u001b[32m━━━━━━━━━━━━━━━━━━━━\u001b[0m\u001b[37m\u001b[0m \u001b[1m86s\u001b[0m 388ms/step - accuracy: 0.7624 - f1_score: 0.7481 - loss: 0.6512 - precision: 0.8328 - recall: 0.6791 - val_accuracy: 0.7878 - val_f1_score: 0.7764 - val_loss: 0.5791 - val_precision: 0.8581 - val_recall: 0.7088\n",
      "Epoch 66/100\n",
      "\u001b[1m223/223\u001b[0m \u001b[32m━━━━━━━━━━━━━━━━━━━━\u001b[0m\u001b[37m\u001b[0m \u001b[1m87s\u001b[0m 388ms/step - accuracy: 0.7598 - f1_score: 0.7459 - loss: 0.6534 - precision: 0.8267 - recall: 0.6795 - val_accuracy: 0.7873 - val_f1_score: 0.7713 - val_loss: 0.5928 - val_precision: 0.8600 - val_recall: 0.6991\n",
      "Epoch 67/100\n",
      "\u001b[1m223/223\u001b[0m \u001b[32m━━━━━━━━━━━━━━━━━━━━\u001b[0m\u001b[37m\u001b[0m \u001b[1m84s\u001b[0m 378ms/step - accuracy: 0.7690 - f1_score: 0.7566 - loss: 0.6338 - precision: 0.8333 - recall: 0.6929 - val_accuracy: 0.7784 - val_f1_score: 0.7685 - val_loss: 0.6069 - val_precision: 0.8588 - val_recall: 0.6953\n",
      "Epoch 68/100\n",
      "\u001b[1m223/223\u001b[0m \u001b[32m━━━━━━━━━━━━━━━━━━━━\u001b[0m\u001b[37m\u001b[0m \u001b[1m75s\u001b[0m 337ms/step - accuracy: 0.7559 - f1_score: 0.7478 - loss: 0.6630 - precision: 0.8269 - recall: 0.6825 - val_accuracy: 0.7885 - val_f1_score: 0.7754 - val_loss: 0.5758 - val_precision: 0.8553 - val_recall: 0.7091\n",
      "Epoch 69/100\n",
      "\u001b[1m223/223\u001b[0m \u001b[32m━━━━━━━━━━━━━━━━━━━━\u001b[0m\u001b[37m\u001b[0m \u001b[1m74s\u001b[0m 330ms/step - accuracy: 0.7692 - f1_score: 0.7539 - loss: 0.6434 - precision: 0.8327 - recall: 0.6887 - val_accuracy: 0.7804 - val_f1_score: 0.7773 - val_loss: 0.5929 - val_precision: 0.8545 - val_recall: 0.7129\n",
      "Epoch 70/100\n",
      "\u001b[1m223/223\u001b[0m \u001b[32m━━━━━━━━━━━━━━━━━━━━\u001b[0m\u001b[37m\u001b[0m \u001b[1m73s\u001b[0m 327ms/step - accuracy: 0.7605 - f1_score: 0.7472 - loss: 0.6608 - precision: 0.8287 - recall: 0.6804 - val_accuracy: 0.7996 - val_f1_score: 0.7983 - val_loss: 0.5413 - val_precision: 0.8662 - val_recall: 0.7402\n",
      "Epoch 71/100\n",
      "\u001b[1m223/223\u001b[0m \u001b[32m━━━━━━━━━━━━━━━━━━━━\u001b[0m\u001b[37m\u001b[0m \u001b[1m74s\u001b[0m 332ms/step - accuracy: 0.7624 - f1_score: 0.7559 - loss: 0.6305 - precision: 0.8346 - recall: 0.6907 - val_accuracy: 0.7866 - val_f1_score: 0.7790 - val_loss: 0.5765 - val_precision: 0.8561 - val_recall: 0.7146\n",
      "Epoch 72/100\n",
      "\u001b[1m223/223\u001b[0m \u001b[32m━━━━━━━━━━━━━━━━━━━━\u001b[0m\u001b[37m\u001b[0m \u001b[1m72s\u001b[0m 325ms/step - accuracy: 0.7706 - f1_score: 0.7637 - loss: 0.6063 - precision: 0.8324 - recall: 0.7054 - val_accuracy: 0.8038 - val_f1_score: 0.7960 - val_loss: 0.5423 - val_precision: 0.8709 - val_recall: 0.7329\n",
      "Epoch 73/100\n",
      "\u001b[1m223/223\u001b[0m \u001b[32m━━━━━━━━━━━━━━━━━━━━\u001b[0m\u001b[37m\u001b[0m \u001b[1m72s\u001b[0m 324ms/step - accuracy: 0.7743 - f1_score: 0.7630 - loss: 0.6079 - precision: 0.8416 - recall: 0.6980 - val_accuracy: 0.8087 - val_f1_score: 0.8036 - val_loss: 0.5134 - val_precision: 0.8735 - val_recall: 0.7440\n",
      "Epoch 74/100\n",
      "\u001b[1m223/223\u001b[0m \u001b[32m━━━━━━━━━━━━━━━━━━━━\u001b[0m\u001b[37m\u001b[0m \u001b[1m74s\u001b[0m 330ms/step - accuracy: 0.7706 - f1_score: 0.7588 - loss: 0.6183 - precision: 0.8282 - recall: 0.7002 - val_accuracy: 0.7922 - val_f1_score: 0.7888 - val_loss: 0.5628 - val_precision: 0.8514 - val_recall: 0.7348\n",
      "Epoch 75/100\n",
      "\u001b[1m223/223\u001b[0m \u001b[32m━━━━━━━━━━━━━━━━━━━━\u001b[0m\u001b[37m\u001b[0m \u001b[1m74s\u001b[0m 334ms/step - accuracy: 0.7721 - f1_score: 0.7662 - loss: 0.6190 - precision: 0.8406 - recall: 0.7040 - val_accuracy: 0.8063 - val_f1_score: 0.8045 - val_loss: 0.5381 - val_precision: 0.8863 - val_recall: 0.7365\n",
      "Epoch 76/100\n",
      "\u001b[1m223/223\u001b[0m \u001b[32m━━━━━━━━━━━━━━━━━━━━\u001b[0m\u001b[37m\u001b[0m \u001b[1m76s\u001b[0m 339ms/step - accuracy: 0.7715 - f1_score: 0.7640 - loss: 0.6114 - precision: 0.8390 - recall: 0.7013 - val_accuracy: 0.8017 - val_f1_score: 0.7932 - val_loss: 0.5492 - val_precision: 0.8675 - val_recall: 0.7306\n",
      "Epoch 77/100\n",
      "\u001b[1m223/223\u001b[0m \u001b[32m━━━━━━━━━━━━━━━━━━━━\u001b[0m\u001b[37m\u001b[0m \u001b[1m75s\u001b[0m 335ms/step - accuracy: 0.7788 - f1_score: 0.7738 - loss: 0.6022 - precision: 0.8468 - recall: 0.7124 - val_accuracy: 0.8079 - val_f1_score: 0.7998 - val_loss: 0.5380 - val_precision: 0.8774 - val_recall: 0.7349\n",
      "Epoch 78/100\n",
      "\u001b[1m223/223\u001b[0m \u001b[32m━━━━━━━━━━━━━━━━━━━━\u001b[0m\u001b[37m\u001b[0m \u001b[1m74s\u001b[0m 333ms/step - accuracy: 0.7738 - f1_score: 0.7685 - loss: 0.6081 - precision: 0.8465 - recall: 0.7036 - val_accuracy: 0.8310 - val_f1_score: 0.8255 - val_loss: 0.4813 - val_precision: 0.8940 - val_recall: 0.7668\n",
      "Epoch 79/100\n",
      "\u001b[1m223/223\u001b[0m \u001b[32m━━━━━━━━━━━━━━━━━━━━\u001b[0m\u001b[37m\u001b[0m \u001b[1m75s\u001b[0m 335ms/step - accuracy: 0.7920 - f1_score: 0.7910 - loss: 0.5728 - precision: 0.8575 - recall: 0.7342 - val_accuracy: 0.8003 - val_f1_score: 0.7976 - val_loss: 0.5361 - val_precision: 0.8632 - val_recall: 0.7412\n",
      "Epoch 80/100\n",
      "\u001b[1m223/223\u001b[0m \u001b[32m━━━━━━━━━━━━━━━━━━━━\u001b[0m\u001b[37m\u001b[0m \u001b[1m74s\u001b[0m 333ms/step - accuracy: 0.7582 - f1_score: 0.7504 - loss: 0.6327 - precision: 0.8306 - recall: 0.6845 - val_accuracy: 0.8263 - val_f1_score: 0.8221 - val_loss: 0.4891 - val_precision: 0.8888 - val_recall: 0.7648\n",
      "Epoch 81/100\n",
      "\u001b[1m223/223\u001b[0m \u001b[32m━━━━━━━━━━━━━━━━━━━━\u001b[0m\u001b[37m\u001b[0m \u001b[1m73s\u001b[0m 328ms/step - accuracy: 0.7733 - f1_score: 0.7622 - loss: 0.6052 - precision: 0.8295 - recall: 0.7051 - val_accuracy: 0.8327 - val_f1_score: 0.8291 - val_loss: 0.4697 - val_precision: 0.8923 - val_recall: 0.7742\n",
      "Epoch 82/100\n",
      "\u001b[1m223/223\u001b[0m \u001b[32m━━━━━━━━━━━━━━━━━━━━\u001b[0m\u001b[37m\u001b[0m \u001b[1m74s\u001b[0m 331ms/step - accuracy: 0.7890 - f1_score: 0.7889 - loss: 0.5783 - precision: 0.8563 - recall: 0.7314 - val_accuracy: 0.8073 - val_f1_score: 0.8065 - val_loss: 0.5253 - val_precision: 0.8739 - val_recall: 0.7488\n",
      "Epoch 83/100\n",
      "\u001b[1m223/223\u001b[0m \u001b[32m━━━━━━━━━━━━━━━━━━━━\u001b[0m\u001b[37m\u001b[0m \u001b[1m73s\u001b[0m 327ms/step - accuracy: 0.7932 - f1_score: 0.7855 - loss: 0.5704 - precision: 0.8576 - recall: 0.7246 - val_accuracy: 0.7929 - val_f1_score: 0.7864 - val_loss: 0.5660 - val_precision: 0.8631 - val_recall: 0.7221\n",
      "Epoch 84/100\n",
      "\u001b[1m223/223\u001b[0m \u001b[32m━━━━━━━━━━━━━━━━━━━━\u001b[0m\u001b[37m\u001b[0m \u001b[1m62s\u001b[0m 276ms/step - accuracy: 0.7752 - f1_score: 0.7693 - loss: 0.6140 - precision: 0.8481 - recall: 0.7040 - val_accuracy: 0.8223 - val_f1_score: 0.8164 - val_loss: 0.4970 - val_precision: 0.8811 - val_recall: 0.7605\n",
      "Epoch 85/100\n",
      "\u001b[1m223/223\u001b[0m \u001b[32m━━━━━━━━━━━━━━━━━━━━\u001b[0m\u001b[37m\u001b[0m \u001b[1m75s\u001b[0m 335ms/step - accuracy: 0.7791 - f1_score: 0.7757 - loss: 0.5888 - precision: 0.8453 - recall: 0.7167 - val_accuracy: 0.8094 - val_f1_score: 0.8076 - val_loss: 0.5061 - val_precision: 0.8729 - val_recall: 0.7515\n",
      "Epoch 86/100\n",
      "\u001b[1m223/223\u001b[0m \u001b[32m━━━━━━━━━━━━━━━━━━━━\u001b[0m\u001b[37m\u001b[0m \u001b[1m75s\u001b[0m 335ms/step - accuracy: 0.7782 - f1_score: 0.7739 - loss: 0.5901 - precision: 0.8398 - recall: 0.7176 - val_accuracy: 0.8205 - val_f1_score: 0.8163 - val_loss: 0.4966 - val_precision: 0.8779 - val_recall: 0.7628\n",
      "Epoch 87/100\n",
      "\u001b[1m223/223\u001b[0m \u001b[32m━━━━━━━━━━━━━━━━━━━━\u001b[0m\u001b[37m\u001b[0m \u001b[1m76s\u001b[0m 339ms/step - accuracy: 0.7817 - f1_score: 0.7789 - loss: 0.5815 - precision: 0.8495 - recall: 0.7192 - val_accuracy: 0.7978 - val_f1_score: 0.7893 - val_loss: 0.5329 - val_precision: 0.8480 - val_recall: 0.7383\n",
      "Epoch 88/100\n",
      "\u001b[1m223/223\u001b[0m \u001b[32m━━━━━━━━━━━━━━━━━━━━\u001b[0m\u001b[37m\u001b[0m \u001b[1m75s\u001b[0m 339ms/step - accuracy: 0.7865 - f1_score: 0.7810 - loss: 0.5781 - precision: 0.8430 - recall: 0.7276 - val_accuracy: 0.8184 - val_f1_score: 0.8118 - val_loss: 0.5008 - val_precision: 0.8796 - val_recall: 0.7537\n",
      "Epoch 89/100\n",
      "\u001b[1m223/223\u001b[0m \u001b[32m━━━━━━━━━━━━━━━━━━━━\u001b[0m\u001b[37m\u001b[0m \u001b[1m75s\u001b[0m 338ms/step - accuracy: 0.7811 - f1_score: 0.7731 - loss: 0.5872 - precision: 0.8400 - recall: 0.7162 - val_accuracy: 0.8406 - val_f1_score: 0.8385 - val_loss: 0.4499 - val_precision: 0.9029 - val_recall: 0.7828\n",
      "Epoch 90/100\n",
      "\u001b[1m223/223\u001b[0m \u001b[32m━━━━━━━━━━━━━━━━━━━━\u001b[0m\u001b[37m\u001b[0m \u001b[1m76s\u001b[0m 340ms/step - accuracy: 0.7929 - f1_score: 0.7827 - loss: 0.5666 - precision: 0.8465 - recall: 0.7279 - val_accuracy: 0.8353 - val_f1_score: 0.8324 - val_loss: 0.4498 - val_precision: 0.8952 - val_recall: 0.7779\n",
      "Epoch 91/100\n",
      "\u001b[1m223/223\u001b[0m \u001b[32m━━━━━━━━━━━━━━━━━━━━\u001b[0m\u001b[37m\u001b[0m \u001b[1m77s\u001b[0m 344ms/step - accuracy: 0.7952 - f1_score: 0.7891 - loss: 0.5626 - precision: 0.8492 - recall: 0.7370 - val_accuracy: 0.8382 - val_f1_score: 0.8310 - val_loss: 0.4628 - val_precision: 0.8902 - val_recall: 0.7793\n",
      "Epoch 92/100\n",
      "\u001b[1m223/223\u001b[0m \u001b[32m━━━━━━━━━━━━━━━━━━━━\u001b[0m\u001b[37m\u001b[0m \u001b[1m80s\u001b[0m 357ms/step - accuracy: 0.8091 - f1_score: 0.7984 - loss: 0.5469 - precision: 0.8607 - recall: 0.7446 - val_accuracy: 0.8378 - val_f1_score: 0.8330 - val_loss: 0.4599 - val_precision: 0.8893 - val_recall: 0.7835\n",
      "Epoch 93/100\n",
      "\u001b[1m223/223\u001b[0m \u001b[32m━━━━━━━━━━━━━━━━━━━━\u001b[0m\u001b[37m\u001b[0m \u001b[1m78s\u001b[0m 352ms/step - accuracy: 0.8021 - f1_score: 0.8005 - loss: 0.5391 - precision: 0.8620 - recall: 0.7472 - val_accuracy: 0.8280 - val_f1_score: 0.8235 - val_loss: 0.4825 - val_precision: 0.8885 - val_recall: 0.7673\n",
      "Epoch 94/100\n",
      "\u001b[1m223/223\u001b[0m \u001b[32m━━━━━━━━━━━━━━━━━━━━\u001b[0m\u001b[37m\u001b[0m \u001b[1m77s\u001b[0m 344ms/step - accuracy: 0.7994 - f1_score: 0.7974 - loss: 0.5361 - precision: 0.8538 - recall: 0.7480 - val_accuracy: 0.8166 - val_f1_score: 0.8113 - val_loss: 0.5006 - val_precision: 0.8704 - val_recall: 0.7598\n",
      "Epoch 95/100\n",
      "\u001b[1m223/223\u001b[0m \u001b[32m━━━━━━━━━━━━━━━━━━━━\u001b[0m\u001b[37m\u001b[0m \u001b[1m77s\u001b[0m 346ms/step - accuracy: 0.7944 - f1_score: 0.7885 - loss: 0.5636 - precision: 0.8470 - recall: 0.7375 - val_accuracy: 0.8324 - val_f1_score: 0.8286 - val_loss: 0.4682 - val_precision: 0.8888 - val_recall: 0.7760\n",
      "Epoch 96/100\n",
      "\u001b[1m223/223\u001b[0m \u001b[32m━━━━━━━━━━━━━━━━━━━━\u001b[0m\u001b[37m\u001b[0m \u001b[1m77s\u001b[0m 347ms/step - accuracy: 0.7993 - f1_score: 0.7963 - loss: 0.5475 - precision: 0.8587 - recall: 0.7424 - val_accuracy: 0.8433 - val_f1_score: 0.8419 - val_loss: 0.4430 - val_precision: 0.8960 - val_recall: 0.7940\n",
      "Epoch 97/100\n",
      "\u001b[1m223/223\u001b[0m \u001b[32m━━━━━━━━━━━━━━━━━━━━\u001b[0m\u001b[37m\u001b[0m \u001b[1m77s\u001b[0m 345ms/step - accuracy: 0.8037 - f1_score: 0.8026 - loss: 0.5443 - precision: 0.8629 - recall: 0.7503 - val_accuracy: 0.8334 - val_f1_score: 0.8286 - val_loss: 0.4644 - val_precision: 0.8915 - val_recall: 0.7739\n",
      "Epoch 98/100\n",
      "\u001b[1m223/223\u001b[0m \u001b[32m━━━━━━━━━━━━━━━━━━━━\u001b[0m\u001b[37m\u001b[0m \u001b[1m72s\u001b[0m 324ms/step - accuracy: 0.8007 - f1_score: 0.7992 - loss: 0.5380 - precision: 0.8583 - recall: 0.7477 - val_accuracy: 0.8320 - val_f1_score: 0.8257 - val_loss: 0.4686 - val_precision: 0.8853 - val_recall: 0.7736\n",
      "Epoch 99/100\n",
      "\u001b[1m223/223\u001b[0m \u001b[32m━━━━━━━━━━━━━━━━━━━━\u001b[0m\u001b[37m\u001b[0m \u001b[1m70s\u001b[0m 314ms/step - accuracy: 0.7911 - f1_score: 0.7889 - loss: 0.5567 - precision: 0.8511 - recall: 0.7353 - val_accuracy: 0.8442 - val_f1_score: 0.8436 - val_loss: 0.4380 - val_precision: 0.8995 - val_recall: 0.7941\n",
      "Epoch 100/100\n",
      "\u001b[1m223/223\u001b[0m \u001b[32m━━━━━━━━━━━━━━━━━━━━\u001b[0m\u001b[37m\u001b[0m \u001b[1m72s\u001b[0m 325ms/step - accuracy: 0.8012 - f1_score: 0.8026 - loss: 0.5391 - precision: 0.8596 - recall: 0.7527 - val_accuracy: 0.8232 - val_f1_score: 0.8216 - val_loss: 0.4709 - val_precision: 0.8692 - val_recall: 0.7788\n"
     ]
    }
   ],
   "source": [
    "# Train the model\n",
    "history = gru_model.fit(\n",
    "    x=training_set,\n",
    "    validation_data=validation_set,\n",
    "    epochs=100\n",
    ")"
   ]
  },
  {
   "cell_type": "code",
   "execution_count": 11,
   "id": "3aad2425-073d-4901-a533-a7d707815ddb",
   "metadata": {},
   "outputs": [],
   "source": [
    "# Save Loss plot\n",
    "plt.figure()\n",
    "plt.plot(history.history['loss'], label='Train Loss')\n",
    "plt.plot(history.history['val_loss'], label='Validation Loss')\n",
    "plt.legend()\n",
    "plt.title(\"Loss\")\n",
    "plt.xlabel('Epochs')\n",
    "plt.ylabel('Loss')\n",
    "plt.savefig('loss_plot_gru.png')  # Save the plot as a PNG file\n",
    "plt.close()\n",
    "\n",
    "# Save Accuracy plot\n",
    "plt.figure()\n",
    "plt.plot(history.history['accuracy'], label='Train Accuracy')\n",
    "plt.plot(history.history['val_accuracy'], label='Validation Accuracy')\n",
    "plt.legend()\n",
    "plt.title(\"Accuracy\")\n",
    "plt.xlabel('Epochs')\n",
    "plt.ylabel('Accuracy')\n",
    "plt.savefig('accuracy_plot_gru.png')  # Save the plot as a PNG file\n",
    "plt.close()\n",
    "\n",
    "# Save Precision plot\n",
    "plt.figure()\n",
    "plt.plot(history.history['precision'], label='Train Precision')\n",
    "plt.plot(history.history['val_precision'], label='Validation Precision')\n",
    "plt.legend()\n",
    "plt.title(\"Precision\")\n",
    "plt.xlabel('Epochs')\n",
    "plt.ylabel('Precision')\n",
    "plt.savefig('precision_plot_gru.png')  # Save the plot as a PNG file\n",
    "plt.close()\n",
    "\n",
    "# Save Recall plot\n",
    "plt.figure()\n",
    "plt.plot(history.history['recall'], label='Train Recall')\n",
    "plt.plot(history.history['val_recall'], label='Validation Recall')\n",
    "plt.legend()\n",
    "plt.title(\"Recall\")\n",
    "plt.xlabel('Epochs')\n",
    "plt.ylabel('Recall')\n",
    "plt.savefig('recall_plot_gru.png')  # Save the plot as a PNG file\n",
    "plt.close()\n",
    "\n",
    "# Save F1 Score plot\n",
    "plt.figure()\n",
    "plt.plot(history.history['f1_score'], label='Train F1 Score')\n",
    "plt.plot(history.history['val_f1_score'], label='Validation F1 Score')\n",
    "plt.legend()\n",
    "plt.title(\"F1 Score\")\n",
    "plt.xlabel('Epochs')\n",
    "plt.ylabel('F1 Score')\n",
    "plt.savefig('f1_score_plot_gru.png')  # Save the plot as a PNG file\n",
    "plt.close()\n"
   ]
  },
  {
   "cell_type": "code",
   "execution_count": 12,
   "id": "08690736-d805-486d-8553-e769d804477a",
   "metadata": {},
   "outputs": [
    {
     "data": {
      "text/html": [
       "<pre style=\"white-space:pre;overflow-x:auto;line-height:normal;font-family:Menlo,'DejaVu Sans Mono',consolas,'Courier New',monospace\"><span style=\"font-weight: bold\">Model: \"sequential\"</span>\n",
       "</pre>\n"
      ],
      "text/plain": [
       "\u001b[1mModel: \"sequential\"\u001b[0m\n"
      ]
     },
     "metadata": {},
     "output_type": "display_data"
    },
    {
     "data": {
      "text/html": [
       "<pre style=\"white-space:pre;overflow-x:auto;line-height:normal;font-family:Menlo,'DejaVu Sans Mono',consolas,'Courier New',monospace\">┏━━━━━━━━━━━━━━━━━━━━━━━━━━━━━━━━━━━━━━┳━━━━━━━━━━━━━━━━━━━━━━━━━━━━━┳━━━━━━━━━━━━━━━━━┓\n",
       "┃<span style=\"font-weight: bold\"> Layer (type)                         </span>┃<span style=\"font-weight: bold\"> Output Shape                </span>┃<span style=\"font-weight: bold\">         Param # </span>┃\n",
       "┡━━━━━━━━━━━━━━━━━━━━━━━━━━━━━━━━━━━━━━╇━━━━━━━━━━━━━━━━━━━━━━━━━━━━━╇━━━━━━━━━━━━━━━━━┩\n",
       "│ flatten (<span style=\"color: #0087ff; text-decoration-color: #0087ff\">Flatten</span>)                    │ (<span style=\"color: #00d7ff; text-decoration-color: #00d7ff\">None</span>, <span style=\"color: #00af00; text-decoration-color: #00af00\">12288</span>)               │               <span style=\"color: #00af00; text-decoration-color: #00af00\">0</span> │\n",
       "├──────────────────────────────────────┼─────────────────────────────┼─────────────────┤\n",
       "│ reshape (<span style=\"color: #0087ff; text-decoration-color: #0087ff\">Reshape</span>)                    │ (<span style=\"color: #00d7ff; text-decoration-color: #00d7ff\">None</span>, <span style=\"color: #00af00; text-decoration-color: #00af00\">16</span>, <span style=\"color: #00af00; text-decoration-color: #00af00\">768</span>)             │               <span style=\"color: #00af00; text-decoration-color: #00af00\">0</span> │\n",
       "├──────────────────────────────────────┼─────────────────────────────┼─────────────────┤\n",
       "│ gru (<span style=\"color: #0087ff; text-decoration-color: #0087ff\">GRU</span>)                            │ (<span style=\"color: #00d7ff; text-decoration-color: #00d7ff\">None</span>, <span style=\"color: #00af00; text-decoration-color: #00af00\">64</span>)                  │         <span style=\"color: #00af00; text-decoration-color: #00af00\">160,128</span> │\n",
       "├──────────────────────────────────────┼─────────────────────────────┼─────────────────┤\n",
       "│ dense (<span style=\"color: #0087ff; text-decoration-color: #0087ff\">Dense</span>)                        │ (<span style=\"color: #00d7ff; text-decoration-color: #00d7ff\">None</span>, <span style=\"color: #00af00; text-decoration-color: #00af00\">128</span>)                 │           <span style=\"color: #00af00; text-decoration-color: #00af00\">8,320</span> │\n",
       "├──────────────────────────────────────┼─────────────────────────────┼─────────────────┤\n",
       "│ dense_1 (<span style=\"color: #0087ff; text-decoration-color: #0087ff\">Dense</span>)                      │ (<span style=\"color: #00d7ff; text-decoration-color: #00d7ff\">None</span>, <span style=\"color: #00af00; text-decoration-color: #00af00\">6</span>)                   │             <span style=\"color: #00af00; text-decoration-color: #00af00\">774</span> │\n",
       "└──────────────────────────────────────┴─────────────────────────────┴─────────────────┘\n",
       "</pre>\n"
      ],
      "text/plain": [
       "┏━━━━━━━━━━━━━━━━━━━━━━━━━━━━━━━━━━━━━━┳━━━━━━━━━━━━━━━━━━━━━━━━━━━━━┳━━━━━━━━━━━━━━━━━┓\n",
       "┃\u001b[1m \u001b[0m\u001b[1mLayer (type)                        \u001b[0m\u001b[1m \u001b[0m┃\u001b[1m \u001b[0m\u001b[1mOutput Shape               \u001b[0m\u001b[1m \u001b[0m┃\u001b[1m \u001b[0m\u001b[1m        Param #\u001b[0m\u001b[1m \u001b[0m┃\n",
       "┡━━━━━━━━━━━━━━━━━━━━━━━━━━━━━━━━━━━━━━╇━━━━━━━━━━━━━━━━━━━━━━━━━━━━━╇━━━━━━━━━━━━━━━━━┩\n",
       "│ flatten (\u001b[38;5;33mFlatten\u001b[0m)                    │ (\u001b[38;5;45mNone\u001b[0m, \u001b[38;5;34m12288\u001b[0m)               │               \u001b[38;5;34m0\u001b[0m │\n",
       "├──────────────────────────────────────┼─────────────────────────────┼─────────────────┤\n",
       "│ reshape (\u001b[38;5;33mReshape\u001b[0m)                    │ (\u001b[38;5;45mNone\u001b[0m, \u001b[38;5;34m16\u001b[0m, \u001b[38;5;34m768\u001b[0m)             │               \u001b[38;5;34m0\u001b[0m │\n",
       "├──────────────────────────────────────┼─────────────────────────────┼─────────────────┤\n",
       "│ gru (\u001b[38;5;33mGRU\u001b[0m)                            │ (\u001b[38;5;45mNone\u001b[0m, \u001b[38;5;34m64\u001b[0m)                  │         \u001b[38;5;34m160,128\u001b[0m │\n",
       "├──────────────────────────────────────┼─────────────────────────────┼─────────────────┤\n",
       "│ dense (\u001b[38;5;33mDense\u001b[0m)                        │ (\u001b[38;5;45mNone\u001b[0m, \u001b[38;5;34m128\u001b[0m)                 │           \u001b[38;5;34m8,320\u001b[0m │\n",
       "├──────────────────────────────────────┼─────────────────────────────┼─────────────────┤\n",
       "│ dense_1 (\u001b[38;5;33mDense\u001b[0m)                      │ (\u001b[38;5;45mNone\u001b[0m, \u001b[38;5;34m6\u001b[0m)                   │             \u001b[38;5;34m774\u001b[0m │\n",
       "└──────────────────────────────────────┴─────────────────────────────┴─────────────────┘\n"
      ]
     },
     "metadata": {},
     "output_type": "display_data"
    },
    {
     "data": {
      "text/html": [
       "<pre style=\"white-space:pre;overflow-x:auto;line-height:normal;font-family:Menlo,'DejaVu Sans Mono',consolas,'Courier New',monospace\"><span style=\"font-weight: bold\"> Total params: </span><span style=\"color: #00af00; text-decoration-color: #00af00\">507,668</span> (1.94 MB)\n",
       "</pre>\n"
      ],
      "text/plain": [
       "\u001b[1m Total params: \u001b[0m\u001b[38;5;34m507,668\u001b[0m (1.94 MB)\n"
      ]
     },
     "metadata": {},
     "output_type": "display_data"
    },
    {
     "data": {
      "text/html": [
       "<pre style=\"white-space:pre;overflow-x:auto;line-height:normal;font-family:Menlo,'DejaVu Sans Mono',consolas,'Courier New',monospace\"><span style=\"font-weight: bold\"> Trainable params: </span><span style=\"color: #00af00; text-decoration-color: #00af00\">169,222</span> (661.02 KB)\n",
       "</pre>\n"
      ],
      "text/plain": [
       "\u001b[1m Trainable params: \u001b[0m\u001b[38;5;34m169,222\u001b[0m (661.02 KB)\n"
      ]
     },
     "metadata": {},
     "output_type": "display_data"
    },
    {
     "data": {
      "text/html": [
       "<pre style=\"white-space:pre;overflow-x:auto;line-height:normal;font-family:Menlo,'DejaVu Sans Mono',consolas,'Courier New',monospace\"><span style=\"font-weight: bold\"> Non-trainable params: </span><span style=\"color: #00af00; text-decoration-color: #00af00\">0</span> (0.00 B)\n",
       "</pre>\n"
      ],
      "text/plain": [
       "\u001b[1m Non-trainable params: \u001b[0m\u001b[38;5;34m0\u001b[0m (0.00 B)\n"
      ]
     },
     "metadata": {},
     "output_type": "display_data"
    },
    {
     "data": {
      "text/html": [
       "<pre style=\"white-space:pre;overflow-x:auto;line-height:normal;font-family:Menlo,'DejaVu Sans Mono',consolas,'Courier New',monospace\"><span style=\"font-weight: bold\"> Optimizer params: </span><span style=\"color: #00af00; text-decoration-color: #00af00\">338,446</span> (1.29 MB)\n",
       "</pre>\n"
      ],
      "text/plain": [
       "\u001b[1m Optimizer params: \u001b[0m\u001b[38;5;34m338,446\u001b[0m (1.29 MB)\n"
      ]
     },
     "metadata": {},
     "output_type": "display_data"
    }
   ],
   "source": [
    "gru_model.summary()"
   ]
  },
  {
   "cell_type": "code",
   "execution_count": null,
   "id": "99f52e96-fb6a-4563-98b7-11f4823892aa",
   "metadata": {},
   "outputs": [],
   "source": []
  }
 ],
 "metadata": {
  "kernelspec": {
   "display_name": "Python 3 (ipykernel)",
   "language": "python",
   "name": "python3"
  },
  "language_info": {
   "codemirror_mode": {
    "name": "ipython",
    "version": 3
   },
   "file_extension": ".py",
   "mimetype": "text/x-python",
   "name": "python",
   "nbconvert_exporter": "python",
   "pygments_lexer": "ipython3",
   "version": "3.12.2"
  }
 },
 "nbformat": 4,
 "nbformat_minor": 5
}
