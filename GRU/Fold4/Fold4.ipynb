{
 "cells": [
  {
   "cell_type": "code",
   "execution_count": 1,
   "id": "76b04831-811b-459f-a64a-a864cc4e02c9",
   "metadata": {},
   "outputs": [],
   "source": [
    "import tensorflow as tf\n",
    "from tensorflow.keras.preprocessing.image import ImageDataGenerator\n",
    "import matplotlib.pyplot as plt"
   ]
  },
  {
   "cell_type": "code",
   "execution_count": 2,
   "id": "958ee527-91a6-49fa-82be-9261129f5001",
   "metadata": {},
   "outputs": [
    {
     "name": "stdout",
     "output_type": "stream",
     "text": [
      "Found 7336 images belonging to 6 classes.\n"
     ]
    }
   ],
   "source": [
    "# Data Augmentation for Training\n",
    "train_datagen = ImageDataGenerator(rescale=1./255,\n",
    "                                   shear_range=0.2,\n",
    "                                   zoom_range=0.2,\n",
    "                                   horizontal_flip=True)\n",
    "training_set = train_datagen.flow_from_directory(\n",
    "    \"Monkeypox/archive (60)/Augmented Images/Augmented Images/FOLDS_AUG/fold4_AUG/Train/\",\n",
    "    target_size=(64, 64),\n",
    "    batch_size=32,\n",
    "    class_mode='categorical',  # Use 'categorical' for one-hot encoded labels\n",
    ")"
   ]
  },
  {
   "cell_type": "code",
   "execution_count": 3,
   "id": "e3d78bd6-868e-46d8-b35e-9f68f38e3bfc",
   "metadata": {},
   "outputs": [
    {
     "name": "stdout",
     "output_type": "stream",
     "text": [
      "Found 7336 images belonging to 6 classes.\n"
     ]
    }
   ],
   "source": [
    "test_datagen = ImageDataGenerator(rescale=1./255)\n",
    "validation_set = test_datagen.flow_from_directory(\n",
    "    \"Monkeypox/archive (60)/Augmented Images/Augmented Images/FOLDS_AUG/fold4_AUG/Train/\",\n",
    "    target_size=(64, 64),\n",
    "    batch_size=32,\n",
    "    class_mode='categorical',  # Use 'categorical' for one-hot encoded labels\n",
    ")"
   ]
  },
  {
   "cell_type": "code",
   "execution_count": 4,
   "id": "262f406f-42a2-4c78-a86a-9ad6b9acf4d2",
   "metadata": {},
   "outputs": [],
   "source": [
    "# Custom F1 Score Metric\n",
    "class F1Score(tf.keras.metrics.Metric):\n",
    "    def __init__(self, name='f1_score', **kwargs):\n",
    "        super(F1Score, self).__init__(name=name, **kwargs)\n",
    "        self.precision = tf.keras.metrics.Precision()\n",
    "        self.recall = tf.keras.metrics.Recall()\n",
    "\n",
    "    def update_state(self, y_true, y_pred, sample_weight=None):\n",
    "        # Update the precision and recall for each batch\n",
    "        self.precision.update_state(y_true, y_pred, sample_weight)\n",
    "        self.recall.update_state(y_true, y_pred, sample_weight)\n",
    "\n",
    "    def result(self):\n",
    "        # Calculate F1 score as the harmonic mean of precision and recall\n",
    "        precision = self.precision.result()\n",
    "        recall = self.recall.result()\n",
    "        return 2 * (precision * recall) / (precision + recall + tf.keras.backend.epsilon())\n",
    "\n",
    "    def reset_states(self):\n",
    "        self.precision.reset_states()\n",
    "        self.recall.reset_states()\n"
   ]
  },
  {
   "cell_type": "code",
   "execution_count": 5,
   "id": "3ab06f82-8c0d-4f87-a6b9-2499042ee050",
   "metadata": {},
   "outputs": [],
   "source": [
    "# Build the GRU Model\n",
    "gru_model = tf.keras.models.Sequential()"
   ]
  },
  {
   "cell_type": "code",
   "execution_count": 6,
   "id": "dc6a9772-15ba-411e-90f1-bb18280d0dcf",
   "metadata": {},
   "outputs": [
    {
     "name": "stderr",
     "output_type": "stream",
     "text": [
      "C:\\Users\\KIIT\\AppData\\Local\\Programs\\Python\\Python312\\Lib\\site-packages\\keras\\src\\layers\\reshaping\\flatten.py:37: UserWarning: Do not pass an `input_shape`/`input_dim` argument to a layer. When using Sequential models, prefer using an `Input(shape)` object as the first layer in the model instead.\n",
      "  super().__init__(**kwargs)\n"
     ]
    }
   ],
   "source": [
    "# Flatten and Reshape for GRU\n",
    "gru_model.add(tf.keras.layers.Flatten(input_shape=(64, 64, 3)))\n",
    "gru_model.add(tf.keras.layers.Reshape((16, -1)))  # Reshape to (time_steps, features)"
   ]
  },
  {
   "cell_type": "code",
   "execution_count": 7,
   "id": "331724ef-6f56-4fa5-8ea0-630958c18c84",
   "metadata": {},
   "outputs": [],
   "source": [
    "# GRU Layer\n",
    "gru_model.add(tf.keras.layers.GRU(units=64, activation='tanh', return_sequences=False))"
   ]
  },
  {
   "cell_type": "code",
   "execution_count": 8,
   "id": "b5fe09a6-15ee-44fd-b34f-eb7f3e349cd4",
   "metadata": {},
   "outputs": [],
   "source": [
    "# Fully Connected Layers\n",
    "gru_model.add(tf.keras.layers.Dense(units=128, activation='relu'))\n",
    "gru_model.add(tf.keras.layers.Dense(6, activation='softmax'))  # 6 classes"
   ]
  },
  {
   "cell_type": "code",
   "execution_count": 9,
   "id": "be9fdae5-9ae1-4c2d-8fa1-7eff0069ad54",
   "metadata": {},
   "outputs": [],
   "source": [
    "# Compile the model with Precision, Recall, and F1 Score\n",
    "gru_model.compile(\n",
    "    optimizer='adam',\n",
    "    loss='categorical_crossentropy',  # Use categorical_crossentropy for one-hot encoded labels\n",
    "    metrics=[\n",
    "        'accuracy',\n",
    "        tf.keras.metrics.Precision(name='precision'),\n",
    "        tf.keras.metrics.Recall(name='recall'),\n",
    "        F1Score(name='f1_score')  # Add custom F1 score metric\n",
    "    ]\n",
    ")"
   ]
  },
  {
   "cell_type": "code",
   "execution_count": 10,
   "id": "67e38224-ff85-4113-af30-b4ddf6320bde",
   "metadata": {},
   "outputs": [
    {
     "name": "stderr",
     "output_type": "stream",
     "text": [
      "C:\\Users\\KIIT\\AppData\\Local\\Programs\\Python\\Python312\\Lib\\site-packages\\keras\\src\\trainers\\data_adapters\\py_dataset_adapter.py:121: UserWarning: Your `PyDataset` class should call `super().__init__(**kwargs)` in its constructor. `**kwargs` can include `workers`, `use_multiprocessing`, `max_queue_size`. Do not pass these arguments to `fit()`, as they will be ignored.\n",
      "  self._warn_if_super_not_called()\n"
     ]
    },
    {
     "name": "stdout",
     "output_type": "stream",
     "text": [
      "Epoch 1/100\n",
      "\u001b[1m230/230\u001b[0m \u001b[32m━━━━━━━━━━━━━━━━━━━━\u001b[0m\u001b[37m\u001b[0m \u001b[1m0s\u001b[0m 282ms/step - accuracy: 0.3479 - f1_score: 0.0476 - loss: 1.6242 - precision: 0.4340 - recall: 0.0253"
     ]
    },
    {
     "name": "stderr",
     "output_type": "stream",
     "text": [
      "C:\\Users\\KIIT\\AppData\\Local\\Programs\\Python\\Python312\\Lib\\site-packages\\keras\\src\\trainers\\data_adapters\\py_dataset_adapter.py:121: UserWarning: Your `PyDataset` class should call `super().__init__(**kwargs)` in its constructor. `**kwargs` can include `workers`, `use_multiprocessing`, `max_queue_size`. Do not pass these arguments to `fit()`, as they will be ignored.\n",
      "  self._warn_if_super_not_called()\n"
     ]
    },
    {
     "name": "stdout",
     "output_type": "stream",
     "text": [
      "\u001b[1m230/230\u001b[0m \u001b[32m━━━━━━━━━━━━━━━━━━━━\u001b[0m\u001b[37m\u001b[0m \u001b[1m109s\u001b[0m 426ms/step - accuracy: 0.3480 - f1_score: 0.0477 - loss: 1.6240 - precision: 0.4343 - recall: 0.0253 - val_accuracy: 0.3886 - val_f1_score: 0.1278 - val_loss: 1.5412 - val_precision: 0.5544 - val_recall: 0.0722\n",
      "Epoch 2/100\n",
      "\u001b[1m230/230\u001b[0m \u001b[32m━━━━━━━━━━━━━━━━━━━━\u001b[0m\u001b[37m\u001b[0m \u001b[1m105s\u001b[0m 457ms/step - accuracy: 0.3886 - f1_score: 0.1240 - loss: 1.5446 - precision: 0.5438 - recall: 0.0701 - val_accuracy: 0.3939 - val_f1_score: 0.0951 - val_loss: 1.5141 - val_precision: 0.6856 - val_recall: 0.0511\n",
      "Epoch 3/100\n",
      "\u001b[1m230/230\u001b[0m \u001b[32m━━━━━━━━━━━━━━━━━━━━\u001b[0m\u001b[37m\u001b[0m \u001b[1m87s\u001b[0m 379ms/step - accuracy: 0.4179 - f1_score: 0.1202 - loss: 1.5141 - precision: 0.5532 - recall: 0.0679 - val_accuracy: 0.4463 - val_f1_score: 0.3026 - val_loss: 1.4319 - val_precision: 0.5589 - val_recall: 0.2075\n",
      "Epoch 4/100\n",
      "\u001b[1m230/230\u001b[0m \u001b[32m━━━━━━━━━━━━━━━━━━━━\u001b[0m\u001b[37m\u001b[0m \u001b[1m84s\u001b[0m 366ms/step - accuracy: 0.4568 - f1_score: 0.2602 - loss: 1.4433 - precision: 0.5933 - recall: 0.1670 - val_accuracy: 0.4757 - val_f1_score: 0.2372 - val_loss: 1.4019 - val_precision: 0.6374 - val_recall: 0.1457\n",
      "Epoch 5/100\n",
      "\u001b[1m230/230\u001b[0m \u001b[32m━━━━━━━━━━━━━━━━━━━━\u001b[0m\u001b[37m\u001b[0m \u001b[1m91s\u001b[0m 397ms/step - accuracy: 0.4795 - f1_score: 0.3049 - loss: 1.3836 - precision: 0.6296 - recall: 0.2013 - val_accuracy: 0.5015 - val_f1_score: 0.3257 - val_loss: 1.3432 - val_precision: 0.6879 - val_recall: 0.2133\n",
      "Epoch 6/100\n",
      "\u001b[1m230/230\u001b[0m \u001b[32m━━━━━━━━━━━━━━━━━━━━\u001b[0m\u001b[37m\u001b[0m \u001b[1m86s\u001b[0m 375ms/step - accuracy: 0.4934 - f1_score: 0.3604 - loss: 1.3411 - precision: 0.6324 - recall: 0.2522 - val_accuracy: 0.5169 - val_f1_score: 0.3448 - val_loss: 1.2708 - val_precision: 0.7148 - val_recall: 0.2272\n",
      "Epoch 7/100\n",
      "\u001b[1m230/230\u001b[0m \u001b[32m━━━━━━━━━━━━━━━━━━━━\u001b[0m\u001b[37m\u001b[0m \u001b[1m86s\u001b[0m 375ms/step - accuracy: 0.4916 - f1_score: 0.3491 - loss: 1.3413 - precision: 0.6268 - recall: 0.2421 - val_accuracy: 0.5188 - val_f1_score: 0.4381 - val_loss: 1.2586 - val_precision: 0.6493 - val_recall: 0.3306\n",
      "Epoch 8/100\n",
      "\u001b[1m230/230\u001b[0m \u001b[32m━━━━━━━━━━━━━━━━━━━━\u001b[0m\u001b[37m\u001b[0m \u001b[1m75s\u001b[0m 326ms/step - accuracy: 0.5125 - f1_score: 0.4070 - loss: 1.2736 - precision: 0.6527 - recall: 0.2957 - val_accuracy: 0.5142 - val_f1_score: 0.4292 - val_loss: 1.3144 - val_precision: 0.6528 - val_recall: 0.3197\n",
      "Epoch 9/100\n",
      "\u001b[1m230/230\u001b[0m \u001b[32m━━━━━━━━━━━━━━━━━━━━\u001b[0m\u001b[37m\u001b[0m \u001b[1m86s\u001b[0m 375ms/step - accuracy: 0.5238 - f1_score: 0.4276 - loss: 1.2611 - precision: 0.6676 - recall: 0.3147 - val_accuracy: 0.5374 - val_f1_score: 0.4428 - val_loss: 1.2083 - val_precision: 0.6706 - val_recall: 0.3306\n",
      "Epoch 10/100\n",
      "\u001b[1m230/230\u001b[0m \u001b[32m━━━━━━━━━━━━━━━━━━━━\u001b[0m\u001b[37m\u001b[0m \u001b[1m94s\u001b[0m 410ms/step - accuracy: 0.5325 - f1_score: 0.4464 - loss: 1.2185 - precision: 0.6651 - recall: 0.3361 - val_accuracy: 0.5623 - val_f1_score: 0.4409 - val_loss: 1.1660 - val_precision: 0.7650 - val_recall: 0.3097\n",
      "Epoch 11/100\n",
      "\u001b[1m230/230\u001b[0m \u001b[32m━━━━━━━━━━━━━━━━━━━━\u001b[0m\u001b[37m\u001b[0m \u001b[1m83s\u001b[0m 360ms/step - accuracy: 0.5319 - f1_score: 0.4400 - loss: 1.2213 - precision: 0.6863 - recall: 0.3243 - val_accuracy: 0.5615 - val_f1_score: 0.5031 - val_loss: 1.1497 - val_precision: 0.7178 - val_recall: 0.3873\n",
      "Epoch 12/100\n",
      "\u001b[1m230/230\u001b[0m \u001b[32m━━━━━━━━━━━━━━━━━━━━\u001b[0m\u001b[37m\u001b[0m \u001b[1m83s\u001b[0m 360ms/step - accuracy: 0.5532 - f1_score: 0.4734 - loss: 1.1711 - precision: 0.6859 - recall: 0.3616 - val_accuracy: 0.5930 - val_f1_score: 0.5012 - val_loss: 1.0933 - val_precision: 0.7559 - val_recall: 0.3749\n",
      "Epoch 13/100\n",
      "\u001b[1m230/230\u001b[0m \u001b[32m━━━━━━━━━━━━━━━━━━━━\u001b[0m\u001b[37m\u001b[0m \u001b[1m101s\u001b[0m 440ms/step - accuracy: 0.5655 - f1_score: 0.4926 - loss: 1.1370 - precision: 0.7046 - recall: 0.3788 - val_accuracy: 0.5964 - val_f1_score: 0.5449 - val_loss: 1.0615 - val_precision: 0.6994 - val_recall: 0.4463\n",
      "Epoch 14/100\n",
      "\u001b[1m230/230\u001b[0m \u001b[32m━━━━━━━━━━━━━━━━━━━━\u001b[0m\u001b[37m\u001b[0m \u001b[1m95s\u001b[0m 414ms/step - accuracy: 0.5795 - f1_score: 0.5039 - loss: 1.1113 - precision: 0.7010 - recall: 0.3934 - val_accuracy: 0.5883 - val_f1_score: 0.5328 - val_loss: 1.0849 - val_precision: 0.7209 - val_recall: 0.4226\n",
      "Epoch 15/100\n",
      "\u001b[1m230/230\u001b[0m \u001b[32m━━━━━━━━━━━━━━━━━━━━\u001b[0m\u001b[37m\u001b[0m \u001b[1m76s\u001b[0m 331ms/step - accuracy: 0.5693 - f1_score: 0.4982 - loss: 1.1235 - precision: 0.7008 - recall: 0.3865 - val_accuracy: 0.6039 - val_f1_score: 0.5717 - val_loss: 1.0272 - val_precision: 0.7184 - val_recall: 0.4748\n",
      "Epoch 16/100\n",
      "\u001b[1m230/230\u001b[0m \u001b[32m━━━━━━━━━━━━━━━━━━━━\u001b[0m\u001b[37m\u001b[0m \u001b[1m52s\u001b[0m 227ms/step - accuracy: 0.5760 - f1_score: 0.5148 - loss: 1.0959 - precision: 0.6958 - recall: 0.4087 - val_accuracy: 0.6160 - val_f1_score: 0.5689 - val_loss: 1.0016 - val_precision: 0.7551 - val_recall: 0.4564\n",
      "Epoch 17/100\n",
      "\u001b[1m230/230\u001b[0m \u001b[32m━━━━━━━━━━━━━━━━━━━━\u001b[0m\u001b[37m\u001b[0m \u001b[1m44s\u001b[0m 192ms/step - accuracy: 0.5926 - f1_score: 0.5371 - loss: 1.0394 - precision: 0.7149 - recall: 0.4307 - val_accuracy: 0.5943 - val_f1_score: 0.5682 - val_loss: 1.0296 - val_precision: 0.6853 - val_recall: 0.4853\n",
      "Epoch 18/100\n",
      "\u001b[1m230/230\u001b[0m \u001b[32m━━━━━━━━━━━━━━━━━━━━\u001b[0m\u001b[37m\u001b[0m \u001b[1m51s\u001b[0m 222ms/step - accuracy: 0.5824 - f1_score: 0.5363 - loss: 1.0825 - precision: 0.7067 - recall: 0.4323 - val_accuracy: 0.6250 - val_f1_score: 0.5671 - val_loss: 0.9839 - val_precision: 0.7930 - val_recall: 0.4414\n",
      "Epoch 19/100\n",
      "\u001b[1m230/230\u001b[0m \u001b[32m━━━━━━━━━━━━━━━━━━━━\u001b[0m\u001b[37m\u001b[0m \u001b[1m43s\u001b[0m 187ms/step - accuracy: 0.6037 - f1_score: 0.5589 - loss: 1.0218 - precision: 0.7308 - recall: 0.4526 - val_accuracy: 0.6337 - val_f1_score: 0.5890 - val_loss: 0.9450 - val_precision: 0.7830 - val_recall: 0.4721\n",
      "Epoch 20/100\n",
      "\u001b[1m230/230\u001b[0m \u001b[32m━━━━━━━━━━━━━━━━━━━━\u001b[0m\u001b[37m\u001b[0m \u001b[1m50s\u001b[0m 216ms/step - accuracy: 0.6171 - f1_score: 0.5747 - loss: 0.9920 - precision: 0.7518 - recall: 0.4653 - val_accuracy: 0.6482 - val_f1_score: 0.6176 - val_loss: 0.9084 - val_precision: 0.7744 - val_recall: 0.5136\n",
      "Epoch 21/100\n",
      "\u001b[1m230/230\u001b[0m \u001b[32m━━━━━━━━━━━━━━━━━━━━\u001b[0m\u001b[37m\u001b[0m \u001b[1m65s\u001b[0m 283ms/step - accuracy: 0.6332 - f1_score: 0.5898 - loss: 0.9749 - precision: 0.7552 - recall: 0.4839 - val_accuracy: 0.6461 - val_f1_score: 0.6230 - val_loss: 0.9063 - val_precision: 0.7530 - val_recall: 0.5312\n",
      "Epoch 22/100\n",
      "\u001b[1m230/230\u001b[0m \u001b[32m━━━━━━━━━━━━━━━━━━━━\u001b[0m\u001b[37m\u001b[0m \u001b[1m74s\u001b[0m 321ms/step - accuracy: 0.6297 - f1_score: 0.5848 - loss: 0.9706 - precision: 0.7510 - recall: 0.4789 - val_accuracy: 0.6727 - val_f1_score: 0.6368 - val_loss: 0.8642 - val_precision: 0.7945 - val_recall: 0.5314\n",
      "Epoch 23/100\n",
      "\u001b[1m230/230\u001b[0m \u001b[32m━━━━━━━━━━━━━━━━━━━━\u001b[0m\u001b[37m\u001b[0m \u001b[1m76s\u001b[0m 331ms/step - accuracy: 0.6360 - f1_score: 0.5940 - loss: 0.9418 - precision: 0.7543 - recall: 0.4901 - val_accuracy: 0.6585 - val_f1_score: 0.6015 - val_loss: 0.8968 - val_precision: 0.8044 - val_recall: 0.4804\n",
      "Epoch 24/100\n",
      "\u001b[1m230/230\u001b[0m \u001b[32m━━━━━━━━━━━━━━━━━━━━\u001b[0m\u001b[37m\u001b[0m \u001b[1m86s\u001b[0m 372ms/step - accuracy: 0.6328 - f1_score: 0.6001 - loss: 0.9409 - precision: 0.7585 - recall: 0.4965 - val_accuracy: 0.6674 - val_f1_score: 0.6418 - val_loss: 0.8749 - val_precision: 0.7694 - val_recall: 0.5504\n",
      "Epoch 25/100\n",
      "\u001b[1m230/230\u001b[0m \u001b[32m━━━━━━━━━━━━━━━━━━━━\u001b[0m\u001b[37m\u001b[0m \u001b[1m102s\u001b[0m 444ms/step - accuracy: 0.6402 - f1_score: 0.6009 - loss: 0.9425 - precision: 0.7539 - recall: 0.4997 - val_accuracy: 0.6716 - val_f1_score: 0.6510 - val_loss: 0.8657 - val_precision: 0.7677 - val_recall: 0.5650\n",
      "Epoch 26/100\n",
      "\u001b[1m230/230\u001b[0m \u001b[32m━━━━━━━━━━━━━━━━━━━━\u001b[0m\u001b[37m\u001b[0m \u001b[1m144s\u001b[0m 453ms/step - accuracy: 0.6473 - f1_score: 0.6141 - loss: 0.9032 - precision: 0.7713 - recall: 0.5104 - val_accuracy: 0.6938 - val_f1_score: 0.6399 - val_loss: 0.8171 - val_precision: 0.8271 - val_recall: 0.5218\n",
      "Epoch 27/100\n",
      "\u001b[1m230/230\u001b[0m \u001b[32m━━━━━━━━━━━━━━━━━━━━\u001b[0m\u001b[37m\u001b[0m \u001b[1m99s\u001b[0m 432ms/step - accuracy: 0.6657 - f1_score: 0.6289 - loss: 0.8810 - precision: 0.7689 - recall: 0.5322 - val_accuracy: 0.6803 - val_f1_score: 0.6673 - val_loss: 0.8413 - val_precision: 0.7712 - val_recall: 0.5881\n",
      "Epoch 28/100\n",
      "\u001b[1m230/230\u001b[0m \u001b[32m━━━━━━━━━━━━━━━━━━━━\u001b[0m\u001b[37m\u001b[0m \u001b[1m102s\u001b[0m 443ms/step - accuracy: 0.6585 - f1_score: 0.6375 - loss: 0.8922 - precision: 0.7772 - recall: 0.5405 - val_accuracy: 0.6813 - val_f1_score: 0.6709 - val_loss: 0.8101 - val_precision: 0.7712 - val_recall: 0.5936\n",
      "Epoch 29/100\n",
      "\u001b[1m230/230\u001b[0m \u001b[32m━━━━━━━━━━━━━━━━━━━━\u001b[0m\u001b[37m\u001b[0m \u001b[1m99s\u001b[0m 433ms/step - accuracy: 0.6749 - f1_score: 0.6461 - loss: 0.8509 - precision: 0.7859 - recall: 0.5486 - val_accuracy: 0.7041 - val_f1_score: 0.6725 - val_loss: 0.7824 - val_precision: 0.8449 - val_recall: 0.5585\n",
      "Epoch 30/100\n",
      "\u001b[1m230/230\u001b[0m \u001b[32m━━━━━━━━━━━━━━━━━━━━\u001b[0m\u001b[37m\u001b[0m \u001b[1m92s\u001b[0m 400ms/step - accuracy: 0.6757 - f1_score: 0.6446 - loss: 0.8584 - precision: 0.7781 - recall: 0.5503 - val_accuracy: 0.7141 - val_f1_score: 0.6895 - val_loss: 0.7650 - val_precision: 0.8134 - val_recall: 0.5984\n",
      "Epoch 31/100\n",
      "\u001b[1m230/230\u001b[0m \u001b[32m━━━━━━━━━━━━━━━━━━━━\u001b[0m\u001b[37m\u001b[0m \u001b[1m102s\u001b[0m 441ms/step - accuracy: 0.6850 - f1_score: 0.6528 - loss: 0.8257 - precision: 0.7864 - recall: 0.5580 - val_accuracy: 0.7064 - val_f1_score: 0.6931 - val_loss: 0.7619 - val_precision: 0.7937 - val_recall: 0.6152\n",
      "Epoch 32/100\n",
      "\u001b[1m230/230\u001b[0m \u001b[32m━━━━━━━━━━━━━━━━━━━━\u001b[0m\u001b[37m\u001b[0m \u001b[1m101s\u001b[0m 438ms/step - accuracy: 0.6824 - f1_score: 0.6582 - loss: 0.8263 - precision: 0.7802 - recall: 0.5695 - val_accuracy: 0.6739 - val_f1_score: 0.6602 - val_loss: 0.8158 - val_precision: 0.7739 - val_recall: 0.5757\n",
      "Epoch 33/100\n",
      "\u001b[1m230/230\u001b[0m \u001b[32m━━━━━━━━━━━━━━━━━━━━\u001b[0m\u001b[37m\u001b[0m \u001b[1m101s\u001b[0m 439ms/step - accuracy: 0.6984 - f1_score: 0.6698 - loss: 0.8158 - precision: 0.7929 - recall: 0.5798 - val_accuracy: 0.7155 - val_f1_score: 0.6843 - val_loss: 0.7595 - val_precision: 0.8384 - val_recall: 0.5780\n",
      "Epoch 34/100\n",
      "\u001b[1m230/230\u001b[0m \u001b[32m━━━━━━━━━━━━━━━━━━━━\u001b[0m\u001b[37m\u001b[0m \u001b[1m98s\u001b[0m 425ms/step - accuracy: 0.6925 - f1_score: 0.6743 - loss: 0.8091 - precision: 0.7989 - recall: 0.5836 - val_accuracy: 0.7237 - val_f1_score: 0.7028 - val_loss: 0.7276 - val_precision: 0.8241 - val_recall: 0.6126\n",
      "Epoch 35/100\n",
      "\u001b[1m230/230\u001b[0m \u001b[32m━━━━━━━━━━━━━━━━━━━━\u001b[0m\u001b[37m\u001b[0m \u001b[1m85s\u001b[0m 371ms/step - accuracy: 0.7025 - f1_score: 0.6802 - loss: 0.7750 - precision: 0.8031 - recall: 0.5899 - val_accuracy: 0.7117 - val_f1_score: 0.7017 - val_loss: 0.7258 - val_precision: 0.8164 - val_recall: 0.6153\n",
      "Epoch 36/100\n",
      "\u001b[1m230/230\u001b[0m \u001b[32m━━━━━━━━━━━━━━━━━━━━\u001b[0m\u001b[37m\u001b[0m \u001b[1m85s\u001b[0m 371ms/step - accuracy: 0.6967 - f1_score: 0.6723 - loss: 0.7995 - precision: 0.7850 - recall: 0.5879 - val_accuracy: 0.7500 - val_f1_score: 0.7294 - val_loss: 0.6828 - val_precision: 0.8500 - val_recall: 0.6388\n",
      "Epoch 37/100\n",
      "\u001b[1m230/230\u001b[0m \u001b[32m━━━━━━━━━━━━━━━━━━━━\u001b[0m\u001b[37m\u001b[0m \u001b[1m85s\u001b[0m 369ms/step - accuracy: 0.7176 - f1_score: 0.6948 - loss: 0.7436 - precision: 0.8038 - recall: 0.6119 - val_accuracy: 0.7331 - val_f1_score: 0.7175 - val_loss: 0.7228 - val_precision: 0.8477 - val_recall: 0.6220\n",
      "Epoch 38/100\n",
      "\u001b[1m230/230\u001b[0m \u001b[32m━━━━━━━━━━━━━━━━━━━━\u001b[0m\u001b[37m\u001b[0m \u001b[1m84s\u001b[0m 367ms/step - accuracy: 0.7189 - f1_score: 0.6966 - loss: 0.7494 - precision: 0.8117 - recall: 0.6102 - val_accuracy: 0.7473 - val_f1_score: 0.7286 - val_loss: 0.6904 - val_precision: 0.8443 - val_recall: 0.6408\n",
      "Epoch 39/100\n",
      "\u001b[1m230/230\u001b[0m \u001b[32m━━━━━━━━━━━━━━━━━━━━\u001b[0m\u001b[37m\u001b[0m \u001b[1m85s\u001b[0m 370ms/step - accuracy: 0.7135 - f1_score: 0.7004 - loss: 0.7531 - precision: 0.8169 - recall: 0.6131 - val_accuracy: 0.7452 - val_f1_score: 0.7364 - val_loss: 0.6717 - val_precision: 0.8254 - val_recall: 0.6648\n",
      "Epoch 40/100\n",
      "\u001b[1m230/230\u001b[0m \u001b[32m━━━━━━━━━━━━━━━━━━━━\u001b[0m\u001b[37m\u001b[0m \u001b[1m85s\u001b[0m 369ms/step - accuracy: 0.7054 - f1_score: 0.6891 - loss: 0.7511 - precision: 0.7966 - recall: 0.6072 - val_accuracy: 0.7497 - val_f1_score: 0.7360 - val_loss: 0.6625 - val_precision: 0.8476 - val_recall: 0.6504\n",
      "Epoch 41/100\n",
      "\u001b[1m230/230\u001b[0m \u001b[32m━━━━━━━━━━━━━━━━━━━━\u001b[0m\u001b[37m\u001b[0m \u001b[1m88s\u001b[0m 382ms/step - accuracy: 0.7122 - f1_score: 0.6997 - loss: 0.7395 - precision: 0.8081 - recall: 0.6172 - val_accuracy: 0.7572 - val_f1_score: 0.7423 - val_loss: 0.6374 - val_precision: 0.8521 - val_recall: 0.6576\n",
      "Epoch 42/100\n",
      "\u001b[1m230/230\u001b[0m \u001b[32m━━━━━━━━━━━━━━━━━━━━\u001b[0m\u001b[37m\u001b[0m \u001b[1m88s\u001b[0m 382ms/step - accuracy: 0.7251 - f1_score: 0.7140 - loss: 0.7052 - precision: 0.8123 - recall: 0.6370 - val_accuracy: 0.7804 - val_f1_score: 0.7662 - val_loss: 0.6022 - val_precision: 0.8672 - val_recall: 0.6863\n",
      "Epoch 43/100\n",
      "\u001b[1m230/230\u001b[0m \u001b[32m━━━━━━━━━━━━━━━━━━━━\u001b[0m\u001b[37m\u001b[0m \u001b[1m88s\u001b[0m 385ms/step - accuracy: 0.7366 - f1_score: 0.7240 - loss: 0.6941 - precision: 0.8194 - recall: 0.6485 - val_accuracy: 0.7758 - val_f1_score: 0.7550 - val_loss: 0.6258 - val_precision: 0.8676 - val_recall: 0.6682\n",
      "Epoch 44/100\n",
      "\u001b[1m230/230\u001b[0m \u001b[32m━━━━━━━━━━━━━━━━━━━━\u001b[0m\u001b[37m\u001b[0m \u001b[1m86s\u001b[0m 375ms/step - accuracy: 0.7387 - f1_score: 0.7274 - loss: 0.7043 - precision: 0.8280 - recall: 0.6486 - val_accuracy: 0.7553 - val_f1_score: 0.7471 - val_loss: 0.6528 - val_precision: 0.8427 - val_recall: 0.6709\n",
      "Epoch 45/100\n",
      "\u001b[1m230/230\u001b[0m \u001b[32m━━━━━━━━━━━━━━━━━━━━\u001b[0m\u001b[37m\u001b[0m \u001b[1m87s\u001b[0m 378ms/step - accuracy: 0.7322 - f1_score: 0.7203 - loss: 0.7071 - precision: 0.8196 - recall: 0.6424 - val_accuracy: 0.7664 - val_f1_score: 0.7579 - val_loss: 0.6283 - val_precision: 0.8446 - val_recall: 0.6874\n",
      "Epoch 46/100\n",
      "\u001b[1m230/230\u001b[0m \u001b[32m━━━━━━━━━━━━━━━━━━━━\u001b[0m\u001b[37m\u001b[0m \u001b[1m88s\u001b[0m 381ms/step - accuracy: 0.7363 - f1_score: 0.7261 - loss: 0.7101 - precision: 0.8165 - recall: 0.6538 - val_accuracy: 0.7872 - val_f1_score: 0.7791 - val_loss: 0.5799 - val_precision: 0.8684 - val_recall: 0.7064\n",
      "Epoch 47/100\n",
      "\u001b[1m230/230\u001b[0m \u001b[32m━━━━━━━━━━━━━━━━━━━━\u001b[0m\u001b[37m\u001b[0m \u001b[1m87s\u001b[0m 378ms/step - accuracy: 0.7466 - f1_score: 0.7315 - loss: 0.6769 - precision: 0.8271 - recall: 0.6558 - val_accuracy: 0.7842 - val_f1_score: 0.7640 - val_loss: 0.6096 - val_precision: 0.8771 - val_recall: 0.6768\n",
      "Epoch 48/100\n",
      "\u001b[1m230/230\u001b[0m \u001b[32m━━━━━━━━━━━━━━━━━━━━\u001b[0m\u001b[37m\u001b[0m \u001b[1m81s\u001b[0m 353ms/step - accuracy: 0.7411 - f1_score: 0.7224 - loss: 0.6919 - precision: 0.8159 - recall: 0.6483 - val_accuracy: 0.7841 - val_f1_score: 0.7799 - val_loss: 0.5836 - val_precision: 0.8628 - val_recall: 0.7116\n",
      "Epoch 49/100\n",
      "\u001b[1m230/230\u001b[0m \u001b[32m━━━━━━━━━━━━━━━━━━━━\u001b[0m\u001b[37m\u001b[0m \u001b[1m80s\u001b[0m 348ms/step - accuracy: 0.7281 - f1_score: 0.7118 - loss: 0.7125 - precision: 0.8117 - recall: 0.6338 - val_accuracy: 0.7918 - val_f1_score: 0.7793 - val_loss: 0.5673 - val_precision: 0.8641 - val_recall: 0.7097\n",
      "Epoch 50/100\n",
      "\u001b[1m230/230\u001b[0m \u001b[32m━━━━━━━━━━━━━━━━━━━━\u001b[0m\u001b[37m\u001b[0m \u001b[1m90s\u001b[0m 390ms/step - accuracy: 0.7542 - f1_score: 0.7348 - loss: 0.6651 - precision: 0.8251 - recall: 0.6623 - val_accuracy: 0.7555 - val_f1_score: 0.7525 - val_loss: 0.6489 - val_precision: 0.8444 - val_recall: 0.6786\n",
      "Epoch 51/100\n",
      "\u001b[1m230/230\u001b[0m \u001b[32m━━━━━━━━━━━━━━━━━━━━\u001b[0m\u001b[37m\u001b[0m \u001b[1m89s\u001b[0m 385ms/step - accuracy: 0.7459 - f1_score: 0.7434 - loss: 0.6678 - precision: 0.8331 - recall: 0.6712 - val_accuracy: 0.8064 - val_f1_score: 0.7945 - val_loss: 0.5514 - val_precision: 0.8818 - val_recall: 0.7229\n",
      "Epoch 52/100\n",
      "\u001b[1m230/230\u001b[0m \u001b[32m━━━━━━━━━━━━━━━━━━━━\u001b[0m\u001b[37m\u001b[0m \u001b[1m88s\u001b[0m 381ms/step - accuracy: 0.7552 - f1_score: 0.7481 - loss: 0.6536 - precision: 0.8340 - recall: 0.6782 - val_accuracy: 0.8066 - val_f1_score: 0.7865 - val_loss: 0.5446 - val_precision: 0.8872 - val_recall: 0.7064\n",
      "Epoch 53/100\n",
      "\u001b[1m230/230\u001b[0m \u001b[32m━━━━━━━━━━━━━━━━━━━━\u001b[0m\u001b[37m\u001b[0m \u001b[1m87s\u001b[0m 380ms/step - accuracy: 0.7621 - f1_score: 0.7518 - loss: 0.6280 - precision: 0.8351 - recall: 0.6837 - val_accuracy: 0.7763 - val_f1_score: 0.7644 - val_loss: 0.5965 - val_precision: 0.8565 - val_recall: 0.6902\n",
      "Epoch 54/100\n",
      "\u001b[1m230/230\u001b[0m \u001b[32m━━━━━━━━━━━━━━━━━━━━\u001b[0m\u001b[37m\u001b[0m \u001b[1m89s\u001b[0m 385ms/step - accuracy: 0.7512 - f1_score: 0.7428 - loss: 0.6465 - precision: 0.8345 - recall: 0.6694 - val_accuracy: 0.7827 - val_f1_score: 0.7712 - val_loss: 0.5883 - val_precision: 0.8510 - val_recall: 0.7052\n",
      "Epoch 55/100\n",
      "\u001b[1m230/230\u001b[0m \u001b[32m━━━━━━━━━━━━━━━━━━━━\u001b[0m\u001b[37m\u001b[0m \u001b[1m94s\u001b[0m 408ms/step - accuracy: 0.7749 - f1_score: 0.7650 - loss: 0.6111 - precision: 0.8484 - recall: 0.6966 - val_accuracy: 0.8068 - val_f1_score: 0.7951 - val_loss: 0.5283 - val_precision: 0.8752 - val_recall: 0.7285\n",
      "Epoch 56/100\n",
      "\u001b[1m230/230\u001b[0m \u001b[32m━━━━━━━━━━━━━━━━━━━━\u001b[0m\u001b[37m\u001b[0m \u001b[1m90s\u001b[0m 393ms/step - accuracy: 0.7819 - f1_score: 0.7705 - loss: 0.5951 - precision: 0.8515 - recall: 0.7036 - val_accuracy: 0.7978 - val_f1_score: 0.7918 - val_loss: 0.5371 - val_precision: 0.8621 - val_recall: 0.7321\n",
      "Epoch 57/100\n",
      "\u001b[1m230/230\u001b[0m \u001b[32m━━━━━━━━━━━━━━━━━━━━\u001b[0m\u001b[37m\u001b[0m \u001b[1m91s\u001b[0m 396ms/step - accuracy: 0.7542 - f1_score: 0.7519 - loss: 0.6365 - precision: 0.8350 - recall: 0.6839 - val_accuracy: 0.7969 - val_f1_score: 0.7825 - val_loss: 0.5595 - val_precision: 0.8690 - val_recall: 0.7117\n",
      "Epoch 58/100\n",
      "\u001b[1m230/230\u001b[0m \u001b[32m━━━━━━━━━━━━━━━━━━━━\u001b[0m\u001b[37m\u001b[0m \u001b[1m90s\u001b[0m 393ms/step - accuracy: 0.7612 - f1_score: 0.7496 - loss: 0.6238 - precision: 0.8273 - recall: 0.6853 - val_accuracy: 0.8120 - val_f1_score: 0.8092 - val_loss: 0.5051 - val_precision: 0.8757 - val_recall: 0.7520\n",
      "Epoch 59/100\n",
      "\u001b[1m230/230\u001b[0m \u001b[32m━━━━━━━━━━━━━━━━━━━━\u001b[0m\u001b[37m\u001b[0m \u001b[1m91s\u001b[0m 396ms/step - accuracy: 0.7650 - f1_score: 0.7569 - loss: 0.6158 - precision: 0.8352 - recall: 0.6921 - val_accuracy: 0.8233 - val_f1_score: 0.8129 - val_loss: 0.5017 - val_precision: 0.8908 - val_recall: 0.7475\n",
      "Epoch 60/100\n",
      "\u001b[1m230/230\u001b[0m \u001b[32m━━━━━━━━━━━━━━━━━━━━\u001b[0m\u001b[37m\u001b[0m \u001b[1m90s\u001b[0m 392ms/step - accuracy: 0.7774 - f1_score: 0.7663 - loss: 0.6019 - precision: 0.8435 - recall: 0.7020 - val_accuracy: 0.8188 - val_f1_score: 0.8118 - val_loss: 0.5026 - val_precision: 0.8869 - val_recall: 0.7484\n",
      "Epoch 61/100\n",
      "\u001b[1m230/230\u001b[0m \u001b[32m━━━━━━━━━━━━━━━━━━━━\u001b[0m\u001b[37m\u001b[0m \u001b[1m80s\u001b[0m 346ms/step - accuracy: 0.7831 - f1_score: 0.7847 - loss: 0.5822 - precision: 0.8522 - recall: 0.7272 - val_accuracy: 0.8216 - val_f1_score: 0.8117 - val_loss: 0.4865 - val_precision: 0.8893 - val_recall: 0.7466\n",
      "Epoch 62/100\n",
      "\u001b[1m230/230\u001b[0m \u001b[32m━━━━━━━━━━━━━━━━━━━━\u001b[0m\u001b[37m\u001b[0m \u001b[1m89s\u001b[0m 386ms/step - accuracy: 0.7753 - f1_score: 0.7707 - loss: 0.5912 - precision: 0.8439 - recall: 0.7092 - val_accuracy: 0.7912 - val_f1_score: 0.7859 - val_loss: 0.5572 - val_precision: 0.8588 - val_recall: 0.7244\n",
      "Epoch 63/100\n",
      "\u001b[1m230/230\u001b[0m \u001b[32m━━━━━━━━━━━━━━━━━━━━\u001b[0m\u001b[37m\u001b[0m \u001b[1m66s\u001b[0m 285ms/step - accuracy: 0.7889 - f1_score: 0.7815 - loss: 0.5820 - precision: 0.8562 - recall: 0.7187 - val_accuracy: 0.8081 - val_f1_score: 0.8044 - val_loss: 0.5106 - val_precision: 0.8772 - val_recall: 0.7428\n",
      "Epoch 64/100\n",
      "\u001b[1m230/230\u001b[0m \u001b[32m━━━━━━━━━━━━━━━━━━━━\u001b[0m\u001b[37m\u001b[0m \u001b[1m71s\u001b[0m 309ms/step - accuracy: 0.7911 - f1_score: 0.7869 - loss: 0.5662 - precision: 0.8528 - recall: 0.7306 - val_accuracy: 0.8218 - val_f1_score: 0.8185 - val_loss: 0.4889 - val_precision: 0.8886 - val_recall: 0.7587\n",
      "Epoch 65/100\n",
      "\u001b[1m230/230\u001b[0m \u001b[32m━━━━━━━━━━━━━━━━━━━━\u001b[0m\u001b[37m\u001b[0m \u001b[1m70s\u001b[0m 305ms/step - accuracy: 0.7847 - f1_score: 0.7801 - loss: 0.5741 - precision: 0.8577 - recall: 0.7155 - val_accuracy: 0.8053 - val_f1_score: 0.8013 - val_loss: 0.5214 - val_precision: 0.8653 - val_recall: 0.7462\n",
      "Epoch 66/100\n",
      "\u001b[1m230/230\u001b[0m \u001b[32m━━━━━━━━━━━━━━━━━━━━\u001b[0m\u001b[37m\u001b[0m \u001b[1m74s\u001b[0m 322ms/step - accuracy: 0.7820 - f1_score: 0.7756 - loss: 0.5930 - precision: 0.8451 - recall: 0.7167 - val_accuracy: 0.8096 - val_f1_score: 0.8065 - val_loss: 0.5100 - val_precision: 0.8702 - val_recall: 0.7515\n",
      "Epoch 67/100\n",
      "\u001b[1m230/230\u001b[0m \u001b[32m━━━━━━━━━━━━━━━━━━━━\u001b[0m\u001b[37m\u001b[0m \u001b[1m73s\u001b[0m 318ms/step - accuracy: 0.7854 - f1_score: 0.7801 - loss: 0.5747 - precision: 0.8487 - recall: 0.7218 - val_accuracy: 0.8139 - val_f1_score: 0.8081 - val_loss: 0.4984 - val_precision: 0.8790 - val_recall: 0.7478\n",
      "Epoch 68/100\n",
      "\u001b[1m230/230\u001b[0m \u001b[32m━━━━━━━━━━━━━━━━━━━━\u001b[0m\u001b[37m\u001b[0m \u001b[1m72s\u001b[0m 311ms/step - accuracy: 0.7921 - f1_score: 0.7873 - loss: 0.5567 - precision: 0.8538 - recall: 0.7304 - val_accuracy: 0.8111 - val_f1_score: 0.8087 - val_loss: 0.5044 - val_precision: 0.8706 - val_recall: 0.7550\n",
      "Epoch 69/100\n",
      "\u001b[1m230/230\u001b[0m \u001b[32m━━━━━━━━━━━━━━━━━━━━\u001b[0m\u001b[37m\u001b[0m \u001b[1m71s\u001b[0m 310ms/step - accuracy: 0.7880 - f1_score: 0.7825 - loss: 0.5695 - precision: 0.8508 - recall: 0.7245 - val_accuracy: 0.8244 - val_f1_score: 0.8171 - val_loss: 0.4865 - val_precision: 0.8938 - val_recall: 0.7525\n",
      "Epoch 70/100\n",
      "\u001b[1m230/230\u001b[0m \u001b[32m━━━━━━━━━━━━━━━━━━━━\u001b[0m\u001b[37m\u001b[0m \u001b[1m73s\u001b[0m 319ms/step - accuracy: 0.7973 - f1_score: 0.7880 - loss: 0.5395 - precision: 0.8589 - recall: 0.7281 - val_accuracy: 0.7983 - val_f1_score: 0.7933 - val_loss: 0.5392 - val_precision: 0.8554 - val_recall: 0.7396\n",
      "Epoch 71/100\n",
      "\u001b[1m230/230\u001b[0m \u001b[32m━━━━━━━━━━━━━━━━━━━━\u001b[0m\u001b[37m\u001b[0m \u001b[1m72s\u001b[0m 311ms/step - accuracy: 0.7880 - f1_score: 0.7848 - loss: 0.5688 - precision: 0.8533 - recall: 0.7265 - val_accuracy: 0.8246 - val_f1_score: 0.8206 - val_loss: 0.4739 - val_precision: 0.8835 - val_recall: 0.7661\n",
      "Epoch 72/100\n",
      "\u001b[1m230/230\u001b[0m \u001b[32m━━━━━━━━━━━━━━━━━━━━\u001b[0m\u001b[37m\u001b[0m \u001b[1m72s\u001b[0m 315ms/step - accuracy: 0.7937 - f1_score: 0.7874 - loss: 0.5585 - precision: 0.8487 - recall: 0.7344 - val_accuracy: 0.8103 - val_f1_score: 0.8064 - val_loss: 0.5231 - val_precision: 0.8706 - val_recall: 0.7511\n",
      "Epoch 73/100\n",
      "\u001b[1m230/230\u001b[0m \u001b[32m━━━━━━━━━━━━━━━━━━━━\u001b[0m\u001b[37m\u001b[0m \u001b[1m72s\u001b[0m 315ms/step - accuracy: 0.7843 - f1_score: 0.7764 - loss: 0.5835 - precision: 0.8447 - recall: 0.7183 - val_accuracy: 0.8393 - val_f1_score: 0.8330 - val_loss: 0.4458 - val_precision: 0.8965 - val_recall: 0.7779\n",
      "Epoch 74/100\n",
      "\u001b[1m230/230\u001b[0m \u001b[32m━━━━━━━━━━━━━━━━━━━━\u001b[0m\u001b[37m\u001b[0m \u001b[1m73s\u001b[0m 319ms/step - accuracy: 0.8043 - f1_score: 0.7991 - loss: 0.5303 - precision: 0.8649 - recall: 0.7426 - val_accuracy: 0.8224 - val_f1_score: 0.8195 - val_loss: 0.4744 - val_precision: 0.8819 - val_recall: 0.7654\n",
      "Epoch 75/100\n",
      "\u001b[1m230/230\u001b[0m \u001b[32m━━━━━━━━━━━━━━━━━━━━\u001b[0m\u001b[37m\u001b[0m \u001b[1m72s\u001b[0m 311ms/step - accuracy: 0.8035 - f1_score: 0.7960 - loss: 0.5406 - precision: 0.8618 - recall: 0.7396 - val_accuracy: 0.8141 - val_f1_score: 0.8153 - val_loss: 0.4822 - val_precision: 0.8603 - val_recall: 0.7748\n",
      "Epoch 76/100\n",
      "\u001b[1m230/230\u001b[0m \u001b[32m━━━━━━━━━━━━━━━━━━━━\u001b[0m\u001b[37m\u001b[0m \u001b[1m71s\u001b[0m 310ms/step - accuracy: 0.7723 - f1_score: 0.7660 - loss: 0.6038 - precision: 0.8320 - recall: 0.7098 - val_accuracy: 0.8342 - val_f1_score: 0.8272 - val_loss: 0.4630 - val_precision: 0.8969 - val_recall: 0.7676\n",
      "Epoch 77/100\n",
      "\u001b[1m230/230\u001b[0m \u001b[32m━━━━━━━━━━━━━━━━━━━━\u001b[0m\u001b[37m\u001b[0m \u001b[1m74s\u001b[0m 320ms/step - accuracy: 0.8056 - f1_score: 0.7963 - loss: 0.5289 - precision: 0.8571 - recall: 0.7436 - val_accuracy: 0.8367 - val_f1_score: 0.8346 - val_loss: 0.4461 - val_precision: 0.8918 - val_recall: 0.7844\n",
      "Epoch 78/100\n",
      "\u001b[1m230/230\u001b[0m \u001b[32m━━━━━━━━━━━━━━━━━━━━\u001b[0m\u001b[37m\u001b[0m \u001b[1m72s\u001b[0m 315ms/step - accuracy: 0.7978 - f1_score: 0.7971 - loss: 0.5318 - precision: 0.8552 - recall: 0.7463 - val_accuracy: 0.8341 - val_f1_score: 0.8253 - val_loss: 0.4609 - val_precision: 0.8949 - val_recall: 0.7658\n",
      "Epoch 79/100\n",
      "\u001b[1m230/230\u001b[0m \u001b[32m━━━━━━━━━━━━━━━━━━━━\u001b[0m\u001b[37m\u001b[0m \u001b[1m73s\u001b[0m 319ms/step - accuracy: 0.8081 - f1_score: 0.8083 - loss: 0.5184 - precision: 0.8714 - recall: 0.7538 - val_accuracy: 0.8233 - val_f1_score: 0.8178 - val_loss: 0.4789 - val_precision: 0.8789 - val_recall: 0.7647\n",
      "Epoch 80/100\n",
      "\u001b[1m230/230\u001b[0m \u001b[32m━━━━━━━━━━━━━━━━━━━━\u001b[0m\u001b[37m\u001b[0m \u001b[1m73s\u001b[0m 318ms/step - accuracy: 0.8012 - f1_score: 0.7962 - loss: 0.5242 - precision: 0.8562 - recall: 0.7441 - val_accuracy: 0.8089 - val_f1_score: 0.8085 - val_loss: 0.5024 - val_precision: 0.8575 - val_recall: 0.7647\n",
      "Epoch 81/100\n",
      "\u001b[1m230/230\u001b[0m \u001b[32m━━━━━━━━━━━━━━━━━━━━\u001b[0m\u001b[37m\u001b[0m \u001b[1m73s\u001b[0m 318ms/step - accuracy: 0.8044 - f1_score: 0.8022 - loss: 0.5296 - precision: 0.8615 - recall: 0.7506 - val_accuracy: 0.8473 - val_f1_score: 0.8417 - val_loss: 0.4300 - val_precision: 0.9097 - val_recall: 0.7831\n",
      "Epoch 82/100\n",
      "\u001b[1m230/230\u001b[0m \u001b[32m━━━━━━━━━━━━━━━━━━━━\u001b[0m\u001b[37m\u001b[0m \u001b[1m73s\u001b[0m 318ms/step - accuracy: 0.8102 - f1_score: 0.8018 - loss: 0.5097 - precision: 0.8642 - recall: 0.7479 - val_accuracy: 0.8412 - val_f1_score: 0.8358 - val_loss: 0.4494 - val_precision: 0.8885 - val_recall: 0.7890\n",
      "Epoch 83/100\n",
      "\u001b[1m230/230\u001b[0m \u001b[32m━━━━━━━━━━━━━━━━━━━━\u001b[0m\u001b[37m\u001b[0m \u001b[1m73s\u001b[0m 319ms/step - accuracy: 0.8080 - f1_score: 0.8058 - loss: 0.5058 - precision: 0.8639 - recall: 0.7550 - val_accuracy: 0.8419 - val_f1_score: 0.8417 - val_loss: 0.4414 - val_precision: 0.8989 - val_recall: 0.7913\n",
      "Epoch 84/100\n",
      "\u001b[1m230/230\u001b[0m \u001b[32m━━━━━━━━━━━━━━━━━━━━\u001b[0m\u001b[37m\u001b[0m \u001b[1m74s\u001b[0m 321ms/step - accuracy: 0.8070 - f1_score: 0.8011 - loss: 0.5305 - precision: 0.8628 - recall: 0.7477 - val_accuracy: 0.8499 - val_f1_score: 0.8463 - val_loss: 0.4179 - val_precision: 0.8887 - val_recall: 0.8078\n",
      "Epoch 85/100\n",
      "\u001b[1m230/230\u001b[0m \u001b[32m━━━━━━━━━━━━━━━━━━━━\u001b[0m\u001b[37m\u001b[0m \u001b[1m73s\u001b[0m 317ms/step - accuracy: 0.8084 - f1_score: 0.8112 - loss: 0.5110 - precision: 0.8639 - recall: 0.7647 - val_accuracy: 0.8212 - val_f1_score: 0.8130 - val_loss: 0.4855 - val_precision: 0.8757 - val_recall: 0.7587\n",
      "Epoch 86/100\n",
      "\u001b[1m230/230\u001b[0m \u001b[32m━━━━━━━━━━━━━━━━━━━━\u001b[0m\u001b[37m\u001b[0m \u001b[1m73s\u001b[0m 316ms/step - accuracy: 0.7986 - f1_score: 0.7966 - loss: 0.5141 - precision: 0.8545 - recall: 0.7461 - val_accuracy: 0.8439 - val_f1_score: 0.8335 - val_loss: 0.4365 - val_precision: 0.8916 - val_recall: 0.7826\n",
      "Epoch 87/100\n",
      "\u001b[1m230/230\u001b[0m \u001b[32m━━━━━━━━━━━━━━━━━━━━\u001b[0m\u001b[37m\u001b[0m \u001b[1m74s\u001b[0m 322ms/step - accuracy: 0.8056 - f1_score: 0.8011 - loss: 0.5321 - precision: 0.8605 - recall: 0.7493 - val_accuracy: 0.8430 - val_f1_score: 0.8366 - val_loss: 0.4282 - val_precision: 0.8820 - val_recall: 0.7957\n",
      "Epoch 88/100\n",
      "\u001b[1m230/230\u001b[0m \u001b[32m━━━━━━━━━━━━━━━━━━━━\u001b[0m\u001b[37m\u001b[0m \u001b[1m74s\u001b[0m 322ms/step - accuracy: 0.8290 - f1_score: 0.8270 - loss: 0.4794 - precision: 0.8784 - recall: 0.7813 - val_accuracy: 0.8405 - val_f1_score: 0.8355 - val_loss: 0.4426 - val_precision: 0.8930 - val_recall: 0.7850\n",
      "Epoch 89/100\n",
      "\u001b[1m230/230\u001b[0m \u001b[32m━━━━━━━━━━━━━━━━━━━━\u001b[0m\u001b[37m\u001b[0m \u001b[1m75s\u001b[0m 324ms/step - accuracy: 0.8196 - f1_score: 0.8124 - loss: 0.5004 - precision: 0.8671 - recall: 0.7642 - val_accuracy: 0.8443 - val_f1_score: 0.8395 - val_loss: 0.4325 - val_precision: 0.8867 - val_recall: 0.7970\n",
      "Epoch 90/100\n",
      "\u001b[1m230/230\u001b[0m \u001b[32m━━━━━━━━━━━━━━━━━━━━\u001b[0m\u001b[37m\u001b[0m \u001b[1m75s\u001b[0m 326ms/step - accuracy: 0.8187 - f1_score: 0.8099 - loss: 0.4984 - precision: 0.8680 - recall: 0.7590 - val_accuracy: 0.8514 - val_f1_score: 0.8399 - val_loss: 0.4228 - val_precision: 0.8921 - val_recall: 0.7935\n",
      "Epoch 91/100\n",
      "\u001b[1m230/230\u001b[0m \u001b[32m━━━━━━━━━━━━━━━━━━━━\u001b[0m\u001b[37m\u001b[0m \u001b[1m76s\u001b[0m 330ms/step - accuracy: 0.8237 - f1_score: 0.8160 - loss: 0.4841 - precision: 0.8718 - recall: 0.7670 - val_accuracy: 0.8441 - val_f1_score: 0.8408 - val_loss: 0.4213 - val_precision: 0.8891 - val_recall: 0.7976\n",
      "Epoch 92/100\n",
      "\u001b[1m230/230\u001b[0m \u001b[32m━━━━━━━━━━━━━━━━━━━━\u001b[0m\u001b[37m\u001b[0m \u001b[1m75s\u001b[0m 325ms/step - accuracy: 0.8193 - f1_score: 0.8171 - loss: 0.4923 - precision: 0.8680 - recall: 0.7719 - val_accuracy: 0.8432 - val_f1_score: 0.8412 - val_loss: 0.4297 - val_precision: 0.9002 - val_recall: 0.7895\n",
      "Epoch 93/100\n",
      "\u001b[1m230/230\u001b[0m \u001b[32m━━━━━━━━━━━━━━━━━━━━\u001b[0m\u001b[37m\u001b[0m \u001b[1m75s\u001b[0m 327ms/step - accuracy: 0.8183 - f1_score: 0.8141 - loss: 0.4907 - precision: 0.8726 - recall: 0.7630 - val_accuracy: 0.8603 - val_f1_score: 0.8561 - val_loss: 0.3874 - val_precision: 0.9057 - val_recall: 0.8116\n",
      "Epoch 94/100\n",
      "\u001b[1m230/230\u001b[0m \u001b[32m━━━━━━━━━━━━━━━━━━━━\u001b[0m\u001b[37m\u001b[0m \u001b[1m74s\u001b[0m 323ms/step - accuracy: 0.8355 - f1_score: 0.8329 - loss: 0.4622 - precision: 0.8824 - recall: 0.7887 - val_accuracy: 0.8261 - val_f1_score: 0.8287 - val_loss: 0.4451 - val_precision: 0.8773 - val_recall: 0.7853\n",
      "Epoch 95/100\n",
      "\u001b[1m230/230\u001b[0m \u001b[32m━━━━━━━━━━━━━━━━━━━━\u001b[0m\u001b[37m\u001b[0m \u001b[1m62s\u001b[0m 269ms/step - accuracy: 0.8123 - f1_score: 0.8082 - loss: 0.5025 - precision: 0.8615 - recall: 0.7612 - val_accuracy: 0.8661 - val_f1_score: 0.8613 - val_loss: 0.3742 - val_precision: 0.9048 - val_recall: 0.8218\n",
      "Epoch 96/100\n",
      "\u001b[1m230/230\u001b[0m \u001b[32m━━━━━━━━━━━━━━━━━━━━\u001b[0m\u001b[37m\u001b[0m \u001b[1m54s\u001b[0m 237ms/step - accuracy: 0.8227 - f1_score: 0.8140 - loss: 0.4827 - precision: 0.8646 - recall: 0.7690 - val_accuracy: 0.8600 - val_f1_score: 0.8610 - val_loss: 0.3837 - val_precision: 0.8990 - val_recall: 0.8261\n",
      "Epoch 97/100\n",
      "\u001b[1m230/230\u001b[0m \u001b[32m━━━━━━━━━━━━━━━━━━━━\u001b[0m\u001b[37m\u001b[0m \u001b[1m56s\u001b[0m 242ms/step - accuracy: 0.8322 - f1_score: 0.8254 - loss: 0.4669 - precision: 0.8739 - recall: 0.7820 - val_accuracy: 0.8287 - val_f1_score: 0.8306 - val_loss: 0.4562 - val_precision: 0.8671 - val_recall: 0.7970\n",
      "Epoch 98/100\n",
      "\u001b[1m230/230\u001b[0m \u001b[32m━━━━━━━━━━━━━━━━━━━━\u001b[0m\u001b[37m\u001b[0m \u001b[1m55s\u001b[0m 238ms/step - accuracy: 0.8311 - f1_score: 0.8285 - loss: 0.4743 - precision: 0.8800 - recall: 0.7827 - val_accuracy: 0.8490 - val_f1_score: 0.8477 - val_loss: 0.4060 - val_precision: 0.9031 - val_recall: 0.7988\n",
      "Epoch 99/100\n",
      "\u001b[1m230/230\u001b[0m \u001b[32m━━━━━━━━━━━━━━━━━━━━\u001b[0m\u001b[37m\u001b[0m \u001b[1m55s\u001b[0m 239ms/step - accuracy: 0.8178 - f1_score: 0.8131 - loss: 0.4925 - precision: 0.8650 - recall: 0.7670 - val_accuracy: 0.8509 - val_f1_score: 0.8504 - val_loss: 0.3976 - val_precision: 0.8989 - val_recall: 0.8068\n",
      "Epoch 100/100\n",
      "\u001b[1m230/230\u001b[0m \u001b[32m━━━━━━━━━━━━━━━━━━━━\u001b[0m\u001b[37m\u001b[0m \u001b[1m56s\u001b[0m 242ms/step - accuracy: 0.8143 - f1_score: 0.8152 - loss: 0.4979 - precision: 0.8648 - recall: 0.7709 - val_accuracy: 0.8720 - val_f1_score: 0.8699 - val_loss: 0.3571 - val_precision: 0.9154 - val_recall: 0.8288\n"
     ]
    }
   ],
   "source": [
    "# Train the model\n",
    "history = gru_model.fit(\n",
    "    x=training_set,\n",
    "    validation_data=validation_set,\n",
    "    epochs=100\n",
    ")"
   ]
  },
  {
   "cell_type": "code",
   "execution_count": 13,
   "id": "b0f6bcb6-b443-4a27-b61e-5446cb4275ac",
   "metadata": {},
   "outputs": [],
   "source": [
    "# Save Loss plot\n",
    "plt.figure()\n",
    "plt.plot(history.history['loss'], label='Train Loss')\n",
    "plt.plot(history.history['val_loss'], label='Validation Loss')\n",
    "plt.legend()\n",
    "plt.title(\"Loss\")\n",
    "plt.xlabel('Epochs')\n",
    "plt.ylabel('Loss')\n",
    "plt.savefig('loss_plot_gru.png')  # Save the plot as a PNG file\n",
    "plt.close()\n",
    "\n",
    "# Save Accuracy plot\n",
    "plt.figure()\n",
    "plt.plot(history.history['accuracy'], label='Train Accuracy')\n",
    "plt.plot(history.history['val_accuracy'], label='Validation Accuracy')\n",
    "plt.legend()\n",
    "plt.title(\"Accuracy\")\n",
    "plt.xlabel('Epochs')\n",
    "plt.ylabel('Accuracy')\n",
    "plt.savefig('accuracy_plot_gru.png')  # Save the plot as a PNG file\n",
    "plt.close()\n",
    "\n",
    "# Save Precision plot\n",
    "plt.figure()\n",
    "plt.plot(history.history['precision'], label='Train Precision')\n",
    "plt.plot(history.history['val_precision'], label='Validation Precision')\n",
    "plt.legend()\n",
    "plt.title(\"Precision\")\n",
    "plt.xlabel('Epochs')\n",
    "plt.ylabel('Precision')\n",
    "plt.savefig('precision_plot_gru.png')  # Save the plot as a PNG file\n",
    "plt.close()\n",
    "\n",
    "# Save Recall plot\n",
    "plt.figure()\n",
    "plt.plot(history.history['recall'], label='Train Recall')\n",
    "plt.plot(history.history['val_recall'], label='Validation Recall')\n",
    "plt.legend()\n",
    "plt.title(\"Recall\")\n",
    "plt.xlabel('Epochs')\n",
    "plt.ylabel('Recall')\n",
    "plt.savefig('recall_plot_gru.png')  # Save the plot as a PNG file\n",
    "plt.close()\n",
    "\n",
    "# Save F1 Score plot\n",
    "plt.figure()\n",
    "plt.plot(history.history['f1_score'], label='Train F1 Score')\n",
    "plt.plot(history.history['val_f1_score'], label='Validation F1 Score')\n",
    "plt.legend()\n",
    "plt.title(\"F1 Score\")\n",
    "plt.xlabel('Epochs')\n",
    "plt.ylabel('F1 Score')\n",
    "plt.savefig('f1_score_plot_gru.png')  # Save the plot as a PNG file\n",
    "plt.close()\n"
   ]
  },
  {
   "cell_type": "code",
   "execution_count": 14,
   "id": "ab63fe55-0a63-4318-a057-0afbbf32b4d0",
   "metadata": {},
   "outputs": [
    {
     "data": {
      "text/html": [
       "<pre style=\"white-space:pre;overflow-x:auto;line-height:normal;font-family:Menlo,'DejaVu Sans Mono',consolas,'Courier New',monospace\"><span style=\"font-weight: bold\">Model: \"sequential\"</span>\n",
       "</pre>\n"
      ],
      "text/plain": [
       "\u001b[1mModel: \"sequential\"\u001b[0m\n"
      ]
     },
     "metadata": {},
     "output_type": "display_data"
    },
    {
     "data": {
      "text/html": [
       "<pre style=\"white-space:pre;overflow-x:auto;line-height:normal;font-family:Menlo,'DejaVu Sans Mono',consolas,'Courier New',monospace\">┏━━━━━━━━━━━━━━━━━━━━━━━━━━━━━━━━━━━━━━┳━━━━━━━━━━━━━━━━━━━━━━━━━━━━━┳━━━━━━━━━━━━━━━━━┓\n",
       "┃<span style=\"font-weight: bold\"> Layer (type)                         </span>┃<span style=\"font-weight: bold\"> Output Shape                </span>┃<span style=\"font-weight: bold\">         Param # </span>┃\n",
       "┡━━━━━━━━━━━━━━━━━━━━━━━━━━━━━━━━━━━━━━╇━━━━━━━━━━━━━━━━━━━━━━━━━━━━━╇━━━━━━━━━━━━━━━━━┩\n",
       "│ flatten (<span style=\"color: #0087ff; text-decoration-color: #0087ff\">Flatten</span>)                    │ (<span style=\"color: #00d7ff; text-decoration-color: #00d7ff\">None</span>, <span style=\"color: #00af00; text-decoration-color: #00af00\">12288</span>)               │               <span style=\"color: #00af00; text-decoration-color: #00af00\">0</span> │\n",
       "├──────────────────────────────────────┼─────────────────────────────┼─────────────────┤\n",
       "│ reshape (<span style=\"color: #0087ff; text-decoration-color: #0087ff\">Reshape</span>)                    │ (<span style=\"color: #00d7ff; text-decoration-color: #00d7ff\">None</span>, <span style=\"color: #00af00; text-decoration-color: #00af00\">16</span>, <span style=\"color: #00af00; text-decoration-color: #00af00\">768</span>)             │               <span style=\"color: #00af00; text-decoration-color: #00af00\">0</span> │\n",
       "├──────────────────────────────────────┼─────────────────────────────┼─────────────────┤\n",
       "│ gru (<span style=\"color: #0087ff; text-decoration-color: #0087ff\">GRU</span>)                            │ (<span style=\"color: #00d7ff; text-decoration-color: #00d7ff\">None</span>, <span style=\"color: #00af00; text-decoration-color: #00af00\">64</span>)                  │         <span style=\"color: #00af00; text-decoration-color: #00af00\">160,128</span> │\n",
       "├──────────────────────────────────────┼─────────────────────────────┼─────────────────┤\n",
       "│ dense (<span style=\"color: #0087ff; text-decoration-color: #0087ff\">Dense</span>)                        │ (<span style=\"color: #00d7ff; text-decoration-color: #00d7ff\">None</span>, <span style=\"color: #00af00; text-decoration-color: #00af00\">128</span>)                 │           <span style=\"color: #00af00; text-decoration-color: #00af00\">8,320</span> │\n",
       "├──────────────────────────────────────┼─────────────────────────────┼─────────────────┤\n",
       "│ dense_1 (<span style=\"color: #0087ff; text-decoration-color: #0087ff\">Dense</span>)                      │ (<span style=\"color: #00d7ff; text-decoration-color: #00d7ff\">None</span>, <span style=\"color: #00af00; text-decoration-color: #00af00\">6</span>)                   │             <span style=\"color: #00af00; text-decoration-color: #00af00\">774</span> │\n",
       "└──────────────────────────────────────┴─────────────────────────────┴─────────────────┘\n",
       "</pre>\n"
      ],
      "text/plain": [
       "┏━━━━━━━━━━━━━━━━━━━━━━━━━━━━━━━━━━━━━━┳━━━━━━━━━━━━━━━━━━━━━━━━━━━━━┳━━━━━━━━━━━━━━━━━┓\n",
       "┃\u001b[1m \u001b[0m\u001b[1mLayer (type)                        \u001b[0m\u001b[1m \u001b[0m┃\u001b[1m \u001b[0m\u001b[1mOutput Shape               \u001b[0m\u001b[1m \u001b[0m┃\u001b[1m \u001b[0m\u001b[1m        Param #\u001b[0m\u001b[1m \u001b[0m┃\n",
       "┡━━━━━━━━━━━━━━━━━━━━━━━━━━━━━━━━━━━━━━╇━━━━━━━━━━━━━━━━━━━━━━━━━━━━━╇━━━━━━━━━━━━━━━━━┩\n",
       "│ flatten (\u001b[38;5;33mFlatten\u001b[0m)                    │ (\u001b[38;5;45mNone\u001b[0m, \u001b[38;5;34m12288\u001b[0m)               │               \u001b[38;5;34m0\u001b[0m │\n",
       "├──────────────────────────────────────┼─────────────────────────────┼─────────────────┤\n",
       "│ reshape (\u001b[38;5;33mReshape\u001b[0m)                    │ (\u001b[38;5;45mNone\u001b[0m, \u001b[38;5;34m16\u001b[0m, \u001b[38;5;34m768\u001b[0m)             │               \u001b[38;5;34m0\u001b[0m │\n",
       "├──────────────────────────────────────┼─────────────────────────────┼─────────────────┤\n",
       "│ gru (\u001b[38;5;33mGRU\u001b[0m)                            │ (\u001b[38;5;45mNone\u001b[0m, \u001b[38;5;34m64\u001b[0m)                  │         \u001b[38;5;34m160,128\u001b[0m │\n",
       "├──────────────────────────────────────┼─────────────────────────────┼─────────────────┤\n",
       "│ dense (\u001b[38;5;33mDense\u001b[0m)                        │ (\u001b[38;5;45mNone\u001b[0m, \u001b[38;5;34m128\u001b[0m)                 │           \u001b[38;5;34m8,320\u001b[0m │\n",
       "├──────────────────────────────────────┼─────────────────────────────┼─────────────────┤\n",
       "│ dense_1 (\u001b[38;5;33mDense\u001b[0m)                      │ (\u001b[38;5;45mNone\u001b[0m, \u001b[38;5;34m6\u001b[0m)                   │             \u001b[38;5;34m774\u001b[0m │\n",
       "└──────────────────────────────────────┴─────────────────────────────┴─────────────────┘\n"
      ]
     },
     "metadata": {},
     "output_type": "display_data"
    },
    {
     "data": {
      "text/html": [
       "<pre style=\"white-space:pre;overflow-x:auto;line-height:normal;font-family:Menlo,'DejaVu Sans Mono',consolas,'Courier New',monospace\"><span style=\"font-weight: bold\"> Total params: </span><span style=\"color: #00af00; text-decoration-color: #00af00\">507,668</span> (1.94 MB)\n",
       "</pre>\n"
      ],
      "text/plain": [
       "\u001b[1m Total params: \u001b[0m\u001b[38;5;34m507,668\u001b[0m (1.94 MB)\n"
      ]
     },
     "metadata": {},
     "output_type": "display_data"
    },
    {
     "data": {
      "text/html": [
       "<pre style=\"white-space:pre;overflow-x:auto;line-height:normal;font-family:Menlo,'DejaVu Sans Mono',consolas,'Courier New',monospace\"><span style=\"font-weight: bold\"> Trainable params: </span><span style=\"color: #00af00; text-decoration-color: #00af00\">169,222</span> (661.02 KB)\n",
       "</pre>\n"
      ],
      "text/plain": [
       "\u001b[1m Trainable params: \u001b[0m\u001b[38;5;34m169,222\u001b[0m (661.02 KB)\n"
      ]
     },
     "metadata": {},
     "output_type": "display_data"
    },
    {
     "data": {
      "text/html": [
       "<pre style=\"white-space:pre;overflow-x:auto;line-height:normal;font-family:Menlo,'DejaVu Sans Mono',consolas,'Courier New',monospace\"><span style=\"font-weight: bold\"> Non-trainable params: </span><span style=\"color: #00af00; text-decoration-color: #00af00\">0</span> (0.00 B)\n",
       "</pre>\n"
      ],
      "text/plain": [
       "\u001b[1m Non-trainable params: \u001b[0m\u001b[38;5;34m0\u001b[0m (0.00 B)\n"
      ]
     },
     "metadata": {},
     "output_type": "display_data"
    },
    {
     "data": {
      "text/html": [
       "<pre style=\"white-space:pre;overflow-x:auto;line-height:normal;font-family:Menlo,'DejaVu Sans Mono',consolas,'Courier New',monospace\"><span style=\"font-weight: bold\"> Optimizer params: </span><span style=\"color: #00af00; text-decoration-color: #00af00\">338,446</span> (1.29 MB)\n",
       "</pre>\n"
      ],
      "text/plain": [
       "\u001b[1m Optimizer params: \u001b[0m\u001b[38;5;34m338,446\u001b[0m (1.29 MB)\n"
      ]
     },
     "metadata": {},
     "output_type": "display_data"
    }
   ],
   "source": [
    "gru_model.summary()"
   ]
  },
  {
   "cell_type": "code",
   "execution_count": null,
   "id": "813bd2d3-0bdb-4b7a-b33a-7ce29238c268",
   "metadata": {},
   "outputs": [],
   "source": []
  }
 ],
 "metadata": {
  "kernelspec": {
   "display_name": "Python 3 (ipykernel)",
   "language": "python",
   "name": "python3"
  },
  "language_info": {
   "codemirror_mode": {
    "name": "ipython",
    "version": 3
   },
   "file_extension": ".py",
   "mimetype": "text/x-python",
   "name": "python",
   "nbconvert_exporter": "python",
   "pygments_lexer": "ipython3",
   "version": "3.12.2"
  }
 },
 "nbformat": 4,
 "nbformat_minor": 5
}
