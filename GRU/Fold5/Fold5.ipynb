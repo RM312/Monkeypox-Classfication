{
 "cells": [
  {
   "cell_type": "code",
   "execution_count": 1,
   "id": "fa7e56a6-f56a-45f5-bb1a-9f6005956f4e",
   "metadata": {},
   "outputs": [],
   "source": [
    "import tensorflow as tf\n",
    "from tensorflow.keras.preprocessing.image import ImageDataGenerator\n",
    "import matplotlib.pyplot as plt"
   ]
  },
  {
   "cell_type": "code",
   "execution_count": 2,
   "id": "92a3ec7f-7d1f-46f6-bfc6-9a11cc6d2cc8",
   "metadata": {},
   "outputs": [
    {
     "name": "stdout",
     "output_type": "stream",
     "text": [
      "Found 7532 images belonging to 6 classes.\n"
     ]
    }
   ],
   "source": [
    "# Data Augmentation for Training\n",
    "train_datagen = ImageDataGenerator(rescale=1./255,\n",
    "                                   shear_range=0.2,\n",
    "                                   zoom_range=0.2,\n",
    "                                   horizontal_flip=True)\n",
    "training_set = train_datagen.flow_from_directory(\n",
    "    \"Monkeypox/archive (60)/Augmented Images/Augmented Images/FOLDS_AUG/fold5_AUG/Train/\",\n",
    "    target_size=(64, 64),\n",
    "    batch_size=32,\n",
    "    class_mode='categorical',  # Use 'categorical' for one-hot encoded labels\n",
    ")"
   ]
  },
  {
   "cell_type": "code",
   "execution_count": 3,
   "id": "aeb4728e-06a5-4ac6-8af6-965a67e98747",
   "metadata": {},
   "outputs": [
    {
     "name": "stdout",
     "output_type": "stream",
     "text": [
      "Found 7532 images belonging to 6 classes.\n"
     ]
    }
   ],
   "source": [
    "test_datagen = ImageDataGenerator(rescale=1./255)\n",
    "validation_set = test_datagen.flow_from_directory(\n",
    "    \"Monkeypox/archive (60)/Augmented Images/Augmented Images/FOLDS_AUG/fold5_AUG/Train/\",\n",
    "    target_size=(64, 64),\n",
    "    batch_size=32,\n",
    "    class_mode='categorical',  # Use 'categorical' for one-hot encoded labels\n",
    ")"
   ]
  },
  {
   "cell_type": "code",
   "execution_count": 4,
   "id": "4635346e-cd58-4b6e-9e74-de3adbe819f1",
   "metadata": {},
   "outputs": [],
   "source": [
    "# Custom F1 Score Metric\n",
    "class F1Score(tf.keras.metrics.Metric):\n",
    "    def __init__(self, name='f1_score', **kwargs):\n",
    "        super(F1Score, self).__init__(name=name, **kwargs)\n",
    "        self.precision = tf.keras.metrics.Precision()\n",
    "        self.recall = tf.keras.metrics.Recall()\n",
    "\n",
    "    def update_state(self, y_true, y_pred, sample_weight=None):\n",
    "        # Update the precision and recall for each batch\n",
    "        self.precision.update_state(y_true, y_pred, sample_weight)\n",
    "        self.recall.update_state(y_true, y_pred, sample_weight)\n",
    "\n",
    "    def result(self):\n",
    "        # Calculate F1 score as the harmonic mean of precision and recall\n",
    "        precision = self.precision.result()\n",
    "        recall = self.recall.result()\n",
    "        return 2 * (precision * recall) / (precision + recall + tf.keras.backend.epsilon())\n",
    "\n",
    "    def reset_states(self):\n",
    "        self.precision.reset_states()\n",
    "        self.recall.reset_states()\n"
   ]
  },
  {
   "cell_type": "code",
   "execution_count": 5,
   "id": "d8cb0f5f-d0ee-4dfb-a0a5-742a706d5431",
   "metadata": {},
   "outputs": [],
   "source": [
    "# Build the GRU Model\n",
    "gru_model = tf.keras.models.Sequential()"
   ]
  },
  {
   "cell_type": "code",
   "execution_count": 6,
   "id": "4dc552b8-fa3b-4875-8d97-df908fdd5ca8",
   "metadata": {},
   "outputs": [
    {
     "name": "stderr",
     "output_type": "stream",
     "text": [
      "C:\\Users\\KIIT\\AppData\\Local\\Programs\\Python\\Python312\\Lib\\site-packages\\keras\\src\\layers\\reshaping\\flatten.py:37: UserWarning: Do not pass an `input_shape`/`input_dim` argument to a layer. When using Sequential models, prefer using an `Input(shape)` object as the first layer in the model instead.\n",
      "  super().__init__(**kwargs)\n"
     ]
    }
   ],
   "source": [
    "# Flatten and Reshape for GRU\n",
    "gru_model.add(tf.keras.layers.Flatten(input_shape=(64, 64, 3)))\n",
    "gru_model.add(tf.keras.layers.Reshape((16, -1)))  # Reshape to (time_steps, features)"
   ]
  },
  {
   "cell_type": "code",
   "execution_count": 7,
   "id": "ba5a2b37-91f1-477d-bc1c-3a22e0f310ff",
   "metadata": {},
   "outputs": [],
   "source": [
    "# GRU Layer\n",
    "gru_model.add(tf.keras.layers.GRU(units=64, activation='tanh', return_sequences=False))"
   ]
  },
  {
   "cell_type": "code",
   "execution_count": 8,
   "id": "a498f18f-f1d6-44bb-9c03-129d868fe442",
   "metadata": {},
   "outputs": [],
   "source": [
    "# Fully Connected Layers\n",
    "gru_model.add(tf.keras.layers.Dense(units=128, activation='relu'))\n",
    "gru_model.add(tf.keras.layers.Dense(6, activation='softmax'))  # 6 classes"
   ]
  },
  {
   "cell_type": "code",
   "execution_count": 9,
   "id": "1a491985-7029-44e5-bdd3-c2514d56e5b3",
   "metadata": {},
   "outputs": [],
   "source": [
    "# Compile the model with Precision, Recall, and F1 Score\n",
    "gru_model.compile(\n",
    "    optimizer='adam',\n",
    "    loss='categorical_crossentropy',  # Use categorical_crossentropy for one-hot encoded labels\n",
    "    metrics=[\n",
    "        'accuracy',\n",
    "        tf.keras.metrics.Precision(name='precision'),\n",
    "        tf.keras.metrics.Recall(name='recall'),\n",
    "        F1Score(name='f1_score')  # Add custom F1 score metric\n",
    "    ]\n",
    ")"
   ]
  },
  {
   "cell_type": "code",
   "execution_count": 10,
   "id": "9a65e794-29ff-4da3-9378-8ae8b0d269aa",
   "metadata": {},
   "outputs": [
    {
     "name": "stderr",
     "output_type": "stream",
     "text": [
      "C:\\Users\\KIIT\\AppData\\Local\\Programs\\Python\\Python312\\Lib\\site-packages\\keras\\src\\trainers\\data_adapters\\py_dataset_adapter.py:121: UserWarning: Your `PyDataset` class should call `super().__init__(**kwargs)` in its constructor. `**kwargs` can include `workers`, `use_multiprocessing`, `max_queue_size`. Do not pass these arguments to `fit()`, as they will be ignored.\n",
      "  self._warn_if_super_not_called()\n"
     ]
    },
    {
     "name": "stdout",
     "output_type": "stream",
     "text": [
      "Epoch 1/100\n",
      "\u001b[1m236/236\u001b[0m \u001b[32m━━━━━━━━━━━━━━━━━━━━\u001b[0m\u001b[37m\u001b[0m \u001b[1m0s\u001b[0m 334ms/step - accuracy: 0.3728 - f1_score: 0.1024 - loss: 1.6151 - precision: 0.5044 - recall: 0.0575"
     ]
    },
    {
     "name": "stderr",
     "output_type": "stream",
     "text": [
      "C:\\Users\\KIIT\\AppData\\Local\\Programs\\Python\\Python312\\Lib\\site-packages\\keras\\src\\trainers\\data_adapters\\py_dataset_adapter.py:121: UserWarning: Your `PyDataset` class should call `super().__init__(**kwargs)` in its constructor. `**kwargs` can include `workers`, `use_multiprocessing`, `max_queue_size`. Do not pass these arguments to `fit()`, as they will be ignored.\n",
      "  self._warn_if_super_not_called()\n"
     ]
    },
    {
     "name": "stdout",
     "output_type": "stream",
     "text": [
      "\u001b[1m236/236\u001b[0m \u001b[32m━━━━━━━━━━━━━━━━━━━━\u001b[0m\u001b[37m\u001b[0m \u001b[1m122s\u001b[0m 462ms/step - accuracy: 0.3728 - f1_score: 0.1025 - loss: 1.6150 - precision: 0.5045 - recall: 0.0576 - val_accuracy: 0.3970 - val_f1_score: 0.1900 - val_loss: 1.5585 - val_precision: 0.6051 - val_recall: 0.1127\n",
      "Epoch 2/100\n",
      "\u001b[1m236/236\u001b[0m \u001b[32m━━━━━━━━━━━━━━━━━━━━\u001b[0m\u001b[37m\u001b[0m \u001b[1m81s\u001b[0m 342ms/step - accuracy: 0.4071 - f1_score: 0.2020 - loss: 1.5328 - precision: 0.5809 - recall: 0.1223 - val_accuracy: 0.4162 - val_f1_score: 0.2857 - val_loss: 1.4826 - val_precision: 0.5568 - val_recall: 0.1921\n",
      "Epoch 3/100\n",
      "\u001b[1m236/236\u001b[0m \u001b[32m━━━━━━━━━━━━━━━━━━━━\u001b[0m\u001b[37m\u001b[0m \u001b[1m80s\u001b[0m 337ms/step - accuracy: 0.4112 - f1_score: 0.2037 - loss: 1.5112 - precision: 0.5945 - recall: 0.1231 - val_accuracy: 0.4517 - val_f1_score: 0.3049 - val_loss: 1.4186 - val_precision: 0.6299 - val_recall: 0.2011\n",
      "Epoch 4/100\n",
      "\u001b[1m236/236\u001b[0m \u001b[32m━━━━━━━━━━━━━━━━━━━━\u001b[0m\u001b[37m\u001b[0m \u001b[1m85s\u001b[0m 362ms/step - accuracy: 0.4453 - f1_score: 0.2759 - loss: 1.4299 - precision: 0.6297 - recall: 0.1768 - val_accuracy: 0.4754 - val_f1_score: 0.2800 - val_loss: 1.3813 - val_precision: 0.6739 - val_recall: 0.1767\n",
      "Epoch 5/100\n",
      "\u001b[1m236/236\u001b[0m \u001b[32m━━━━━━━━━━━━━━━━━━━━\u001b[0m\u001b[37m\u001b[0m \u001b[1m81s\u001b[0m 343ms/step - accuracy: 0.4726 - f1_score: 0.3263 - loss: 1.3866 - precision: 0.6315 - recall: 0.2201 - val_accuracy: 0.4849 - val_f1_score: 0.3991 - val_loss: 1.3313 - val_precision: 0.6150 - val_recall: 0.2954\n",
      "Epoch 6/100\n",
      "\u001b[1m236/236\u001b[0m \u001b[32m━━━━━━━━━━━━━━━━━━━━\u001b[0m\u001b[37m\u001b[0m \u001b[1m81s\u001b[0m 341ms/step - accuracy: 0.4816 - f1_score: 0.3613 - loss: 1.3417 - precision: 0.6569 - recall: 0.2493 - val_accuracy: 0.5118 - val_f1_score: 0.4064 - val_loss: 1.3005 - val_precision: 0.6498 - val_recall: 0.2957\n",
      "Epoch 7/100\n",
      "\u001b[1m236/236\u001b[0m \u001b[32m━━━━━━━━━━━━━━━━━━━━\u001b[0m\u001b[37m\u001b[0m \u001b[1m73s\u001b[0m 309ms/step - accuracy: 0.5099 - f1_score: 0.3918 - loss: 1.3095 - precision: 0.6558 - recall: 0.2793 - val_accuracy: 0.5285 - val_f1_score: 0.3387 - val_loss: 1.2618 - val_precision: 0.7494 - val_recall: 0.2188\n",
      "Epoch 8/100\n",
      "\u001b[1m236/236\u001b[0m \u001b[32m━━━━━━━━━━━━━━━━━━━━\u001b[0m\u001b[37m\u001b[0m \u001b[1m75s\u001b[0m 316ms/step - accuracy: 0.5156 - f1_score: 0.4130 - loss: 1.2719 - precision: 0.6771 - recall: 0.2973 - val_accuracy: 0.5135 - val_f1_score: 0.4766 - val_loss: 1.2367 - val_precision: 0.6355 - val_recall: 0.3813\n",
      "Epoch 9/100\n",
      "\u001b[1m236/236\u001b[0m \u001b[32m━━━━━━━━━━━━━━━━━━━━\u001b[0m\u001b[37m\u001b[0m \u001b[1m91s\u001b[0m 388ms/step - accuracy: 0.5126 - f1_score: 0.4148 - loss: 1.2617 - precision: 0.6583 - recall: 0.3031 - val_accuracy: 0.5617 - val_f1_score: 0.4425 - val_loss: 1.1613 - val_precision: 0.7394 - val_recall: 0.3157\n",
      "Epoch 10/100\n",
      "\u001b[1m236/236\u001b[0m \u001b[32m━━━━━━━━━━━━━━━━━━━━\u001b[0m\u001b[37m\u001b[0m \u001b[1m81s\u001b[0m 345ms/step - accuracy: 0.5487 - f1_score: 0.4596 - loss: 1.1963 - precision: 0.6887 - recall: 0.3450 - val_accuracy: 0.5530 - val_f1_score: 0.4996 - val_loss: 1.1785 - val_precision: 0.6486 - val_recall: 0.4063\n",
      "Epoch 11/100\n",
      "\u001b[1m236/236\u001b[0m \u001b[32m━━━━━━━━━━━━━━━━━━━━\u001b[0m\u001b[37m\u001b[0m \u001b[1m78s\u001b[0m 330ms/step - accuracy: 0.5496 - f1_score: 0.4826 - loss: 1.1708 - precision: 0.6896 - recall: 0.3712 - val_accuracy: 0.5639 - val_f1_score: 0.4630 - val_loss: 1.1436 - val_precision: 0.7389 - val_recall: 0.3371\n",
      "Epoch 12/100\n",
      "\u001b[1m236/236\u001b[0m \u001b[32m━━━━━━━━━━━━━━━━━━━━\u001b[0m\u001b[37m\u001b[0m \u001b[1m84s\u001b[0m 355ms/step - accuracy: 0.5577 - f1_score: 0.4894 - loss: 1.1498 - precision: 0.7081 - recall: 0.3741 - val_accuracy: 0.5947 - val_f1_score: 0.5501 - val_loss: 1.0758 - val_precision: 0.7075 - val_recall: 0.4499\n",
      "Epoch 13/100\n",
      "\u001b[1m236/236\u001b[0m \u001b[32m━━━━━━━━━━━━━━━━━━━━\u001b[0m\u001b[37m\u001b[0m \u001b[1m91s\u001b[0m 388ms/step - accuracy: 0.5742 - f1_score: 0.5106 - loss: 1.1236 - precision: 0.6980 - recall: 0.4028 - val_accuracy: 0.5892 - val_f1_score: 0.5447 - val_loss: 1.0797 - val_precision: 0.7436 - val_recall: 0.4298\n",
      "Epoch 14/100\n",
      "\u001b[1m236/236\u001b[0m \u001b[32m━━━━━━━━━━━━━━━━━━━━\u001b[0m\u001b[37m\u001b[0m \u001b[1m95s\u001b[0m 402ms/step - accuracy: 0.5880 - f1_score: 0.5344 - loss: 1.0857 - precision: 0.7194 - recall: 0.4253 - val_accuracy: 0.6182 - val_f1_score: 0.5607 - val_loss: 1.0263 - val_precision: 0.7605 - val_recall: 0.4440\n",
      "Epoch 15/100\n",
      "\u001b[1m236/236\u001b[0m \u001b[32m━━━━━━━━━━━━━━━━━━━━\u001b[0m\u001b[37m\u001b[0m \u001b[1m57s\u001b[0m 241ms/step - accuracy: 0.5939 - f1_score: 0.5348 - loss: 1.0886 - precision: 0.7161 - recall: 0.4268 - val_accuracy: 0.6005 - val_f1_score: 0.5701 - val_loss: 1.0325 - val_precision: 0.7456 - val_recall: 0.4615\n",
      "Epoch 16/100\n",
      "\u001b[1m236/236\u001b[0m \u001b[32m━━━━━━━━━━━━━━━━━━━━\u001b[0m\u001b[37m\u001b[0m \u001b[1m43s\u001b[0m 183ms/step - accuracy: 0.5989 - f1_score: 0.5462 - loss: 1.0562 - precision: 0.7199 - recall: 0.4401 - val_accuracy: 0.6196 - val_f1_score: 0.5757 - val_loss: 0.9964 - val_precision: 0.7505 - val_recall: 0.4669\n",
      "Epoch 17/100\n",
      "\u001b[1m236/236\u001b[0m \u001b[32m━━━━━━━━━━━━━━━━━━━━\u001b[0m\u001b[37m\u001b[0m \u001b[1m42s\u001b[0m 176ms/step - accuracy: 0.6109 - f1_score: 0.5595 - loss: 1.0313 - precision: 0.7405 - recall: 0.4497 - val_accuracy: 0.6280 - val_f1_score: 0.6026 - val_loss: 0.9795 - val_precision: 0.7520 - val_recall: 0.5028\n",
      "Epoch 18/100\n",
      "\u001b[1m236/236\u001b[0m \u001b[32m━━━━━━━━━━━━━━━━━━━━\u001b[0m\u001b[37m\u001b[0m \u001b[1m40s\u001b[0m 168ms/step - accuracy: 0.6117 - f1_score: 0.5748 - loss: 1.0095 - precision: 0.7418 - recall: 0.4693 - val_accuracy: 0.6437 - val_f1_score: 0.5928 - val_loss: 0.9607 - val_precision: 0.7657 - val_recall: 0.4837\n",
      "Epoch 19/100\n",
      "\u001b[1m236/236\u001b[0m \u001b[32m━━━━━━━━━━━━━━━━━━━━\u001b[0m\u001b[37m\u001b[0m \u001b[1m39s\u001b[0m 166ms/step - accuracy: 0.6198 - f1_score: 0.5798 - loss: 1.0092 - precision: 0.7439 - recall: 0.4751 - val_accuracy: 0.6677 - val_f1_score: 0.6118 - val_loss: 0.9130 - val_precision: 0.7952 - val_recall: 0.4971\n",
      "Epoch 20/100\n",
      "\u001b[1m236/236\u001b[0m \u001b[32m━━━━━━━━━━━━━━━━━━━━\u001b[0m\u001b[37m\u001b[0m \u001b[1m45s\u001b[0m 193ms/step - accuracy: 0.6439 - f1_score: 0.6066 - loss: 0.9572 - precision: 0.7609 - recall: 0.5045 - val_accuracy: 0.6715 - val_f1_score: 0.6396 - val_loss: 0.8958 - val_precision: 0.7881 - val_recall: 0.5382\n",
      "Epoch 21/100\n",
      "\u001b[1m236/236\u001b[0m \u001b[32m━━━━━━━━━━━━━━━━━━━━\u001b[0m\u001b[37m\u001b[0m \u001b[1m56s\u001b[0m 237ms/step - accuracy: 0.6218 - f1_score: 0.5882 - loss: 0.9769 - precision: 0.7513 - recall: 0.4834 - val_accuracy: 0.6621 - val_f1_score: 0.6393 - val_loss: 0.8912 - val_precision: 0.7722 - val_recall: 0.5454\n",
      "Epoch 22/100\n",
      "\u001b[1m236/236\u001b[0m \u001b[32m━━━━━━━━━━━━━━━━━━━━\u001b[0m\u001b[37m\u001b[0m \u001b[1m70s\u001b[0m 299ms/step - accuracy: 0.6396 - f1_score: 0.6019 - loss: 0.9565 - precision: 0.7559 - recall: 0.5001 - val_accuracy: 0.6749 - val_f1_score: 0.6360 - val_loss: 0.8790 - val_precision: 0.7944 - val_recall: 0.5303\n",
      "Epoch 23/100\n",
      "\u001b[1m236/236\u001b[0m \u001b[32m━━━━━━━━━━━━━━━━━━━━\u001b[0m\u001b[37m\u001b[0m \u001b[1m71s\u001b[0m 302ms/step - accuracy: 0.6459 - f1_score: 0.6103 - loss: 0.9445 - precision: 0.7588 - recall: 0.5105 - val_accuracy: 0.6759 - val_f1_score: 0.6357 - val_loss: 0.8634 - val_precision: 0.8046 - val_recall: 0.5254\n",
      "Epoch 24/100\n",
      "\u001b[1m236/236\u001b[0m \u001b[32m━━━━━━━━━━━━━━━━━━━━\u001b[0m\u001b[37m\u001b[0m \u001b[1m62s\u001b[0m 261ms/step - accuracy: 0.6636 - f1_score: 0.6280 - loss: 0.9014 - precision: 0.7739 - recall: 0.5285 - val_accuracy: 0.6743 - val_f1_score: 0.6271 - val_loss: 0.8775 - val_precision: 0.8171 - val_recall: 0.5088\n",
      "Epoch 25/100\n",
      "\u001b[1m236/236\u001b[0m \u001b[32m━━━━━━━━━━━━━━━━━━━━\u001b[0m\u001b[37m\u001b[0m \u001b[1m104s\u001b[0m 440ms/step - accuracy: 0.6344 - f1_score: 0.6046 - loss: 0.9524 - precision: 0.7629 - recall: 0.5009 - val_accuracy: 0.6786 - val_f1_score: 0.6467 - val_loss: 0.8629 - val_precision: 0.8056 - val_recall: 0.5402\n",
      "Epoch 26/100\n",
      "\u001b[1m236/236\u001b[0m \u001b[32m━━━━━━━━━━━━━━━━━━━━\u001b[0m\u001b[37m\u001b[0m \u001b[1m89s\u001b[0m 379ms/step - accuracy: 0.6663 - f1_score: 0.6408 - loss: 0.8867 - precision: 0.7797 - recall: 0.5439 - val_accuracy: 0.6369 - val_f1_score: 0.6049 - val_loss: 0.9302 - val_precision: 0.7666 - val_recall: 0.4996\n",
      "Epoch 27/100\n",
      "\u001b[1m236/236\u001b[0m \u001b[32m━━━━━━━━━━━━━━━━━━━━\u001b[0m\u001b[37m\u001b[0m \u001b[1m99s\u001b[0m 419ms/step - accuracy: 0.6722 - f1_score: 0.6399 - loss: 0.8868 - precision: 0.7798 - recall: 0.5427 - val_accuracy: 0.6784 - val_f1_score: 0.6619 - val_loss: 0.8550 - val_precision: 0.7583 - val_recall: 0.5872\n",
      "Epoch 28/100\n",
      "\u001b[1m236/236\u001b[0m \u001b[32m━━━━━━━━━━━━━━━━━━━━\u001b[0m\u001b[37m\u001b[0m \u001b[1m94s\u001b[0m 400ms/step - accuracy: 0.6811 - f1_score: 0.6471 - loss: 0.8616 - precision: 0.7776 - recall: 0.5542 - val_accuracy: 0.6903 - val_f1_score: 0.6718 - val_loss: 0.8086 - val_precision: 0.7869 - val_recall: 0.5860\n",
      "Epoch 29/100\n",
      "\u001b[1m236/236\u001b[0m \u001b[32m━━━━━━━━━━━━━━━━━━━━\u001b[0m\u001b[37m\u001b[0m \u001b[1m96s\u001b[0m 408ms/step - accuracy: 0.6871 - f1_score: 0.6622 - loss: 0.8447 - precision: 0.7845 - recall: 0.5729 - val_accuracy: 0.7118 - val_f1_score: 0.6871 - val_loss: 0.7791 - val_precision: 0.8160 - val_recall: 0.5933\n",
      "Epoch 30/100\n",
      "\u001b[1m236/236\u001b[0m \u001b[32m━━━━━━━━━━━━━━━━━━━━\u001b[0m\u001b[37m\u001b[0m \u001b[1m94s\u001b[0m 398ms/step - accuracy: 0.6838 - f1_score: 0.6559 - loss: 0.8497 - precision: 0.7865 - recall: 0.5625 - val_accuracy: 0.7237 - val_f1_score: 0.7021 - val_loss: 0.7592 - val_precision: 0.8340 - val_recall: 0.6062\n",
      "Epoch 31/100\n",
      "\u001b[1m236/236\u001b[0m \u001b[32m━━━━━━━━━━━━━━━━━━━━\u001b[0m\u001b[37m\u001b[0m \u001b[1m87s\u001b[0m 368ms/step - accuracy: 0.6858 - f1_score: 0.6617 - loss: 0.8396 - precision: 0.7894 - recall: 0.5695 - val_accuracy: 0.7163 - val_f1_score: 0.7024 - val_loss: 0.7685 - val_precision: 0.8178 - val_recall: 0.6155\n",
      "Epoch 32/100\n",
      "\u001b[1m236/236\u001b[0m \u001b[32m━━━━━━━━━━━━━━━━━━━━\u001b[0m\u001b[37m\u001b[0m \u001b[1m93s\u001b[0m 395ms/step - accuracy: 0.6803 - f1_score: 0.6626 - loss: 0.8353 - precision: 0.7868 - recall: 0.5723 - val_accuracy: 0.7262 - val_f1_score: 0.7092 - val_loss: 0.7441 - val_precision: 0.8320 - val_recall: 0.6180\n",
      "Epoch 33/100\n",
      "\u001b[1m236/236\u001b[0m \u001b[32m━━━━━━━━━━━━━━━━━━━━\u001b[0m\u001b[37m\u001b[0m \u001b[1m95s\u001b[0m 403ms/step - accuracy: 0.7033 - f1_score: 0.6760 - loss: 0.8069 - precision: 0.7946 - recall: 0.5883 - val_accuracy: 0.7310 - val_f1_score: 0.7153 - val_loss: 0.7344 - val_precision: 0.8422 - val_recall: 0.6216\n",
      "Epoch 34/100\n",
      "\u001b[1m236/236\u001b[0m \u001b[32m━━━━━━━━━━━━━━━━━━━━\u001b[0m\u001b[37m\u001b[0m \u001b[1m93s\u001b[0m 396ms/step - accuracy: 0.7007 - f1_score: 0.6765 - loss: 0.7960 - precision: 0.7900 - recall: 0.5916 - val_accuracy: 0.7254 - val_f1_score: 0.6995 - val_loss: 0.7455 - val_precision: 0.8332 - val_recall: 0.6028\n",
      "Epoch 35/100\n",
      "\u001b[1m236/236\u001b[0m \u001b[32m━━━━━━━━━━━━━━━━━━━━\u001b[0m\u001b[37m\u001b[0m \u001b[1m92s\u001b[0m 390ms/step - accuracy: 0.7046 - f1_score: 0.6809 - loss: 0.8053 - precision: 0.7986 - recall: 0.5936 - val_accuracy: 0.6986 - val_f1_score: 0.6722 - val_loss: 0.7919 - val_precision: 0.7956 - val_recall: 0.5819\n",
      "Epoch 36/100\n",
      "\u001b[1m236/236\u001b[0m \u001b[32m━━━━━━━━━━━━━━━━━━━━\u001b[0m\u001b[37m\u001b[0m \u001b[1m90s\u001b[0m 383ms/step - accuracy: 0.6941 - f1_score: 0.6793 - loss: 0.7893 - precision: 0.7896 - recall: 0.5961 - val_accuracy: 0.7354 - val_f1_score: 0.7240 - val_loss: 0.7179 - val_precision: 0.8350 - val_recall: 0.6390\n",
      "Epoch 37/100\n",
      "\u001b[1m236/236\u001b[0m \u001b[32m━━━━━━━━━━━━━━━━━━━━\u001b[0m\u001b[37m\u001b[0m \u001b[1m81s\u001b[0m 342ms/step - accuracy: 0.7050 - f1_score: 0.6839 - loss: 0.7938 - precision: 0.7891 - recall: 0.6035 - val_accuracy: 0.7378 - val_f1_score: 0.7342 - val_loss: 0.7123 - val_precision: 0.8167 - val_recall: 0.6669\n",
      "Epoch 38/100\n",
      "\u001b[1m236/236\u001b[0m \u001b[32m━━━━━━━━━━━━━━━━━━━━\u001b[0m\u001b[37m\u001b[0m \u001b[1m79s\u001b[0m 334ms/step - accuracy: 0.7244 - f1_score: 0.7062 - loss: 0.7486 - precision: 0.8152 - recall: 0.6230 - val_accuracy: 0.7473 - val_f1_score: 0.7239 - val_loss: 0.6885 - val_precision: 0.8374 - val_recall: 0.6374\n",
      "Epoch 39/100\n",
      "\u001b[1m236/236\u001b[0m \u001b[32m━━━━━━━━━━━━━━━━━━━━\u001b[0m\u001b[37m\u001b[0m \u001b[1m80s\u001b[0m 338ms/step - accuracy: 0.7102 - f1_score: 0.6977 - loss: 0.7659 - precision: 0.7994 - recall: 0.6189 - val_accuracy: 0.7710 - val_f1_score: 0.7515 - val_loss: 0.6517 - val_precision: 0.8481 - val_recall: 0.6746\n",
      "Epoch 40/100\n",
      "\u001b[1m236/236\u001b[0m \u001b[32m━━━━━━━━━━━━━━━━━━━━\u001b[0m\u001b[37m\u001b[0m \u001b[1m78s\u001b[0m 332ms/step - accuracy: 0.7107 - f1_score: 0.6978 - loss: 0.7729 - precision: 0.8021 - recall: 0.6176 - val_accuracy: 0.7532 - val_f1_score: 0.7391 - val_loss: 0.6908 - val_precision: 0.8337 - val_recall: 0.6637\n",
      "Epoch 41/100\n",
      "\u001b[1m236/236\u001b[0m \u001b[32m━━━━━━━━━━━━━━━━━━━━\u001b[0m\u001b[37m\u001b[0m \u001b[1m80s\u001b[0m 339ms/step - accuracy: 0.7196 - f1_score: 0.7019 - loss: 0.7449 - precision: 0.8151 - recall: 0.6163 - val_accuracy: 0.7392 - val_f1_score: 0.7237 - val_loss: 0.7026 - val_precision: 0.8184 - val_recall: 0.6486\n",
      "Epoch 42/100\n",
      "\u001b[1m236/236\u001b[0m \u001b[32m━━━━━━━━━━━━━━━━━━━━\u001b[0m\u001b[37m\u001b[0m \u001b[1m81s\u001b[0m 341ms/step - accuracy: 0.7274 - f1_score: 0.7080 - loss: 0.7451 - precision: 0.8142 - recall: 0.6263 - val_accuracy: 0.7544 - val_f1_score: 0.7435 - val_loss: 0.6566 - val_precision: 0.8365 - val_recall: 0.6691\n",
      "Epoch 43/100\n",
      "\u001b[1m236/236\u001b[0m \u001b[32m━━━━━━━━━━━━━━━━━━━━\u001b[0m\u001b[37m\u001b[0m \u001b[1m82s\u001b[0m 346ms/step - accuracy: 0.7413 - f1_score: 0.7273 - loss: 0.7144 - precision: 0.8222 - recall: 0.6521 - val_accuracy: 0.7704 - val_f1_score: 0.7535 - val_loss: 0.6431 - val_precision: 0.8632 - val_recall: 0.6685\n",
      "Epoch 44/100\n",
      "\u001b[1m236/236\u001b[0m \u001b[32m━━━━━━━━━━━━━━━━━━━━\u001b[0m\u001b[37m\u001b[0m \u001b[1m82s\u001b[0m 350ms/step - accuracy: 0.7402 - f1_score: 0.7199 - loss: 0.7077 - precision: 0.8183 - recall: 0.6426 - val_accuracy: 0.7618 - val_f1_score: 0.7532 - val_loss: 0.6422 - val_precision: 0.8528 - val_recall: 0.6745\n",
      "Epoch 45/100\n",
      "\u001b[1m236/236\u001b[0m \u001b[32m━━━━━━━━━━━━━━━━━━━━\u001b[0m\u001b[37m\u001b[0m \u001b[1m80s\u001b[0m 341ms/step - accuracy: 0.7298 - f1_score: 0.7148 - loss: 0.7211 - precision: 0.8144 - recall: 0.6370 - val_accuracy: 0.7600 - val_f1_score: 0.7408 - val_loss: 0.6597 - val_precision: 0.8568 - val_recall: 0.6524\n",
      "Epoch 46/100\n",
      "\u001b[1m236/236\u001b[0m \u001b[32m━━━━━━━━━━━━━━━━━━━━\u001b[0m\u001b[37m\u001b[0m \u001b[1m81s\u001b[0m 345ms/step - accuracy: 0.7356 - f1_score: 0.7251 - loss: 0.7094 - precision: 0.8150 - recall: 0.6531 - val_accuracy: 0.7643 - val_f1_score: 0.7526 - val_loss: 0.6442 - val_precision: 0.8522 - val_recall: 0.6738\n",
      "Epoch 47/100\n",
      "\u001b[1m236/236\u001b[0m \u001b[32m━━━━━━━━━━━━━━━━━━━━\u001b[0m\u001b[37m\u001b[0m \u001b[1m84s\u001b[0m 358ms/step - accuracy: 0.7489 - f1_score: 0.7372 - loss: 0.6900 - precision: 0.8338 - recall: 0.6608 - val_accuracy: 0.7758 - val_f1_score: 0.7592 - val_loss: 0.6255 - val_precision: 0.8616 - val_recall: 0.6786\n",
      "Epoch 48/100\n",
      "\u001b[1m236/236\u001b[0m \u001b[32m━━━━━━━━━━━━━━━━━━━━\u001b[0m\u001b[37m\u001b[0m \u001b[1m82s\u001b[0m 346ms/step - accuracy: 0.7390 - f1_score: 0.7212 - loss: 0.7170 - precision: 0.8253 - recall: 0.6405 - val_accuracy: 0.7759 - val_f1_score: 0.7657 - val_loss: 0.6173 - val_precision: 0.8461 - val_recall: 0.6993\n",
      "Epoch 49/100\n",
      "\u001b[1m236/236\u001b[0m \u001b[32m━━━━━━━━━━━━━━━━━━━━\u001b[0m\u001b[37m\u001b[0m \u001b[1m81s\u001b[0m 343ms/step - accuracy: 0.7469 - f1_score: 0.7375 - loss: 0.6736 - precision: 0.8220 - recall: 0.6689 - val_accuracy: 0.7735 - val_f1_score: 0.7644 - val_loss: 0.6158 - val_precision: 0.8551 - val_recall: 0.6911\n",
      "Epoch 50/100\n",
      "\u001b[1m236/236\u001b[0m \u001b[32m━━━━━━━━━━━━━━━━━━━━\u001b[0m\u001b[37m\u001b[0m \u001b[1m79s\u001b[0m 336ms/step - accuracy: 0.7462 - f1_score: 0.7307 - loss: 0.7024 - precision: 0.8233 - recall: 0.6569 - val_accuracy: 0.7730 - val_f1_score: 0.7621 - val_loss: 0.6214 - val_precision: 0.8542 - val_recall: 0.6879\n",
      "Epoch 51/100\n",
      "\u001b[1m236/236\u001b[0m \u001b[32m━━━━━━━━━━━━━━━━━━━━\u001b[0m\u001b[37m\u001b[0m \u001b[1m67s\u001b[0m 285ms/step - accuracy: 0.7568 - f1_score: 0.7471 - loss: 0.6703 - precision: 0.8320 - recall: 0.6779 - val_accuracy: 0.7869 - val_f1_score: 0.7703 - val_loss: 0.6015 - val_precision: 0.8655 - val_recall: 0.6940\n",
      "Epoch 52/100\n",
      "\u001b[1m236/236\u001b[0m \u001b[32m━━━━━━━━━━━━━━━━━━━━\u001b[0m\u001b[37m\u001b[0m \u001b[1m82s\u001b[0m 350ms/step - accuracy: 0.7613 - f1_score: 0.7483 - loss: 0.6681 - precision: 0.8319 - recall: 0.6801 - val_accuracy: 0.7799 - val_f1_score: 0.7672 - val_loss: 0.6074 - val_precision: 0.8502 - val_recall: 0.6990\n",
      "Epoch 53/100\n",
      "\u001b[1m236/236\u001b[0m \u001b[32m━━━━━━━━━━━━━━━━━━━━\u001b[0m\u001b[37m\u001b[0m \u001b[1m81s\u001b[0m 345ms/step - accuracy: 0.7509 - f1_score: 0.7437 - loss: 0.6703 - precision: 0.8352 - recall: 0.6703 - val_accuracy: 0.7947 - val_f1_score: 0.7861 - val_loss: 0.5753 - val_precision: 0.8721 - val_recall: 0.7155\n",
      "Epoch 54/100\n",
      "\u001b[1m236/236\u001b[0m \u001b[32m━━━━━━━━━━━━━━━━━━━━\u001b[0m\u001b[37m\u001b[0m \u001b[1m83s\u001b[0m 351ms/step - accuracy: 0.7602 - f1_score: 0.7507 - loss: 0.6427 - precision: 0.8296 - recall: 0.6856 - val_accuracy: 0.7987 - val_f1_score: 0.7799 - val_loss: 0.5856 - val_precision: 0.8719 - val_recall: 0.7055\n",
      "Epoch 55/100\n",
      "\u001b[1m236/236\u001b[0m \u001b[32m━━━━━━━━━━━━━━━━━━━━\u001b[0m\u001b[37m\u001b[0m \u001b[1m82s\u001b[0m 350ms/step - accuracy: 0.7694 - f1_score: 0.7493 - loss: 0.6452 - precision: 0.8354 - recall: 0.6794 - val_accuracy: 0.8050 - val_f1_score: 0.7962 - val_loss: 0.5427 - val_precision: 0.8720 - val_recall: 0.7326\n",
      "Epoch 56/100\n",
      "\u001b[1m236/236\u001b[0m \u001b[32m━━━━━━━━━━━━━━━━━━━━\u001b[0m\u001b[37m\u001b[0m \u001b[1m82s\u001b[0m 348ms/step - accuracy: 0.7625 - f1_score: 0.7520 - loss: 0.6346 - precision: 0.8286 - recall: 0.6885 - val_accuracy: 0.7955 - val_f1_score: 0.7853 - val_loss: 0.5677 - val_precision: 0.8725 - val_recall: 0.7140\n",
      "Epoch 57/100\n",
      "\u001b[1m236/236\u001b[0m \u001b[32m━━━━━━━━━━━━━━━━━━━━\u001b[0m\u001b[37m\u001b[0m \u001b[1m82s\u001b[0m 350ms/step - accuracy: 0.7741 - f1_score: 0.7564 - loss: 0.6222 - precision: 0.8393 - recall: 0.6885 - val_accuracy: 0.7459 - val_f1_score: 0.7425 - val_loss: 0.6792 - val_precision: 0.8020 - val_recall: 0.6912\n",
      "Epoch 58/100\n",
      "\u001b[1m236/236\u001b[0m \u001b[32m━━━━━━━━━━━━━━━━━━━━\u001b[0m\u001b[37m\u001b[0m \u001b[1m87s\u001b[0m 370ms/step - accuracy: 0.7539 - f1_score: 0.7421 - loss: 0.6780 - precision: 0.8250 - recall: 0.6744 - val_accuracy: 0.8011 - val_f1_score: 0.7915 - val_loss: 0.5609 - val_precision: 0.8666 - val_recall: 0.7285\n",
      "Epoch 59/100\n",
      "\u001b[1m236/236\u001b[0m \u001b[32m━━━━━━━━━━━━━━━━━━━━\u001b[0m\u001b[37m\u001b[0m \u001b[1m84s\u001b[0m 355ms/step - accuracy: 0.7790 - f1_score: 0.7706 - loss: 0.6094 - precision: 0.8513 - recall: 0.7039 - val_accuracy: 0.8074 - val_f1_score: 0.7956 - val_loss: 0.5493 - val_precision: 0.8843 - val_recall: 0.7232\n",
      "Epoch 60/100\n",
      "\u001b[1m236/236\u001b[0m \u001b[32m━━━━━━━━━━━━━━━━━━━━\u001b[0m\u001b[37m\u001b[0m \u001b[1m84s\u001b[0m 358ms/step - accuracy: 0.7697 - f1_score: 0.7622 - loss: 0.6326 - precision: 0.8369 - recall: 0.6999 - val_accuracy: 0.7775 - val_f1_score: 0.7708 - val_loss: 0.5953 - val_precision: 0.8544 - val_recall: 0.7021\n",
      "Epoch 61/100\n",
      "\u001b[1m236/236\u001b[0m \u001b[32m━━━━━━━━━━━━━━━━━━━━\u001b[0m\u001b[37m\u001b[0m \u001b[1m84s\u001b[0m 358ms/step - accuracy: 0.7754 - f1_score: 0.7655 - loss: 0.6249 - precision: 0.8420 - recall: 0.7017 - val_accuracy: 0.8212 - val_f1_score: 0.8141 - val_loss: 0.5101 - val_precision: 0.8855 - val_recall: 0.7533\n",
      "Epoch 62/100\n",
      "\u001b[1m236/236\u001b[0m \u001b[32m━━━━━━━━━━━━━━━━━━━━\u001b[0m\u001b[37m\u001b[0m \u001b[1m85s\u001b[0m 358ms/step - accuracy: 0.7781 - f1_score: 0.7697 - loss: 0.6069 - precision: 0.8431 - recall: 0.7082 - val_accuracy: 0.8136 - val_f1_score: 0.8012 - val_loss: 0.5215 - val_precision: 0.8841 - val_recall: 0.7325\n",
      "Epoch 63/100\n",
      "\u001b[1m236/236\u001b[0m \u001b[32m━━━━━━━━━━━━━━━━━━━━\u001b[0m\u001b[37m\u001b[0m \u001b[1m84s\u001b[0m 356ms/step - accuracy: 0.7596 - f1_score: 0.7582 - loss: 0.6297 - precision: 0.8308 - recall: 0.6974 - val_accuracy: 0.8286 - val_f1_score: 0.8211 - val_loss: 0.4896 - val_precision: 0.8792 - val_recall: 0.7702\n",
      "Epoch 64/100\n",
      "\u001b[1m236/236\u001b[0m \u001b[32m━━━━━━━━━━━━━━━━━━━━\u001b[0m\u001b[37m\u001b[0m \u001b[1m79s\u001b[0m 336ms/step - accuracy: 0.7882 - f1_score: 0.7828 - loss: 0.5884 - precision: 0.8541 - recall: 0.7226 - val_accuracy: 0.8136 - val_f1_score: 0.8035 - val_loss: 0.5219 - val_precision: 0.8691 - val_recall: 0.7472\n",
      "Epoch 65/100\n",
      "\u001b[1m236/236\u001b[0m \u001b[32m━━━━━━━━━━━━━━━━━━━━\u001b[0m\u001b[37m\u001b[0m \u001b[1m77s\u001b[0m 327ms/step - accuracy: 0.7718 - f1_score: 0.7648 - loss: 0.6161 - precision: 0.8345 - recall: 0.7058 - val_accuracy: 0.7935 - val_f1_score: 0.7841 - val_loss: 0.5625 - val_precision: 0.8603 - val_recall: 0.7203\n",
      "Epoch 66/100\n",
      "\u001b[1m236/236\u001b[0m \u001b[32m━━━━━━━━━━━━━━━━━━━━\u001b[0m\u001b[37m\u001b[0m \u001b[1m74s\u001b[0m 315ms/step - accuracy: 0.7747 - f1_score: 0.7671 - loss: 0.6018 - precision: 0.8393 - recall: 0.7065 - val_accuracy: 0.8124 - val_f1_score: 0.8050 - val_loss: 0.5227 - val_precision: 0.8695 - val_recall: 0.7493\n",
      "Epoch 67/100\n",
      "\u001b[1m236/236\u001b[0m \u001b[32m━━━━━━━━━━━━━━━━━━━━\u001b[0m\u001b[37m\u001b[0m \u001b[1m61s\u001b[0m 260ms/step - accuracy: 0.7811 - f1_score: 0.7769 - loss: 0.6044 - precision: 0.8472 - recall: 0.7173 - val_accuracy: 0.7894 - val_f1_score: 0.7843 - val_loss: 0.5785 - val_precision: 0.8583 - val_recall: 0.7221\n",
      "Epoch 68/100\n",
      "\u001b[1m236/236\u001b[0m \u001b[32m━━━━━━━━━━━━━━━━━━━━\u001b[0m\u001b[37m\u001b[0m \u001b[1m66s\u001b[0m 279ms/step - accuracy: 0.7752 - f1_score: 0.7614 - loss: 0.6227 - precision: 0.8406 - recall: 0.6960 - val_accuracy: 0.8136 - val_f1_score: 0.8105 - val_loss: 0.5091 - val_precision: 0.8743 - val_recall: 0.7553\n",
      "Epoch 69/100\n",
      "\u001b[1m236/236\u001b[0m \u001b[32m━━━━━━━━━━━━━━━━━━━━\u001b[0m\u001b[37m\u001b[0m \u001b[1m66s\u001b[0m 280ms/step - accuracy: 0.7838 - f1_score: 0.7764 - loss: 0.6081 - precision: 0.8445 - recall: 0.7186 - val_accuracy: 0.8153 - val_f1_score: 0.8113 - val_loss: 0.5113 - val_precision: 0.8856 - val_recall: 0.7485\n",
      "Epoch 70/100\n",
      "\u001b[1m236/236\u001b[0m \u001b[32m━━━━━━━━━━━━━━━━━━━━\u001b[0m\u001b[37m\u001b[0m \u001b[1m68s\u001b[0m 290ms/step - accuracy: 0.7812 - f1_score: 0.7740 - loss: 0.5884 - precision: 0.8470 - recall: 0.7126 - val_accuracy: 0.8327 - val_f1_score: 0.8189 - val_loss: 0.4903 - val_precision: 0.8887 - val_recall: 0.7593\n",
      "Epoch 71/100\n",
      "\u001b[1m236/236\u001b[0m \u001b[32m━━━━━━━━━━━━━━━━━━━━\u001b[0m\u001b[37m\u001b[0m \u001b[1m68s\u001b[0m 290ms/step - accuracy: 0.8017 - f1_score: 0.7953 - loss: 0.5615 - precision: 0.8573 - recall: 0.7416 - val_accuracy: 0.8420 - val_f1_score: 0.8378 - val_loss: 0.4641 - val_precision: 0.8947 - val_recall: 0.7877\n",
      "Epoch 72/100\n",
      "\u001b[1m236/236\u001b[0m \u001b[32m━━━━━━━━━━━━━━━━━━━━\u001b[0m\u001b[37m\u001b[0m \u001b[1m68s\u001b[0m 289ms/step - accuracy: 0.7983 - f1_score: 0.7944 - loss: 0.5704 - precision: 0.8553 - recall: 0.7416 - val_accuracy: 0.8282 - val_f1_score: 0.8218 - val_loss: 0.4835 - val_precision: 0.8889 - val_recall: 0.7641\n",
      "Epoch 73/100\n",
      "\u001b[1m236/236\u001b[0m \u001b[32m━━━━━━━━━━━━━━━━━━━━\u001b[0m\u001b[37m\u001b[0m \u001b[1m66s\u001b[0m 279ms/step - accuracy: 0.7962 - f1_score: 0.7914 - loss: 0.5520 - precision: 0.8541 - recall: 0.7372 - val_accuracy: 0.8291 - val_f1_score: 0.8236 - val_loss: 0.4803 - val_precision: 0.8814 - val_recall: 0.7728\n",
      "Epoch 74/100\n",
      "\u001b[1m236/236\u001b[0m \u001b[32m━━━━━━━━━━━━━━━━━━━━\u001b[0m\u001b[37m\u001b[0m \u001b[1m68s\u001b[0m 290ms/step - accuracy: 0.7917 - f1_score: 0.7876 - loss: 0.5655 - precision: 0.8553 - recall: 0.7300 - val_accuracy: 0.8286 - val_f1_score: 0.8225 - val_loss: 0.4871 - val_precision: 0.8851 - val_recall: 0.7682\n",
      "Epoch 75/100\n",
      "\u001b[1m236/236\u001b[0m \u001b[32m━━━━━━━━━━━━━━━━━━━━\u001b[0m\u001b[37m\u001b[0m \u001b[1m68s\u001b[0m 287ms/step - accuracy: 0.7926 - f1_score: 0.7858 - loss: 0.5754 - precision: 0.8567 - recall: 0.7257 - val_accuracy: 0.8356 - val_f1_score: 0.8318 - val_loss: 0.4608 - val_precision: 0.8837 - val_recall: 0.7857\n",
      "Epoch 76/100\n",
      "\u001b[1m236/236\u001b[0m \u001b[32m━━━━━━━━━━━━━━━━━━━━\u001b[0m\u001b[37m\u001b[0m \u001b[1m68s\u001b[0m 286ms/step - accuracy: 0.7911 - f1_score: 0.7913 - loss: 0.5636 - precision: 0.8528 - recall: 0.7382 - val_accuracy: 0.8246 - val_f1_score: 0.8251 - val_loss: 0.4808 - val_precision: 0.8816 - val_recall: 0.7754\n",
      "Epoch 77/100\n",
      "\u001b[1m236/236\u001b[0m \u001b[32m━━━━━━━━━━━━━━━━━━━━\u001b[0m\u001b[37m\u001b[0m \u001b[1m68s\u001b[0m 288ms/step - accuracy: 0.7906 - f1_score: 0.7896 - loss: 0.5586 - precision: 0.8534 - recall: 0.7347 - val_accuracy: 0.8295 - val_f1_score: 0.8193 - val_loss: 0.4840 - val_precision: 0.8795 - val_recall: 0.7669\n",
      "Epoch 78/100\n",
      "\u001b[1m236/236\u001b[0m \u001b[32m━━━━━━━━━━━━━━━━━━━━\u001b[0m\u001b[37m\u001b[0m \u001b[1m68s\u001b[0m 287ms/step - accuracy: 0.8024 - f1_score: 0.7940 - loss: 0.5516 - precision: 0.8589 - recall: 0.7383 - val_accuracy: 0.8362 - val_f1_score: 0.8332 - val_loss: 0.4567 - val_precision: 0.8781 - val_recall: 0.7928\n",
      "Epoch 79/100\n",
      "\u001b[1m236/236\u001b[0m \u001b[32m━━━━━━━━━━━━━━━━━━━━\u001b[0m\u001b[37m\u001b[0m \u001b[1m67s\u001b[0m 285ms/step - accuracy: 0.7769 - f1_score: 0.7795 - loss: 0.5822 - precision: 0.8421 - recall: 0.7255 - val_accuracy: 0.8350 - val_f1_score: 0.8327 - val_loss: 0.4571 - val_precision: 0.8854 - val_recall: 0.7858\n",
      "Epoch 80/100\n",
      "\u001b[1m236/236\u001b[0m \u001b[32m━━━━━━━━━━━━━━━━━━━━\u001b[0m\u001b[37m\u001b[0m \u001b[1m67s\u001b[0m 285ms/step - accuracy: 0.7978 - f1_score: 0.7946 - loss: 0.5419 - precision: 0.8532 - recall: 0.7435 - val_accuracy: 0.8147 - val_f1_score: 0.8155 - val_loss: 0.4989 - val_precision: 0.8656 - val_recall: 0.7710\n",
      "Epoch 81/100\n",
      "\u001b[1m236/236\u001b[0m \u001b[32m━━━━━━━━━━━━━━━━━━━━\u001b[0m\u001b[37m\u001b[0m \u001b[1m68s\u001b[0m 289ms/step - accuracy: 0.8077 - f1_score: 0.8061 - loss: 0.5291 - precision: 0.8648 - recall: 0.7550 - val_accuracy: 0.8290 - val_f1_score: 0.8267 - val_loss: 0.4757 - val_precision: 0.8721 - val_recall: 0.7858\n",
      "Epoch 82/100\n",
      "\u001b[1m236/236\u001b[0m \u001b[32m━━━━━━━━━━━━━━━━━━━━\u001b[0m\u001b[37m\u001b[0m \u001b[1m68s\u001b[0m 290ms/step - accuracy: 0.8104 - f1_score: 0.8047 - loss: 0.5335 - precision: 0.8634 - recall: 0.7535 - val_accuracy: 0.8243 - val_f1_score: 0.8235 - val_loss: 0.4742 - val_precision: 0.8695 - val_recall: 0.7821\n",
      "Epoch 83/100\n",
      "\u001b[1m236/236\u001b[0m \u001b[32m━━━━━━━━━━━━━━━━━━━━\u001b[0m\u001b[37m\u001b[0m \u001b[1m69s\u001b[0m 292ms/step - accuracy: 0.8010 - f1_score: 0.7967 - loss: 0.5431 - precision: 0.8560 - recall: 0.7451 - val_accuracy: 0.8425 - val_f1_score: 0.8419 - val_loss: 0.4432 - val_precision: 0.8995 - val_recall: 0.7913\n",
      "Epoch 84/100\n",
      "\u001b[1m236/236\u001b[0m \u001b[32m━━━━━━━━━━━━━━━━━━━━\u001b[0m\u001b[37m\u001b[0m \u001b[1m69s\u001b[0m 291ms/step - accuracy: 0.8153 - f1_score: 0.8059 - loss: 0.5106 - precision: 0.8611 - recall: 0.7574 - val_accuracy: 0.8354 - val_f1_score: 0.8270 - val_loss: 0.4765 - val_precision: 0.8778 - val_recall: 0.7817\n",
      "Epoch 85/100\n",
      "\u001b[1m236/236\u001b[0m \u001b[32m━━━━━━━━━━━━━━━━━━━━\u001b[0m\u001b[37m\u001b[0m \u001b[1m69s\u001b[0m 294ms/step - accuracy: 0.8150 - f1_score: 0.8097 - loss: 0.5248 - precision: 0.8641 - recall: 0.7617 - val_accuracy: 0.8472 - val_f1_score: 0.8466 - val_loss: 0.4364 - val_precision: 0.8975 - val_recall: 0.8011\n",
      "Epoch 86/100\n",
      "\u001b[1m236/236\u001b[0m \u001b[32m━━━━━━━━━━━━━━━━━━━━\u001b[0m\u001b[37m\u001b[0m \u001b[1m69s\u001b[0m 291ms/step - accuracy: 0.8247 - f1_score: 0.8149 - loss: 0.4974 - precision: 0.8675 - recall: 0.7684 - val_accuracy: 0.8513 - val_f1_score: 0.8469 - val_loss: 0.4235 - val_precision: 0.8976 - val_recall: 0.8016\n",
      "Epoch 87/100\n",
      "\u001b[1m236/236\u001b[0m \u001b[32m━━━━━━━━━━━━━━━━━━━━\u001b[0m\u001b[37m\u001b[0m \u001b[1m69s\u001b[0m 294ms/step - accuracy: 0.8090 - f1_score: 0.8089 - loss: 0.5098 - precision: 0.8626 - recall: 0.7616 - val_accuracy: 0.8513 - val_f1_score: 0.8436 - val_loss: 0.4367 - val_precision: 0.9008 - val_recall: 0.7933\n",
      "Epoch 88/100\n",
      "\u001b[1m236/236\u001b[0m \u001b[32m━━━━━━━━━━━━━━━━━━━━\u001b[0m\u001b[37m\u001b[0m \u001b[1m68s\u001b[0m 290ms/step - accuracy: 0.8203 - f1_score: 0.8183 - loss: 0.5181 - precision: 0.8736 - recall: 0.7696 - val_accuracy: 0.8557 - val_f1_score: 0.8544 - val_loss: 0.4135 - val_precision: 0.9042 - val_recall: 0.8097\n",
      "Epoch 89/100\n",
      "\u001b[1m236/236\u001b[0m \u001b[32m━━━━━━━━━━━━━━━━━━━━\u001b[0m\u001b[37m\u001b[0m \u001b[1m70s\u001b[0m 296ms/step - accuracy: 0.8202 - f1_score: 0.8174 - loss: 0.5178 - precision: 0.8728 - recall: 0.7686 - val_accuracy: 0.8400 - val_f1_score: 0.8357 - val_loss: 0.4427 - val_precision: 0.8906 - val_recall: 0.7872\n",
      "Epoch 90/100\n",
      "\u001b[1m236/236\u001b[0m \u001b[32m━━━━━━━━━━━━━━━━━━━━\u001b[0m\u001b[37m\u001b[0m \u001b[1m69s\u001b[0m 292ms/step - accuracy: 0.8195 - f1_score: 0.8153 - loss: 0.5075 - precision: 0.8658 - recall: 0.7704 - val_accuracy: 0.8534 - val_f1_score: 0.8489 - val_loss: 0.4283 - val_precision: 0.9054 - val_recall: 0.7991\n",
      "Epoch 91/100\n",
      "\u001b[1m236/236\u001b[0m \u001b[32m━━━━━━━━━━━━━━━━━━━━\u001b[0m\u001b[37m\u001b[0m \u001b[1m68s\u001b[0m 288ms/step - accuracy: 0.8114 - f1_score: 0.8073 - loss: 0.5164 - precision: 0.8591 - recall: 0.7615 - val_accuracy: 0.8445 - val_f1_score: 0.8415 - val_loss: 0.4461 - val_precision: 0.8984 - val_recall: 0.7913\n",
      "Epoch 92/100\n",
      "\u001b[1m236/236\u001b[0m \u001b[32m━━━━━━━━━━━━━━━━━━━━\u001b[0m\u001b[37m\u001b[0m \u001b[1m70s\u001b[0m 297ms/step - accuracy: 0.8198 - f1_score: 0.8125 - loss: 0.4937 - precision: 0.8633 - recall: 0.7673 - val_accuracy: 0.8463 - val_f1_score: 0.8425 - val_loss: 0.4412 - val_precision: 0.8926 - val_recall: 0.7977\n",
      "Epoch 93/100\n",
      "\u001b[1m236/236\u001b[0m \u001b[32m━━━━━━━━━━━━━━━━━━━━\u001b[0m\u001b[37m\u001b[0m \u001b[1m69s\u001b[0m 294ms/step - accuracy: 0.8158 - f1_score: 0.8095 - loss: 0.5184 - precision: 0.8642 - recall: 0.7613 - val_accuracy: 0.8461 - val_f1_score: 0.8451 - val_loss: 0.4248 - val_precision: 0.8917 - val_recall: 0.8032\n",
      "Epoch 94/100\n",
      "\u001b[1m236/236\u001b[0m \u001b[32m━━━━━━━━━━━━━━━━━━━━\u001b[0m\u001b[37m\u001b[0m \u001b[1m71s\u001b[0m 300ms/step - accuracy: 0.8181 - f1_score: 0.8120 - loss: 0.5050 - precision: 0.8659 - recall: 0.7643 - val_accuracy: 0.8471 - val_f1_score: 0.8426 - val_loss: 0.4264 - val_precision: 0.8836 - val_recall: 0.8052\n",
      "Epoch 95/100\n",
      "\u001b[1m236/236\u001b[0m \u001b[32m━━━━━━━━━━━━━━━━━━━━\u001b[0m\u001b[37m\u001b[0m \u001b[1m70s\u001b[0m 296ms/step - accuracy: 0.8174 - f1_score: 0.8142 - loss: 0.4910 - precision: 0.8623 - recall: 0.7713 - val_accuracy: 0.8475 - val_f1_score: 0.8459 - val_loss: 0.4290 - val_precision: 0.8865 - val_recall: 0.8088\n",
      "Epoch 96/100\n",
      "\u001b[1m236/236\u001b[0m \u001b[32m━━━━━━━━━━━━━━━━━━━━\u001b[0m\u001b[37m\u001b[0m \u001b[1m71s\u001b[0m 302ms/step - accuracy: 0.8136 - f1_score: 0.8119 - loss: 0.5163 - precision: 0.8643 - recall: 0.7656 - val_accuracy: 0.8508 - val_f1_score: 0.8470 - val_loss: 0.4212 - val_precision: 0.8918 - val_recall: 0.8066\n",
      "Epoch 97/100\n",
      "\u001b[1m236/236\u001b[0m \u001b[32m━━━━━━━━━━━━━━━━━━━━\u001b[0m\u001b[37m\u001b[0m \u001b[1m70s\u001b[0m 297ms/step - accuracy: 0.8235 - f1_score: 0.8203 - loss: 0.4978 - precision: 0.8703 - recall: 0.7757 - val_accuracy: 0.8456 - val_f1_score: 0.8478 - val_loss: 0.4208 - val_precision: 0.8877 - val_recall: 0.8113\n",
      "Epoch 98/100\n",
      "\u001b[1m236/236\u001b[0m \u001b[32m━━━━━━━━━━━━━━━━━━━━\u001b[0m\u001b[37m\u001b[0m \u001b[1m70s\u001b[0m 299ms/step - accuracy: 0.8272 - f1_score: 0.8260 - loss: 0.4800 - precision: 0.8789 - recall: 0.7792 - val_accuracy: 0.8570 - val_f1_score: 0.8562 - val_loss: 0.3960 - val_precision: 0.8956 - val_recall: 0.8201\n",
      "Epoch 99/100\n",
      "\u001b[1m236/236\u001b[0m \u001b[32m━━━━━━━━━━━━━━━━━━━━\u001b[0m\u001b[37m\u001b[0m \u001b[1m71s\u001b[0m 300ms/step - accuracy: 0.8289 - f1_score: 0.8279 - loss: 0.4772 - precision: 0.8743 - recall: 0.7861 - val_accuracy: 0.8476 - val_f1_score: 0.8449 - val_loss: 0.4222 - val_precision: 0.8928 - val_recall: 0.8019\n",
      "Epoch 100/100\n",
      "\u001b[1m236/236\u001b[0m \u001b[32m━━━━━━━━━━━━━━━━━━━━\u001b[0m\u001b[37m\u001b[0m \u001b[1m70s\u001b[0m 296ms/step - accuracy: 0.8367 - f1_score: 0.8309 - loss: 0.4624 - precision: 0.8815 - recall: 0.7858 - val_accuracy: 0.8489 - val_f1_score: 0.8453 - val_loss: 0.4268 - val_precision: 0.8923 - val_recall: 0.8030\n"
     ]
    }
   ],
   "source": [
    "# Train the model\n",
    "history = gru_model.fit(\n",
    "    x=training_set,\n",
    "    validation_data=validation_set,\n",
    "    epochs=100\n",
    ")"
   ]
  },
  {
   "cell_type": "code",
   "execution_count": 11,
   "id": "dc507cbd-4783-4072-b4be-4ffeaef202f4",
   "metadata": {},
   "outputs": [],
   "source": [
    "# Save Loss plot\n",
    "plt.figure()\n",
    "plt.plot(history.history['loss'], label='Train Loss')\n",
    "plt.plot(history.history['val_loss'], label='Validation Loss')\n",
    "plt.legend()\n",
    "plt.title(\"Loss\")\n",
    "plt.xlabel('Epochs')\n",
    "plt.ylabel('Loss')\n",
    "plt.savefig('loss_plot_gru.png')  # Save the plot as a PNG file\n",
    "plt.close()\n",
    "\n",
    "# Save Accuracy plot\n",
    "plt.figure()\n",
    "plt.plot(history.history['accuracy'], label='Train Accuracy')\n",
    "plt.plot(history.history['val_accuracy'], label='Validation Accuracy')\n",
    "plt.legend()\n",
    "plt.title(\"Accuracy\")\n",
    "plt.xlabel('Epochs')\n",
    "plt.ylabel('Accuracy')\n",
    "plt.savefig('accuracy_plot_gru.png')  # Save the plot as a PNG file\n",
    "plt.close()\n",
    "\n",
    "# Save Precision plot\n",
    "plt.figure()\n",
    "plt.plot(history.history['precision'], label='Train Precision')\n",
    "plt.plot(history.history['val_precision'], label='Validation Precision')\n",
    "plt.legend()\n",
    "plt.title(\"Precision\")\n",
    "plt.xlabel('Epochs')\n",
    "plt.ylabel('Precision')\n",
    "plt.savefig('precision_plot_gru.png')  # Save the plot as a PNG file\n",
    "plt.close()\n",
    "\n",
    "# Save Recall plot\n",
    "plt.figure()\n",
    "plt.plot(history.history['recall'], label='Train Recall')\n",
    "plt.plot(history.history['val_recall'], label='Validation Recall')\n",
    "plt.legend()\n",
    "plt.title(\"Recall\")\n",
    "plt.xlabel('Epochs')\n",
    "plt.ylabel('Recall')\n",
    "plt.savefig('recall_plot_gru.png')  # Save the plot as a PNG file\n",
    "plt.close()\n",
    "\n",
    "# Save F1 Score plot\n",
    "plt.figure()\n",
    "plt.plot(history.history['f1_score'], label='Train F1 Score')\n",
    "plt.plot(history.history['val_f1_score'], label='Validation F1 Score')\n",
    "plt.legend()\n",
    "plt.title(\"F1 Score\")\n",
    "plt.xlabel('Epochs')\n",
    "plt.ylabel('F1 Score')\n",
    "plt.savefig('f1_score_plot_gru.png')  # Save the plot as a PNG file\n",
    "plt.close()\n"
   ]
  },
  {
   "cell_type": "code",
   "execution_count": 12,
   "id": "3f1207db-a6c8-4603-8216-f849b8751507",
   "metadata": {},
   "outputs": [
    {
     "data": {
      "text/html": [
       "<pre style=\"white-space:pre;overflow-x:auto;line-height:normal;font-family:Menlo,'DejaVu Sans Mono',consolas,'Courier New',monospace\"><span style=\"font-weight: bold\">Model: \"sequential\"</span>\n",
       "</pre>\n"
      ],
      "text/plain": [
       "\u001b[1mModel: \"sequential\"\u001b[0m\n"
      ]
     },
     "metadata": {},
     "output_type": "display_data"
    },
    {
     "data": {
      "text/html": [
       "<pre style=\"white-space:pre;overflow-x:auto;line-height:normal;font-family:Menlo,'DejaVu Sans Mono',consolas,'Courier New',monospace\">┏━━━━━━━━━━━━━━━━━━━━━━━━━━━━━━━━━━━━━━┳━━━━━━━━━━━━━━━━━━━━━━━━━━━━━┳━━━━━━━━━━━━━━━━━┓\n",
       "┃<span style=\"font-weight: bold\"> Layer (type)                         </span>┃<span style=\"font-weight: bold\"> Output Shape                </span>┃<span style=\"font-weight: bold\">         Param # </span>┃\n",
       "┡━━━━━━━━━━━━━━━━━━━━━━━━━━━━━━━━━━━━━━╇━━━━━━━━━━━━━━━━━━━━━━━━━━━━━╇━━━━━━━━━━━━━━━━━┩\n",
       "│ flatten (<span style=\"color: #0087ff; text-decoration-color: #0087ff\">Flatten</span>)                    │ (<span style=\"color: #00d7ff; text-decoration-color: #00d7ff\">None</span>, <span style=\"color: #00af00; text-decoration-color: #00af00\">12288</span>)               │               <span style=\"color: #00af00; text-decoration-color: #00af00\">0</span> │\n",
       "├──────────────────────────────────────┼─────────────────────────────┼─────────────────┤\n",
       "│ reshape (<span style=\"color: #0087ff; text-decoration-color: #0087ff\">Reshape</span>)                    │ (<span style=\"color: #00d7ff; text-decoration-color: #00d7ff\">None</span>, <span style=\"color: #00af00; text-decoration-color: #00af00\">16</span>, <span style=\"color: #00af00; text-decoration-color: #00af00\">768</span>)             │               <span style=\"color: #00af00; text-decoration-color: #00af00\">0</span> │\n",
       "├──────────────────────────────────────┼─────────────────────────────┼─────────────────┤\n",
       "│ gru (<span style=\"color: #0087ff; text-decoration-color: #0087ff\">GRU</span>)                            │ (<span style=\"color: #00d7ff; text-decoration-color: #00d7ff\">None</span>, <span style=\"color: #00af00; text-decoration-color: #00af00\">64</span>)                  │         <span style=\"color: #00af00; text-decoration-color: #00af00\">160,128</span> │\n",
       "├──────────────────────────────────────┼─────────────────────────────┼─────────────────┤\n",
       "│ dense (<span style=\"color: #0087ff; text-decoration-color: #0087ff\">Dense</span>)                        │ (<span style=\"color: #00d7ff; text-decoration-color: #00d7ff\">None</span>, <span style=\"color: #00af00; text-decoration-color: #00af00\">128</span>)                 │           <span style=\"color: #00af00; text-decoration-color: #00af00\">8,320</span> │\n",
       "├──────────────────────────────────────┼─────────────────────────────┼─────────────────┤\n",
       "│ dense_1 (<span style=\"color: #0087ff; text-decoration-color: #0087ff\">Dense</span>)                      │ (<span style=\"color: #00d7ff; text-decoration-color: #00d7ff\">None</span>, <span style=\"color: #00af00; text-decoration-color: #00af00\">6</span>)                   │             <span style=\"color: #00af00; text-decoration-color: #00af00\">774</span> │\n",
       "└──────────────────────────────────────┴─────────────────────────────┴─────────────────┘\n",
       "</pre>\n"
      ],
      "text/plain": [
       "┏━━━━━━━━━━━━━━━━━━━━━━━━━━━━━━━━━━━━━━┳━━━━━━━━━━━━━━━━━━━━━━━━━━━━━┳━━━━━━━━━━━━━━━━━┓\n",
       "┃\u001b[1m \u001b[0m\u001b[1mLayer (type)                        \u001b[0m\u001b[1m \u001b[0m┃\u001b[1m \u001b[0m\u001b[1mOutput Shape               \u001b[0m\u001b[1m \u001b[0m┃\u001b[1m \u001b[0m\u001b[1m        Param #\u001b[0m\u001b[1m \u001b[0m┃\n",
       "┡━━━━━━━━━━━━━━━━━━━━━━━━━━━━━━━━━━━━━━╇━━━━━━━━━━━━━━━━━━━━━━━━━━━━━╇━━━━━━━━━━━━━━━━━┩\n",
       "│ flatten (\u001b[38;5;33mFlatten\u001b[0m)                    │ (\u001b[38;5;45mNone\u001b[0m, \u001b[38;5;34m12288\u001b[0m)               │               \u001b[38;5;34m0\u001b[0m │\n",
       "├──────────────────────────────────────┼─────────────────────────────┼─────────────────┤\n",
       "│ reshape (\u001b[38;5;33mReshape\u001b[0m)                    │ (\u001b[38;5;45mNone\u001b[0m, \u001b[38;5;34m16\u001b[0m, \u001b[38;5;34m768\u001b[0m)             │               \u001b[38;5;34m0\u001b[0m │\n",
       "├──────────────────────────────────────┼─────────────────────────────┼─────────────────┤\n",
       "│ gru (\u001b[38;5;33mGRU\u001b[0m)                            │ (\u001b[38;5;45mNone\u001b[0m, \u001b[38;5;34m64\u001b[0m)                  │         \u001b[38;5;34m160,128\u001b[0m │\n",
       "├──────────────────────────────────────┼─────────────────────────────┼─────────────────┤\n",
       "│ dense (\u001b[38;5;33mDense\u001b[0m)                        │ (\u001b[38;5;45mNone\u001b[0m, \u001b[38;5;34m128\u001b[0m)                 │           \u001b[38;5;34m8,320\u001b[0m │\n",
       "├──────────────────────────────────────┼─────────────────────────────┼─────────────────┤\n",
       "│ dense_1 (\u001b[38;5;33mDense\u001b[0m)                      │ (\u001b[38;5;45mNone\u001b[0m, \u001b[38;5;34m6\u001b[0m)                   │             \u001b[38;5;34m774\u001b[0m │\n",
       "└──────────────────────────────────────┴─────────────────────────────┴─────────────────┘\n"
      ]
     },
     "metadata": {},
     "output_type": "display_data"
    },
    {
     "data": {
      "text/html": [
       "<pre style=\"white-space:pre;overflow-x:auto;line-height:normal;font-family:Menlo,'DejaVu Sans Mono',consolas,'Courier New',monospace\"><span style=\"font-weight: bold\"> Total params: </span><span style=\"color: #00af00; text-decoration-color: #00af00\">507,668</span> (1.94 MB)\n",
       "</pre>\n"
      ],
      "text/plain": [
       "\u001b[1m Total params: \u001b[0m\u001b[38;5;34m507,668\u001b[0m (1.94 MB)\n"
      ]
     },
     "metadata": {},
     "output_type": "display_data"
    },
    {
     "data": {
      "text/html": [
       "<pre style=\"white-space:pre;overflow-x:auto;line-height:normal;font-family:Menlo,'DejaVu Sans Mono',consolas,'Courier New',monospace\"><span style=\"font-weight: bold\"> Trainable params: </span><span style=\"color: #00af00; text-decoration-color: #00af00\">169,222</span> (661.02 KB)\n",
       "</pre>\n"
      ],
      "text/plain": [
       "\u001b[1m Trainable params: \u001b[0m\u001b[38;5;34m169,222\u001b[0m (661.02 KB)\n"
      ]
     },
     "metadata": {},
     "output_type": "display_data"
    },
    {
     "data": {
      "text/html": [
       "<pre style=\"white-space:pre;overflow-x:auto;line-height:normal;font-family:Menlo,'DejaVu Sans Mono',consolas,'Courier New',monospace\"><span style=\"font-weight: bold\"> Non-trainable params: </span><span style=\"color: #00af00; text-decoration-color: #00af00\">0</span> (0.00 B)\n",
       "</pre>\n"
      ],
      "text/plain": [
       "\u001b[1m Non-trainable params: \u001b[0m\u001b[38;5;34m0\u001b[0m (0.00 B)\n"
      ]
     },
     "metadata": {},
     "output_type": "display_data"
    },
    {
     "data": {
      "text/html": [
       "<pre style=\"white-space:pre;overflow-x:auto;line-height:normal;font-family:Menlo,'DejaVu Sans Mono',consolas,'Courier New',monospace\"><span style=\"font-weight: bold\"> Optimizer params: </span><span style=\"color: #00af00; text-decoration-color: #00af00\">338,446</span> (1.29 MB)\n",
       "</pre>\n"
      ],
      "text/plain": [
       "\u001b[1m Optimizer params: \u001b[0m\u001b[38;5;34m338,446\u001b[0m (1.29 MB)\n"
      ]
     },
     "metadata": {},
     "output_type": "display_data"
    }
   ],
   "source": [
    "gru_model.summary()"
   ]
  },
  {
   "cell_type": "code",
   "execution_count": null,
   "id": "a63aa302-3896-49f0-b43b-d319ff0958af",
   "metadata": {},
   "outputs": [],
   "source": []
  }
 ],
 "metadata": {
  "kernelspec": {
   "display_name": "Python 3 (ipykernel)",
   "language": "python",
   "name": "python3"
  },
  "language_info": {
   "codemirror_mode": {
    "name": "ipython",
    "version": 3
   },
   "file_extension": ".py",
   "mimetype": "text/x-python",
   "name": "python",
   "nbconvert_exporter": "python",
   "pygments_lexer": "ipython3",
   "version": "3.12.2"
  }
 },
 "nbformat": 4,
 "nbformat_minor": 5
}
